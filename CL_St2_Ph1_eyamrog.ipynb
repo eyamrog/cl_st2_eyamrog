{
 "cells": [
  {
   "cell_type": "markdown",
   "id": "810d9f10-ec19-4b09-8f90-e983e460b319",
   "metadata": {},
   "source": [
    "<center>\n",
    "<img src=\"https://laelgelcpublic.s3.sa-east-1.amazonaws.com/lael_50_years_narrow_white.png.no_years.400px_96dpi.png\" width=\"300\" alt=\"LAEL 50 years logo\">\n",
    "<h3>APPLIED LINGUISTICS GRADUATE PROGRAMME (LAEL)</h3>\n",
    "</center>\n",
    "<hr>"
   ]
  },
  {
   "cell_type": "markdown",
   "id": "888c2c96-2fc3-4a1a-995b-c388036a2a15",
   "metadata": {},
   "source": [
    "# Corpus Linguistics - Study 2 - Phase 1 - eyamrog"
   ]
  },
  {
   "cell_type": "markdown",
   "id": "c2b2a221-54af-4c1c-a7fd-c80cda278dcc",
   "metadata": {},
   "source": [
    "The aim of this phase is to web scrape the archive of mainstream journals in the areas of knowledge targeted in this study."
   ]
  },
  {
   "cell_type": "markdown",
   "id": "a685d8b0-7715-45a6-9489-2d3db9b346c8",
   "metadata": {},
   "source": [
    "## Required Python packages"
   ]
  },
  {
   "cell_type": "markdown",
   "id": "b526a82b-22a6-4d28-afa2-eb6e7bcca4fb",
   "metadata": {},
   "source": [
    "- beautifulsoup4\n",
    "- lxml\n",
    "- pandas\n",
    "- requests\n",
    "- selenium\n",
    "- tqdm"
   ]
  },
  {
   "cell_type": "markdown",
   "id": "aa922755-c4d6-4008-9aad-d35e33b18ed7",
   "metadata": {},
   "source": [
    "## Importing the required libraries"
   ]
  },
  {
   "cell_type": "code",
   "execution_count": 1,
   "id": "182dbbab-65ee-4695-a418-3e9d9d8599e8",
   "metadata": {},
   "outputs": [],
   "source": [
    "import requests\n",
    "from bs4 import BeautifulSoup\n",
    "import re\n",
    "import pandas as pd\n",
    "import os\n",
    "import sys\n",
    "import time\n",
    "from tqdm import tqdm\n",
    "from selenium import webdriver\n",
    "from selenium.webdriver.edge.service import Service\n",
    "from selenium.webdriver.common.by import By\n",
    "from selenium.webdriver.support.ui import WebDriverWait\n",
    "from selenium.webdriver.support import expected_conditions as EC"
   ]
  },
  {
   "cell_type": "markdown",
   "id": "ef3ad412-2346-43d3-8607-08705487f1b2",
   "metadata": {},
   "source": [
    "## Defining input variables"
   ]
  },
  {
   "cell_type": "code",
   "execution_count": 2,
   "id": "a7657874-dc0a-4a7b-ae4b-bb3ca3fd7fa0",
   "metadata": {},
   "outputs": [],
   "source": [
    "input_directory = 'cl_st2_input_eyamrog'\n",
    "output_directory = 'cl_st2_ph1_eyamrog'"
   ]
  },
  {
   "cell_type": "markdown",
   "id": "d32b4a24-8a37-4302-9c3e-790aa6dee914",
   "metadata": {},
   "source": [
    "## Creating output directory"
   ]
  },
  {
   "cell_type": "code",
   "execution_count": 3,
   "id": "5dce68e3-44e7-4a7e-bc25-73c21ca6fbcb",
   "metadata": {},
   "outputs": [
    {
     "name": "stdout",
     "output_type": "stream",
     "text": [
      "Output directory already exists.\n"
     ]
    }
   ],
   "source": [
    "# Check if the output directory already exists. If it does, do nothing. If it doesn't exist, create it.\n",
    "if os.path.exists(output_directory):\n",
    "    print('Output directory already exists.')\n",
    "else:\n",
    "    try:\n",
    "        os.makedirs(output_directory)\n",
    "        print('Output directory successfully created.')\n",
    "    except OSError as e:\n",
    "        print('Failed to create the directory:', e)\n",
    "        sys.exit(1)"
   ]
  },
  {
   "cell_type": "markdown",
   "id": "6b8c5274-7933-44ef-a148-d1aece85cf52",
   "metadata": {},
   "source": [
    "## Inspecting the articles of the `chatgpt_erpp_pp` corpus per area of knowledge"
   ]
  },
  {
   "cell_type": "markdown",
   "id": "572549d6-3221-4fb7-916b-b3e78c2851f4",
   "metadata": {},
   "source": [
    "### Importing the data into a DataFrame"
   ]
  },
  {
   "cell_type": "code",
   "execution_count": 4,
   "id": "bb7c9f4b-6de3-48ae-a018-646361dbb8a2",
   "metadata": {},
   "outputs": [],
   "source": [
    "df_scielo_preprint_preChatGPT_en = pd.read_json(f'{input_directory}/scielo_chatgpt_erpp_pp.jsonl', lines=True)"
   ]
  },
  {
   "cell_type": "code",
   "execution_count": 5,
   "id": "52711d2e-da1e-4b6e-90e5-3c108a038e44",
   "metadata": {},
   "outputs": [
    {
     "data": {
      "text/plain": [
       "Title                    object\n",
       "URL                      object\n",
       "Authors                  object\n",
       "Published                object\n",
       "PDF Language             object\n",
       "PDF URL                  object\n",
       "Submitted                 int64\n",
       "Posted                    int64\n",
       "Text                     object\n",
       "Text ID                  object\n",
       "Area of Knowledge        object\n",
       "Text Paragraphs          object\n",
       "Text Paragraphs Count     int64\n",
       "Text ChatGPT             object\n",
       "dtype: object"
      ]
     },
     "execution_count": 5,
     "metadata": {},
     "output_type": "execute_result"
    }
   ],
   "source": [
    "df_scielo_preprint_preChatGPT_en.dtypes"
   ]
  },
  {
   "cell_type": "code",
   "execution_count": 6,
   "id": "f5d59024-5240-42a8-a3e2-5b741d78d505",
   "metadata": {},
   "outputs": [],
   "source": [
    "df_scielo_preprint_preChatGPT_en['Submitted'] = pd.to_datetime(df_scielo_preprint_preChatGPT_en['Submitted'], unit='ms')\n",
    "df_scielo_preprint_preChatGPT_en['Posted'] = pd.to_datetime(df_scielo_preprint_preChatGPT_en['Posted'], unit='ms')"
   ]
  },
  {
   "cell_type": "code",
   "execution_count": 7,
   "id": "c324b187-92fa-4101-bdd9-b99170fb75b5",
   "metadata": {},
   "outputs": [
    {
     "data": {
      "text/html": [
       "<div>\n",
       "<style scoped>\n",
       "    .dataframe tbody tr th:only-of-type {\n",
       "        vertical-align: middle;\n",
       "    }\n",
       "\n",
       "    .dataframe tbody tr th {\n",
       "        vertical-align: top;\n",
       "    }\n",
       "\n",
       "    .dataframe thead th {\n",
       "        text-align: right;\n",
       "    }\n",
       "</style>\n",
       "<table border=\"1\" class=\"dataframe\">\n",
       "  <thead>\n",
       "    <tr style=\"text-align: right;\">\n",
       "      <th></th>\n",
       "      <th>Title</th>\n",
       "      <th>URL</th>\n",
       "      <th>Authors</th>\n",
       "      <th>Published</th>\n",
       "      <th>PDF Language</th>\n",
       "      <th>PDF URL</th>\n",
       "      <th>Submitted</th>\n",
       "      <th>Posted</th>\n",
       "      <th>Text</th>\n",
       "      <th>Text ID</th>\n",
       "      <th>Area of Knowledge</th>\n",
       "      <th>Text Paragraphs</th>\n",
       "      <th>Text Paragraphs Count</th>\n",
       "      <th>Text ChatGPT</th>\n",
       "    </tr>\n",
       "  </thead>\n",
       "  <tbody>\n",
       "    <tr>\n",
       "      <th>0</th>\n",
       "      <td>(Fern flora of Viçosa, Minas Gerais State, Bra...</td>\n",
       "      <td>https://preprints.scielo.org/index.php/scielo/...</td>\n",
       "      <td>Nelson Túlio Lage Pena, Pedro Bond Schwartsburd</td>\n",
       "      <td>Submitted 11/22/2022 - Posted 11/23/2022</td>\n",
       "      <td>PDF</td>\n",
       "      <td>https://preprints.scielo.org/index.php/scielo/...</td>\n",
       "      <td>2022-11-22</td>\n",
       "      <td>2022-11-23</td>\n",
       "      <td>Publication status: Preprint has been publishe...</td>\n",
       "      <td>t000000</td>\n",
       "      <td>Biological Sciences</td>\n",
       "      <td>(Fern flora of Viçosa, Minas Gerais State, Bra...</td>\n",
       "      <td>29</td>\n",
       "      <td>In this research article focusing on the fern ...</td>\n",
       "    </tr>\n",
       "    <tr>\n",
       "      <th>1</th>\n",
       "      <td>Assembling the perfect bacterial genome using ...</td>\n",
       "      <td>https://preprints.scielo.org/index.php/scielo/...</td>\n",
       "      <td>Ryan R. Wick, Louise M. Judd, Kathryn E. Holt</td>\n",
       "      <td>Submitted 11/11/2022 - Posted 11/11/2022</td>\n",
       "      <td>PDF</td>\n",
       "      <td>https://preprints.scielo.org/index.php/scielo/...</td>\n",
       "      <td>2022-11-11</td>\n",
       "      <td>2022-11-11</td>\n",
       "      <td>Publication status: Preprint has been publishe...</td>\n",
       "      <td>t000001</td>\n",
       "      <td>Biological Sciences</td>\n",
       "      <td>A perfect bacterial genome assembly is one whe...</td>\n",
       "      <td>31</td>\n",
       "      <td>A flawless bacterial genome assembly is charac...</td>\n",
       "    </tr>\n",
       "    <tr>\n",
       "      <th>2</th>\n",
       "      <td>ON METHODOLOGY AND METHODS FOR ANALYSING CLASS...</td>\n",
       "      <td>https://preprints.scielo.org/index.php/scielo/...</td>\n",
       "      <td>Leonardo Goncalves Lago</td>\n",
       "      <td>Submitted 11/10/2022 - Posted 11/16/2022</td>\n",
       "      <td>PDF</td>\n",
       "      <td>https://preprints.scielo.org/index.php/scielo/...</td>\n",
       "      <td>2022-11-10</td>\n",
       "      <td>2022-11-16</td>\n",
       "      <td>Publication status: Preprint has been publishe...</td>\n",
       "      <td>t000002</td>\n",
       "      <td>Applied Social Sciences</td>\n",
       "      <td>This article presents a theoretical work whose...</td>\n",
       "      <td>65</td>\n",
       "      <td>This article presents a theoretical work with ...</td>\n",
       "    </tr>\n",
       "    <tr>\n",
       "      <th>3</th>\n",
       "      <td>MOBILIZING LINGUISTIC AND SEMIOTIC RESOURCES, ...</td>\n",
       "      <td>https://preprints.scielo.org/index.php/scielo/...</td>\n",
       "      <td>Estêvão Cabral, Marylin Martin-Jones</td>\n",
       "      <td>Submitted 11/07/2022 - Posted 11/07/2022</td>\n",
       "      <td>PDF</td>\n",
       "      <td>https://preprints.scielo.org/index.php/scielo/...</td>\n",
       "      <td>2022-11-07</td>\n",
       "      <td>2022-11-07</td>\n",
       "      <td>Publication status: Preprint has been submitte...</td>\n",
       "      <td>t000003</td>\n",
       "      <td>Linguistic, literature and arts</td>\n",
       "      <td>This paper is based on research of a socioling...</td>\n",
       "      <td>58</td>\n",
       "      <td>This paper presents a sociolinguistic and ethn...</td>\n",
       "    </tr>\n",
       "    <tr>\n",
       "      <th>4</th>\n",
       "      <td>PORTUGUESE AO PÉ DO BERIMBAU: ON CAPOEIRA AS A...</td>\n",
       "      <td>https://preprints.scielo.org/index.php/scielo/...</td>\n",
       "      <td>Mike Baynham, Jolana Hanusova</td>\n",
       "      <td>Submitted 11/04/2022 - Posted 11/04/2022</td>\n",
       "      <td>PDF</td>\n",
       "      <td>https://preprints.scielo.org/index.php/scielo/...</td>\n",
       "      <td>2022-11-04</td>\n",
       "      <td>2022-11-04</td>\n",
       "      <td>Publication status: Preprint has been submitte...</td>\n",
       "      <td>t000004</td>\n",
       "      <td>Linguistic, literature and arts</td>\n",
       "      <td>From its historical origins as a resistant and...</td>\n",
       "      <td>123</td>\n",
       "      <td>Originating as a defiant and violently suppres...</td>\n",
       "    </tr>\n",
       "    <tr>\n",
       "      <th>...</th>\n",
       "      <td>...</td>\n",
       "      <td>...</td>\n",
       "      <td>...</td>\n",
       "      <td>...</td>\n",
       "      <td>...</td>\n",
       "      <td>...</td>\n",
       "      <td>...</td>\n",
       "      <td>...</td>\n",
       "      <td>...</td>\n",
       "      <td>...</td>\n",
       "      <td>...</td>\n",
       "      <td>...</td>\n",
       "      <td>...</td>\n",
       "      <td>...</td>\n",
       "    </tr>\n",
       "    <tr>\n",
       "      <th>311</th>\n",
       "      <td>Challenges in the fight against the COVID-19 p...</td>\n",
       "      <td>https://preprints.scielo.org/index.php/scielo/...</td>\n",
       "      <td>Eduardo Alexandrino Servolo Medeiros</td>\n",
       "      <td>Submitted 04/15/2020 - Posted 04/15/2020</td>\n",
       "      <td>PDF</td>\n",
       "      <td>https://preprints.scielo.org/index.php/scielo/...</td>\n",
       "      <td>2020-04-15</td>\n",
       "      <td>2020-04-15</td>\n",
       "      <td>*Corresponding author. E-mail: edubalaccih@gma...</td>\n",
       "      <td>t000311</td>\n",
       "      <td>Health Sciences</td>\n",
       "      <td>We are living the most important pandemic in r...</td>\n",
       "      <td>9</td>\n",
       "      <td>The ongoing global pandemic, triggered by the ...</td>\n",
       "    </tr>\n",
       "    <tr>\n",
       "      <th>312</th>\n",
       "      <td>Information about the new coronavirus disease ...</td>\n",
       "      <td>https://preprints.scielo.org/index.php/scielo/...</td>\n",
       "      <td>Claudio Márcio Amaral de Oliveira  Lima</td>\n",
       "      <td>Submitted 04/13/2020 - Posted 04/13/2020</td>\n",
       "      <td>PDF</td>\n",
       "      <td>https://preprints.scielo.org/index.php/scielo/...</td>\n",
       "      <td>2020-04-13</td>\n",
       "      <td>2020-04-13</td>\n",
       "      <td>V\\nRadiol Bras. 2020 Mar/Abr;53(2):V–VI\\n0100-...</td>\n",
       "      <td>t000312</td>\n",
       "      <td>Health Sciences</td>\n",
       "      <td>Coronavirus is a zoonotic virus, an RNA virus ...</td>\n",
       "      <td>9</td>\n",
       "      <td>The coronavirus is a zoonotic RNA virus belong...</td>\n",
       "    </tr>\n",
       "    <tr>\n",
       "      <th>313</th>\n",
       "      <td>ACE2 diversity in placental mammals reveals th...</td>\n",
       "      <td>https://preprints.scielo.org/index.php/scielo/...</td>\n",
       "      <td>Bibiana Sampaio de Oliveira Fam, Pedro Vargas-...</td>\n",
       "      <td>Submitted 04/11/2020 - Posted 04/28/2020</td>\n",
       "      <td>PDF</td>\n",
       "      <td>https://preprints.scielo.org/index.php/scielo/...</td>\n",
       "      <td>2020-04-11</td>\n",
       "      <td>2020-04-28</td>\n",
       "      <td>Status: Preprint has been published in a journ...</td>\n",
       "      <td>t000313</td>\n",
       "      <td>Biological Sciences</td>\n",
       "      <td>The recent emergence of SARS-CoV-2 is responsi...</td>\n",
       "      <td>35</td>\n",
       "      <td>The recent emergence of SARS-CoV-2 has led to ...</td>\n",
       "    </tr>\n",
       "    <tr>\n",
       "      <th>314</th>\n",
       "      <td>Coronavirus 2: Analysis of Regularity of Compl...</td>\n",
       "      <td>https://preprints.scielo.org/index.php/scielo/...</td>\n",
       "      <td>Yuri Morales-López</td>\n",
       "      <td>Submitted 04/10/2020 - Posted 06/04/2020</td>\n",
       "      <td>PDF</td>\n",
       "      <td>https://preprints.scielo.org/index.php/scielo/...</td>\n",
       "      <td>2020-04-10</td>\n",
       "      <td>2020-06-04</td>\n",
       "      <td>Publication status: Preprint has been publishe...</td>\n",
       "      <td>t000314</td>\n",
       "      <td>Biological Sciences</td>\n",
       "      <td>This paper shows a technique for the detection...</td>\n",
       "      <td>15</td>\n",
       "      <td>This paper presents a technique for detecting ...</td>\n",
       "    </tr>\n",
       "    <tr>\n",
       "      <th>315</th>\n",
       "      <td>COVID-19 in Brazil: advantages of a socialized...</td>\n",
       "      <td>https://preprints.scielo.org/index.php/scielo/...</td>\n",
       "      <td>Julio Croda, Wanderson Kleber de  Oliveira, Ro...</td>\n",
       "      <td>Submitted 04/06/2020 - Posted 04/08/2020</td>\n",
       "      <td>PDF</td>\n",
       "      <td>https://preprints.scielo.org/index.php/scielo/...</td>\n",
       "      <td>2020-04-06</td>\n",
       "      <td>2020-04-08</td>\n",
       "      <td>1/6\\nRevista da Sociedade Brasileira de Medi...</td>\n",
       "      <td>t000315</td>\n",
       "      <td>Health Sciences</td>\n",
       "      <td>The outbreak of new coronavirus disease 2019 (...</td>\n",
       "      <td>21</td>\n",
       "      <td>The emergence of the novel coronavirus disease...</td>\n",
       "    </tr>\n",
       "  </tbody>\n",
       "</table>\n",
       "<p>316 rows × 14 columns</p>\n",
       "</div>"
      ],
      "text/plain": [
       "                                                 Title  \\\n",
       "0    (Fern flora of Viçosa, Minas Gerais State, Bra...   \n",
       "1    Assembling the perfect bacterial genome using ...   \n",
       "2    ON METHODOLOGY AND METHODS FOR ANALYSING CLASS...   \n",
       "3    MOBILIZING LINGUISTIC AND SEMIOTIC RESOURCES, ...   \n",
       "4    PORTUGUESE AO PÉ DO BERIMBAU: ON CAPOEIRA AS A...   \n",
       "..                                                 ...   \n",
       "311  Challenges in the fight against the COVID-19 p...   \n",
       "312  Information about the new coronavirus disease ...   \n",
       "313  ACE2 diversity in placental mammals reveals th...   \n",
       "314  Coronavirus 2: Analysis of Regularity of Compl...   \n",
       "315  COVID-19 in Brazil: advantages of a socialized...   \n",
       "\n",
       "                                                   URL  \\\n",
       "0    https://preprints.scielo.org/index.php/scielo/...   \n",
       "1    https://preprints.scielo.org/index.php/scielo/...   \n",
       "2    https://preprints.scielo.org/index.php/scielo/...   \n",
       "3    https://preprints.scielo.org/index.php/scielo/...   \n",
       "4    https://preprints.scielo.org/index.php/scielo/...   \n",
       "..                                                 ...   \n",
       "311  https://preprints.scielo.org/index.php/scielo/...   \n",
       "312  https://preprints.scielo.org/index.php/scielo/...   \n",
       "313  https://preprints.scielo.org/index.php/scielo/...   \n",
       "314  https://preprints.scielo.org/index.php/scielo/...   \n",
       "315  https://preprints.scielo.org/index.php/scielo/...   \n",
       "\n",
       "                                               Authors  \\\n",
       "0      Nelson Túlio Lage Pena, Pedro Bond Schwartsburd   \n",
       "1        Ryan R. Wick, Louise M. Judd, Kathryn E. Holt   \n",
       "2                              Leonardo Goncalves Lago   \n",
       "3                 Estêvão Cabral, Marylin Martin-Jones   \n",
       "4                        Mike Baynham, Jolana Hanusova   \n",
       "..                                                 ...   \n",
       "311               Eduardo Alexandrino Servolo Medeiros   \n",
       "312            Claudio Márcio Amaral de Oliveira  Lima   \n",
       "313  Bibiana Sampaio de Oliveira Fam, Pedro Vargas-...   \n",
       "314                                 Yuri Morales-López   \n",
       "315  Julio Croda, Wanderson Kleber de  Oliveira, Ro...   \n",
       "\n",
       "                                    Published PDF Language  \\\n",
       "0    Submitted 11/22/2022 - Posted 11/23/2022          PDF   \n",
       "1    Submitted 11/11/2022 - Posted 11/11/2022          PDF   \n",
       "2    Submitted 11/10/2022 - Posted 11/16/2022          PDF   \n",
       "3    Submitted 11/07/2022 - Posted 11/07/2022          PDF   \n",
       "4    Submitted 11/04/2022 - Posted 11/04/2022          PDF   \n",
       "..                                        ...          ...   \n",
       "311  Submitted 04/15/2020 - Posted 04/15/2020          PDF   \n",
       "312  Submitted 04/13/2020 - Posted 04/13/2020          PDF   \n",
       "313  Submitted 04/11/2020 - Posted 04/28/2020          PDF   \n",
       "314  Submitted 04/10/2020 - Posted 06/04/2020          PDF   \n",
       "315  Submitted 04/06/2020 - Posted 04/08/2020          PDF   \n",
       "\n",
       "                                               PDF URL  Submitted     Posted  \\\n",
       "0    https://preprints.scielo.org/index.php/scielo/... 2022-11-22 2022-11-23   \n",
       "1    https://preprints.scielo.org/index.php/scielo/... 2022-11-11 2022-11-11   \n",
       "2    https://preprints.scielo.org/index.php/scielo/... 2022-11-10 2022-11-16   \n",
       "3    https://preprints.scielo.org/index.php/scielo/... 2022-11-07 2022-11-07   \n",
       "4    https://preprints.scielo.org/index.php/scielo/... 2022-11-04 2022-11-04   \n",
       "..                                                 ...        ...        ...   \n",
       "311  https://preprints.scielo.org/index.php/scielo/... 2020-04-15 2020-04-15   \n",
       "312  https://preprints.scielo.org/index.php/scielo/... 2020-04-13 2020-04-13   \n",
       "313  https://preprints.scielo.org/index.php/scielo/... 2020-04-11 2020-04-28   \n",
       "314  https://preprints.scielo.org/index.php/scielo/... 2020-04-10 2020-06-04   \n",
       "315  https://preprints.scielo.org/index.php/scielo/... 2020-04-06 2020-04-08   \n",
       "\n",
       "                                                  Text  Text ID  \\\n",
       "0    Publication status: Preprint has been publishe...  t000000   \n",
       "1    Publication status: Preprint has been publishe...  t000001   \n",
       "2    Publication status: Preprint has been publishe...  t000002   \n",
       "3    Publication status: Preprint has been submitte...  t000003   \n",
       "4    Publication status: Preprint has been submitte...  t000004   \n",
       "..                                                 ...      ...   \n",
       "311  *Corresponding author. E-mail: edubalaccih@gma...  t000311   \n",
       "312  V\\nRadiol Bras. 2020 Mar/Abr;53(2):V–VI\\n0100-...  t000312   \n",
       "313  Status: Preprint has been published in a journ...  t000313   \n",
       "314  Publication status: Preprint has been publishe...  t000314   \n",
       "315    1/6\\nRevista da Sociedade Brasileira de Medi...  t000315   \n",
       "\n",
       "                   Area of Knowledge  \\\n",
       "0                Biological Sciences   \n",
       "1                Biological Sciences   \n",
       "2            Applied Social Sciences   \n",
       "3    Linguistic, literature and arts   \n",
       "4    Linguistic, literature and arts   \n",
       "..                               ...   \n",
       "311                  Health Sciences   \n",
       "312                  Health Sciences   \n",
       "313              Biological Sciences   \n",
       "314              Biological Sciences   \n",
       "315                  Health Sciences   \n",
       "\n",
       "                                       Text Paragraphs  Text Paragraphs Count  \\\n",
       "0    (Fern flora of Viçosa, Minas Gerais State, Bra...                     29   \n",
       "1    A perfect bacterial genome assembly is one whe...                     31   \n",
       "2    This article presents a theoretical work whose...                     65   \n",
       "3    This paper is based on research of a socioling...                     58   \n",
       "4    From its historical origins as a resistant and...                    123   \n",
       "..                                                 ...                    ...   \n",
       "311  We are living the most important pandemic in r...                      9   \n",
       "312  Coronavirus is a zoonotic virus, an RNA virus ...                      9   \n",
       "313  The recent emergence of SARS-CoV-2 is responsi...                     35   \n",
       "314  This paper shows a technique for the detection...                     15   \n",
       "315  The outbreak of new coronavirus disease 2019 (...                     21   \n",
       "\n",
       "                                          Text ChatGPT  \n",
       "0    In this research article focusing on the fern ...  \n",
       "1    A flawless bacterial genome assembly is charac...  \n",
       "2    This article presents a theoretical work with ...  \n",
       "3    This paper presents a sociolinguistic and ethn...  \n",
       "4    Originating as a defiant and violently suppres...  \n",
       "..                                                 ...  \n",
       "311  The ongoing global pandemic, triggered by the ...  \n",
       "312  The coronavirus is a zoonotic RNA virus belong...  \n",
       "313  The recent emergence of SARS-CoV-2 has led to ...  \n",
       "314  This paper presents a technique for detecting ...  \n",
       "315  The emergence of the novel coronavirus disease...  \n",
       "\n",
       "[316 rows x 14 columns]"
      ]
     },
     "execution_count": 7,
     "metadata": {},
     "output_type": "execute_result"
    }
   ],
   "source": [
    "df_scielo_preprint_preChatGPT_en"
   ]
  },
  {
   "cell_type": "markdown",
   "id": "9128cb78-703b-48af-ac2b-096482e0555d",
   "metadata": {},
   "source": [
    "### Agricultural Sciences"
   ]
  },
  {
   "cell_type": "code",
   "execution_count": 8,
   "id": "853b975b-feef-4d9a-9460-32be94befb17",
   "metadata": {},
   "outputs": [],
   "source": [
    "df_agricultural_sciences = df_scielo_preprint_preChatGPT_en[df_scielo_preprint_preChatGPT_en['Area of Knowledge'] == 'Agricultural Sciences']\n",
    "df_agricultural_sciences[['Text ID', 'Text Paragraphs Count', 'Title']].to_csv(f'{output_directory}/scielo_agricultural_sciences.tsv', sep='\\t', index=False, encoding='utf-8', lineterminator='\\n')"
   ]
  },
  {
   "cell_type": "markdown",
   "id": "02504bbb-1993-4fe1-9d81-65d546a38fba",
   "metadata": {},
   "source": [
    "### Applied Social Sciences"
   ]
  },
  {
   "cell_type": "code",
   "execution_count": 9,
   "id": "c29d87f7-064e-4ef8-94de-5c64c47cf6d5",
   "metadata": {},
   "outputs": [],
   "source": [
    "df_applied_social_sciences = df_scielo_preprint_preChatGPT_en[df_scielo_preprint_preChatGPT_en['Area of Knowledge'] == 'Applied Social Sciences']\n",
    "df_applied_social_sciences[['Text ID', 'Text Paragraphs Count', 'Title']].to_csv(f'{output_directory}/scielo_applied_social_sciences.tsv', sep='\\t', index=False, encoding='utf-8', lineterminator='\\n')"
   ]
  },
  {
   "cell_type": "markdown",
   "id": "1d5cba9d-b3f7-407a-85d7-f7e818dab16a",
   "metadata": {},
   "source": [
    "### Biological Sciences"
   ]
  },
  {
   "cell_type": "code",
   "execution_count": 10,
   "id": "e0af3cdd-fb3b-4d08-9454-1dc6e8b26d6b",
   "metadata": {},
   "outputs": [],
   "source": [
    "df_biological_sciences = df_scielo_preprint_preChatGPT_en[df_scielo_preprint_preChatGPT_en['Area of Knowledge'] == 'Biological Sciences']\n",
    "df_biological_sciences[['Text ID', 'Text Paragraphs Count', 'Title']].to_csv(f'{output_directory}/scielo_biological_sciences.tsv', sep='\\t', index=False, encoding='utf-8', lineterminator='\\n')"
   ]
  },
  {
   "cell_type": "markdown",
   "id": "4bd53145-05fd-4b68-a27e-215537b1a884",
   "metadata": {},
   "source": [
    "### Engineering"
   ]
  },
  {
   "cell_type": "code",
   "execution_count": 11,
   "id": "7ff96f50-d59b-45d6-8af4-c8917912d1d4",
   "metadata": {},
   "outputs": [],
   "source": [
    "df_engineering = df_scielo_preprint_preChatGPT_en[df_scielo_preprint_preChatGPT_en['Area of Knowledge'] == 'Engineering']\n",
    "df_engineering[['Text ID', 'Text Paragraphs Count', 'Title']].to_csv(f'{output_directory}/scielo_engineering.tsv', sep='\\t', index=False, encoding='utf-8', lineterminator='\\n')"
   ]
  },
  {
   "cell_type": "markdown",
   "id": "0547aa6d-592c-4d41-98fe-65dc3dfc894b",
   "metadata": {},
   "source": [
    "### Exact and Earth Sciences"
   ]
  },
  {
   "cell_type": "code",
   "execution_count": 12,
   "id": "c60ac5d6-3b73-41cf-8f0d-387deaf3fc66",
   "metadata": {},
   "outputs": [],
   "source": [
    "df_exact_earth_sciences = df_scielo_preprint_preChatGPT_en[df_scielo_preprint_preChatGPT_en['Area of Knowledge'] == 'Exact and Earth Sciences']\n",
    "df_exact_earth_sciences[['Text ID', 'Text Paragraphs Count', 'Title']].to_csv(f'{output_directory}/exact_earth_sciences.tsv', sep='\\t', index=False, encoding='utf-8', lineterminator='\\n')"
   ]
  },
  {
   "cell_type": "markdown",
   "id": "3490e22d-0879-4cf0-ac42-36236e60e38d",
   "metadata": {},
   "source": [
    "### Health Sciences"
   ]
  },
  {
   "cell_type": "code",
   "execution_count": 13,
   "id": "635f0984-f27a-4efe-9d5d-f66e093df30e",
   "metadata": {},
   "outputs": [],
   "source": [
    "df_health_sciences = df_scielo_preprint_preChatGPT_en[df_scielo_preprint_preChatGPT_en['Area of Knowledge'] == 'Health Sciences']\n",
    "df_health_sciences[['Text ID', 'Text Paragraphs Count', 'Title']].to_csv(f'{output_directory}/scielo_health_sciences.tsv', sep='\\t', index=False, encoding='utf-8', lineterminator='\\n')"
   ]
  },
  {
   "cell_type": "markdown",
   "id": "dbd0d440-673c-4013-b0a0-96af48bebcb3",
   "metadata": {},
   "source": [
    "### Human Sciences"
   ]
  },
  {
   "cell_type": "code",
   "execution_count": 14,
   "id": "6b96c3be-68e5-4ab0-96da-2f6c919cf8c5",
   "metadata": {},
   "outputs": [],
   "source": [
    "df_human_sciences = df_scielo_preprint_preChatGPT_en[df_scielo_preprint_preChatGPT_en['Area of Knowledge'] == 'Human Sciences']\n",
    "df_human_sciences[['Text ID', 'Text Paragraphs Count', 'Title']].to_csv(f'{output_directory}/scielo_human_sciences.tsv', sep='\\t', index=False, encoding='utf-8', lineterminator='\\n')"
   ]
  },
  {
   "cell_type": "markdown",
   "id": "3c877268-e3ab-47c2-aea4-94098f3e0bda",
   "metadata": {},
   "source": [
    "### Linguistics, literature and arts"
   ]
  },
  {
   "cell_type": "code",
   "execution_count": 15,
   "id": "4fdc95a9-0f92-4dcb-9d38-ebab57d180cb",
   "metadata": {},
   "outputs": [],
   "source": [
    "df_linguistics_literature_arts = df_scielo_preprint_preChatGPT_en[df_scielo_preprint_preChatGPT_en['Area of Knowledge'] == 'Linguistic, literature and arts']\n",
    "df_linguistics_literature_arts[['Text ID', 'Text Paragraphs Count', 'Title']].to_csv(f'{output_directory}/scielo_linguistics_literature_arts.tsv', sep='\\t', index=False, encoding='utf-8', lineterminator='\\n')"
   ]
  },
  {
   "cell_type": "markdown",
   "id": "1a213b03-32bb-43bf-9072-a6868ba74ad4",
   "metadata": {},
   "source": [
    "## Agricultural Sciences"
   ]
  },
  {
   "cell_type": "markdown",
   "id": "841f812d-8754-44e5-b7b8-e90f7b9de388",
   "metadata": {},
   "source": [
    "This discipline has been excluded from the study."
   ]
  },
  {
   "cell_type": "markdown",
   "id": "9e4bf6dd-3867-4536-968a-2d4b9c7d7971",
   "metadata": {},
   "source": [
    "### Scraping [Annual Review of Plant Biology](https://www.annualreviews.org/content/journals/arplant)"
   ]
  },
  {
   "cell_type": "markdown",
   "id": "9be2665a-5384-4548-8fcd-4715b16ce4b6",
   "metadata": {},
   "source": [
    "#### Capturing a few document pages for inspection"
   ]
  },
  {
   "cell_type": "code",
   "execution_count": 3,
   "id": "69dc196d-10ba-4a99-9371-bfa0fbc9a115",
   "metadata": {},
   "outputs": [],
   "source": [
    "url_sample_1 = 'https://www.annualreviews.org/content/journals/arplant/71/1'\n",
    "url_sample_11 = 'https://www.annualreviews.org/content/journals/10.1146/annurev-arplant-081519-035846'"
   ]
  },
  {
   "cell_type": "code",
   "execution_count": 4,
   "id": "6fe931fd-4656-48a1-8ccc-6b94a32ab80f",
   "metadata": {},
   "outputs": [],
   "source": [
    "# Setting up the WebDriver (make sure you have downloaded the Microsoft Edge WebDriver executable)\n",
    "# https://developer.microsoft.com/en-us/microsoft-edge/tools/webdriver/\n",
    "service = Service(r'C:\\Users\\eyamr\\OneDrive\\00-Technology\\laelgelc\\edgedriver_win64\\msedgedriver.exe')\n",
    "driver = webdriver.Edge(service=service)\n",
    "\n",
    "# Navigating to target URL 1 and saving its web page\n",
    "driver.get(url_sample_1)\n",
    "wait = WebDriverWait(driver, 10)\n",
    "wait.until(EC.presence_of_element_located((By.ID, 'google_esf')))\n",
    "document_page_sample_1 = driver.page_source\n",
    "\n",
    "with open(f'{output_directory}/ar_plant_biology_sample1.html', 'w', encoding='utf8', newline='\\n') as file:\n",
    "    file.write(document_page_sample_1)\n",
    "\n",
    "# Navigating to target URL 2 and saving its web page\n",
    "driver.get(url_sample_11)\n",
    "wait = WebDriverWait(driver, 10)\n",
    "wait.until(EC.presence_of_element_located((By.ID, 'google_esf')))\n",
    "document_page_sample_11 = driver.page_source\n",
    "\n",
    "with open(f'{output_directory}/ar_plant_biology_sample11.html', 'w', encoding='utf8', newline='\\n') as file:\n",
    "    file.write(document_page_sample_11)\n",
    "\n",
    "# Closing the WebDriver\n",
    "driver.quit()"
   ]
  },
  {
   "cell_type": "markdown",
   "id": "e3db7ce4-8e3c-4167-b4cf-c3f1a8a409ea",
   "metadata": {},
   "source": [
    "#### Scraping the articles"
   ]
  },
  {
   "cell_type": "markdown",
   "id": "5ab23158-ab97-417b-848f-13d1fac31844",
   "metadata": {},
   "source": [
    "##### Function to scrape the articles"
   ]
  },
  {
   "cell_type": "code",
   "execution_count": 5,
   "id": "29f6f07a-f3f9-49e1-8ff8-159ea239c2bd",
   "metadata": {},
   "outputs": [],
   "source": [
    "def scrape_articles(article_list_url, root_url, start_page, end_page, area_of_knowledge):\n",
    "    # Setting up the WebDriver\n",
    "    service = Service(r'C:\\Users\\eyamr\\OneDrive\\00-Technology\\laelgelc\\edgedriver_win64\\msedgedriver.exe')\n",
    "    driver = webdriver.Edge(service=service)\n",
    "\n",
    "    data = []\n",
    "\n",
    "    for i in tqdm(range(start_page, end_page + 1)):\n",
    "        url = f\"{article_list_url}{i}\"\n",
    "        driver.get(url)\n",
    "        wait = WebDriverWait(driver, 10)\n",
    "        wait.until(EC.presence_of_element_located((By.ID, 'google_esf')))\n",
    "        page = driver.page_source\n",
    "        soup = BeautifulSoup(page, 'lxml')\n",
    "\n",
    "        articles = soup.find_all('div', class_='articleMetadata js-articleMetadata')\n",
    "\n",
    "        for article in articles:\n",
    "            title_tag = article.find('span', class_='articleTitle js-articleTitle title').find('a')\n",
    "            title = title_tag.get_text(strip=True) if title_tag else ''\n",
    "            article_url = root_url + title_tag['href'] if title_tag else ''\n",
    "\n",
    "            authors_tags = article.find_all('span', class_='author-list__item')\n",
    "            authors = ', '.join(tag.get_text(strip=True) for tag in authors_tags)\n",
    "\n",
    "            vol_year_range = article.find('div', class_='volYearPageRange')\n",
    "            vol_year = vol_year_range.get_text(strip=True) if vol_year_range else ''\n",
    "\n",
    "            doi_tag = article.find('div', class_='articleSourceTag').find('a')\n",
    "            doi = doi_tag['href'] if doi_tag else ''\n",
    "\n",
    "            data.append({\n",
    "                'Title': title,\n",
    "                'URL': article_url,\n",
    "                'Authors': authors,\n",
    "                'Vol/Year/Page Range': vol_year,\n",
    "                'DOI': doi,\n",
    "                'Area of Knowledge': area_of_knowledge\n",
    "            })\n",
    "\n",
    "    driver.quit()\n",
    "\n",
    "    return pd.DataFrame(data)"
   ]
  },
  {
   "cell_type": "markdown",
   "id": "5c4eb19a-6ab9-476c-b400-49b8172d8cd1",
   "metadata": {},
   "source": [
    "##### Volume 73, 2022"
   ]
  },
  {
   "cell_type": "code",
   "execution_count": 6,
   "id": "bfb202b2-a781-47a5-ad71-2c5536b524b7",
   "metadata": {},
   "outputs": [],
   "source": [
    "root_url = 'https://www.annualreviews.org'\n",
    "article_list_url = 'https://www.annualreviews.org/content/journals/arplant/73/1?page='\n",
    "start_page = 1\n",
    "end_page = 2\n",
    "area_of_knowledge = 'Agricultural Sciences'"
   ]
  },
  {
   "cell_type": "code",
   "execution_count": 7,
   "id": "0ac8f898-eecb-4583-a925-76f93fe21d9d",
   "metadata": {},
   "outputs": [
    {
     "name": "stderr",
     "output_type": "stream",
     "text": [
      "100%|██████████| 2/2 [00:03<00:00,  1.58s/it]\n"
     ]
    }
   ],
   "source": [
    "df_2022 = scrape_articles(article_list_url, root_url, start_page, end_page, area_of_knowledge)"
   ]
  },
  {
   "cell_type": "markdown",
   "id": "9d8f39ba-3ac1-463d-a517-309adf1a92b7",
   "metadata": {},
   "source": [
    "##### Volume 72, 2021"
   ]
  },
  {
   "cell_type": "code",
   "execution_count": 8,
   "id": "3c5384e3-2441-4d96-9ccf-45e0b7b0299e",
   "metadata": {},
   "outputs": [],
   "source": [
    "root_url = 'https://www.annualreviews.org'\n",
    "article_list_url = 'https://www.annualreviews.org/content/journals/arplant/72/1?page='\n",
    "start_page = 1\n",
    "end_page = 2\n",
    "area_of_knowledge = 'Agricultural Sciences'"
   ]
  },
  {
   "cell_type": "code",
   "execution_count": 9,
   "id": "184488a1-8d7d-417d-be3e-e3f0119de9e0",
   "metadata": {},
   "outputs": [
    {
     "name": "stderr",
     "output_type": "stream",
     "text": [
      "100%|██████████| 2/2 [00:08<00:00,  4.35s/it]\n"
     ]
    }
   ],
   "source": [
    "df_2021 = scrape_articles(article_list_url, root_url, start_page, end_page, area_of_knowledge)"
   ]
  },
  {
   "cell_type": "markdown",
   "id": "5bb67887-fd09-4aa1-9d68-a36dfdab7d8f",
   "metadata": {},
   "source": [
    "##### Volume 71, 2020"
   ]
  },
  {
   "cell_type": "code",
   "execution_count": 10,
   "id": "4ab30008-4923-4ee4-baf4-9279b2c9a305",
   "metadata": {},
   "outputs": [],
   "source": [
    "root_url = 'https://www.annualreviews.org'\n",
    "article_list_url = 'https://www.annualreviews.org/content/journals/arplant/71/1?page='\n",
    "start_page = 1\n",
    "end_page = 2\n",
    "area_of_knowledge = 'Agricultural Sciences'"
   ]
  },
  {
   "cell_type": "code",
   "execution_count": 11,
   "id": "8b83fe70-6bbe-43cf-b508-507f3f689117",
   "metadata": {},
   "outputs": [
    {
     "name": "stderr",
     "output_type": "stream",
     "text": [
      "100%|██████████| 2/2 [00:08<00:00,  4.12s/it]\n"
     ]
    }
   ],
   "source": [
    "df_2020 = scrape_articles(article_list_url, root_url, start_page, end_page, area_of_knowledge)"
   ]
  },
  {
   "cell_type": "markdown",
   "id": "c69a41e4-977f-42e4-a8d9-0777fa0a0402",
   "metadata": {},
   "source": [
    "##### Concatenating the DataFrames"
   ]
  },
  {
   "cell_type": "code",
   "execution_count": 12,
   "id": "10d97234-01d3-4987-b0c2-18da643a5dae",
   "metadata": {},
   "outputs": [
    {
     "data": {
      "text/html": [
       "<div>\n",
       "<style scoped>\n",
       "    .dataframe tbody tr th:only-of-type {\n",
       "        vertical-align: middle;\n",
       "    }\n",
       "\n",
       "    .dataframe tbody tr th {\n",
       "        vertical-align: top;\n",
       "    }\n",
       "\n",
       "    .dataframe thead th {\n",
       "        text-align: right;\n",
       "    }\n",
       "</style>\n",
       "<table border=\"1\" class=\"dataframe\">\n",
       "  <thead>\n",
       "    <tr style=\"text-align: right;\">\n",
       "      <th></th>\n",
       "      <th>Title</th>\n",
       "      <th>URL</th>\n",
       "      <th>Authors</th>\n",
       "      <th>Vol/Year/Page Range</th>\n",
       "      <th>DOI</th>\n",
       "      <th>Area of Knowledge</th>\n",
       "    </tr>\n",
       "  </thead>\n",
       "  <tbody>\n",
       "    <tr>\n",
       "      <th>0</th>\n",
       "      <td>Adventures in Life and Science, from Light to ...</td>\n",
       "      <td>https://www.annualreviews.org/content/journals...</td>\n",
       "      <td>Elaine Tobin</td>\n",
       "      <td>Vol. 73 \\n(2022),pp.1–16</td>\n",
       "      <td>https://doi.org/10.1146/annurev-arplant-090921...</td>\n",
       "      <td>Agricultural Sciences</td>\n",
       "    </tr>\n",
       "    <tr>\n",
       "      <th>1</th>\n",
       "      <td>Phosphorus Acquisition and Utilization in Plants</td>\n",
       "      <td>https://www.annualreviews.org/content/journals...</td>\n",
       "      <td>Hans Lambers</td>\n",
       "      <td>Vol. 73 \\n(2022),pp.17–42</td>\n",
       "      <td>https://doi.org/10.1146/annurev-arplant-102720...</td>\n",
       "      <td>Agricultural Sciences</td>\n",
       "    </tr>\n",
       "    <tr>\n",
       "      <th>2</th>\n",
       "      <td>Meeting in the Middle: Lessons and Opportuniti...</td>\n",
       "      <td>https://www.annualreviews.org/content/journals...</td>\n",
       "      <td>Mae Antonette Mercado, , andAnthony J. Studer</td>\n",
       "      <td>Vol. 73 \\n(2022),pp.43–65</td>\n",
       "      <td>https://doi.org/10.1146/annurev-arplant-102720...</td>\n",
       "      <td>Agricultural Sciences</td>\n",
       "    </tr>\n",
       "    <tr>\n",
       "      <th>3</th>\n",
       "      <td>Plant Proteome Dynamics</td>\n",
       "      <td>https://www.annualreviews.org/content/journals...</td>\n",
       "      <td>Julia Mergner, , andBernhard Kuster</td>\n",
       "      <td>Vol. 73 \\n(2022),pp.67–92</td>\n",
       "      <td>https://doi.org/10.1146/annurev-arplant-102620...</td>\n",
       "      <td>Agricultural Sciences</td>\n",
       "    </tr>\n",
       "    <tr>\n",
       "      <th>4</th>\n",
       "      <td>Evolution and Functions of Plant U-Box Protein...</td>\n",
       "      <td>https://www.annualreviews.org/content/journals...</td>\n",
       "      <td>Jana Trenner, ,Jacqueline Monaghan, ,Bushra Sa...</td>\n",
       "      <td>Vol. 73 \\n(2022),pp.93–121</td>\n",
       "      <td>https://doi.org/10.1146/annurev-arplant-102720...</td>\n",
       "      <td>Agricultural Sciences</td>\n",
       "    </tr>\n",
       "    <tr>\n",
       "      <th>...</th>\n",
       "      <td>...</td>\n",
       "      <td>...</td>\n",
       "      <td>...</td>\n",
       "      <td>...</td>\n",
       "      <td>...</td>\n",
       "      <td>...</td>\n",
       "    </tr>\n",
       "    <tr>\n",
       "      <th>83</th>\n",
       "      <td>Phenotyping: New Windows into the Plant for Br...</td>\n",
       "      <td>https://www.annualreviews.org/content/journals...</td>\n",
       "      <td>Michelle Watt, ,Fabio Fiorani, ,Björn Usadel, ...</td>\n",
       "      <td>Vol. 71 \\n(2020),pp.689–712</td>\n",
       "      <td>https://doi.org/10.1146/annurev-arplant-042916...</td>\n",
       "      <td>Agricultural Sciences</td>\n",
       "    </tr>\n",
       "    <tr>\n",
       "      <th>84</th>\n",
       "      <td>The Genomics ofCannabisand Its Close Relatives</td>\n",
       "      <td>https://www.annualreviews.org/content/journals...</td>\n",
       "      <td>I. Kovalchuk, ,M. Pellino, ,P. Rigault, ,R. va...</td>\n",
       "      <td>Vol. 71 \\n(2020),pp.713–739</td>\n",
       "      <td>https://doi.org/10.1146/annurev-arplant-081519...</td>\n",
       "      <td>Agricultural Sciences</td>\n",
       "    </tr>\n",
       "    <tr>\n",
       "      <th>85</th>\n",
       "      <td>Sequencing and Analyzing the Transcriptomes of...</td>\n",
       "      <td>https://www.annualreviews.org/content/journals...</td>\n",
       "      <td>Gane Ka-Shu Wong, ,Douglas E. Soltis, ,Jim Lee...</td>\n",
       "      <td>Vol. 71 \\n(2020),pp.741–765</td>\n",
       "      <td>https://doi.org/10.1146/annurev-arplant-042916...</td>\n",
       "      <td>Agricultural Sciences</td>\n",
       "    </tr>\n",
       "    <tr>\n",
       "      <th>86</th>\n",
       "      <td>Engineering Synthetic Signaling in Plants</td>\n",
       "      <td>https://www.annualreviews.org/content/journals...</td>\n",
       "      <td>Alexander R. Leydon, ,Hardik P. Gala, ,Sarah G...</td>\n",
       "      <td>Vol. 71 \\n(2020),pp.767–788</td>\n",
       "      <td>https://doi.org/10.1146/annurev-arplant-081519...</td>\n",
       "      <td>Agricultural Sciences</td>\n",
       "    </tr>\n",
       "    <tr>\n",
       "      <th>87</th>\n",
       "      <td>Novel Imaging Modalities Shedding Light on Pla...</td>\n",
       "      <td>https://www.annualreviews.org/content/journals...</td>\n",
       "      <td>Natalie M. Clark, ,Lisa Van den Broeck, ,Marjo...</td>\n",
       "      <td>Vol. 71 \\n(2020),pp.789–816</td>\n",
       "      <td>https://doi.org/10.1146/annurev-arplant-050718...</td>\n",
       "      <td>Agricultural Sciences</td>\n",
       "    </tr>\n",
       "  </tbody>\n",
       "</table>\n",
       "<p>88 rows × 6 columns</p>\n",
       "</div>"
      ],
      "text/plain": [
       "                                                Title  \\\n",
       "0   Adventures in Life and Science, from Light to ...   \n",
       "1    Phosphorus Acquisition and Utilization in Plants   \n",
       "2   Meeting in the Middle: Lessons and Opportuniti...   \n",
       "3                             Plant Proteome Dynamics   \n",
       "4   Evolution and Functions of Plant U-Box Protein...   \n",
       "..                                                ...   \n",
       "83  Phenotyping: New Windows into the Plant for Br...   \n",
       "84     The Genomics ofCannabisand Its Close Relatives   \n",
       "85  Sequencing and Analyzing the Transcriptomes of...   \n",
       "86          Engineering Synthetic Signaling in Plants   \n",
       "87  Novel Imaging Modalities Shedding Light on Pla...   \n",
       "\n",
       "                                                  URL  \\\n",
       "0   https://www.annualreviews.org/content/journals...   \n",
       "1   https://www.annualreviews.org/content/journals...   \n",
       "2   https://www.annualreviews.org/content/journals...   \n",
       "3   https://www.annualreviews.org/content/journals...   \n",
       "4   https://www.annualreviews.org/content/journals...   \n",
       "..                                                ...   \n",
       "83  https://www.annualreviews.org/content/journals...   \n",
       "84  https://www.annualreviews.org/content/journals...   \n",
       "85  https://www.annualreviews.org/content/journals...   \n",
       "86  https://www.annualreviews.org/content/journals...   \n",
       "87  https://www.annualreviews.org/content/journals...   \n",
       "\n",
       "                                              Authors  \\\n",
       "0                                        Elaine Tobin   \n",
       "1                                        Hans Lambers   \n",
       "2       Mae Antonette Mercado, , andAnthony J. Studer   \n",
       "3                 Julia Mergner, , andBernhard Kuster   \n",
       "4   Jana Trenner, ,Jacqueline Monaghan, ,Bushra Sa...   \n",
       "..                                                ...   \n",
       "83  Michelle Watt, ,Fabio Fiorani, ,Björn Usadel, ...   \n",
       "84  I. Kovalchuk, ,M. Pellino, ,P. Rigault, ,R. va...   \n",
       "85  Gane Ka-Shu Wong, ,Douglas E. Soltis, ,Jim Lee...   \n",
       "86  Alexander R. Leydon, ,Hardik P. Gala, ,Sarah G...   \n",
       "87  Natalie M. Clark, ,Lisa Van den Broeck, ,Marjo...   \n",
       "\n",
       "            Vol/Year/Page Range  \\\n",
       "0      Vol. 73 \\n(2022),pp.1–16   \n",
       "1     Vol. 73 \\n(2022),pp.17–42   \n",
       "2     Vol. 73 \\n(2022),pp.43–65   \n",
       "3     Vol. 73 \\n(2022),pp.67–92   \n",
       "4    Vol. 73 \\n(2022),pp.93–121   \n",
       "..                          ...   \n",
       "83  Vol. 71 \\n(2020),pp.689–712   \n",
       "84  Vol. 71 \\n(2020),pp.713–739   \n",
       "85  Vol. 71 \\n(2020),pp.741–765   \n",
       "86  Vol. 71 \\n(2020),pp.767–788   \n",
       "87  Vol. 71 \\n(2020),pp.789–816   \n",
       "\n",
       "                                                  DOI      Area of Knowledge  \n",
       "0   https://doi.org/10.1146/annurev-arplant-090921...  Agricultural Sciences  \n",
       "1   https://doi.org/10.1146/annurev-arplant-102720...  Agricultural Sciences  \n",
       "2   https://doi.org/10.1146/annurev-arplant-102720...  Agricultural Sciences  \n",
       "3   https://doi.org/10.1146/annurev-arplant-102620...  Agricultural Sciences  \n",
       "4   https://doi.org/10.1146/annurev-arplant-102720...  Agricultural Sciences  \n",
       "..                                                ...                    ...  \n",
       "83  https://doi.org/10.1146/annurev-arplant-042916...  Agricultural Sciences  \n",
       "84  https://doi.org/10.1146/annurev-arplant-081519...  Agricultural Sciences  \n",
       "85  https://doi.org/10.1146/annurev-arplant-042916...  Agricultural Sciences  \n",
       "86  https://doi.org/10.1146/annurev-arplant-081519...  Agricultural Sciences  \n",
       "87  https://doi.org/10.1146/annurev-arplant-050718...  Agricultural Sciences  \n",
       "\n",
       "[88 rows x 6 columns]"
      ]
     },
     "execution_count": 12,
     "metadata": {},
     "output_type": "execute_result"
    }
   ],
   "source": [
    "df_ar_plant_biology = pd.concat([df_2022, df_2021, df_2020], ignore_index=True)\n",
    "df_ar_plant_biology"
   ]
  },
  {
   "cell_type": "markdown",
   "id": "2ffc0ada-8fdd-43a4-86b7-3ed425ce95a1",
   "metadata": {},
   "source": [
    "#### Inspecting a few articles"
   ]
  },
  {
   "cell_type": "code",
   "execution_count": 13,
   "id": "5f87889f-a9a2-466c-999e-4856011c25e2",
   "metadata": {},
   "outputs": [
    {
     "data": {
      "text/plain": [
       "'https://www.annualreviews.org/content/journals/10.1146/annurev-arplant-090921-091346'"
      ]
     },
     "execution_count": 13,
     "metadata": {},
     "output_type": "execute_result"
    }
   ],
   "source": [
    "df_ar_plant_biology.at[0, 'URL']"
   ]
  },
  {
   "cell_type": "markdown",
   "id": "1525aa7c-b773-469e-b6c6-3f6d0d4027d4",
   "metadata": {},
   "source": [
    "#### Exporting to a file"
   ]
  },
  {
   "cell_type": "code",
   "execution_count": 14,
   "id": "e3c76d7a-e0ed-4033-a8f5-1ed203fecc91",
   "metadata": {},
   "outputs": [],
   "source": [
    "df_ar_plant_biology.to_json(f\"{output_directory}/ar_plant_biology.jsonl\", orient='records', lines=True)"
   ]
  },
  {
   "cell_type": "markdown",
   "id": "040237f5-890e-4259-a1c8-bf1d0bc4e0bf",
   "metadata": {},
   "source": [
    "### Scraping [Nature Food](https://www.nature.com/natfood/)"
   ]
  },
  {
   "cell_type": "markdown",
   "id": "1360414b-2358-49f0-a718-3087f2685847",
   "metadata": {},
   "source": [
    "#### Capturing a few document pages for inspection"
   ]
  },
  {
   "cell_type": "code",
   "execution_count": 16,
   "id": "0b474319-2ef8-4e26-8293-fed3a37bae90",
   "metadata": {},
   "outputs": [],
   "source": [
    "url_sample_1 = 'https://www.nature.com/natfood/research-articles?searchType=journalSearch&sort=PubDate&type=article&page=1'\n",
    "url_sample_11 = 'https://www.nature.com/articles/s43016-024-01039-1'"
   ]
  },
  {
   "cell_type": "code",
   "execution_count": 17,
   "id": "3d35a5e7-42c6-4492-9c97-85d8c5eacf13",
   "metadata": {},
   "outputs": [],
   "source": [
    "document_page_sample_1 = requests.get(url_sample_1)\n",
    "document_page_sample_11 = requests.get(url_sample_11)"
   ]
  },
  {
   "cell_type": "code",
   "execution_count": 18,
   "id": "c3f42b8b-87ad-4d6b-b4f4-5ed44c9c4cb8",
   "metadata": {},
   "outputs": [],
   "source": [
    "with open(f'{output_directory}/natfood_sample1.html', 'wb') as file:\n",
    "    file.write(document_page_sample_1.content)\n",
    "\n",
    "with open(f'{output_directory}/natfood_sample11.html', 'wb') as file:\n",
    "    file.write(document_page_sample_11.content)"
   ]
  },
  {
   "cell_type": "markdown",
   "id": "35bae767-547c-4d15-b318-2482819b63cb",
   "metadata": {},
   "source": [
    "#### Scraping the articles"
   ]
  },
  {
   "cell_type": "code",
   "execution_count": 19,
   "id": "81865300-0f41-4a02-b3b0-4921170a5e9e",
   "metadata": {},
   "outputs": [],
   "source": [
    "root_url = 'https://www.nature.com'\n",
    "article_list_url = 'https://www.nature.com/natfood/research-articles?searchType=journalSearch&sort=PubDate&type=article&page='\n",
    "start_page = 1\n",
    "end_page = 15\n",
    "area_of_knowledge = 'Agricultural Sciences'"
   ]
  },
  {
   "cell_type": "code",
   "execution_count": 20,
   "id": "5e44ee87-582a-424b-ab3c-4c2142242d33",
   "metadata": {},
   "outputs": [
    {
     "name": "stderr",
     "output_type": "stream",
     "text": [
      "100%|██████████| 15/15 [00:18<00:00,  1.22s/it]\n"
     ]
    }
   ],
   "source": [
    "# Initialize an empty list to store the data\n",
    "data = []\n",
    "\n",
    "# Iterating through the URLs and using 'tqdm' for progress tracking in the range loop\n",
    "for i in tqdm(range(start_page, end_page + 1)):\n",
    "    url = f\"{article_list_url}{i}\"\n",
    "    response = requests.get(url)\n",
    "    soup = BeautifulSoup(response.content, 'lxml')\n",
    "\n",
    "    # Finding all <article> elements with the class 'u-full-height c-card c-card--flush'\n",
    "    articles = soup.find_all('article', class_='u-full-height c-card c-card--flush')\n",
    "\n",
    "    for article in articles:\n",
    "        # Extracting the title\n",
    "        title_tag = article.find('h3', class_='c-card__title').find('a')\n",
    "        title = title_tag.get_text(strip=True) if title_tag else ''\n",
    "        title_url = f\"{root_url}{title_tag.get('href')}\" if title_tag else ''\n",
    "\n",
    "        # Extracting the authors\n",
    "        author_tags = article.find_all('li', itemprop='creator')\n",
    "        authors = ', '.join(author.get_text(strip=True) for author in author_tags)\n",
    "\n",
    "        # Extracting the published date\n",
    "        date_tag = article.find('time')\n",
    "        date_published = date_tag['datetime'] if date_tag else ''\n",
    "\n",
    "        # Extracting the PDF URL\n",
    "        pdf_url = f\"{title_url}.pdf\" if title_url else ''\n",
    "\n",
    "        # Extracting the 'Open Access' label\n",
    "        open_access_tag = article.find('span', class_='u-color-open-access')\n",
    "        open_access = open_access_tag.get_text(strip=True) if open_access_tag else ''\n",
    "\n",
    "        # Appending the data to the list\n",
    "        data.append({\n",
    "            'Title': title,\n",
    "            'URL': title_url,\n",
    "            'Authors (compact list)': authors,\n",
    "            'Published': date_published,\n",
    "            'PDF URL': pdf_url,\n",
    "            'Open Access': open_access,\n",
    "            'Area of Knowledge': area_of_knowledge\n",
    "        })\n",
    "\n",
    "# Creating a DataFrame from the data\n",
    "df_nature_food = pd.DataFrame(data)"
   ]
  },
  {
   "cell_type": "code",
   "execution_count": 21,
   "id": "327a8c44-3caa-4107-8ac6-827355e7d6d2",
   "metadata": {},
   "outputs": [
    {
     "data": {
      "text/html": [
       "<div>\n",
       "<style scoped>\n",
       "    .dataframe tbody tr th:only-of-type {\n",
       "        vertical-align: middle;\n",
       "    }\n",
       "\n",
       "    .dataframe tbody tr th {\n",
       "        vertical-align: top;\n",
       "    }\n",
       "\n",
       "    .dataframe thead th {\n",
       "        text-align: right;\n",
       "    }\n",
       "</style>\n",
       "<table border=\"1\" class=\"dataframe\">\n",
       "  <thead>\n",
       "    <tr style=\"text-align: right;\">\n",
       "      <th></th>\n",
       "      <th>Title</th>\n",
       "      <th>URL</th>\n",
       "      <th>Authors (compact list)</th>\n",
       "      <th>Published</th>\n",
       "      <th>PDF URL</th>\n",
       "      <th>Open Access</th>\n",
       "      <th>Area of Knowledge</th>\n",
       "    </tr>\n",
       "  </thead>\n",
       "  <tbody>\n",
       "    <tr>\n",
       "      <th>0</th>\n",
       "      <td>Potassium limits productivity in intensive cer...</td>\n",
       "      <td>https://www.nature.com/articles/s43016-024-010...</td>\n",
       "      <td>Gonzalo Rizzo, Fahmuddin Agus, Patricio Grassini</td>\n",
       "      <td>2024-10-22</td>\n",
       "      <td>https://www.nature.com/articles/s43016-024-010...</td>\n",
       "      <td></td>\n",
       "      <td>Agricultural Sciences</td>\n",
       "    </tr>\n",
       "    <tr>\n",
       "      <th>1</th>\n",
       "      <td>Proteomic signatures of healthy dietary patter...</td>\n",
       "      <td>https://www.nature.com/articles/s43016-024-010...</td>\n",
       "      <td>Kai Zhu, Rui Li, Gang Liu</td>\n",
       "      <td>2024-09-27</td>\n",
       "      <td>https://www.nature.com/articles/s43016-024-010...</td>\n",
       "      <td></td>\n",
       "      <td>Agricultural Sciences</td>\n",
       "    </tr>\n",
       "    <tr>\n",
       "      <th>2</th>\n",
       "      <td>Localized nitrogen management strategies can h...</td>\n",
       "      <td>https://www.nature.com/articles/s43016-024-010...</td>\n",
       "      <td>Yize Liu, Minghao Zhuang, Yan Hao</td>\n",
       "      <td>2024-09-27</td>\n",
       "      <td>https://www.nature.com/articles/s43016-024-010...</td>\n",
       "      <td></td>\n",
       "      <td>Agricultural Sciences</td>\n",
       "    </tr>\n",
       "    <tr>\n",
       "      <th>3</th>\n",
       "      <td>Human activities shape important geographic di...</td>\n",
       "      <td>https://www.nature.com/articles/s43016-024-010...</td>\n",
       "      <td>Yuping Xiang, Guangliang Liu, Guibin Jiang</td>\n",
       "      <td>2024-09-26</td>\n",
       "      <td>https://www.nature.com/articles/s43016-024-010...</td>\n",
       "      <td></td>\n",
       "      <td>Agricultural Sciences</td>\n",
       "    </tr>\n",
       "    <tr>\n",
       "      <th>4</th>\n",
       "      <td>Enhanced agricultural carbon sinks provide ben...</td>\n",
       "      <td>https://www.nature.com/articles/s43016-024-010...</td>\n",
       "      <td>Stefan Frank, Andrey Lessa Derci Augustynczik,...</td>\n",
       "      <td>2024-09-23</td>\n",
       "      <td>https://www.nature.com/articles/s43016-024-010...</td>\n",
       "      <td>Open Access</td>\n",
       "      <td>Agricultural Sciences</td>\n",
       "    </tr>\n",
       "    <tr>\n",
       "      <th>...</th>\n",
       "      <td>...</td>\n",
       "      <td>...</td>\n",
       "      <td>...</td>\n",
       "      <td>...</td>\n",
       "      <td>...</td>\n",
       "      <td>...</td>\n",
       "      <td>...</td>\n",
       "    </tr>\n",
       "    <tr>\n",
       "      <th>277</th>\n",
       "      <td>Improved performance ofEimeria-infected chicke...</td>\n",
       "      <td>https://www.nature.com/articles/s43016-020-0029-6</td>\n",
       "      <td>Philip A. Lessard, Matthew Parker, R. Michael ...</td>\n",
       "      <td>2020-02-10</td>\n",
       "      <td>https://www.nature.com/articles/s43016-020-002...</td>\n",
       "      <td></td>\n",
       "      <td>Agricultural Sciences</td>\n",
       "    </tr>\n",
       "    <tr>\n",
       "      <th>278</th>\n",
       "      <td>Multidimensional characterization of global fo...</td>\n",
       "      <td>https://www.nature.com/articles/s43016-019-0012-2</td>\n",
       "      <td>James Bentham, Gitanjali M Singh, Majid Ezzati</td>\n",
       "      <td>2020-01-13</td>\n",
       "      <td>https://www.nature.com/articles/s43016-019-001...</td>\n",
       "      <td></td>\n",
       "      <td>Agricultural Sciences</td>\n",
       "    </tr>\n",
       "    <tr>\n",
       "      <th>279</th>\n",
       "      <td>Identification and stacking of crucial traits ...</td>\n",
       "      <td>https://www.nature.com/articles/s43016-019-0007-z</td>\n",
       "      <td>Ratan Chopra, Evan B. Johnson, M. David Marks</td>\n",
       "      <td>2020-01-13</td>\n",
       "      <td>https://www.nature.com/articles/s43016-019-000...</td>\n",
       "      <td></td>\n",
       "      <td>Agricultural Sciences</td>\n",
       "    </tr>\n",
       "    <tr>\n",
       "      <th>280</th>\n",
       "      <td>Shifts in national land use and food productio...</td>\n",
       "      <td>https://www.nature.com/articles/s43016-019-0011-3</td>\n",
       "      <td>Paul D. L. Ritchie, Greg S. Smith, Ian J. Bateman</td>\n",
       "      <td>2020-01-13</td>\n",
       "      <td>https://www.nature.com/articles/s43016-019-001...</td>\n",
       "      <td></td>\n",
       "      <td>Agricultural Sciences</td>\n",
       "    </tr>\n",
       "    <tr>\n",
       "      <th>281</th>\n",
       "      <td>Different uncertainty distribution between hig...</td>\n",
       "      <td>https://www.nature.com/articles/s43016-019-0004-2</td>\n",
       "      <td>Wei Xiong, Senthold Asseng, Bruno Gerard</td>\n",
       "      <td>2019-12-02</td>\n",
       "      <td>https://www.nature.com/articles/s43016-019-000...</td>\n",
       "      <td></td>\n",
       "      <td>Agricultural Sciences</td>\n",
       "    </tr>\n",
       "  </tbody>\n",
       "</table>\n",
       "<p>282 rows × 7 columns</p>\n",
       "</div>"
      ],
      "text/plain": [
       "                                                 Title  \\\n",
       "0    Potassium limits productivity in intensive cer...   \n",
       "1    Proteomic signatures of healthy dietary patter...   \n",
       "2    Localized nitrogen management strategies can h...   \n",
       "3    Human activities shape important geographic di...   \n",
       "4    Enhanced agricultural carbon sinks provide ben...   \n",
       "..                                                 ...   \n",
       "277  Improved performance ofEimeria-infected chicke...   \n",
       "278  Multidimensional characterization of global fo...   \n",
       "279  Identification and stacking of crucial traits ...   \n",
       "280  Shifts in national land use and food productio...   \n",
       "281  Different uncertainty distribution between hig...   \n",
       "\n",
       "                                                   URL  \\\n",
       "0    https://www.nature.com/articles/s43016-024-010...   \n",
       "1    https://www.nature.com/articles/s43016-024-010...   \n",
       "2    https://www.nature.com/articles/s43016-024-010...   \n",
       "3    https://www.nature.com/articles/s43016-024-010...   \n",
       "4    https://www.nature.com/articles/s43016-024-010...   \n",
       "..                                                 ...   \n",
       "277  https://www.nature.com/articles/s43016-020-0029-6   \n",
       "278  https://www.nature.com/articles/s43016-019-0012-2   \n",
       "279  https://www.nature.com/articles/s43016-019-0007-z   \n",
       "280  https://www.nature.com/articles/s43016-019-0011-3   \n",
       "281  https://www.nature.com/articles/s43016-019-0004-2   \n",
       "\n",
       "                                Authors (compact list)  Published  \\\n",
       "0     Gonzalo Rizzo, Fahmuddin Agus, Patricio Grassini 2024-10-22   \n",
       "1                            Kai Zhu, Rui Li, Gang Liu 2024-09-27   \n",
       "2                    Yize Liu, Minghao Zhuang, Yan Hao 2024-09-27   \n",
       "3           Yuping Xiang, Guangliang Liu, Guibin Jiang 2024-09-26   \n",
       "4    Stefan Frank, Andrey Lessa Derci Augustynczik,... 2024-09-23   \n",
       "..                                                 ...        ...   \n",
       "277  Philip A. Lessard, Matthew Parker, R. Michael ... 2020-02-10   \n",
       "278     James Bentham, Gitanjali M Singh, Majid Ezzati 2020-01-13   \n",
       "279      Ratan Chopra, Evan B. Johnson, M. David Marks 2020-01-13   \n",
       "280  Paul D. L. Ritchie, Greg S. Smith, Ian J. Bateman 2020-01-13   \n",
       "281           Wei Xiong, Senthold Asseng, Bruno Gerard 2019-12-02   \n",
       "\n",
       "                                               PDF URL  Open Access  \\\n",
       "0    https://www.nature.com/articles/s43016-024-010...                \n",
       "1    https://www.nature.com/articles/s43016-024-010...                \n",
       "2    https://www.nature.com/articles/s43016-024-010...                \n",
       "3    https://www.nature.com/articles/s43016-024-010...                \n",
       "4    https://www.nature.com/articles/s43016-024-010...  Open Access   \n",
       "..                                                 ...          ...   \n",
       "277  https://www.nature.com/articles/s43016-020-002...                \n",
       "278  https://www.nature.com/articles/s43016-019-001...                \n",
       "279  https://www.nature.com/articles/s43016-019-000...                \n",
       "280  https://www.nature.com/articles/s43016-019-001...                \n",
       "281  https://www.nature.com/articles/s43016-019-000...                \n",
       "\n",
       "         Area of Knowledge  \n",
       "0    Agricultural Sciences  \n",
       "1    Agricultural Sciences  \n",
       "2    Agricultural Sciences  \n",
       "3    Agricultural Sciences  \n",
       "4    Agricultural Sciences  \n",
       "..                     ...  \n",
       "277  Agricultural Sciences  \n",
       "278  Agricultural Sciences  \n",
       "279  Agricultural Sciences  \n",
       "280  Agricultural Sciences  \n",
       "281  Agricultural Sciences  \n",
       "\n",
       "[282 rows x 7 columns]"
      ]
     },
     "execution_count": 21,
     "metadata": {},
     "output_type": "execute_result"
    }
   ],
   "source": [
    "df_nature_food['Published'] = pd.to_datetime(df_nature_food['Published'])\n",
    "df_nature_food"
   ]
  },
  {
   "cell_type": "markdown",
   "id": "2de405b7-fd01-4fc8-a140-1bd6620c3f27",
   "metadata": {},
   "source": [
    "#### Selecting the 'Open Access' articles published before the advent of ChatGPT"
   ]
  },
  {
   "cell_type": "markdown",
   "id": "c80bf61d-f4ce-4216-8d4c-c1848823d7a1",
   "metadata": {},
   "source": [
    "ChatGPT was released by OpenAI on November 30, 2022."
   ]
  },
  {
   "cell_type": "code",
   "execution_count": 22,
   "id": "45a98b00-1775-4976-bdc7-ef95f7cd00d6",
   "metadata": {},
   "outputs": [
    {
     "data": {
      "text/html": [
       "<div>\n",
       "<style scoped>\n",
       "    .dataframe tbody tr th:only-of-type {\n",
       "        vertical-align: middle;\n",
       "    }\n",
       "\n",
       "    .dataframe tbody tr th {\n",
       "        vertical-align: top;\n",
       "    }\n",
       "\n",
       "    .dataframe thead th {\n",
       "        text-align: right;\n",
       "    }\n",
       "</style>\n",
       "<table border=\"1\" class=\"dataframe\">\n",
       "  <thead>\n",
       "    <tr style=\"text-align: right;\">\n",
       "      <th></th>\n",
       "      <th>Title</th>\n",
       "      <th>URL</th>\n",
       "      <th>Authors (compact list)</th>\n",
       "      <th>Published</th>\n",
       "      <th>PDF URL</th>\n",
       "      <th>Open Access</th>\n",
       "      <th>Area of Knowledge</th>\n",
       "    </tr>\n",
       "  </thead>\n",
       "  <tbody>\n",
       "    <tr>\n",
       "      <th>0</th>\n",
       "      <td>Transfer of cannabinoids into the milk of dair...</td>\n",
       "      <td>https://www.nature.com/articles/s43016-022-006...</td>\n",
       "      <td>Bettina Wagner, Pietro Gerletti, Robert Pieper</td>\n",
       "      <td>2022-11-14</td>\n",
       "      <td>https://www.nature.com/articles/s43016-022-006...</td>\n",
       "      <td>Open Access</td>\n",
       "      <td>Agricultural Sciences</td>\n",
       "    </tr>\n",
       "    <tr>\n",
       "      <th>1</th>\n",
       "      <td>A systematic scoping review of the sustainabil...</td>\n",
       "      <td>https://www.nature.com/articles/s43016-022-006...</td>\n",
       "      <td>A. Charlotte Bunge, Amanda Wood, Line J. Gordon</td>\n",
       "      <td>2022-11-03</td>\n",
       "      <td>https://www.nature.com/articles/s43016-022-006...</td>\n",
       "      <td>Open Access</td>\n",
       "      <td>Agricultural Sciences</td>\n",
       "    </tr>\n",
       "    <tr>\n",
       "      <th>2</th>\n",
       "      <td>Rights and representation support justice acro...</td>\n",
       "      <td>https://www.nature.com/articles/s43016-022-006...</td>\n",
       "      <td>Christina C. Hicks, Jessica A. Gephart, Rosamo...</td>\n",
       "      <td>2022-10-18</td>\n",
       "      <td>https://www.nature.com/articles/s43016-022-006...</td>\n",
       "      <td>Open Access</td>\n",
       "      <td>Agricultural Sciences</td>\n",
       "    </tr>\n",
       "    <tr>\n",
       "      <th>3</th>\n",
       "      <td>Global dietary quality in 185 countries from 1...</td>\n",
       "      <td>https://www.nature.com/articles/s43016-022-005...</td>\n",
       "      <td>Victoria Miller, Patrick Webb, Rubina Hakeem</td>\n",
       "      <td>2022-09-19</td>\n",
       "      <td>https://www.nature.com/articles/s43016-022-005...</td>\n",
       "      <td>Open Access</td>\n",
       "      <td>Agricultural Sciences</td>\n",
       "    </tr>\n",
       "    <tr>\n",
       "      <th>4</th>\n",
       "      <td>Food system by-products upcycled in livestock ...</td>\n",
       "      <td>https://www.nature.com/articles/s43016-022-005...</td>\n",
       "      <td>Vilma Sandström, Anna Chrysafi, Matti Kummu</td>\n",
       "      <td>2022-09-19</td>\n",
       "      <td>https://www.nature.com/articles/s43016-022-005...</td>\n",
       "      <td>Open Access</td>\n",
       "      <td>Agricultural Sciences</td>\n",
       "    </tr>\n",
       "    <tr>\n",
       "      <th>5</th>\n",
       "      <td>Global food insecurity and famine from reduced...</td>\n",
       "      <td>https://www.nature.com/articles/s43016-022-005...</td>\n",
       "      <td>Lili Xia, Alan Robock, Ryan Heneghan</td>\n",
       "      <td>2022-08-15</td>\n",
       "      <td>https://www.nature.com/articles/s43016-022-005...</td>\n",
       "      <td>Open Access</td>\n",
       "      <td>Agricultural Sciences</td>\n",
       "    </tr>\n",
       "    <tr>\n",
       "      <th>6</th>\n",
       "      <td>A shift from cattle to camel and goat farming ...</td>\n",
       "      <td>https://www.nature.com/articles/s43016-022-005...</td>\n",
       "      <td>Jaber Rahimi, Erwann Fillol, Klaus Butterbach-...</td>\n",
       "      <td>2022-07-21</td>\n",
       "      <td>https://www.nature.com/articles/s43016-022-005...</td>\n",
       "      <td>Open Access</td>\n",
       "      <td>Agricultural Sciences</td>\n",
       "    </tr>\n",
       "    <tr>\n",
       "      <th>7</th>\n",
       "      <td>Time management governs climate resilience and...</td>\n",
       "      <td>https://www.nature.com/articles/s43016-022-005...</td>\n",
       "      <td>Andrew J. McDonald, Balwinder-Singh, R. K. Malik</td>\n",
       "      <td>2022-07-21</td>\n",
       "      <td>https://www.nature.com/articles/s43016-022-005...</td>\n",
       "      <td>Open Access</td>\n",
       "      <td>Agricultural Sciences</td>\n",
       "    </tr>\n",
       "    <tr>\n",
       "      <th>8</th>\n",
       "      <td>A hybrid inorganic–biological artificial photo...</td>\n",
       "      <td>https://www.nature.com/articles/s43016-022-005...</td>\n",
       "      <td>Elizabeth C. Hann, Sean Overa, Robert E. Jinke...</td>\n",
       "      <td>2022-06-23</td>\n",
       "      <td>https://www.nature.com/articles/s43016-022-005...</td>\n",
       "      <td>Open Access</td>\n",
       "      <td>Agricultural Sciences</td>\n",
       "    </tr>\n",
       "    <tr>\n",
       "      <th>9</th>\n",
       "      <td>A systematic review of the definitions and int...</td>\n",
       "      <td>https://www.nature.com/articles/s43016-022-005...</td>\n",
       "      <td>Kajsa Resare Sahlin, Joanna Trewern</td>\n",
       "      <td>2022-06-23</td>\n",
       "      <td>https://www.nature.com/articles/s43016-022-005...</td>\n",
       "      <td>Open Access</td>\n",
       "      <td>Agricultural Sciences</td>\n",
       "    </tr>\n",
       "    <tr>\n",
       "      <th>10</th>\n",
       "      <td>Crop harvests for direct food use insufficient...</td>\n",
       "      <td>https://www.nature.com/articles/s43016-022-005...</td>\n",
       "      <td>Deepak K. Ray, Lindsey L. Sloat, Wei Xie</td>\n",
       "      <td>2022-05-12</td>\n",
       "      <td>https://www.nature.com/articles/s43016-022-005...</td>\n",
       "      <td>Open Access</td>\n",
       "      <td>Agricultural Sciences</td>\n",
       "    </tr>\n",
       "    <tr>\n",
       "      <th>11</th>\n",
       "      <td>Southeast Asia must narrow down the yield gap ...</td>\n",
       "      <td>https://www.nature.com/articles/s43016-022-004...</td>\n",
       "      <td>Shen Yuan, Alexander M. Stuart, Patricio Grassini</td>\n",
       "      <td>2022-03-24</td>\n",
       "      <td>https://www.nature.com/articles/s43016-022-004...</td>\n",
       "      <td>Open Access</td>\n",
       "      <td>Agricultural Sciences</td>\n",
       "    </tr>\n",
       "    <tr>\n",
       "      <th>12</th>\n",
       "      <td>Establishing long-term nitrogen response of gl...</td>\n",
       "      <td>https://www.nature.com/articles/s43016-021-004...</td>\n",
       "      <td>Hans J. M. van Grinsven, Peter Ebanyat, Hein F...</td>\n",
       "      <td>2022-01-31</td>\n",
       "      <td>https://www.nature.com/articles/s43016-021-004...</td>\n",
       "      <td>Open Access</td>\n",
       "      <td>Agricultural Sciences</td>\n",
       "    </tr>\n",
       "    <tr>\n",
       "      <th>13</th>\n",
       "      <td>Circularity in animal production requires a ch...</td>\n",
       "      <td>https://www.nature.com/articles/s43016-021-004...</td>\n",
       "      <td>Benjamin van Selm, Anita Frehner, Hannah H. E....</td>\n",
       "      <td>2022-01-06</td>\n",
       "      <td>https://www.nature.com/articles/s43016-021-004...</td>\n",
       "      <td>Open Access</td>\n",
       "      <td>Agricultural Sciences</td>\n",
       "    </tr>\n",
       "    <tr>\n",
       "      <th>14</th>\n",
       "      <td>Global maps of cropland extent and change show...</td>\n",
       "      <td>https://www.nature.com/articles/s43016-021-004...</td>\n",
       "      <td>Peter Potapov, Svetlana Turubanova, Jocelyn Co...</td>\n",
       "      <td>2021-12-23</td>\n",
       "      <td>https://www.nature.com/articles/s43016-021-004...</td>\n",
       "      <td>Open Access</td>\n",
       "      <td>Agricultural Sciences</td>\n",
       "    </tr>\n",
       "    <tr>\n",
       "      <th>15</th>\n",
       "      <td>Diet and lifestyle behaviour disruption relate...</td>\n",
       "      <td>https://www.nature.com/articles/s43016-021-003...</td>\n",
       "      <td>Mohsen Mazidi, Emily R. Leeming, Sarah E. Berry</td>\n",
       "      <td>2021-12-16</td>\n",
       "      <td>https://www.nature.com/articles/s43016-021-003...</td>\n",
       "      <td>Open Access</td>\n",
       "      <td>Agricultural Sciences</td>\n",
       "    </tr>\n",
       "    <tr>\n",
       "      <th>16</th>\n",
       "      <td>Short- and long-term warming effects of methan...</td>\n",
       "      <td>https://www.nature.com/articles/s43016-021-003...</td>\n",
       "      <td>Ignacio Pérez-Domínguez, Agustin del Prado, Ma...</td>\n",
       "      <td>2021-12-13</td>\n",
       "      <td>https://www.nature.com/articles/s43016-021-003...</td>\n",
       "      <td>Open Access</td>\n",
       "      <td>Agricultural Sciences</td>\n",
       "    </tr>\n",
       "    <tr>\n",
       "      <th>17</th>\n",
       "      <td>Spatial frameworks for robust estimation of yi...</td>\n",
       "      <td>https://www.nature.com/articles/s43016-021-003...</td>\n",
       "      <td>Juan I. Rattalino Edreira, José F. Andrade, Pa...</td>\n",
       "      <td>2021-09-30</td>\n",
       "      <td>https://www.nature.com/articles/s43016-021-003...</td>\n",
       "      <td>Open Access</td>\n",
       "      <td>Agricultural Sciences</td>\n",
       "    </tr>\n",
       "    <tr>\n",
       "      <th>18</th>\n",
       "      <td>A scoping review of the contributions of farme...</td>\n",
       "      <td>https://www.nature.com/articles/s43016-020-001...</td>\n",
       "      <td>Livia Bizikova, Ephraim Nkonya, Beth Timmers</td>\n",
       "      <td>2020-10-12</td>\n",
       "      <td>https://www.nature.com/articles/s43016-020-001...</td>\n",
       "      <td>Open Access</td>\n",
       "      <td>Agricultural Sciences</td>\n",
       "    </tr>\n",
       "    <tr>\n",
       "      <th>19</th>\n",
       "      <td>A systematic review of employment outcomes fro...</td>\n",
       "      <td>https://www.nature.com/articles/s43016-020-001...</td>\n",
       "      <td>W. H. Eugenie Maïga, Mohamed Porgo, Gracian Ch...</td>\n",
       "      <td>2020-10-12</td>\n",
       "      <td>https://www.nature.com/articles/s43016-020-001...</td>\n",
       "      <td>Open Access</td>\n",
       "      <td>Agricultural Sciences</td>\n",
       "    </tr>\n",
       "  </tbody>\n",
       "</table>\n",
       "</div>"
      ],
      "text/plain": [
       "                                                Title  \\\n",
       "0   Transfer of cannabinoids into the milk of dair...   \n",
       "1   A systematic scoping review of the sustainabil...   \n",
       "2   Rights and representation support justice acro...   \n",
       "3   Global dietary quality in 185 countries from 1...   \n",
       "4   Food system by-products upcycled in livestock ...   \n",
       "5   Global food insecurity and famine from reduced...   \n",
       "6   A shift from cattle to camel and goat farming ...   \n",
       "7   Time management governs climate resilience and...   \n",
       "8   A hybrid inorganic–biological artificial photo...   \n",
       "9   A systematic review of the definitions and int...   \n",
       "10  Crop harvests for direct food use insufficient...   \n",
       "11  Southeast Asia must narrow down the yield gap ...   \n",
       "12  Establishing long-term nitrogen response of gl...   \n",
       "13  Circularity in animal production requires a ch...   \n",
       "14  Global maps of cropland extent and change show...   \n",
       "15  Diet and lifestyle behaviour disruption relate...   \n",
       "16  Short- and long-term warming effects of methan...   \n",
       "17  Spatial frameworks for robust estimation of yi...   \n",
       "18  A scoping review of the contributions of farme...   \n",
       "19  A systematic review of employment outcomes fro...   \n",
       "\n",
       "                                                  URL  \\\n",
       "0   https://www.nature.com/articles/s43016-022-006...   \n",
       "1   https://www.nature.com/articles/s43016-022-006...   \n",
       "2   https://www.nature.com/articles/s43016-022-006...   \n",
       "3   https://www.nature.com/articles/s43016-022-005...   \n",
       "4   https://www.nature.com/articles/s43016-022-005...   \n",
       "5   https://www.nature.com/articles/s43016-022-005...   \n",
       "6   https://www.nature.com/articles/s43016-022-005...   \n",
       "7   https://www.nature.com/articles/s43016-022-005...   \n",
       "8   https://www.nature.com/articles/s43016-022-005...   \n",
       "9   https://www.nature.com/articles/s43016-022-005...   \n",
       "10  https://www.nature.com/articles/s43016-022-005...   \n",
       "11  https://www.nature.com/articles/s43016-022-004...   \n",
       "12  https://www.nature.com/articles/s43016-021-004...   \n",
       "13  https://www.nature.com/articles/s43016-021-004...   \n",
       "14  https://www.nature.com/articles/s43016-021-004...   \n",
       "15  https://www.nature.com/articles/s43016-021-003...   \n",
       "16  https://www.nature.com/articles/s43016-021-003...   \n",
       "17  https://www.nature.com/articles/s43016-021-003...   \n",
       "18  https://www.nature.com/articles/s43016-020-001...   \n",
       "19  https://www.nature.com/articles/s43016-020-001...   \n",
       "\n",
       "                               Authors (compact list)  Published  \\\n",
       "0      Bettina Wagner, Pietro Gerletti, Robert Pieper 2022-11-14   \n",
       "1     A. Charlotte Bunge, Amanda Wood, Line J. Gordon 2022-11-03   \n",
       "2   Christina C. Hicks, Jessica A. Gephart, Rosamo... 2022-10-18   \n",
       "3        Victoria Miller, Patrick Webb, Rubina Hakeem 2022-09-19   \n",
       "4         Vilma Sandström, Anna Chrysafi, Matti Kummu 2022-09-19   \n",
       "5                Lili Xia, Alan Robock, Ryan Heneghan 2022-08-15   \n",
       "6   Jaber Rahimi, Erwann Fillol, Klaus Butterbach-... 2022-07-21   \n",
       "7    Andrew J. McDonald, Balwinder-Singh, R. K. Malik 2022-07-21   \n",
       "8   Elizabeth C. Hann, Sean Overa, Robert E. Jinke... 2022-06-23   \n",
       "9                 Kajsa Resare Sahlin, Joanna Trewern 2022-06-23   \n",
       "10           Deepak K. Ray, Lindsey L. Sloat, Wei Xie 2022-05-12   \n",
       "11  Shen Yuan, Alexander M. Stuart, Patricio Grassini 2022-03-24   \n",
       "12  Hans J. M. van Grinsven, Peter Ebanyat, Hein F... 2022-01-31   \n",
       "13  Benjamin van Selm, Anita Frehner, Hannah H. E.... 2022-01-06   \n",
       "14  Peter Potapov, Svetlana Turubanova, Jocelyn Co... 2021-12-23   \n",
       "15    Mohsen Mazidi, Emily R. Leeming, Sarah E. Berry 2021-12-16   \n",
       "16  Ignacio Pérez-Domínguez, Agustin del Prado, Ma... 2021-12-13   \n",
       "17  Juan I. Rattalino Edreira, José F. Andrade, Pa... 2021-09-30   \n",
       "18       Livia Bizikova, Ephraim Nkonya, Beth Timmers 2020-10-12   \n",
       "19  W. H. Eugenie Maïga, Mohamed Porgo, Gracian Ch... 2020-10-12   \n",
       "\n",
       "                                              PDF URL  Open Access  \\\n",
       "0   https://www.nature.com/articles/s43016-022-006...  Open Access   \n",
       "1   https://www.nature.com/articles/s43016-022-006...  Open Access   \n",
       "2   https://www.nature.com/articles/s43016-022-006...  Open Access   \n",
       "3   https://www.nature.com/articles/s43016-022-005...  Open Access   \n",
       "4   https://www.nature.com/articles/s43016-022-005...  Open Access   \n",
       "5   https://www.nature.com/articles/s43016-022-005...  Open Access   \n",
       "6   https://www.nature.com/articles/s43016-022-005...  Open Access   \n",
       "7   https://www.nature.com/articles/s43016-022-005...  Open Access   \n",
       "8   https://www.nature.com/articles/s43016-022-005...  Open Access   \n",
       "9   https://www.nature.com/articles/s43016-022-005...  Open Access   \n",
       "10  https://www.nature.com/articles/s43016-022-005...  Open Access   \n",
       "11  https://www.nature.com/articles/s43016-022-004...  Open Access   \n",
       "12  https://www.nature.com/articles/s43016-021-004...  Open Access   \n",
       "13  https://www.nature.com/articles/s43016-021-004...  Open Access   \n",
       "14  https://www.nature.com/articles/s43016-021-004...  Open Access   \n",
       "15  https://www.nature.com/articles/s43016-021-003...  Open Access   \n",
       "16  https://www.nature.com/articles/s43016-021-003...  Open Access   \n",
       "17  https://www.nature.com/articles/s43016-021-003...  Open Access   \n",
       "18  https://www.nature.com/articles/s43016-020-001...  Open Access   \n",
       "19  https://www.nature.com/articles/s43016-020-001...  Open Access   \n",
       "\n",
       "        Area of Knowledge  \n",
       "0   Agricultural Sciences  \n",
       "1   Agricultural Sciences  \n",
       "2   Agricultural Sciences  \n",
       "3   Agricultural Sciences  \n",
       "4   Agricultural Sciences  \n",
       "5   Agricultural Sciences  \n",
       "6   Agricultural Sciences  \n",
       "7   Agricultural Sciences  \n",
       "8   Agricultural Sciences  \n",
       "9   Agricultural Sciences  \n",
       "10  Agricultural Sciences  \n",
       "11  Agricultural Sciences  \n",
       "12  Agricultural Sciences  \n",
       "13  Agricultural Sciences  \n",
       "14  Agricultural Sciences  \n",
       "15  Agricultural Sciences  \n",
       "16  Agricultural Sciences  \n",
       "17  Agricultural Sciences  \n",
       "18  Agricultural Sciences  \n",
       "19  Agricultural Sciences  "
      ]
     },
     "execution_count": 22,
     "metadata": {},
     "output_type": "execute_result"
    }
   ],
   "source": [
    "df_nature_food_open_access = df_nature_food[df_nature_food['Open Access'] == 'Open Access']\n",
    "df_nature_food_open_access = df_nature_food_open_access[df_nature_food_open_access['Published'] <= '2022-11-30']\n",
    "df_nature_food_open_access = df_nature_food_open_access.reset_index(drop=True)\n",
    "df_nature_food_open_access"
   ]
  },
  {
   "cell_type": "markdown",
   "id": "1c520157-f0ed-4066-ae91-8b557fe4f22e",
   "metadata": {},
   "source": [
    "#### Inspecting a few articles"
   ]
  },
  {
   "cell_type": "code",
   "execution_count": 23,
   "id": "327e6912-7273-49ca-b27c-df2d4de5a0cd",
   "metadata": {},
   "outputs": [
    {
     "data": {
      "text/plain": [
       "'https://www.nature.com/articles/s43016-022-00623-7.pdf'"
      ]
     },
     "execution_count": 23,
     "metadata": {},
     "output_type": "execute_result"
    }
   ],
   "source": [
    "df_nature_food_open_access.at[0, 'PDF URL']"
   ]
  },
  {
   "cell_type": "markdown",
   "id": "c633fcd5-b991-492b-abf2-11a5352349c0",
   "metadata": {},
   "source": [
    "#### Exporting to a file"
   ]
  },
  {
   "cell_type": "code",
   "execution_count": 24,
   "id": "88a8cfd3-8910-4af9-a8c3-97e18552edc7",
   "metadata": {},
   "outputs": [],
   "source": [
    "df_nature_food_open_access.to_json(f\"{output_directory}/nature_food_open_access.jsonl\", orient='records', lines=True)"
   ]
  },
  {
   "cell_type": "markdown",
   "id": "985bb967-5600-4b00-9434-f73d67067030",
   "metadata": {},
   "source": [
    "### Scraping [Nature Sustainability](https://www.nature.com/natsustain/)"
   ]
  },
  {
   "cell_type": "markdown",
   "id": "8b9d608f-124f-467b-b68b-c7e77cdff873",
   "metadata": {},
   "source": [
    "#### Scraping the articles"
   ]
  },
  {
   "cell_type": "code",
   "execution_count": 3,
   "id": "cc1380f2-4c61-4fc4-a7ea-a1713818b419",
   "metadata": {},
   "outputs": [],
   "source": [
    "root_url = 'https://www.nature.com'\n",
    "article_list_url = 'https://www.nature.com/natsustain/research-articles?searchType=journalSearch&sort=PubDate&page='\n",
    "start_page = 1\n",
    "end_page = 37\n",
    "area_of_knowledge = 'Agricultural Sciences'"
   ]
  },
  {
   "cell_type": "code",
   "execution_count": 4,
   "id": "6fe0ee26-b199-49e1-957c-1dd4fc5f88d9",
   "metadata": {},
   "outputs": [
    {
     "name": "stderr",
     "output_type": "stream",
     "text": [
      "100%|██████████| 37/37 [00:59<00:00,  1.61s/it]\n"
     ]
    }
   ],
   "source": [
    "# Initialize an empty list to store the data\n",
    "data = []\n",
    "\n",
    "# Iterating through the URLs and using 'tqdm' for progress tracking in the range loop\n",
    "for i in tqdm(range(start_page, end_page + 1)):\n",
    "    url = f\"{article_list_url}{i}\"\n",
    "    response = requests.get(url)\n",
    "    soup = BeautifulSoup(response.content, 'lxml')\n",
    "\n",
    "    # Finding all <article> elements with the class 'u-full-height c-card c-card--flush'\n",
    "    articles = soup.find_all('article', class_='u-full-height c-card c-card--flush')\n",
    "\n",
    "    for article in articles:\n",
    "        # Extracting the title\n",
    "        title_tag = article.find('h3', class_='c-card__title').find('a')\n",
    "        title = title_tag.get_text(strip=True) if title_tag else ''\n",
    "        title_url = f\"{root_url}{title_tag.get('href')}\" if title_tag else ''\n",
    "\n",
    "        # Extracting the authors\n",
    "        author_tags = article.find_all('li', itemprop='creator')\n",
    "        authors = ', '.join(author.get_text(strip=True) for author in author_tags)\n",
    "\n",
    "        # Extracting the published date\n",
    "        date_tag = article.find('time')\n",
    "        date_published = date_tag['datetime'] if date_tag else ''\n",
    "\n",
    "        # Extracting the PDF URL\n",
    "        pdf_url = f\"{title_url}.pdf\" if title_url else ''\n",
    "\n",
    "        # Extracting the 'Open Access' label\n",
    "        open_access_tag = article.find('span', class_='u-color-open-access')\n",
    "        open_access = open_access_tag.get_text(strip=True) if open_access_tag else ''\n",
    "\n",
    "        # Appending the data to the list\n",
    "        data.append({\n",
    "            'Title': title,\n",
    "            'URL': title_url,\n",
    "            'Authors (compact list)': authors,\n",
    "            'Published': date_published,\n",
    "            'PDF URL': pdf_url,\n",
    "            'Open Access': open_access,\n",
    "            'Area of Knowledge': area_of_knowledge\n",
    "        })\n",
    "\n",
    "# Creating a DataFrame from the data\n",
    "df_nature_sustainability = pd.DataFrame(data)"
   ]
  },
  {
   "cell_type": "code",
   "execution_count": 5,
   "id": "55fc6f63-87ac-48ff-a517-7a664f33dd53",
   "metadata": {},
   "outputs": [
    {
     "data": {
      "text/html": [
       "<div>\n",
       "<style scoped>\n",
       "    .dataframe tbody tr th:only-of-type {\n",
       "        vertical-align: middle;\n",
       "    }\n",
       "\n",
       "    .dataframe tbody tr th {\n",
       "        vertical-align: top;\n",
       "    }\n",
       "\n",
       "    .dataframe thead th {\n",
       "        text-align: right;\n",
       "    }\n",
       "</style>\n",
       "<table border=\"1\" class=\"dataframe\">\n",
       "  <thead>\n",
       "    <tr style=\"text-align: right;\">\n",
       "      <th></th>\n",
       "      <th>Title</th>\n",
       "      <th>URL</th>\n",
       "      <th>Authors (compact list)</th>\n",
       "      <th>Published</th>\n",
       "      <th>PDF URL</th>\n",
       "      <th>Open Access</th>\n",
       "      <th>Area of Knowledge</th>\n",
       "    </tr>\n",
       "  </thead>\n",
       "  <tbody>\n",
       "    <tr>\n",
       "      <th>0</th>\n",
       "      <td>Hybrid polymer network cathode-enabled soluble...</td>\n",
       "      <td>https://www.nature.com/articles/s41893-024-014...</td>\n",
       "      <td>Meng Liao, Yaobin Xu, Donghai Wang</td>\n",
       "      <td>2024-10-22</td>\n",
       "      <td>https://www.nature.com/articles/s41893-024-014...</td>\n",
       "      <td></td>\n",
       "      <td>Agricultural Sciences</td>\n",
       "    </tr>\n",
       "    <tr>\n",
       "      <th>1</th>\n",
       "      <td>Sustainable lithium extraction and magnesium h...</td>\n",
       "      <td>https://www.nature.com/articles/s41893-024-014...</td>\n",
       "      <td>Ming Yong, Meng Tang, Huanting Wang</td>\n",
       "      <td>2024-10-22</td>\n",
       "      <td>https://www.nature.com/articles/s41893-024-014...</td>\n",
       "      <td></td>\n",
       "      <td>Agricultural Sciences</td>\n",
       "    </tr>\n",
       "    <tr>\n",
       "      <th>2</th>\n",
       "      <td>Radical climate protests linked to increases i...</td>\n",
       "      <td>https://www.nature.com/articles/s41893-024-014...</td>\n",
       "      <td>Markus Ostarek, Brent Simpson, James Ozden</td>\n",
       "      <td>2024-10-21</td>\n",
       "      <td>https://www.nature.com/articles/s41893-024-014...</td>\n",
       "      <td></td>\n",
       "      <td>Agricultural Sciences</td>\n",
       "    </tr>\n",
       "    <tr>\n",
       "      <th>3</th>\n",
       "      <td>Involving citizens in monitoring the Kunming–M...</td>\n",
       "      <td>https://www.nature.com/articles/s41893-024-014...</td>\n",
       "      <td>Finn Danielsen, Natasha Ali, Neil D. Burgess</td>\n",
       "      <td>2024-10-18</td>\n",
       "      <td>https://www.nature.com/articles/s41893-024-014...</td>\n",
       "      <td>Open Access</td>\n",
       "      <td>Agricultural Sciences</td>\n",
       "    </tr>\n",
       "    <tr>\n",
       "      <th>4</th>\n",
       "      <td>A renewable and socially accepted energy syste...</td>\n",
       "      <td>https://www.nature.com/articles/s41893-024-014...</td>\n",
       "      <td>Guillermo Valenzuela-Venegas, Maria Luisa Lode...</td>\n",
       "      <td>2024-10-11</td>\n",
       "      <td>https://www.nature.com/articles/s41893-024-014...</td>\n",
       "      <td></td>\n",
       "      <td>Agricultural Sciences</td>\n",
       "    </tr>\n",
       "    <tr>\n",
       "      <th>...</th>\n",
       "      <td>...</td>\n",
       "      <td>...</td>\n",
       "      <td>...</td>\n",
       "      <td>...</td>\n",
       "      <td>...</td>\n",
       "      <td>...</td>\n",
       "      <td>...</td>\n",
       "    </tr>\n",
       "    <tr>\n",
       "      <th>729</th>\n",
       "      <td>Water competition between cities and agricultu...</td>\n",
       "      <td>https://www.nature.com/articles/s41893-017-0006-8</td>\n",
       "      <td>Martina Flörke, Christof Schneider, Robert I. ...</td>\n",
       "      <td>2018-01-08</td>\n",
       "      <td>https://www.nature.com/articles/s41893-017-000...</td>\n",
       "      <td></td>\n",
       "      <td>Agricultural Sciences</td>\n",
       "    </tr>\n",
       "    <tr>\n",
       "      <th>730</th>\n",
       "      <td>Impacts of booming concrete production on wate...</td>\n",
       "      <td>https://www.nature.com/articles/s41893-017-0009-5</td>\n",
       "      <td>Sabbie A. Miller, Arpad Horvath, Paulo J. M. M...</td>\n",
       "      <td>2018-01-08</td>\n",
       "      <td>https://www.nature.com/articles/s41893-017-000...</td>\n",
       "      <td></td>\n",
       "      <td>Agricultural Sciences</td>\n",
       "    </tr>\n",
       "    <tr>\n",
       "      <th>731</th>\n",
       "      <td>Targeted emission reductions from global super...</td>\n",
       "      <td>https://www.nature.com/articles/s41893-017-0003-y</td>\n",
       "      <td>Dan Tong, Qiang Zhang, Kebin He</td>\n",
       "      <td>2018-01-08</td>\n",
       "      <td>https://www.nature.com/articles/s41893-017-000...</td>\n",
       "      <td></td>\n",
       "      <td>Agricultural Sciences</td>\n",
       "    </tr>\n",
       "    <tr>\n",
       "      <th>732</th>\n",
       "      <td>Increased vegetation growth and carbon stock i...</td>\n",
       "      <td>https://www.nature.com/articles/s41893-017-0004-x</td>\n",
       "      <td>Xiaowei Tong, Martin Brandt, Rasmus Fensholt</td>\n",
       "      <td>2018-01-08</td>\n",
       "      <td>https://www.nature.com/articles/s41893-017-000...</td>\n",
       "      <td></td>\n",
       "      <td>Agricultural Sciences</td>\n",
       "    </tr>\n",
       "    <tr>\n",
       "      <th>733</th>\n",
       "      <td>Socio-economic consequences of post-disaster r...</td>\n",
       "      <td>https://www.nature.com/articles/s41893-017-0002-z</td>\n",
       "      <td>Jamie W. McCaughey, Patrick Daly, Anthony Patt</td>\n",
       "      <td>2018-01-08</td>\n",
       "      <td>https://www.nature.com/articles/s41893-017-000...</td>\n",
       "      <td></td>\n",
       "      <td>Agricultural Sciences</td>\n",
       "    </tr>\n",
       "  </tbody>\n",
       "</table>\n",
       "<p>734 rows × 7 columns</p>\n",
       "</div>"
      ],
      "text/plain": [
       "                                                 Title  \\\n",
       "0    Hybrid polymer network cathode-enabled soluble...   \n",
       "1    Sustainable lithium extraction and magnesium h...   \n",
       "2    Radical climate protests linked to increases i...   \n",
       "3    Involving citizens in monitoring the Kunming–M...   \n",
       "4    A renewable and socially accepted energy syste...   \n",
       "..                                                 ...   \n",
       "729  Water competition between cities and agricultu...   \n",
       "730  Impacts of booming concrete production on wate...   \n",
       "731  Targeted emission reductions from global super...   \n",
       "732  Increased vegetation growth and carbon stock i...   \n",
       "733  Socio-economic consequences of post-disaster r...   \n",
       "\n",
       "                                                   URL  \\\n",
       "0    https://www.nature.com/articles/s41893-024-014...   \n",
       "1    https://www.nature.com/articles/s41893-024-014...   \n",
       "2    https://www.nature.com/articles/s41893-024-014...   \n",
       "3    https://www.nature.com/articles/s41893-024-014...   \n",
       "4    https://www.nature.com/articles/s41893-024-014...   \n",
       "..                                                 ...   \n",
       "729  https://www.nature.com/articles/s41893-017-0006-8   \n",
       "730  https://www.nature.com/articles/s41893-017-0009-5   \n",
       "731  https://www.nature.com/articles/s41893-017-0003-y   \n",
       "732  https://www.nature.com/articles/s41893-017-0004-x   \n",
       "733  https://www.nature.com/articles/s41893-017-0002-z   \n",
       "\n",
       "                                Authors (compact list)  Published  \\\n",
       "0                   Meng Liao, Yaobin Xu, Donghai Wang 2024-10-22   \n",
       "1                  Ming Yong, Meng Tang, Huanting Wang 2024-10-22   \n",
       "2           Markus Ostarek, Brent Simpson, James Ozden 2024-10-21   \n",
       "3         Finn Danielsen, Natasha Ali, Neil D. Burgess 2024-10-18   \n",
       "4    Guillermo Valenzuela-Venegas, Maria Luisa Lode... 2024-10-11   \n",
       "..                                                 ...        ...   \n",
       "729  Martina Flörke, Christof Schneider, Robert I. ... 2018-01-08   \n",
       "730  Sabbie A. Miller, Arpad Horvath, Paulo J. M. M... 2018-01-08   \n",
       "731                    Dan Tong, Qiang Zhang, Kebin He 2018-01-08   \n",
       "732       Xiaowei Tong, Martin Brandt, Rasmus Fensholt 2018-01-08   \n",
       "733     Jamie W. McCaughey, Patrick Daly, Anthony Patt 2018-01-08   \n",
       "\n",
       "                                               PDF URL  Open Access  \\\n",
       "0    https://www.nature.com/articles/s41893-024-014...                \n",
       "1    https://www.nature.com/articles/s41893-024-014...                \n",
       "2    https://www.nature.com/articles/s41893-024-014...                \n",
       "3    https://www.nature.com/articles/s41893-024-014...  Open Access   \n",
       "4    https://www.nature.com/articles/s41893-024-014...                \n",
       "..                                                 ...          ...   \n",
       "729  https://www.nature.com/articles/s41893-017-000...                \n",
       "730  https://www.nature.com/articles/s41893-017-000...                \n",
       "731  https://www.nature.com/articles/s41893-017-000...                \n",
       "732  https://www.nature.com/articles/s41893-017-000...                \n",
       "733  https://www.nature.com/articles/s41893-017-000...                \n",
       "\n",
       "         Area of Knowledge  \n",
       "0    Agricultural Sciences  \n",
       "1    Agricultural Sciences  \n",
       "2    Agricultural Sciences  \n",
       "3    Agricultural Sciences  \n",
       "4    Agricultural Sciences  \n",
       "..                     ...  \n",
       "729  Agricultural Sciences  \n",
       "730  Agricultural Sciences  \n",
       "731  Agricultural Sciences  \n",
       "732  Agricultural Sciences  \n",
       "733  Agricultural Sciences  \n",
       "\n",
       "[734 rows x 7 columns]"
      ]
     },
     "execution_count": 5,
     "metadata": {},
     "output_type": "execute_result"
    }
   ],
   "source": [
    "df_nature_sustainability['Published'] = pd.to_datetime(df_nature_sustainability['Published'])\n",
    "df_nature_sustainability"
   ]
  },
  {
   "cell_type": "markdown",
   "id": "5ac62d9c-d2f5-4bed-961b-329a29f0d2e8",
   "metadata": {},
   "source": [
    "#### Selecting the 'Open Access' articles published before the advent of ChatGPT"
   ]
  },
  {
   "cell_type": "markdown",
   "id": "c3ca1448-6d60-4ba6-bf4e-f54811fbb83f",
   "metadata": {},
   "source": [
    "ChatGPT was released by OpenAI on November 30, 2022."
   ]
  },
  {
   "cell_type": "code",
   "execution_count": 6,
   "id": "b2661d55-356e-432e-b84e-831c004b7a46",
   "metadata": {},
   "outputs": [
    {
     "data": {
      "text/html": [
       "<div>\n",
       "<style scoped>\n",
       "    .dataframe tbody tr th:only-of-type {\n",
       "        vertical-align: middle;\n",
       "    }\n",
       "\n",
       "    .dataframe tbody tr th {\n",
       "        vertical-align: top;\n",
       "    }\n",
       "\n",
       "    .dataframe thead th {\n",
       "        text-align: right;\n",
       "    }\n",
       "</style>\n",
       "<table border=\"1\" class=\"dataframe\">\n",
       "  <thead>\n",
       "    <tr style=\"text-align: right;\">\n",
       "      <th></th>\n",
       "      <th>Title</th>\n",
       "      <th>URL</th>\n",
       "      <th>Authors (compact list)</th>\n",
       "      <th>Published</th>\n",
       "      <th>PDF URL</th>\n",
       "      <th>Open Access</th>\n",
       "      <th>Area of Knowledge</th>\n",
       "    </tr>\n",
       "  </thead>\n",
       "  <tbody>\n",
       "    <tr>\n",
       "      <th>0</th>\n",
       "      <td>Towards process-oriented management of tropica...</td>\n",
       "      <td>https://www.nature.com/articles/s41893-022-009...</td>\n",
       "      <td>Raphael Seguin, David Mouillot, Nicolas Loiseau</td>\n",
       "      <td>2022-11-14</td>\n",
       "      <td>https://www.nature.com/articles/s41893-022-009...</td>\n",
       "      <td>Open Access</td>\n",
       "      <td>Agricultural Sciences</td>\n",
       "    </tr>\n",
       "    <tr>\n",
       "      <th>1</th>\n",
       "      <td>Impacts of meeting minimum access on critical ...</td>\n",
       "      <td>https://www.nature.com/articles/s41893-022-009...</td>\n",
       "      <td>Crelis F. Rammelt, Joyeeta Gupta, Caroline Zimm</td>\n",
       "      <td>2022-11-10</td>\n",
       "      <td>https://www.nature.com/articles/s41893-022-009...</td>\n",
       "      <td>Open Access</td>\n",
       "      <td>Agricultural Sciences</td>\n",
       "    </tr>\n",
       "    <tr>\n",
       "      <th>2</th>\n",
       "      <td>Sustained productivity and agronomic potential...</td>\n",
       "      <td>https://www.nature.com/articles/s41893-022-009...</td>\n",
       "      <td>Shilai Zhang, Guangfu Huang, Fengyi Hu</td>\n",
       "      <td>2022-11-07</td>\n",
       "      <td>https://www.nature.com/articles/s41893-022-009...</td>\n",
       "      <td>Open Access</td>\n",
       "      <td>Agricultural Sciences</td>\n",
       "    </tr>\n",
       "    <tr>\n",
       "      <th>3</th>\n",
       "      <td>Protected area personnel and ranger numbers ar...</td>\n",
       "      <td>https://www.nature.com/articles/s41893-022-009...</td>\n",
       "      <td>Michael R. Appleton, Alexandre Courtiol, Barne...</td>\n",
       "      <td>2022-10-20</td>\n",
       "      <td>https://www.nature.com/articles/s41893-022-009...</td>\n",
       "      <td>Open Access</td>\n",
       "      <td>Agricultural Sciences</td>\n",
       "    </tr>\n",
       "    <tr>\n",
       "      <th>4</th>\n",
       "      <td>Insect pest management with sex pheromone prec...</td>\n",
       "      <td>https://www.nature.com/articles/s41893-022-009...</td>\n",
       "      <td>Hong-Lei Wang, Bao-Jian Ding, Christer Löfstedt</td>\n",
       "      <td>2022-09-01</td>\n",
       "      <td>https://www.nature.com/articles/s41893-022-009...</td>\n",
       "      <td>Open Access</td>\n",
       "      <td>Agricultural Sciences</td>\n",
       "    </tr>\n",
       "    <tr>\n",
       "      <th>5</th>\n",
       "      <td>Quantifying Earth system interactions for sust...</td>\n",
       "      <td>https://www.nature.com/articles/s41893-022-009...</td>\n",
       "      <td>Anna Chrysafi, Vili Virkki, Matti Kummu</td>\n",
       "      <td>2022-08-15</td>\n",
       "      <td>https://www.nature.com/articles/s41893-022-009...</td>\n",
       "      <td>Open Access</td>\n",
       "      <td>Agricultural Sciences</td>\n",
       "    </tr>\n",
       "    <tr>\n",
       "      <th>6</th>\n",
       "      <td>Persistent impact of Fukushima decontamination...</td>\n",
       "      <td>https://www.nature.com/articles/s41893-022-009...</td>\n",
       "      <td>Bin Feng, Yuichi Onda, Yupan Zhang</td>\n",
       "      <td>2022-07-14</td>\n",
       "      <td>https://www.nature.com/articles/s41893-022-009...</td>\n",
       "      <td>Open Access</td>\n",
       "      <td>Agricultural Sciences</td>\n",
       "    </tr>\n",
       "    <tr>\n",
       "      <th>7</th>\n",
       "      <td>Scientific evidence on the political impact of...</td>\n",
       "      <td>https://www.nature.com/articles/s41893-022-009...</td>\n",
       "      <td>Frank Biermann, Thomas Hickmann, Birka Wicke</td>\n",
       "      <td>2022-06-20</td>\n",
       "      <td>https://www.nature.com/articles/s41893-022-009...</td>\n",
       "      <td>Open Access</td>\n",
       "      <td>Agricultural Sciences</td>\n",
       "    </tr>\n",
       "    <tr>\n",
       "      <th>8</th>\n",
       "      <td>Re-thinking procurement incentives for electri...</td>\n",
       "      <td>https://www.nature.com/articles/s41893-022-008...</td>\n",
       "      <td>Ashley Nunes, Lucas Woodley, Philip Rossetti</td>\n",
       "      <td>2022-04-04</td>\n",
       "      <td>https://www.nature.com/articles/s41893-022-008...</td>\n",
       "      <td>Open Access</td>\n",
       "      <td>Agricultural Sciences</td>\n",
       "    </tr>\n",
       "    <tr>\n",
       "      <th>9</th>\n",
       "      <td>Improving biodiversity protection through arti...</td>\n",
       "      <td>https://www.nature.com/articles/s41893-022-008...</td>\n",
       "      <td>Daniele Silvestro, Stefano Goria, Alexandre An...</td>\n",
       "      <td>2022-03-24</td>\n",
       "      <td>https://www.nature.com/articles/s41893-022-008...</td>\n",
       "      <td>Open Access</td>\n",
       "      <td>Agricultural Sciences</td>\n",
       "    </tr>\n",
       "    <tr>\n",
       "      <th>10</th>\n",
       "      <td>On track to achieve no net loss of forest at M...</td>\n",
       "      <td>https://www.nature.com/articles/s41893-022-008...</td>\n",
       "      <td>Katie Devenish, Sébastien Desbureaux, Julia P....</td>\n",
       "      <td>2022-03-03</td>\n",
       "      <td>https://www.nature.com/articles/s41893-022-008...</td>\n",
       "      <td>Open Access</td>\n",
       "      <td>Agricultural Sciences</td>\n",
       "    </tr>\n",
       "    <tr>\n",
       "      <th>11</th>\n",
       "      <td>Wrap-and-plant technology to manage sustainabl...</td>\n",
       "      <td>https://www.nature.com/articles/s41893-022-008...</td>\n",
       "      <td>Juliet Ochola, Laura Cortada, Baldwyn Torto</td>\n",
       "      <td>2022-02-28</td>\n",
       "      <td>https://www.nature.com/articles/s41893-022-008...</td>\n",
       "      <td>Open Access</td>\n",
       "      <td>Agricultural Sciences</td>\n",
       "    </tr>\n",
       "    <tr>\n",
       "      <th>12</th>\n",
       "      <td>Doubling of annual forest carbon loss over the...</td>\n",
       "      <td>https://www.nature.com/articles/s41893-022-008...</td>\n",
       "      <td>Yu Feng, Zhenzhong Zeng, Chunmiao Zheng</td>\n",
       "      <td>2022-02-28</td>\n",
       "      <td>https://www.nature.com/articles/s41893-022-008...</td>\n",
       "      <td>Open Access</td>\n",
       "      <td>Agricultural Sciences</td>\n",
       "    </tr>\n",
       "    <tr>\n",
       "      <th>13</th>\n",
       "      <td>Co-benefits of forest carbon projects in South...</td>\n",
       "      <td>https://www.nature.com/articles/s41893-022-008...</td>\n",
       "      <td>Tasya Vadya Sarira, Yiwen Zeng, Lian Pin Koh</td>\n",
       "      <td>2022-02-10</td>\n",
       "      <td>https://www.nature.com/articles/s41893-022-008...</td>\n",
       "      <td>Open Access</td>\n",
       "      <td>Agricultural Sciences</td>\n",
       "    </tr>\n",
       "    <tr>\n",
       "      <th>14</th>\n",
       "      <td>Vulnerability to collapse of coral reef ecosys...</td>\n",
       "      <td>https://www.nature.com/articles/s41893-021-008...</td>\n",
       "      <td>David Obura, Mishal Gudka, Francisco Zivane</td>\n",
       "      <td>2021-12-06</td>\n",
       "      <td>https://www.nature.com/articles/s41893-021-008...</td>\n",
       "      <td>Open Access</td>\n",
       "      <td>Agricultural Sciences</td>\n",
       "    </tr>\n",
       "    <tr>\n",
       "      <th>15</th>\n",
       "      <td>Growing environmental footprint of plastics dr...</td>\n",
       "      <td>https://www.nature.com/articles/s41893-021-008...</td>\n",
       "      <td>Livia Cabernard, Stephan Pfister, Stefanie Hel...</td>\n",
       "      <td>2021-12-02</td>\n",
       "      <td>https://www.nature.com/articles/s41893-021-008...</td>\n",
       "      <td>Open Access</td>\n",
       "      <td>Agricultural Sciences</td>\n",
       "    </tr>\n",
       "    <tr>\n",
       "      <th>16</th>\n",
       "      <td>Phosphorus for Sustainable Development Goal ta...</td>\n",
       "      <td>https://www.nature.com/articles/s41893-021-007...</td>\n",
       "      <td>C. Langhans, A. H. W. Beusen, A. F. Bouwman</td>\n",
       "      <td>2021-11-22</td>\n",
       "      <td>https://www.nature.com/articles/s41893-021-007...</td>\n",
       "      <td>Open Access</td>\n",
       "      <td>Agricultural Sciences</td>\n",
       "    </tr>\n",
       "    <tr>\n",
       "      <th>17</th>\n",
       "      <td>Mapping the irrecoverable carbon in Earth’s ec...</td>\n",
       "      <td>https://www.nature.com/articles/s41893-021-008...</td>\n",
       "      <td>Monica L. Noon, Allie Goldstein, Will R. Turner</td>\n",
       "      <td>2021-11-18</td>\n",
       "      <td>https://www.nature.com/articles/s41893-021-008...</td>\n",
       "      <td>Open Access</td>\n",
       "      <td>Agricultural Sciences</td>\n",
       "    </tr>\n",
       "    <tr>\n",
       "      <th>18</th>\n",
       "      <td>Public health impacts of an imminent Red Sea o...</td>\n",
       "      <td>https://www.nature.com/articles/s41893-021-007...</td>\n",
       "      <td>Benjamin Q. Huynh, Laura H. Kwong, David H. Re...</td>\n",
       "      <td>2021-10-11</td>\n",
       "      <td>https://www.nature.com/articles/s41893-021-007...</td>\n",
       "      <td>Open Access</td>\n",
       "      <td>Agricultural Sciences</td>\n",
       "    </tr>\n",
       "    <tr>\n",
       "      <th>19</th>\n",
       "      <td>Nature inequity and higher COVID-19 case rates...</td>\n",
       "      <td>https://www.nature.com/articles/s41893-021-007...</td>\n",
       "      <td>Erica N. Spotswood, Matthew Benjamin, Robert I...</td>\n",
       "      <td>2021-10-11</td>\n",
       "      <td>https://www.nature.com/articles/s41893-021-007...</td>\n",
       "      <td>Open Access</td>\n",
       "      <td>Agricultural Sciences</td>\n",
       "    </tr>\n",
       "    <tr>\n",
       "      <th>20</th>\n",
       "      <td>Pathways to sustaining tuna-dependent Pacific ...</td>\n",
       "      <td>https://www.nature.com/articles/s41893-021-007...</td>\n",
       "      <td>Johann D. Bell, Inna Senina, Peter Williams</td>\n",
       "      <td>2021-07-29</td>\n",
       "      <td>https://www.nature.com/articles/s41893-021-007...</td>\n",
       "      <td>Open Access</td>\n",
       "      <td>Agricultural Sciences</td>\n",
       "    </tr>\n",
       "    <tr>\n",
       "      <th>21</th>\n",
       "      <td>Global assessment of innovative solutions to t...</td>\n",
       "      <td>https://www.nature.com/articles/s41893-021-007...</td>\n",
       "      <td>Nikoleta Bellou, Chiara Gambardella, Carsten L...</td>\n",
       "      <td>2021-06-10</td>\n",
       "      <td>https://www.nature.com/articles/s41893-021-007...</td>\n",
       "      <td>Open Access</td>\n",
       "      <td>Agricultural Sciences</td>\n",
       "    </tr>\n",
       "    <tr>\n",
       "      <th>22</th>\n",
       "      <td>A scoping review of research funding for small...</td>\n",
       "      <td>https://www.nature.com/articles/s41893-020-006...</td>\n",
       "      <td>Vincent Ricciardi, Abdrahmane Wane, Zia Mehrabi</td>\n",
       "      <td>2020-10-12</td>\n",
       "      <td>https://www.nature.com/articles/s41893-020-006...</td>\n",
       "      <td>Open Access</td>\n",
       "      <td>Agricultural Sciences</td>\n",
       "    </tr>\n",
       "    <tr>\n",
       "      <th>23</th>\n",
       "      <td>A scoping review of market links between value...</td>\n",
       "      <td>https://www.nature.com/articles/s41893-020-006...</td>\n",
       "      <td>Lenis Saweda O. Liverpool-Tasie, Ayala Wineman...</td>\n",
       "      <td>2020-10-12</td>\n",
       "      <td>https://www.nature.com/articles/s41893-020-006...</td>\n",
       "      <td>Open Access</td>\n",
       "      <td>Agricultural Sciences</td>\n",
       "    </tr>\n",
       "    <tr>\n",
       "      <th>24</th>\n",
       "      <td>A scoping review on incentives for adoption of...</td>\n",
       "      <td>https://www.nature.com/articles/s41893-020-006...</td>\n",
       "      <td>Valeria Piñeiro, Joaquín Arias, Maximo Torero</td>\n",
       "      <td>2020-10-12</td>\n",
       "      <td>https://www.nature.com/articles/s41893-020-006...</td>\n",
       "      <td>Open Access</td>\n",
       "      <td>Agricultural Sciences</td>\n",
       "    </tr>\n",
       "    <tr>\n",
       "      <th>25</th>\n",
       "      <td>A scoping review of interventions for crop pos...</td>\n",
       "      <td>https://www.nature.com/articles/s41893-020-006...</td>\n",
       "      <td>Tanya Stathers, Deirdre Holcroft, Maximo Torero</td>\n",
       "      <td>2020-10-12</td>\n",
       "      <td>https://www.nature.com/articles/s41893-020-006...</td>\n",
       "      <td>Open Access</td>\n",
       "      <td>Agricultural Sciences</td>\n",
       "    </tr>\n",
       "    <tr>\n",
       "      <th>26</th>\n",
       "      <td>Solar-trackable super-wicking black metal pane...</td>\n",
       "      <td>https://www.nature.com/articles/s41893-020-0566-x</td>\n",
       "      <td>Subhash C. Singh, Mohamed ElKabbash, Chunlei Guo</td>\n",
       "      <td>2020-07-13</td>\n",
       "      <td>https://www.nature.com/articles/s41893-020-056...</td>\n",
       "      <td>Open Access</td>\n",
       "      <td>Agricultural Sciences</td>\n",
       "    </tr>\n",
       "  </tbody>\n",
       "</table>\n",
       "</div>"
      ],
      "text/plain": [
       "                                                Title  \\\n",
       "0   Towards process-oriented management of tropica...   \n",
       "1   Impacts of meeting minimum access on critical ...   \n",
       "2   Sustained productivity and agronomic potential...   \n",
       "3   Protected area personnel and ranger numbers ar...   \n",
       "4   Insect pest management with sex pheromone prec...   \n",
       "5   Quantifying Earth system interactions for sust...   \n",
       "6   Persistent impact of Fukushima decontamination...   \n",
       "7   Scientific evidence on the political impact of...   \n",
       "8   Re-thinking procurement incentives for electri...   \n",
       "9   Improving biodiversity protection through arti...   \n",
       "10  On track to achieve no net loss of forest at M...   \n",
       "11  Wrap-and-plant technology to manage sustainabl...   \n",
       "12  Doubling of annual forest carbon loss over the...   \n",
       "13  Co-benefits of forest carbon projects in South...   \n",
       "14  Vulnerability to collapse of coral reef ecosys...   \n",
       "15  Growing environmental footprint of plastics dr...   \n",
       "16  Phosphorus for Sustainable Development Goal ta...   \n",
       "17  Mapping the irrecoverable carbon in Earth’s ec...   \n",
       "18  Public health impacts of an imminent Red Sea o...   \n",
       "19  Nature inequity and higher COVID-19 case rates...   \n",
       "20  Pathways to sustaining tuna-dependent Pacific ...   \n",
       "21  Global assessment of innovative solutions to t...   \n",
       "22  A scoping review of research funding for small...   \n",
       "23  A scoping review of market links between value...   \n",
       "24  A scoping review on incentives for adoption of...   \n",
       "25  A scoping review of interventions for crop pos...   \n",
       "26  Solar-trackable super-wicking black metal pane...   \n",
       "\n",
       "                                                  URL  \\\n",
       "0   https://www.nature.com/articles/s41893-022-009...   \n",
       "1   https://www.nature.com/articles/s41893-022-009...   \n",
       "2   https://www.nature.com/articles/s41893-022-009...   \n",
       "3   https://www.nature.com/articles/s41893-022-009...   \n",
       "4   https://www.nature.com/articles/s41893-022-009...   \n",
       "5   https://www.nature.com/articles/s41893-022-009...   \n",
       "6   https://www.nature.com/articles/s41893-022-009...   \n",
       "7   https://www.nature.com/articles/s41893-022-009...   \n",
       "8   https://www.nature.com/articles/s41893-022-008...   \n",
       "9   https://www.nature.com/articles/s41893-022-008...   \n",
       "10  https://www.nature.com/articles/s41893-022-008...   \n",
       "11  https://www.nature.com/articles/s41893-022-008...   \n",
       "12  https://www.nature.com/articles/s41893-022-008...   \n",
       "13  https://www.nature.com/articles/s41893-022-008...   \n",
       "14  https://www.nature.com/articles/s41893-021-008...   \n",
       "15  https://www.nature.com/articles/s41893-021-008...   \n",
       "16  https://www.nature.com/articles/s41893-021-007...   \n",
       "17  https://www.nature.com/articles/s41893-021-008...   \n",
       "18  https://www.nature.com/articles/s41893-021-007...   \n",
       "19  https://www.nature.com/articles/s41893-021-007...   \n",
       "20  https://www.nature.com/articles/s41893-021-007...   \n",
       "21  https://www.nature.com/articles/s41893-021-007...   \n",
       "22  https://www.nature.com/articles/s41893-020-006...   \n",
       "23  https://www.nature.com/articles/s41893-020-006...   \n",
       "24  https://www.nature.com/articles/s41893-020-006...   \n",
       "25  https://www.nature.com/articles/s41893-020-006...   \n",
       "26  https://www.nature.com/articles/s41893-020-0566-x   \n",
       "\n",
       "                               Authors (compact list)  Published  \\\n",
       "0     Raphael Seguin, David Mouillot, Nicolas Loiseau 2022-11-14   \n",
       "1     Crelis F. Rammelt, Joyeeta Gupta, Caroline Zimm 2022-11-10   \n",
       "2              Shilai Zhang, Guangfu Huang, Fengyi Hu 2022-11-07   \n",
       "3   Michael R. Appleton, Alexandre Courtiol, Barne... 2022-10-20   \n",
       "4     Hong-Lei Wang, Bao-Jian Ding, Christer Löfstedt 2022-09-01   \n",
       "5             Anna Chrysafi, Vili Virkki, Matti Kummu 2022-08-15   \n",
       "6                  Bin Feng, Yuichi Onda, Yupan Zhang 2022-07-14   \n",
       "7        Frank Biermann, Thomas Hickmann, Birka Wicke 2022-06-20   \n",
       "8        Ashley Nunes, Lucas Woodley, Philip Rossetti 2022-04-04   \n",
       "9   Daniele Silvestro, Stefano Goria, Alexandre An... 2022-03-24   \n",
       "10  Katie Devenish, Sébastien Desbureaux, Julia P.... 2022-03-03   \n",
       "11        Juliet Ochola, Laura Cortada, Baldwyn Torto 2022-02-28   \n",
       "12            Yu Feng, Zhenzhong Zeng, Chunmiao Zheng 2022-02-28   \n",
       "13       Tasya Vadya Sarira, Yiwen Zeng, Lian Pin Koh 2022-02-10   \n",
       "14        David Obura, Mishal Gudka, Francisco Zivane 2021-12-06   \n",
       "15  Livia Cabernard, Stephan Pfister, Stefanie Hel... 2021-12-02   \n",
       "16        C. Langhans, A. H. W. Beusen, A. F. Bouwman 2021-11-22   \n",
       "17    Monica L. Noon, Allie Goldstein, Will R. Turner 2021-11-18   \n",
       "18  Benjamin Q. Huynh, Laura H. Kwong, David H. Re... 2021-10-11   \n",
       "19  Erica N. Spotswood, Matthew Benjamin, Robert I... 2021-10-11   \n",
       "20        Johann D. Bell, Inna Senina, Peter Williams 2021-07-29   \n",
       "21  Nikoleta Bellou, Chiara Gambardella, Carsten L... 2021-06-10   \n",
       "22    Vincent Ricciardi, Abdrahmane Wane, Zia Mehrabi 2020-10-12   \n",
       "23  Lenis Saweda O. Liverpool-Tasie, Ayala Wineman... 2020-10-12   \n",
       "24      Valeria Piñeiro, Joaquín Arias, Maximo Torero 2020-10-12   \n",
       "25    Tanya Stathers, Deirdre Holcroft, Maximo Torero 2020-10-12   \n",
       "26   Subhash C. Singh, Mohamed ElKabbash, Chunlei Guo 2020-07-13   \n",
       "\n",
       "                                              PDF URL  Open Access  \\\n",
       "0   https://www.nature.com/articles/s41893-022-009...  Open Access   \n",
       "1   https://www.nature.com/articles/s41893-022-009...  Open Access   \n",
       "2   https://www.nature.com/articles/s41893-022-009...  Open Access   \n",
       "3   https://www.nature.com/articles/s41893-022-009...  Open Access   \n",
       "4   https://www.nature.com/articles/s41893-022-009...  Open Access   \n",
       "5   https://www.nature.com/articles/s41893-022-009...  Open Access   \n",
       "6   https://www.nature.com/articles/s41893-022-009...  Open Access   \n",
       "7   https://www.nature.com/articles/s41893-022-009...  Open Access   \n",
       "8   https://www.nature.com/articles/s41893-022-008...  Open Access   \n",
       "9   https://www.nature.com/articles/s41893-022-008...  Open Access   \n",
       "10  https://www.nature.com/articles/s41893-022-008...  Open Access   \n",
       "11  https://www.nature.com/articles/s41893-022-008...  Open Access   \n",
       "12  https://www.nature.com/articles/s41893-022-008...  Open Access   \n",
       "13  https://www.nature.com/articles/s41893-022-008...  Open Access   \n",
       "14  https://www.nature.com/articles/s41893-021-008...  Open Access   \n",
       "15  https://www.nature.com/articles/s41893-021-008...  Open Access   \n",
       "16  https://www.nature.com/articles/s41893-021-007...  Open Access   \n",
       "17  https://www.nature.com/articles/s41893-021-008...  Open Access   \n",
       "18  https://www.nature.com/articles/s41893-021-007...  Open Access   \n",
       "19  https://www.nature.com/articles/s41893-021-007...  Open Access   \n",
       "20  https://www.nature.com/articles/s41893-021-007...  Open Access   \n",
       "21  https://www.nature.com/articles/s41893-021-007...  Open Access   \n",
       "22  https://www.nature.com/articles/s41893-020-006...  Open Access   \n",
       "23  https://www.nature.com/articles/s41893-020-006...  Open Access   \n",
       "24  https://www.nature.com/articles/s41893-020-006...  Open Access   \n",
       "25  https://www.nature.com/articles/s41893-020-006...  Open Access   \n",
       "26  https://www.nature.com/articles/s41893-020-056...  Open Access   \n",
       "\n",
       "        Area of Knowledge  \n",
       "0   Agricultural Sciences  \n",
       "1   Agricultural Sciences  \n",
       "2   Agricultural Sciences  \n",
       "3   Agricultural Sciences  \n",
       "4   Agricultural Sciences  \n",
       "5   Agricultural Sciences  \n",
       "6   Agricultural Sciences  \n",
       "7   Agricultural Sciences  \n",
       "8   Agricultural Sciences  \n",
       "9   Agricultural Sciences  \n",
       "10  Agricultural Sciences  \n",
       "11  Agricultural Sciences  \n",
       "12  Agricultural Sciences  \n",
       "13  Agricultural Sciences  \n",
       "14  Agricultural Sciences  \n",
       "15  Agricultural Sciences  \n",
       "16  Agricultural Sciences  \n",
       "17  Agricultural Sciences  \n",
       "18  Agricultural Sciences  \n",
       "19  Agricultural Sciences  \n",
       "20  Agricultural Sciences  \n",
       "21  Agricultural Sciences  \n",
       "22  Agricultural Sciences  \n",
       "23  Agricultural Sciences  \n",
       "24  Agricultural Sciences  \n",
       "25  Agricultural Sciences  \n",
       "26  Agricultural Sciences  "
      ]
     },
     "execution_count": 6,
     "metadata": {},
     "output_type": "execute_result"
    }
   ],
   "source": [
    "df_nature_sustainability_open_access = df_nature_sustainability[df_nature_sustainability['Open Access'] == 'Open Access']\n",
    "df_nature_sustainability_open_access = df_nature_sustainability_open_access[df_nature_sustainability_open_access['Published'] <= '2022-11-30']\n",
    "df_nature_sustainability_open_access = df_nature_sustainability_open_access.reset_index(drop=True)\n",
    "df_nature_sustainability_open_access"
   ]
  },
  {
   "cell_type": "markdown",
   "id": "d350f349-1671-475a-8137-da8ab14b987b",
   "metadata": {},
   "source": [
    "#### Inspecting a few articles"
   ]
  },
  {
   "cell_type": "code",
   "execution_count": 7,
   "id": "6d23d4f5-78cd-4b7a-87a3-6c65adb671e3",
   "metadata": {},
   "outputs": [
    {
     "data": {
      "text/plain": [
       "'https://www.nature.com/articles/s41893-022-00981-x.pdf'"
      ]
     },
     "execution_count": 7,
     "metadata": {},
     "output_type": "execute_result"
    }
   ],
   "source": [
    "df_nature_sustainability_open_access.at[0, 'PDF URL']"
   ]
  },
  {
   "cell_type": "markdown",
   "id": "cf58e48b-e34b-46ba-8299-bff6f184c7b0",
   "metadata": {},
   "source": [
    "#### Exporting to a file"
   ]
  },
  {
   "cell_type": "code",
   "execution_count": 9,
   "id": "05c1d2b1-6abe-4671-8233-3e8c755559d2",
   "metadata": {},
   "outputs": [],
   "source": [
    "df_nature_sustainability_open_access.to_json(f\"{output_directory}/nature_sustainability_open_access.jsonl\", orient='records', lines=True)"
   ]
  },
  {
   "cell_type": "markdown",
   "id": "3b3fdec0-841c-43ab-a818-82fb13001b25",
   "metadata": {},
   "source": [
    "### Scraping [Plant Biotechnology Journal](https://onlinelibrary.wiley.com/journal/14677652?msockid=0525cb73d9a76a060b80df20d87e6b4b)"
   ]
  },
  {
   "cell_type": "markdown",
   "id": "08aa4ade-f323-4614-ab65-535d3e6f3d1b",
   "metadata": {},
   "source": [
    "## Applied Social Sciences"
   ]
  },
  {
   "cell_type": "markdown",
   "id": "dfd479fd-73c9-4ca6-ae2f-f9c9dd07ab28",
   "metadata": {},
   "source": [
    "### Scraping [Journal of Applied Social Science](https://journals.sagepub.com/home/jax)"
   ]
  },
  {
   "cell_type": "markdown",
   "id": "3f84ed72-2ad7-49e9-876b-859c893d5d12",
   "metadata": {},
   "source": [
    "#### Capturing a few document pages for inspection"
   ]
  },
  {
   "cell_type": "code",
   "execution_count": 46,
   "id": "1ef86d22-f8fd-424c-8040-1b19297fc54f",
   "metadata": {},
   "outputs": [],
   "source": [
    "url_sample_1 = 'https://journals.sagepub.com/toc/jaxc/16/2'\n",
    "url_sample_11 = 'https://journals.sagepub.com/doi/full/10.1177/19367244221078506'"
   ]
  },
  {
   "cell_type": "code",
   "execution_count": 47,
   "id": "9503895b-fe05-4652-b2cf-9d765bf41bb9",
   "metadata": {},
   "outputs": [],
   "source": [
    "# Setting up the WebDriver (make sure you have downloaded the Microsoft Edge WebDriver executable)\n",
    "# https://developer.microsoft.com/en-us/microsoft-edge/tools/webdriver/\n",
    "service = Service(r'C:\\Users\\eyamr\\OneDrive\\00-Technology\\laelgelc\\edgedriver_win64\\msedgedriver.exe')\n",
    "driver = webdriver.Edge(service=service)\n",
    "\n",
    "# Navigating to target URL 1 and saving its web page\n",
    "driver.get(url_sample_1)\n",
    "wait = WebDriverWait(driver, 10)\n",
    "#time.sleep(15)  # Waits for 15 seconds\n",
    "#wait.until(EC.presence_of_element_located((By.TAG_NAME, 'html')))\n",
    "\n",
    "# Extra reliability check: Wait until the page source stops changing\n",
    "max_wait_time = 30  # Max time in seconds\n",
    "start_time = time.time()\n",
    "previous_html = ''\n",
    "while True:\n",
    "    current_html = driver.page_source\n",
    "    if current_html == previous_html or time.time() - start_time > max_wait_time:\n",
    "        break  # Exit loop if page stops changing or max wait time is exceeded\n",
    "    previous_html = current_html\n",
    "    time.sleep(2)  # Short delay before checking again\n",
    "\n",
    "# Now, the page is fully loaded - extract content!\n",
    "\n",
    "document_page_sample_1 = driver.page_source\n",
    "\n",
    "with open(f'{output_directory}/journal_applied_social_science_sample1.html', 'w', encoding='utf8', newline='\\n') as file:\n",
    "    file.write(document_page_sample_1)\n",
    "\n",
    "# Navigating to target URL 2 and saving its web page\n",
    "driver.get(url_sample_11)\n",
    "wait = WebDriverWait(driver, 10)\n",
    "#time.sleep(15)  # Waits for 15 seconds\n",
    "#wait.until(EC.presence_of_element_located((By.TAG_NAME, 'html')))\n",
    "\n",
    "# Extra reliability check: Wait until the page source stops changing\n",
    "max_wait_time = 30  # Max time in seconds\n",
    "start_time = time.time()\n",
    "previous_html = ''\n",
    "while True:\n",
    "    current_html = driver.page_source\n",
    "    if current_html == previous_html or time.time() - start_time > max_wait_time:\n",
    "        break  # Exit loop if page stops changing or max wait time is exceeded\n",
    "    previous_html = current_html\n",
    "    time.sleep(2)  # Short delay before checking again\n",
    "\n",
    "# Now, the page is fully loaded - extract content!\n",
    "\n",
    "document_page_sample_11 = driver.page_source\n",
    "\n",
    "with open(f'{output_directory}/journal_applied_social_science_sample11.html', 'w', encoding='utf8', newline='\\n') as file:\n",
    "    file.write(document_page_sample_11)\n",
    "\n",
    "# Closing the WebDriver\n",
    "driver.quit()"
   ]
  },
  {
   "cell_type": "markdown",
   "id": "dafba641-fde8-4713-a6f3-86ed2ad0ce10",
   "metadata": {},
   "source": [
    "#### Scraping the articles"
   ]
  },
  {
   "cell_type": "markdown",
   "id": "c8c3f516-7008-4cf9-b2a3-b783f2000358",
   "metadata": {},
   "source": [
    "##### Function to scrape the articles"
   ]
  },
  {
   "cell_type": "code",
   "execution_count": 3,
   "id": "1336b65d-9e07-4f8f-baaa-393be9149f26",
   "metadata": {},
   "outputs": [],
   "source": [
    "def scrape_articles(root_url, doi_root_url, article_list_url, start_page, end_page, area_of_knowledge):\n",
    "    # Setting up the WebDriver\n",
    "    service = Service(r'C:\\Users\\eyamr\\OneDrive\\00-Technology\\laelgelc\\edgedriver_win64\\msedgedriver.exe')\n",
    "    driver = webdriver.Edge(service=service)\n",
    "\n",
    "    data = []\n",
    "\n",
    "    for i in tqdm(range(start_page, end_page + 1)):\n",
    "        url = f\"{article_list_url}{i}\"\n",
    "        driver.get(url)\n",
    "\n",
    "        # Explicit wait for main article elements\n",
    "        wait = WebDriverWait(driver, 10)\n",
    "\n",
    "        # Ensure stable page load\n",
    "        max_wait_time = 30\n",
    "        start_time = time.time()\n",
    "        previous_html = ''\n",
    "        while True:\n",
    "            current_html = driver.page_source\n",
    "            if current_html == previous_html or time.time() - start_time > max_wait_time:\n",
    "                break\n",
    "            previous_html = current_html\n",
    "            time.sleep(2)\n",
    "\n",
    "        # Parse page source with BeautifulSoup\n",
    "        soup = BeautifulSoup(driver.page_source, 'lxml')\n",
    "\n",
    "        # Extract Volume/Issue\n",
    "        volume_issue_tag = soup.find('title')\n",
    "        volume_issue = volume_issue_tag.get_text(strip=True) if volume_issue_tag else ''\n",
    "\n",
    "        # Extract articles\n",
    "        articles = soup.find_all('div', class_='issue-item issue-item--toc issue-item--checkbox')\n",
    "\n",
    "        for article in articles:\n",
    "            # Extracting the article type\n",
    "            article_type_tag = article.find('span', string='Research article')\n",
    "            article_type = article_type_tag.get_text(strip=True) if article_type_tag else ''\n",
    "\n",
    "            # Extracting the title\n",
    "            title_tag = article.find('div', class_='issue-item__title').find('h5')\n",
    "            title = title_tag.get_text(strip=True) if title_tag else ''\n",
    "\n",
    "            # Extracting the article URL\n",
    "            article_url_tag = article.find('div', class_='issue-item__title').find('a')\n",
    "            article_url = root_url + article_url_tag['href'] if article_url_tag else ''\n",
    "\n",
    "            # Extracting authors\n",
    "            authors_list = article.find('ul', class_='rlist--inline loa comma')\n",
    "            authors = ', '.join([author.get_text(strip=True) for author in authors_list.find_all('span')]) if authors_list else ''\n",
    "\n",
    "            # Extracting published date (removing \"First published\")\n",
    "            published_tag = article.find('span', string=lambda text: text and text.startswith(\"First published\"))\n",
    "            published = published_tag.get_text(strip=True).replace(\"First published \", \"\") if published_tag else ''\n",
    "\n",
    "            # Extracting DOI\n",
    "            doi_tag = article.find('input', {'name': 'doi'})\n",
    "            doi = doi_root_url + doi_tag['value'] if doi_tag else ''\n",
    "\n",
    "            # Extracting Open Access status\n",
    "            open_access_tag = article.find('span', class_='issue-item-access').find('span')\n",
    "            open_access = open_access_tag.get_text(strip=True) if open_access_tag else ''\n",
    "\n",
    "            # Extracting PDF URL (Replacing 'reader' with 'pdf')\n",
    "            pdf_url_tag = article.find('a', title='download')\n",
    "            pdf_url = root_url + pdf_url_tag['href'].replace('reader', 'pdf') if pdf_url_tag and pdf_url_tag.get('href') else ''\n",
    "\n",
    "            # Append extracted data\n",
    "            data.append({\n",
    "                'Article Type': article_type,\n",
    "                'Title': title,\n",
    "                'URL': article_url,\n",
    "                'Authors': authors,\n",
    "                'Vol/Issue': volume_issue,\n",
    "                'Published': published,\n",
    "                'DOI': doi,\n",
    "                'Open Access': open_access,\n",
    "                'PDF URL': pdf_url,\n",
    "                'Area of Knowledge': area_of_knowledge\n",
    "            })\n",
    "\n",
    "    # Close WebDriver\n",
    "    driver.quit()\n",
    "\n",
    "    return pd.DataFrame(data)"
   ]
  },
  {
   "cell_type": "markdown",
   "id": "c2c3b94a-cb6c-4b1d-b33a-fa670f23e832",
   "metadata": {},
   "source": [
    "##### Volume 14 (Issue 1, March 2020; Issue 2, September 2020)"
   ]
  },
  {
   "cell_type": "code",
   "execution_count": 8,
   "id": "e52085d9-1883-4c8f-b339-a298c3bf3d3d",
   "metadata": {},
   "outputs": [],
   "source": [
    "root_url = 'https://journals.sagepub.com'\n",
    "doi_root_url = 'https://doi.org/'\n",
    "article_list_url = 'https://journals.sagepub.com/toc/jaxc/14/'\n",
    "start_page = 1\n",
    "end_page = 2\n",
    "area_of_knowledge = 'Applied Social Sciences'"
   ]
  },
  {
   "cell_type": "code",
   "execution_count": 9,
   "id": "1ee322d3-5885-495f-bd24-3fcedf20bab7",
   "metadata": {},
   "outputs": [
    {
     "name": "stderr",
     "output_type": "stream",
     "text": [
      "100%|██████████| 2/2 [00:18<00:00,  9.48s/it]\n"
     ]
    }
   ],
   "source": [
    "df_v14i1i2 = scrape_articles(root_url, doi_root_url, article_list_url, start_page, end_page, area_of_knowledge)"
   ]
  },
  {
   "cell_type": "markdown",
   "id": "31caae3c-c58e-4eb1-a6ff-6c55af9cc62d",
   "metadata": {},
   "source": [
    "##### Volume 15 (Issue 1, March 2021; Issue 2, September 2021)"
   ]
  },
  {
   "cell_type": "code",
   "execution_count": 10,
   "id": "d7d22da4-7a4e-4b23-970e-75a00a14587b",
   "metadata": {},
   "outputs": [],
   "source": [
    "root_url = 'https://journals.sagepub.com'\n",
    "doi_root_url = 'https://doi.org/'\n",
    "article_list_url = 'https://journals.sagepub.com/toc/jaxc/15/'\n",
    "start_page = 1\n",
    "end_page = 2\n",
    "area_of_knowledge = 'Applied Social Sciences'"
   ]
  },
  {
   "cell_type": "code",
   "execution_count": 11,
   "id": "7f34658f-4566-4a35-bbc3-1068cbbb244a",
   "metadata": {},
   "outputs": [
    {
     "name": "stderr",
     "output_type": "stream",
     "text": [
      "100%|██████████| 2/2 [00:19<00:00,  9.56s/it]\n"
     ]
    }
   ],
   "source": [
    "df_v15i1i2 = scrape_articles(root_url, doi_root_url, article_list_url, start_page, end_page, area_of_knowledge)"
   ]
  },
  {
   "cell_type": "markdown",
   "id": "a4710ab3-796b-4187-8be9-849ff837536d",
   "metadata": {},
   "source": [
    "##### Volume 16 (Issue 1, March 2022; Issue 2, June 2022; Issue 3, September 2022)"
   ]
  },
  {
   "cell_type": "code",
   "execution_count": 12,
   "id": "808c5f95-f112-44b9-b1b9-cf7c80658edf",
   "metadata": {},
   "outputs": [],
   "source": [
    "root_url = 'https://journals.sagepub.com'\n",
    "doi_root_url = 'https://doi.org/'\n",
    "article_list_url = 'https://journals.sagepub.com/toc/jaxc/16/'\n",
    "start_page = 1\n",
    "end_page = 3\n",
    "area_of_knowledge = 'Applied Social Sciences'"
   ]
  },
  {
   "cell_type": "code",
   "execution_count": 13,
   "id": "a9843f05-9610-42f0-8419-25378ade3229",
   "metadata": {},
   "outputs": [
    {
     "name": "stderr",
     "output_type": "stream",
     "text": [
      "100%|██████████| 3/3 [00:23<00:00,  7.70s/it]\n"
     ]
    }
   ],
   "source": [
    "df_v16i1i2i3 = scrape_articles(root_url, doi_root_url, article_list_url, start_page, end_page, area_of_knowledge)"
   ]
  },
  {
   "cell_type": "markdown",
   "id": "6fd42c9a-0a86-4605-a050-70f7a9d2908f",
   "metadata": {},
   "source": [
    "##### Volume 17 (Issue 1, March 2023)"
   ]
  },
  {
   "cell_type": "code",
   "execution_count": 14,
   "id": "46025c4f-6123-4692-b84c-52e88c0af6d5",
   "metadata": {},
   "outputs": [],
   "source": [
    "root_url = 'https://journals.sagepub.com'\n",
    "doi_root_url = 'https://doi.org/'\n",
    "article_list_url = 'https://journals.sagepub.com/toc/jaxc/17/'\n",
    "start_page = 1\n",
    "end_page = 1\n",
    "area_of_knowledge = 'Applied Social Sciences'"
   ]
  },
  {
   "cell_type": "code",
   "execution_count": 15,
   "id": "94d1fe39-d654-4ebc-8d4d-94e6c33b36f9",
   "metadata": {},
   "outputs": [
    {
     "name": "stderr",
     "output_type": "stream",
     "text": [
      "100%|██████████| 1/1 [00:12<00:00, 12.78s/it]\n"
     ]
    }
   ],
   "source": [
    "df_v17i1 = scrape_articles(root_url, doi_root_url, article_list_url, start_page, end_page, area_of_knowledge)"
   ]
  },
  {
   "cell_type": "markdown",
   "id": "611d2778-085c-4d04-88c2-2d495e80f2fa",
   "metadata": {},
   "source": [
    "##### Concatenating the DataFrames"
   ]
  },
  {
   "cell_type": "code",
   "execution_count": 16,
   "id": "6fb7ebf8-b220-4cb9-9006-48a600719ab8",
   "metadata": {},
   "outputs": [],
   "source": [
    "df_journal_applied_social_science = pd.concat([df_v14i1i2, df_v15i1i2, df_v16i1i2i3, df_v17i1], ignore_index=True)"
   ]
  },
  {
   "cell_type": "code",
   "execution_count": 19,
   "id": "9a40dd49-6890-489e-9bbb-0e166980aa8c",
   "metadata": {},
   "outputs": [],
   "source": [
    "df_journal_applied_social_science['Published'] = pd.to_datetime(\n",
    "    df_journal_applied_social_science['Published'], format='%B %d, %Y'\n",
    ")"
   ]
  },
  {
   "cell_type": "code",
   "execution_count": 20,
   "id": "61eb2415-8d40-4883-8cc3-9a11cd9d6acd",
   "metadata": {},
   "outputs": [
    {
     "data": {
      "text/plain": [
       "Article Type                 object\n",
       "Title                        object\n",
       "URL                          object\n",
       "Authors                      object\n",
       "Vol/Issue                    object\n",
       "Published            datetime64[ns]\n",
       "DOI                          object\n",
       "Open Access                  object\n",
       "PDF URL                      object\n",
       "Area of Knowledge            object\n",
       "dtype: object"
      ]
     },
     "execution_count": 20,
     "metadata": {},
     "output_type": "execute_result"
    }
   ],
   "source": [
    "df_journal_applied_social_science.dtypes"
   ]
  },
  {
   "cell_type": "markdown",
   "id": "528ce836-c3b6-4cd0-8ff5-25ffd91eed75",
   "metadata": {},
   "source": [
    "##### Selecting the 'Open access' and 'Full text access' articles published before the advent of ChatGPT"
   ]
  },
  {
   "cell_type": "code",
   "execution_count": 21,
   "id": "e195808e-7954-4960-a1d3-ede71b1f68f4",
   "metadata": {},
   "outputs": [
    {
     "data": {
      "text/plain": [
       "array(['Free access', 'Restricted access', 'Open Access'], dtype=object)"
      ]
     },
     "execution_count": 21,
     "metadata": {},
     "output_type": "execute_result"
    }
   ],
   "source": [
    "unique_open_access = df_journal_applied_social_science['Open Access'].dropna().unique()\n",
    "unique_open_access"
   ]
  },
  {
   "cell_type": "code",
   "execution_count": 23,
   "id": "0123ea8a-26a9-47bf-90fb-4b3d11d33776",
   "metadata": {},
   "outputs": [],
   "source": [
    "df_journal_applied_social_science_open_access = df_journal_applied_social_science[\n",
    "    (df_journal_applied_social_science['Open Access'] == 'Open Access') | \n",
    "    (df_journal_applied_social_science['Open Access'] == 'Free access')\n",
    "]\n",
    "df_journal_applied_social_science_open_access = df_journal_applied_social_science_open_access[df_journal_applied_social_science_open_access['Published'] <= '2022-11-30']\n",
    "df_journal_applied_social_science_open_access = df_journal_applied_social_science_open_access.reset_index(drop=True)"
   ]
  },
  {
   "cell_type": "markdown",
   "id": "a5aed4f9-6d01-4fa8-b7a8-c21e14d5719e",
   "metadata": {},
   "source": [
    "#### Retaining only the `Research articles`"
   ]
  },
  {
   "cell_type": "code",
   "execution_count": 24,
   "id": "59aa72b8-5a84-41bc-bb53-83d36d4d6302",
   "metadata": {},
   "outputs": [
    {
     "data": {
      "text/html": [
       "<div>\n",
       "<style scoped>\n",
       "    .dataframe tbody tr th:only-of-type {\n",
       "        vertical-align: middle;\n",
       "    }\n",
       "\n",
       "    .dataframe tbody tr th {\n",
       "        vertical-align: top;\n",
       "    }\n",
       "\n",
       "    .dataframe thead th {\n",
       "        text-align: right;\n",
       "    }\n",
       "</style>\n",
       "<table border=\"1\" class=\"dataframe\">\n",
       "  <thead>\n",
       "    <tr style=\"text-align: right;\">\n",
       "      <th></th>\n",
       "      <th>Article Type</th>\n",
       "      <th>Title</th>\n",
       "      <th>URL</th>\n",
       "      <th>Authors</th>\n",
       "      <th>Vol/Issue</th>\n",
       "      <th>Published</th>\n",
       "      <th>DOI</th>\n",
       "      <th>Open Access</th>\n",
       "      <th>PDF URL</th>\n",
       "      <th>Area of Knowledge</th>\n",
       "    </tr>\n",
       "  </thead>\n",
       "  <tbody>\n",
       "    <tr>\n",
       "      <th>0</th>\n",
       "      <td>Research article</td>\n",
       "      <td>“People Have to Comply with the Measures”: Cov...</td>\n",
       "      <td>https://journals.sagepub.com/doi/abs/10.1177/1...</td>\n",
       "      <td>Costas S. Constantinou</td>\n",
       "      <td>Journal of Applied Social Science - Volume 15,...</td>\n",
       "      <td>2020-12-17</td>\n",
       "      <td>https://doi.org/10.1177/1936724420980374</td>\n",
       "      <td>Free access</td>\n",
       "      <td>https://journals.sagepub.com/doi/pdf/10.1177/1...</td>\n",
       "      <td>Applied Social Sciences</td>\n",
       "    </tr>\n",
       "    <tr>\n",
       "      <th>1</th>\n",
       "      <td>Research article</td>\n",
       "      <td>An Essay on the Challenges of Doing Education ...</td>\n",
       "      <td>https://journals.sagepub.com/doi/abs/10.1177/1...</td>\n",
       "      <td>Karen Robson</td>\n",
       "      <td>Journal of Applied Social Science - Volume 15,...</td>\n",
       "      <td>2021-06-10</td>\n",
       "      <td>https://doi.org/10.1177/19367244211003471</td>\n",
       "      <td>Open Access</td>\n",
       "      <td>https://journals.sagepub.com/doi/pdf/10.1177/1...</td>\n",
       "      <td>Applied Social Sciences</td>\n",
       "    </tr>\n",
       "    <tr>\n",
       "      <th>2</th>\n",
       "      <td>Research article</td>\n",
       "      <td>Sociotherapy in the Time of COVID-19: A Critic...</td>\n",
       "      <td>https://journals.sagepub.com/doi/abs/10.1177/1...</td>\n",
       "      <td>Sheila L. Cavanagh</td>\n",
       "      <td>Journal of Applied Social Science - Volume 15,...</td>\n",
       "      <td>2021-06-01</td>\n",
       "      <td>https://doi.org/10.1177/1936724421998275</td>\n",
       "      <td>Open Access</td>\n",
       "      <td>https://journals.sagepub.com/doi/pdf/10.1177/1...</td>\n",
       "      <td>Applied Social Sciences</td>\n",
       "    </tr>\n",
       "    <tr>\n",
       "      <th>3</th>\n",
       "      <td>Research article</td>\n",
       "      <td>Using Institutional Ethnography to Bridge the ...</td>\n",
       "      <td>https://journals.sagepub.com/doi/abs/10.1177/1...</td>\n",
       "      <td>Kristin Atwood</td>\n",
       "      <td>Journal of Applied Social Science - Volume 15,...</td>\n",
       "      <td>2021-04-22</td>\n",
       "      <td>https://doi.org/10.1177/19367244211000709</td>\n",
       "      <td>Open Access</td>\n",
       "      <td>https://journals.sagepub.com/doi/pdf/10.1177/1...</td>\n",
       "      <td>Applied Social Sciences</td>\n",
       "    </tr>\n",
       "    <tr>\n",
       "      <th>4</th>\n",
       "      <td>Research article</td>\n",
       "      <td>Reflections on Embeddedness in an Applied Soci...</td>\n",
       "      <td>https://journals.sagepub.com/doi/abs/10.1177/1...</td>\n",
       "      <td>Grace Maich, Jeff Boggs, Jonah Butovsky</td>\n",
       "      <td>Journal of Applied Social Science - Volume 15,...</td>\n",
       "      <td>2021-03-17</td>\n",
       "      <td>https://doi.org/10.1177/19367244211000271</td>\n",
       "      <td>Open Access</td>\n",
       "      <td>https://journals.sagepub.com/doi/pdf/10.1177/1...</td>\n",
       "      <td>Applied Social Sciences</td>\n",
       "    </tr>\n",
       "    <tr>\n",
       "      <th>5</th>\n",
       "      <td>Research article</td>\n",
       "      <td>Staying Home, Staying Alive: Campus Food Pantr...</td>\n",
       "      <td>https://journals.sagepub.com/doi/abs/10.1177/1...</td>\n",
       "      <td>Elmira Jangjou</td>\n",
       "      <td>Journal of Applied Social Science - Volume 16,...</td>\n",
       "      <td>2021-08-05</td>\n",
       "      <td>https://doi.org/10.1177/19367244211035671</td>\n",
       "      <td>Open Access</td>\n",
       "      <td>https://journals.sagepub.com/doi/pdf/10.1177/1...</td>\n",
       "      <td>Applied Social Sciences</td>\n",
       "    </tr>\n",
       "    <tr>\n",
       "      <th>6</th>\n",
       "      <td>Research article</td>\n",
       "      <td>Social Security Policy in Response to the Pand...</td>\n",
       "      <td>https://journals.sagepub.com/doi/abs/10.1177/1...</td>\n",
       "      <td>Le Hoang Viet Lam</td>\n",
       "      <td>Journal of Applied Social Science - Volume 16,...</td>\n",
       "      <td>2021-07-08</td>\n",
       "      <td>https://doi.org/10.1177/19367244211026912</td>\n",
       "      <td>Free access</td>\n",
       "      <td>https://journals.sagepub.com/doi/pdf/10.1177/1...</td>\n",
       "      <td>Applied Social Sciences</td>\n",
       "    </tr>\n",
       "    <tr>\n",
       "      <th>7</th>\n",
       "      <td>Research article</td>\n",
       "      <td>Improving Data Quality with Sociodemographic M...</td>\n",
       "      <td>https://journals.sagepub.com/doi/abs/10.1177/1...</td>\n",
       "      <td>Felix Bittmann</td>\n",
       "      <td>Journal of Applied Social Science - Volume 16,...</td>\n",
       "      <td>2021-03-19</td>\n",
       "      <td>https://doi.org/10.1177/1936724421998257</td>\n",
       "      <td>Open Access</td>\n",
       "      <td>https://journals.sagepub.com/doi/pdf/10.1177/1...</td>\n",
       "      <td>Applied Social Sciences</td>\n",
       "    </tr>\n",
       "    <tr>\n",
       "      <th>8</th>\n",
       "      <td>Research article</td>\n",
       "      <td>Determinants of COVID-19 Response Strategies i...</td>\n",
       "      <td>https://journals.sagepub.com/doi/abs/10.1177/1...</td>\n",
       "      <td>Peter Asare-Nuamah, Christopher Dick-Sagoe, [....</td>\n",
       "      <td>Journal of Applied Social Science - Volume 16,...</td>\n",
       "      <td>2021-12-14</td>\n",
       "      <td>https://doi.org/10.1177/19367244211055799</td>\n",
       "      <td>Free access</td>\n",
       "      <td>https://journals.sagepub.com/doi/pdf/10.1177/1...</td>\n",
       "      <td>Applied Social Sciences</td>\n",
       "    </tr>\n",
       "    <tr>\n",
       "      <th>9</th>\n",
       "      <td>Research article</td>\n",
       "      <td>Modeling the Social Determinants of Official C...</td>\n",
       "      <td>https://journals.sagepub.com/doi/abs/10.1177/1...</td>\n",
       "      <td>Marcell T. Kurbucz</td>\n",
       "      <td>Journal of Applied Social Science - Volume 16,...</td>\n",
       "      <td>2021-12-17</td>\n",
       "      <td>https://doi.org/10.1177/19367244211061671</td>\n",
       "      <td>Free access</td>\n",
       "      <td>https://journals.sagepub.com/doi/pdf/10.1177/1...</td>\n",
       "      <td>Applied Social Sciences</td>\n",
       "    </tr>\n",
       "    <tr>\n",
       "      <th>10</th>\n",
       "      <td>Research article</td>\n",
       "      <td>Therapies without Pride: An Explorative Study ...</td>\n",
       "      <td>https://journals.sagepub.com/doi/abs/10.1177/1...</td>\n",
       "      <td>Peter Martin Jansson</td>\n",
       "      <td>Journal of Applied Social Science - Volume 16,...</td>\n",
       "      <td>2022-03-14</td>\n",
       "      <td>https://doi.org/10.1177/19367244221078506</td>\n",
       "      <td>Open Access</td>\n",
       "      <td>https://journals.sagepub.com/doi/pdf/10.1177/1...</td>\n",
       "      <td>Applied Social Sciences</td>\n",
       "    </tr>\n",
       "    <tr>\n",
       "      <th>11</th>\n",
       "      <td>Research article</td>\n",
       "      <td>The Limits of Institutions and the Reliance on...</td>\n",
       "      <td>https://journals.sagepub.com/doi/abs/10.1177/1...</td>\n",
       "      <td>Christopher A. Hartwell</td>\n",
       "      <td>Journal of Applied Social Science - Volume 16,...</td>\n",
       "      <td>2022-02-22</td>\n",
       "      <td>https://doi.org/10.1177/19367244221077410</td>\n",
       "      <td>Open Access</td>\n",
       "      <td>https://journals.sagepub.com/doi/pdf/10.1177/1...</td>\n",
       "      <td>Applied Social Sciences</td>\n",
       "    </tr>\n",
       "    <tr>\n",
       "      <th>12</th>\n",
       "      <td>Research article</td>\n",
       "      <td>COVID-19 Preventive Practices and their Relati...</td>\n",
       "      <td>https://journals.sagepub.com/doi/abs/10.1177/1...</td>\n",
       "      <td>Sindu W. Kebede, Nigatu R. Geda, Belaineh Lege...</td>\n",
       "      <td>Journal of Applied Social Science - Volume 16,...</td>\n",
       "      <td>2022-02-01</td>\n",
       "      <td>https://doi.org/10.1177/19367244211067716</td>\n",
       "      <td>Free access</td>\n",
       "      <td>https://journals.sagepub.com/doi/pdf/10.1177/1...</td>\n",
       "      <td>Applied Social Sciences</td>\n",
       "    </tr>\n",
       "    <tr>\n",
       "      <th>13</th>\n",
       "      <td>Research article</td>\n",
       "      <td>Tourism Development and Income Inequality in S...</td>\n",
       "      <td>https://journals.sagepub.com/doi/abs/10.1177/1...</td>\n",
       "      <td>Nicholas M. Odhiambo</td>\n",
       "      <td>Journal of Applied Social Science - Volume 16,...</td>\n",
       "      <td>2022-07-03</td>\n",
       "      <td>https://doi.org/10.1177/19367244221095213</td>\n",
       "      <td>Open Access</td>\n",
       "      <td>https://journals.sagepub.com/doi/pdf/10.1177/1...</td>\n",
       "      <td>Applied Social Sciences</td>\n",
       "    </tr>\n",
       "    <tr>\n",
       "      <th>14</th>\n",
       "      <td>Research article</td>\n",
       "      <td>Which Is More Effective for Job Satisfaction, ...</td>\n",
       "      <td>https://journals.sagepub.com/doi/abs/10.1177/1...</td>\n",
       "      <td>Takumi Kato, Saori Yamamoto, Aki Miyaji, Shun ...</td>\n",
       "      <td>Journal of Applied Social Science - Volume 17,...</td>\n",
       "      <td>2022-11-02</td>\n",
       "      <td>https://doi.org/10.1177/19367244221128553</td>\n",
       "      <td>Open Access</td>\n",
       "      <td>https://journals.sagepub.com/doi/pdf/10.1177/1...</td>\n",
       "      <td>Applied Social Sciences</td>\n",
       "    </tr>\n",
       "  </tbody>\n",
       "</table>\n",
       "</div>"
      ],
      "text/plain": [
       "        Article Type                                              Title  \\\n",
       "0   Research article  “People Have to Comply with the Measures”: Cov...   \n",
       "1   Research article  An Essay on the Challenges of Doing Education ...   \n",
       "2   Research article  Sociotherapy in the Time of COVID-19: A Critic...   \n",
       "3   Research article  Using Institutional Ethnography to Bridge the ...   \n",
       "4   Research article  Reflections on Embeddedness in an Applied Soci...   \n",
       "5   Research article  Staying Home, Staying Alive: Campus Food Pantr...   \n",
       "6   Research article  Social Security Policy in Response to the Pand...   \n",
       "7   Research article  Improving Data Quality with Sociodemographic M...   \n",
       "8   Research article  Determinants of COVID-19 Response Strategies i...   \n",
       "9   Research article  Modeling the Social Determinants of Official C...   \n",
       "10  Research article  Therapies without Pride: An Explorative Study ...   \n",
       "11  Research article  The Limits of Institutions and the Reliance on...   \n",
       "12  Research article  COVID-19 Preventive Practices and their Relati...   \n",
       "13  Research article  Tourism Development and Income Inequality in S...   \n",
       "14  Research article  Which Is More Effective for Job Satisfaction, ...   \n",
       "\n",
       "                                                  URL  \\\n",
       "0   https://journals.sagepub.com/doi/abs/10.1177/1...   \n",
       "1   https://journals.sagepub.com/doi/abs/10.1177/1...   \n",
       "2   https://journals.sagepub.com/doi/abs/10.1177/1...   \n",
       "3   https://journals.sagepub.com/doi/abs/10.1177/1...   \n",
       "4   https://journals.sagepub.com/doi/abs/10.1177/1...   \n",
       "5   https://journals.sagepub.com/doi/abs/10.1177/1...   \n",
       "6   https://journals.sagepub.com/doi/abs/10.1177/1...   \n",
       "7   https://journals.sagepub.com/doi/abs/10.1177/1...   \n",
       "8   https://journals.sagepub.com/doi/abs/10.1177/1...   \n",
       "9   https://journals.sagepub.com/doi/abs/10.1177/1...   \n",
       "10  https://journals.sagepub.com/doi/abs/10.1177/1...   \n",
       "11  https://journals.sagepub.com/doi/abs/10.1177/1...   \n",
       "12  https://journals.sagepub.com/doi/abs/10.1177/1...   \n",
       "13  https://journals.sagepub.com/doi/abs/10.1177/1...   \n",
       "14  https://journals.sagepub.com/doi/abs/10.1177/1...   \n",
       "\n",
       "                                              Authors  \\\n",
       "0                              Costas S. Constantinou   \n",
       "1                                        Karen Robson   \n",
       "2                                  Sheila L. Cavanagh   \n",
       "3                                      Kristin Atwood   \n",
       "4             Grace Maich, Jeff Boggs, Jonah Butovsky   \n",
       "5                                      Elmira Jangjou   \n",
       "6                                   Le Hoang Viet Lam   \n",
       "7                                      Felix Bittmann   \n",
       "8   Peter Asare-Nuamah, Christopher Dick-Sagoe, [....   \n",
       "9                                  Marcell T. Kurbucz   \n",
       "10                               Peter Martin Jansson   \n",
       "11                            Christopher A. Hartwell   \n",
       "12  Sindu W. Kebede, Nigatu R. Geda, Belaineh Lege...   \n",
       "13                               Nicholas M. Odhiambo   \n",
       "14  Takumi Kato, Saori Yamamoto, Aki Miyaji, Shun ...   \n",
       "\n",
       "                                            Vol/Issue  Published  \\\n",
       "0   Journal of Applied Social Science - Volume 15,... 2020-12-17   \n",
       "1   Journal of Applied Social Science - Volume 15,... 2021-06-10   \n",
       "2   Journal of Applied Social Science - Volume 15,... 2021-06-01   \n",
       "3   Journal of Applied Social Science - Volume 15,... 2021-04-22   \n",
       "4   Journal of Applied Social Science - Volume 15,... 2021-03-17   \n",
       "5   Journal of Applied Social Science - Volume 16,... 2021-08-05   \n",
       "6   Journal of Applied Social Science - Volume 16,... 2021-07-08   \n",
       "7   Journal of Applied Social Science - Volume 16,... 2021-03-19   \n",
       "8   Journal of Applied Social Science - Volume 16,... 2021-12-14   \n",
       "9   Journal of Applied Social Science - Volume 16,... 2021-12-17   \n",
       "10  Journal of Applied Social Science - Volume 16,... 2022-03-14   \n",
       "11  Journal of Applied Social Science - Volume 16,... 2022-02-22   \n",
       "12  Journal of Applied Social Science - Volume 16,... 2022-02-01   \n",
       "13  Journal of Applied Social Science - Volume 16,... 2022-07-03   \n",
       "14  Journal of Applied Social Science - Volume 17,... 2022-11-02   \n",
       "\n",
       "                                          DOI  Open Access  \\\n",
       "0    https://doi.org/10.1177/1936724420980374  Free access   \n",
       "1   https://doi.org/10.1177/19367244211003471  Open Access   \n",
       "2    https://doi.org/10.1177/1936724421998275  Open Access   \n",
       "3   https://doi.org/10.1177/19367244211000709  Open Access   \n",
       "4   https://doi.org/10.1177/19367244211000271  Open Access   \n",
       "5   https://doi.org/10.1177/19367244211035671  Open Access   \n",
       "6   https://doi.org/10.1177/19367244211026912  Free access   \n",
       "7    https://doi.org/10.1177/1936724421998257  Open Access   \n",
       "8   https://doi.org/10.1177/19367244211055799  Free access   \n",
       "9   https://doi.org/10.1177/19367244211061671  Free access   \n",
       "10  https://doi.org/10.1177/19367244221078506  Open Access   \n",
       "11  https://doi.org/10.1177/19367244221077410  Open Access   \n",
       "12  https://doi.org/10.1177/19367244211067716  Free access   \n",
       "13  https://doi.org/10.1177/19367244221095213  Open Access   \n",
       "14  https://doi.org/10.1177/19367244221128553  Open Access   \n",
       "\n",
       "                                              PDF URL        Area of Knowledge  \n",
       "0   https://journals.sagepub.com/doi/pdf/10.1177/1...  Applied Social Sciences  \n",
       "1   https://journals.sagepub.com/doi/pdf/10.1177/1...  Applied Social Sciences  \n",
       "2   https://journals.sagepub.com/doi/pdf/10.1177/1...  Applied Social Sciences  \n",
       "3   https://journals.sagepub.com/doi/pdf/10.1177/1...  Applied Social Sciences  \n",
       "4   https://journals.sagepub.com/doi/pdf/10.1177/1...  Applied Social Sciences  \n",
       "5   https://journals.sagepub.com/doi/pdf/10.1177/1...  Applied Social Sciences  \n",
       "6   https://journals.sagepub.com/doi/pdf/10.1177/1...  Applied Social Sciences  \n",
       "7   https://journals.sagepub.com/doi/pdf/10.1177/1...  Applied Social Sciences  \n",
       "8   https://journals.sagepub.com/doi/pdf/10.1177/1...  Applied Social Sciences  \n",
       "9   https://journals.sagepub.com/doi/pdf/10.1177/1...  Applied Social Sciences  \n",
       "10  https://journals.sagepub.com/doi/pdf/10.1177/1...  Applied Social Sciences  \n",
       "11  https://journals.sagepub.com/doi/pdf/10.1177/1...  Applied Social Sciences  \n",
       "12  https://journals.sagepub.com/doi/pdf/10.1177/1...  Applied Social Sciences  \n",
       "13  https://journals.sagepub.com/doi/pdf/10.1177/1...  Applied Social Sciences  \n",
       "14  https://journals.sagepub.com/doi/pdf/10.1177/1...  Applied Social Sciences  "
      ]
     },
     "execution_count": 24,
     "metadata": {},
     "output_type": "execute_result"
    }
   ],
   "source": [
    "df_journal_applied_social_science_open_access = df_journal_applied_social_science_open_access.loc[\n",
    "    df_journal_applied_social_science_open_access['Article Type'] == 'Research article'\n",
    "].reset_index(drop=True)\n",
    "df_journal_applied_social_science_open_access"
   ]
  },
  {
   "cell_type": "markdown",
   "id": "5b3d410c-a25d-42ca-88dd-7514c44e8f4d",
   "metadata": {},
   "source": [
    "#### Inspecting a few articles"
   ]
  },
  {
   "cell_type": "code",
   "execution_count": 25,
   "id": "d988d1c7-cbe1-436c-b26f-f3b0ff77423b",
   "metadata": {},
   "outputs": [
    {
     "data": {
      "text/plain": [
       "'https://journals.sagepub.com/doi/abs/10.1177/1936724420980374'"
      ]
     },
     "execution_count": 25,
     "metadata": {},
     "output_type": "execute_result"
    }
   ],
   "source": [
    "df_journal_applied_social_science_open_access.at[0, 'URL']"
   ]
  },
  {
   "cell_type": "markdown",
   "id": "cfa6d600-ed05-432d-921b-ae1839206143",
   "metadata": {},
   "source": [
    "#### Exporting to a file"
   ]
  },
  {
   "cell_type": "code",
   "execution_count": 26,
   "id": "692a06b7-8ffc-4eff-be34-dac20f43c7d4",
   "metadata": {},
   "outputs": [],
   "source": [
    "df_journal_applied_social_science_open_access.to_json(f\"{output_directory}/journal_applied_social_science_open_access.jsonl\", orient='records', lines=True)"
   ]
  },
  {
   "cell_type": "markdown",
   "id": "18de5943-41e4-42f6-b412-5989543c79e1",
   "metadata": {},
   "source": [
    "### Scraping [Journal of Social Issues](https://spssi.onlinelibrary.wiley.com/journal/15404560)"
   ]
  },
  {
   "cell_type": "markdown",
   "id": "e7f100d4-8ba8-4e76-b2e5-5c6f91d61e15",
   "metadata": {},
   "source": [
    "#### Capturing a few document pages for inspection"
   ]
  },
  {
   "cell_type": "markdown",
   "id": "50cdf714-a7fb-4a88-a36b-a0aa2194ece8",
   "metadata": {},
   "source": [
    "Wiley's website blocks iterations by pushing a `CAPTCHA`. This requires scraping page by page."
   ]
  },
  {
   "cell_type": "code",
   "execution_count": 44,
   "id": "1c5bef36-e0d8-4128-9b86-bb411fc8dbfd",
   "metadata": {},
   "outputs": [],
   "source": [
    "url_sample_1 = 'https://spssi.onlinelibrary.wiley.com/toc/15404560/2022/78/4'\n",
    "url_sample_11 = 'https://spssi.onlinelibrary.wiley.com/doi/10.1111/josi.12561'"
   ]
  },
  {
   "cell_type": "code",
   "execution_count": 45,
   "id": "6c2dbde6-da16-4e7e-9044-7e54c09e01c9",
   "metadata": {},
   "outputs": [],
   "source": [
    "# Setting up the WebDriver (make sure you have downloaded the Microsoft Edge WebDriver executable)\n",
    "# https://developer.microsoft.com/en-us/microsoft-edge/tools/webdriver/\n",
    "service = Service(r'C:\\Users\\eyamr\\OneDrive\\00-Technology\\laelgelc\\edgedriver_win64\\msedgedriver.exe')\n",
    "driver = webdriver.Edge(service=service)\n",
    "\n",
    "# Navigating to target URL 1 and saving its web page\n",
    "driver.get(url_sample_1)\n",
    "wait = WebDriverWait(driver, 10)\n",
    "#time.sleep(15)  # Waits for 15 seconds\n",
    "#wait.until(EC.presence_of_element_located((By.TAG_NAME, 'html')))\n",
    "\n",
    "# Extra reliability check: Wait until the page source stops changing\n",
    "max_wait_time = 30  # Max time in seconds\n",
    "start_time = time.time()\n",
    "previous_html = ''\n",
    "while True:\n",
    "    current_html = driver.page_source\n",
    "    if current_html == previous_html or time.time() - start_time > max_wait_time:\n",
    "        break  # Exit loop if page stops changing or max wait time is exceeded\n",
    "    previous_html = current_html\n",
    "    time.sleep(2)  # Short delay before checking again\n",
    "\n",
    "# Now, the page is fully loaded - extract content!\n",
    "\n",
    "document_page_sample_1 = driver.page_source\n",
    "\n",
    "with open(f'{output_directory}/journal_social_issues_sample1.html', 'w', encoding='utf8', newline='\\n') as file:\n",
    "    file.write(document_page_sample_1)\n",
    "\n",
    "# Closing the WebDriver\n",
    "driver.quit()"
   ]
  },
  {
   "cell_type": "code",
   "execution_count": 45,
   "id": "ad754033-6970-40a8-85e2-3d0965de316d",
   "metadata": {},
   "outputs": [],
   "source": [
    "# Setting up the WebDriver (make sure you have downloaded the Microsoft Edge WebDriver executable)\n",
    "# https://developer.microsoft.com/en-us/microsoft-edge/tools/webdriver/\n",
    "service = Service(r'C:\\Users\\eyamr\\OneDrive\\00-Technology\\laelgelc\\edgedriver_win64\\msedgedriver.exe')\n",
    "driver = webdriver.Edge(service=service)\n",
    "\n",
    "# Navigating to target URL 2 and saving its web page\n",
    "driver.get(url_sample_11)\n",
    "wait = WebDriverWait(driver, 10)\n",
    "#time.sleep(15)  # Waits for 15 seconds\n",
    "#wait.until(EC.presence_of_element_located((By.TAG_NAME, 'html')))\n",
    "\n",
    "# Extra reliability check: Wait until the page source stops changing\n",
    "max_wait_time = 30  # Max time in seconds\n",
    "start_time = time.time()\n",
    "previous_html = ''\n",
    "while True:\n",
    "    current_html = driver.page_source\n",
    "    if current_html == previous_html or time.time() - start_time > max_wait_time:\n",
    "        break  # Exit loop if page stops changing or max wait time is exceeded\n",
    "    previous_html = current_html\n",
    "    time.sleep(2)  # Short delay before checking again\n",
    "\n",
    "# Now, the page is fully loaded - extract content!\n",
    "\n",
    "document_page_sample_11 = driver.page_source\n",
    "\n",
    "with open(f'{output_directory}/journal_social_issues_sample11.html', 'w', encoding='utf8', newline='\\n') as file:\n",
    "    file.write(document_page_sample_11)\n",
    "\n",
    "# Closing the WebDriver\n",
    "driver.quit()"
   ]
  },
  {
   "cell_type": "markdown",
   "id": "00c3513e-4529-462d-a0db-ea90b65255b6",
   "metadata": {},
   "source": [
    "#### Scraping the articles"
   ]
  },
  {
   "cell_type": "markdown",
   "id": "9f03feb9-aca1-4143-81c8-d489240f89cb",
   "metadata": {},
   "source": [
    "##### Function to scrape the articles"
   ]
  },
  {
   "cell_type": "code",
   "execution_count": 23,
   "id": "b567e1d6-a53b-4cf7-b998-0d8a51d6d332",
   "metadata": {},
   "outputs": [],
   "source": [
    "def scrape_articles(root_url, doi_root_url, article_list_url, start_page, end_page, volume, area_of_knowledge):\n",
    "    # Setting up the WebDriver\n",
    "    service = Service(r'C:\\Users\\eyamr\\OneDrive\\00-Technology\\laelgelc\\edgedriver_win64\\msedgedriver.exe')\n",
    "    driver = webdriver.Edge(service=service)\n",
    "\n",
    "    data = []\n",
    "\n",
    "    for i in tqdm(range(start_page, end_page + 1)):\n",
    "        url = f\"{article_list_url}{i}\"\n",
    "        driver.get(url)\n",
    "\n",
    "        # Explicit wait for main article elements\n",
    "        wait = WebDriverWait(driver, 10)\n",
    "\n",
    "        # Ensure stable page load\n",
    "        max_wait_time = 30\n",
    "        start_time = time.time()\n",
    "        previous_html = ''\n",
    "        while True:\n",
    "            current_html = driver.page_source\n",
    "            if current_html == previous_html or time.time() - start_time > max_wait_time:\n",
    "                break\n",
    "            previous_html = current_html\n",
    "            time.sleep(2)\n",
    "\n",
    "        # Parse page source with BeautifulSoup\n",
    "        soup = BeautifulSoup(driver.page_source, 'lxml')\n",
    "\n",
    "        # Extract Volume/Issue\n",
    "        volume_issue = f\"{volume}, Issue {i}\"\n",
    "\n",
    "        # Extract articles\n",
    "        articles = soup.find_all('div', class_='issue-item')\n",
    "        \n",
    "        for article in articles:\n",
    "            # Extract article type (if applicable)\n",
    "            article_type = \"Research article\"  # Default assumption if not explicitly listed\n",
    "        \n",
    "            # Extract title\n",
    "            title_tag = article.find('a', class_='issue-item__title').find('h2')\n",
    "            title = title_tag.get_text(strip=True) if title_tag else ''\n",
    "        \n",
    "            # Extract article URL\n",
    "            article_url_tag = article.find('a', class_='issue-item__title')\n",
    "            article_url = root_url + article_url_tag['href'] if article_url_tag else ''\n",
    "        \n",
    "            # Extract authors\n",
    "            authors_list = article.find('div', class_='comma__list')\n",
    "            authors = ', '.join([author.get_text(strip=True) for author in authors_list.find_all('span', class_='author-style')]) if authors_list else ''\n",
    "        \n",
    "            # Extract published date (removing \"First Published: \")\n",
    "            published_tag = article.find('li', class_='ePubDate')\n",
    "            published = published_tag.find_all('span')[1].get_text(strip=True) if published_tag else ''\n",
    "        \n",
    "            # Extract DOI\n",
    "            doi_tag = article.find('input', {'type': 'hidden'})\n",
    "            doi = doi_root_url + doi_tag['value'].replace('%2F', '/') if doi_tag else ''\n",
    "        \n",
    "            # Extract Open Access status\n",
    "            open_access_tag = article.find('div', class_='doi-access')\n",
    "            open_access = open_access_tag.get_text(strip=True) if open_access_tag else ''\n",
    "        \n",
    "            # Extract PDF URL\n",
    "            pdf_url_tag = article.find('li', class_='PdfLink').find('a')\n",
    "            pdf_url = pdf_url_tag['href'].replace('epdf', 'pdf') if pdf_url_tag and pdf_url_tag.get('href') else ''\n",
    "        \n",
    "            # Append extracted data\n",
    "            data.append({\n",
    "                'Article Type': article_type,\n",
    "                'Title': title,\n",
    "                'URL': article_url,\n",
    "                'Authors': authors,\n",
    "                'Vol/Issue': volume_issue,\n",
    "                'Published': published,\n",
    "                'DOI': doi,\n",
    "                'Open Access': open_access,\n",
    "                'PDF URL': pdf_url,\n",
    "                'Area of Knowledge': area_of_knowledge\n",
    "            })\n",
    "\n",
    "    # Close WebDriver\n",
    "    driver.quit()\n",
    "\n",
    "    return pd.DataFrame(data)"
   ]
  },
  {
   "cell_type": "markdown",
   "id": "36ff9841-5ead-47fa-bb28-8aa56aeba13b",
   "metadata": {},
   "source": [
    "##### Volume 76 (Issue 1; Issue 2; Issue 3; Issue 4)"
   ]
  },
  {
   "cell_type": "markdown",
   "id": "e7dbc00b-ea0c-4ee1-bca7-6db3c0dbce95",
   "metadata": {},
   "source": [
    "Wiley's website blocks iterations by pushing a `CAPTCHA`. This requires scraping page by page."
   ]
  },
  {
   "cell_type": "code",
   "execution_count": 24,
   "id": "d07ec2e5-896d-4b18-a2ee-2d162393d1e5",
   "metadata": {},
   "outputs": [],
   "source": [
    "root_url = 'https://spssi.onlinelibrary.wiley.com'\n",
    "doi_root_url = 'https://doi.org/'\n",
    "article_list_url = 'https://spssi.onlinelibrary.wiley.com/toc/15404560/2020/76/'\n",
    "volume = 'Volume 76'\n",
    "area_of_knowledge = 'Applied Social Sciences'"
   ]
  },
  {
   "cell_type": "code",
   "execution_count": 25,
   "id": "d291a635-aa14-4bf4-898f-8a4ac85723e7",
   "metadata": {},
   "outputs": [],
   "source": [
    "start_page = 1\n",
    "end_page = 1"
   ]
  },
  {
   "cell_type": "code",
   "execution_count": 26,
   "id": "aaf78aa1-57a8-44d8-a377-f7537242959c",
   "metadata": {},
   "outputs": [
    {
     "name": "stderr",
     "output_type": "stream",
     "text": [
      "100%|██████████| 1/1 [00:21<00:00, 21.67s/it]\n"
     ]
    }
   ],
   "source": [
    "df_v76i1 = scrape_articles(root_url, doi_root_url, article_list_url, start_page, end_page, volume, area_of_knowledge)"
   ]
  },
  {
   "cell_type": "code",
   "execution_count": 28,
   "id": "c7a4219b-8c23-4913-828f-7826df135651",
   "metadata": {},
   "outputs": [],
   "source": [
    "start_page = 2\n",
    "end_page = 2"
   ]
  },
  {
   "cell_type": "code",
   "execution_count": 29,
   "id": "6f0e7601-d71b-4d66-bf97-438f47c4e220",
   "metadata": {},
   "outputs": [
    {
     "name": "stderr",
     "output_type": "stream",
     "text": [
      "100%|██████████| 1/1 [00:15<00:00, 15.39s/it]\n"
     ]
    }
   ],
   "source": [
    "df_v76i2 = scrape_articles(root_url, doi_root_url, article_list_url, start_page, end_page, volume, area_of_knowledge)"
   ]
  },
  {
   "cell_type": "code",
   "execution_count": 30,
   "id": "66e19069-f84c-4758-9959-071b3c45259c",
   "metadata": {},
   "outputs": [],
   "source": [
    "start_page = 3\n",
    "end_page = 3"
   ]
  },
  {
   "cell_type": "code",
   "execution_count": 31,
   "id": "4e96c8e5-2309-4fe1-84a6-b7e0568cd93d",
   "metadata": {},
   "outputs": [
    {
     "name": "stderr",
     "output_type": "stream",
     "text": [
      "100%|██████████| 1/1 [00:13<00:00, 13.47s/it]\n"
     ]
    }
   ],
   "source": [
    "df_v76i3 = scrape_articles(root_url, doi_root_url, article_list_url, start_page, end_page, volume, area_of_knowledge)"
   ]
  },
  {
   "cell_type": "code",
   "execution_count": 32,
   "id": "e27b9089-9d0a-46f1-b429-ba28b386f164",
   "metadata": {},
   "outputs": [],
   "source": [
    "start_page = 4\n",
    "end_page = 4"
   ]
  },
  {
   "cell_type": "code",
   "execution_count": 33,
   "id": "10cd069e-3c6f-4fac-b4f6-cf1e3e14ed94",
   "metadata": {},
   "outputs": [
    {
     "name": "stderr",
     "output_type": "stream",
     "text": [
      "100%|██████████| 1/1 [00:13<00:00, 13.01s/it]\n"
     ]
    }
   ],
   "source": [
    "df_v76i4 = scrape_articles(root_url, doi_root_url, article_list_url, start_page, end_page, volume, area_of_knowledge)"
   ]
  },
  {
   "cell_type": "markdown",
   "id": "ad875dd9-731e-4171-98cf-597653401e9e",
   "metadata": {},
   "source": [
    "##### Volume 77 (Issue 1; Issue 2; Issue 3; Issue 4)"
   ]
  },
  {
   "cell_type": "code",
   "execution_count": 37,
   "id": "a13cee64-f76d-4c3a-9745-bf3eaa26eb52",
   "metadata": {},
   "outputs": [],
   "source": [
    "root_url = 'https://spssi.onlinelibrary.wiley.com'\n",
    "doi_root_url = 'https://doi.org/'\n",
    "article_list_url = 'https://spssi.onlinelibrary.wiley.com/toc/15404560/2021/77/'\n",
    "volume = 'Volume 77'\n",
    "area_of_knowledge = 'Applied Social Sciences'"
   ]
  },
  {
   "cell_type": "code",
   "execution_count": 38,
   "id": "b8f7de86-9503-40e3-a46e-54b273f04388",
   "metadata": {},
   "outputs": [],
   "source": [
    "start_page = 1\n",
    "end_page = 1"
   ]
  },
  {
   "cell_type": "code",
   "execution_count": 39,
   "id": "e94c18db-ad01-4c62-928b-c0e7cc924ab2",
   "metadata": {},
   "outputs": [
    {
     "name": "stderr",
     "output_type": "stream",
     "text": [
      "100%|██████████| 1/1 [00:13<00:00, 13.41s/it]\n"
     ]
    }
   ],
   "source": [
    "df_v77i1 = scrape_articles(root_url, doi_root_url, article_list_url, start_page, end_page, volume, area_of_knowledge)"
   ]
  },
  {
   "cell_type": "code",
   "execution_count": 40,
   "id": "0b71e275-2627-40df-9775-18275567864f",
   "metadata": {},
   "outputs": [],
   "source": [
    "start_page = 2\n",
    "end_page = 2"
   ]
  },
  {
   "cell_type": "code",
   "execution_count": 41,
   "id": "3c5bf79b-8b19-42be-8e5c-c317f2149fb6",
   "metadata": {},
   "outputs": [
    {
     "name": "stderr",
     "output_type": "stream",
     "text": [
      "100%|██████████| 1/1 [00:15<00:00, 15.30s/it]\n"
     ]
    }
   ],
   "source": [
    "df_v77i2 = scrape_articles(root_url, doi_root_url, article_list_url, start_page, end_page, volume, area_of_knowledge)"
   ]
  },
  {
   "cell_type": "code",
   "execution_count": 42,
   "id": "ed825580-fa76-47a0-9b17-b81b327736fb",
   "metadata": {},
   "outputs": [],
   "source": [
    "start_page = 3\n",
    "end_page = 3"
   ]
  },
  {
   "cell_type": "code",
   "execution_count": 43,
   "id": "78496c46-a179-4cac-b0b5-b44e7fbe5d8c",
   "metadata": {},
   "outputs": [
    {
     "name": "stderr",
     "output_type": "stream",
     "text": [
      "100%|██████████| 1/1 [00:12<00:00, 12.93s/it]\n"
     ]
    }
   ],
   "source": [
    "df_v77i3 = scrape_articles(root_url, doi_root_url, article_list_url, start_page, end_page, volume, area_of_knowledge)"
   ]
  },
  {
   "cell_type": "code",
   "execution_count": 44,
   "id": "7b39b5de-1639-405a-9112-33eb25a5cfe2",
   "metadata": {},
   "outputs": [],
   "source": [
    "start_page = 4\n",
    "end_page = 4"
   ]
  },
  {
   "cell_type": "code",
   "execution_count": 45,
   "id": "6f2c8f50-21d2-42f3-9eb9-16b6a6cd0f7c",
   "metadata": {},
   "outputs": [
    {
     "name": "stderr",
     "output_type": "stream",
     "text": [
      "100%|██████████| 1/1 [00:12<00:00, 12.68s/it]\n"
     ]
    }
   ],
   "source": [
    "df_v77i4 = scrape_articles(root_url, doi_root_url, article_list_url, start_page, end_page, volume, area_of_knowledge)"
   ]
  },
  {
   "cell_type": "markdown",
   "id": "1f0fbdef-ffbc-4640-969f-a44874c3e923",
   "metadata": {},
   "source": [
    "##### Volume 78 (Issue 1; Issue 2; Issue 3; Issue 4)"
   ]
  },
  {
   "cell_type": "code",
   "execution_count": 46,
   "id": "f3390589-b31a-42e7-bc95-4ae1cc6ac1a9",
   "metadata": {},
   "outputs": [],
   "source": [
    "root_url = 'https://spssi.onlinelibrary.wiley.com'\n",
    "doi_root_url = 'https://doi.org/'\n",
    "article_list_url = 'https://spssi.onlinelibrary.wiley.com/toc/15404560/2022/78/'\n",
    "volume = 'Volume 78'\n",
    "area_of_knowledge = 'Applied Social Sciences'"
   ]
  },
  {
   "cell_type": "code",
   "execution_count": 47,
   "id": "1d03ea2c-bf8c-4506-80cb-c25cd15760b2",
   "metadata": {},
   "outputs": [],
   "source": [
    "start_page = 1\n",
    "end_page = 1"
   ]
  },
  {
   "cell_type": "code",
   "execution_count": 48,
   "id": "195ff361-871d-49a1-bf53-3b7643f89407",
   "metadata": {},
   "outputs": [
    {
     "name": "stderr",
     "output_type": "stream",
     "text": [
      "100%|██████████| 1/1 [00:13<00:00, 13.11s/it]\n"
     ]
    }
   ],
   "source": [
    "df_v78i1 = scrape_articles(root_url, doi_root_url, article_list_url, start_page, end_page, volume, area_of_knowledge)"
   ]
  },
  {
   "cell_type": "code",
   "execution_count": 49,
   "id": "8081c4a8-d202-4094-b21f-e8510e7ac4a4",
   "metadata": {},
   "outputs": [],
   "source": [
    "start_page = 2\n",
    "end_page = 2"
   ]
  },
  {
   "cell_type": "code",
   "execution_count": 50,
   "id": "61beeae5-436a-4251-8502-030bc8d05e55",
   "metadata": {},
   "outputs": [
    {
     "name": "stderr",
     "output_type": "stream",
     "text": [
      "100%|██████████| 1/1 [00:12<00:00, 12.88s/it]\n"
     ]
    }
   ],
   "source": [
    "df_v78i2 = scrape_articles(root_url, doi_root_url, article_list_url, start_page, end_page, volume, area_of_knowledge)"
   ]
  },
  {
   "cell_type": "code",
   "execution_count": 51,
   "id": "cd0d79fb-d3a5-4aa0-bebb-ce4644934d91",
   "metadata": {},
   "outputs": [],
   "source": [
    "start_page = 3\n",
    "end_page = 3"
   ]
  },
  {
   "cell_type": "code",
   "execution_count": 52,
   "id": "dd399904-7614-4e36-a0d7-8a0ce65228e0",
   "metadata": {},
   "outputs": [
    {
     "name": "stderr",
     "output_type": "stream",
     "text": [
      "100%|██████████| 1/1 [00:14<00:00, 14.66s/it]\n"
     ]
    }
   ],
   "source": [
    "df_v78i3 = scrape_articles(root_url, doi_root_url, article_list_url, start_page, end_page, volume, area_of_knowledge)"
   ]
  },
  {
   "cell_type": "code",
   "execution_count": 53,
   "id": "49b5f164-b8f4-4dfd-bf4b-e44ff1de2e5d",
   "metadata": {},
   "outputs": [],
   "source": [
    "start_page = 4\n",
    "end_page = 4"
   ]
  },
  {
   "cell_type": "code",
   "execution_count": 54,
   "id": "e5fb929a-8d0e-4ff6-86c3-4bd6dc9b10e9",
   "metadata": {},
   "outputs": [
    {
     "name": "stderr",
     "output_type": "stream",
     "text": [
      "100%|██████████| 1/1 [00:12<00:00, 12.21s/it]\n"
     ]
    }
   ],
   "source": [
    "df_v78i4 = scrape_articles(root_url, doi_root_url, article_list_url, start_page, end_page, volume, area_of_knowledge)"
   ]
  },
  {
   "cell_type": "markdown",
   "id": "775e841c-bff6-401e-b7c0-2c75a1e21762",
   "metadata": {},
   "source": [
    "##### Concatenating the DataFrames"
   ]
  },
  {
   "cell_type": "code",
   "execution_count": 55,
   "id": "e155e155-3526-4b66-8c0f-38b74b3f9305",
   "metadata": {},
   "outputs": [],
   "source": [
    "df_journal_social_issues = pd.concat([\n",
    "    df_v76i1, df_v76i2, df_v76i3, df_v76i4,\n",
    "    df_v77i1, df_v77i2, df_v77i3, df_v77i4,\n",
    "    df_v78i1, df_v78i2, df_v78i3, df_v78i4\n",
    "], ignore_index=True)"
   ]
  },
  {
   "cell_type": "code",
   "execution_count": 58,
   "id": "45508c9e-1bb5-4348-9483-4b39a4ce855d",
   "metadata": {},
   "outputs": [],
   "source": [
    "df_journal_social_issues['Published'] = pd.to_datetime(\n",
    "    df_journal_social_issues['Published'], format='mixed', errors='coerce'\n",
    ")"
   ]
  },
  {
   "cell_type": "code",
   "execution_count": 59,
   "id": "a1e272c3-f7f0-4c94-9d22-d9f2d727cec7",
   "metadata": {},
   "outputs": [
    {
     "data": {
      "text/plain": [
       "Article Type                 object\n",
       "Title                        object\n",
       "URL                          object\n",
       "Authors                      object\n",
       "Vol/Issue                    object\n",
       "Published            datetime64[ns]\n",
       "DOI                          object\n",
       "Open Access                  object\n",
       "PDF URL                      object\n",
       "Area of Knowledge            object\n",
       "dtype: object"
      ]
     },
     "execution_count": 59,
     "metadata": {},
     "output_type": "execute_result"
    }
   ],
   "source": [
    "df_journal_social_issues.dtypes"
   ]
  },
  {
   "cell_type": "markdown",
   "id": "4380b9e8-1bd5-4f72-9401-f71bcb30acc9",
   "metadata": {},
   "source": [
    "##### Selecting the 'Open access' and 'Full text access' articles published before the advent of ChatGPT"
   ]
  },
  {
   "cell_type": "code",
   "execution_count": 61,
   "id": "8045804e-2227-4af0-8520-a68d97b7a286",
   "metadata": {},
   "outputs": [
    {
     "data": {
      "text/plain": [
       "array(['Free Access', '', 'Open Access', 'Free to Read'], dtype=object)"
      ]
     },
     "execution_count": 61,
     "metadata": {},
     "output_type": "execute_result"
    }
   ],
   "source": [
    "unique_open_access = df_journal_social_issues['Open Access'].dropna().unique()\n",
    "unique_open_access"
   ]
  },
  {
   "cell_type": "code",
   "execution_count": 62,
   "id": "d2dc869d-ba00-4375-9722-3d21e686ab3e",
   "metadata": {},
   "outputs": [],
   "source": [
    "df_journal_social_issues_open_access = df_journal_social_issues[\n",
    "    (df_journal_social_issues['Open Access'] == 'Open Access') | \n",
    "    (df_journal_social_issues['Open Access'] == 'Free Access')\n",
    "]\n",
    "df_journal_social_issues_open_access = df_journal_social_issues_open_access[df_journal_social_issues_open_access['Published'] <= '2022-11-30']\n",
    "df_journal_social_issues_open_access = df_journal_social_issues_open_access.reset_index(drop=True)"
   ]
  },
  {
   "cell_type": "markdown",
   "id": "16f7e219-a169-4a4c-a538-baaa6443eff5",
   "metadata": {},
   "source": [
    "#### Retaining only the `Research articles`"
   ]
  },
  {
   "cell_type": "code",
   "execution_count": 64,
   "id": "cc8ba905-e4ce-41d1-8904-978dac5b6e80",
   "metadata": {},
   "outputs": [],
   "source": [
    "df_journal_social_issues_open_access = df_journal_social_issues_open_access.loc[\n",
    "    ~df_journal_social_issues_open_access['Title'].isin(['Issue Information', 'Erratum'])\n",
    "].reset_index(drop=True)"
   ]
  },
  {
   "cell_type": "code",
   "execution_count": 65,
   "id": "fc16f84e-be2f-45d1-95bc-9d212e6d834a",
   "metadata": {},
   "outputs": [
    {
     "data": {
      "text/html": [
       "<div>\n",
       "<style scoped>\n",
       "    .dataframe tbody tr th:only-of-type {\n",
       "        vertical-align: middle;\n",
       "    }\n",
       "\n",
       "    .dataframe tbody tr th {\n",
       "        vertical-align: top;\n",
       "    }\n",
       "\n",
       "    .dataframe thead th {\n",
       "        text-align: right;\n",
       "    }\n",
       "</style>\n",
       "<table border=\"1\" class=\"dataframe\">\n",
       "  <thead>\n",
       "    <tr style=\"text-align: right;\">\n",
       "      <th></th>\n",
       "      <th>Article Type</th>\n",
       "      <th>Title</th>\n",
       "      <th>URL</th>\n",
       "      <th>Authors</th>\n",
       "      <th>Vol/Issue</th>\n",
       "      <th>Published</th>\n",
       "      <th>DOI</th>\n",
       "      <th>Open Access</th>\n",
       "      <th>PDF URL</th>\n",
       "      <th>Area of Knowledge</th>\n",
       "    </tr>\n",
       "  </thead>\n",
       "  <tbody>\n",
       "    <tr>\n",
       "      <th>0</th>\n",
       "      <td>Research article</td>\n",
       "      <td>Sustainable Consumption: The Psychology of Ind...</td>\n",
       "      <td>https://spssi.onlinelibrary.wiley.com/doi/10.1...</td>\n",
       "      <td>Matthew B Ruby, Iain Walker, Hanne M Watkins</td>\n",
       "      <td>Volume 76, Issue 1</td>\n",
       "      <td>2020-03-05</td>\n",
       "      <td>https://doi.org/10.1111/josi.12376</td>\n",
       "      <td>Free Access</td>\n",
       "      <td>https://spssi.onlinelibrary.wiley.com/doi/pdf/...</td>\n",
       "      <td>Applied Social Sciences</td>\n",
       "    </tr>\n",
       "    <tr>\n",
       "      <th>1</th>\n",
       "      <td>Research article</td>\n",
       "      <td>My Influence on the World (of Others): Goal Ef...</td>\n",
       "      <td>https://spssi.onlinelibrary.wiley.com/doi/10.1...</td>\n",
       "      <td>Karen R. S. Hamann, Gerhard Reese</td>\n",
       "      <td>Volume 76, Issue 1</td>\n",
       "      <td>2020-01-29</td>\n",
       "      <td>https://doi.org/10.1111/josi.12369</td>\n",
       "      <td>Open Access</td>\n",
       "      <td>https://spssi.onlinelibrary.wiley.com/doi/pdf/...</td>\n",
       "      <td>Applied Social Sciences</td>\n",
       "    </tr>\n",
       "    <tr>\n",
       "      <th>2</th>\n",
       "      <td>Research article</td>\n",
       "      <td>The Perils of Explaining Climate Inaction in T...</td>\n",
       "      <td>https://spssi.onlinelibrary.wiley.com/doi/10.1...</td>\n",
       "      <td>Michael T. Schmitt, Scott D. Neufeld, Caroline...</td>\n",
       "      <td>Volume 76, Issue 1</td>\n",
       "      <td>2019-11-19</td>\n",
       "      <td>https://doi.org/10.1111/josi.12360</td>\n",
       "      <td>Open Access</td>\n",
       "      <td>https://spssi.onlinelibrary.wiley.com/doi/pdf/...</td>\n",
       "      <td>Applied Social Sciences</td>\n",
       "    </tr>\n",
       "    <tr>\n",
       "      <th>3</th>\n",
       "      <td>Research article</td>\n",
       "      <td>How do we get people into contact? Predictors ...</td>\n",
       "      <td>https://spssi.onlinelibrary.wiley.com/doi/10.1...</td>\n",
       "      <td>Mathias Kauff, Marta Beneda, Stefania Paolini,...</td>\n",
       "      <td>Volume 77, Issue 1</td>\n",
       "      <td>2020-10-31</td>\n",
       "      <td>https://doi.org/10.1111/josi.12398</td>\n",
       "      <td>Open Access</td>\n",
       "      <td>https://spssi.onlinelibrary.wiley.com/doi/pdf/...</td>\n",
       "      <td>Applied Social Sciences</td>\n",
       "    </tr>\n",
       "    <tr>\n",
       "      <th>4</th>\n",
       "      <td>Research article</td>\n",
       "      <td>Intimate intergroup contact across the lifespan</td>\n",
       "      <td>https://spssi.onlinelibrary.wiley.com/doi/10.1...</td>\n",
       "      <td>Marco Marinucci, Rachel Maunder, Kiara Sanchez...</td>\n",
       "      <td>Volume 77, Issue 1</td>\n",
       "      <td>2020-10-19</td>\n",
       "      <td>https://doi.org/10.1111/josi.12399</td>\n",
       "      <td>Open Access</td>\n",
       "      <td>https://spssi.onlinelibrary.wiley.com/doi/pdf/...</td>\n",
       "      <td>Applied Social Sciences</td>\n",
       "    </tr>\n",
       "    <tr>\n",
       "      <th>5</th>\n",
       "      <td>Research article</td>\n",
       "      <td>Does negative contact undermine attempts to im...</td>\n",
       "      <td>https://spssi.onlinelibrary.wiley.com/doi/10.1...</td>\n",
       "      <td>Sarina J. Schäfer, Mathias Kauff, Francesca Pr...</td>\n",
       "      <td>Volume 77, Issue 1</td>\n",
       "      <td>2021-03-02</td>\n",
       "      <td>https://doi.org/10.1111/josi.12422</td>\n",
       "      <td>Open Access</td>\n",
       "      <td>https://spssi.onlinelibrary.wiley.com/doi/pdf/...</td>\n",
       "      <td>Applied Social Sciences</td>\n",
       "    </tr>\n",
       "    <tr>\n",
       "      <th>6</th>\n",
       "      <td>Research article</td>\n",
       "      <td>Negative contact, collective action, and socia...</td>\n",
       "      <td>https://spssi.onlinelibrary.wiley.com/doi/10.1...</td>\n",
       "      <td>John Dixon, Shelley McKeown</td>\n",
       "      <td>Volume 77, Issue 1</td>\n",
       "      <td>2021-03-10</td>\n",
       "      <td>https://doi.org/10.1111/josi.12429</td>\n",
       "      <td>Open Access</td>\n",
       "      <td>https://spssi.onlinelibrary.wiley.com/doi/pdf/...</td>\n",
       "      <td>Applied Social Sciences</td>\n",
       "    </tr>\n",
       "    <tr>\n",
       "      <th>7</th>\n",
       "      <td>Research article</td>\n",
       "      <td>Self-affirmation theory in educational contexts</td>\n",
       "      <td>https://spssi.onlinelibrary.wiley.com/doi/10.1...</td>\n",
       "      <td>Matthew J. Easterbrook, Peter R. Harris, David...</td>\n",
       "      <td>Volume 77, Issue 3</td>\n",
       "      <td>2021-06-29</td>\n",
       "      <td>https://doi.org/10.1111/josi.12459</td>\n",
       "      <td>Open Access</td>\n",
       "      <td>https://spssi.onlinelibrary.wiley.com/doi/pdf/...</td>\n",
       "      <td>Applied Social Sciences</td>\n",
       "    </tr>\n",
       "    <tr>\n",
       "      <th>8</th>\n",
       "      <td>Research article</td>\n",
       "      <td>Dual identity in context: The role of minority...</td>\n",
       "      <td>https://spssi.onlinelibrary.wiley.com/doi/10.1...</td>\n",
       "      <td>Judit Kende, Gülseli Baysu, Karen Phalet, Fene...</td>\n",
       "      <td>Volume 77, Issue 4</td>\n",
       "      <td>2021-12-11</td>\n",
       "      <td>https://doi.org/10.1111/josi.12487</td>\n",
       "      <td>Open Access</td>\n",
       "      <td>https://spssi.onlinelibrary.wiley.com/doi/pdf/...</td>\n",
       "      <td>Applied Social Sciences</td>\n",
       "    </tr>\n",
       "    <tr>\n",
       "      <th>9</th>\n",
       "      <td>Research article</td>\n",
       "      <td>Adolescents’ own and parental expectations for...</td>\n",
       "      <td>https://spssi.onlinelibrary.wiley.com/doi/10.1...</td>\n",
       "      <td>Jeanine Grütter, Sandesh Dhakal, Melanie Killen</td>\n",
       "      <td>Volume 77, Issue 4</td>\n",
       "      <td>2021-12-11</td>\n",
       "      <td>https://doi.org/10.1111/josi.12484</td>\n",
       "      <td>Open Access</td>\n",
       "      <td>https://spssi.onlinelibrary.wiley.com/doi/pdf/...</td>\n",
       "      <td>Applied Social Sciences</td>\n",
       "    </tr>\n",
       "    <tr>\n",
       "      <th>10</th>\n",
       "      <td>Research article</td>\n",
       "      <td>“Time is our worst enemy:” Lived experiences a...</td>\n",
       "      <td>https://spssi.onlinelibrary.wiley.com/doi/10.1...</td>\n",
       "      <td>Susanne Normann</td>\n",
       "      <td>Volume 78, Issue 1</td>\n",
       "      <td>2021-08-11</td>\n",
       "      <td>https://doi.org/10.1111/josi.12472</td>\n",
       "      <td>Open Access</td>\n",
       "      <td>https://spssi.onlinelibrary.wiley.com/doi/pdf/...</td>\n",
       "      <td>Applied Social Sciences</td>\n",
       "    </tr>\n",
       "    <tr>\n",
       "      <th>11</th>\n",
       "      <td>Research article</td>\n",
       "      <td>Modeling “Remorse Bias” in probation narrative...</td>\n",
       "      <td>https://spssi.onlinelibrary.wiley.com/doi/10.1...</td>\n",
       "      <td>Colleen M. Berryessa</td>\n",
       "      <td>Volume 78, Issue 2</td>\n",
       "      <td>2022-06-03</td>\n",
       "      <td>https://doi.org/10.1111/josi.12508</td>\n",
       "      <td>Open Access</td>\n",
       "      <td>https://spssi.onlinelibrary.wiley.com/doi/pdf/...</td>\n",
       "      <td>Applied Social Sciences</td>\n",
       "    </tr>\n",
       "    <tr>\n",
       "      <th>12</th>\n",
       "      <td>Research article</td>\n",
       "      <td>Beliefs about the factors that motivate prosoc...</td>\n",
       "      <td>https://spssi.onlinelibrary.wiley.com/doi/10.1...</td>\n",
       "      <td>Ahsan Mehmood Ahmed, Shahid Rasool, Catherine ...</td>\n",
       "      <td>Volume 78, Issue 3</td>\n",
       "      <td>2022-05-30</td>\n",
       "      <td>https://doi.org/10.1111/josi.12506</td>\n",
       "      <td>Open Access</td>\n",
       "      <td>https://spssi.onlinelibrary.wiley.com/doi/pdf/...</td>\n",
       "      <td>Applied Social Sciences</td>\n",
       "    </tr>\n",
       "    <tr>\n",
       "      <th>13</th>\n",
       "      <td>Research article</td>\n",
       "      <td>Age discrimination, the right to life, and COV...</td>\n",
       "      <td>https://spssi.onlinelibrary.wiley.com/doi/10.1...</td>\n",
       "      <td>Peter Lloyd-Sherlock, Aravinda Guntupalli, Luc...</td>\n",
       "      <td>Volume 78, Issue 4</td>\n",
       "      <td>2022-09-30</td>\n",
       "      <td>https://doi.org/10.1111/josi.12561</td>\n",
       "      <td>Open Access</td>\n",
       "      <td>https://spssi.onlinelibrary.wiley.com/doi/pdf/...</td>\n",
       "      <td>Applied Social Sciences</td>\n",
       "    </tr>\n",
       "    <tr>\n",
       "      <th>14</th>\n",
       "      <td>Research article</td>\n",
       "      <td>Is protecting older adults from COVID-19 ageis...</td>\n",
       "      <td>https://spssi.onlinelibrary.wiley.com/doi/10.1...</td>\n",
       "      <td>Elfriede Derrer-Merk, Maria-Fernanda Reyes-Rod...</td>\n",
       "      <td>Volume 78, Issue 4</td>\n",
       "      <td>2022-08-17</td>\n",
       "      <td>https://doi.org/10.1111/josi.12538</td>\n",
       "      <td>Open Access</td>\n",
       "      <td>https://spssi.onlinelibrary.wiley.com/doi/pdf/...</td>\n",
       "      <td>Applied Social Sciences</td>\n",
       "    </tr>\n",
       "    <tr>\n",
       "      <th>15</th>\n",
       "      <td>Research article</td>\n",
       "      <td>Perceptions of societal ageism and declines in...</td>\n",
       "      <td>https://spssi.onlinelibrary.wiley.com/doi/10.1...</td>\n",
       "      <td>Ella Cohn-Schwartz, Jessica M. Finlay, Lindsay...</td>\n",
       "      <td>Volume 78, Issue 4</td>\n",
       "      <td>2022-08-07</td>\n",
       "      <td>https://doi.org/10.1111/josi.12544</td>\n",
       "      <td>Open Access</td>\n",
       "      <td>https://spssi.onlinelibrary.wiley.com/doi/pdf/...</td>\n",
       "      <td>Applied Social Sciences</td>\n",
       "    </tr>\n",
       "    <tr>\n",
       "      <th>16</th>\n",
       "      <td>Research article</td>\n",
       "      <td>Eradicating ageism through social campaigns: A...</td>\n",
       "      <td>https://spssi.onlinelibrary.wiley.com/doi/10.1...</td>\n",
       "      <td>Sarit Okun, Liat Ayalon</td>\n",
       "      <td>Volume 78, Issue 4</td>\n",
       "      <td>2022-08-15</td>\n",
       "      <td>https://doi.org/10.1111/josi.12540</td>\n",
       "      <td>Open Access</td>\n",
       "      <td>https://spssi.onlinelibrary.wiley.com/doi/pdf/...</td>\n",
       "      <td>Applied Social Sciences</td>\n",
       "    </tr>\n",
       "    <tr>\n",
       "      <th>17</th>\n",
       "      <td>Research article</td>\n",
       "      <td>Intergenerational programming during the pande...</td>\n",
       "      <td>https://spssi.onlinelibrary.wiley.com/doi/10.1...</td>\n",
       "      <td>Shannon E. Jarrott, Skye N. Leedahl, Tamar E. ...</td>\n",
       "      <td>Volume 78, Issue 4</td>\n",
       "      <td>2022-08-07</td>\n",
       "      <td>https://doi.org/10.1111/josi.12530</td>\n",
       "      <td>Open Access</td>\n",
       "      <td>https://spssi.onlinelibrary.wiley.com/doi/pdf/...</td>\n",
       "      <td>Applied Social Sciences</td>\n",
       "    </tr>\n",
       "  </tbody>\n",
       "</table>\n",
       "</div>"
      ],
      "text/plain": [
       "        Article Type                                              Title  \\\n",
       "0   Research article  Sustainable Consumption: The Psychology of Ind...   \n",
       "1   Research article  My Influence on the World (of Others): Goal Ef...   \n",
       "2   Research article  The Perils of Explaining Climate Inaction in T...   \n",
       "3   Research article  How do we get people into contact? Predictors ...   \n",
       "4   Research article    Intimate intergroup contact across the lifespan   \n",
       "5   Research article  Does negative contact undermine attempts to im...   \n",
       "6   Research article  Negative contact, collective action, and socia...   \n",
       "7   Research article    Self-affirmation theory in educational contexts   \n",
       "8   Research article  Dual identity in context: The role of minority...   \n",
       "9   Research article  Adolescents’ own and parental expectations for...   \n",
       "10  Research article  “Time is our worst enemy:” Lived experiences a...   \n",
       "11  Research article  Modeling “Remorse Bias” in probation narrative...   \n",
       "12  Research article  Beliefs about the factors that motivate prosoc...   \n",
       "13  Research article  Age discrimination, the right to life, and COV...   \n",
       "14  Research article  Is protecting older adults from COVID-19 ageis...   \n",
       "15  Research article  Perceptions of societal ageism and declines in...   \n",
       "16  Research article  Eradicating ageism through social campaigns: A...   \n",
       "17  Research article  Intergenerational programming during the pande...   \n",
       "\n",
       "                                                  URL  \\\n",
       "0   https://spssi.onlinelibrary.wiley.com/doi/10.1...   \n",
       "1   https://spssi.onlinelibrary.wiley.com/doi/10.1...   \n",
       "2   https://spssi.onlinelibrary.wiley.com/doi/10.1...   \n",
       "3   https://spssi.onlinelibrary.wiley.com/doi/10.1...   \n",
       "4   https://spssi.onlinelibrary.wiley.com/doi/10.1...   \n",
       "5   https://spssi.onlinelibrary.wiley.com/doi/10.1...   \n",
       "6   https://spssi.onlinelibrary.wiley.com/doi/10.1...   \n",
       "7   https://spssi.onlinelibrary.wiley.com/doi/10.1...   \n",
       "8   https://spssi.onlinelibrary.wiley.com/doi/10.1...   \n",
       "9   https://spssi.onlinelibrary.wiley.com/doi/10.1...   \n",
       "10  https://spssi.onlinelibrary.wiley.com/doi/10.1...   \n",
       "11  https://spssi.onlinelibrary.wiley.com/doi/10.1...   \n",
       "12  https://spssi.onlinelibrary.wiley.com/doi/10.1...   \n",
       "13  https://spssi.onlinelibrary.wiley.com/doi/10.1...   \n",
       "14  https://spssi.onlinelibrary.wiley.com/doi/10.1...   \n",
       "15  https://spssi.onlinelibrary.wiley.com/doi/10.1...   \n",
       "16  https://spssi.onlinelibrary.wiley.com/doi/10.1...   \n",
       "17  https://spssi.onlinelibrary.wiley.com/doi/10.1...   \n",
       "\n",
       "                                              Authors           Vol/Issue  \\\n",
       "0        Matthew B Ruby, Iain Walker, Hanne M Watkins  Volume 76, Issue 1   \n",
       "1                   Karen R. S. Hamann, Gerhard Reese  Volume 76, Issue 1   \n",
       "2   Michael T. Schmitt, Scott D. Neufeld, Caroline...  Volume 76, Issue 1   \n",
       "3   Mathias Kauff, Marta Beneda, Stefania Paolini,...  Volume 77, Issue 1   \n",
       "4   Marco Marinucci, Rachel Maunder, Kiara Sanchez...  Volume 77, Issue 1   \n",
       "5   Sarina J. Schäfer, Mathias Kauff, Francesca Pr...  Volume 77, Issue 1   \n",
       "6                         John Dixon, Shelley McKeown  Volume 77, Issue 1   \n",
       "7   Matthew J. Easterbrook, Peter R. Harris, David...  Volume 77, Issue 3   \n",
       "8   Judit Kende, Gülseli Baysu, Karen Phalet, Fene...  Volume 77, Issue 4   \n",
       "9     Jeanine Grütter, Sandesh Dhakal, Melanie Killen  Volume 77, Issue 4   \n",
       "10                                    Susanne Normann  Volume 78, Issue 1   \n",
       "11                               Colleen M. Berryessa  Volume 78, Issue 2   \n",
       "12  Ahsan Mehmood Ahmed, Shahid Rasool, Catherine ...  Volume 78, Issue 3   \n",
       "13  Peter Lloyd-Sherlock, Aravinda Guntupalli, Luc...  Volume 78, Issue 4   \n",
       "14  Elfriede Derrer-Merk, Maria-Fernanda Reyes-Rod...  Volume 78, Issue 4   \n",
       "15  Ella Cohn-Schwartz, Jessica M. Finlay, Lindsay...  Volume 78, Issue 4   \n",
       "16                            Sarit Okun, Liat Ayalon  Volume 78, Issue 4   \n",
       "17  Shannon E. Jarrott, Skye N. Leedahl, Tamar E. ...  Volume 78, Issue 4   \n",
       "\n",
       "    Published                                 DOI  Open Access  \\\n",
       "0  2020-03-05  https://doi.org/10.1111/josi.12376  Free Access   \n",
       "1  2020-01-29  https://doi.org/10.1111/josi.12369  Open Access   \n",
       "2  2019-11-19  https://doi.org/10.1111/josi.12360  Open Access   \n",
       "3  2020-10-31  https://doi.org/10.1111/josi.12398  Open Access   \n",
       "4  2020-10-19  https://doi.org/10.1111/josi.12399  Open Access   \n",
       "5  2021-03-02  https://doi.org/10.1111/josi.12422  Open Access   \n",
       "6  2021-03-10  https://doi.org/10.1111/josi.12429  Open Access   \n",
       "7  2021-06-29  https://doi.org/10.1111/josi.12459  Open Access   \n",
       "8  2021-12-11  https://doi.org/10.1111/josi.12487  Open Access   \n",
       "9  2021-12-11  https://doi.org/10.1111/josi.12484  Open Access   \n",
       "10 2021-08-11  https://doi.org/10.1111/josi.12472  Open Access   \n",
       "11 2022-06-03  https://doi.org/10.1111/josi.12508  Open Access   \n",
       "12 2022-05-30  https://doi.org/10.1111/josi.12506  Open Access   \n",
       "13 2022-09-30  https://doi.org/10.1111/josi.12561  Open Access   \n",
       "14 2022-08-17  https://doi.org/10.1111/josi.12538  Open Access   \n",
       "15 2022-08-07  https://doi.org/10.1111/josi.12544  Open Access   \n",
       "16 2022-08-15  https://doi.org/10.1111/josi.12540  Open Access   \n",
       "17 2022-08-07  https://doi.org/10.1111/josi.12530  Open Access   \n",
       "\n",
       "                                              PDF URL        Area of Knowledge  \n",
       "0   https://spssi.onlinelibrary.wiley.com/doi/pdf/...  Applied Social Sciences  \n",
       "1   https://spssi.onlinelibrary.wiley.com/doi/pdf/...  Applied Social Sciences  \n",
       "2   https://spssi.onlinelibrary.wiley.com/doi/pdf/...  Applied Social Sciences  \n",
       "3   https://spssi.onlinelibrary.wiley.com/doi/pdf/...  Applied Social Sciences  \n",
       "4   https://spssi.onlinelibrary.wiley.com/doi/pdf/...  Applied Social Sciences  \n",
       "5   https://spssi.onlinelibrary.wiley.com/doi/pdf/...  Applied Social Sciences  \n",
       "6   https://spssi.onlinelibrary.wiley.com/doi/pdf/...  Applied Social Sciences  \n",
       "7   https://spssi.onlinelibrary.wiley.com/doi/pdf/...  Applied Social Sciences  \n",
       "8   https://spssi.onlinelibrary.wiley.com/doi/pdf/...  Applied Social Sciences  \n",
       "9   https://spssi.onlinelibrary.wiley.com/doi/pdf/...  Applied Social Sciences  \n",
       "10  https://spssi.onlinelibrary.wiley.com/doi/pdf/...  Applied Social Sciences  \n",
       "11  https://spssi.onlinelibrary.wiley.com/doi/pdf/...  Applied Social Sciences  \n",
       "12  https://spssi.onlinelibrary.wiley.com/doi/pdf/...  Applied Social Sciences  \n",
       "13  https://spssi.onlinelibrary.wiley.com/doi/pdf/...  Applied Social Sciences  \n",
       "14  https://spssi.onlinelibrary.wiley.com/doi/pdf/...  Applied Social Sciences  \n",
       "15  https://spssi.onlinelibrary.wiley.com/doi/pdf/...  Applied Social Sciences  \n",
       "16  https://spssi.onlinelibrary.wiley.com/doi/pdf/...  Applied Social Sciences  \n",
       "17  https://spssi.onlinelibrary.wiley.com/doi/pdf/...  Applied Social Sciences  "
      ]
     },
     "execution_count": 65,
     "metadata": {},
     "output_type": "execute_result"
    }
   ],
   "source": [
    "df_journal_social_issues_open_access"
   ]
  },
  {
   "cell_type": "markdown",
   "id": "b0838268-c327-4eac-83c4-44e97d8df745",
   "metadata": {},
   "source": [
    "#### Inspecting a few articles"
   ]
  },
  {
   "cell_type": "markdown",
   "id": "8d1c178f-5a0f-474a-a741-9f1e74a632c1",
   "metadata": {},
   "source": [
    "**Attention**: Some of the documents might in fact be `Editorials` rather than `Research articles`. Extra refinement is recommended when using the dataset."
   ]
  },
  {
   "cell_type": "code",
   "execution_count": 66,
   "id": "f00406a4-f68c-4452-af35-7055298d301f",
   "metadata": {},
   "outputs": [
    {
     "data": {
      "text/plain": [
       "'https://spssi.onlinelibrary.wiley.com/doi/10.1111/josi.12376'"
      ]
     },
     "execution_count": 66,
     "metadata": {},
     "output_type": "execute_result"
    }
   ],
   "source": [
    "df_journal_social_issues_open_access.at[0, 'URL']"
   ]
  },
  {
   "cell_type": "markdown",
   "id": "bbb75010-7601-4ad4-951a-c49822930a63",
   "metadata": {},
   "source": [
    "#### Exporting to a file"
   ]
  },
  {
   "cell_type": "code",
   "execution_count": 67,
   "id": "d5d01f1d-3c1d-405f-9e67-694533d75018",
   "metadata": {},
   "outputs": [],
   "source": [
    "df_journal_social_issues_open_access.to_json(f\"{output_directory}/journal_social_issues_open_access.jsonl\", orient='records', lines=True)"
   ]
  },
  {
   "cell_type": "markdown",
   "id": "7c58a660-738e-4042-ae4b-3ca8efc965d1",
   "metadata": {},
   "source": [
    "### Scraping [Social Science & Medicine](https://www.sciencedirect.com/journal/social-science-and-medicine)"
   ]
  },
  {
   "cell_type": "markdown",
   "id": "f5eeaef5-ffe3-48fe-8a20-d8af4df4adc0",
   "metadata": {},
   "source": [
    "#### Capturing a few document pages for inspection"
   ]
  },
  {
   "cell_type": "code",
   "execution_count": 8,
   "id": "ca8270d4-34e1-4718-95f0-4dcf809902b5",
   "metadata": {},
   "outputs": [],
   "source": [
    "url_sample_1 = 'https://www.sciencedirect.com/journal/social-science-and-medicine/vol/244/suppl/C'\n",
    "#url_sample_2 = 'https://www.sciencedirect.com/journal/social-science-and-medicine/vol/313/suppl/C'\n",
    "url_sample_11 = 'https://www.sciencedirect.com/science/article/pii/S0277953619305933'"
   ]
  },
  {
   "cell_type": "code",
   "execution_count": 9,
   "id": "3c524220-9101-474e-8ab0-db1d64e5afb7",
   "metadata": {},
   "outputs": [],
   "source": [
    "# Setting up the WebDriver (make sure you have downloaded the Microsoft Edge WebDriver executable)\n",
    "# https://developer.microsoft.com/en-us/microsoft-edge/tools/webdriver/\n",
    "service = Service(r'C:\\Users\\eyamr\\OneDrive\\00-Technology\\laelgelc\\edgedriver_win64\\msedgedriver.exe')\n",
    "driver = webdriver.Edge(service=service)\n",
    "\n",
    "# Navigating to target URL 1 and saving its web page\n",
    "driver.get(url_sample_1)\n",
    "#driver.get(url_sample_2)\n",
    "wait = WebDriverWait(driver, 10)\n",
    "#time.sleep(15)  # Waits for 15 seconds\n",
    "#wait.until(EC.presence_of_element_located((By.TAG_NAME, 'html')))\n",
    "\n",
    "# Extra reliability check: Wait until the page source stops changing\n",
    "max_wait_time = 30  # Max time in seconds\n",
    "start_time = time.time()\n",
    "previous_html = ''\n",
    "while True:\n",
    "    current_html = driver.page_source\n",
    "    if current_html == previous_html or time.time() - start_time > max_wait_time:\n",
    "        break  # Exit loop if page stops changing or max wait time is exceeded\n",
    "    previous_html = current_html\n",
    "    time.sleep(2)  # Short delay before checking again\n",
    "\n",
    "# Now, the page is fully loaded - extract content!\n",
    "\n",
    "document_page_sample_1 = driver.page_source\n",
    "\n",
    "with open(f'{output_directory}/social_science_medicine_sample1.html', 'w', encoding='utf8', newline='\\n') as file:\n",
    "    file.write(document_page_sample_1)\n",
    "\n",
    "#document_page_sample_2 = driver.page_source\n",
    "\n",
    "#with open(f'{output_directory}/social_science_medicine_sample2.html', 'w', encoding='utf8', newline='\\n') as file:\n",
    "#    file.write(document_page_sample_2)\n",
    "\n",
    "# Navigating to target URL 2 and saving its web page\n",
    "driver.get(url_sample_11)\n",
    "wait = WebDriverWait(driver, 10)\n",
    "#time.sleep(15)  # Waits for 15 seconds\n",
    "#wait.until(EC.presence_of_element_located((By.TAG_NAME, 'html')))\n",
    "\n",
    "# Extra reliability check: Wait until the page source stops changing\n",
    "max_wait_time = 30  # Max time in seconds\n",
    "start_time = time.time()\n",
    "previous_html = ''\n",
    "while True:\n",
    "    current_html = driver.page_source\n",
    "    if current_html == previous_html or time.time() - start_time > max_wait_time:\n",
    "        break  # Exit loop if page stops changing or max wait time is exceeded\n",
    "    previous_html = current_html\n",
    "    time.sleep(2)  # Short delay before checking again\n",
    "\n",
    "# Now, the page is fully loaded - extract content!\n",
    "\n",
    "document_page_sample_11 = driver.page_source\n",
    "\n",
    "with open(f'{output_directory}/social_science_medicine_sample11.html', 'w', encoding='utf8', newline='\\n') as file:\n",
    "    file.write(document_page_sample_11)\n",
    "\n",
    "# Closing the WebDriver\n",
    "driver.quit()"
   ]
  },
  {
   "cell_type": "markdown",
   "id": "15dc29cd-2be0-4b27-aba9-d5d7b39559df",
   "metadata": {},
   "source": [
    "#### Scraping the articles"
   ]
  },
  {
   "cell_type": "markdown",
   "id": "21e0a208-ece7-4c57-a648-afe056e4ae3b",
   "metadata": {},
   "source": [
    "##### Function to scrape the articles"
   ]
  },
  {
   "cell_type": "code",
   "execution_count": 21,
   "id": "6f1e3078-a497-4029-a0dd-2fd271f09d77",
   "metadata": {},
   "outputs": [],
   "source": [
    "def scrape_articles(article_list_url1, article_list_url2, root_url, start_page, end_page, area_of_knowledge):\n",
    "    # Setting up the WebDriver\n",
    "    service = Service(r'C:\\Users\\eyamr\\OneDrive\\00-Technology\\laelgelc\\edgedriver_win64\\msedgedriver.exe')\n",
    "    driver = webdriver.Edge(service=service)\n",
    "\n",
    "    data = []\n",
    "\n",
    "    for i in tqdm(range(start_page, end_page + 1)):\n",
    "        url = f\"{article_list_url1}{i}{article_list_url2}\"\n",
    "        driver.get(url)\n",
    "        wait = WebDriverWait(driver, 10)\n",
    "        #wait.until(EC.presence_of_element_located((By.TAG_NAME, 'html')))\n",
    "        max_wait_time = 30\n",
    "        start_time = time.time()\n",
    "        previous_html = ''\n",
    "        while True:\n",
    "            current_html = driver.page_source\n",
    "            if current_html == previous_html or time.time() - start_time > max_wait_time:\n",
    "                break\n",
    "            previous_html = current_html\n",
    "            time.sleep(2)\n",
    "        page = driver.page_source\n",
    "        soup = BeautifulSoup(page, 'lxml')\n",
    "\n",
    "        volume_issue_tag = soup.find('h2', class_='u-text-light js-vol-issue')\n",
    "        volume_issue = volume_issue_tag.get_text(strip=True) if volume_issue_tag else ''\n",
    "\n",
    "        month_year_tag = soup.find('h3', class_='js-issue-status text-s')\n",
    "        month_year = month_year_tag.get_text(strip=True) if month_year_tag else ''\n",
    "\n",
    "        articles = soup.find_all('li', class_='js-article-list-item article-item u-padding-xs-top u-margin-l-bottom')\n",
    "\n",
    "        for article in articles:\n",
    "            article_type_tag = article.find('span', class_='js-article-subtype')\n",
    "            article_type = article_type_tag.get_text(strip=True) if article_type_tag else ''\n",
    "\n",
    "            title_tag = article.find('span', class_='js-article-title text-l')\n",
    "            title = title_tag.get_text(strip=True) if title_tag else ''\n",
    "\n",
    "            article_url_tag = article.find('h3', class_='text-m u-font-serif u-display-inline').find('a')\n",
    "            article_url = root_url + article_url_tag['href'] if article_url_tag else ''\n",
    "\n",
    "            authors_tags = article.find('div', class_='text-s u-clr-grey8 js-article__item__authors')\n",
    "            authors = authors_tags.get_text(strip=True) if authors_tags else ''\n",
    "\n",
    "            doi_tag = article.find('div', attrs={'hidden': True})  # Explicitly target the 'hidden' attribute\n",
    "            doi = doi_tag.get_text(strip=True) if doi_tag else ''\n",
    "\n",
    "            open_access_tag = article.find('span', class_='js-open-access u-text-italic')\n",
    "            open_access = open_access_tag.get_text(strip=True) if open_access_tag else ''\n",
    "\n",
    "            open_access1_tag = article.find('span', class_='js-open-access')\n",
    "            open_access1 = open_access1_tag.get_text(strip=True) if open_access1_tag else ''\n",
    "\n",
    "            pdf_url_tag = article.find('dd', class_='js-article-link u-margin-xs-top u-margin-s-bottom article-item-link')\n",
    "            pdf_url = root_url + pdf_url_tag.find('a')['href'] if pdf_url_tag and pdf_url_tag.find('a') else ''\n",
    "\n",
    "            data.append({\n",
    "                'Article Type': article_type,\n",
    "                'Title': title,\n",
    "                'URL': article_url,\n",
    "                'Authors': authors,\n",
    "                'Vol/Issue': volume_issue,\n",
    "                'Published': month_year,\n",
    "                'DOI': doi,\n",
    "                'Open Access': open_access,\n",
    "                'Open Access 1': open_access1,\n",
    "                'PDF URL': pdf_url,\n",
    "                'Area of Knowledge': area_of_knowledge\n",
    "            })\n",
    "\n",
    "    driver.quit()\n",
    "\n",
    "    return pd.DataFrame(data)"
   ]
  },
  {
   "cell_type": "markdown",
   "id": "48ae08fd-28cf-4be4-9403-6e4602bfc3df",
   "metadata": {},
   "source": [
    "##### Volumes 244 to 313"
   ]
  },
  {
   "cell_type": "code",
   "execution_count": 22,
   "id": "5d368fb3-c051-4f2b-a3d7-2fb6b1a2b9b7",
   "metadata": {},
   "outputs": [],
   "source": [
    "root_url = 'https://www.sciencedirect.com/'\n",
    "article_list_url1 = 'https://www.sciencedirect.com/journal/social-science-and-medicine/vol/'\n",
    "article_list_url2 = '/suppl/C'\n",
    "start_page = 244\n",
    "end_page = 313\n",
    "area_of_knowledge = 'Applied Social Sciences'"
   ]
  },
  {
   "cell_type": "code",
   "execution_count": 23,
   "id": "2a092308-e49e-47c5-a741-ead4325ba646",
   "metadata": {},
   "outputs": [
    {
     "name": "stderr",
     "output_type": "stream",
     "text": [
      "100%|██████████| 70/70 [07:00<00:00,  6.00s/it]\n"
     ]
    }
   ],
   "source": [
    "df_social_science_medicine = scrape_articles(article_list_url1, article_list_url2, root_url, start_page, end_page, area_of_knowledge)"
   ]
  },
  {
   "cell_type": "code",
   "execution_count": 24,
   "id": "4d17a279-f317-4cf6-a4d1-1a81270d7eab",
   "metadata": {},
   "outputs": [],
   "source": [
    "df_social_science_medicine['Published'] = pd.to_datetime(\n",
    "    df_social_science_medicine['Published'], format='%B %Y'\n",
    ")"
   ]
  },
  {
   "cell_type": "code",
   "execution_count": 25,
   "id": "d405e3e3-c69c-4d4d-8510-d379c856d0ce",
   "metadata": {},
   "outputs": [
    {
     "data": {
      "text/plain": [
       "Article Type                 object\n",
       "Title                        object\n",
       "URL                          object\n",
       "Authors                      object\n",
       "Vol/Issue                    object\n",
       "Published            datetime64[ns]\n",
       "DOI                          object\n",
       "Open Access                  object\n",
       "Open Access 1                object\n",
       "PDF URL                      object\n",
       "Area of Knowledge            object\n",
       "dtype: object"
      ]
     },
     "execution_count": 25,
     "metadata": {},
     "output_type": "execute_result"
    }
   ],
   "source": [
    "df_social_science_medicine.dtypes"
   ]
  },
  {
   "cell_type": "markdown",
   "id": "2dec2011-2969-48b7-8cb9-376ca27eb09b",
   "metadata": {},
   "source": [
    "##### Selecting the 'Open access' and 'Full text access' articles published before the advent of ChatGPT"
   ]
  },
  {
   "cell_type": "code",
   "execution_count": 26,
   "id": "063a16f0-5c11-41f1-937b-41327307767b",
   "metadata": {},
   "outputs": [
    {
     "data": {
      "text/plain": [
       "array(['', 'Open access'], dtype=object)"
      ]
     },
     "execution_count": 26,
     "metadata": {},
     "output_type": "execute_result"
    }
   ],
   "source": [
    "unique_open_access = df_social_science_medicine['Open Access'].dropna().unique()\n",
    "unique_open_access"
   ]
  },
  {
   "cell_type": "code",
   "execution_count": 27,
   "id": "610c2833-a3ee-4f2e-a382-d37d77e33b70",
   "metadata": {},
   "outputs": [
    {
     "data": {
      "text/plain": [
       "array(['Full text access', 'Abstract only', 'Open access', 'No access'],\n",
       "      dtype=object)"
      ]
     },
     "execution_count": 27,
     "metadata": {},
     "output_type": "execute_result"
    }
   ],
   "source": [
    "unique_open_access1 = df_social_science_medicine['Open Access 1'].dropna().unique()\n",
    "unique_open_access1"
   ]
  },
  {
   "cell_type": "code",
   "execution_count": 28,
   "id": "56c28174-45f2-4cf8-a4fe-720bf75da8ae",
   "metadata": {},
   "outputs": [],
   "source": [
    "df_social_science_medicine_open_access = df_social_science_medicine[\n",
    "    (df_social_science_medicine['Open Access'] == 'Open access') | \n",
    "    (df_social_science_medicine['Open Access 1'] == 'Full text access') | \n",
    "    (df_social_science_medicine['Open Access 1'] == 'Open access')\n",
    "]\n",
    "df_social_science_medicine_open_access = df_social_science_medicine_open_access[df_social_science_medicine_open_access['Published'] <= '2022-11-30']\n",
    "df_social_science_medicine_open_access = df_social_science_medicine_open_access.reset_index(drop=True)"
   ]
  },
  {
   "cell_type": "markdown",
   "id": "bac3cd5a-1020-4a06-a7a7-6ddee6049e55",
   "metadata": {},
   "source": [
    "#### Retaining only the `Research articles`"
   ]
  },
  {
   "cell_type": "code",
   "execution_count": 29,
   "id": "34d83a3b-506e-4039-ab1e-243029ba776b",
   "metadata": {},
   "outputs": [
    {
     "data": {
      "text/html": [
       "<div>\n",
       "<style scoped>\n",
       "    .dataframe tbody tr th:only-of-type {\n",
       "        vertical-align: middle;\n",
       "    }\n",
       "\n",
       "    .dataframe tbody tr th {\n",
       "        vertical-align: top;\n",
       "    }\n",
       "\n",
       "    .dataframe thead th {\n",
       "        text-align: right;\n",
       "    }\n",
       "</style>\n",
       "<table border=\"1\" class=\"dataframe\">\n",
       "  <thead>\n",
       "    <tr style=\"text-align: right;\">\n",
       "      <th></th>\n",
       "      <th>Article Type</th>\n",
       "      <th>Title</th>\n",
       "      <th>URL</th>\n",
       "      <th>Authors</th>\n",
       "      <th>Vol/Issue</th>\n",
       "      <th>Published</th>\n",
       "      <th>DOI</th>\n",
       "      <th>Open Access</th>\n",
       "      <th>Open Access 1</th>\n",
       "      <th>PDF URL</th>\n",
       "      <th>Area of Knowledge</th>\n",
       "    </tr>\n",
       "  </thead>\n",
       "  <tbody>\n",
       "    <tr>\n",
       "      <th>0</th>\n",
       "      <td>Research article</td>\n",
       "      <td>Making a murderer: Media renderings of brain i...</td>\n",
       "      <td>https://www.sciencedirect.com//science/article...</td>\n",
       "      <td>Hollin Gregory</td>\n",
       "      <td>Volume 244</td>\n",
       "      <td>2020-01-01</td>\n",
       "      <td>https://doi.org/10.1016/j.socscimed.2019.112598</td>\n",
       "      <td>Open access</td>\n",
       "      <td>Open access</td>\n",
       "      <td>https://www.sciencedirect.com//science/article...</td>\n",
       "      <td>Applied Social Sciences</td>\n",
       "    </tr>\n",
       "    <tr>\n",
       "      <th>1</th>\n",
       "      <td>Research article</td>\n",
       "      <td>Defining and measuring health poverty</td>\n",
       "      <td>https://www.sciencedirect.com//science/article...</td>\n",
       "      <td>Philip Clarke, Guido Erreygers</td>\n",
       "      <td>Volume 244</td>\n",
       "      <td>2020-01-01</td>\n",
       "      <td>https://doi.org/10.1016/j.socscimed.2019.112633</td>\n",
       "      <td>Open access</td>\n",
       "      <td>Open access</td>\n",
       "      <td>https://www.sciencedirect.com//science/article...</td>\n",
       "      <td>Applied Social Sciences</td>\n",
       "    </tr>\n",
       "    <tr>\n",
       "      <th>2</th>\n",
       "      <td>Research article</td>\n",
       "      <td>A critical content analysis of media reporting...</td>\n",
       "      <td>https://www.sciencedirect.com//science/article...</td>\n",
       "      <td>Fiona Webster, Kathleen Rice, Abhimanyu Sud</td>\n",
       "      <td>Volume 244</td>\n",
       "      <td>2020-01-01</td>\n",
       "      <td>https://doi.org/10.1016/j.socscimed.2019.112642</td>\n",
       "      <td>Open access</td>\n",
       "      <td>Open access</td>\n",
       "      <td>https://www.sciencedirect.com//science/article...</td>\n",
       "      <td>Applied Social Sciences</td>\n",
       "    </tr>\n",
       "    <tr>\n",
       "      <th>3</th>\n",
       "      <td>Research article</td>\n",
       "      <td>“It was all taken away”: Lactation, embodiment...</td>\n",
       "      <td>https://www.sciencedirect.com//science/article...</td>\n",
       "      <td>Aunchalee E.L. Palmquist, Sarah M. Holdren, Cy...</td>\n",
       "      <td>Volume 244</td>\n",
       "      <td>2020-01-01</td>\n",
       "      <td>https://doi.org/10.1016/j.socscimed.2019.112648</td>\n",
       "      <td>Open access</td>\n",
       "      <td>Open access</td>\n",
       "      <td>https://www.sciencedirect.com//science/article...</td>\n",
       "      <td>Applied Social Sciences</td>\n",
       "    </tr>\n",
       "    <tr>\n",
       "      <th>4</th>\n",
       "      <td>Research article</td>\n",
       "      <td>Care providers, access to care, and the Long-t...</td>\n",
       "      <td>https://www.sciencedirect.com//science/article...</td>\n",
       "      <td>Shuang Chang, Wei Yang, Hiroshi Deguchi</td>\n",
       "      <td>Volume 244</td>\n",
       "      <td>2020-01-01</td>\n",
       "      <td>https://doi.org/10.1016/j.socscimed.2019.112667</td>\n",
       "      <td>Open access</td>\n",
       "      <td>Open access</td>\n",
       "      <td>https://www.sciencedirect.com//science/article...</td>\n",
       "      <td>Applied Social Sciences</td>\n",
       "    </tr>\n",
       "    <tr>\n",
       "      <th>...</th>\n",
       "      <td>...</td>\n",
       "      <td>...</td>\n",
       "      <td>...</td>\n",
       "      <td>...</td>\n",
       "      <td>...</td>\n",
       "      <td>...</td>\n",
       "      <td>...</td>\n",
       "      <td>...</td>\n",
       "      <td>...</td>\n",
       "      <td>...</td>\n",
       "      <td>...</td>\n",
       "    </tr>\n",
       "    <tr>\n",
       "      <th>720</th>\n",
       "      <td>Research article</td>\n",
       "      <td>The health cost of reducing hospital bed capacity</td>\n",
       "      <td>https://www.sciencedirect.com//science/article...</td>\n",
       "      <td>Jonathan Siverskog, Martin Henriksson</td>\n",
       "      <td>Volume 313</td>\n",
       "      <td>2022-11-01</td>\n",
       "      <td>https://doi.org/10.1016/j.socscimed.2022.115399</td>\n",
       "      <td>Open access</td>\n",
       "      <td>Open access</td>\n",
       "      <td>https://www.sciencedirect.com//science/article...</td>\n",
       "      <td>Applied Social Sciences</td>\n",
       "    </tr>\n",
       "    <tr>\n",
       "      <th>721</th>\n",
       "      <td>Research article</td>\n",
       "      <td>Water journeys: Household water insecurity, he...</td>\n",
       "      <td>https://www.sciencedirect.com//science/article...</td>\n",
       "      <td>Ellis Adjei Adams, Sydney Byrns, Save Kumwenda...</td>\n",
       "      <td>Volume 313</td>\n",
       "      <td>2022-11-01</td>\n",
       "      <td>https://doi.org/10.1016/j.socscimed.2022.115394</td>\n",
       "      <td>Open access</td>\n",
       "      <td>Open access</td>\n",
       "      <td>https://www.sciencedirect.com//science/article...</td>\n",
       "      <td>Applied Social Sciences</td>\n",
       "    </tr>\n",
       "    <tr>\n",
       "      <th>722</th>\n",
       "      <td>Research article</td>\n",
       "      <td>Theoretical mediators of GlobalConsent: An ada...</td>\n",
       "      <td>https://www.sciencedirect.com//science/article...</td>\n",
       "      <td>Kathryn M. Yount, Irina Bergenfeld, Katherine ...</td>\n",
       "      <td>Volume 313</td>\n",
       "      <td>2022-11-01</td>\n",
       "      <td>https://doi.org/10.1016/j.socscimed.2022.115402</td>\n",
       "      <td>Open access</td>\n",
       "      <td>Open access</td>\n",
       "      <td>https://www.sciencedirect.com//science/article...</td>\n",
       "      <td>Applied Social Sciences</td>\n",
       "    </tr>\n",
       "    <tr>\n",
       "      <th>723</th>\n",
       "      <td>Research article</td>\n",
       "      <td>The ubiquity of uncertainty in low back pain care</td>\n",
       "      <td>https://www.sciencedirect.com//science/article...</td>\n",
       "      <td>Nathalia Costa, Karime Mescouto, Miriam Dillon...</td>\n",
       "      <td>Volume 313</td>\n",
       "      <td>2022-11-01</td>\n",
       "      <td>https://doi.org/10.1016/j.socscimed.2022.115422</td>\n",
       "      <td>Open access</td>\n",
       "      <td>Open access</td>\n",
       "      <td>https://www.sciencedirect.com//science/article...</td>\n",
       "      <td>Applied Social Sciences</td>\n",
       "    </tr>\n",
       "    <tr>\n",
       "      <th>724</th>\n",
       "      <td>Research article</td>\n",
       "      <td>Professional competition amidst intractable ma...</td>\n",
       "      <td>https://www.sciencedirect.com//science/article...</td>\n",
       "      <td>Shayzal Siddiqui, Carolyn Smith-Morris</td>\n",
       "      <td>Volume 313</td>\n",
       "      <td>2022-11-01</td>\n",
       "      <td>https://doi.org/10.1016/j.socscimed.2022.115426</td>\n",
       "      <td></td>\n",
       "      <td>Full text access</td>\n",
       "      <td>https://www.sciencedirect.com//science/article...</td>\n",
       "      <td>Applied Social Sciences</td>\n",
       "    </tr>\n",
       "  </tbody>\n",
       "</table>\n",
       "<p>725 rows × 11 columns</p>\n",
       "</div>"
      ],
      "text/plain": [
       "         Article Type                                              Title  \\\n",
       "0    Research article  Making a murderer: Media renderings of brain i...   \n",
       "1    Research article              Defining and measuring health poverty   \n",
       "2    Research article  A critical content analysis of media reporting...   \n",
       "3    Research article  “It was all taken away”: Lactation, embodiment...   \n",
       "4    Research article  Care providers, access to care, and the Long-t...   \n",
       "..                ...                                                ...   \n",
       "720  Research article  The health cost of reducing hospital bed capacity   \n",
       "721  Research article  Water journeys: Household water insecurity, he...   \n",
       "722  Research article  Theoretical mediators of GlobalConsent: An ada...   \n",
       "723  Research article  The ubiquity of uncertainty in low back pain care   \n",
       "724  Research article  Professional competition amidst intractable ma...   \n",
       "\n",
       "                                                   URL  \\\n",
       "0    https://www.sciencedirect.com//science/article...   \n",
       "1    https://www.sciencedirect.com//science/article...   \n",
       "2    https://www.sciencedirect.com//science/article...   \n",
       "3    https://www.sciencedirect.com//science/article...   \n",
       "4    https://www.sciencedirect.com//science/article...   \n",
       "..                                                 ...   \n",
       "720  https://www.sciencedirect.com//science/article...   \n",
       "721  https://www.sciencedirect.com//science/article...   \n",
       "722  https://www.sciencedirect.com//science/article...   \n",
       "723  https://www.sciencedirect.com//science/article...   \n",
       "724  https://www.sciencedirect.com//science/article...   \n",
       "\n",
       "                                               Authors   Vol/Issue  Published  \\\n",
       "0                                       Hollin Gregory  Volume 244 2020-01-01   \n",
       "1                       Philip Clarke, Guido Erreygers  Volume 244 2020-01-01   \n",
       "2          Fiona Webster, Kathleen Rice, Abhimanyu Sud  Volume 244 2020-01-01   \n",
       "3    Aunchalee E.L. Palmquist, Sarah M. Holdren, Cy...  Volume 244 2020-01-01   \n",
       "4              Shuang Chang, Wei Yang, Hiroshi Deguchi  Volume 244 2020-01-01   \n",
       "..                                                 ...         ...        ...   \n",
       "720              Jonathan Siverskog, Martin Henriksson  Volume 313 2022-11-01   \n",
       "721  Ellis Adjei Adams, Sydney Byrns, Save Kumwenda...  Volume 313 2022-11-01   \n",
       "722  Kathryn M. Yount, Irina Bergenfeld, Katherine ...  Volume 313 2022-11-01   \n",
       "723  Nathalia Costa, Karime Mescouto, Miriam Dillon...  Volume 313 2022-11-01   \n",
       "724             Shayzal Siddiqui, Carolyn Smith-Morris  Volume 313 2022-11-01   \n",
       "\n",
       "                                                 DOI  Open Access  \\\n",
       "0    https://doi.org/10.1016/j.socscimed.2019.112598  Open access   \n",
       "1    https://doi.org/10.1016/j.socscimed.2019.112633  Open access   \n",
       "2    https://doi.org/10.1016/j.socscimed.2019.112642  Open access   \n",
       "3    https://doi.org/10.1016/j.socscimed.2019.112648  Open access   \n",
       "4    https://doi.org/10.1016/j.socscimed.2019.112667  Open access   \n",
       "..                                               ...          ...   \n",
       "720  https://doi.org/10.1016/j.socscimed.2022.115399  Open access   \n",
       "721  https://doi.org/10.1016/j.socscimed.2022.115394  Open access   \n",
       "722  https://doi.org/10.1016/j.socscimed.2022.115402  Open access   \n",
       "723  https://doi.org/10.1016/j.socscimed.2022.115422  Open access   \n",
       "724  https://doi.org/10.1016/j.socscimed.2022.115426                \n",
       "\n",
       "        Open Access 1                                            PDF URL  \\\n",
       "0         Open access  https://www.sciencedirect.com//science/article...   \n",
       "1         Open access  https://www.sciencedirect.com//science/article...   \n",
       "2         Open access  https://www.sciencedirect.com//science/article...   \n",
       "3         Open access  https://www.sciencedirect.com//science/article...   \n",
       "4         Open access  https://www.sciencedirect.com//science/article...   \n",
       "..                ...                                                ...   \n",
       "720       Open access  https://www.sciencedirect.com//science/article...   \n",
       "721       Open access  https://www.sciencedirect.com//science/article...   \n",
       "722       Open access  https://www.sciencedirect.com//science/article...   \n",
       "723       Open access  https://www.sciencedirect.com//science/article...   \n",
       "724  Full text access  https://www.sciencedirect.com//science/article...   \n",
       "\n",
       "           Area of Knowledge  \n",
       "0    Applied Social Sciences  \n",
       "1    Applied Social Sciences  \n",
       "2    Applied Social Sciences  \n",
       "3    Applied Social Sciences  \n",
       "4    Applied Social Sciences  \n",
       "..                       ...  \n",
       "720  Applied Social Sciences  \n",
       "721  Applied Social Sciences  \n",
       "722  Applied Social Sciences  \n",
       "723  Applied Social Sciences  \n",
       "724  Applied Social Sciences  \n",
       "\n",
       "[725 rows x 11 columns]"
      ]
     },
     "execution_count": 29,
     "metadata": {},
     "output_type": "execute_result"
    }
   ],
   "source": [
    "df_social_science_medicine_open_access = df_social_science_medicine_open_access.loc[\n",
    "    df_social_science_medicine_open_access['Article Type'] == 'Research article'\n",
    "].reset_index(drop=True)\n",
    "df_social_science_medicine_open_access"
   ]
  },
  {
   "cell_type": "markdown",
   "id": "a143ffb2-426a-433d-b81f-bdf28657af19",
   "metadata": {},
   "source": [
    "#### Inspecting a few articles"
   ]
  },
  {
   "cell_type": "code",
   "execution_count": 30,
   "id": "01732e93-5f63-424a-bcc2-e9e010a1bf88",
   "metadata": {},
   "outputs": [
    {
     "data": {
      "text/plain": [
       "'https://www.sciencedirect.com//science/article/pii/S0277953619305933'"
      ]
     },
     "execution_count": 30,
     "metadata": {},
     "output_type": "execute_result"
    }
   ],
   "source": [
    "df_social_science_medicine_open_access.at[0, 'URL']"
   ]
  },
  {
   "cell_type": "markdown",
   "id": "97348f8b-959f-4fe6-b6e0-33dc3959c742",
   "metadata": {},
   "source": [
    "#### Exporting to a file"
   ]
  },
  {
   "cell_type": "code",
   "execution_count": 31,
   "id": "bcb8b7f3-9806-40dc-bf3e-cb7c7e439007",
   "metadata": {},
   "outputs": [],
   "source": [
    "df_social_science_medicine_open_access.to_json(f\"{output_directory}/social_science_medicine_open_access.jsonl\", orient='records', lines=True)"
   ]
  },
  {
   "cell_type": "markdown",
   "id": "b2e95c03-f16d-4847-b80b-aaef8f4001d0",
   "metadata": {},
   "source": [
    "### Scraping [Sociological Practice Association](https://digitalcommons.wayne.edu/socprac/)"
   ]
  },
  {
   "cell_type": "markdown",
   "id": "5c4b18b6-c18e-45e9-84db-a73063e89da7",
   "metadata": {},
   "source": [
    "This journal has been excluded from the study because it is too old."
   ]
  },
  {
   "cell_type": "markdown",
   "id": "56ad1a87-273f-4ebd-83b0-cd40c98f2f68",
   "metadata": {},
   "source": [
    "## Biological Sciences"
   ]
  },
  {
   "cell_type": "markdown",
   "id": "047230e5-8d93-42b1-8fc6-a560d931a960",
   "metadata": {},
   "source": [
    "### Scraping [Cell](https://www.cell.com/cell/home)"
   ]
  },
  {
   "cell_type": "markdown",
   "id": "7ef85101-902a-40da-b972-61bd40d53f85",
   "metadata": {},
   "source": [
    "#### Capturing a few document pages for inspection"
   ]
  },
  {
   "cell_type": "code",
   "execution_count": 3,
   "id": "f4fff634-c778-4861-ae1f-18ba4d18ac36",
   "metadata": {},
   "outputs": [],
   "source": [
    "url_sample_1 = 'https://www.cell.com/cell/issue?pii=S0092-8674(19)X0002-1'\n",
    "url_sample_11 = 'https://www.cell.com/cell/fulltext/S0092-8674(19)31270-X'"
   ]
  },
  {
   "cell_type": "code",
   "execution_count": 4,
   "id": "a6bb25f7-ecb6-4213-841c-d8e785e5e9e2",
   "metadata": {},
   "outputs": [],
   "source": [
    "# Setting up the WebDriver (make sure you have downloaded the Microsoft Edge WebDriver executable)\n",
    "# https://developer.microsoft.com/en-us/microsoft-edge/tools/webdriver/\n",
    "service = Service(r'C:\\Users\\eyamr\\OneDrive\\00-Technology\\laelgelc\\edgedriver_win64\\msedgedriver.exe')\n",
    "driver = webdriver.Edge(service=service)\n",
    "\n",
    "# Navigating to target URL 1 and saving its web page\n",
    "driver.get(url_sample_1)\n",
    "wait = WebDriverWait(driver, 10)\n",
    "#time.sleep(15)  # Waits for 15 seconds\n",
    "#wait.until(EC.presence_of_element_located((By.TAG_NAME, 'html')))\n",
    "\n",
    "# Extra reliability check: Wait until the page source stops changing\n",
    "max_wait_time = 30  # Max time in seconds\n",
    "start_time = time.time()\n",
    "previous_html = ''\n",
    "while True:\n",
    "    current_html = driver.page_source\n",
    "    if current_html == previous_html or time.time() - start_time > max_wait_time:\n",
    "        break  # Exit loop if page stops changing or max wait time is exceeded\n",
    "    previous_html = current_html\n",
    "    time.sleep(2)  # Short delay before checking again\n",
    "\n",
    "# Now, the page is fully loaded - extract content!\n",
    "\n",
    "document_page_sample_1 = driver.page_source\n",
    "\n",
    "with open(f'{output_directory}/cell_sample1.html', 'w', encoding='utf8', newline='\\n') as file:\n",
    "    file.write(document_page_sample_1)\n",
    "\n",
    "# Closing the WebDriver\n",
    "driver.quit()"
   ]
  },
  {
   "cell_type": "code",
   "execution_count": 5,
   "id": "0c219fde-4d53-48dc-8e57-386e1e8a2449",
   "metadata": {},
   "outputs": [],
   "source": [
    "# Setting up the WebDriver (make sure you have downloaded the Microsoft Edge WebDriver executable)\n",
    "# https://developer.microsoft.com/en-us/microsoft-edge/tools/webdriver/\n",
    "service = Service(r'C:\\Users\\eyamr\\OneDrive\\00-Technology\\laelgelc\\edgedriver_win64\\msedgedriver.exe')\n",
    "driver = webdriver.Edge(service=service)\n",
    "\n",
    "# Navigating to target URL 2 and saving its web page\n",
    "driver.get(url_sample_11)\n",
    "wait = WebDriverWait(driver, 10)\n",
    "#time.sleep(15)  # Waits for 15 seconds\n",
    "#wait.until(EC.presence_of_element_located((By.TAG_NAME, 'html')))\n",
    "\n",
    "# Extra reliability check: Wait until the page source stops changing\n",
    "max_wait_time = 30  # Max time in seconds\n",
    "start_time = time.time()\n",
    "previous_html = ''\n",
    "while True:\n",
    "    current_html = driver.page_source\n",
    "    if current_html == previous_html or time.time() - start_time > max_wait_time:\n",
    "        break  # Exit loop if page stops changing or max wait time is exceeded\n",
    "    previous_html = current_html\n",
    "    time.sleep(2)  # Short delay before checking again\n",
    "\n",
    "# Now, the page is fully loaded - extract content!\n",
    "\n",
    "document_page_sample_11 = driver.page_source\n",
    "\n",
    "with open(f'{output_directory}/cell_sample11.html', 'w', encoding='utf8', newline='\\n') as file:\n",
    "    file.write(document_page_sample_11)\n",
    "\n",
    "# Closing the WebDriver\n",
    "driver.quit()"
   ]
  },
  {
   "cell_type": "markdown",
   "id": "8910926c-75fc-41bf-b1cf-fa76ff0f2e30",
   "metadata": {},
   "source": [
    "#### Scraping the articles"
   ]
  },
  {
   "cell_type": "markdown",
   "id": "b924f72f-576d-4786-a34e-d3f2659dcbf2",
   "metadata": {},
   "source": [
    "##### Function to scrape the articles"
   ]
  },
  {
   "cell_type": "code",
   "execution_count": 3,
   "id": "1edeb93c-5bd9-4a40-bf99-2967f37cbe3f",
   "metadata": {},
   "outputs": [],
   "source": [
    "def scrape_articles(root_url, article_list_url, area_of_knowledge):\n",
    "    # Setting up the WebDriver\n",
    "    service = Service(r'C:\\Users\\eyamr\\OneDrive\\00-Technology\\laelgelc\\edgedriver_win64\\msedgedriver.exe')\n",
    "    driver = webdriver.Edge(service=service)\n",
    "\n",
    "    data = []\n",
    "\n",
    "    driver.get(article_list_url)\n",
    "\n",
    "    # Explicit wait for main article elements\n",
    "    wait = WebDriverWait(driver, 10)\n",
    "\n",
    "    # Ensure stable page load\n",
    "    max_wait_time = 30\n",
    "    start_time = time.time()\n",
    "    previous_html = ''\n",
    "    while True:\n",
    "        current_html = driver.page_source\n",
    "        if current_html == previous_html or time.time() - start_time > max_wait_time:\n",
    "            break\n",
    "        previous_html = current_html\n",
    "        time.sleep(2)\n",
    "\n",
    "    # Parse page source with BeautifulSoup\n",
    "    soup = BeautifulSoup(driver.page_source, 'lxml')\n",
    "\n",
    "    # Extract Published/Volume/Issue\n",
    "    published_tag = soup.find('h1', class_='toc-header__issue-date')\n",
    "    published = published_tag.get_text(strip=True) if published_tag else ''\n",
    "\n",
    "    volume_tag = soup.find('span', class_='toc-header__volume')\n",
    "    volume = volume_tag.get_text(strip=True).replace('Volume ', '') if volume_tag else ''\n",
    "\n",
    "    issue_tag = soup.find('span', class_='toc-header__issue')\n",
    "    issue = issue_tag.get_text(strip=True).replace('Issue ', '') if issue_tag else ''\n",
    "\n",
    "    # Extract articles\n",
    "    articles = []\n",
    "    articles_header = soup.find('h2', string='Articles')\n",
    "    if articles_header:\n",
    "        articles_list = articles_header.find_next('ul', class_='toc__body')\n",
    "        if articles_list:\n",
    "            articles = articles_list.find_all('li', class_='articleCitation')\n",
    "\n",
    "    for article in articles:\n",
    "        # Extract article type\n",
    "        article_type = 'Article'\n",
    "    \n",
    "        # Extract title\n",
    "        title_tag = article.find('h3', class_='toc__item__title')\n",
    "        title = title_tag.get_text(strip=True) if title_tag else ''\n",
    "    \n",
    "        # Extract article URL\n",
    "        article_url_tag = title_tag.find('a') if title_tag else None\n",
    "        article_url = f\"{root_url}{article_url_tag.get('href', '')}\" if article_url_tag else ''\n",
    "    \n",
    "        # Extract authors\n",
    "        authors_list = article.find('ul', class_='toc__item__authors')\n",
    "        authors = ', '.join([author.get_text(strip=True).rstrip(',') for author in authors_list.find_all('li', class_='loa__item')]) if authors_list else ''\n",
    "    \n",
    "        # Extract PDF URL\n",
    "        pdf_link_tag = article.find('a', class_='pdfLink')\n",
    "        pdf_url = f\"{root_url}{pdf_link_tag.get('href', '')}\" if pdf_link_tag else ''\n",
    "    \n",
    "        # Append extracted data\n",
    "        data.append({\n",
    "            'Article Type': article_type,\n",
    "            'Title': title,\n",
    "            'URL': article_url,\n",
    "            'Authors': authors,\n",
    "            'Vol/Issue': f\"Volume {volume}/Issue {issue}\",\n",
    "            'Published': published,\n",
    "            'PDF URL': pdf_url,\n",
    "            'Area of Knowledge': area_of_knowledge\n",
    "        })\n",
    "\n",
    "    # Close WebDriver\n",
    "    driver.quit()\n",
    "\n",
    "    return pd.DataFrame(data)"
   ]
  },
  {
   "cell_type": "markdown",
   "id": "ed6d66d5-44d0-4db9-939e-13322afe063d",
   "metadata": {},
   "source": [
    "##### Volume 180 (Issue 1 - 6)"
   ]
  },
  {
   "cell_type": "markdown",
   "id": "f7260515-32fc-435f-94b3-3bb42a4099df",
   "metadata": {},
   "source": [
    "Cell's website blocks iterations by pushing a `CAPTCHA`. This requires scraping page by page."
   ]
  },
  {
   "cell_type": "code",
   "execution_count": 4,
   "id": "09eeac8b-4595-4a5c-982b-97794667f994",
   "metadata": {},
   "outputs": [],
   "source": [
    "root_url = 'https://www.cell.com'\n",
    "article_list_url = 'https://www.cell.com/cell/issue?pii=S0092-8674(19)X0002-1'\n",
    "area_of_knowledge = 'Biological Sciences'"
   ]
  },
  {
   "cell_type": "code",
   "execution_count": 5,
   "id": "1156a95b-1fda-4f89-b81b-835ee28b99f6",
   "metadata": {},
   "outputs": [],
   "source": [
    "df_v180i1 = scrape_articles(root_url, article_list_url, area_of_knowledge)"
   ]
  },
  {
   "cell_type": "code",
   "execution_count": 6,
   "id": "d7d781c4-61a5-4012-aa9b-bb9cf8bbdb4a",
   "metadata": {},
   "outputs": [],
   "source": [
    "root_url = 'https://www.cell.com'\n",
    "article_list_url = 'https://www.cell.com/cell/issue?pii=S0092-8674(19)X0003-3'\n",
    "area_of_knowledge = 'Biological Sciences'"
   ]
  },
  {
   "cell_type": "code",
   "execution_count": 7,
   "id": "1152c79d-20dc-4247-8b1f-c5e16e584855",
   "metadata": {},
   "outputs": [],
   "source": [
    "df_v180i2 = scrape_articles(root_url, article_list_url, area_of_knowledge)"
   ]
  },
  {
   "cell_type": "code",
   "execution_count": 8,
   "id": "ed95b3db-54f6-4d0d-826b-0c89045bef05",
   "metadata": {},
   "outputs": [],
   "source": [
    "root_url = 'https://www.cell.com'\n",
    "article_list_url = 'https://www.cell.com/cell/issue?pii=S0092-8674(19)X0004-5'\n",
    "area_of_knowledge = 'Biological Sciences'"
   ]
  },
  {
   "cell_type": "code",
   "execution_count": 9,
   "id": "06d70d12-b574-47bb-8897-e9dc04590c3e",
   "metadata": {},
   "outputs": [],
   "source": [
    "df_v180i3 = scrape_articles(root_url, article_list_url, area_of_knowledge)"
   ]
  },
  {
   "cell_type": "code",
   "execution_count": 10,
   "id": "4c55ee52-838e-412f-b849-1622bba44062",
   "metadata": {},
   "outputs": [],
   "source": [
    "root_url = 'https://www.cell.com'\n",
    "article_list_url = 'https://www.cell.com/cell/issue?pii=S0092-8674(19)X0005-7'\n",
    "area_of_knowledge = 'Biological Sciences'"
   ]
  },
  {
   "cell_type": "code",
   "execution_count": 11,
   "id": "80db878a-e771-44ef-a08e-831b6b2fc70c",
   "metadata": {},
   "outputs": [],
   "source": [
    "df_v180i4 = scrape_articles(root_url, article_list_url, area_of_knowledge)"
   ]
  },
  {
   "cell_type": "code",
   "execution_count": 12,
   "id": "92f46981-9c15-4549-a62e-779a24de694f",
   "metadata": {},
   "outputs": [],
   "source": [
    "root_url = 'https://www.cell.com'\n",
    "article_list_url = 'https://www.cell.com/cell/issue?pii=S0092-8674(19)X0006-9'\n",
    "area_of_knowledge = 'Biological Sciences'"
   ]
  },
  {
   "cell_type": "code",
   "execution_count": 13,
   "id": "3533817b-64a6-49ed-b277-32080579d20c",
   "metadata": {},
   "outputs": [],
   "source": [
    "df_v180i5 = scrape_articles(root_url, article_list_url, area_of_knowledge)"
   ]
  },
  {
   "cell_type": "code",
   "execution_count": 14,
   "id": "81b658ac-e612-418c-a9fb-0357ad735b76",
   "metadata": {},
   "outputs": [],
   "source": [
    "root_url = 'https://www.cell.com'\n",
    "article_list_url = 'https://www.cell.com/cell/issue?pii=S0092-8674(19)X0007-0'\n",
    "area_of_knowledge = 'Biological Sciences'"
   ]
  },
  {
   "cell_type": "code",
   "execution_count": 15,
   "id": "f526e2ac-7313-41aa-8159-4dd5277e03ea",
   "metadata": {},
   "outputs": [],
   "source": [
    "df_v180i6 = scrape_articles(root_url, article_list_url, area_of_knowledge)"
   ]
  },
  {
   "cell_type": "markdown",
   "id": "34993471-458b-4d3e-847c-e3c14b54833c",
   "metadata": {},
   "source": [
    "##### Volume 181 (Issue 1 - 7)"
   ]
  },
  {
   "cell_type": "code",
   "execution_count": 16,
   "id": "151e4f1e-5d03-4b55-9b5b-0aab84ea5e9c",
   "metadata": {},
   "outputs": [],
   "source": [
    "root_url = 'https://www.cell.com'\n",
    "article_list_url = 'https://www.cell.com/cell/issue?pii=S0092-8674(19)X0008-2'\n",
    "area_of_knowledge = 'Biological Sciences'"
   ]
  },
  {
   "cell_type": "code",
   "execution_count": 17,
   "id": "0557c5a4-43fc-4921-b6a7-70c3316fc6a5",
   "metadata": {},
   "outputs": [],
   "source": [
    "df_v181i1 = scrape_articles(root_url, article_list_url, area_of_knowledge)"
   ]
  },
  {
   "cell_type": "code",
   "execution_count": 18,
   "id": "96d1ff85-6754-4124-bdc1-7008e6d8c188",
   "metadata": {},
   "outputs": [],
   "source": [
    "root_url = 'https://www.cell.com'\n",
    "article_list_url = 'https://www.cell.com/cell/issue?pii=S0092-8674(19)X0009-4'\n",
    "area_of_knowledge = 'Biological Sciences'"
   ]
  },
  {
   "cell_type": "code",
   "execution_count": 19,
   "id": "89dba232-da24-4aa3-9109-97f1264e22d8",
   "metadata": {},
   "outputs": [],
   "source": [
    "df_v181i2 = scrape_articles(root_url, article_list_url, area_of_knowledge)"
   ]
  },
  {
   "cell_type": "code",
   "execution_count": 20,
   "id": "9d22debb-9141-4daa-b831-5000749f66a3",
   "metadata": {},
   "outputs": [],
   "source": [
    "root_url = 'https://www.cell.com'\n",
    "article_list_url = 'https://www.cell.com/cell/issue?pii=S0092-8674(19)X0010-0'\n",
    "area_of_knowledge = 'Biological Sciences'"
   ]
  },
  {
   "cell_type": "code",
   "execution_count": 21,
   "id": "b3daf05d-ff9d-41a1-87d8-e3e8013d801e",
   "metadata": {},
   "outputs": [],
   "source": [
    "df_v181i3 = scrape_articles(root_url, article_list_url, area_of_knowledge)"
   ]
  },
  {
   "cell_type": "code",
   "execution_count": 22,
   "id": "36eb4cb0-b49a-4a38-9ed3-6ab8df4b1528",
   "metadata": {},
   "outputs": [],
   "source": [
    "root_url = 'https://www.cell.com'\n",
    "article_list_url = 'https://www.cell.com/cell/issue?pii=S0092-8674(19)X0011-2'\n",
    "area_of_knowledge = 'Biological Sciences'"
   ]
  },
  {
   "cell_type": "code",
   "execution_count": 23,
   "id": "c7ab1ee8-62f6-4da8-9e50-e0c6b5730767",
   "metadata": {},
   "outputs": [],
   "source": [
    "df_v181i4 = scrape_articles(root_url, article_list_url, area_of_knowledge)"
   ]
  },
  {
   "cell_type": "code",
   "execution_count": 24,
   "id": "dddcf56f-e25f-4a65-bcad-b4f7f26b88dd",
   "metadata": {},
   "outputs": [],
   "source": [
    "root_url = 'https://www.cell.com'\n",
    "article_list_url = 'https://www.cell.com/cell/issue?pii=S0092-8674(19)X0012-4'\n",
    "area_of_knowledge = 'Biological Sciences'"
   ]
  },
  {
   "cell_type": "code",
   "execution_count": 25,
   "id": "957ddd5d-8260-4e9c-82d1-7b5e97a3a3ab",
   "metadata": {},
   "outputs": [],
   "source": [
    "df_v181i5 = scrape_articles(root_url, article_list_url, area_of_knowledge)"
   ]
  },
  {
   "cell_type": "code",
   "execution_count": 26,
   "id": "dda2284a-7b43-425f-896b-279b6834de0c",
   "metadata": {},
   "outputs": [],
   "source": [
    "root_url = 'https://www.cell.com'\n",
    "article_list_url = 'https://www.cell.com/cell/issue?pii=S0092-8674(19)X0013-6'\n",
    "area_of_knowledge = 'Biological Sciences'"
   ]
  },
  {
   "cell_type": "code",
   "execution_count": 27,
   "id": "305843a8-17ca-4d84-a6eb-b5afc8ab4da1",
   "metadata": {},
   "outputs": [],
   "source": [
    "df_v181i6 = scrape_articles(root_url, article_list_url, area_of_knowledge)"
   ]
  },
  {
   "cell_type": "code",
   "execution_count": 28,
   "id": "eb134d5c-d0ca-45b7-9821-4753f0f8c7f0",
   "metadata": {},
   "outputs": [],
   "source": [
    "root_url = 'https://www.cell.com'\n",
    "article_list_url = 'https://www.cell.com/cell/issue?pii=S0092-8674(19)X0014-8'\n",
    "area_of_knowledge = 'Biological Sciences'"
   ]
  },
  {
   "cell_type": "code",
   "execution_count": 29,
   "id": "f8fab0c7-765a-4c8a-9ec1-61d5d4e2d48c",
   "metadata": {},
   "outputs": [],
   "source": [
    "df_v181i7 = scrape_articles(root_url, article_list_url, area_of_knowledge)"
   ]
  },
  {
   "cell_type": "markdown",
   "id": "ea2f6107-02ac-4f82-a41b-0c3834110dc5",
   "metadata": {},
   "source": [
    "##### Volume 182 (Issue 1 - 6)"
   ]
  },
  {
   "cell_type": "code",
   "execution_count": 30,
   "id": "b23a3e9a-cd1d-4eec-aeb6-b9deab8090c5",
   "metadata": {},
   "outputs": [],
   "source": [
    "root_url = 'https://www.cell.com'\n",
    "article_list_url = 'https://www.cell.com/cell/issue?pii=S0092-8674(19)X0015-X'\n",
    "area_of_knowledge = 'Biological Sciences'"
   ]
  },
  {
   "cell_type": "code",
   "execution_count": 31,
   "id": "cf74f2bc-9ce4-4f68-a376-2120452c1882",
   "metadata": {},
   "outputs": [],
   "source": [
    "df_v182i1 = scrape_articles(root_url, article_list_url, area_of_knowledge)"
   ]
  },
  {
   "cell_type": "code",
   "execution_count": 32,
   "id": "e43b218f-c7b2-4133-87f5-0c816fba1b60",
   "metadata": {},
   "outputs": [],
   "source": [
    "root_url = 'https://www.cell.com'\n",
    "article_list_url = 'https://www.cell.com/cell/issue?pii=S0092-8674(19)X0016-1'\n",
    "area_of_knowledge = 'Biological Sciences'"
   ]
  },
  {
   "cell_type": "code",
   "execution_count": 33,
   "id": "1160de48-89e2-4c4b-be7b-95b29030fe8f",
   "metadata": {},
   "outputs": [],
   "source": [
    "df_v182i2 = scrape_articles(root_url, article_list_url, area_of_knowledge)"
   ]
  },
  {
   "cell_type": "code",
   "execution_count": 34,
   "id": "75b9ddbd-9350-4366-821e-541bf2b01bf7",
   "metadata": {},
   "outputs": [],
   "source": [
    "root_url = 'https://www.cell.com'\n",
    "article_list_url = 'https://www.cell.com/cell/issue?pii=S0092-8674(19)X0017-3'\n",
    "area_of_knowledge = 'Biological Sciences'"
   ]
  },
  {
   "cell_type": "code",
   "execution_count": 35,
   "id": "e49e9c9c-9def-484b-a540-332d7e4c933d",
   "metadata": {},
   "outputs": [],
   "source": [
    "df_v182i3 = scrape_articles(root_url, article_list_url, area_of_knowledge)"
   ]
  },
  {
   "cell_type": "code",
   "execution_count": 36,
   "id": "99f552f2-54b5-43dc-899e-e04f21e778b8",
   "metadata": {},
   "outputs": [],
   "source": [
    "root_url = 'https://www.cell.com'\n",
    "article_list_url = 'https://www.cell.com/cell/issue?pii=S0092-8674(19)X0018-5'\n",
    "area_of_knowledge = 'Biological Sciences'"
   ]
  },
  {
   "cell_type": "code",
   "execution_count": 37,
   "id": "120d78ee-8139-472f-a0f4-97b221103d38",
   "metadata": {},
   "outputs": [],
   "source": [
    "df_v182i4 = scrape_articles(root_url, article_list_url, area_of_knowledge)"
   ]
  },
  {
   "cell_type": "code",
   "execution_count": 38,
   "id": "41975690-a8ca-4a2d-bf83-ca033a5f08d3",
   "metadata": {},
   "outputs": [],
   "source": [
    "root_url = 'https://www.cell.com'\n",
    "article_list_url = 'https://www.cell.com/cell/issue?pii=S0092-8674(19)X0019-7'\n",
    "area_of_knowledge = 'Biological Sciences'"
   ]
  },
  {
   "cell_type": "code",
   "execution_count": 39,
   "id": "3a0e2ad4-9bc8-4f55-aded-c78d8d94df1d",
   "metadata": {},
   "outputs": [],
   "source": [
    "df_v182i5 = scrape_articles(root_url, article_list_url, area_of_knowledge)"
   ]
  },
  {
   "cell_type": "code",
   "execution_count": 40,
   "id": "12648730-b582-426e-adbe-58d179de8766",
   "metadata": {},
   "outputs": [],
   "source": [
    "root_url = 'https://www.cell.com'\n",
    "article_list_url = 'https://www.cell.com/cell/issue?pii=S0092-8674(19)X0020-3'\n",
    "area_of_knowledge = 'Biological Sciences'"
   ]
  },
  {
   "cell_type": "code",
   "execution_count": 41,
   "id": "18e19cb4-6940-43fd-8f88-cf9d4009e682",
   "metadata": {},
   "outputs": [],
   "source": [
    "df_v182i6 = scrape_articles(root_url, article_list_url, area_of_knowledge)"
   ]
  },
  {
   "cell_type": "markdown",
   "id": "b3ac2f9d-d8a7-4800-975f-7f63c005a5ec",
   "metadata": {},
   "source": [
    "##### Volume 183 (Issue 1 - 7)"
   ]
  },
  {
   "cell_type": "code",
   "execution_count": 42,
   "id": "2dbc60a1-e85a-44d5-a844-e579f9430fe9",
   "metadata": {},
   "outputs": [],
   "source": [
    "root_url = 'https://www.cell.com'\n",
    "article_list_url = 'https://www.cell.com/cell/issue?pii=S0092-8674(19)X0021-5'\n",
    "area_of_knowledge = 'Biological Sciences'"
   ]
  },
  {
   "cell_type": "code",
   "execution_count": 43,
   "id": "4bcc75a6-2504-4597-b850-c54c7170343f",
   "metadata": {},
   "outputs": [],
   "source": [
    "df_v183i1 = scrape_articles(root_url, article_list_url, area_of_knowledge)"
   ]
  },
  {
   "cell_type": "code",
   "execution_count": 44,
   "id": "651734a8-0db2-4565-994f-98642d0449be",
   "metadata": {},
   "outputs": [],
   "source": [
    "root_url = 'https://www.cell.com'\n",
    "article_list_url = 'https://www.cell.com/cell/issue?pii=S0092-8674(19)X0022-7'\n",
    "area_of_knowledge = 'Biological Sciences'"
   ]
  },
  {
   "cell_type": "code",
   "execution_count": 45,
   "id": "05102586-7d31-464a-b8a7-4d8b9a878939",
   "metadata": {},
   "outputs": [],
   "source": [
    "df_v183i2 = scrape_articles(root_url, article_list_url, area_of_knowledge)"
   ]
  },
  {
   "cell_type": "code",
   "execution_count": 46,
   "id": "d5fb03a3-14e0-48ac-a205-b63d7be80e57",
   "metadata": {},
   "outputs": [],
   "source": [
    "root_url = 'https://www.cell.com'\n",
    "article_list_url = 'https://www.cell.com/cell/issue?pii=S0092-8674(19)X0023-9'\n",
    "area_of_knowledge = 'Biological Sciences'"
   ]
  },
  {
   "cell_type": "code",
   "execution_count": 47,
   "id": "218305cc-1b7a-4aa0-af6f-020bc512e219",
   "metadata": {},
   "outputs": [],
   "source": [
    "df_v183i3 = scrape_articles(root_url, article_list_url, area_of_knowledge)"
   ]
  },
  {
   "cell_type": "code",
   "execution_count": 48,
   "id": "510da345-19e1-4bce-90aa-bd9d68c547a8",
   "metadata": {},
   "outputs": [],
   "source": [
    "root_url = 'https://www.cell.com'\n",
    "article_list_url = 'https://www.cell.com/cell/issue?pii=S0092-8674(19)X0024-0'\n",
    "area_of_knowledge = 'Biological Sciences'"
   ]
  },
  {
   "cell_type": "code",
   "execution_count": 49,
   "id": "58de5531-70a4-482b-b967-92a06c2533fd",
   "metadata": {},
   "outputs": [],
   "source": [
    "df_v183i4 = scrape_articles(root_url, article_list_url, area_of_knowledge)"
   ]
  },
  {
   "cell_type": "code",
   "execution_count": 50,
   "id": "c2031820-2dc3-403d-b91d-da86592ebc22",
   "metadata": {},
   "outputs": [],
   "source": [
    "root_url = 'https://www.cell.com'\n",
    "article_list_url = 'https://www.cell.com/cell/issue?pii=S0092-8674(19)X0025-2'\n",
    "area_of_knowledge = 'Biological Sciences'"
   ]
  },
  {
   "cell_type": "code",
   "execution_count": 51,
   "id": "514d0d7c-5ccb-4c1c-ad69-b74af0ed5adb",
   "metadata": {},
   "outputs": [],
   "source": [
    "df_v183i5 = scrape_articles(root_url, article_list_url, area_of_knowledge)"
   ]
  },
  {
   "cell_type": "code",
   "execution_count": 52,
   "id": "a38018e0-5b02-4862-b299-df02fc6338f0",
   "metadata": {},
   "outputs": [],
   "source": [
    "root_url = 'https://www.cell.com'\n",
    "article_list_url = 'https://www.cell.com/cell/issue?pii=S0092-8674(19)X0026-4'\n",
    "area_of_knowledge = 'Biological Sciences'"
   ]
  },
  {
   "cell_type": "code",
   "execution_count": 53,
   "id": "5e4d4d24-901c-43dd-ad6c-44ec39772a56",
   "metadata": {},
   "outputs": [],
   "source": [
    "df_v183i6 = scrape_articles(root_url, article_list_url, area_of_knowledge)"
   ]
  },
  {
   "cell_type": "code",
   "execution_count": 54,
   "id": "3422bf31-1a5a-4667-b0b7-9ed3e85c6beb",
   "metadata": {},
   "outputs": [],
   "source": [
    "root_url = 'https://www.cell.com'\n",
    "article_list_url = 'https://www.cell.com/cell/issue?pii=S0092-8674(19)X0027-6'\n",
    "area_of_knowledge = 'Biological Sciences'"
   ]
  },
  {
   "cell_type": "code",
   "execution_count": 55,
   "id": "9db65057-abdb-4efc-98e9-8353e107c309",
   "metadata": {},
   "outputs": [],
   "source": [
    "df_v183i7 = scrape_articles(root_url, article_list_url, area_of_knowledge)"
   ]
  },
  {
   "cell_type": "markdown",
   "id": "7c310fa7-ef4c-4f11-877f-b5d03ccf0939",
   "metadata": {},
   "source": [
    "##### Volume 184 (Issue 1 - 26)"
   ]
  },
  {
   "cell_type": "code",
   "execution_count": 56,
   "id": "869b81a0-6c1a-4ea4-8a37-b8e6ad2a65dd",
   "metadata": {},
   "outputs": [],
   "source": [
    "root_url = 'https://www.cell.com'\n",
    "article_list_url = 'https://www.cell.com/cell/issue?pii=S0092-8674(20)X0002-X'\n",
    "area_of_knowledge = 'Biological Sciences'"
   ]
  },
  {
   "cell_type": "code",
   "execution_count": 57,
   "id": "72d7dba3-4593-4b57-81b5-bbc9c9ffe4df",
   "metadata": {},
   "outputs": [],
   "source": [
    "df_v184i1 = scrape_articles(root_url, article_list_url, area_of_knowledge)"
   ]
  },
  {
   "cell_type": "code",
   "execution_count": 58,
   "id": "8f06ee73-101f-48af-9749-76256db25c58",
   "metadata": {},
   "outputs": [],
   "source": [
    "root_url = 'https://www.cell.com'\n",
    "article_list_url = 'https://www.cell.com/cell/issue?pii=S0092-8674(20)X0003-1'\n",
    "area_of_knowledge = 'Biological Sciences'"
   ]
  },
  {
   "cell_type": "code",
   "execution_count": 59,
   "id": "e508e54e-952a-4379-9178-fce0b6b8f15f",
   "metadata": {},
   "outputs": [],
   "source": [
    "df_v184i2 = scrape_articles(root_url, article_list_url, area_of_knowledge)"
   ]
  },
  {
   "cell_type": "code",
   "execution_count": 60,
   "id": "13b99eee-d22c-4506-85b7-0a94856441ca",
   "metadata": {},
   "outputs": [],
   "source": [
    "root_url = 'https://www.cell.com'\n",
    "article_list_url = 'https://www.cell.com/cell/issue?pii=S0092-8674(20)X0004-3'\n",
    "area_of_knowledge = 'Biological Sciences'"
   ]
  },
  {
   "cell_type": "code",
   "execution_count": 61,
   "id": "d14c0830-a2bf-4b81-9652-9d8650eb88ae",
   "metadata": {},
   "outputs": [],
   "source": [
    "df_v184i3 = scrape_articles(root_url, article_list_url, area_of_knowledge)"
   ]
  },
  {
   "cell_type": "code",
   "execution_count": 62,
   "id": "c7fb2d50-81fa-465e-bd1f-960e08df2967",
   "metadata": {},
   "outputs": [],
   "source": [
    "root_url = 'https://www.cell.com'\n",
    "article_list_url = 'https://www.cell.com/cell/issue?pii=S0092-8674(20)X0005-5'\n",
    "area_of_knowledge = 'Biological Sciences'"
   ]
  },
  {
   "cell_type": "code",
   "execution_count": 63,
   "id": "c2f43838-3de0-4d60-84f2-54e02b76828a",
   "metadata": {},
   "outputs": [],
   "source": [
    "df_v184i4 = scrape_articles(root_url, article_list_url, area_of_knowledge)"
   ]
  },
  {
   "cell_type": "code",
   "execution_count": 64,
   "id": "06240506-151e-4544-9fcf-397f2822bde6",
   "metadata": {},
   "outputs": [],
   "source": [
    "root_url = 'https://www.cell.com'\n",
    "article_list_url = 'https://www.cell.com/cell/issue?pii=S0092-8674(20)X0006-7'\n",
    "area_of_knowledge = 'Biological Sciences'"
   ]
  },
  {
   "cell_type": "code",
   "execution_count": 65,
   "id": "f1d41ebe-c770-4adf-b40d-b6c5cb121ab1",
   "metadata": {},
   "outputs": [],
   "source": [
    "df_v184i5 = scrape_articles(root_url, article_list_url, area_of_knowledge)"
   ]
  },
  {
   "cell_type": "code",
   "execution_count": 66,
   "id": "f34052a9-24d9-43f6-902a-02a2dc24a2b6",
   "metadata": {},
   "outputs": [],
   "source": [
    "root_url = 'https://www.cell.com'\n",
    "article_list_url = 'https://www.cell.com/cell/issue?pii=S0092-8674(20)X0007-9'\n",
    "area_of_knowledge = 'Biological Sciences'"
   ]
  },
  {
   "cell_type": "code",
   "execution_count": 67,
   "id": "398c354b-d26e-4eba-b245-96410801bf50",
   "metadata": {},
   "outputs": [],
   "source": [
    "df_v184i6 = scrape_articles(root_url, article_list_url, area_of_knowledge)"
   ]
  },
  {
   "cell_type": "code",
   "execution_count": 68,
   "id": "02359544-b5b4-44d8-a774-c5ef2cf2a086",
   "metadata": {},
   "outputs": [],
   "source": [
    "root_url = 'https://www.cell.com'\n",
    "article_list_url = 'https://www.cell.com/cell/issue?pii=S0092-8674(20)X0008-0'\n",
    "area_of_knowledge = 'Biological Sciences'"
   ]
  },
  {
   "cell_type": "code",
   "execution_count": 69,
   "id": "44d6b2f0-634c-4a63-bb37-b0a341077593",
   "metadata": {},
   "outputs": [],
   "source": [
    "df_v184i7 = scrape_articles(root_url, article_list_url, area_of_knowledge)"
   ]
  },
  {
   "cell_type": "code",
   "execution_count": 70,
   "id": "811f7a7a-ec52-4b68-96e5-e4a1dc5244a3",
   "metadata": {},
   "outputs": [],
   "source": [
    "root_url = 'https://www.cell.com'\n",
    "article_list_url = 'https://www.cell.com/cell/issue?pii=S0092-8674(20)X0009-2'\n",
    "area_of_knowledge = 'Biological Sciences'"
   ]
  },
  {
   "cell_type": "code",
   "execution_count": 71,
   "id": "ce326efb-6d76-4f96-a23f-1583d5b65261",
   "metadata": {},
   "outputs": [],
   "source": [
    "df_v184i8 = scrape_articles(root_url, article_list_url, area_of_knowledge)"
   ]
  },
  {
   "cell_type": "code",
   "execution_count": 72,
   "id": "ca78dc69-31a2-43e8-a48e-444d2d759fbf",
   "metadata": {},
   "outputs": [],
   "source": [
    "root_url = 'https://www.cell.com'\n",
    "article_list_url = 'https://www.cell.com/cell/issue?pii=S0092-8674(20)X0010-9'\n",
    "area_of_knowledge = 'Biological Sciences'"
   ]
  },
  {
   "cell_type": "code",
   "execution_count": 73,
   "id": "5607a8b8-65ba-4955-871a-af1cb8428457",
   "metadata": {},
   "outputs": [],
   "source": [
    "df_v184i9 = scrape_articles(root_url, article_list_url, area_of_knowledge)"
   ]
  },
  {
   "cell_type": "code",
   "execution_count": 74,
   "id": "0975c6ce-eadc-4cd3-be0f-4d788167ce08",
   "metadata": {},
   "outputs": [],
   "source": [
    "root_url = 'https://www.cell.com'\n",
    "article_list_url = 'https://www.cell.com/cell/issue?pii=S0092-8674(20)X0011-0'\n",
    "area_of_knowledge = 'Biological Sciences'"
   ]
  },
  {
   "cell_type": "code",
   "execution_count": 75,
   "id": "4c261913-9a66-4eb0-a15c-f1323b4a0cb7",
   "metadata": {},
   "outputs": [],
   "source": [
    "df_v184i10 = scrape_articles(root_url, article_list_url, area_of_knowledge)"
   ]
  },
  {
   "cell_type": "code",
   "execution_count": 76,
   "id": "929a0ed4-6b6d-416e-aa09-ee5769d5c92d",
   "metadata": {},
   "outputs": [],
   "source": [
    "root_url = 'https://www.cell.com'\n",
    "article_list_url = 'https://www.cell.com/cell/issue?pii=S0092-8674(20)X0012-2'\n",
    "area_of_knowledge = 'Biological Sciences'"
   ]
  },
  {
   "cell_type": "code",
   "execution_count": 77,
   "id": "0536b5da-12a1-47c6-80f7-b890960c3484",
   "metadata": {},
   "outputs": [],
   "source": [
    "df_v184i11 = scrape_articles(root_url, article_list_url, area_of_knowledge)"
   ]
  },
  {
   "cell_type": "code",
   "execution_count": 78,
   "id": "21fdc058-f193-4e10-912f-54547b8ac655",
   "metadata": {},
   "outputs": [],
   "source": [
    "root_url = 'https://www.cell.com'\n",
    "article_list_url = 'https://www.cell.com/cell/issue?pii=S0092-8674(20)X0013-4'\n",
    "area_of_knowledge = 'Biological Sciences'"
   ]
  },
  {
   "cell_type": "code",
   "execution_count": 79,
   "id": "a9eb2e53-3c2a-460a-9800-bfb9a7592aa6",
   "metadata": {},
   "outputs": [],
   "source": [
    "df_v184i12 = scrape_articles(root_url, article_list_url, area_of_knowledge)"
   ]
  },
  {
   "cell_type": "code",
   "execution_count": 80,
   "id": "9c75d43d-f71e-49ca-9059-cbc9fb763acf",
   "metadata": {},
   "outputs": [],
   "source": [
    "root_url = 'https://www.cell.com'\n",
    "article_list_url = 'https://www.cell.com/cell/issue?pii=S0092-8674(20)X0014-6'\n",
    "area_of_knowledge = 'Biological Sciences'"
   ]
  },
  {
   "cell_type": "code",
   "execution_count": 81,
   "id": "5dc395fe-2409-4244-90aa-da91c4348204",
   "metadata": {},
   "outputs": [],
   "source": [
    "df_v184i13 = scrape_articles(root_url, article_list_url, area_of_knowledge)"
   ]
  },
  {
   "cell_type": "code",
   "execution_count": 82,
   "id": "a264a548-3408-4980-a6e5-2cc0b25fe87a",
   "metadata": {},
   "outputs": [],
   "source": [
    "root_url = 'https://www.cell.com'\n",
    "article_list_url = 'https://www.cell.com/cell/issue?pii=S0092-8674(20)X0015-8'\n",
    "area_of_knowledge = 'Biological Sciences'"
   ]
  },
  {
   "cell_type": "code",
   "execution_count": 83,
   "id": "cb5c836f-2ead-4765-9617-7e4e0c58e41a",
   "metadata": {},
   "outputs": [],
   "source": [
    "df_v184i14 = scrape_articles(root_url, article_list_url, area_of_knowledge)"
   ]
  },
  {
   "cell_type": "code",
   "execution_count": 84,
   "id": "616fca2f-b02e-4cfc-a6ac-7cfa6c015d98",
   "metadata": {},
   "outputs": [],
   "source": [
    "root_url = 'https://www.cell.com'\n",
    "article_list_url = 'https://www.cell.com/cell/issue?pii=S0092-8674(20)X0016-X'\n",
    "area_of_knowledge = 'Biological Sciences'"
   ]
  },
  {
   "cell_type": "code",
   "execution_count": 85,
   "id": "b4e91c63-143c-44eb-8e54-47004caf690e",
   "metadata": {},
   "outputs": [],
   "source": [
    "df_v184i15 = scrape_articles(root_url, article_list_url, area_of_knowledge)"
   ]
  },
  {
   "cell_type": "code",
   "execution_count": 86,
   "id": "58c1bd2c-da5e-4c4c-93e3-599025cfa70b",
   "metadata": {},
   "outputs": [],
   "source": [
    "root_url = 'https://www.cell.com'\n",
    "article_list_url = 'https://www.cell.com/cell/issue?pii=S0092-8674(20)X0017-1'\n",
    "area_of_knowledge = 'Biological Sciences'"
   ]
  },
  {
   "cell_type": "code",
   "execution_count": 87,
   "id": "99144e00-4395-4d1c-bcad-973cac6f3b9f",
   "metadata": {},
   "outputs": [],
   "source": [
    "df_v184i16 = scrape_articles(root_url, article_list_url, area_of_knowledge)"
   ]
  },
  {
   "cell_type": "code",
   "execution_count": 88,
   "id": "898417c9-85f3-44d1-9054-998f5c8d3e80",
   "metadata": {},
   "outputs": [],
   "source": [
    "root_url = 'https://www.cell.com'\n",
    "article_list_url = 'https://www.cell.com/cell/issue?pii=S0092-8674(20)X0018-3'\n",
    "area_of_knowledge = 'Biological Sciences'"
   ]
  },
  {
   "cell_type": "code",
   "execution_count": 89,
   "id": "399be6ac-2d3b-41c0-abcb-b37e03714281",
   "metadata": {},
   "outputs": [],
   "source": [
    "df_v184i17 = scrape_articles(root_url, article_list_url, area_of_knowledge)"
   ]
  },
  {
   "cell_type": "code",
   "execution_count": 90,
   "id": "c0192fad-e193-4dca-b240-c900ec9933c4",
   "metadata": {},
   "outputs": [],
   "source": [
    "root_url = 'https://www.cell.com'\n",
    "article_list_url = 'https://www.cell.com/cell/issue?pii=S0092-8674(20)X0019-5'\n",
    "area_of_knowledge = 'Biological Sciences'"
   ]
  },
  {
   "cell_type": "code",
   "execution_count": 91,
   "id": "67106619-0024-4fcc-88b2-1fc9c51a1f2a",
   "metadata": {},
   "outputs": [],
   "source": [
    "df_v184i18 = scrape_articles(root_url, article_list_url, area_of_knowledge)"
   ]
  },
  {
   "cell_type": "code",
   "execution_count": 92,
   "id": "9cda5aa2-1352-485e-a376-0975fc88a86d",
   "metadata": {},
   "outputs": [],
   "source": [
    "root_url = 'https://www.cell.com'\n",
    "article_list_url = 'https://www.cell.com/cell/issue?pii=S0092-8674(20)X0020-1'\n",
    "area_of_knowledge = 'Biological Sciences'"
   ]
  },
  {
   "cell_type": "code",
   "execution_count": 93,
   "id": "8fecaaf5-ec22-4298-85a8-2d8f02b244ae",
   "metadata": {},
   "outputs": [],
   "source": [
    "df_v184i19 = scrape_articles(root_url, article_list_url, area_of_knowledge)"
   ]
  },
  {
   "cell_type": "code",
   "execution_count": 94,
   "id": "8ab5b1de-5d9f-444c-8fb7-b226054f7d26",
   "metadata": {},
   "outputs": [],
   "source": [
    "root_url = 'https://www.cell.com'\n",
    "article_list_url = 'https://www.cell.com/cell/issue?pii=S0092-8674(20)X0021-3'\n",
    "area_of_knowledge = 'Biological Sciences'"
   ]
  },
  {
   "cell_type": "code",
   "execution_count": 95,
   "id": "45ea51db-6703-4c8e-b71f-7137f0c951d1",
   "metadata": {},
   "outputs": [],
   "source": [
    "df_v184i20 = scrape_articles(root_url, article_list_url, area_of_knowledge)"
   ]
  },
  {
   "cell_type": "code",
   "execution_count": 96,
   "id": "0131329e-8226-4e69-8ef0-e64fae5a2330",
   "metadata": {},
   "outputs": [],
   "source": [
    "root_url = 'https://www.cell.com'\n",
    "article_list_url = 'https://www.cell.com/cell/issue?pii=S0092-8674(20)X0022-5'\n",
    "area_of_knowledge = 'Biological Sciences'"
   ]
  },
  {
   "cell_type": "code",
   "execution_count": 97,
   "id": "c407d9ff-77c9-43da-8707-64775660dd17",
   "metadata": {},
   "outputs": [],
   "source": [
    "df_v184i21 = scrape_articles(root_url, article_list_url, area_of_knowledge)"
   ]
  },
  {
   "cell_type": "code",
   "execution_count": 98,
   "id": "dec8df8a-3793-4c21-91d0-7fa7ec83484c",
   "metadata": {},
   "outputs": [],
   "source": [
    "root_url = 'https://www.cell.com'\n",
    "article_list_url = 'https://www.cell.com/cell/issue?pii=S0092-8674(20)X0023-7'\n",
    "area_of_knowledge = 'Biological Sciences'"
   ]
  },
  {
   "cell_type": "code",
   "execution_count": 99,
   "id": "210afada-b98d-4c66-911f-1dd662b09985",
   "metadata": {},
   "outputs": [],
   "source": [
    "df_v184i22 = scrape_articles(root_url, article_list_url, area_of_knowledge)"
   ]
  },
  {
   "cell_type": "code",
   "execution_count": 100,
   "id": "ac230f3b-eb35-4a05-b95d-7e72796f515a",
   "metadata": {},
   "outputs": [],
   "source": [
    "root_url = 'https://www.cell.com'\n",
    "article_list_url = 'https://www.cell.com/cell/issue?pii=S0092-8674(20)X0024-9'\n",
    "area_of_knowledge = 'Biological Sciences'"
   ]
  },
  {
   "cell_type": "code",
   "execution_count": 101,
   "id": "38155ea0-278b-4eec-955c-ad853b01b3a2",
   "metadata": {},
   "outputs": [],
   "source": [
    "df_v184i23 = scrape_articles(root_url, article_list_url, area_of_knowledge)"
   ]
  },
  {
   "cell_type": "code",
   "execution_count": 102,
   "id": "0f90cffc-bac7-45c0-8e21-700e28273749",
   "metadata": {},
   "outputs": [],
   "source": [
    "root_url = 'https://www.cell.com'\n",
    "article_list_url = 'https://www.cell.com/cell/issue?pii=S0092-8674(20)X0025-0'\n",
    "area_of_knowledge = 'Biological Sciences'"
   ]
  },
  {
   "cell_type": "code",
   "execution_count": 103,
   "id": "6084d8be-53a4-43c9-adb9-ee1bb4625ade",
   "metadata": {},
   "outputs": [],
   "source": [
    "df_v184i24 = scrape_articles(root_url, article_list_url, area_of_knowledge)"
   ]
  },
  {
   "cell_type": "code",
   "execution_count": 104,
   "id": "71ec4a44-61a5-42c5-a3ef-9b19f415ae2d",
   "metadata": {},
   "outputs": [],
   "source": [
    "root_url = 'https://www.cell.com'\n",
    "article_list_url = 'https://www.cell.com/cell/issue?pii=S0092-8674(20)X0026-2'\n",
    "area_of_knowledge = 'Biological Sciences'"
   ]
  },
  {
   "cell_type": "code",
   "execution_count": 105,
   "id": "5d93d135-5bed-4dbe-8284-84fe2e812010",
   "metadata": {},
   "outputs": [],
   "source": [
    "df_v184i25 = scrape_articles(root_url, article_list_url, area_of_knowledge)"
   ]
  },
  {
   "cell_type": "code",
   "execution_count": 106,
   "id": "84ee6168-4c6c-4d49-af6b-a76e39f274ac",
   "metadata": {},
   "outputs": [],
   "source": [
    "root_url = 'https://www.cell.com'\n",
    "article_list_url = 'https://www.cell.com/cell/issue?pii=S0092-8674(20)X0027-4'\n",
    "area_of_knowledge = 'Biological Sciences'"
   ]
  },
  {
   "cell_type": "code",
   "execution_count": 107,
   "id": "db600c6f-e83c-4d85-87c4-86eced42caf7",
   "metadata": {},
   "outputs": [],
   "source": [
    "df_v184i26 = scrape_articles(root_url, article_list_url, area_of_knowledge)"
   ]
  },
  {
   "cell_type": "markdown",
   "id": "911e4998-79e1-4fc4-bc1b-69fb114b66f0",
   "metadata": {},
   "source": [
    "##### Volume 185 (Issue 1 - 24)"
   ]
  },
  {
   "cell_type": "code",
   "execution_count": 108,
   "id": "1fe99f2c-4e22-4df1-9b5b-2edf5fe9c279",
   "metadata": {},
   "outputs": [],
   "source": [
    "root_url = 'https://www.cell.com'\n",
    "article_list_url = 'https://www.cell.com/cell/issue?pii=S0092-8674(21)X0002-5'\n",
    "area_of_knowledge = 'Biological Sciences'"
   ]
  },
  {
   "cell_type": "code",
   "execution_count": 109,
   "id": "59cbfa08-94a1-4444-90a5-45307c721620",
   "metadata": {},
   "outputs": [],
   "source": [
    "df_v185i1 = scrape_articles(root_url, article_list_url, area_of_knowledge)"
   ]
  },
  {
   "cell_type": "code",
   "execution_count": 110,
   "id": "79673ccf-5e31-47c2-8e83-5dc7bcc5bba8",
   "metadata": {},
   "outputs": [],
   "source": [
    "root_url = 'https://www.cell.com'\n",
    "article_list_url = 'https://www.cell.com/cell/issue?pii=S0092-8674(21)X0003-7'\n",
    "area_of_knowledge = 'Biological Sciences'"
   ]
  },
  {
   "cell_type": "code",
   "execution_count": 111,
   "id": "79f0396f-645e-475a-a345-8ad824cf7b3b",
   "metadata": {},
   "outputs": [],
   "source": [
    "df_v185i2 = scrape_articles(root_url, article_list_url, area_of_knowledge)"
   ]
  },
  {
   "cell_type": "code",
   "execution_count": 112,
   "id": "423af6be-a216-4035-87b0-133f66dc9cd5",
   "metadata": {},
   "outputs": [],
   "source": [
    "root_url = 'https://www.cell.com'\n",
    "article_list_url = 'https://www.cell.com/cell/issue?pii=S0092-8674(21)X0004-9'\n",
    "area_of_knowledge = 'Biological Sciences'"
   ]
  },
  {
   "cell_type": "code",
   "execution_count": 113,
   "id": "20ed9005-accb-470d-a565-f7fdd084bb0a",
   "metadata": {},
   "outputs": [],
   "source": [
    "df_v185i3 = scrape_articles(root_url, article_list_url, area_of_knowledge)"
   ]
  },
  {
   "cell_type": "code",
   "execution_count": 114,
   "id": "d81af0d8-d17b-472d-8796-69da41c773a2",
   "metadata": {},
   "outputs": [],
   "source": [
    "root_url = 'https://www.cell.com'\n",
    "article_list_url = 'https://www.cell.com/cell/issue?pii=S0092-8674(21)X0005-0'\n",
    "area_of_knowledge = 'Biological Sciences'"
   ]
  },
  {
   "cell_type": "code",
   "execution_count": 115,
   "id": "965d8122-6bd7-4ace-94fc-5733a54c8dec",
   "metadata": {},
   "outputs": [],
   "source": [
    "df_v185i4 = scrape_articles(root_url, article_list_url, area_of_knowledge)"
   ]
  },
  {
   "cell_type": "code",
   "execution_count": 116,
   "id": "b041d026-afb5-4094-823a-9e8d070a4191",
   "metadata": {},
   "outputs": [],
   "source": [
    "root_url = 'https://www.cell.com'\n",
    "article_list_url = 'https://www.cell.com/cell/issue?pii=S0092-8674(21)X0006-2'\n",
    "area_of_knowledge = 'Biological Sciences'"
   ]
  },
  {
   "cell_type": "code",
   "execution_count": 117,
   "id": "fd1c5e9c-1e34-4d7a-9a37-6d635aa73ce5",
   "metadata": {},
   "outputs": [],
   "source": [
    "df_v185i5 = scrape_articles(root_url, article_list_url, area_of_knowledge)"
   ]
  },
  {
   "cell_type": "code",
   "execution_count": 118,
   "id": "7e38fc1f-15a1-4a4f-8990-cb8eaea156db",
   "metadata": {},
   "outputs": [],
   "source": [
    "root_url = 'https://www.cell.com'\n",
    "article_list_url = 'https://www.cell.com/cell/issue?pii=S0092-8674(21)X0007-4'\n",
    "area_of_knowledge = 'Biological Sciences'"
   ]
  },
  {
   "cell_type": "code",
   "execution_count": 119,
   "id": "a5126e37-285f-450c-9e21-7d0d49c3057f",
   "metadata": {},
   "outputs": [],
   "source": [
    "df_v185i6 = scrape_articles(root_url, article_list_url, area_of_knowledge)"
   ]
  },
  {
   "cell_type": "code",
   "execution_count": 120,
   "id": "b9b02a5c-af69-4f65-bb7b-e1cf4fdd18fd",
   "metadata": {},
   "outputs": [],
   "source": [
    "root_url = 'https://www.cell.com'\n",
    "article_list_url = 'https://www.cell.com/cell/issue?pii=S0092-8674(21)X0008-6'\n",
    "area_of_knowledge = 'Biological Sciences'"
   ]
  },
  {
   "cell_type": "code",
   "execution_count": 121,
   "id": "f56b6b47-7536-4002-9d47-b12d3a0efb8c",
   "metadata": {},
   "outputs": [],
   "source": [
    "df_v185i7 = scrape_articles(root_url, article_list_url, area_of_knowledge)"
   ]
  },
  {
   "cell_type": "code",
   "execution_count": 122,
   "id": "f5f773c0-2a17-48a3-98d1-1d16b49cb273",
   "metadata": {},
   "outputs": [],
   "source": [
    "root_url = 'https://www.cell.com'\n",
    "article_list_url = 'https://www.cell.com/cell/issue?pii=S0092-8674(21)X0009-8'\n",
    "area_of_knowledge = 'Biological Sciences'"
   ]
  },
  {
   "cell_type": "code",
   "execution_count": 123,
   "id": "ad714457-85cf-4542-85bc-0e95254a85c4",
   "metadata": {},
   "outputs": [],
   "source": [
    "df_v185i8 = scrape_articles(root_url, article_list_url, area_of_knowledge)"
   ]
  },
  {
   "cell_type": "code",
   "execution_count": 124,
   "id": "d7a59cc0-6321-4ccf-89f5-141c4673f27d",
   "metadata": {},
   "outputs": [],
   "source": [
    "root_url = 'https://www.cell.com'\n",
    "article_list_url = 'https://www.cell.com/cell/issue?pii=S0092-8674(21)X0010-4'\n",
    "area_of_knowledge = 'Biological Sciences'"
   ]
  },
  {
   "cell_type": "code",
   "execution_count": 125,
   "id": "308d543d-3dec-477d-af86-97c69934287c",
   "metadata": {},
   "outputs": [],
   "source": [
    "df_v185i9 = scrape_articles(root_url, article_list_url, area_of_knowledge)"
   ]
  },
  {
   "cell_type": "code",
   "execution_count": 126,
   "id": "2d964949-d5c9-4426-aaa3-4a56135268da",
   "metadata": {},
   "outputs": [],
   "source": [
    "root_url = 'https://www.cell.com'\n",
    "article_list_url = 'https://www.cell.com/cell/issue?pii=S0092-8674(21)X0011-6'\n",
    "area_of_knowledge = 'Biological Sciences'"
   ]
  },
  {
   "cell_type": "code",
   "execution_count": 127,
   "id": "3db023de-5a67-40c1-babc-4c29b7fb4b10",
   "metadata": {},
   "outputs": [],
   "source": [
    "df_v185i10 = scrape_articles(root_url, article_list_url, area_of_knowledge)"
   ]
  },
  {
   "cell_type": "code",
   "execution_count": 128,
   "id": "5b7725a7-1e41-43e5-94b0-d7adc5842b9a",
   "metadata": {},
   "outputs": [],
   "source": [
    "root_url = 'https://www.cell.com'\n",
    "article_list_url = 'https://www.cell.com/cell/issue?pii=S0092-8674(21)X0012-8'\n",
    "area_of_knowledge = 'Biological Sciences'"
   ]
  },
  {
   "cell_type": "code",
   "execution_count": 129,
   "id": "05b1f25d-8822-45e6-82a3-f759051d6cf5",
   "metadata": {},
   "outputs": [],
   "source": [
    "df_v185i11 = scrape_articles(root_url, article_list_url, area_of_knowledge)"
   ]
  },
  {
   "cell_type": "code",
   "execution_count": 130,
   "id": "bd78bd54-0dd1-4926-9779-863129f834fc",
   "metadata": {},
   "outputs": [],
   "source": [
    "root_url = 'https://www.cell.com'\n",
    "article_list_url = 'https://www.cell.com/cell/issue?pii=S0092-8674(21)X0013-X'\n",
    "area_of_knowledge = 'Biological Sciences'"
   ]
  },
  {
   "cell_type": "code",
   "execution_count": 131,
   "id": "5db85ae8-cb8d-4727-8bf1-f35f41f5eb99",
   "metadata": {},
   "outputs": [],
   "source": [
    "df_v185i12 = scrape_articles(root_url, article_list_url, area_of_knowledge)"
   ]
  },
  {
   "cell_type": "code",
   "execution_count": 132,
   "id": "d84cd3e0-a073-4ad0-980f-68adc9fa669a",
   "metadata": {},
   "outputs": [],
   "source": [
    "root_url = 'https://www.cell.com'\n",
    "article_list_url = 'https://www.cell.com/cell/issue?pii=S0092-8674(21)X0014-1'\n",
    "area_of_knowledge = 'Biological Sciences'"
   ]
  },
  {
   "cell_type": "code",
   "execution_count": 133,
   "id": "7f0d2a9a-6499-44de-99ee-e5e23d47272b",
   "metadata": {},
   "outputs": [],
   "source": [
    "df_v185i13 = scrape_articles(root_url, article_list_url, area_of_knowledge)"
   ]
  },
  {
   "cell_type": "code",
   "execution_count": 134,
   "id": "88ee757a-6180-477e-ae38-0f38191a5037",
   "metadata": {},
   "outputs": [],
   "source": [
    "root_url = 'https://www.cell.com'\n",
    "article_list_url = 'https://www.cell.com/cell/issue?pii=S0092-8674(21)X0015-3'\n",
    "area_of_knowledge = 'Biological Sciences'"
   ]
  },
  {
   "cell_type": "code",
   "execution_count": 135,
   "id": "f0ac1c8f-7cdd-434f-94a5-1fa136c127ae",
   "metadata": {},
   "outputs": [],
   "source": [
    "df_v185i14 = scrape_articles(root_url, article_list_url, area_of_knowledge)"
   ]
  },
  {
   "cell_type": "code",
   "execution_count": 136,
   "id": "517aecff-ffdf-4502-9ce4-91dd56cf242f",
   "metadata": {},
   "outputs": [],
   "source": [
    "root_url = 'https://www.cell.com'\n",
    "article_list_url = 'https://www.cell.com/cell/issue?pii=S0092-8674(21)X0016-5'\n",
    "area_of_knowledge = 'Biological Sciences'"
   ]
  },
  {
   "cell_type": "code",
   "execution_count": 137,
   "id": "a90b8469-b362-492a-8d4e-05c5b60eb2f5",
   "metadata": {},
   "outputs": [],
   "source": [
    "df_v185i15 = scrape_articles(root_url, article_list_url, area_of_knowledge)"
   ]
  },
  {
   "cell_type": "code",
   "execution_count": 138,
   "id": "30f13f82-2f16-46e8-a93f-f085037e50b0",
   "metadata": {},
   "outputs": [],
   "source": [
    "root_url = 'https://www.cell.com'\n",
    "article_list_url = 'https://www.cell.com/cell/issue?pii=S0092-8674(21)X0017-7'\n",
    "area_of_knowledge = 'Biological Sciences'"
   ]
  },
  {
   "cell_type": "code",
   "execution_count": 139,
   "id": "f50071ed-6d67-4bc6-bc7f-a844217bc71b",
   "metadata": {},
   "outputs": [],
   "source": [
    "df_v185i16 = scrape_articles(root_url, article_list_url, area_of_knowledge)"
   ]
  },
  {
   "cell_type": "code",
   "execution_count": 140,
   "id": "700e15f0-166f-4612-baff-668e2d2448e7",
   "metadata": {},
   "outputs": [],
   "source": [
    "root_url = 'https://www.cell.com'\n",
    "article_list_url = 'https://www.cell.com/cell/issue?pii=S0092-8674(21)X0018-9'\n",
    "area_of_knowledge = 'Biological Sciences'"
   ]
  },
  {
   "cell_type": "code",
   "execution_count": 141,
   "id": "1ed3b815-5d8b-44da-902c-68cb28e97684",
   "metadata": {},
   "outputs": [],
   "source": [
    "df_v185i17 = scrape_articles(root_url, article_list_url, area_of_knowledge)"
   ]
  },
  {
   "cell_type": "code",
   "execution_count": 142,
   "id": "31036a5a-8486-4840-9a38-8cbf5260903c",
   "metadata": {},
   "outputs": [],
   "source": [
    "root_url = 'https://www.cell.com'\n",
    "article_list_url = 'https://www.cell.com/cell/issue?pii=S0092-8674(21)X0019-0'\n",
    "area_of_knowledge = 'Biological Sciences'"
   ]
  },
  {
   "cell_type": "code",
   "execution_count": 143,
   "id": "d085b8d1-c4ad-4854-a218-812011d7f3c1",
   "metadata": {},
   "outputs": [],
   "source": [
    "df_v185i18 = scrape_articles(root_url, article_list_url, area_of_knowledge)"
   ]
  },
  {
   "cell_type": "code",
   "execution_count": 144,
   "id": "b5b64a30-8998-4beb-bf91-7a3fb5371bb5",
   "metadata": {},
   "outputs": [],
   "source": [
    "root_url = 'https://www.cell.com'\n",
    "article_list_url = 'https://www.cell.com/cell/issue?pii=S0092-8674(21)X0020-7'\n",
    "area_of_knowledge = 'Biological Sciences'"
   ]
  },
  {
   "cell_type": "code",
   "execution_count": 145,
   "id": "90b6d0cb-636d-43d9-98a0-8744a230874c",
   "metadata": {},
   "outputs": [],
   "source": [
    "df_v185i19 = scrape_articles(root_url, article_list_url, area_of_knowledge)"
   ]
  },
  {
   "cell_type": "code",
   "execution_count": 146,
   "id": "65786053-eb33-4aa0-abd8-2b70052ff130",
   "metadata": {},
   "outputs": [],
   "source": [
    "root_url = 'https://www.cell.com'\n",
    "article_list_url = 'https://www.cell.com/cell/issue?pii=S0092-8674(21)X0021-9'\n",
    "area_of_knowledge = 'Biological Sciences'"
   ]
  },
  {
   "cell_type": "code",
   "execution_count": 147,
   "id": "2df0364e-b42e-433b-883b-dfec9ba98a5d",
   "metadata": {},
   "outputs": [],
   "source": [
    "df_v185i20 = scrape_articles(root_url, article_list_url, area_of_knowledge)"
   ]
  },
  {
   "cell_type": "code",
   "execution_count": 148,
   "id": "88d04f7e-b844-45be-80a6-d66d6faed75c",
   "metadata": {},
   "outputs": [],
   "source": [
    "root_url = 'https://www.cell.com'\n",
    "article_list_url = 'https://www.cell.com/cell/issue?pii=S0092-8674(21)X0022-0'\n",
    "area_of_knowledge = 'Biological Sciences'"
   ]
  },
  {
   "cell_type": "code",
   "execution_count": 149,
   "id": "ad6caa84-1268-4e16-a4f4-6796fd5438ce",
   "metadata": {},
   "outputs": [],
   "source": [
    "df_v185i21 = scrape_articles(root_url, article_list_url, area_of_knowledge)"
   ]
  },
  {
   "cell_type": "code",
   "execution_count": 150,
   "id": "6fb28cb0-e68f-44ee-9138-3cdff26f4339",
   "metadata": {},
   "outputs": [],
   "source": [
    "root_url = 'https://www.cell.com'\n",
    "article_list_url = 'https://www.cell.com/cell/issue?pii=S0092-8674(21)X0023-2'\n",
    "area_of_knowledge = 'Biological Sciences'"
   ]
  },
  {
   "cell_type": "code",
   "execution_count": 151,
   "id": "3fb65074-6418-4afb-bc57-29ec38f545b1",
   "metadata": {},
   "outputs": [],
   "source": [
    "df_v185i22 = scrape_articles(root_url, article_list_url, area_of_knowledge)"
   ]
  },
  {
   "cell_type": "code",
   "execution_count": 152,
   "id": "224d7edd-2069-4a0f-b1a7-a4a968bf7fc2",
   "metadata": {},
   "outputs": [],
   "source": [
    "root_url = 'https://www.cell.com'\n",
    "article_list_url = 'https://www.cell.com/cell/issue?pii=S0092-8674(21)X0024-4'\n",
    "area_of_knowledge = 'Biological Sciences'"
   ]
  },
  {
   "cell_type": "code",
   "execution_count": 153,
   "id": "03b1531d-8733-4d1f-ad13-07e2710eb5b1",
   "metadata": {},
   "outputs": [],
   "source": [
    "df_v185i23 = scrape_articles(root_url, article_list_url, area_of_knowledge)"
   ]
  },
  {
   "cell_type": "code",
   "execution_count": 154,
   "id": "211676e6-d535-49a6-9661-9d9060c38096",
   "metadata": {},
   "outputs": [],
   "source": [
    "root_url = 'https://www.cell.com'\n",
    "article_list_url = 'https://www.cell.com/cell/issue?pii=S0092-8674(21)X0025-6'\n",
    "area_of_knowledge = 'Biological Sciences'"
   ]
  },
  {
   "cell_type": "code",
   "execution_count": 155,
   "id": "e2784d8b-f6ce-432c-9c1f-f5ba14dc2071",
   "metadata": {},
   "outputs": [],
   "source": [
    "df_v185i24 = scrape_articles(root_url, article_list_url, area_of_knowledge)"
   ]
  },
  {
   "cell_type": "markdown",
   "id": "2de2c55b-2ce2-4c26-890f-9dbe346051e6",
   "metadata": {},
   "source": [
    "##### Concatenating the DataFrames"
   ]
  },
  {
   "cell_type": "code",
   "execution_count": 156,
   "id": "a42aefb6-fe09-458a-8b3d-26f3318dc99e",
   "metadata": {},
   "outputs": [],
   "source": [
    "df_cell = pd.concat([\n",
    "    df_v180i1, df_v180i2, df_v180i3, df_v180i4, df_v180i5, df_v180i6,\n",
    "    df_v181i1, df_v181i2, df_v181i3, df_v181i4, df_v181i5, df_v181i6, df_v181i7,\n",
    "    df_v182i1, df_v182i2, df_v182i3, df_v182i4, df_v182i5, df_v182i6,\n",
    "    df_v183i1, df_v183i2, df_v183i3, df_v183i4, df_v183i5, df_v183i6, df_v183i7,\n",
    "    df_v184i1, df_v184i2, df_v184i3, df_v184i4, df_v184i5, df_v184i6, df_v184i7, df_v184i8, df_v184i9, df_v184i10, df_v184i11, df_v184i12, df_v184i13, df_v184i14, df_v184i15, df_v184i16, df_v184i17, df_v184i18, df_v184i19, df_v184i20, df_v184i21, df_v184i22, df_v184i23, df_v184i24, df_v184i25, df_v184i26,\n",
    "    df_v185i1, df_v185i2, df_v185i3, df_v185i4, df_v185i5, df_v185i6, df_v185i7, df_v185i8, df_v185i9, df_v185i10, df_v185i11, df_v185i12, df_v185i13, df_v185i14, df_v185i15, df_v185i16, df_v185i17, df_v185i18, df_v185i19, df_v185i20, df_v185i21, df_v185i22, df_v185i23, df_v185i24\n",
    "], ignore_index=True)"
   ]
  },
  {
   "cell_type": "code",
   "execution_count": 159,
   "id": "48d7db71-8863-4e3a-832d-35faeba95d35",
   "metadata": {},
   "outputs": [],
   "source": [
    "df_cell['Published'] = pd.to_datetime(\n",
    "    df_cell['Published'], format='mixed', errors='coerce'\n",
    ")"
   ]
  },
  {
   "cell_type": "code",
   "execution_count": 162,
   "id": "d53ed777-1cc3-4fef-8f12-46ad741d63c8",
   "metadata": {},
   "outputs": [
    {
     "data": {
      "text/plain": [
       "Article Type                 object\n",
       "Title                        object\n",
       "URL                          object\n",
       "Authors                      object\n",
       "Vol/Issue                    object\n",
       "Published            datetime64[ns]\n",
       "PDF URL                      object\n",
       "Area of Knowledge            object\n",
       "dtype: object"
      ]
     },
     "execution_count": 162,
     "metadata": {},
     "output_type": "execute_result"
    }
   ],
   "source": [
    "df_cell.dtypes"
   ]
  },
  {
   "cell_type": "markdown",
   "id": "c48b59ef-4471-488f-ac3b-36add0915bef",
   "metadata": {},
   "source": [
    "##### Selecting the 'Open access' and 'Full text access' articles published before the advent of ChatGPT"
   ]
  },
  {
   "cell_type": "code",
   "execution_count": 163,
   "id": "f889173f-33e5-491e-a929-7d0d7e0e46f1",
   "metadata": {},
   "outputs": [],
   "source": [
    "df_cell_open_access = df_cell\n",
    "df_cell_open_access = df_cell_open_access[df_cell_open_access['Published'] <= '2022-11-30']\n",
    "df_cell_open_access = df_cell_open_access.reset_index(drop=True)"
   ]
  },
  {
   "cell_type": "code",
   "execution_count": 164,
   "id": "af2d7de3-0464-499d-b91a-aac058033d85",
   "metadata": {},
   "outputs": [
    {
     "data": {
      "text/html": [
       "<div>\n",
       "<style scoped>\n",
       "    .dataframe tbody tr th:only-of-type {\n",
       "        vertical-align: middle;\n",
       "    }\n",
       "\n",
       "    .dataframe tbody tr th {\n",
       "        vertical-align: top;\n",
       "    }\n",
       "\n",
       "    .dataframe thead th {\n",
       "        text-align: right;\n",
       "    }\n",
       "</style>\n",
       "<table border=\"1\" class=\"dataframe\">\n",
       "  <thead>\n",
       "    <tr style=\"text-align: right;\">\n",
       "      <th></th>\n",
       "      <th>Article Type</th>\n",
       "      <th>Title</th>\n",
       "      <th>URL</th>\n",
       "      <th>Authors</th>\n",
       "      <th>Vol/Issue</th>\n",
       "      <th>Published</th>\n",
       "      <th>PDF URL</th>\n",
       "      <th>Area of Knowledge</th>\n",
       "    </tr>\n",
       "  </thead>\n",
       "  <tbody>\n",
       "    <tr>\n",
       "      <th>0</th>\n",
       "      <td>Article</td>\n",
       "      <td>Gut-Innervating Nociceptor Neurons Regulate Pe...</td>\n",
       "      <td>https://www.cell.com/cell/fulltext/S0092-8674(...</td>\n",
       "      <td>Nicole Y. Lai, Melissa A. Musser, Felipe A. Pi...</td>\n",
       "      <td>Volume 180/Issue 1</td>\n",
       "      <td>2020-01-09</td>\n",
       "      <td>https://www.cell.com/cell/pdf/S0092-8674(19)31...</td>\n",
       "      <td>Biological Sciences</td>\n",
       "    </tr>\n",
       "    <tr>\n",
       "      <th>1</th>\n",
       "      <td>Article</td>\n",
       "      <td>Enteric Nervous System-Derived IL-18 Orchestra...</td>\n",
       "      <td>https://www.cell.com/cell/fulltext/S0092-8674(...</td>\n",
       "      <td>Abigail Jarret, Ruaidhrí Jackson, Coco Duizer,...</td>\n",
       "      <td>Volume 180/Issue 1</td>\n",
       "      <td>2020-01-09</td>\n",
       "      <td>https://www.cell.com/cell/pdf/S0092-8674(19)31...</td>\n",
       "      <td>Biological Sciences</td>\n",
       "    </tr>\n",
       "    <tr>\n",
       "      <th>2</th>\n",
       "      <td>Article</td>\n",
       "      <td>Adrenergic Signaling in Muscularis Macrophages...</td>\n",
       "      <td>https://www.cell.com/cell/fulltext/S0092-8674(...</td>\n",
       "      <td>Fanny Matheis, Paul A. Muller, Christina L. Gr...</td>\n",
       "      <td>Volume 180/Issue 1</td>\n",
       "      <td>2020-01-09</td>\n",
       "      <td>https://www.cell.com/cell/pdf/S0092-8674(19)31...</td>\n",
       "      <td>Biological Sciences</td>\n",
       "    </tr>\n",
       "    <tr>\n",
       "      <th>3</th>\n",
       "      <td>Article</td>\n",
       "      <td>Serum Amyloid A Proteins Induce Pathogenic Th1...</td>\n",
       "      <td>https://www.cell.com/cell/fulltext/S0092-8674(...</td>\n",
       "      <td>June-Yong Lee, Jason A. Hall, Lina Kroehling, ...</td>\n",
       "      <td>Volume 180/Issue 1</td>\n",
       "      <td>2020-01-09</td>\n",
       "      <td>https://www.cell.com/cell/pdf/S0092-8674(19)31...</td>\n",
       "      <td>Biological Sciences</td>\n",
       "    </tr>\n",
       "    <tr>\n",
       "      <th>4</th>\n",
       "      <td>Article</td>\n",
       "      <td>Restricted Clonality and Limited Germinal Cent...</td>\n",
       "      <td>https://www.cell.com/cell/fulltext/S0092-8674(...</td>\n",
       "      <td>Luka Mesin, Ariën Schiepers, Jonatan Ersching,...</td>\n",
       "      <td>Volume 180/Issue 1</td>\n",
       "      <td>2020-01-09</td>\n",
       "      <td>https://www.cell.com/cell/pdf/S0092-8674(19)31...</td>\n",
       "      <td>Biological Sciences</td>\n",
       "    </tr>\n",
       "    <tr>\n",
       "      <th>...</th>\n",
       "      <td>...</td>\n",
       "      <td>...</td>\n",
       "      <td>...</td>\n",
       "      <td>...</td>\n",
       "      <td>...</td>\n",
       "      <td>...</td>\n",
       "      <td>...</td>\n",
       "      <td>...</td>\n",
       "    </tr>\n",
       "    <tr>\n",
       "      <th>708</th>\n",
       "      <td>Article</td>\n",
       "      <td>A microbial transporter of the dietary antioxi...</td>\n",
       "      <td>https://www.cell.com/cell/fulltext/S0092-8674(...</td>\n",
       "      <td>Daniel G. Dumitrescu, Elizabeth M. Gordon, Yek...</td>\n",
       "      <td>Volume 185/Issue 24</td>\n",
       "      <td>2022-11-23</td>\n",
       "      <td>https://www.cell.com/cell/pdf/S0092-8674(22)01...</td>\n",
       "      <td>Biological Sciences</td>\n",
       "    </tr>\n",
       "    <tr>\n",
       "      <th>709</th>\n",
       "      <td>Article</td>\n",
       "      <td>Mechanoreceptor signal convergence and transfo...</td>\n",
       "      <td>https://www.cell.com/cell/fulltext/S0092-8674(...</td>\n",
       "      <td>Anda M. Chirila, Genelle Rankin, Shih-Yi Tseng...</td>\n",
       "      <td>Volume 185/Issue 24</td>\n",
       "      <td>2022-11-23</td>\n",
       "      <td>https://www.cell.com/cell/pdf/S0092-8674(22)01...</td>\n",
       "      <td>Biological Sciences</td>\n",
       "    </tr>\n",
       "    <tr>\n",
       "      <th>710</th>\n",
       "      <td>Article</td>\n",
       "      <td>Membrane phosphoinositides regulate GPCR-β-arr...</td>\n",
       "      <td>https://www.cell.com/cell/fulltext/S0092-8674(...</td>\n",
       "      <td>John Janetzko, Ryoji Kise, Benjamin Barsi-Rhyn...</td>\n",
       "      <td>Volume 185/Issue 24</td>\n",
       "      <td>2022-11-23</td>\n",
       "      <td>https://www.cell.com/cell/pdf/S0092-8674(22)01...</td>\n",
       "      <td>Biological Sciences</td>\n",
       "    </tr>\n",
       "    <tr>\n",
       "      <th>711</th>\n",
       "      <td>Article</td>\n",
       "      <td>Diverse virus-encoded CRISPR-Cas systems inclu...</td>\n",
       "      <td>https://www.cell.com/cell/fulltext/S0092-8674(...</td>\n",
       "      <td>Basem Al-Shayeb, Petr Skopintsev, Katarzyna M....</td>\n",
       "      <td>Volume 185/Issue 24</td>\n",
       "      <td>2022-11-23</td>\n",
       "      <td>https://www.cell.com/cell/pdf/S0092-8674(22)01...</td>\n",
       "      <td>Biological Sciences</td>\n",
       "    </tr>\n",
       "    <tr>\n",
       "      <th>712</th>\n",
       "      <td>Article</td>\n",
       "      <td>Adaptive sequence divergence forged new neurod...</td>\n",
       "      <td>https://www.cell.com/cell/fulltext/S0092-8674(...</td>\n",
       "      <td>Riley J. Mangan, Fernando C. Alsina, Federica ...</td>\n",
       "      <td>Volume 185/Issue 24</td>\n",
       "      <td>2022-11-23</td>\n",
       "      <td>https://www.cell.com/cell/pdf/S0092-8674(22)01...</td>\n",
       "      <td>Biological Sciences</td>\n",
       "    </tr>\n",
       "  </tbody>\n",
       "</table>\n",
       "<p>713 rows × 8 columns</p>\n",
       "</div>"
      ],
      "text/plain": [
       "    Article Type                                              Title  \\\n",
       "0        Article  Gut-Innervating Nociceptor Neurons Regulate Pe...   \n",
       "1        Article  Enteric Nervous System-Derived IL-18 Orchestra...   \n",
       "2        Article  Adrenergic Signaling in Muscularis Macrophages...   \n",
       "3        Article  Serum Amyloid A Proteins Induce Pathogenic Th1...   \n",
       "4        Article  Restricted Clonality and Limited Germinal Cent...   \n",
       "..           ...                                                ...   \n",
       "708      Article  A microbial transporter of the dietary antioxi...   \n",
       "709      Article  Mechanoreceptor signal convergence and transfo...   \n",
       "710      Article  Membrane phosphoinositides regulate GPCR-β-arr...   \n",
       "711      Article  Diverse virus-encoded CRISPR-Cas systems inclu...   \n",
       "712      Article  Adaptive sequence divergence forged new neurod...   \n",
       "\n",
       "                                                   URL  \\\n",
       "0    https://www.cell.com/cell/fulltext/S0092-8674(...   \n",
       "1    https://www.cell.com/cell/fulltext/S0092-8674(...   \n",
       "2    https://www.cell.com/cell/fulltext/S0092-8674(...   \n",
       "3    https://www.cell.com/cell/fulltext/S0092-8674(...   \n",
       "4    https://www.cell.com/cell/fulltext/S0092-8674(...   \n",
       "..                                                 ...   \n",
       "708  https://www.cell.com/cell/fulltext/S0092-8674(...   \n",
       "709  https://www.cell.com/cell/fulltext/S0092-8674(...   \n",
       "710  https://www.cell.com/cell/fulltext/S0092-8674(...   \n",
       "711  https://www.cell.com/cell/fulltext/S0092-8674(...   \n",
       "712  https://www.cell.com/cell/fulltext/S0092-8674(...   \n",
       "\n",
       "                                               Authors            Vol/Issue  \\\n",
       "0    Nicole Y. Lai, Melissa A. Musser, Felipe A. Pi...   Volume 180/Issue 1   \n",
       "1    Abigail Jarret, Ruaidhrí Jackson, Coco Duizer,...   Volume 180/Issue 1   \n",
       "2    Fanny Matheis, Paul A. Muller, Christina L. Gr...   Volume 180/Issue 1   \n",
       "3    June-Yong Lee, Jason A. Hall, Lina Kroehling, ...   Volume 180/Issue 1   \n",
       "4    Luka Mesin, Ariën Schiepers, Jonatan Ersching,...   Volume 180/Issue 1   \n",
       "..                                                 ...                  ...   \n",
       "708  Daniel G. Dumitrescu, Elizabeth M. Gordon, Yek...  Volume 185/Issue 24   \n",
       "709  Anda M. Chirila, Genelle Rankin, Shih-Yi Tseng...  Volume 185/Issue 24   \n",
       "710  John Janetzko, Ryoji Kise, Benjamin Barsi-Rhyn...  Volume 185/Issue 24   \n",
       "711  Basem Al-Shayeb, Petr Skopintsev, Katarzyna M....  Volume 185/Issue 24   \n",
       "712  Riley J. Mangan, Fernando C. Alsina, Federica ...  Volume 185/Issue 24   \n",
       "\n",
       "     Published                                            PDF URL  \\\n",
       "0   2020-01-09  https://www.cell.com/cell/pdf/S0092-8674(19)31...   \n",
       "1   2020-01-09  https://www.cell.com/cell/pdf/S0092-8674(19)31...   \n",
       "2   2020-01-09  https://www.cell.com/cell/pdf/S0092-8674(19)31...   \n",
       "3   2020-01-09  https://www.cell.com/cell/pdf/S0092-8674(19)31...   \n",
       "4   2020-01-09  https://www.cell.com/cell/pdf/S0092-8674(19)31...   \n",
       "..         ...                                                ...   \n",
       "708 2022-11-23  https://www.cell.com/cell/pdf/S0092-8674(22)01...   \n",
       "709 2022-11-23  https://www.cell.com/cell/pdf/S0092-8674(22)01...   \n",
       "710 2022-11-23  https://www.cell.com/cell/pdf/S0092-8674(22)01...   \n",
       "711 2022-11-23  https://www.cell.com/cell/pdf/S0092-8674(22)01...   \n",
       "712 2022-11-23  https://www.cell.com/cell/pdf/S0092-8674(22)01...   \n",
       "\n",
       "       Area of Knowledge  \n",
       "0    Biological Sciences  \n",
       "1    Biological Sciences  \n",
       "2    Biological Sciences  \n",
       "3    Biological Sciences  \n",
       "4    Biological Sciences  \n",
       "..                   ...  \n",
       "708  Biological Sciences  \n",
       "709  Biological Sciences  \n",
       "710  Biological Sciences  \n",
       "711  Biological Sciences  \n",
       "712  Biological Sciences  \n",
       "\n",
       "[713 rows x 8 columns]"
      ]
     },
     "execution_count": 164,
     "metadata": {},
     "output_type": "execute_result"
    }
   ],
   "source": [
    "df_cell_open_access"
   ]
  },
  {
   "cell_type": "markdown",
   "id": "7ca874c0-5284-4250-b912-c38f2978ad68",
   "metadata": {},
   "source": [
    "#### Inspecting a few articles"
   ]
  },
  {
   "cell_type": "code",
   "execution_count": 165,
   "id": "7acc2a55-5a7e-41e7-91d4-f45d8136e181",
   "metadata": {},
   "outputs": [
    {
     "data": {
      "text/plain": [
       "'https://www.cell.com/cell/fulltext/S0092-8674(19)31317-0'"
      ]
     },
     "execution_count": 165,
     "metadata": {},
     "output_type": "execute_result"
    }
   ],
   "source": [
    "df_cell_open_access.at[4, 'URL']"
   ]
  },
  {
   "cell_type": "markdown",
   "id": "9d51c5b4-8746-4a1f-b273-e87a36e3bd78",
   "metadata": {},
   "source": [
    "#### Exporting to a file"
   ]
  },
  {
   "cell_type": "code",
   "execution_count": 166,
   "id": "e8ce7f0b-1500-4c60-b347-9a06756c2cf6",
   "metadata": {},
   "outputs": [],
   "source": [
    "df_cell_open_access.to_json(f\"{output_directory}/cell_open_access.jsonl\", orient='records', lines=True)"
   ]
  },
  {
   "cell_type": "markdown",
   "id": "2f327069-cb70-4675-8bc4-f314e63388bc",
   "metadata": {},
   "source": [
    "### Scraping [American Journal of Human Biology](https://onlinelibrary.wiley.com/journal/15206300?msockid=0525cb73d9a76a060b80df20d87e6b4b)"
   ]
  },
  {
   "cell_type": "markdown",
   "id": "42388177-4a28-4300-8556-1369a89d4583",
   "metadata": {},
   "source": [
    "#### Capturing a few document pages for inspection"
   ]
  },
  {
   "cell_type": "markdown",
   "id": "e24c9d2f-cded-48cd-b2cb-06bfb811c1fe",
   "metadata": {},
   "source": [
    "Wiley's website blocks iterations by pushing a `CAPTCHA`. This requires scraping page by page."
   ]
  },
  {
   "cell_type": "code",
   "execution_count": 3,
   "id": "f1185735-1a35-4548-b0f6-6cbd74dbe59c",
   "metadata": {},
   "outputs": [],
   "source": [
    "url_sample_1 = 'https://onlinelibrary.wiley.com/toc/15206300/2020/32/2'\n",
    "url_sample_11 = 'https://onlinelibrary.wiley.com/doi/10.1002/ajhb.23340'"
   ]
  },
  {
   "cell_type": "code",
   "execution_count": 5,
   "id": "af6af91e-db85-4f64-acfd-86af18fa32fe",
   "metadata": {},
   "outputs": [],
   "source": [
    "# Setting up the WebDriver (make sure you have downloaded the Microsoft Edge WebDriver executable)\n",
    "# https://developer.microsoft.com/en-us/microsoft-edge/tools/webdriver/\n",
    "service = Service(r'C:\\Users\\eyamr\\OneDrive\\00-Technology\\laelgelc\\edgedriver_win64\\msedgedriver.exe')\n",
    "driver = webdriver.Edge(service=service)\n",
    "\n",
    "# Navigating to target URL 1 and saving its web page\n",
    "driver.get(url_sample_1)\n",
    "wait = WebDriverWait(driver, 10)\n",
    "#time.sleep(15)  # Waits for 15 seconds\n",
    "#wait.until(EC.presence_of_element_located((By.TAG_NAME, 'html')))\n",
    "\n",
    "# Extra reliability check: Wait until the page source stops changing\n",
    "max_wait_time = 30  # Max time in seconds\n",
    "start_time = time.time()\n",
    "previous_html = ''\n",
    "while True:\n",
    "    current_html = driver.page_source\n",
    "    if current_html == previous_html or time.time() - start_time > max_wait_time:\n",
    "        break  # Exit loop if page stops changing or max wait time is exceeded\n",
    "    previous_html = current_html\n",
    "    time.sleep(2)  # Short delay before checking again\n",
    "\n",
    "# Now, the page is fully loaded - extract content!\n",
    "\n",
    "document_page_sample_1 = driver.page_source\n",
    "\n",
    "with open(f'{output_directory}/american_journal_human_biology_sample1.html', 'w', encoding='utf8', newline='\\n') as file:\n",
    "    file.write(document_page_sample_1)\n",
    "\n",
    "# Closing the WebDriver\n",
    "driver.quit()"
   ]
  },
  {
   "cell_type": "code",
   "execution_count": 6,
   "id": "78c3c0d2-dfa3-4806-8fdb-42358b601de9",
   "metadata": {},
   "outputs": [],
   "source": [
    "# Setting up the WebDriver (make sure you have downloaded the Microsoft Edge WebDriver executable)\n",
    "# https://developer.microsoft.com/en-us/microsoft-edge/tools/webdriver/\n",
    "service = Service(r'C:\\Users\\eyamr\\OneDrive\\00-Technology\\laelgelc\\edgedriver_win64\\msedgedriver.exe')\n",
    "driver = webdriver.Edge(service=service)\n",
    "\n",
    "# Navigating to target URL 2 and saving its web page\n",
    "driver.get(url_sample_11)\n",
    "wait = WebDriverWait(driver, 10)\n",
    "#time.sleep(15)  # Waits for 15 seconds\n",
    "#wait.until(EC.presence_of_element_located((By.TAG_NAME, 'html')))\n",
    "\n",
    "# Extra reliability check: Wait until the page source stops changing\n",
    "max_wait_time = 30  # Max time in seconds\n",
    "start_time = time.time()\n",
    "previous_html = ''\n",
    "while True:\n",
    "    current_html = driver.page_source\n",
    "    if current_html == previous_html or time.time() - start_time > max_wait_time:\n",
    "        break  # Exit loop if page stops changing or max wait time is exceeded\n",
    "    previous_html = current_html\n",
    "    time.sleep(2)  # Short delay before checking again\n",
    "\n",
    "# Now, the page is fully loaded - extract content!\n",
    "\n",
    "document_page_sample_11 = driver.page_source\n",
    "\n",
    "with open(f'{output_directory}/american_journal_human_biology_sample11.html', 'w', encoding='utf8', newline='\\n') as file:\n",
    "    file.write(document_page_sample_11)\n",
    "\n",
    "# Closing the WebDriver\n",
    "driver.quit()"
   ]
  },
  {
   "cell_type": "markdown",
   "id": "a93f64a0-ff82-4c01-bf5a-8143d1de0672",
   "metadata": {},
   "source": [
    "#### Scraping the articles"
   ]
  },
  {
   "cell_type": "markdown",
   "id": "0330f292-6e87-4c73-90b8-b86169a4b163",
   "metadata": {},
   "source": [
    "##### Function to scrape the articles"
   ]
  },
  {
   "cell_type": "code",
   "execution_count": 3,
   "id": "21dc904f-b8f4-4541-9d2b-569ef73a4e7a",
   "metadata": {},
   "outputs": [],
   "source": [
    "def scrape_articles(root_url, doi_root_url, article_list_url, start_page, end_page, volume, area_of_knowledge):\n",
    "    # Setting up the WebDriver\n",
    "    service = Service(r'C:\\Users\\eyamr\\OneDrive\\00-Technology\\laelgelc\\edgedriver_win64\\msedgedriver.exe')\n",
    "    driver = webdriver.Edge(service=service)\n",
    "\n",
    "    data = []\n",
    "\n",
    "    for i in tqdm(range(start_page, end_page + 1)):\n",
    "        url = f\"{article_list_url}{i}\"\n",
    "        driver.get(url)\n",
    "\n",
    "        # Explicit wait for main article elements\n",
    "        wait = WebDriverWait(driver, 10)\n",
    "\n",
    "        # Ensure stable page load\n",
    "        max_wait_time = 30\n",
    "        start_time = time.time()\n",
    "        previous_html = ''\n",
    "        while True:\n",
    "            current_html = driver.page_source\n",
    "            if current_html == previous_html or time.time() - start_time > max_wait_time:\n",
    "                break\n",
    "            previous_html = current_html\n",
    "            time.sleep(2)\n",
    "\n",
    "        # Parse page source with BeautifulSoup\n",
    "        soup = BeautifulSoup(driver.page_source, 'lxml')\n",
    "\n",
    "        # Extract Volume/Issue\n",
    "        volume_issue = f\"{volume}, Issue {i}\"\n",
    "\n",
    "        # Extract articles\n",
    "        articles = soup.find_all('div', class_='issue-item')\n",
    "        \n",
    "        for article in articles:\n",
    "            # Extract article type (if applicable)\n",
    "            article_type = \"Research article\"  # Default assumption if not explicitly listed\n",
    "        \n",
    "            # Extract title\n",
    "            title_tag = article.find('a', class_='issue-item__title').find('h2')\n",
    "            title = title_tag.get_text(strip=True) if title_tag else ''\n",
    "        \n",
    "            # Extract article URL\n",
    "            article_url_tag = article.find('a', class_='issue-item__title')\n",
    "            article_url = root_url + article_url_tag['href'] if article_url_tag else ''\n",
    "        \n",
    "            # Extract authors\n",
    "            authors_list = article.find('div', class_='comma__list')\n",
    "            authors = ', '.join([author.get_text(strip=True) for author in authors_list.find_all('span', class_='author-style')]) if authors_list else ''\n",
    "        \n",
    "            # Extract published date (removing \"First Published: \")\n",
    "            published_tag = article.find('li', class_='ePubDate')\n",
    "            published = published_tag.find_all('span')[1].get_text(strip=True) if published_tag else ''\n",
    "        \n",
    "            # Extract DOI\n",
    "            doi_tag = article.find('input', {'type': 'hidden'})\n",
    "            doi = doi_root_url + doi_tag['value'].replace('%2F', '/') if doi_tag else ''\n",
    "        \n",
    "            # Extract Open Access status\n",
    "            open_access_tag = article.find('div', class_='doi-access')\n",
    "            open_access = open_access_tag.get_text(strip=True) if open_access_tag else ''\n",
    "        \n",
    "            # Extract PDF URL\n",
    "            pdf_url_tag = article.find('li', class_='PdfLink').find('a')\n",
    "            pdf_url = pdf_url_tag['href'].replace('epdf', 'pdf') if pdf_url_tag and pdf_url_tag.get('href') else ''\n",
    "        \n",
    "            # Append extracted data\n",
    "            data.append({\n",
    "                'Article Type': article_type,\n",
    "                'Title': title,\n",
    "                'URL': article_url,\n",
    "                'Authors': authors,\n",
    "                'Vol/Issue': volume_issue,\n",
    "                'Published': published,\n",
    "                'DOI': doi,\n",
    "                'Open Access': open_access,\n",
    "                'PDF URL': pdf_url,\n",
    "                'Area of Knowledge': area_of_knowledge\n",
    "            })\n",
    "\n",
    "    # Close WebDriver\n",
    "    driver.quit()\n",
    "\n",
    "    return pd.DataFrame(data)"
   ]
  },
  {
   "cell_type": "markdown",
   "id": "c9abf271-d2a9-440a-93e8-8f335df6db8d",
   "metadata": {},
   "source": [
    "##### Volume 32 (Issue 1; Issue 2; Issue S1; Issue 3; Issue 4; Issue 5; Issue 6)"
   ]
  },
  {
   "cell_type": "markdown",
   "id": "d169d778-4433-4b21-a55b-1888476c05ca",
   "metadata": {},
   "source": [
    "Wiley's website blocks iterations by pushing a `CAPTCHA`. This requires scraping page by page."
   ]
  },
  {
   "cell_type": "code",
   "execution_count": 4,
   "id": "f6e803dd-3088-474e-a092-4100dac75885",
   "metadata": {},
   "outputs": [],
   "source": [
    "root_url = 'https://onlinelibrary.wiley.com'\n",
    "doi_root_url = 'https://doi.org/'\n",
    "article_list_url = 'https://onlinelibrary.wiley.com/toc/15206300/2020/32/'\n",
    "volume = 'Volume 32'\n",
    "area_of_knowledge = 'Biological Sciences'"
   ]
  },
  {
   "cell_type": "code",
   "execution_count": 5,
   "id": "b22ea010-4c69-4a8a-8956-3cab33a917f2",
   "metadata": {},
   "outputs": [],
   "source": [
    "start_page = 1\n",
    "end_page = 1"
   ]
  },
  {
   "cell_type": "code",
   "execution_count": 6,
   "id": "02a1df31-53ab-4520-adb9-db8859b9cb4f",
   "metadata": {},
   "outputs": [
    {
     "name": "stderr",
     "output_type": "stream",
     "text": [
      "100%|██████████| 1/1 [00:15<00:00, 15.58s/it]\n"
     ]
    }
   ],
   "source": [
    "df_v32i1 = scrape_articles(root_url, doi_root_url, article_list_url, start_page, end_page, volume, area_of_knowledge)"
   ]
  },
  {
   "cell_type": "code",
   "execution_count": 7,
   "id": "8292c8e1-273e-464e-852b-79bde806324b",
   "metadata": {},
   "outputs": [],
   "source": [
    "start_page = 2\n",
    "end_page = 2"
   ]
  },
  {
   "cell_type": "code",
   "execution_count": 8,
   "id": "029a02e0-08f8-4b00-8d1a-8769ed3f51af",
   "metadata": {},
   "outputs": [
    {
     "name": "stderr",
     "output_type": "stream",
     "text": [
      "100%|██████████| 1/1 [00:12<00:00, 12.27s/it]\n"
     ]
    }
   ],
   "source": [
    "df_v32i2 = scrape_articles(root_url, doi_root_url, article_list_url, start_page, end_page, volume, area_of_knowledge)"
   ]
  },
  {
   "cell_type": "code",
   "execution_count": 9,
   "id": "a5849fae-5ce6-49d7-b53f-053778da45ea",
   "metadata": {},
   "outputs": [],
   "source": [
    "root_url = 'https://onlinelibrary.wiley.com'\n",
    "doi_root_url = 'https://doi.org/'\n",
    "article_list_url = 'https://onlinelibrary.wiley.com/toc/15206300/2020/32/S'\n",
    "volume = 'Volume 32'\n",
    "area_of_knowledge = 'Biological Sciences'"
   ]
  },
  {
   "cell_type": "code",
   "execution_count": 10,
   "id": "8a44f3e6-ac47-4a23-bbf1-47c4466e2f42",
   "metadata": {},
   "outputs": [],
   "source": [
    "start_page = 1\n",
    "end_page = 1"
   ]
  },
  {
   "cell_type": "code",
   "execution_count": 11,
   "id": "5e09fc09-4e6e-4fda-87ad-93bf1f394df0",
   "metadata": {},
   "outputs": [
    {
     "name": "stderr",
     "output_type": "stream",
     "text": [
      "100%|██████████| 1/1 [00:11<00:00, 11.53s/it]\n"
     ]
    }
   ],
   "source": [
    "df_v32is1 = scrape_articles(root_url, doi_root_url, article_list_url, start_page, end_page, volume, area_of_knowledge)"
   ]
  },
  {
   "cell_type": "code",
   "execution_count": 12,
   "id": "b426f490-4896-4f76-891c-008a60f22611",
   "metadata": {},
   "outputs": [],
   "source": [
    "root_url = 'https://onlinelibrary.wiley.com'\n",
    "doi_root_url = 'https://doi.org/'\n",
    "article_list_url = 'https://onlinelibrary.wiley.com/toc/15206300/2020/32/'\n",
    "volume = 'Volume 32'\n",
    "area_of_knowledge = 'Biological Sciences'"
   ]
  },
  {
   "cell_type": "code",
   "execution_count": 13,
   "id": "d2b14e7b-8bba-443b-be9e-886641c920cc",
   "metadata": {},
   "outputs": [],
   "source": [
    "start_page = 3\n",
    "end_page = 3"
   ]
  },
  {
   "cell_type": "code",
   "execution_count": 14,
   "id": "10d61508-0a2d-440e-b75b-ded72b91c5d5",
   "metadata": {},
   "outputs": [
    {
     "name": "stderr",
     "output_type": "stream",
     "text": [
      "100%|██████████| 1/1 [00:17<00:00, 17.23s/it]\n"
     ]
    }
   ],
   "source": [
    "df_v32i3 = scrape_articles(root_url, doi_root_url, article_list_url, start_page, end_page, volume, area_of_knowledge)"
   ]
  },
  {
   "cell_type": "code",
   "execution_count": 15,
   "id": "83e180c5-22df-449c-938e-29229d8a2728",
   "metadata": {},
   "outputs": [],
   "source": [
    "start_page = 4\n",
    "end_page = 4"
   ]
  },
  {
   "cell_type": "code",
   "execution_count": 16,
   "id": "852a6a3e-5df1-49bc-8a89-b8d54682b496",
   "metadata": {},
   "outputs": [
    {
     "name": "stderr",
     "output_type": "stream",
     "text": [
      "100%|██████████| 1/1 [00:15<00:00, 15.40s/it]\n"
     ]
    }
   ],
   "source": [
    "df_v32i4 = scrape_articles(root_url, doi_root_url, article_list_url, start_page, end_page, volume, area_of_knowledge)"
   ]
  },
  {
   "cell_type": "code",
   "execution_count": 17,
   "id": "a1d6dc47-18f1-44d4-85e1-5128c67d575a",
   "metadata": {},
   "outputs": [],
   "source": [
    "start_page = 5\n",
    "end_page = 5"
   ]
  },
  {
   "cell_type": "code",
   "execution_count": 18,
   "id": "dc9bcc3a-5212-45f7-b57d-30f4c9aadaf3",
   "metadata": {},
   "outputs": [
    {
     "name": "stderr",
     "output_type": "stream",
     "text": [
      "100%|██████████| 1/1 [00:15<00:00, 15.34s/it]\n"
     ]
    }
   ],
   "source": [
    "df_v32i5 = scrape_articles(root_url, doi_root_url, article_list_url, start_page, end_page, volume, area_of_knowledge)"
   ]
  },
  {
   "cell_type": "code",
   "execution_count": 19,
   "id": "d8b69dc8-a30d-4e67-8f74-373793e00ff6",
   "metadata": {},
   "outputs": [],
   "source": [
    "start_page = 6\n",
    "end_page = 6"
   ]
  },
  {
   "cell_type": "code",
   "execution_count": 20,
   "id": "72642d88-d167-438d-90bd-91f9a848baaa",
   "metadata": {},
   "outputs": [
    {
     "name": "stderr",
     "output_type": "stream",
     "text": [
      "100%|██████████| 1/1 [00:12<00:00, 12.72s/it]\n"
     ]
    }
   ],
   "source": [
    "df_v32i6 = scrape_articles(root_url, doi_root_url, article_list_url, start_page, end_page, volume, area_of_knowledge)"
   ]
  },
  {
   "cell_type": "markdown",
   "id": "a4d54bca-b7d5-43ff-9371-84fce5fca237",
   "metadata": {},
   "source": [
    "##### Volume 33 (Issue 1; Issue S1; Issue 2; Issue 3; Issue 4; Issue 5; Issue 6)"
   ]
  },
  {
   "cell_type": "code",
   "execution_count": 21,
   "id": "92277696-160a-4356-acf1-1618c1d6505f",
   "metadata": {},
   "outputs": [],
   "source": [
    "root_url = 'https://onlinelibrary.wiley.com'\n",
    "doi_root_url = 'https://doi.org/'\n",
    "article_list_url = 'https://onlinelibrary.wiley.com/toc/15206300/2021/33/'\n",
    "volume = 'Volume 33'\n",
    "area_of_knowledge = 'Biological Sciences'"
   ]
  },
  {
   "cell_type": "code",
   "execution_count": 22,
   "id": "f6daeab0-7e36-4753-bfc5-80a1318e5908",
   "metadata": {},
   "outputs": [],
   "source": [
    "start_page = 1\n",
    "end_page = 1"
   ]
  },
  {
   "cell_type": "code",
   "execution_count": 23,
   "id": "aab39a42-ad97-4018-b29f-5a21bbfeded9",
   "metadata": {},
   "outputs": [
    {
     "name": "stderr",
     "output_type": "stream",
     "text": [
      "100%|██████████| 1/1 [00:15<00:00, 15.27s/it]\n"
     ]
    }
   ],
   "source": [
    "df_v33i1 = scrape_articles(root_url, doi_root_url, article_list_url, start_page, end_page, volume, area_of_knowledge)"
   ]
  },
  {
   "cell_type": "code",
   "execution_count": 24,
   "id": "9fd40599-e973-40ff-82ff-808cd28a58c4",
   "metadata": {},
   "outputs": [],
   "source": [
    "root_url = 'https://onlinelibrary.wiley.com'\n",
    "doi_root_url = 'https://doi.org/'\n",
    "article_list_url = 'https://onlinelibrary.wiley.com/toc/15206300/2021/33/S'\n",
    "volume = 'Volume 33'\n",
    "area_of_knowledge = 'Biological Sciences'"
   ]
  },
  {
   "cell_type": "code",
   "execution_count": 25,
   "id": "459e4cd8-a1cb-48e9-8f0a-47ab82ad55e3",
   "metadata": {},
   "outputs": [],
   "source": [
    "start_page = 1\n",
    "end_page = 1"
   ]
  },
  {
   "cell_type": "code",
   "execution_count": 26,
   "id": "e9f475c7-b9e5-4d5a-bc65-1ebdfe56bdad",
   "metadata": {},
   "outputs": [
    {
     "name": "stderr",
     "output_type": "stream",
     "text": [
      "100%|██████████| 1/1 [00:13<00:00, 13.68s/it]\n"
     ]
    }
   ],
   "source": [
    "df_v33is1 = scrape_articles(root_url, doi_root_url, article_list_url, start_page, end_page, volume, area_of_knowledge)"
   ]
  },
  {
   "cell_type": "code",
   "execution_count": 27,
   "id": "fcdb1128-3ddc-4b05-9b2e-7eaf9e79ce6e",
   "metadata": {},
   "outputs": [],
   "source": [
    "root_url = 'https://onlinelibrary.wiley.com'\n",
    "doi_root_url = 'https://doi.org/'\n",
    "article_list_url = 'https://onlinelibrary.wiley.com/toc/15206300/2021/33/'\n",
    "volume = 'Volume 33'\n",
    "area_of_knowledge = 'Biological Sciences'"
   ]
  },
  {
   "cell_type": "code",
   "execution_count": 28,
   "id": "d06239a4-e564-4fa3-87e0-8275c7da463b",
   "metadata": {},
   "outputs": [],
   "source": [
    "start_page = 2\n",
    "end_page = 2"
   ]
  },
  {
   "cell_type": "code",
   "execution_count": 29,
   "id": "0f418e99-cf40-4fe1-be85-550c4a724b93",
   "metadata": {},
   "outputs": [
    {
     "name": "stderr",
     "output_type": "stream",
     "text": [
      "100%|██████████| 1/1 [00:15<00:00, 15.28s/it]\n"
     ]
    }
   ],
   "source": [
    "df_v33i2 = scrape_articles(root_url, doi_root_url, article_list_url, start_page, end_page, volume, area_of_knowledge)"
   ]
  },
  {
   "cell_type": "code",
   "execution_count": 30,
   "id": "53f32d57-a6c3-41fc-844f-ae52d7c60732",
   "metadata": {},
   "outputs": [],
   "source": [
    "start_page = 3\n",
    "end_page = 3"
   ]
  },
  {
   "cell_type": "code",
   "execution_count": 31,
   "id": "bb82654b-1f3c-481d-b473-5750e872a03d",
   "metadata": {},
   "outputs": [
    {
     "name": "stderr",
     "output_type": "stream",
     "text": [
      "100%|██████████| 1/1 [00:14<00:00, 14.61s/it]\n"
     ]
    }
   ],
   "source": [
    "df_v33i3 = scrape_articles(root_url, doi_root_url, article_list_url, start_page, end_page, volume, area_of_knowledge)"
   ]
  },
  {
   "cell_type": "code",
   "execution_count": 32,
   "id": "995e6487-3fc3-4a32-95eb-8793c480676c",
   "metadata": {},
   "outputs": [],
   "source": [
    "start_page = 4\n",
    "end_page = 4"
   ]
  },
  {
   "cell_type": "code",
   "execution_count": 33,
   "id": "b71cbb11-caf9-44e7-aca8-2cb38be75c63",
   "metadata": {},
   "outputs": [
    {
     "name": "stderr",
     "output_type": "stream",
     "text": [
      "100%|██████████| 1/1 [00:15<00:00, 15.18s/it]\n"
     ]
    }
   ],
   "source": [
    "df_v33i4 = scrape_articles(root_url, doi_root_url, article_list_url, start_page, end_page, volume, area_of_knowledge)"
   ]
  },
  {
   "cell_type": "code",
   "execution_count": 34,
   "id": "cb384499-0fc1-4560-8b00-035cce86fdd4",
   "metadata": {},
   "outputs": [],
   "source": [
    "start_page = 5\n",
    "end_page = 5"
   ]
  },
  {
   "cell_type": "code",
   "execution_count": 35,
   "id": "65dc9c8a-a898-42dd-a8e7-4158ad57620d",
   "metadata": {},
   "outputs": [
    {
     "name": "stderr",
     "output_type": "stream",
     "text": [
      "100%|██████████| 1/1 [00:13<00:00, 13.59s/it]\n"
     ]
    }
   ],
   "source": [
    "df_v33i5 = scrape_articles(root_url, doi_root_url, article_list_url, start_page, end_page, volume, area_of_knowledge)"
   ]
  },
  {
   "cell_type": "code",
   "execution_count": 36,
   "id": "2120b13e-fc92-40c2-afd3-d0b06a888dc7",
   "metadata": {},
   "outputs": [],
   "source": [
    "start_page = 6\n",
    "end_page = 6"
   ]
  },
  {
   "cell_type": "code",
   "execution_count": 37,
   "id": "433f6dbc-8c06-4ca0-a127-4a4a392318ad",
   "metadata": {},
   "outputs": [
    {
     "name": "stderr",
     "output_type": "stream",
     "text": [
      "100%|██████████| 1/1 [00:13<00:00, 13.78s/it]\n"
     ]
    }
   ],
   "source": [
    "df_v33i6 = scrape_articles(root_url, doi_root_url, article_list_url, start_page, end_page, volume, area_of_knowledge)"
   ]
  },
  {
   "cell_type": "markdown",
   "id": "24522056-5f77-4a78-917c-10405f8d5d57",
   "metadata": {},
   "source": [
    "##### Volume 34 (Issue 1; Issue S1; Issue 2; Issue S2; Issue 3; Issue 4; Issue 5; Issue 6; Issue 7; Issue 8; Issue 9; Issue 10; Issue 11; Issue 12)"
   ]
  },
  {
   "cell_type": "code",
   "execution_count": 38,
   "id": "ed636d3a-6ecf-4638-b567-24dcb0cd2cf9",
   "metadata": {},
   "outputs": [],
   "source": [
    "root_url = 'https://onlinelibrary.wiley.com'\n",
    "doi_root_url = 'https://doi.org/'\n",
    "article_list_url = 'https://onlinelibrary.wiley.com/toc/15206300/2022/34/'\n",
    "volume = 'Volume 34'\n",
    "area_of_knowledge = 'Biological Sciences'"
   ]
  },
  {
   "cell_type": "code",
   "execution_count": 39,
   "id": "05402333-3755-4a11-a652-424f6e02c34f",
   "metadata": {},
   "outputs": [],
   "source": [
    "start_page = 1\n",
    "end_page = 1"
   ]
  },
  {
   "cell_type": "code",
   "execution_count": 40,
   "id": "d8f5da2d-92de-46db-92f5-ef7320e255c6",
   "metadata": {},
   "outputs": [
    {
     "name": "stderr",
     "output_type": "stream",
     "text": [
      "100%|██████████| 1/1 [00:14<00:00, 14.29s/it]\n"
     ]
    }
   ],
   "source": [
    "df_v34i1 = scrape_articles(root_url, doi_root_url, article_list_url, start_page, end_page, volume, area_of_knowledge)"
   ]
  },
  {
   "cell_type": "code",
   "execution_count": 41,
   "id": "6402159d-db1a-492e-b9a9-a33acf16c6ec",
   "metadata": {},
   "outputs": [],
   "source": [
    "root_url = 'https://onlinelibrary.wiley.com'\n",
    "doi_root_url = 'https://doi.org/'\n",
    "article_list_url = 'https://onlinelibrary.wiley.com/toc/15206300/2022/34/S'\n",
    "volume = 'Volume 34'\n",
    "area_of_knowledge = 'Biological Sciences'"
   ]
  },
  {
   "cell_type": "code",
   "execution_count": 42,
   "id": "8a04020f-9ad0-4ea6-b965-07fec0e24197",
   "metadata": {},
   "outputs": [],
   "source": [
    "start_page = 1\n",
    "end_page = 1"
   ]
  },
  {
   "cell_type": "code",
   "execution_count": 43,
   "id": "0aca2fbe-b934-4431-be21-591326f241e5",
   "metadata": {},
   "outputs": [
    {
     "name": "stderr",
     "output_type": "stream",
     "text": [
      "100%|██████████| 1/1 [00:13<00:00, 13.42s/it]\n"
     ]
    }
   ],
   "source": [
    "df_v34is1 = scrape_articles(root_url, doi_root_url, article_list_url, start_page, end_page, volume, area_of_knowledge)"
   ]
  },
  {
   "cell_type": "code",
   "execution_count": 44,
   "id": "aa2902c6-8c2e-4a9a-8459-7ab0abe1d8b2",
   "metadata": {},
   "outputs": [],
   "source": [
    "root_url = 'https://onlinelibrary.wiley.com'\n",
    "doi_root_url = 'https://doi.org/'\n",
    "article_list_url = 'https://onlinelibrary.wiley.com/toc/15206300/2022/34/'\n",
    "volume = 'Volume 34'\n",
    "area_of_knowledge = 'Biological Sciences'"
   ]
  },
  {
   "cell_type": "code",
   "execution_count": 45,
   "id": "47625fcd-b859-4313-a60f-54f6e09c5472",
   "metadata": {},
   "outputs": [],
   "source": [
    "start_page = 2\n",
    "end_page = 2"
   ]
  },
  {
   "cell_type": "code",
   "execution_count": 46,
   "id": "56a4cbc4-fa2b-4cbe-870f-30c75d4052c6",
   "metadata": {},
   "outputs": [
    {
     "name": "stderr",
     "output_type": "stream",
     "text": [
      "100%|██████████| 1/1 [00:16<00:00, 16.83s/it]\n"
     ]
    }
   ],
   "source": [
    "df_v34i2 = scrape_articles(root_url, doi_root_url, article_list_url, start_page, end_page, volume, area_of_knowledge)"
   ]
  },
  {
   "cell_type": "code",
   "execution_count": 47,
   "id": "1054c05d-e9de-4294-9f18-ddd90b4e3eae",
   "metadata": {},
   "outputs": [],
   "source": [
    "root_url = 'https://onlinelibrary.wiley.com'\n",
    "doi_root_url = 'https://doi.org/'\n",
    "article_list_url = 'https://onlinelibrary.wiley.com/toc/15206300/2022/34/S'\n",
    "volume = 'Volume 34'\n",
    "area_of_knowledge = 'Biological Sciences'"
   ]
  },
  {
   "cell_type": "code",
   "execution_count": 48,
   "id": "6d428d35-8ecf-4884-adbd-2a8180ffa3fc",
   "metadata": {},
   "outputs": [],
   "source": [
    "start_page = 2\n",
    "end_page = 2"
   ]
  },
  {
   "cell_type": "code",
   "execution_count": 49,
   "id": "4477a7e1-8619-44a9-9b6c-5cbd7627cadf",
   "metadata": {},
   "outputs": [
    {
     "name": "stderr",
     "output_type": "stream",
     "text": [
      "100%|██████████| 1/1 [00:14<00:00, 14.44s/it]\n"
     ]
    }
   ],
   "source": [
    "df_v34is2 = scrape_articles(root_url, doi_root_url, article_list_url, start_page, end_page, volume, area_of_knowledge)"
   ]
  },
  {
   "cell_type": "code",
   "execution_count": 50,
   "id": "52739ab3-1e68-4786-ab84-24701ce51fde",
   "metadata": {},
   "outputs": [],
   "source": [
    "root_url = 'https://onlinelibrary.wiley.com'\n",
    "doi_root_url = 'https://doi.org/'\n",
    "article_list_url = 'https://onlinelibrary.wiley.com/toc/15206300/2022/34/'\n",
    "volume = 'Volume 34'\n",
    "area_of_knowledge = 'Biological Sciences'"
   ]
  },
  {
   "cell_type": "code",
   "execution_count": 51,
   "id": "5639f76e-8023-4c1a-b189-ed4ed5f2ebb4",
   "metadata": {},
   "outputs": [],
   "source": [
    "start_page = 3\n",
    "end_page = 3"
   ]
  },
  {
   "cell_type": "code",
   "execution_count": 52,
   "id": "d5344f99-e86f-4e69-b296-ec4b04709011",
   "metadata": {},
   "outputs": [
    {
     "name": "stderr",
     "output_type": "stream",
     "text": [
      "100%|██████████| 1/1 [00:18<00:00, 18.07s/it]\n"
     ]
    }
   ],
   "source": [
    "df_v34i3 = scrape_articles(root_url, doi_root_url, article_list_url, start_page, end_page, volume, area_of_knowledge)"
   ]
  },
  {
   "cell_type": "code",
   "execution_count": 53,
   "id": "38d596e9-3960-4d46-9d8f-169d71edf09a",
   "metadata": {},
   "outputs": [],
   "source": [
    "start_page = 4\n",
    "end_page = 4"
   ]
  },
  {
   "cell_type": "code",
   "execution_count": 54,
   "id": "152ceaea-8a28-4d03-a26e-1fce9277f27f",
   "metadata": {},
   "outputs": [
    {
     "name": "stderr",
     "output_type": "stream",
     "text": [
      "100%|██████████| 1/1 [00:14<00:00, 14.16s/it]\n"
     ]
    }
   ],
   "source": [
    "df_v34i4 = scrape_articles(root_url, doi_root_url, article_list_url, start_page, end_page, volume, area_of_knowledge)"
   ]
  },
  {
   "cell_type": "code",
   "execution_count": 55,
   "id": "4e6dcae7-9d1d-4e39-87bc-7c7950b770f6",
   "metadata": {},
   "outputs": [],
   "source": [
    "start_page = 5\n",
    "end_page = 5"
   ]
  },
  {
   "cell_type": "code",
   "execution_count": 56,
   "id": "55997a10-88eb-407e-9ac3-058916945fe5",
   "metadata": {},
   "outputs": [
    {
     "name": "stderr",
     "output_type": "stream",
     "text": [
      "100%|██████████| 1/1 [00:13<00:00, 13.36s/it]\n"
     ]
    }
   ],
   "source": [
    "df_v34i5 = scrape_articles(root_url, doi_root_url, article_list_url, start_page, end_page, volume, area_of_knowledge)"
   ]
  },
  {
   "cell_type": "code",
   "execution_count": 57,
   "id": "21fdacc3-b776-4174-b611-178c17266bc6",
   "metadata": {},
   "outputs": [],
   "source": [
    "start_page = 6\n",
    "end_page = 6"
   ]
  },
  {
   "cell_type": "code",
   "execution_count": 58,
   "id": "1e90625a-02c6-4ad5-aaff-5e5d022a9108",
   "metadata": {},
   "outputs": [
    {
     "name": "stderr",
     "output_type": "stream",
     "text": [
      "100%|██████████| 1/1 [00:15<00:00, 15.32s/it]\n"
     ]
    }
   ],
   "source": [
    "df_v34i6 = scrape_articles(root_url, doi_root_url, article_list_url, start_page, end_page, volume, area_of_knowledge)"
   ]
  },
  {
   "cell_type": "code",
   "execution_count": 59,
   "id": "bd8af110-6f58-4e78-800a-4e95cfa207f6",
   "metadata": {},
   "outputs": [],
   "source": [
    "start_page = 7\n",
    "end_page = 7"
   ]
  },
  {
   "cell_type": "code",
   "execution_count": 60,
   "id": "52463503-f705-4f9e-aa5f-98092d90c3bd",
   "metadata": {},
   "outputs": [
    {
     "name": "stderr",
     "output_type": "stream",
     "text": [
      "100%|██████████| 1/1 [00:13<00:00, 13.21s/it]\n"
     ]
    }
   ],
   "source": [
    "df_v34i7 = scrape_articles(root_url, doi_root_url, article_list_url, start_page, end_page, volume, area_of_knowledge)"
   ]
  },
  {
   "cell_type": "code",
   "execution_count": 61,
   "id": "42b923a3-7d0c-4ce2-8615-f8f3fdba5398",
   "metadata": {},
   "outputs": [],
   "source": [
    "start_page = 8\n",
    "end_page = 8"
   ]
  },
  {
   "cell_type": "code",
   "execution_count": 62,
   "id": "0d929b02-2256-46bc-9649-6ccddb958173",
   "metadata": {},
   "outputs": [
    {
     "name": "stderr",
     "output_type": "stream",
     "text": [
      "100%|██████████| 1/1 [00:12<00:00, 12.86s/it]\n"
     ]
    }
   ],
   "source": [
    "df_v34i8 = scrape_articles(root_url, doi_root_url, article_list_url, start_page, end_page, volume, area_of_knowledge)"
   ]
  },
  {
   "cell_type": "code",
   "execution_count": 63,
   "id": "d36ee0cc-f00d-4e2c-99f0-123a2011dbeb",
   "metadata": {},
   "outputs": [],
   "source": [
    "start_page = 9\n",
    "end_page = 9"
   ]
  },
  {
   "cell_type": "code",
   "execution_count": 64,
   "id": "a62e2fb2-9fb4-47ac-8f23-44ad9478d96c",
   "metadata": {},
   "outputs": [
    {
     "name": "stderr",
     "output_type": "stream",
     "text": [
      "100%|██████████| 1/1 [00:13<00:00, 13.20s/it]\n"
     ]
    }
   ],
   "source": [
    "df_v34i9 = scrape_articles(root_url, doi_root_url, article_list_url, start_page, end_page, volume, area_of_knowledge)"
   ]
  },
  {
   "cell_type": "code",
   "execution_count": 65,
   "id": "a8f1580e-8b5e-4b7a-90c4-0875fcdcc293",
   "metadata": {},
   "outputs": [],
   "source": [
    "start_page = 10\n",
    "end_page = 10"
   ]
  },
  {
   "cell_type": "code",
   "execution_count": 66,
   "id": "09c61d6a-4c7c-40a3-bcff-3f8a7d63cf69",
   "metadata": {},
   "outputs": [
    {
     "name": "stderr",
     "output_type": "stream",
     "text": [
      "100%|██████████| 1/1 [00:12<00:00, 13.00s/it]\n"
     ]
    }
   ],
   "source": [
    "df_v34i10 = scrape_articles(root_url, doi_root_url, article_list_url, start_page, end_page, volume, area_of_knowledge)"
   ]
  },
  {
   "cell_type": "code",
   "execution_count": 67,
   "id": "2c1be0ae-2769-4166-aae5-1c3ec76b6fb5",
   "metadata": {},
   "outputs": [],
   "source": [
    "start_page = 11\n",
    "end_page = 11"
   ]
  },
  {
   "cell_type": "code",
   "execution_count": 68,
   "id": "92a50a95-c136-4c49-b480-d100fcc68ad9",
   "metadata": {},
   "outputs": [
    {
     "name": "stderr",
     "output_type": "stream",
     "text": [
      "100%|██████████| 1/1 [00:15<00:00, 15.29s/it]\n"
     ]
    }
   ],
   "source": [
    "df_v34i11 = scrape_articles(root_url, doi_root_url, article_list_url, start_page, end_page, volume, area_of_knowledge)"
   ]
  },
  {
   "cell_type": "code",
   "execution_count": 69,
   "id": "88206e6d-158c-461a-baef-4d9463ee2034",
   "metadata": {},
   "outputs": [],
   "source": [
    "start_page = 12\n",
    "end_page = 12"
   ]
  },
  {
   "cell_type": "code",
   "execution_count": 70,
   "id": "22906ff5-5e69-49e5-9425-437531960ff0",
   "metadata": {},
   "outputs": [
    {
     "name": "stderr",
     "output_type": "stream",
     "text": [
      "100%|██████████| 1/1 [00:13<00:00, 13.05s/it]\n"
     ]
    }
   ],
   "source": [
    "df_v34i12 = scrape_articles(root_url, doi_root_url, article_list_url, start_page, end_page, volume, area_of_knowledge)"
   ]
  },
  {
   "cell_type": "markdown",
   "id": "01dfdacf-5498-48cf-8d63-7a6d5af04f92",
   "metadata": {},
   "source": [
    "##### Concatenating the DataFrames"
   ]
  },
  {
   "cell_type": "code",
   "execution_count": 71,
   "id": "90903b14-d5c6-4d68-ac25-650e79956176",
   "metadata": {},
   "outputs": [],
   "source": [
    "df_american_journal_human_biology = pd.concat([\n",
    "    df_v32i1, df_v32i2, df_v32is1, df_v32i3, df_v32i4, df_v32i5, df_v32i6,\n",
    "    df_v33i1, df_v33is1, df_v33i2, df_v33i3, df_v33i4, df_v33i5, df_v33i6,\n",
    "    df_v34i1, df_v34is1, df_v34i2, df_v34is2, df_v34i3, df_v34i4, df_v34i5, df_v34i6, df_v34i7, df_v34i8, df_v34i9, df_v34i10, df_v34i11, df_v34i12\n",
    "], ignore_index=True)"
   ]
  },
  {
   "cell_type": "code",
   "execution_count": 72,
   "id": "423e360a-0100-4a8b-b9ec-1d35d3ca1e32",
   "metadata": {},
   "outputs": [],
   "source": [
    "df_american_journal_human_biology['Published'] = pd.to_datetime(\n",
    "    df_american_journal_human_biology['Published'], format='mixed', errors='coerce'\n",
    ")"
   ]
  },
  {
   "cell_type": "code",
   "execution_count": 73,
   "id": "7f92e35c-3032-4ab1-8727-5d11bba6fc24",
   "metadata": {},
   "outputs": [
    {
     "data": {
      "text/plain": [
       "Article Type                 object\n",
       "Title                        object\n",
       "URL                          object\n",
       "Authors                      object\n",
       "Vol/Issue                    object\n",
       "Published            datetime64[ns]\n",
       "DOI                          object\n",
       "Open Access                  object\n",
       "PDF URL                      object\n",
       "Area of Knowledge            object\n",
       "dtype: object"
      ]
     },
     "execution_count": 73,
     "metadata": {},
     "output_type": "execute_result"
    }
   ],
   "source": [
    "df_american_journal_human_biology.dtypes"
   ]
  },
  {
   "cell_type": "markdown",
   "id": "ece6801e-00fb-4f4f-add5-9d686140e47a",
   "metadata": {},
   "source": [
    "##### Selecting the 'Open access' and 'Full text access' articles published before the advent of ChatGPT"
   ]
  },
  {
   "cell_type": "code",
   "execution_count": 74,
   "id": "19fb1bc7-ab9a-4756-bef7-6b80307f9d84",
   "metadata": {},
   "outputs": [
    {
     "data": {
      "text/plain": [
       "array(['Free Access', '', 'Open Access', 'Free to Read'], dtype=object)"
      ]
     },
     "execution_count": 74,
     "metadata": {},
     "output_type": "execute_result"
    }
   ],
   "source": [
    "unique_open_access = df_american_journal_human_biology['Open Access'].dropna().unique()\n",
    "unique_open_access"
   ]
  },
  {
   "cell_type": "code",
   "execution_count": 75,
   "id": "40f8f7b2-fdff-42a3-8a02-6dcf0a7f85ce",
   "metadata": {},
   "outputs": [],
   "source": [
    "df_american_journal_human_biology_open_access = df_american_journal_human_biology[\n",
    "    (df_american_journal_human_biology['Open Access'] == 'Open Access') | \n",
    "    (df_american_journal_human_biology['Open Access'] == 'Free Access')\n",
    "]\n",
    "df_american_journal_human_biology_open_access = df_american_journal_human_biology_open_access[df_american_journal_human_biology_open_access['Published'] <= '2022-11-30']\n",
    "df_american_journal_human_biology_open_access = df_american_journal_human_biology_open_access.reset_index(drop=True)"
   ]
  },
  {
   "cell_type": "markdown",
   "id": "d40fad01-6b7f-4b7a-97aa-e0e434dd6884",
   "metadata": {},
   "source": [
    "#### Retaining only the `Research articles`"
   ]
  },
  {
   "cell_type": "code",
   "execution_count": 76,
   "id": "3f4150c6-1185-447a-afed-1abc7f1dc5bc",
   "metadata": {},
   "outputs": [],
   "source": [
    "df_american_journal_human_biology_open_access = df_american_journal_human_biology_open_access.loc[\n",
    "    ~df_american_journal_human_biology_open_access['Title'].isin(['Issue Information', 'Erratum'])\n",
    "].reset_index(drop=True)"
   ]
  },
  {
   "cell_type": "code",
   "execution_count": 77,
   "id": "5bf04986-e5ac-4b9a-bc76-538fed284f45",
   "metadata": {},
   "outputs": [
    {
     "data": {
      "text/html": [
       "<div>\n",
       "<style scoped>\n",
       "    .dataframe tbody tr th:only-of-type {\n",
       "        vertical-align: middle;\n",
       "    }\n",
       "\n",
       "    .dataframe tbody tr th {\n",
       "        vertical-align: top;\n",
       "    }\n",
       "\n",
       "    .dataframe thead th {\n",
       "        text-align: right;\n",
       "    }\n",
       "</style>\n",
       "<table border=\"1\" class=\"dataframe\">\n",
       "  <thead>\n",
       "    <tr style=\"text-align: right;\">\n",
       "      <th></th>\n",
       "      <th>Article Type</th>\n",
       "      <th>Title</th>\n",
       "      <th>URL</th>\n",
       "      <th>Authors</th>\n",
       "      <th>Vol/Issue</th>\n",
       "      <th>Published</th>\n",
       "      <th>DOI</th>\n",
       "      <th>Open Access</th>\n",
       "      <th>PDF URL</th>\n",
       "      <th>Area of Knowledge</th>\n",
       "    </tr>\n",
       "  </thead>\n",
       "  <tbody>\n",
       "    <tr>\n",
       "      <th>0</th>\n",
       "      <td>Research article</td>\n",
       "      <td>Water &amp; Human Biologyand New Developments for ...</td>\n",
       "      <td>https://onlinelibrary.wiley.com/doi/10.1002/aj...</td>\n",
       "      <td>William R. Leonard</td>\n",
       "      <td>Volume 32, Issue 1</td>\n",
       "      <td>2020-01-09</td>\n",
       "      <td>https://doi.org/10.1002/ajhb.23389</td>\n",
       "      <td>Free Access</td>\n",
       "      <td>https://onlinelibrary.wiley.com/doi/pdf/10.100...</td>\n",
       "      <td>Biological Sciences</td>\n",
       "    </tr>\n",
       "    <tr>\n",
       "      <th>1</th>\n",
       "      <td>Research article</td>\n",
       "      <td>Measuring Human Water Needs</td>\n",
       "      <td>https://onlinelibrary.wiley.com/doi/10.1002/aj...</td>\n",
       "      <td>Amber Wutich, Asher Y. Rosinger, Justin Stoler...</td>\n",
       "      <td>Volume 32, Issue 1</td>\n",
       "      <td>2019-11-08</td>\n",
       "      <td>https://doi.org/10.1002/ajhb.23350</td>\n",
       "      <td>Open Access</td>\n",
       "      <td>https://onlinelibrary.wiley.com/doi/pdf/10.100...</td>\n",
       "      <td>Biological Sciences</td>\n",
       "    </tr>\n",
       "    <tr>\n",
       "      <th>2</th>\n",
       "      <td>Research article</td>\n",
       "      <td>Developmental origins of variability in pelvic...</td>\n",
       "      <td>https://onlinelibrary.wiley.com/doi/10.1002/aj...</td>\n",
       "      <td>Meghan K. Shirley, Tim J. Cole, Owen J. Arthur...</td>\n",
       "      <td>Volume 32, Issue 2</td>\n",
       "      <td>2019-11-22</td>\n",
       "      <td>https://doi.org/10.1002/ajhb.23340</td>\n",
       "      <td>Open Access</td>\n",
       "      <td>https://onlinelibrary.wiley.com/doi/pdf/10.100...</td>\n",
       "      <td>Biological Sciences</td>\n",
       "    </tr>\n",
       "    <tr>\n",
       "      <th>3</th>\n",
       "      <td>Research article</td>\n",
       "      <td>The Xavante Longitudinal Health Study in Brazi...</td>\n",
       "      <td>https://onlinelibrary.wiley.com/doi/10.1002/aj...</td>\n",
       "      <td>James R. Welch, Aline A. Ferreira, Felipe G. T...</td>\n",
       "      <td>Volume 32, Issue 2</td>\n",
       "      <td>2019-10-26</td>\n",
       "      <td>https://doi.org/10.1002/ajhb.23339</td>\n",
       "      <td>Open Access</td>\n",
       "      <td>https://onlinelibrary.wiley.com/doi/pdf/10.100...</td>\n",
       "      <td>Biological Sciences</td>\n",
       "    </tr>\n",
       "    <tr>\n",
       "      <th>4</th>\n",
       "      <td>Research article</td>\n",
       "      <td>Annual Meeting - Human Biology Association</td>\n",
       "      <td>https://onlinelibrary.wiley.com/doi/10.1002/aj...</td>\n",
       "      <td></td>\n",
       "      <td>Volume 32, Issue 1</td>\n",
       "      <td>2020-04-01</td>\n",
       "      <td>https://doi.org/10.1002/ajhb.23407</td>\n",
       "      <td>Free Access</td>\n",
       "      <td>https://onlinelibrary.wiley.com/doi/pdf/10.100...</td>\n",
       "      <td>Biological Sciences</td>\n",
       "    </tr>\n",
       "    <tr>\n",
       "      <th>...</th>\n",
       "      <td>...</td>\n",
       "      <td>...</td>\n",
       "      <td>...</td>\n",
       "      <td>...</td>\n",
       "      <td>...</td>\n",
       "      <td>...</td>\n",
       "      <td>...</td>\n",
       "      <td>...</td>\n",
       "      <td>...</td>\n",
       "      <td>...</td>\n",
       "    </tr>\n",
       "    <tr>\n",
       "      <th>66</th>\n",
       "      <td>Research article</td>\n",
       "      <td>Minimally invasive biomarkers in human and non...</td>\n",
       "      <td>https://onlinelibrary.wiley.com/doi/10.1002/aj...</td>\n",
       "      <td>Samuel S. Urlacher, Elizabeth Y. Kim, Tiffany ...</td>\n",
       "      <td>Volume 34, Issue 11</td>\n",
       "      <td>2022-10-07</td>\n",
       "      <td>https://doi.org/10.1002/ajhb.23811</td>\n",
       "      <td>Open Access</td>\n",
       "      <td>https://onlinelibrary.wiley.com/doi/pdf/10.100...</td>\n",
       "      <td>Biological Sciences</td>\n",
       "    </tr>\n",
       "    <tr>\n",
       "      <th>67</th>\n",
       "      <td>Research article</td>\n",
       "      <td>The utility of dried blood spot measurement of...</td>\n",
       "      <td>https://onlinelibrary.wiley.com/doi/10.1002/aj...</td>\n",
       "      <td>Maureen J. Devlin, Geeta N. Eick, J. Josh Snod...</td>\n",
       "      <td>Volume 34, Issue 11</td>\n",
       "      <td>2022-10-10</td>\n",
       "      <td>https://doi.org/10.1002/ajhb.23816</td>\n",
       "      <td>Open Access</td>\n",
       "      <td>https://onlinelibrary.wiley.com/doi/pdf/10.100...</td>\n",
       "      <td>Biological Sciences</td>\n",
       "    </tr>\n",
       "    <tr>\n",
       "      <th>68</th>\n",
       "      <td>Research article</td>\n",
       "      <td>Water insecurity, self-reported physical healt...</td>\n",
       "      <td>https://onlinelibrary.wiley.com/doi/10.1002/aj...</td>\n",
       "      <td>Paula Skye Tallman, Shalean M. Collins, M. Pia...</td>\n",
       "      <td>Volume 34, Issue 12</td>\n",
       "      <td>2022-09-27</td>\n",
       "      <td>https://doi.org/10.1002/ajhb.23805</td>\n",
       "      <td>Open Access</td>\n",
       "      <td>https://onlinelibrary.wiley.com/doi/pdf/10.100...</td>\n",
       "      <td>Biological Sciences</td>\n",
       "    </tr>\n",
       "    <tr>\n",
       "      <th>69</th>\n",
       "      <td>Research article</td>\n",
       "      <td>Is there a difference in student physical acti...</td>\n",
       "      <td>https://onlinelibrary.wiley.com/doi/10.1002/aj...</td>\n",
       "      <td>Michaela Emily Howells, Katherine L'Amour Wool...</td>\n",
       "      <td>Volume 34, Issue 12</td>\n",
       "      <td>2022-09-16</td>\n",
       "      <td>https://doi.org/10.1002/ajhb.23799</td>\n",
       "      <td>Open Access</td>\n",
       "      <td>https://onlinelibrary.wiley.com/doi/pdf/10.100...</td>\n",
       "      <td>Biological Sciences</td>\n",
       "    </tr>\n",
       "    <tr>\n",
       "      <th>70</th>\n",
       "      <td>Research article</td>\n",
       "      <td>Human milk lactoferrin variation in relation t...</td>\n",
       "      <td>https://onlinelibrary.wiley.com/doi/10.1002/aj...</td>\n",
       "      <td>Masako Fujita, Katherine Wander, Nerli Paredes...</td>\n",
       "      <td>Volume 34, Issue 12</td>\n",
       "      <td>2022-10-01</td>\n",
       "      <td>https://doi.org/10.1002/ajhb.23812</td>\n",
       "      <td>Open Access</td>\n",
       "      <td>https://onlinelibrary.wiley.com/doi/pdf/10.100...</td>\n",
       "      <td>Biological Sciences</td>\n",
       "    </tr>\n",
       "  </tbody>\n",
       "</table>\n",
       "<p>71 rows × 10 columns</p>\n",
       "</div>"
      ],
      "text/plain": [
       "        Article Type                                              Title  \\\n",
       "0   Research article  Water & Human Biologyand New Developments for ...   \n",
       "1   Research article                        Measuring Human Water Needs   \n",
       "2   Research article  Developmental origins of variability in pelvic...   \n",
       "3   Research article  The Xavante Longitudinal Health Study in Brazi...   \n",
       "4   Research article         Annual Meeting - Human Biology Association   \n",
       "..               ...                                                ...   \n",
       "66  Research article  Minimally invasive biomarkers in human and non...   \n",
       "67  Research article  The utility of dried blood spot measurement of...   \n",
       "68  Research article  Water insecurity, self-reported physical healt...   \n",
       "69  Research article  Is there a difference in student physical acti...   \n",
       "70  Research article  Human milk lactoferrin variation in relation t...   \n",
       "\n",
       "                                                  URL  \\\n",
       "0   https://onlinelibrary.wiley.com/doi/10.1002/aj...   \n",
       "1   https://onlinelibrary.wiley.com/doi/10.1002/aj...   \n",
       "2   https://onlinelibrary.wiley.com/doi/10.1002/aj...   \n",
       "3   https://onlinelibrary.wiley.com/doi/10.1002/aj...   \n",
       "4   https://onlinelibrary.wiley.com/doi/10.1002/aj...   \n",
       "..                                                ...   \n",
       "66  https://onlinelibrary.wiley.com/doi/10.1002/aj...   \n",
       "67  https://onlinelibrary.wiley.com/doi/10.1002/aj...   \n",
       "68  https://onlinelibrary.wiley.com/doi/10.1002/aj...   \n",
       "69  https://onlinelibrary.wiley.com/doi/10.1002/aj...   \n",
       "70  https://onlinelibrary.wiley.com/doi/10.1002/aj...   \n",
       "\n",
       "                                              Authors            Vol/Issue  \\\n",
       "0                                  William R. Leonard   Volume 32, Issue 1   \n",
       "1   Amber Wutich, Asher Y. Rosinger, Justin Stoler...   Volume 32, Issue 1   \n",
       "2   Meghan K. Shirley, Tim J. Cole, Owen J. Arthur...   Volume 32, Issue 2   \n",
       "3   James R. Welch, Aline A. Ferreira, Felipe G. T...   Volume 32, Issue 2   \n",
       "4                                                       Volume 32, Issue 1   \n",
       "..                                                ...                  ...   \n",
       "66  Samuel S. Urlacher, Elizabeth Y. Kim, Tiffany ...  Volume 34, Issue 11   \n",
       "67  Maureen J. Devlin, Geeta N. Eick, J. Josh Snod...  Volume 34, Issue 11   \n",
       "68  Paula Skye Tallman, Shalean M. Collins, M. Pia...  Volume 34, Issue 12   \n",
       "69  Michaela Emily Howells, Katherine L'Amour Wool...  Volume 34, Issue 12   \n",
       "70  Masako Fujita, Katherine Wander, Nerli Paredes...  Volume 34, Issue 12   \n",
       "\n",
       "    Published                                 DOI  Open Access  \\\n",
       "0  2020-01-09  https://doi.org/10.1002/ajhb.23389  Free Access   \n",
       "1  2019-11-08  https://doi.org/10.1002/ajhb.23350  Open Access   \n",
       "2  2019-11-22  https://doi.org/10.1002/ajhb.23340  Open Access   \n",
       "3  2019-10-26  https://doi.org/10.1002/ajhb.23339  Open Access   \n",
       "4  2020-04-01  https://doi.org/10.1002/ajhb.23407  Free Access   \n",
       "..        ...                                 ...          ...   \n",
       "66 2022-10-07  https://doi.org/10.1002/ajhb.23811  Open Access   \n",
       "67 2022-10-10  https://doi.org/10.1002/ajhb.23816  Open Access   \n",
       "68 2022-09-27  https://doi.org/10.1002/ajhb.23805  Open Access   \n",
       "69 2022-09-16  https://doi.org/10.1002/ajhb.23799  Open Access   \n",
       "70 2022-10-01  https://doi.org/10.1002/ajhb.23812  Open Access   \n",
       "\n",
       "                                              PDF URL    Area of Knowledge  \n",
       "0   https://onlinelibrary.wiley.com/doi/pdf/10.100...  Biological Sciences  \n",
       "1   https://onlinelibrary.wiley.com/doi/pdf/10.100...  Biological Sciences  \n",
       "2   https://onlinelibrary.wiley.com/doi/pdf/10.100...  Biological Sciences  \n",
       "3   https://onlinelibrary.wiley.com/doi/pdf/10.100...  Biological Sciences  \n",
       "4   https://onlinelibrary.wiley.com/doi/pdf/10.100...  Biological Sciences  \n",
       "..                                                ...                  ...  \n",
       "66  https://onlinelibrary.wiley.com/doi/pdf/10.100...  Biological Sciences  \n",
       "67  https://onlinelibrary.wiley.com/doi/pdf/10.100...  Biological Sciences  \n",
       "68  https://onlinelibrary.wiley.com/doi/pdf/10.100...  Biological Sciences  \n",
       "69  https://onlinelibrary.wiley.com/doi/pdf/10.100...  Biological Sciences  \n",
       "70  https://onlinelibrary.wiley.com/doi/pdf/10.100...  Biological Sciences  \n",
       "\n",
       "[71 rows x 10 columns]"
      ]
     },
     "execution_count": 77,
     "metadata": {},
     "output_type": "execute_result"
    }
   ],
   "source": [
    "df_american_journal_human_biology_open_access"
   ]
  },
  {
   "cell_type": "markdown",
   "id": "29a47931-2f5c-47f7-ad70-4797dc222987",
   "metadata": {},
   "source": [
    "#### Inspecting a few articles"
   ]
  },
  {
   "cell_type": "markdown",
   "id": "80b50f3f-282f-429d-9616-00305f72d4f1",
   "metadata": {},
   "source": [
    "**Attention**: Some of the documents might in fact be `Editorials` rather than `Research articles`. Extra refinement is recommended when using the dataset."
   ]
  },
  {
   "cell_type": "code",
   "execution_count": 78,
   "id": "74af4ea7-1963-46a4-a6db-13fda2b576e3",
   "metadata": {},
   "outputs": [
    {
     "data": {
      "text/plain": [
       "'https://onlinelibrary.wiley.com/doi/10.1002/ajhb.23389'"
      ]
     },
     "execution_count": 78,
     "metadata": {},
     "output_type": "execute_result"
    }
   ],
   "source": [
    "df_american_journal_human_biology_open_access.at[0, 'URL']"
   ]
  },
  {
   "cell_type": "markdown",
   "id": "3185ebfa-3292-4663-80b7-f914612ee047",
   "metadata": {},
   "source": [
    "#### Exporting to a file"
   ]
  },
  {
   "cell_type": "code",
   "execution_count": 79,
   "id": "b7f78fd4-569b-44d2-8426-3b50faf8966a",
   "metadata": {},
   "outputs": [],
   "source": [
    "df_american_journal_human_biology_open_access.to_json(f\"{output_directory}/american_journal_human_biology_open_access.jsonl\", orient='records', lines=True)"
   ]
  },
  {
   "cell_type": "markdown",
   "id": "b5d54919-de3b-4cde-bdbe-d54cdc92052a",
   "metadata": {},
   "source": [
    "### Scraping [Nature Reviews Molecular Cell Biology](https://www.nature.com/nrm/)"
   ]
  },
  {
   "cell_type": "markdown",
   "id": "cf6db6fa-808a-438a-a400-b53992c71006",
   "metadata": {},
   "source": [
    "This journal had no 'Open Access' articles at the time of data collection."
   ]
  },
  {
   "cell_type": "markdown",
   "id": "2a0ab665-4d38-422d-ac26-0d4686121f3b",
   "metadata": {},
   "source": [
    "## Engineering"
   ]
  },
  {
   "cell_type": "markdown",
   "id": "0479d7ae-4790-42b1-b91a-4615dd12e5d5",
   "metadata": {},
   "source": [
    "This discipline has been excluded from the study."
   ]
  },
  {
   "cell_type": "markdown",
   "id": "e6534181-024d-4916-9552-cbd2d3e65708",
   "metadata": {},
   "source": [
    "### Scraping [Advanced Materials](https://onlinelibrary.wiley.com/journal/15214095?msockid=0525cb73d9a76a060b80df20d87e6b4b)"
   ]
  },
  {
   "cell_type": "markdown",
   "id": "57f988fa-5401-4c05-b60f-ff69482fae4e",
   "metadata": {},
   "source": [
    "### Scraping [IEEE Communications Surveys and Tutorials](https://ieeexplore.ieee.org/document/9621329)"
   ]
  },
  {
   "cell_type": "markdown",
   "id": "f1060e0d-ff39-4d2f-9ab3-cf480396fc5d",
   "metadata": {},
   "source": [
    "### Scraping [IEEE Transactions on Robotics](https://ieeexplore.ieee.org/xpl/RecentIssue.jsp?punumber=8860)"
   ]
  },
  {
   "cell_type": "markdown",
   "id": "679f615c-1a71-44fe-bfd0-baa7b02f0ca8",
   "metadata": {},
   "source": [
    "### Scraping [Nature Materials](https://www.nature.com/nmat/)"
   ]
  },
  {
   "cell_type": "markdown",
   "id": "0694d656-3b48-4539-b1ca-92626c11c23a",
   "metadata": {},
   "source": [
    "#### Scraping the articles"
   ]
  },
  {
   "cell_type": "code",
   "execution_count": 17,
   "id": "a6009be5-4c25-4171-b1af-2584aacad175",
   "metadata": {},
   "outputs": [],
   "source": [
    "root_url = 'https://www.nature.com'\n",
    "article_list_url = 'https://www.nature.com/nmat/research-articles?searchType=journalSearch&sort=PubDate&page='\n",
    "start_page = 1\n",
    "end_page = 156\n",
    "area_of_knowledge = 'Engineering'"
   ]
  },
  {
   "cell_type": "code",
   "execution_count": 18,
   "id": "cd159d04-c625-4643-a64c-ae8f5b1b330b",
   "metadata": {},
   "outputs": [
    {
     "name": "stderr",
     "output_type": "stream",
     "text": [
      "100%|██████████| 156/156 [04:08<00:00,  1.60s/it]\n"
     ]
    }
   ],
   "source": [
    "# Initialize an empty list to store the data\n",
    "data = []\n",
    "\n",
    "# Iterating through the URLs and using 'tqdm' for progress tracking in the range loop\n",
    "for i in tqdm(range(start_page, end_page + 1)):\n",
    "    url = f\"{article_list_url}{i}\"\n",
    "    response = requests.get(url)\n",
    "    soup = BeautifulSoup(response.content, 'lxml')\n",
    "\n",
    "    # Finding all <article> elements with the class 'u-full-height c-card c-card--flush'\n",
    "    articles = soup.find_all('article', class_='u-full-height c-card c-card--flush')\n",
    "\n",
    "    for article in articles:\n",
    "        # Extracting the title\n",
    "        title_tag = article.find('h3', class_='c-card__title').find('a')\n",
    "        title = title_tag.get_text(strip=True) if title_tag else ''\n",
    "        title_url = f\"{root_url}{title_tag.get('href')}\" if title_tag else ''\n",
    "\n",
    "        # Extracting the authors\n",
    "        author_tags = article.find_all('li', itemprop='creator')\n",
    "        authors = ', '.join(author.get_text(strip=True) for author in author_tags)\n",
    "\n",
    "        # Extracting the published date\n",
    "        date_tag = article.find('time')\n",
    "        date_published = date_tag['datetime'] if date_tag else ''\n",
    "\n",
    "        # Extracting the PDF URL\n",
    "        pdf_url = f\"{title_url}.pdf\" if title_url else ''\n",
    "\n",
    "        # Extracting the 'Open Access' label\n",
    "        open_access_tag = article.find('span', class_='u-color-open-access')\n",
    "        open_access = open_access_tag.get_text(strip=True) if open_access_tag else ''\n",
    "\n",
    "        # Appending the data to the list\n",
    "        data.append({\n",
    "            'Title': title,\n",
    "            'URL': title_url,\n",
    "            'Authors (compact list)': authors,\n",
    "            'Published': date_published,\n",
    "            'PDF URL': pdf_url,\n",
    "            'Open Access': open_access,\n",
    "            'Area of Knowledge': area_of_knowledge\n",
    "        })\n",
    "\n",
    "# Creating a DataFrame from the data\n",
    "df_nature_materials = pd.DataFrame(data)"
   ]
  },
  {
   "cell_type": "code",
   "execution_count": 19,
   "id": "19b70e45-9364-4ab7-b458-b31f21f429d5",
   "metadata": {},
   "outputs": [
    {
     "data": {
      "text/html": [
       "<div>\n",
       "<style scoped>\n",
       "    .dataframe tbody tr th:only-of-type {\n",
       "        vertical-align: middle;\n",
       "    }\n",
       "\n",
       "    .dataframe tbody tr th {\n",
       "        vertical-align: top;\n",
       "    }\n",
       "\n",
       "    .dataframe thead th {\n",
       "        text-align: right;\n",
       "    }\n",
       "</style>\n",
       "<table border=\"1\" class=\"dataframe\">\n",
       "  <thead>\n",
       "    <tr style=\"text-align: right;\">\n",
       "      <th></th>\n",
       "      <th>Title</th>\n",
       "      <th>URL</th>\n",
       "      <th>Authors (compact list)</th>\n",
       "      <th>Published</th>\n",
       "      <th>PDF URL</th>\n",
       "      <th>Open Access</th>\n",
       "      <th>Area of Knowledge</th>\n",
       "    </tr>\n",
       "  </thead>\n",
       "  <tbody>\n",
       "    <tr>\n",
       "      <th>0</th>\n",
       "      <td>Spin switching in Sm0.7Er0.3FeO3triggered by t...</td>\n",
       "      <td>https://www.nature.com/articles/s41563-024-020...</td>\n",
       "      <td>Zhenya Zhang, Minoru Kanega, Hideki Hirori</td>\n",
       "      <td>2024-10-25</td>\n",
       "      <td>https://www.nature.com/articles/s41563-024-020...</td>\n",
       "      <td></td>\n",
       "      <td>Engineering</td>\n",
       "    </tr>\n",
       "    <tr>\n",
       "      <th>1</th>\n",
       "      <td>Formation, chemical evolution and solidificati...</td>\n",
       "      <td>https://www.nature.com/articles/s41563-024-020...</td>\n",
       "      <td>Biao Jin, Ying Chen, James J. De Yoreo</td>\n",
       "      <td>2024-10-24</td>\n",
       "      <td>https://www.nature.com/articles/s41563-024-020...</td>\n",
       "      <td></td>\n",
       "      <td>Engineering</td>\n",
       "    </tr>\n",
       "    <tr>\n",
       "      <th>2</th>\n",
       "      <td>Antagonistic-contracting high-power photo-osci...</td>\n",
       "      <td>https://www.nature.com/articles/s41563-024-020...</td>\n",
       "      <td>Yusen Zhao, Zixiao Liu, Ximin He</td>\n",
       "      <td>2024-10-24</td>\n",
       "      <td>https://www.nature.com/articles/s41563-024-020...</td>\n",
       "      <td></td>\n",
       "      <td>Engineering</td>\n",
       "    </tr>\n",
       "    <tr>\n",
       "      <th>3</th>\n",
       "      <td>Obtaining V2(PO4)3by sodium extraction from si...</td>\n",
       "      <td>https://www.nature.com/articles/s41563-024-020...</td>\n",
       "      <td>Sunkyu Park, Ziliang Wang, Christian Masquelier</td>\n",
       "      <td>2024-10-23</td>\n",
       "      <td>https://www.nature.com/articles/s41563-024-020...</td>\n",
       "      <td></td>\n",
       "      <td>Engineering</td>\n",
       "    </tr>\n",
       "    <tr>\n",
       "      <th>4</th>\n",
       "      <td>Coherent optical spin Hall transport for polar...</td>\n",
       "      <td>https://www.nature.com/articles/s41563-024-020...</td>\n",
       "      <td>Ying Shi, Yusong Gan, Qihua Xiong</td>\n",
       "      <td>2024-10-22</td>\n",
       "      <td>https://www.nature.com/articles/s41563-024-020...</td>\n",
       "      <td></td>\n",
       "      <td>Engineering</td>\n",
       "    </tr>\n",
       "    <tr>\n",
       "      <th>...</th>\n",
       "      <td>...</td>\n",
       "      <td>...</td>\n",
       "      <td>...</td>\n",
       "      <td>...</td>\n",
       "      <td>...</td>\n",
       "      <td>...</td>\n",
       "      <td>...</td>\n",
       "    </tr>\n",
       "    <tr>\n",
       "      <th>3101</th>\n",
       "      <td>Bridge-mediated hopping or superexchange elect...</td>\n",
       "      <td>https://www.nature.com/articles/nmat706</td>\n",
       "      <td>Christoph Lambert, Gilbert Nöll, Jürgen Schelter</td>\n",
       "      <td>2002-09-02</td>\n",
       "      <td>https://www.nature.com/articles/nmat706.pdf</td>\n",
       "      <td></td>\n",
       "      <td>Engineering</td>\n",
       "    </tr>\n",
       "    <tr>\n",
       "      <th>3102</th>\n",
       "      <td>Polymer-stabilized liquid crystal blue phases</td>\n",
       "      <td>https://www.nature.com/articles/nmat712</td>\n",
       "      <td>Hirotsugu Kikuchi, Masayuki Yokota, Tisato Kaj...</td>\n",
       "      <td>2002-09-02</td>\n",
       "      <td>https://www.nature.com/articles/nmat712.pdf</td>\n",
       "      <td></td>\n",
       "      <td>Engineering</td>\n",
       "    </tr>\n",
       "    <tr>\n",
       "      <th>3103</th>\n",
       "      <td>Closed-loop phase behaviour in block copolymers</td>\n",
       "      <td>https://www.nature.com/articles/nmat724</td>\n",
       "      <td>Du Yeol Ryu, Unyong Jeong, Thomas P. Russell</td>\n",
       "      <td>2002-09-02</td>\n",
       "      <td>https://www.nature.com/articles/nmat724.pdf</td>\n",
       "      <td></td>\n",
       "      <td>Engineering</td>\n",
       "    </tr>\n",
       "    <tr>\n",
       "      <th>3104</th>\n",
       "      <td>In situepitaxial MgB2thin films for supercondu...</td>\n",
       "      <td>https://www.nature.com/articles/nmat703</td>\n",
       "      <td>Xianghui Zeng, Alexej V. Pogrebnyakov, Zi-Kui Liu</td>\n",
       "      <td>2002-09-02</td>\n",
       "      <td>https://www.nature.com/articles/nmat703.pdf</td>\n",
       "      <td></td>\n",
       "      <td>Engineering</td>\n",
       "    </tr>\n",
       "    <tr>\n",
       "      <th>3105</th>\n",
       "      <td>Design and properties of co-continuous nanostr...</td>\n",
       "      <td>https://www.nature.com/articles/nmat711</td>\n",
       "      <td>Helene Pernot, Martin Baumert, Ludwik Leibler</td>\n",
       "      <td>2002-09-02</td>\n",
       "      <td>https://www.nature.com/articles/nmat711.pdf</td>\n",
       "      <td></td>\n",
       "      <td>Engineering</td>\n",
       "    </tr>\n",
       "  </tbody>\n",
       "</table>\n",
       "<p>3106 rows × 7 columns</p>\n",
       "</div>"
      ],
      "text/plain": [
       "                                                  Title  \\\n",
       "0     Spin switching in Sm0.7Er0.3FeO3triggered by t...   \n",
       "1     Formation, chemical evolution and solidificati...   \n",
       "2     Antagonistic-contracting high-power photo-osci...   \n",
       "3     Obtaining V2(PO4)3by sodium extraction from si...   \n",
       "4     Coherent optical spin Hall transport for polar...   \n",
       "...                                                 ...   \n",
       "3101  Bridge-mediated hopping or superexchange elect...   \n",
       "3102      Polymer-stabilized liquid crystal blue phases   \n",
       "3103    Closed-loop phase behaviour in block copolymers   \n",
       "3104  In situepitaxial MgB2thin films for supercondu...   \n",
       "3105  Design and properties of co-continuous nanostr...   \n",
       "\n",
       "                                                    URL  \\\n",
       "0     https://www.nature.com/articles/s41563-024-020...   \n",
       "1     https://www.nature.com/articles/s41563-024-020...   \n",
       "2     https://www.nature.com/articles/s41563-024-020...   \n",
       "3     https://www.nature.com/articles/s41563-024-020...   \n",
       "4     https://www.nature.com/articles/s41563-024-020...   \n",
       "...                                                 ...   \n",
       "3101            https://www.nature.com/articles/nmat706   \n",
       "3102            https://www.nature.com/articles/nmat712   \n",
       "3103            https://www.nature.com/articles/nmat724   \n",
       "3104            https://www.nature.com/articles/nmat703   \n",
       "3105            https://www.nature.com/articles/nmat711   \n",
       "\n",
       "                                 Authors (compact list)  Published  \\\n",
       "0            Zhenya Zhang, Minoru Kanega, Hideki Hirori 2024-10-25   \n",
       "1                Biao Jin, Ying Chen, James J. De Yoreo 2024-10-24   \n",
       "2                      Yusen Zhao, Zixiao Liu, Ximin He 2024-10-24   \n",
       "3       Sunkyu Park, Ziliang Wang, Christian Masquelier 2024-10-23   \n",
       "4                     Ying Shi, Yusong Gan, Qihua Xiong 2024-10-22   \n",
       "...                                                 ...        ...   \n",
       "3101   Christoph Lambert, Gilbert Nöll, Jürgen Schelter 2002-09-02   \n",
       "3102  Hirotsugu Kikuchi, Masayuki Yokota, Tisato Kaj... 2002-09-02   \n",
       "3103       Du Yeol Ryu, Unyong Jeong, Thomas P. Russell 2002-09-02   \n",
       "3104  Xianghui Zeng, Alexej V. Pogrebnyakov, Zi-Kui Liu 2002-09-02   \n",
       "3105      Helene Pernot, Martin Baumert, Ludwik Leibler 2002-09-02   \n",
       "\n",
       "                                                PDF URL Open Access  \\\n",
       "0     https://www.nature.com/articles/s41563-024-020...               \n",
       "1     https://www.nature.com/articles/s41563-024-020...               \n",
       "2     https://www.nature.com/articles/s41563-024-020...               \n",
       "3     https://www.nature.com/articles/s41563-024-020...               \n",
       "4     https://www.nature.com/articles/s41563-024-020...               \n",
       "...                                                 ...         ...   \n",
       "3101        https://www.nature.com/articles/nmat706.pdf               \n",
       "3102        https://www.nature.com/articles/nmat712.pdf               \n",
       "3103        https://www.nature.com/articles/nmat724.pdf               \n",
       "3104        https://www.nature.com/articles/nmat703.pdf               \n",
       "3105        https://www.nature.com/articles/nmat711.pdf               \n",
       "\n",
       "     Area of Knowledge  \n",
       "0          Engineering  \n",
       "1          Engineering  \n",
       "2          Engineering  \n",
       "3          Engineering  \n",
       "4          Engineering  \n",
       "...                ...  \n",
       "3101       Engineering  \n",
       "3102       Engineering  \n",
       "3103       Engineering  \n",
       "3104       Engineering  \n",
       "3105       Engineering  \n",
       "\n",
       "[3106 rows x 7 columns]"
      ]
     },
     "execution_count": 19,
     "metadata": {},
     "output_type": "execute_result"
    }
   ],
   "source": [
    "df_nature_materials['Published'] = pd.to_datetime(df_nature_materials['Published'])\n",
    "df_nature_materials"
   ]
  },
  {
   "cell_type": "markdown",
   "id": "c50b0a43-f074-415c-84fd-517fd0a23464",
   "metadata": {},
   "source": [
    "#### Selecting the 'Open Access' articles published before the advent of ChatGPT"
   ]
  },
  {
   "cell_type": "markdown",
   "id": "66dc8e00-bebc-45a2-a987-e66da7af56af",
   "metadata": {},
   "source": [
    "ChatGPT was released by OpenAI on November 30, 2022."
   ]
  },
  {
   "cell_type": "code",
   "execution_count": 20,
   "id": "65cb4dd2-a53e-413c-84dd-562448658b2e",
   "metadata": {},
   "outputs": [
    {
     "data": {
      "text/html": [
       "<div>\n",
       "<style scoped>\n",
       "    .dataframe tbody tr th:only-of-type {\n",
       "        vertical-align: middle;\n",
       "    }\n",
       "\n",
       "    .dataframe tbody tr th {\n",
       "        vertical-align: top;\n",
       "    }\n",
       "\n",
       "    .dataframe thead th {\n",
       "        text-align: right;\n",
       "    }\n",
       "</style>\n",
       "<table border=\"1\" class=\"dataframe\">\n",
       "  <thead>\n",
       "    <tr style=\"text-align: right;\">\n",
       "      <th></th>\n",
       "      <th>Title</th>\n",
       "      <th>URL</th>\n",
       "      <th>Authors (compact list)</th>\n",
       "      <th>Published</th>\n",
       "      <th>PDF URL</th>\n",
       "      <th>Open Access</th>\n",
       "      <th>Area of Knowledge</th>\n",
       "    </tr>\n",
       "  </thead>\n",
       "  <tbody>\n",
       "    <tr>\n",
       "      <th>0</th>\n",
       "      <td>Exchange controlled triplet fusion in metal–or...</td>\n",
       "      <td>https://www.nature.com/articles/s41563-022-013...</td>\n",
       "      <td>Dong-Gwang Ha, Ruomeng Wan, Mircea Dincă</td>\n",
       "      <td>2022-10-06</td>\n",
       "      <td>https://www.nature.com/articles/s41563-022-013...</td>\n",
       "      <td>Open Access</td>\n",
       "      <td>Engineering</td>\n",
       "    </tr>\n",
       "    <tr>\n",
       "      <th>1</th>\n",
       "      <td>Robust cholesteric liquid crystal elastomer fi...</td>\n",
       "      <td>https://www.nature.com/articles/s41563-022-013...</td>\n",
       "      <td>Yong Geng, Rijeesh Kizhakidathazhath, Jan P. F...</td>\n",
       "      <td>2022-09-29</td>\n",
       "      <td>https://www.nature.com/articles/s41563-022-013...</td>\n",
       "      <td>Open Access</td>\n",
       "      <td>Engineering</td>\n",
       "    </tr>\n",
       "    <tr>\n",
       "      <th>2</th>\n",
       "      <td>Giant voltage amplification from electrostatic...</td>\n",
       "      <td>https://www.nature.com/articles/s41563-022-013...</td>\n",
       "      <td>Mónica Graf, Hugo Aramberri, Jorge Íñiguez</td>\n",
       "      <td>2022-08-25</td>\n",
       "      <td>https://www.nature.com/articles/s41563-022-013...</td>\n",
       "      <td>Open Access</td>\n",
       "      <td>Engineering</td>\n",
       "    </tr>\n",
       "    <tr>\n",
       "      <th>3</th>\n",
       "      <td>Cell clusters softening triggers collective ce...</td>\n",
       "      <td>https://www.nature.com/articles/s41563-022-013...</td>\n",
       "      <td>Cristian L. Marchant, Abdul N. Malmi-Kakkada, ...</td>\n",
       "      <td>2022-08-15</td>\n",
       "      <td>https://www.nature.com/articles/s41563-022-013...</td>\n",
       "      <td>Open Access</td>\n",
       "      <td>Engineering</td>\n",
       "    </tr>\n",
       "    <tr>\n",
       "      <th>4</th>\n",
       "      <td>Unconventional excitonic states with phonon si...</td>\n",
       "      <td>https://www.nature.com/articles/s41563-022-012...</td>\n",
       "      <td>Ling Zhou, Junwei Huang, Hongtao Yuan</td>\n",
       "      <td>2022-06-16</td>\n",
       "      <td>https://www.nature.com/articles/s41563-022-012...</td>\n",
       "      <td>Open Access</td>\n",
       "      <td>Engineering</td>\n",
       "    </tr>\n",
       "    <tr>\n",
       "      <th>5</th>\n",
       "      <td>Programmable gear-based mechanical metamaterials</td>\n",
       "      <td>https://www.nature.com/articles/s41563-022-012...</td>\n",
       "      <td>Xin Fang, Jihong Wen, Peter Gumbsch</td>\n",
       "      <td>2022-06-09</td>\n",
       "      <td>https://www.nature.com/articles/s41563-022-012...</td>\n",
       "      <td>Open Access</td>\n",
       "      <td>Engineering</td>\n",
       "    </tr>\n",
       "    <tr>\n",
       "      <th>6</th>\n",
       "      <td>3D printed protein-based robotic structures ac...</td>\n",
       "      <td>https://www.nature.com/articles/s41563-022-012...</td>\n",
       "      <td>Haiyang Jia, Johannes Flommersfeld, Petra Schw...</td>\n",
       "      <td>2022-05-26</td>\n",
       "      <td>https://www.nature.com/articles/s41563-022-012...</td>\n",
       "      <td>Open Access</td>\n",
       "      <td>Engineering</td>\n",
       "    </tr>\n",
       "    <tr>\n",
       "      <th>7</th>\n",
       "      <td>STING agonist delivery by tumour-penetrating P...</td>\n",
       "      <td>https://www.nature.com/articles/s41563-022-012...</td>\n",
       "      <td>Eric L. Dane, Alexis Belessiotis-Richards, Dar...</td>\n",
       "      <td>2022-05-23</td>\n",
       "      <td>https://www.nature.com/articles/s41563-022-012...</td>\n",
       "      <td>Open Access</td>\n",
       "      <td>Engineering</td>\n",
       "    </tr>\n",
       "    <tr>\n",
       "      <th>8</th>\n",
       "      <td>Trace removal of benzene vapour using double-w...</td>\n",
       "      <td>https://www.nature.com/articles/s41563-022-012...</td>\n",
       "      <td>Tao He, Xiang-Jing Kong, Jian-Rong Li</td>\n",
       "      <td>2022-04-28</td>\n",
       "      <td>https://www.nature.com/articles/s41563-022-012...</td>\n",
       "      <td>Open Access</td>\n",
       "      <td>Engineering</td>\n",
       "    </tr>\n",
       "    <tr>\n",
       "      <th>9</th>\n",
       "      <td>Superconductivity in (Ba,K)SbO3</td>\n",
       "      <td>https://www.nature.com/articles/s41563-022-012...</td>\n",
       "      <td>Minu Kim, Graham M. McNally, Hidenori Takagi</td>\n",
       "      <td>2022-02-28</td>\n",
       "      <td>https://www.nature.com/articles/s41563-022-012...</td>\n",
       "      <td>Open Access</td>\n",
       "      <td>Engineering</td>\n",
       "    </tr>\n",
       "    <tr>\n",
       "      <th>10</th>\n",
       "      <td>Exchange scaling of ultrafast angular momentum...</td>\n",
       "      <td>https://www.nature.com/articles/s41563-022-012...</td>\n",
       "      <td>Y. W. Windsor, S.-E. Lee, L. Rettig</td>\n",
       "      <td>2022-02-24</td>\n",
       "      <td>https://www.nature.com/articles/s41563-022-012...</td>\n",
       "      <td>Open Access</td>\n",
       "      <td>Engineering</td>\n",
       "    </tr>\n",
       "    <tr>\n",
       "      <th>11</th>\n",
       "      <td>A smart and responsive crystalline porous orga...</td>\n",
       "      <td>https://www.nature.com/articles/s41563-021-011...</td>\n",
       "      <td>Ai He, Zhiwei Jiang, Andrew I. Cooper</td>\n",
       "      <td>2022-01-10</td>\n",
       "      <td>https://www.nature.com/articles/s41563-021-011...</td>\n",
       "      <td>Open Access</td>\n",
       "      <td>Engineering</td>\n",
       "    </tr>\n",
       "    <tr>\n",
       "      <th>12</th>\n",
       "      <td>Giant anomalous Nernst signal in the antiferro...</td>\n",
       "      <td>https://www.nature.com/articles/s41563-021-011...</td>\n",
       "      <td>Yu Pan, Congcong Le, Claudia Felser</td>\n",
       "      <td>2021-11-22</td>\n",
       "      <td>https://www.nature.com/articles/s41563-021-011...</td>\n",
       "      <td>Open Access</td>\n",
       "      <td>Engineering</td>\n",
       "    </tr>\n",
       "    <tr>\n",
       "      <th>13</th>\n",
       "      <td>Long-range supercurrents through a chiral non-...</td>\n",
       "      <td>https://www.nature.com/articles/s41563-021-010...</td>\n",
       "      <td>Kun-Rok Jeon, Binoy Krishna Hazra, Stuart S. P...</td>\n",
       "      <td>2021-08-05</td>\n",
       "      <td>https://www.nature.com/articles/s41563-021-010...</td>\n",
       "      <td>Open Access</td>\n",
       "      <td>Engineering</td>\n",
       "    </tr>\n",
       "    <tr>\n",
       "      <th>14</th>\n",
       "      <td>Polycrystalline SnSe with a thermoelectric fig...</td>\n",
       "      <td>https://www.nature.com/articles/s41563-021-010...</td>\n",
       "      <td>Chongjian Zhou, Yong Kyu Lee, In Chung</td>\n",
       "      <td>2021-08-02</td>\n",
       "      <td>https://www.nature.com/articles/s41563-021-010...</td>\n",
       "      <td>Open Access</td>\n",
       "      <td>Engineering</td>\n",
       "    </tr>\n",
       "    <tr>\n",
       "      <th>15</th>\n",
       "      <td>Chemical heterogeneity enhances hydrogen resis...</td>\n",
       "      <td>https://www.nature.com/articles/s41563-021-010...</td>\n",
       "      <td>Binhan Sun, Wenjun Lu, Dierk Raabe</td>\n",
       "      <td>2021-07-08</td>\n",
       "      <td>https://www.nature.com/articles/s41563-021-010...</td>\n",
       "      <td>Open Access</td>\n",
       "      <td>Engineering</td>\n",
       "    </tr>\n",
       "  </tbody>\n",
       "</table>\n",
       "</div>"
      ],
      "text/plain": [
       "                                                Title  \\\n",
       "0   Exchange controlled triplet fusion in metal–or...   \n",
       "1   Robust cholesteric liquid crystal elastomer fi...   \n",
       "2   Giant voltage amplification from electrostatic...   \n",
       "3   Cell clusters softening triggers collective ce...   \n",
       "4   Unconventional excitonic states with phonon si...   \n",
       "5    Programmable gear-based mechanical metamaterials   \n",
       "6   3D printed protein-based robotic structures ac...   \n",
       "7   STING agonist delivery by tumour-penetrating P...   \n",
       "8   Trace removal of benzene vapour using double-w...   \n",
       "9                     Superconductivity in (Ba,K)SbO3   \n",
       "10  Exchange scaling of ultrafast angular momentum...   \n",
       "11  A smart and responsive crystalline porous orga...   \n",
       "12  Giant anomalous Nernst signal in the antiferro...   \n",
       "13  Long-range supercurrents through a chiral non-...   \n",
       "14  Polycrystalline SnSe with a thermoelectric fig...   \n",
       "15  Chemical heterogeneity enhances hydrogen resis...   \n",
       "\n",
       "                                                  URL  \\\n",
       "0   https://www.nature.com/articles/s41563-022-013...   \n",
       "1   https://www.nature.com/articles/s41563-022-013...   \n",
       "2   https://www.nature.com/articles/s41563-022-013...   \n",
       "3   https://www.nature.com/articles/s41563-022-013...   \n",
       "4   https://www.nature.com/articles/s41563-022-012...   \n",
       "5   https://www.nature.com/articles/s41563-022-012...   \n",
       "6   https://www.nature.com/articles/s41563-022-012...   \n",
       "7   https://www.nature.com/articles/s41563-022-012...   \n",
       "8   https://www.nature.com/articles/s41563-022-012...   \n",
       "9   https://www.nature.com/articles/s41563-022-012...   \n",
       "10  https://www.nature.com/articles/s41563-022-012...   \n",
       "11  https://www.nature.com/articles/s41563-021-011...   \n",
       "12  https://www.nature.com/articles/s41563-021-011...   \n",
       "13  https://www.nature.com/articles/s41563-021-010...   \n",
       "14  https://www.nature.com/articles/s41563-021-010...   \n",
       "15  https://www.nature.com/articles/s41563-021-010...   \n",
       "\n",
       "                               Authors (compact list)  Published  \\\n",
       "0            Dong-Gwang Ha, Ruomeng Wan, Mircea Dincă 2022-10-06   \n",
       "1   Yong Geng, Rijeesh Kizhakidathazhath, Jan P. F... 2022-09-29   \n",
       "2          Mónica Graf, Hugo Aramberri, Jorge Íñiguez 2022-08-25   \n",
       "3   Cristian L. Marchant, Abdul N. Malmi-Kakkada, ... 2022-08-15   \n",
       "4               Ling Zhou, Junwei Huang, Hongtao Yuan 2022-06-16   \n",
       "5                 Xin Fang, Jihong Wen, Peter Gumbsch 2022-06-09   \n",
       "6   Haiyang Jia, Johannes Flommersfeld, Petra Schw... 2022-05-26   \n",
       "7   Eric L. Dane, Alexis Belessiotis-Richards, Dar... 2022-05-23   \n",
       "8               Tao He, Xiang-Jing Kong, Jian-Rong Li 2022-04-28   \n",
       "9        Minu Kim, Graham M. McNally, Hidenori Takagi 2022-02-28   \n",
       "10                Y. W. Windsor, S.-E. Lee, L. Rettig 2022-02-24   \n",
       "11              Ai He, Zhiwei Jiang, Andrew I. Cooper 2022-01-10   \n",
       "12                Yu Pan, Congcong Le, Claudia Felser 2021-11-22   \n",
       "13  Kun-Rok Jeon, Binoy Krishna Hazra, Stuart S. P... 2021-08-05   \n",
       "14             Chongjian Zhou, Yong Kyu Lee, In Chung 2021-08-02   \n",
       "15                 Binhan Sun, Wenjun Lu, Dierk Raabe 2021-07-08   \n",
       "\n",
       "                                              PDF URL  Open Access  \\\n",
       "0   https://www.nature.com/articles/s41563-022-013...  Open Access   \n",
       "1   https://www.nature.com/articles/s41563-022-013...  Open Access   \n",
       "2   https://www.nature.com/articles/s41563-022-013...  Open Access   \n",
       "3   https://www.nature.com/articles/s41563-022-013...  Open Access   \n",
       "4   https://www.nature.com/articles/s41563-022-012...  Open Access   \n",
       "5   https://www.nature.com/articles/s41563-022-012...  Open Access   \n",
       "6   https://www.nature.com/articles/s41563-022-012...  Open Access   \n",
       "7   https://www.nature.com/articles/s41563-022-012...  Open Access   \n",
       "8   https://www.nature.com/articles/s41563-022-012...  Open Access   \n",
       "9   https://www.nature.com/articles/s41563-022-012...  Open Access   \n",
       "10  https://www.nature.com/articles/s41563-022-012...  Open Access   \n",
       "11  https://www.nature.com/articles/s41563-021-011...  Open Access   \n",
       "12  https://www.nature.com/articles/s41563-021-011...  Open Access   \n",
       "13  https://www.nature.com/articles/s41563-021-010...  Open Access   \n",
       "14  https://www.nature.com/articles/s41563-021-010...  Open Access   \n",
       "15  https://www.nature.com/articles/s41563-021-010...  Open Access   \n",
       "\n",
       "   Area of Knowledge  \n",
       "0        Engineering  \n",
       "1        Engineering  \n",
       "2        Engineering  \n",
       "3        Engineering  \n",
       "4        Engineering  \n",
       "5        Engineering  \n",
       "6        Engineering  \n",
       "7        Engineering  \n",
       "8        Engineering  \n",
       "9        Engineering  \n",
       "10       Engineering  \n",
       "11       Engineering  \n",
       "12       Engineering  \n",
       "13       Engineering  \n",
       "14       Engineering  \n",
       "15       Engineering  "
      ]
     },
     "execution_count": 20,
     "metadata": {},
     "output_type": "execute_result"
    }
   ],
   "source": [
    "df_nature_materials_open_access = df_nature_materials[df_nature_materials['Open Access'] == 'Open Access']\n",
    "df_nature_materials_open_access = df_nature_materials_open_access[df_nature_materials_open_access['Published'] <= '2022-11-30']\n",
    "df_nature_materials_open_access = df_nature_materials_open_access.reset_index(drop=True)\n",
    "df_nature_materials_open_access"
   ]
  },
  {
   "cell_type": "markdown",
   "id": "0ee21b6a-784b-43d7-9c5d-06c05652c82a",
   "metadata": {},
   "source": [
    "#### Inspecting a few articles"
   ]
  },
  {
   "cell_type": "code",
   "execution_count": 21,
   "id": "28d69199-c9a1-409d-87a3-e344316ec322",
   "metadata": {},
   "outputs": [
    {
     "data": {
      "text/plain": [
       "'https://www.nature.com/articles/s41563-022-01368-1.pdf'"
      ]
     },
     "execution_count": 21,
     "metadata": {},
     "output_type": "execute_result"
    }
   ],
   "source": [
    "df_nature_materials_open_access.at[0, 'PDF URL']"
   ]
  },
  {
   "cell_type": "markdown",
   "id": "2e6b9eec-370b-4433-b7e8-84df4ceeec89",
   "metadata": {},
   "source": [
    "#### Exporting to a file"
   ]
  },
  {
   "cell_type": "code",
   "execution_count": 22,
   "id": "29c056fc-bb0d-4fb5-86d0-c25cc5785ce6",
   "metadata": {},
   "outputs": [],
   "source": [
    "df_nature_materials_open_access.to_json(f\"{output_directory}/nature_materials_open_access.jsonl\", orient='records', lines=True)"
   ]
  },
  {
   "cell_type": "markdown",
   "id": "473a7fad-a064-43bb-8394-83a036db9126",
   "metadata": {},
   "source": [
    "### Scraping [Nature Nanotechnology](https://www.nature.com/nnano/)"
   ]
  },
  {
   "cell_type": "markdown",
   "id": "1ec8f19b-24fd-4f66-8f19-ced3e56d0293",
   "metadata": {},
   "source": [
    "#### Scraping the articles"
   ]
  },
  {
   "cell_type": "code",
   "execution_count": 23,
   "id": "1a2e2af8-6d02-4ae5-b1be-d677b60bfaaa",
   "metadata": {},
   "outputs": [],
   "source": [
    "root_url = 'https://www.nature.com'\n",
    "article_list_url = 'https://www.nature.com/nnano/research-articles?searchType=journalSearch&sort=PubDate&page='\n",
    "start_page = 1\n",
    "end_page = 115\n",
    "area_of_knowledge = 'Engineering'"
   ]
  },
  {
   "cell_type": "code",
   "execution_count": 24,
   "id": "d1e5f81f-b6b6-494f-921a-59a1d1020ee6",
   "metadata": {},
   "outputs": [
    {
     "name": "stderr",
     "output_type": "stream",
     "text": [
      "100%|██████████| 115/115 [03:01<00:00,  1.57s/it]\n"
     ]
    }
   ],
   "source": [
    "# Initialize an empty list to store the data\n",
    "data = []\n",
    "\n",
    "# Iterating through the URLs and using 'tqdm' for progress tracking in the range loop\n",
    "for i in tqdm(range(start_page, end_page + 1)):\n",
    "    url = f\"{article_list_url}{i}\"\n",
    "    response = requests.get(url)\n",
    "    soup = BeautifulSoup(response.content, 'lxml')\n",
    "\n",
    "    # Finding all <article> elements with the class 'u-full-height c-card c-card--flush'\n",
    "    articles = soup.find_all('article', class_='u-full-height c-card c-card--flush')\n",
    "\n",
    "    for article in articles:\n",
    "        # Extracting the title\n",
    "        title_tag = article.find('h3', class_='c-card__title').find('a')\n",
    "        title = title_tag.get_text(strip=True) if title_tag else ''\n",
    "        title_url = f\"{root_url}{title_tag.get('href')}\" if title_tag else ''\n",
    "\n",
    "        # Extracting the authors\n",
    "        author_tags = article.find_all('li', itemprop='creator')\n",
    "        authors = ', '.join(author.get_text(strip=True) for author in author_tags)\n",
    "\n",
    "        # Extracting the published date\n",
    "        date_tag = article.find('time')\n",
    "        date_published = date_tag['datetime'] if date_tag else ''\n",
    "\n",
    "        # Extracting the PDF URL\n",
    "        pdf_url = f\"{title_url}.pdf\" if title_url else ''\n",
    "\n",
    "        # Extracting the 'Open Access' label\n",
    "        open_access_tag = article.find('span', class_='u-color-open-access')\n",
    "        open_access = open_access_tag.get_text(strip=True) if open_access_tag else ''\n",
    "\n",
    "        # Appending the data to the list\n",
    "        data.append({\n",
    "            'Title': title,\n",
    "            'URL': title_url,\n",
    "            'Authors (compact list)': authors,\n",
    "            'Published': date_published,\n",
    "            'PDF URL': pdf_url,\n",
    "            'Open Access': open_access,\n",
    "            'Area of Knowledge': area_of_knowledge\n",
    "        })\n",
    "\n",
    "# Creating a DataFrame from the data\n",
    "df_nature_nanotechnology = pd.DataFrame(data)"
   ]
  },
  {
   "cell_type": "code",
   "execution_count": 25,
   "id": "47df4f67-b81e-4737-a75c-0ce83b2dcd13",
   "metadata": {},
   "outputs": [
    {
     "data": {
      "text/html": [
       "<div>\n",
       "<style scoped>\n",
       "    .dataframe tbody tr th:only-of-type {\n",
       "        vertical-align: middle;\n",
       "    }\n",
       "\n",
       "    .dataframe tbody tr th {\n",
       "        vertical-align: top;\n",
       "    }\n",
       "\n",
       "    .dataframe thead th {\n",
       "        text-align: right;\n",
       "    }\n",
       "</style>\n",
       "<table border=\"1\" class=\"dataframe\">\n",
       "  <thead>\n",
       "    <tr style=\"text-align: right;\">\n",
       "      <th></th>\n",
       "      <th>Title</th>\n",
       "      <th>URL</th>\n",
       "      <th>Authors (compact list)</th>\n",
       "      <th>Published</th>\n",
       "      <th>PDF URL</th>\n",
       "      <th>Open Access</th>\n",
       "      <th>Area of Knowledge</th>\n",
       "    </tr>\n",
       "  </thead>\n",
       "  <tbody>\n",
       "    <tr>\n",
       "      <th>0</th>\n",
       "      <td>Synthetic syntrophy for adenine nucleotide cro...</td>\n",
       "      <td>https://www.nature.com/articles/s41565-024-018...</td>\n",
       "      <td>Laura Heinen, Marco van den Noort, Bert Poolman</td>\n",
       "      <td>2024-10-21</td>\n",
       "      <td>https://www.nature.com/articles/s41565-024-018...</td>\n",
       "      <td>Open Access</td>\n",
       "      <td>Engineering</td>\n",
       "    </tr>\n",
       "    <tr>\n",
       "      <th>1</th>\n",
       "      <td>Out-of-plane coordination of iridium single at...</td>\n",
       "      <td>https://www.nature.com/articles/s41565-024-018...</td>\n",
       "      <td>Jie Zhao, Yue Guo, Francesco Ciucci</td>\n",
       "      <td>2024-10-21</td>\n",
       "      <td>https://www.nature.com/articles/s41565-024-018...</td>\n",
       "      <td>Open Access</td>\n",
       "      <td>Engineering</td>\n",
       "    </tr>\n",
       "    <tr>\n",
       "      <th>2</th>\n",
       "      <td>Linearly programmable two-dimensional halide p...</td>\n",
       "      <td>https://www.nature.com/articles/s41565-024-017...</td>\n",
       "      <td>Seung Ju Kim, In Hyuk Im, Ho Won Jang</td>\n",
       "      <td>2024-10-18</td>\n",
       "      <td>https://www.nature.com/articles/s41565-024-017...</td>\n",
       "      <td></td>\n",
       "      <td>Engineering</td>\n",
       "    </tr>\n",
       "    <tr>\n",
       "      <th>3</th>\n",
       "      <td>Magnetoelectric nanodiscs enable wireless tran...</td>\n",
       "      <td>https://www.nature.com/articles/s41565-024-017...</td>\n",
       "      <td>Ye Ji Kim, Noah Kent, Polina Anikeeva</td>\n",
       "      <td>2024-10-11</td>\n",
       "      <td>https://www.nature.com/articles/s41565-024-017...</td>\n",
       "      <td>Open Access</td>\n",
       "      <td>Engineering</td>\n",
       "    </tr>\n",
       "    <tr>\n",
       "      <th>4</th>\n",
       "      <td>Rapid precision targeting of nanoparticles to ...</td>\n",
       "      <td>https://www.nature.com/articles/s41565-024-017...</td>\n",
       "      <td>Tapas R. Nayak, Adrian Chrastina, Jan E. Schni...</td>\n",
       "      <td>2024-10-08</td>\n",
       "      <td>https://www.nature.com/articles/s41565-024-017...</td>\n",
       "      <td></td>\n",
       "      <td>Engineering</td>\n",
       "    </tr>\n",
       "    <tr>\n",
       "      <th>...</th>\n",
       "      <td>...</td>\n",
       "      <td>...</td>\n",
       "      <td>...</td>\n",
       "      <td>...</td>\n",
       "      <td>...</td>\n",
       "      <td>...</td>\n",
       "      <td>...</td>\n",
       "    </tr>\n",
       "    <tr>\n",
       "      <th>2280</th>\n",
       "      <td>A nanoplasmonic molecular ruler for measuring ...</td>\n",
       "      <td>https://www.nature.com/articles/nnano.2006.51</td>\n",
       "      <td>Gang L. Liu, Yadong Yin, Fanqing Frank Chen</td>\n",
       "      <td>2006-10-04</td>\n",
       "      <td>https://www.nature.com/articles/nnano.2006.51.pdf</td>\n",
       "      <td></td>\n",
       "      <td>Engineering</td>\n",
       "    </tr>\n",
       "    <tr>\n",
       "      <th>2281</th>\n",
       "      <td>Giant piezoresistance effect in silicon nanowires</td>\n",
       "      <td>https://www.nature.com/articles/nnano.2006.53</td>\n",
       "      <td>Rongrui He, Peidong Yang</td>\n",
       "      <td>2006-10-04</td>\n",
       "      <td>https://www.nature.com/articles/nnano.2006.53.pdf</td>\n",
       "      <td></td>\n",
       "      <td>Engineering</td>\n",
       "    </tr>\n",
       "    <tr>\n",
       "      <th>2282</th>\n",
       "      <td>Digital memory device based on tobacco mosaic ...</td>\n",
       "      <td>https://www.nature.com/articles/nnano.2006.55</td>\n",
       "      <td>Ricky J. Tseng, Chunglin Tsai, Yang Yang</td>\n",
       "      <td>2006-10-04</td>\n",
       "      <td>https://www.nature.com/articles/nnano.2006.55.pdf</td>\n",
       "      <td></td>\n",
       "      <td>Engineering</td>\n",
       "    </tr>\n",
       "    <tr>\n",
       "      <th>2283</th>\n",
       "      <td>Torsional electromechanical quantum oscillatio...</td>\n",
       "      <td>https://www.nature.com/articles/nnano.2006.57</td>\n",
       "      <td>Tzahi Cohen-Karni, Lior Segev, Ernesto Joselevich</td>\n",
       "      <td>2006-10-04</td>\n",
       "      <td>https://www.nature.com/articles/nnano.2006.57.pdf</td>\n",
       "      <td></td>\n",
       "      <td>Engineering</td>\n",
       "    </tr>\n",
       "    <tr>\n",
       "      <th>2284</th>\n",
       "      <td>Carbon nanotube superconducting quantum interf...</td>\n",
       "      <td>https://www.nature.com/articles/nnano.2006.54</td>\n",
       "      <td>J.-P. Cleuziou, W. Wernsdorfer, M. Monthioux</td>\n",
       "      <td>2006-10-04</td>\n",
       "      <td>https://www.nature.com/articles/nnano.2006.54.pdf</td>\n",
       "      <td></td>\n",
       "      <td>Engineering</td>\n",
       "    </tr>\n",
       "  </tbody>\n",
       "</table>\n",
       "<p>2285 rows × 7 columns</p>\n",
       "</div>"
      ],
      "text/plain": [
       "                                                  Title  \\\n",
       "0     Synthetic syntrophy for adenine nucleotide cro...   \n",
       "1     Out-of-plane coordination of iridium single at...   \n",
       "2     Linearly programmable two-dimensional halide p...   \n",
       "3     Magnetoelectric nanodiscs enable wireless tran...   \n",
       "4     Rapid precision targeting of nanoparticles to ...   \n",
       "...                                                 ...   \n",
       "2280  A nanoplasmonic molecular ruler for measuring ...   \n",
       "2281  Giant piezoresistance effect in silicon nanowires   \n",
       "2282  Digital memory device based on tobacco mosaic ...   \n",
       "2283  Torsional electromechanical quantum oscillatio...   \n",
       "2284  Carbon nanotube superconducting quantum interf...   \n",
       "\n",
       "                                                    URL  \\\n",
       "0     https://www.nature.com/articles/s41565-024-018...   \n",
       "1     https://www.nature.com/articles/s41565-024-018...   \n",
       "2     https://www.nature.com/articles/s41565-024-017...   \n",
       "3     https://www.nature.com/articles/s41565-024-017...   \n",
       "4     https://www.nature.com/articles/s41565-024-017...   \n",
       "...                                                 ...   \n",
       "2280      https://www.nature.com/articles/nnano.2006.51   \n",
       "2281      https://www.nature.com/articles/nnano.2006.53   \n",
       "2282      https://www.nature.com/articles/nnano.2006.55   \n",
       "2283      https://www.nature.com/articles/nnano.2006.57   \n",
       "2284      https://www.nature.com/articles/nnano.2006.54   \n",
       "\n",
       "                                 Authors (compact list)  Published  \\\n",
       "0       Laura Heinen, Marco van den Noort, Bert Poolman 2024-10-21   \n",
       "1                   Jie Zhao, Yue Guo, Francesco Ciucci 2024-10-21   \n",
       "2                 Seung Ju Kim, In Hyuk Im, Ho Won Jang 2024-10-18   \n",
       "3                 Ye Ji Kim, Noah Kent, Polina Anikeeva 2024-10-11   \n",
       "4     Tapas R. Nayak, Adrian Chrastina, Jan E. Schni... 2024-10-08   \n",
       "...                                                 ...        ...   \n",
       "2280        Gang L. Liu, Yadong Yin, Fanqing Frank Chen 2006-10-04   \n",
       "2281                           Rongrui He, Peidong Yang 2006-10-04   \n",
       "2282           Ricky J. Tseng, Chunglin Tsai, Yang Yang 2006-10-04   \n",
       "2283  Tzahi Cohen-Karni, Lior Segev, Ernesto Joselevich 2006-10-04   \n",
       "2284       J.-P. Cleuziou, W. Wernsdorfer, M. Monthioux 2006-10-04   \n",
       "\n",
       "                                                PDF URL  Open Access  \\\n",
       "0     https://www.nature.com/articles/s41565-024-018...  Open Access   \n",
       "1     https://www.nature.com/articles/s41565-024-018...  Open Access   \n",
       "2     https://www.nature.com/articles/s41565-024-017...                \n",
       "3     https://www.nature.com/articles/s41565-024-017...  Open Access   \n",
       "4     https://www.nature.com/articles/s41565-024-017...                \n",
       "...                                                 ...          ...   \n",
       "2280  https://www.nature.com/articles/nnano.2006.51.pdf                \n",
       "2281  https://www.nature.com/articles/nnano.2006.53.pdf                \n",
       "2282  https://www.nature.com/articles/nnano.2006.55.pdf                \n",
       "2283  https://www.nature.com/articles/nnano.2006.57.pdf                \n",
       "2284  https://www.nature.com/articles/nnano.2006.54.pdf                \n",
       "\n",
       "     Area of Knowledge  \n",
       "0          Engineering  \n",
       "1          Engineering  \n",
       "2          Engineering  \n",
       "3          Engineering  \n",
       "4          Engineering  \n",
       "...                ...  \n",
       "2280       Engineering  \n",
       "2281       Engineering  \n",
       "2282       Engineering  \n",
       "2283       Engineering  \n",
       "2284       Engineering  \n",
       "\n",
       "[2285 rows x 7 columns]"
      ]
     },
     "execution_count": 25,
     "metadata": {},
     "output_type": "execute_result"
    }
   ],
   "source": [
    "df_nature_nanotechnology['Published'] = pd.to_datetime(df_nature_nanotechnology['Published'])\n",
    "df_nature_nanotechnology"
   ]
  },
  {
   "cell_type": "markdown",
   "id": "76b72c51-224b-4547-bf6d-f5385990b136",
   "metadata": {},
   "source": [
    "#### Selecting the 'Open Access' articles published before the advent of ChatGPT"
   ]
  },
  {
   "cell_type": "markdown",
   "id": "f340839d-94bc-42d2-a26e-5e94b4c7f548",
   "metadata": {},
   "source": [
    "ChatGPT was released by OpenAI on November 30, 2022."
   ]
  },
  {
   "cell_type": "code",
   "execution_count": 26,
   "id": "f7fbff20-e7e7-47e2-b156-bf86bcfaa4a3",
   "metadata": {},
   "outputs": [
    {
     "data": {
      "text/html": [
       "<div>\n",
       "<style scoped>\n",
       "    .dataframe tbody tr th:only-of-type {\n",
       "        vertical-align: middle;\n",
       "    }\n",
       "\n",
       "    .dataframe tbody tr th {\n",
       "        vertical-align: top;\n",
       "    }\n",
       "\n",
       "    .dataframe thead th {\n",
       "        text-align: right;\n",
       "    }\n",
       "</style>\n",
       "<table border=\"1\" class=\"dataframe\">\n",
       "  <thead>\n",
       "    <tr style=\"text-align: right;\">\n",
       "      <th></th>\n",
       "      <th>Title</th>\n",
       "      <th>URL</th>\n",
       "      <th>Authors (compact list)</th>\n",
       "      <th>Published</th>\n",
       "      <th>PDF URL</th>\n",
       "      <th>Open Access</th>\n",
       "      <th>Area of Knowledge</th>\n",
       "    </tr>\n",
       "  </thead>\n",
       "  <tbody>\n",
       "    <tr>\n",
       "      <th>0</th>\n",
       "      <td>Potential use of engineered nanoparticles in o...</td>\n",
       "      <td>https://www.nature.com/articles/s41565-022-012...</td>\n",
       "      <td>Peyman Babakhani, Tanapon Phenrat, Michael F. ...</td>\n",
       "      <td>2022-11-28</td>\n",
       "      <td>https://www.nature.com/articles/s41565-022-012...</td>\n",
       "      <td>Open Access</td>\n",
       "      <td>Engineering</td>\n",
       "    </tr>\n",
       "    <tr>\n",
       "      <th>1</th>\n",
       "      <td>Feedback-controlled hydrogels with homeostatic...</td>\n",
       "      <td>https://www.nature.com/articles/s41565-022-012...</td>\n",
       "      <td>Hang Zhang, Hao Zeng, Olli Ikkala</td>\n",
       "      <td>2022-11-28</td>\n",
       "      <td>https://www.nature.com/articles/s41565-022-012...</td>\n",
       "      <td>Open Access</td>\n",
       "      <td>Engineering</td>\n",
       "    </tr>\n",
       "    <tr>\n",
       "      <th>2</th>\n",
       "      <td>Quantum Hall phase in graphene engineered by i...</td>\n",
       "      <td>https://www.nature.com/articles/s41565-022-012...</td>\n",
       "      <td>Yaning Wang, Xiang Gao, Zhidong Zhang</td>\n",
       "      <td>2022-11-21</td>\n",
       "      <td>https://www.nature.com/articles/s41565-022-012...</td>\n",
       "      <td>Open Access</td>\n",
       "      <td>Engineering</td>\n",
       "    </tr>\n",
       "    <tr>\n",
       "      <th>3</th>\n",
       "      <td>Hierarchically self-assembled homochiral helic...</td>\n",
       "      <td>https://www.nature.com/articles/s41565-022-012...</td>\n",
       "      <td>Cong Du, Zujian Li, Minghua Liu</td>\n",
       "      <td>2022-11-03</td>\n",
       "      <td>https://www.nature.com/articles/s41565-022-012...</td>\n",
       "      <td>Open Access</td>\n",
       "      <td>Engineering</td>\n",
       "    </tr>\n",
       "    <tr>\n",
       "      <th>4</th>\n",
       "      <td>Human-muscle-inspired single fibre actuator wi...</td>\n",
       "      <td>https://www.nature.com/articles/s41565-022-012...</td>\n",
       "      <td>In Ho Kim, Subi Choi, Sang Ouk Kim</td>\n",
       "      <td>2022-10-27</td>\n",
       "      <td>https://www.nature.com/articles/s41565-022-012...</td>\n",
       "      <td>Open Access</td>\n",
       "      <td>Engineering</td>\n",
       "    </tr>\n",
       "    <tr>\n",
       "      <th>5</th>\n",
       "      <td>Nano-optical designs for high-efficiency monol...</td>\n",
       "      <td>https://www.nature.com/articles/s41565-022-012...</td>\n",
       "      <td>Philipp Tockhorn, Johannes Sutter, Christiane ...</td>\n",
       "      <td>2022-10-24</td>\n",
       "      <td>https://www.nature.com/articles/s41565-022-012...</td>\n",
       "      <td>Open Access</td>\n",
       "      <td>Engineering</td>\n",
       "    </tr>\n",
       "    <tr>\n",
       "      <th>6</th>\n",
       "      <td>Local and global energy barriers for chiral do...</td>\n",
       "      <td>https://www.nature.com/articles/s41565-022-012...</td>\n",
       "      <td>Jiho Yoon, See-Hun Yang, Stuart. S. P. Parkin</td>\n",
       "      <td>2022-10-06</td>\n",
       "      <td>https://www.nature.com/articles/s41565-022-012...</td>\n",
       "      <td>Open Access</td>\n",
       "      <td>Engineering</td>\n",
       "    </tr>\n",
       "    <tr>\n",
       "      <th>7</th>\n",
       "      <td>A single hole spin with enhanced coherence in ...</td>\n",
       "      <td>https://www.nature.com/articles/s41565-022-011...</td>\n",
       "      <td>N. Piot, B. Brun, S. De Franceschi</td>\n",
       "      <td>2022-09-22</td>\n",
       "      <td>https://www.nature.com/articles/s41565-022-011...</td>\n",
       "      <td>Open Access</td>\n",
       "      <td>Engineering</td>\n",
       "    </tr>\n",
       "    <tr>\n",
       "      <th>8</th>\n",
       "      <td>Three-dimensional racetrack memory devices des...</td>\n",
       "      <td>https://www.nature.com/articles/s41565-022-012...</td>\n",
       "      <td>Ke Gu, Yicheng Guan, Stuart S. P. Parkin</td>\n",
       "      <td>2022-09-22</td>\n",
       "      <td>https://www.nature.com/articles/s41565-022-012...</td>\n",
       "      <td>Open Access</td>\n",
       "      <td>Engineering</td>\n",
       "    </tr>\n",
       "    <tr>\n",
       "      <th>9</th>\n",
       "      <td>Doping-driven topological polaritons in graphe...</td>\n",
       "      <td>https://www.nature.com/articles/s41565-022-011...</td>\n",
       "      <td>Hai Hu, Na Chen, Qing Dai</td>\n",
       "      <td>2022-08-18</td>\n",
       "      <td>https://www.nature.com/articles/s41565-022-011...</td>\n",
       "      <td>Open Access</td>\n",
       "      <td>Engineering</td>\n",
       "    </tr>\n",
       "    <tr>\n",
       "      <th>10</th>\n",
       "      <td>Giant magnetochiral anisotropy from quantum-co...</td>\n",
       "      <td>https://www.nature.com/articles/s41565-022-011...</td>\n",
       "      <td>Henry F. Legg, Matthias Rößler, Yoichi Ando</td>\n",
       "      <td>2022-05-12</td>\n",
       "      <td>https://www.nature.com/articles/s41565-022-011...</td>\n",
       "      <td>Open Access</td>\n",
       "      <td>Engineering</td>\n",
       "    </tr>\n",
       "    <tr>\n",
       "      <th>11</th>\n",
       "      <td>Fast and selective reduction of nitroarenes un...</td>\n",
       "      <td>https://www.nature.com/articles/s41565-022-010...</td>\n",
       "      <td>Aby Cheruvathoor Poulose, Giorgio Zoppellaro, ...</td>\n",
       "      <td>2022-03-28</td>\n",
       "      <td>https://www.nature.com/articles/s41565-022-010...</td>\n",
       "      <td>Open Access</td>\n",
       "      <td>Engineering</td>\n",
       "    </tr>\n",
       "    <tr>\n",
       "      <th>12</th>\n",
       "      <td>Fully integrated parity–time-symmetric electro...</td>\n",
       "      <td>https://www.nature.com/articles/s41565-021-010...</td>\n",
       "      <td>Weidong Cao, Changqing Wang, Xuan Zhang</td>\n",
       "      <td>2022-03-17</td>\n",
       "      <td>https://www.nature.com/articles/s41565-021-010...</td>\n",
       "      <td>Open Access</td>\n",
       "      <td>Engineering</td>\n",
       "    </tr>\n",
       "    <tr>\n",
       "      <th>13</th>\n",
       "      <td>Precursors of Majorana modes and their length-...</td>\n",
       "      <td>https://www.nature.com/articles/s41565-022-010...</td>\n",
       "      <td>Lucas Schneider, Philip Beck, Roland Wiesendanger</td>\n",
       "      <td>2022-03-07</td>\n",
       "      <td>https://www.nature.com/articles/s41565-022-010...</td>\n",
       "      <td>Open Access</td>\n",
       "      <td>Engineering</td>\n",
       "    </tr>\n",
       "    <tr>\n",
       "      <th>14</th>\n",
       "      <td>Interfacial ferroelectricity in marginally twi...</td>\n",
       "      <td>https://www.nature.com/articles/s41565-022-010...</td>\n",
       "      <td>Astrid Weston, Eli G. Castanon, Roman Gorbachev</td>\n",
       "      <td>2022-02-24</td>\n",
       "      <td>https://www.nature.com/articles/s41565-022-010...</td>\n",
       "      <td>Open Access</td>\n",
       "      <td>Engineering</td>\n",
       "    </tr>\n",
       "    <tr>\n",
       "      <th>15</th>\n",
       "      <td>Non-oxidized bare copper nanoparticles with su...</td>\n",
       "      <td>https://www.nature.com/articles/s41565-021-010...</td>\n",
       "      <td>Kyungwha Chung, Joonho Bang, Sung Wng Kim</td>\n",
       "      <td>2022-02-10</td>\n",
       "      <td>https://www.nature.com/articles/s41565-021-010...</td>\n",
       "      <td>Open Access</td>\n",
       "      <td>Engineering</td>\n",
       "    </tr>\n",
       "    <tr>\n",
       "      <th>16</th>\n",
       "      <td>Creation and annihilation of mobile fractional...</td>\n",
       "      <td>https://www.nature.com/articles/s41565-021-010...</td>\n",
       "      <td>Jae Whan Park, Euihwan Do, Han Woong Yeom</td>\n",
       "      <td>2021-12-22</td>\n",
       "      <td>https://www.nature.com/articles/s41565-021-010...</td>\n",
       "      <td>Open Access</td>\n",
       "      <td>Engineering</td>\n",
       "    </tr>\n",
       "    <tr>\n",
       "      <th>17</th>\n",
       "      <td>Complex free-space magnetic field textures ind...</td>\n",
       "      <td>https://www.nature.com/articles/s41565-021-010...</td>\n",
       "      <td>Claire Donnelly, Aurelio Hierro-Rodríguez, Ama...</td>\n",
       "      <td>2021-12-20</td>\n",
       "      <td>https://www.nature.com/articles/s41565-021-010...</td>\n",
       "      <td>Open Access</td>\n",
       "      <td>Engineering</td>\n",
       "    </tr>\n",
       "    <tr>\n",
       "      <th>18</th>\n",
       "      <td>Unveiling the three-dimensional magnetic textu...</td>\n",
       "      <td>https://www.nature.com/articles/s41565-021-010...</td>\n",
       "      <td>Daniel Wolf, Sebastian Schneider, Axel Lubk</td>\n",
       "      <td>2021-12-20</td>\n",
       "      <td>https://www.nature.com/articles/s41565-021-010...</td>\n",
       "      <td>Open Access</td>\n",
       "      <td>Engineering</td>\n",
       "    </tr>\n",
       "    <tr>\n",
       "      <th>19</th>\n",
       "      <td>A light-fuelled nanoratchet shifts a coupled c...</td>\n",
       "      <td>https://www.nature.com/articles/s41565-021-010...</td>\n",
       "      <td>Michael Kathan, Stefano Crespi, Ben L. Feringa</td>\n",
       "      <td>2021-12-16</td>\n",
       "      <td>https://www.nature.com/articles/s41565-021-010...</td>\n",
       "      <td>Open Access</td>\n",
       "      <td>Engineering</td>\n",
       "    </tr>\n",
       "    <tr>\n",
       "      <th>20</th>\n",
       "      <td>De novo design of a nanopore for single-molecu...</td>\n",
       "      <td>https://www.nature.com/articles/s41565-021-010...</td>\n",
       "      <td>Keisuke Shimizu, Batsaikhan Mijiddorj, Ryuji K...</td>\n",
       "      <td>2021-11-22</td>\n",
       "      <td>https://www.nature.com/articles/s41565-021-010...</td>\n",
       "      <td>Open Access</td>\n",
       "      <td>Engineering</td>\n",
       "    </tr>\n",
       "    <tr>\n",
       "      <th>21</th>\n",
       "      <td>Optical read-out of Coulomb staircases in a mo...</td>\n",
       "      <td>https://www.nature.com/articles/s41565-021-009...</td>\n",
       "      <td>Hyeonjun Baek, Mauro Brotons-Gisbert, Brian D....</td>\n",
       "      <td>2021-09-23</td>\n",
       "      <td>https://www.nature.com/articles/s41565-021-009...</td>\n",
       "      <td>Open Access</td>\n",
       "      <td>Engineering</td>\n",
       "    </tr>\n",
       "    <tr>\n",
       "      <th>22</th>\n",
       "      <td>Observation of giant and tunable thermal diffu...</td>\n",
       "      <td>https://www.nature.com/articles/s41565-021-009...</td>\n",
       "      <td>Alexander Block, Alessandro Principi, Klaas-Ja...</td>\n",
       "      <td>2021-08-23</td>\n",
       "      <td>https://www.nature.com/articles/s41565-021-009...</td>\n",
       "      <td>Open Access</td>\n",
       "      <td>Engineering</td>\n",
       "    </tr>\n",
       "  </tbody>\n",
       "</table>\n",
       "</div>"
      ],
      "text/plain": [
       "                                                Title  \\\n",
       "0   Potential use of engineered nanoparticles in o...   \n",
       "1   Feedback-controlled hydrogels with homeostatic...   \n",
       "2   Quantum Hall phase in graphene engineered by i...   \n",
       "3   Hierarchically self-assembled homochiral helic...   \n",
       "4   Human-muscle-inspired single fibre actuator wi...   \n",
       "5   Nano-optical designs for high-efficiency monol...   \n",
       "6   Local and global energy barriers for chiral do...   \n",
       "7   A single hole spin with enhanced coherence in ...   \n",
       "8   Three-dimensional racetrack memory devices des...   \n",
       "9   Doping-driven topological polaritons in graphe...   \n",
       "10  Giant magnetochiral anisotropy from quantum-co...   \n",
       "11  Fast and selective reduction of nitroarenes un...   \n",
       "12  Fully integrated parity–time-symmetric electro...   \n",
       "13  Precursors of Majorana modes and their length-...   \n",
       "14  Interfacial ferroelectricity in marginally twi...   \n",
       "15  Non-oxidized bare copper nanoparticles with su...   \n",
       "16  Creation and annihilation of mobile fractional...   \n",
       "17  Complex free-space magnetic field textures ind...   \n",
       "18  Unveiling the three-dimensional magnetic textu...   \n",
       "19  A light-fuelled nanoratchet shifts a coupled c...   \n",
       "20  De novo design of a nanopore for single-molecu...   \n",
       "21  Optical read-out of Coulomb staircases in a mo...   \n",
       "22  Observation of giant and tunable thermal diffu...   \n",
       "\n",
       "                                                  URL  \\\n",
       "0   https://www.nature.com/articles/s41565-022-012...   \n",
       "1   https://www.nature.com/articles/s41565-022-012...   \n",
       "2   https://www.nature.com/articles/s41565-022-012...   \n",
       "3   https://www.nature.com/articles/s41565-022-012...   \n",
       "4   https://www.nature.com/articles/s41565-022-012...   \n",
       "5   https://www.nature.com/articles/s41565-022-012...   \n",
       "6   https://www.nature.com/articles/s41565-022-012...   \n",
       "7   https://www.nature.com/articles/s41565-022-011...   \n",
       "8   https://www.nature.com/articles/s41565-022-012...   \n",
       "9   https://www.nature.com/articles/s41565-022-011...   \n",
       "10  https://www.nature.com/articles/s41565-022-011...   \n",
       "11  https://www.nature.com/articles/s41565-022-010...   \n",
       "12  https://www.nature.com/articles/s41565-021-010...   \n",
       "13  https://www.nature.com/articles/s41565-022-010...   \n",
       "14  https://www.nature.com/articles/s41565-022-010...   \n",
       "15  https://www.nature.com/articles/s41565-021-010...   \n",
       "16  https://www.nature.com/articles/s41565-021-010...   \n",
       "17  https://www.nature.com/articles/s41565-021-010...   \n",
       "18  https://www.nature.com/articles/s41565-021-010...   \n",
       "19  https://www.nature.com/articles/s41565-021-010...   \n",
       "20  https://www.nature.com/articles/s41565-021-010...   \n",
       "21  https://www.nature.com/articles/s41565-021-009...   \n",
       "22  https://www.nature.com/articles/s41565-021-009...   \n",
       "\n",
       "                               Authors (compact list)  Published  \\\n",
       "0   Peyman Babakhani, Tanapon Phenrat, Michael F. ... 2022-11-28   \n",
       "1                   Hang Zhang, Hao Zeng, Olli Ikkala 2022-11-28   \n",
       "2               Yaning Wang, Xiang Gao, Zhidong Zhang 2022-11-21   \n",
       "3                     Cong Du, Zujian Li, Minghua Liu 2022-11-03   \n",
       "4                  In Ho Kim, Subi Choi, Sang Ouk Kim 2022-10-27   \n",
       "5   Philipp Tockhorn, Johannes Sutter, Christiane ... 2022-10-24   \n",
       "6       Jiho Yoon, See-Hun Yang, Stuart. S. P. Parkin 2022-10-06   \n",
       "7                  N. Piot, B. Brun, S. De Franceschi 2022-09-22   \n",
       "8            Ke Gu, Yicheng Guan, Stuart S. P. Parkin 2022-09-22   \n",
       "9                           Hai Hu, Na Chen, Qing Dai 2022-08-18   \n",
       "10        Henry F. Legg, Matthias Rößler, Yoichi Ando 2022-05-12   \n",
       "11  Aby Cheruvathoor Poulose, Giorgio Zoppellaro, ... 2022-03-28   \n",
       "12            Weidong Cao, Changqing Wang, Xuan Zhang 2022-03-17   \n",
       "13  Lucas Schneider, Philip Beck, Roland Wiesendanger 2022-03-07   \n",
       "14    Astrid Weston, Eli G. Castanon, Roman Gorbachev 2022-02-24   \n",
       "15          Kyungwha Chung, Joonho Bang, Sung Wng Kim 2022-02-10   \n",
       "16          Jae Whan Park, Euihwan Do, Han Woong Yeom 2021-12-22   \n",
       "17  Claire Donnelly, Aurelio Hierro-Rodríguez, Ama... 2021-12-20   \n",
       "18        Daniel Wolf, Sebastian Schneider, Axel Lubk 2021-12-20   \n",
       "19     Michael Kathan, Stefano Crespi, Ben L. Feringa 2021-12-16   \n",
       "20  Keisuke Shimizu, Batsaikhan Mijiddorj, Ryuji K... 2021-11-22   \n",
       "21  Hyeonjun Baek, Mauro Brotons-Gisbert, Brian D.... 2021-09-23   \n",
       "22  Alexander Block, Alessandro Principi, Klaas-Ja... 2021-08-23   \n",
       "\n",
       "                                              PDF URL  Open Access  \\\n",
       "0   https://www.nature.com/articles/s41565-022-012...  Open Access   \n",
       "1   https://www.nature.com/articles/s41565-022-012...  Open Access   \n",
       "2   https://www.nature.com/articles/s41565-022-012...  Open Access   \n",
       "3   https://www.nature.com/articles/s41565-022-012...  Open Access   \n",
       "4   https://www.nature.com/articles/s41565-022-012...  Open Access   \n",
       "5   https://www.nature.com/articles/s41565-022-012...  Open Access   \n",
       "6   https://www.nature.com/articles/s41565-022-012...  Open Access   \n",
       "7   https://www.nature.com/articles/s41565-022-011...  Open Access   \n",
       "8   https://www.nature.com/articles/s41565-022-012...  Open Access   \n",
       "9   https://www.nature.com/articles/s41565-022-011...  Open Access   \n",
       "10  https://www.nature.com/articles/s41565-022-011...  Open Access   \n",
       "11  https://www.nature.com/articles/s41565-022-010...  Open Access   \n",
       "12  https://www.nature.com/articles/s41565-021-010...  Open Access   \n",
       "13  https://www.nature.com/articles/s41565-022-010...  Open Access   \n",
       "14  https://www.nature.com/articles/s41565-022-010...  Open Access   \n",
       "15  https://www.nature.com/articles/s41565-021-010...  Open Access   \n",
       "16  https://www.nature.com/articles/s41565-021-010...  Open Access   \n",
       "17  https://www.nature.com/articles/s41565-021-010...  Open Access   \n",
       "18  https://www.nature.com/articles/s41565-021-010...  Open Access   \n",
       "19  https://www.nature.com/articles/s41565-021-010...  Open Access   \n",
       "20  https://www.nature.com/articles/s41565-021-010...  Open Access   \n",
       "21  https://www.nature.com/articles/s41565-021-009...  Open Access   \n",
       "22  https://www.nature.com/articles/s41565-021-009...  Open Access   \n",
       "\n",
       "   Area of Knowledge  \n",
       "0        Engineering  \n",
       "1        Engineering  \n",
       "2        Engineering  \n",
       "3        Engineering  \n",
       "4        Engineering  \n",
       "5        Engineering  \n",
       "6        Engineering  \n",
       "7        Engineering  \n",
       "8        Engineering  \n",
       "9        Engineering  \n",
       "10       Engineering  \n",
       "11       Engineering  \n",
       "12       Engineering  \n",
       "13       Engineering  \n",
       "14       Engineering  \n",
       "15       Engineering  \n",
       "16       Engineering  \n",
       "17       Engineering  \n",
       "18       Engineering  \n",
       "19       Engineering  \n",
       "20       Engineering  \n",
       "21       Engineering  \n",
       "22       Engineering  "
      ]
     },
     "execution_count": 26,
     "metadata": {},
     "output_type": "execute_result"
    }
   ],
   "source": [
    "df_nature_nanotechnology_open_access = df_nature_nanotechnology[df_nature_nanotechnology['Open Access'] == 'Open Access']\n",
    "df_nature_nanotechnology_open_access = df_nature_nanotechnology_open_access[df_nature_nanotechnology_open_access['Published'] <= '2022-11-30']\n",
    "df_nature_nanotechnology_open_access = df_nature_nanotechnology_open_access.reset_index(drop=True)\n",
    "df_nature_nanotechnology_open_access"
   ]
  },
  {
   "cell_type": "markdown",
   "id": "deda0f51-2db0-4338-93eb-0158e205b58f",
   "metadata": {},
   "source": [
    "#### Inspecting a few articles"
   ]
  },
  {
   "cell_type": "code",
   "execution_count": 27,
   "id": "7942b2d3-f468-4211-851c-172946a7e2ad",
   "metadata": {},
   "outputs": [
    {
     "data": {
      "text/plain": [
       "'https://www.nature.com/articles/s41565-022-01226-w.pdf'"
      ]
     },
     "execution_count": 27,
     "metadata": {},
     "output_type": "execute_result"
    }
   ],
   "source": [
    "df_nature_nanotechnology_open_access.at[0, 'PDF URL']"
   ]
  },
  {
   "cell_type": "markdown",
   "id": "4f25c439-e1bb-4885-bafd-e7240c2b2133",
   "metadata": {},
   "source": [
    "#### Exporting to a file"
   ]
  },
  {
   "cell_type": "code",
   "execution_count": 28,
   "id": "d3800409-e3d6-4d67-a4c7-adb40af549dc",
   "metadata": {},
   "outputs": [],
   "source": [
    "df_nature_nanotechnology_open_access.to_json(f\"{output_directory}/nature_nanotechnology_open_access.jsonl\", orient='records', lines=True)"
   ]
  },
  {
   "cell_type": "markdown",
   "id": "b4b5740c-2ddd-4d54-9451-21420fc90120",
   "metadata": {},
   "source": [
    "## Exact and Earth Sciences"
   ]
  },
  {
   "cell_type": "markdown",
   "id": "345da847-f056-4e73-9d88-9d1ea0dda8ef",
   "metadata": {},
   "source": [
    "This discipline has been excluded from the study."
   ]
  },
  {
   "cell_type": "markdown",
   "id": "fa382f92-5f89-4681-9471-8f3e277b1a19",
   "metadata": {},
   "source": [
    "### Scraping [Annual Review of Earth and Planetary Sciences](https://www.annualreviews.org/content/journals/earth)"
   ]
  },
  {
   "cell_type": "markdown",
   "id": "f3518b50-7fae-48fa-8df2-0af9d490f7a1",
   "metadata": {},
   "source": [
    "#### Scraping the articles"
   ]
  },
  {
   "cell_type": "markdown",
   "id": "58092af7-29ba-435b-b05c-2fb98af918b7",
   "metadata": {},
   "source": [
    "##### Function to scrape the articles"
   ]
  },
  {
   "cell_type": "markdown",
   "id": "e19332e8-acfc-433c-a065-2382d3fa5d2a",
   "metadata": {},
   "source": [
    "Make sure you run the function `scrape_articles` on section `Scraping Annual Review of Plant Biology` before scraping the articles."
   ]
  },
  {
   "cell_type": "markdown",
   "id": "ce466941-79bb-4131-83ce-10c643fb9eef",
   "metadata": {},
   "source": [
    "##### Volume 50, 2022"
   ]
  },
  {
   "cell_type": "code",
   "execution_count": 15,
   "id": "79e63cde-5312-431f-a2a2-11bfca17ab4e",
   "metadata": {},
   "outputs": [],
   "source": [
    "root_url = 'https://www.annualreviews.org'\n",
    "article_list_url = 'https://www.annualreviews.org/content/journals/earth/50/1?page='\n",
    "start_page = 1\n",
    "end_page = 2\n",
    "area_of_knowledge = 'Exact and Earth Sciences'"
   ]
  },
  {
   "cell_type": "code",
   "execution_count": 16,
   "id": "4cd30a82-d0fb-481a-89ee-71f2fcdd8bdb",
   "metadata": {},
   "outputs": [
    {
     "name": "stderr",
     "output_type": "stream",
     "text": [
      "100%|██████████| 2/2 [00:09<00:00,  4.50s/it]\n"
     ]
    }
   ],
   "source": [
    "df_2022 = scrape_articles(article_list_url, root_url, start_page, end_page, area_of_knowledge)"
   ]
  },
  {
   "cell_type": "markdown",
   "id": "75d0043c-2de3-4123-8639-855090594dc7",
   "metadata": {},
   "source": [
    "##### Volume 49, 2021"
   ]
  },
  {
   "cell_type": "code",
   "execution_count": 17,
   "id": "a57f2cd1-b9ec-4fbf-9844-802cd7dec0d9",
   "metadata": {},
   "outputs": [],
   "source": [
    "root_url = 'https://www.annualreviews.org'\n",
    "article_list_url = 'https://www.annualreviews.org/content/journals/earth/49/1?page='\n",
    "start_page = 1\n",
    "end_page = 2\n",
    "area_of_knowledge = 'Exact and Earth Sciences'"
   ]
  },
  {
   "cell_type": "code",
   "execution_count": 18,
   "id": "55d72cec-7f4e-4857-85a8-3c42e872b906",
   "metadata": {},
   "outputs": [
    {
     "name": "stderr",
     "output_type": "stream",
     "text": [
      "100%|██████████| 2/2 [00:10<00:00,  5.07s/it]\n"
     ]
    }
   ],
   "source": [
    "df_2021 = scrape_articles(article_list_url, root_url, start_page, end_page, area_of_knowledge)"
   ]
  },
  {
   "cell_type": "markdown",
   "id": "b4460dfb-eb19-413b-bc8c-899313602d42",
   "metadata": {},
   "source": [
    "##### Volume 48, 2020"
   ]
  },
  {
   "cell_type": "code",
   "execution_count": 19,
   "id": "ace4d1f2-15ed-4364-b8fd-ee45ec17967b",
   "metadata": {},
   "outputs": [],
   "source": [
    "root_url = 'https://www.annualreviews.org'\n",
    "article_list_url = 'https://www.annualreviews.org/content/journals/earth/48/1?page='\n",
    "start_page = 1\n",
    "end_page = 2\n",
    "area_of_knowledge = 'Exact and Earth Sciences'"
   ]
  },
  {
   "cell_type": "code",
   "execution_count": 20,
   "id": "486a584a-62b3-40ff-8447-676298d30c80",
   "metadata": {},
   "outputs": [
    {
     "name": "stderr",
     "output_type": "stream",
     "text": [
      "100%|██████████| 2/2 [00:07<00:00,  3.83s/it]\n"
     ]
    }
   ],
   "source": [
    "df_2020 = scrape_articles(article_list_url, root_url, start_page, end_page, area_of_knowledge)"
   ]
  },
  {
   "cell_type": "markdown",
   "id": "861e7318-7832-422e-851d-d84114e4c0de",
   "metadata": {},
   "source": [
    "##### Concatenating the DataFrames"
   ]
  },
  {
   "cell_type": "code",
   "execution_count": 21,
   "id": "0d0d4249-9e55-428a-8359-956f43801537",
   "metadata": {},
   "outputs": [
    {
     "data": {
      "text/html": [
       "<div>\n",
       "<style scoped>\n",
       "    .dataframe tbody tr th:only-of-type {\n",
       "        vertical-align: middle;\n",
       "    }\n",
       "\n",
       "    .dataframe tbody tr th {\n",
       "        vertical-align: top;\n",
       "    }\n",
       "\n",
       "    .dataframe thead th {\n",
       "        text-align: right;\n",
       "    }\n",
       "</style>\n",
       "<table border=\"1\" class=\"dataframe\">\n",
       "  <thead>\n",
       "    <tr style=\"text-align: right;\">\n",
       "      <th></th>\n",
       "      <th>Title</th>\n",
       "      <th>URL</th>\n",
       "      <th>Authors</th>\n",
       "      <th>Vol/Year/Page Range</th>\n",
       "      <th>DOI</th>\n",
       "      <th>Area of Knowledge</th>\n",
       "    </tr>\n",
       "  </thead>\n",
       "  <tbody>\n",
       "    <tr>\n",
       "      <th>0</th>\n",
       "      <td>Introduction</td>\n",
       "      <td>https://www.annualreviews.org/content/journals...</td>\n",
       "      <td>Katherine H. Freeman, , andRaymond Jeanloz</td>\n",
       "      <td>Vol. 50 \\n(2022),pp.v–vii</td>\n",
       "      <td>https://doi.org/10.1146/annurev-ea-50-041822-1...</td>\n",
       "      <td>Exact and Earth Sciences</td>\n",
       "    </tr>\n",
       "    <tr>\n",
       "      <th>1</th>\n",
       "      <td>Civilization-Saving Science for the Twenty-Fir...</td>\n",
       "      <td>https://www.annualreviews.org/content/journals...</td>\n",
       "      <td>Marcia K. McNutt</td>\n",
       "      <td>Vol. 50 \\n(2022),pp.1–12</td>\n",
       "      <td>https://doi.org/10.1146/annurev-earth-033021-0...</td>\n",
       "      <td>Exact and Earth Sciences</td>\n",
       "    </tr>\n",
       "    <tr>\n",
       "      <th>2</th>\n",
       "      <td>Application of Light Hydrocarbons in Natural G...</td>\n",
       "      <td>https://www.annualreviews.org/content/journals...</td>\n",
       "      <td>Shipeng Huang, ,Jianzhong Li, ,Tongshan Wang, ...</td>\n",
       "      <td>Vol. 50 \\n(2022),pp.13–53</td>\n",
       "      <td>https://doi.org/10.1146/annurev-earth-070921-0...</td>\n",
       "      <td>Exact and Earth Sciences</td>\n",
       "    </tr>\n",
       "    <tr>\n",
       "      <th>3</th>\n",
       "      <td>Where Has All the Carbon Gone?</td>\n",
       "      <td>https://www.annualreviews.org/content/journals...</td>\n",
       "      <td>A. Scott Denning</td>\n",
       "      <td>Vol. 50 \\n(2022),pp.55–78</td>\n",
       "      <td>https://doi.org/10.1146/annurev-earth-032320-0...</td>\n",
       "      <td>Exact and Earth Sciences</td>\n",
       "    </tr>\n",
       "    <tr>\n",
       "      <th>4</th>\n",
       "      <td>Volcanic Outgassing of Volatile Trace Metals</td>\n",
       "      <td>https://www.annualreviews.org/content/journals...</td>\n",
       "      <td>Marie Edmonds, ,Emily Mason, , andOlivia Hogg</td>\n",
       "      <td>Vol. 50 \\n(2022),pp.79–98</td>\n",
       "      <td>https://doi.org/10.1146/annurev-earth-070921-0...</td>\n",
       "      <td>Exact and Earth Sciences</td>\n",
       "    </tr>\n",
       "    <tr>\n",
       "      <th>...</th>\n",
       "      <td>...</td>\n",
       "      <td>...</td>\n",
       "      <td>...</td>\n",
       "      <td>...</td>\n",
       "      <td>...</td>\n",
       "      <td>...</td>\n",
       "    </tr>\n",
       "    <tr>\n",
       "      <th>70</th>\n",
       "      <td>Climate Extremes and Compound Hazards in a War...</td>\n",
       "      <td>https://www.annualreviews.org/content/journals...</td>\n",
       "      <td>Amir AghaKouchak, ,Felicia Chiang, ,Laurie S. ...</td>\n",
       "      <td>Vol. 48 \\n(2020),pp.519–548</td>\n",
       "      <td>https://doi.org/10.1146/annurev-earth-071719-0...</td>\n",
       "      <td>Exact and Earth Sciences</td>\n",
       "    </tr>\n",
       "    <tr>\n",
       "      <th>71</th>\n",
       "      <td>The Role of Diagenesis in Shaping the Geochemi...</td>\n",
       "      <td>https://www.annualreviews.org/content/journals...</td>\n",
       "      <td>Matthew S. Fantle, ,B. Davis Barnes, , andKimb...</td>\n",
       "      <td>Vol. 48 \\n(2020),pp.549–583</td>\n",
       "      <td>https://doi.org/10.1146/annurev-earth-073019-0...</td>\n",
       "      <td>Exact and Earth Sciences</td>\n",
       "    </tr>\n",
       "    <tr>\n",
       "      <th>72</th>\n",
       "      <td>Dynamic Topography and Ice Age Paleoclimate</td>\n",
       "      <td>https://www.annualreviews.org/content/journals...</td>\n",
       "      <td>J.X. Mitrovica, ,J. Austermann, ,S. Coulson, ,...</td>\n",
       "      <td>Vol. 48 \\n(2020),pp.585–621</td>\n",
       "      <td>https://doi.org/10.1146/annurev-earth-082517-0...</td>\n",
       "      <td>Exact and Earth Sciences</td>\n",
       "    </tr>\n",
       "    <tr>\n",
       "      <th>73</th>\n",
       "      <td>Moist Heat Stress on a Hotter Earth</td>\n",
       "      <td>https://www.annualreviews.org/content/journals...</td>\n",
       "      <td>Jonathan R. Buzan, , andMatthew Huber</td>\n",
       "      <td>Vol. 48 \\n(2020),pp.623–655</td>\n",
       "      <td>https://doi.org/10.1146/annurev-earth-053018-0...</td>\n",
       "      <td>Exact and Earth Sciences</td>\n",
       "    </tr>\n",
       "    <tr>\n",
       "      <th>74</th>\n",
       "      <td>A Novel Approach to Carrying Capacity: Froma p...</td>\n",
       "      <td>https://www.annualreviews.org/content/journals...</td>\n",
       "      <td>Safa Mote, ,Jorge Rivas, , andEugenia Kalnay</td>\n",
       "      <td>Vol. 48 \\n(2020),pp.657–683</td>\n",
       "      <td>https://doi.org/10.1146/annurev-earth-053018-0...</td>\n",
       "      <td>Exact and Earth Sciences</td>\n",
       "    </tr>\n",
       "  </tbody>\n",
       "</table>\n",
       "<p>75 rows × 6 columns</p>\n",
       "</div>"
      ],
      "text/plain": [
       "                                                Title  \\\n",
       "0                                        Introduction   \n",
       "1   Civilization-Saving Science for the Twenty-Fir...   \n",
       "2   Application of Light Hydrocarbons in Natural G...   \n",
       "3                      Where Has All the Carbon Gone?   \n",
       "4        Volcanic Outgassing of Volatile Trace Metals   \n",
       "..                                                ...   \n",
       "70  Climate Extremes and Compound Hazards in a War...   \n",
       "71  The Role of Diagenesis in Shaping the Geochemi...   \n",
       "72        Dynamic Topography and Ice Age Paleoclimate   \n",
       "73                Moist Heat Stress on a Hotter Earth   \n",
       "74  A Novel Approach to Carrying Capacity: Froma p...   \n",
       "\n",
       "                                                  URL  \\\n",
       "0   https://www.annualreviews.org/content/journals...   \n",
       "1   https://www.annualreviews.org/content/journals...   \n",
       "2   https://www.annualreviews.org/content/journals...   \n",
       "3   https://www.annualreviews.org/content/journals...   \n",
       "4   https://www.annualreviews.org/content/journals...   \n",
       "..                                                ...   \n",
       "70  https://www.annualreviews.org/content/journals...   \n",
       "71  https://www.annualreviews.org/content/journals...   \n",
       "72  https://www.annualreviews.org/content/journals...   \n",
       "73  https://www.annualreviews.org/content/journals...   \n",
       "74  https://www.annualreviews.org/content/journals...   \n",
       "\n",
       "                                              Authors  \\\n",
       "0          Katherine H. Freeman, , andRaymond Jeanloz   \n",
       "1                                    Marcia K. McNutt   \n",
       "2   Shipeng Huang, ,Jianzhong Li, ,Tongshan Wang, ...   \n",
       "3                                    A. Scott Denning   \n",
       "4       Marie Edmonds, ,Emily Mason, , andOlivia Hogg   \n",
       "..                                                ...   \n",
       "70  Amir AghaKouchak, ,Felicia Chiang, ,Laurie S. ...   \n",
       "71  Matthew S. Fantle, ,B. Davis Barnes, , andKimb...   \n",
       "72  J.X. Mitrovica, ,J. Austermann, ,S. Coulson, ,...   \n",
       "73              Jonathan R. Buzan, , andMatthew Huber   \n",
       "74       Safa Mote, ,Jorge Rivas, , andEugenia Kalnay   \n",
       "\n",
       "            Vol/Year/Page Range  \\\n",
       "0     Vol. 50 \\n(2022),pp.v–vii   \n",
       "1      Vol. 50 \\n(2022),pp.1–12   \n",
       "2     Vol. 50 \\n(2022),pp.13–53   \n",
       "3     Vol. 50 \\n(2022),pp.55–78   \n",
       "4     Vol. 50 \\n(2022),pp.79–98   \n",
       "..                          ...   \n",
       "70  Vol. 48 \\n(2020),pp.519–548   \n",
       "71  Vol. 48 \\n(2020),pp.549–583   \n",
       "72  Vol. 48 \\n(2020),pp.585–621   \n",
       "73  Vol. 48 \\n(2020),pp.623–655   \n",
       "74  Vol. 48 \\n(2020),pp.657–683   \n",
       "\n",
       "                                                  DOI  \\\n",
       "0   https://doi.org/10.1146/annurev-ea-50-041822-1...   \n",
       "1   https://doi.org/10.1146/annurev-earth-033021-0...   \n",
       "2   https://doi.org/10.1146/annurev-earth-070921-0...   \n",
       "3   https://doi.org/10.1146/annurev-earth-032320-0...   \n",
       "4   https://doi.org/10.1146/annurev-earth-070921-0...   \n",
       "..                                                ...   \n",
       "70  https://doi.org/10.1146/annurev-earth-071719-0...   \n",
       "71  https://doi.org/10.1146/annurev-earth-073019-0...   \n",
       "72  https://doi.org/10.1146/annurev-earth-082517-0...   \n",
       "73  https://doi.org/10.1146/annurev-earth-053018-0...   \n",
       "74  https://doi.org/10.1146/annurev-earth-053018-0...   \n",
       "\n",
       "           Area of Knowledge  \n",
       "0   Exact and Earth Sciences  \n",
       "1   Exact and Earth Sciences  \n",
       "2   Exact and Earth Sciences  \n",
       "3   Exact and Earth Sciences  \n",
       "4   Exact and Earth Sciences  \n",
       "..                       ...  \n",
       "70  Exact and Earth Sciences  \n",
       "71  Exact and Earth Sciences  \n",
       "72  Exact and Earth Sciences  \n",
       "73  Exact and Earth Sciences  \n",
       "74  Exact and Earth Sciences  \n",
       "\n",
       "[75 rows x 6 columns]"
      ]
     },
     "execution_count": 21,
     "metadata": {},
     "output_type": "execute_result"
    }
   ],
   "source": [
    "df_ar_earth_planetary = pd.concat([df_2022, df_2021, df_2020], ignore_index=True)\n",
    "df_ar_earth_planetary"
   ]
  },
  {
   "cell_type": "markdown",
   "id": "954ccac4-fffb-437b-a3e3-78be86475fc4",
   "metadata": {},
   "source": [
    "#### Inspecting a few articles"
   ]
  },
  {
   "cell_type": "markdown",
   "id": "f0a5bf35-8541-4142-8388-a3e4e103628a",
   "metadata": {},
   "source": [
    "**Attention**: Some of the documents might in fact be `Editorials` rather than `Research articles`. Extra refinement is recommended when using the dataset."
   ]
  },
  {
   "cell_type": "code",
   "execution_count": 22,
   "id": "ab3c036a-84e6-4aef-94b8-55637b44d33f",
   "metadata": {},
   "outputs": [
    {
     "data": {
      "text/plain": [
       "'https://www.annualreviews.org/content/journals/10.1146/annurev-ea-50-041822-100001'"
      ]
     },
     "execution_count": 22,
     "metadata": {},
     "output_type": "execute_result"
    }
   ],
   "source": [
    "df_ar_earth_planetary.at[0, 'URL']"
   ]
  },
  {
   "cell_type": "markdown",
   "id": "197e6644-28e9-42dd-b987-be02a770c7cb",
   "metadata": {},
   "source": [
    "#### Exporting to a file"
   ]
  },
  {
   "cell_type": "code",
   "execution_count": 23,
   "id": "17216e9d-7d79-46eb-a897-3aaee6153455",
   "metadata": {},
   "outputs": [],
   "source": [
    "df_ar_earth_planetary.to_json(f\"{output_directory}/ar_earth_planetary.jsonl\", orient='records', lines=True)"
   ]
  },
  {
   "cell_type": "markdown",
   "id": "a222f744-4281-43a6-b6d2-69bf453aed62",
   "metadata": {},
   "source": [
    "### Scraping [Journal of Geophysical Research: Solid Earth](https://agupubs.onlinelibrary.wiley.com/journal/21699356)"
   ]
  },
  {
   "cell_type": "markdown",
   "id": "51a11036-d187-40b6-879d-dfe4c43099d1",
   "metadata": {},
   "source": [
    "### Scraping [Nature Geoscience](https://www.nature.com/ngeo/)"
   ]
  },
  {
   "cell_type": "markdown",
   "id": "97829d46-691a-4bd5-8076-ea7fe9682dd2",
   "metadata": {},
   "source": [
    "#### Scraping the articles"
   ]
  },
  {
   "cell_type": "code",
   "execution_count": 29,
   "id": "ecaf906d-6eee-4442-a57f-592aa3f89ed1",
   "metadata": {},
   "outputs": [],
   "source": [
    "root_url = 'https://www.nature.com'\n",
    "article_list_url = 'https://www.nature.com/ngeo/research-articles?searchType=journalSearch&sort=PubDate&page='\n",
    "start_page = 1\n",
    "end_page = 115\n",
    "area_of_knowledge = 'Exact and Earth Sciences'"
   ]
  },
  {
   "cell_type": "code",
   "execution_count": 30,
   "id": "defc3c2c-e183-4cce-b215-cccd913e53be",
   "metadata": {},
   "outputs": [
    {
     "name": "stderr",
     "output_type": "stream",
     "text": [
      "100%|██████████| 115/115 [03:04<00:00,  1.61s/it]\n"
     ]
    }
   ],
   "source": [
    "# Initialize an empty list to store the data\n",
    "data = []\n",
    "\n",
    "# Iterating through the URLs and using 'tqdm' for progress tracking in the range loop\n",
    "for i in tqdm(range(start_page, end_page + 1)):\n",
    "    url = f\"{article_list_url}{i}\"\n",
    "    response = requests.get(url)\n",
    "    soup = BeautifulSoup(response.content, 'lxml')\n",
    "\n",
    "    # Finding all <article> elements with the class 'u-full-height c-card c-card--flush'\n",
    "    articles = soup.find_all('article', class_='u-full-height c-card c-card--flush')\n",
    "\n",
    "    for article in articles:\n",
    "        # Extracting the title\n",
    "        title_tag = article.find('h3', class_='c-card__title').find('a')\n",
    "        title = title_tag.get_text(strip=True) if title_tag else ''\n",
    "        title_url = f\"{root_url}{title_tag.get('href')}\" if title_tag else ''\n",
    "\n",
    "        # Extracting the authors\n",
    "        author_tags = article.find_all('li', itemprop='creator')\n",
    "        authors = ', '.join(author.get_text(strip=True) for author in author_tags)\n",
    "\n",
    "        # Extracting the published date\n",
    "        date_tag = article.find('time')\n",
    "        date_published = date_tag['datetime'] if date_tag else ''\n",
    "\n",
    "        # Extracting the PDF URL\n",
    "        pdf_url = f\"{title_url}.pdf\" if title_url else ''\n",
    "\n",
    "        # Extracting the 'Open Access' label\n",
    "        open_access_tag = article.find('span', class_='u-color-open-access')\n",
    "        open_access = open_access_tag.get_text(strip=True) if open_access_tag else ''\n",
    "\n",
    "        # Appending the data to the list\n",
    "        data.append({\n",
    "            'Title': title,\n",
    "            'URL': title_url,\n",
    "            'Authors (compact list)': authors,\n",
    "            'Published': date_published,\n",
    "            'PDF URL': pdf_url,\n",
    "            'Open Access': open_access,\n",
    "            'Area of Knowledge': area_of_knowledge\n",
    "        })\n",
    "\n",
    "# Creating a DataFrame from the data\n",
    "df_nature_geoscience = pd.DataFrame(data)"
   ]
  },
  {
   "cell_type": "code",
   "execution_count": 31,
   "id": "6c1ac7fb-63be-42b1-a9b5-ef1a3baee899",
   "metadata": {},
   "outputs": [
    {
     "data": {
      "text/html": [
       "<div>\n",
       "<style scoped>\n",
       "    .dataframe tbody tr th:only-of-type {\n",
       "        vertical-align: middle;\n",
       "    }\n",
       "\n",
       "    .dataframe tbody tr th {\n",
       "        vertical-align: top;\n",
       "    }\n",
       "\n",
       "    .dataframe thead th {\n",
       "        text-align: right;\n",
       "    }\n",
       "</style>\n",
       "<table border=\"1\" class=\"dataframe\">\n",
       "  <thead>\n",
       "    <tr style=\"text-align: right;\">\n",
       "      <th></th>\n",
       "      <th>Title</th>\n",
       "      <th>URL</th>\n",
       "      <th>Authors (compact list)</th>\n",
       "      <th>Published</th>\n",
       "      <th>PDF URL</th>\n",
       "      <th>Open Access</th>\n",
       "      <th>Area of Knowledge</th>\n",
       "    </tr>\n",
       "  </thead>\n",
       "  <tbody>\n",
       "    <tr>\n",
       "      <th>0</th>\n",
       "      <td>Enhanced ocean CO2uptake due to near-surface t...</td>\n",
       "      <td>https://www.nature.com/articles/s41561-024-015...</td>\n",
       "      <td>Daniel J. Ford, Jamie D. Shutler, Ian Ashton</td>\n",
       "      <td>2024-10-25</td>\n",
       "      <td>https://www.nature.com/articles/s41561-024-015...</td>\n",
       "      <td>Open Access</td>\n",
       "      <td>Exact and Earth Sciences</td>\n",
       "    </tr>\n",
       "    <tr>\n",
       "      <th>1</th>\n",
       "      <td>Direct and lagged climate change effects inten...</td>\n",
       "      <td>https://www.nature.com/articles/s41561-024-015...</td>\n",
       "      <td>Emanuele Bevacqua, Oldrich Rakovec, Jakob Zsch...</td>\n",
       "      <td>2024-10-21</td>\n",
       "      <td>https://www.nature.com/articles/s41561-024-015...</td>\n",
       "      <td>Open Access</td>\n",
       "      <td>Exact and Earth Sciences</td>\n",
       "    </tr>\n",
       "    <tr>\n",
       "      <th>2</th>\n",
       "      <td>Large-scale mantle heterogeneity as a legacy o...</td>\n",
       "      <td>https://www.nature.com/articles/s41561-024-015...</td>\n",
       "      <td>Luc S. Doucet, Zheng-Xiang Li</td>\n",
       "      <td>2024-10-18</td>\n",
       "      <td>https://www.nature.com/articles/s41561-024-015...</td>\n",
       "      <td>Open Access</td>\n",
       "      <td>Exact and Earth Sciences</td>\n",
       "    </tr>\n",
       "    <tr>\n",
       "      <th>3</th>\n",
       "      <td>Centennial-scale variations in the carbon cycl...</td>\n",
       "      <td>https://www.nature.com/articles/s41561-024-015...</td>\n",
       "      <td>Etienne Legrain, Emilie Capron, Thomas F. Stocker</td>\n",
       "      <td>2024-10-11</td>\n",
       "      <td>https://www.nature.com/articles/s41561-024-015...</td>\n",
       "      <td></td>\n",
       "      <td>Exact and Earth Sciences</td>\n",
       "    </tr>\n",
       "    <tr>\n",
       "      <th>4</th>\n",
       "      <td>Nitrogen fixation in the North Atlantic suppor...</td>\n",
       "      <td>https://www.nature.com/articles/s41561-024-015...</td>\n",
       "      <td>Cora Hoerstmann, Borja Aguiar-González, Mar Be...</td>\n",
       "      <td>2024-10-11</td>\n",
       "      <td>https://www.nature.com/articles/s41561-024-015...</td>\n",
       "      <td>Open Access</td>\n",
       "      <td>Exact and Earth Sciences</td>\n",
       "    </tr>\n",
       "    <tr>\n",
       "      <th>...</th>\n",
       "      <td>...</td>\n",
       "      <td>...</td>\n",
       "      <td>...</td>\n",
       "      <td>...</td>\n",
       "      <td>...</td>\n",
       "      <td>...</td>\n",
       "      <td>...</td>\n",
       "    </tr>\n",
       "    <tr>\n",
       "      <th>2284</th>\n",
       "      <td>High rates of sea-level rise during the last i...</td>\n",
       "      <td>https://www.nature.com/articles/ngeo.2007.28</td>\n",
       "      <td>E. J. Rohling, K. Grant, M. Kucera</td>\n",
       "      <td>2007-12-16</td>\n",
       "      <td>https://www.nature.com/articles/ngeo.2007.28.pdf</td>\n",
       "      <td></td>\n",
       "      <td>Exact and Earth Sciences</td>\n",
       "    </tr>\n",
       "    <tr>\n",
       "      <th>2285</th>\n",
       "      <td>Persistent earthquake clusters and gaps from s...</td>\n",
       "      <td>https://www.nature.com/articles/ngeo.2007.36</td>\n",
       "      <td>Tom Parsons</td>\n",
       "      <td>2007-12-09</td>\n",
       "      <td>https://www.nature.com/articles/ngeo.2007.36.pdf</td>\n",
       "      <td></td>\n",
       "      <td>Exact and Earth Sciences</td>\n",
       "    </tr>\n",
       "    <tr>\n",
       "      <th>2286</th>\n",
       "      <td>Atmospheric carbon dioxide linked with Mesozoi...</td>\n",
       "      <td>https://www.nature.com/articles/ngeo.2007.29</td>\n",
       "      <td>Benjamin J. Fletcher, Stuart J. Brentnall, Dav...</td>\n",
       "      <td>2007-12-09</td>\n",
       "      <td>https://www.nature.com/articles/ngeo.2007.29.pdf</td>\n",
       "      <td></td>\n",
       "      <td>Exact and Earth Sciences</td>\n",
       "    </tr>\n",
       "    <tr>\n",
       "      <th>2287</th>\n",
       "      <td>Influence of brine formation on Arctic Ocean c...</td>\n",
       "      <td>https://www.nature.com/articles/ngeo.2007.5</td>\n",
       "      <td>Brian A. Haley, Martin Frank, Anton Eisenhauer</td>\n",
       "      <td>2007-12-02</td>\n",
       "      <td>https://www.nature.com/articles/ngeo.2007.5.pdf</td>\n",
       "      <td></td>\n",
       "      <td>Exact and Earth Sciences</td>\n",
       "    </tr>\n",
       "    <tr>\n",
       "      <th>2288</th>\n",
       "      <td>In situevidence for dextral active motion at t...</td>\n",
       "      <td>https://www.nature.com/articles/ngeo.2007.24</td>\n",
       "      <td>Marc Fournier, Nicolas Chamot-Rooke, Claude Le...</td>\n",
       "      <td>2007-12-02</td>\n",
       "      <td>https://www.nature.com/articles/ngeo.2007.24.pdf</td>\n",
       "      <td></td>\n",
       "      <td>Exact and Earth Sciences</td>\n",
       "    </tr>\n",
       "  </tbody>\n",
       "</table>\n",
       "<p>2289 rows × 7 columns</p>\n",
       "</div>"
      ],
      "text/plain": [
       "                                                  Title  \\\n",
       "0     Enhanced ocean CO2uptake due to near-surface t...   \n",
       "1     Direct and lagged climate change effects inten...   \n",
       "2     Large-scale mantle heterogeneity as a legacy o...   \n",
       "3     Centennial-scale variations in the carbon cycl...   \n",
       "4     Nitrogen fixation in the North Atlantic suppor...   \n",
       "...                                                 ...   \n",
       "2284  High rates of sea-level rise during the last i...   \n",
       "2285  Persistent earthquake clusters and gaps from s...   \n",
       "2286  Atmospheric carbon dioxide linked with Mesozoi...   \n",
       "2287  Influence of brine formation on Arctic Ocean c...   \n",
       "2288  In situevidence for dextral active motion at t...   \n",
       "\n",
       "                                                    URL  \\\n",
       "0     https://www.nature.com/articles/s41561-024-015...   \n",
       "1     https://www.nature.com/articles/s41561-024-015...   \n",
       "2     https://www.nature.com/articles/s41561-024-015...   \n",
       "3     https://www.nature.com/articles/s41561-024-015...   \n",
       "4     https://www.nature.com/articles/s41561-024-015...   \n",
       "...                                                 ...   \n",
       "2284       https://www.nature.com/articles/ngeo.2007.28   \n",
       "2285       https://www.nature.com/articles/ngeo.2007.36   \n",
       "2286       https://www.nature.com/articles/ngeo.2007.29   \n",
       "2287        https://www.nature.com/articles/ngeo.2007.5   \n",
       "2288       https://www.nature.com/articles/ngeo.2007.24   \n",
       "\n",
       "                                 Authors (compact list)  Published  \\\n",
       "0          Daniel J. Ford, Jamie D. Shutler, Ian Ashton 2024-10-25   \n",
       "1     Emanuele Bevacqua, Oldrich Rakovec, Jakob Zsch... 2024-10-21   \n",
       "2                         Luc S. Doucet, Zheng-Xiang Li 2024-10-18   \n",
       "3     Etienne Legrain, Emilie Capron, Thomas F. Stocker 2024-10-11   \n",
       "4     Cora Hoerstmann, Borja Aguiar-González, Mar Be... 2024-10-11   \n",
       "...                                                 ...        ...   \n",
       "2284                 E. J. Rohling, K. Grant, M. Kucera 2007-12-16   \n",
       "2285                                        Tom Parsons 2007-12-09   \n",
       "2286  Benjamin J. Fletcher, Stuart J. Brentnall, Dav... 2007-12-09   \n",
       "2287     Brian A. Haley, Martin Frank, Anton Eisenhauer 2007-12-02   \n",
       "2288  Marc Fournier, Nicolas Chamot-Rooke, Claude Le... 2007-12-02   \n",
       "\n",
       "                                                PDF URL  Open Access  \\\n",
       "0     https://www.nature.com/articles/s41561-024-015...  Open Access   \n",
       "1     https://www.nature.com/articles/s41561-024-015...  Open Access   \n",
       "2     https://www.nature.com/articles/s41561-024-015...  Open Access   \n",
       "3     https://www.nature.com/articles/s41561-024-015...                \n",
       "4     https://www.nature.com/articles/s41561-024-015...  Open Access   \n",
       "...                                                 ...          ...   \n",
       "2284   https://www.nature.com/articles/ngeo.2007.28.pdf                \n",
       "2285   https://www.nature.com/articles/ngeo.2007.36.pdf                \n",
       "2286   https://www.nature.com/articles/ngeo.2007.29.pdf                \n",
       "2287    https://www.nature.com/articles/ngeo.2007.5.pdf                \n",
       "2288   https://www.nature.com/articles/ngeo.2007.24.pdf                \n",
       "\n",
       "             Area of Knowledge  \n",
       "0     Exact and Earth Sciences  \n",
       "1     Exact and Earth Sciences  \n",
       "2     Exact and Earth Sciences  \n",
       "3     Exact and Earth Sciences  \n",
       "4     Exact and Earth Sciences  \n",
       "...                        ...  \n",
       "2284  Exact and Earth Sciences  \n",
       "2285  Exact and Earth Sciences  \n",
       "2286  Exact and Earth Sciences  \n",
       "2287  Exact and Earth Sciences  \n",
       "2288  Exact and Earth Sciences  \n",
       "\n",
       "[2289 rows x 7 columns]"
      ]
     },
     "execution_count": 31,
     "metadata": {},
     "output_type": "execute_result"
    }
   ],
   "source": [
    "df_nature_geoscience['Published'] = pd.to_datetime(df_nature_geoscience['Published'])\n",
    "df_nature_geoscience"
   ]
  },
  {
   "cell_type": "markdown",
   "id": "755681c3-df2e-41e7-83b0-cefa82ca7911",
   "metadata": {},
   "source": [
    "#### Selecting the 'Open Access' articles published before the advent of ChatGPT"
   ]
  },
  {
   "cell_type": "markdown",
   "id": "3f5e47e2-96a0-41e3-ba0b-cf40217e033d",
   "metadata": {},
   "source": [
    "ChatGPT was released by OpenAI on November 30, 2022."
   ]
  },
  {
   "cell_type": "code",
   "execution_count": 32,
   "id": "98171e2d-149f-43c3-be4f-400ce2ece25a",
   "metadata": {},
   "outputs": [
    {
     "data": {
      "text/html": [
       "<div>\n",
       "<style scoped>\n",
       "    .dataframe tbody tr th:only-of-type {\n",
       "        vertical-align: middle;\n",
       "    }\n",
       "\n",
       "    .dataframe tbody tr th {\n",
       "        vertical-align: top;\n",
       "    }\n",
       "\n",
       "    .dataframe thead th {\n",
       "        text-align: right;\n",
       "    }\n",
       "</style>\n",
       "<table border=\"1\" class=\"dataframe\">\n",
       "  <thead>\n",
       "    <tr style=\"text-align: right;\">\n",
       "      <th></th>\n",
       "      <th>Title</th>\n",
       "      <th>URL</th>\n",
       "      <th>Authors (compact list)</th>\n",
       "      <th>Published</th>\n",
       "      <th>PDF URL</th>\n",
       "      <th>Open Access</th>\n",
       "      <th>Area of Knowledge</th>\n",
       "    </tr>\n",
       "  </thead>\n",
       "  <tbody>\n",
       "    <tr>\n",
       "      <th>0</th>\n",
       "      <td>Limited carbon cycling due to high-pressure ef...</td>\n",
       "      <td>https://www.nature.com/articles/s41561-022-010...</td>\n",
       "      <td>Chie Amano, Zihao Zhao, Gerhard J. Herndl</td>\n",
       "      <td>2022-11-28</td>\n",
       "      <td>https://www.nature.com/articles/s41561-022-010...</td>\n",
       "      <td>Open Access</td>\n",
       "      <td>Exact and Earth Sciences</td>\n",
       "    </tr>\n",
       "    <tr>\n",
       "      <th>1</th>\n",
       "      <td>Global patterns in marine organic matter stoic...</td>\n",
       "      <td>https://www.nature.com/articles/s41561-022-010...</td>\n",
       "      <td>Keisuke Inomura, Curtis Deutsch, Michael J. Fo...</td>\n",
       "      <td>2022-11-21</td>\n",
       "      <td>https://www.nature.com/articles/s41561-022-010...</td>\n",
       "      <td>Open Access</td>\n",
       "      <td>Exact and Earth Sciences</td>\n",
       "    </tr>\n",
       "    <tr>\n",
       "      <th>2</th>\n",
       "      <td>Carbon dioxide sink in the Arctic Ocean from c...</td>\n",
       "      <td>https://www.nature.com/articles/s41561-022-010...</td>\n",
       "      <td>Andreas Rogge, Markus Janout, Anya M. Waite</td>\n",
       "      <td>2022-11-21</td>\n",
       "      <td>https://www.nature.com/articles/s41561-022-010...</td>\n",
       "      <td>Open Access</td>\n",
       "      <td>Exact and Earth Sciences</td>\n",
       "    </tr>\n",
       "    <tr>\n",
       "      <th>3</th>\n",
       "      <td>Fraser Island (K'gari) and initiation of the G...</td>\n",
       "      <td>https://www.nature.com/articles/s41561-022-010...</td>\n",
       "      <td>D. Ellerton, T. M. Rittenour, X. Zhao</td>\n",
       "      <td>2022-11-14</td>\n",
       "      <td>https://www.nature.com/articles/s41561-022-010...</td>\n",
       "      <td>Open Access</td>\n",
       "      <td>Exact and Earth Sciences</td>\n",
       "    </tr>\n",
       "    <tr>\n",
       "      <th>4</th>\n",
       "      <td>Declining metal availability in the Mesozoic s...</td>\n",
       "      <td>https://www.nature.com/articles/s41561-022-010...</td>\n",
       "      <td>Qiong Zhang, El Mahdi Bendif, Rosalind E. M. R...</td>\n",
       "      <td>2022-10-31</td>\n",
       "      <td>https://www.nature.com/articles/s41561-022-010...</td>\n",
       "      <td>Open Access</td>\n",
       "      <td>Exact and Earth Sciences</td>\n",
       "    </tr>\n",
       "    <tr>\n",
       "      <th>5</th>\n",
       "      <td>Millennial-scale climate variability over land...</td>\n",
       "      <td>https://www.nature.com/articles/s41561-022-010...</td>\n",
       "      <td>R. Hébert, U. Herzschuh, T. Laepple</td>\n",
       "      <td>2022-10-31</td>\n",
       "      <td>https://www.nature.com/articles/s41561-022-010...</td>\n",
       "      <td>Open Access</td>\n",
       "      <td>Exact and Earth Sciences</td>\n",
       "    </tr>\n",
       "    <tr>\n",
       "      <th>6</th>\n",
       "      <td>Long-range predictability of extratropical cli...</td>\n",
       "      <td>https://www.nature.com/articles/s41561-022-010...</td>\n",
       "      <td>A. A. Scaife, L. Hermanson, D. Smith</td>\n",
       "      <td>2022-10-03</td>\n",
       "      <td>https://www.nature.com/articles/s41561-022-010...</td>\n",
       "      <td>Open Access</td>\n",
       "      <td>Exact and Earth Sciences</td>\n",
       "    </tr>\n",
       "    <tr>\n",
       "      <th>7</th>\n",
       "      <td>Submarine melting of glaciers in Greenland amp...</td>\n",
       "      <td>https://www.nature.com/articles/s41561-022-010...</td>\n",
       "      <td>D. A. Slater, F. Straneo</td>\n",
       "      <td>2022-10-03</td>\n",
       "      <td>https://www.nature.com/articles/s41561-022-010...</td>\n",
       "      <td>Open Access</td>\n",
       "      <td>Exact and Earth Sciences</td>\n",
       "    </tr>\n",
       "    <tr>\n",
       "      <th>8</th>\n",
       "      <td>Carbon and sediment fluxes inhibited in the su...</td>\n",
       "      <td>https://www.nature.com/articles/s41561-022-010...</td>\n",
       "      <td>Ed L. Pope, Maarten S. Heijnen, Morelia Urlaub</td>\n",
       "      <td>2022-09-29</td>\n",
       "      <td>https://www.nature.com/articles/s41561-022-010...</td>\n",
       "      <td>Open Access</td>\n",
       "      <td>Exact and Earth Sciences</td>\n",
       "    </tr>\n",
       "    <tr>\n",
       "      <th>9</th>\n",
       "      <td>Pleistocene climate variability in eastern Afr...</td>\n",
       "      <td>https://www.nature.com/articles/s41561-022-010...</td>\n",
       "      <td>Verena Foerster, Asfawossen Asrat, Martin H. T...</td>\n",
       "      <td>2022-09-26</td>\n",
       "      <td>https://www.nature.com/articles/s41561-022-010...</td>\n",
       "      <td>Open Access</td>\n",
       "      <td>Exact and Earth Sciences</td>\n",
       "    </tr>\n",
       "    <tr>\n",
       "      <th>10</th>\n",
       "      <td>Substantial contribution of iodine to Arctic o...</td>\n",
       "      <td>https://www.nature.com/articles/s41561-022-010...</td>\n",
       "      <td>Nuria Benavent, Anoop S. Mahajan, Alfonso Saiz...</td>\n",
       "      <td>2022-09-15</td>\n",
       "      <td>https://www.nature.com/articles/s41561-022-010...</td>\n",
       "      <td>Open Access</td>\n",
       "      <td>Exact and Earth Sciences</td>\n",
       "    </tr>\n",
       "    <tr>\n",
       "      <th>11</th>\n",
       "      <td>Last Interglacial decadal sea surface temperat...</td>\n",
       "      <td>https://www.nature.com/articles/s41561-022-010...</td>\n",
       "      <td>Igor Obreht, David De Vleeschouwer, Kai-Uwe Hi...</td>\n",
       "      <td>2022-09-12</td>\n",
       "      <td>https://www.nature.com/articles/s41561-022-010...</td>\n",
       "      <td>Open Access</td>\n",
       "      <td>Exact and Earth Sciences</td>\n",
       "    </tr>\n",
       "    <tr>\n",
       "      <th>12</th>\n",
       "      <td>Rapid retreat of Thwaites Glacier in the pre-s...</td>\n",
       "      <td>https://www.nature.com/articles/s41561-022-010...</td>\n",
       "      <td>Alastair G. C. Graham, Anna Wåhlin, Robert D. ...</td>\n",
       "      <td>2022-09-05</td>\n",
       "      <td>https://www.nature.com/articles/s41561-022-010...</td>\n",
       "      <td>Open Access</td>\n",
       "      <td>Exact and Earth Sciences</td>\n",
       "    </tr>\n",
       "    <tr>\n",
       "      <th>13</th>\n",
       "      <td>Eocene emergence of highly calcifying coccolit...</td>\n",
       "      <td>https://www.nature.com/articles/s41561-022-010...</td>\n",
       "      <td>L. M. Claxton, H. L. O. McClelland, R. E. M. R...</td>\n",
       "      <td>2022-09-01</td>\n",
       "      <td>https://www.nature.com/articles/s41561-022-010...</td>\n",
       "      <td>Open Access</td>\n",
       "      <td>Exact and Earth Sciences</td>\n",
       "    </tr>\n",
       "    <tr>\n",
       "      <th>14</th>\n",
       "      <td>Suppression of surface ozone by an aerosol-inh...</td>\n",
       "      <td>https://www.nature.com/articles/s41561-022-009...</td>\n",
       "      <td>Peter D. Ivatt, Mathew J. Evans, Alastair C. L...</td>\n",
       "      <td>2022-07-07</td>\n",
       "      <td>https://www.nature.com/articles/s41561-022-009...</td>\n",
       "      <td>Open Access</td>\n",
       "      <td>Exact and Earth Sciences</td>\n",
       "    </tr>\n",
       "    <tr>\n",
       "      <th>15</th>\n",
       "      <td>Permafrost cooled in winter by thermal bridgin...</td>\n",
       "      <td>https://www.nature.com/articles/s41561-022-009...</td>\n",
       "      <td>Florent Domine, Kévin Fourteau, Mathilde Poirier</td>\n",
       "      <td>2022-07-07</td>\n",
       "      <td>https://www.nature.com/articles/s41561-022-009...</td>\n",
       "      <td>Open Access</td>\n",
       "      <td>Exact and Earth Sciences</td>\n",
       "    </tr>\n",
       "    <tr>\n",
       "      <th>16</th>\n",
       "      <td>Global patterns of daily CO2emissions reductio...</td>\n",
       "      <td>https://www.nature.com/articles/s41561-022-009...</td>\n",
       "      <td>Zhu Liu, Zhu Deng, Hans Joachim Schellnhuber</td>\n",
       "      <td>2022-06-30</td>\n",
       "      <td>https://www.nature.com/articles/s41561-022-009...</td>\n",
       "      <td>Open Access</td>\n",
       "      <td>Exact and Earth Sciences</td>\n",
       "    </tr>\n",
       "    <tr>\n",
       "      <th>17</th>\n",
       "      <td>Carbon fixation rates in groundwater similar t...</td>\n",
       "      <td>https://www.nature.com/articles/s41561-022-009...</td>\n",
       "      <td>Will A. Overholt, Susan Trumbore, Kirsten Küsel</td>\n",
       "      <td>2022-06-30</td>\n",
       "      <td>https://www.nature.com/articles/s41561-022-009...</td>\n",
       "      <td>Open Access</td>\n",
       "      <td>Exact and Earth Sciences</td>\n",
       "    </tr>\n",
       "    <tr>\n",
       "      <th>18</th>\n",
       "      <td>Grain-size-evolution controls on lithospheric ...</td>\n",
       "      <td>https://www.nature.com/articles/s41561-022-009...</td>\n",
       "      <td>J. B. Ruh, L. Tokle, W. M. Behr</td>\n",
       "      <td>2022-06-16</td>\n",
       "      <td>https://www.nature.com/articles/s41561-022-009...</td>\n",
       "      <td>Open Access</td>\n",
       "      <td>Exact and Earth Sciences</td>\n",
       "    </tr>\n",
       "    <tr>\n",
       "      <th>19</th>\n",
       "      <td>Lower oceanic crust formed by in situ melt cry...</td>\n",
       "      <td>https://www.nature.com/articles/s41561-022-009...</td>\n",
       "      <td>Peng Guo, Satish C. Singh, Erdinc Saygin</td>\n",
       "      <td>2022-06-13</td>\n",
       "      <td>https://www.nature.com/articles/s41561-022-009...</td>\n",
       "      <td>Open Access</td>\n",
       "      <td>Exact and Earth Sciences</td>\n",
       "    </tr>\n",
       "    <tr>\n",
       "      <th>20</th>\n",
       "      <td>Relative sea-level data preclude major late Ho...</td>\n",
       "      <td>https://www.nature.com/articles/s41561-022-009...</td>\n",
       "      <td>Scott Braddock, Brenda L. Hall, John Woodward</td>\n",
       "      <td>2022-06-09</td>\n",
       "      <td>https://www.nature.com/articles/s41561-022-009...</td>\n",
       "      <td>Open Access</td>\n",
       "      <td>Exact and Earth Sciences</td>\n",
       "    </tr>\n",
       "    <tr>\n",
       "      <th>21</th>\n",
       "      <td>Global cycling and climate effects of aeolian ...</td>\n",
       "      <td>https://www.nature.com/articles/s41561-022-009...</td>\n",
       "      <td>E. Rodriguez-Caballero, T. Stanelle, B. Weber</td>\n",
       "      <td>2022-05-16</td>\n",
       "      <td>https://www.nature.com/articles/s41561-022-009...</td>\n",
       "      <td>Open Access</td>\n",
       "      <td>Exact and Earth Sciences</td>\n",
       "    </tr>\n",
       "    <tr>\n",
       "      <th>22</th>\n",
       "      <td>Shifts in regional water availability due to g...</td>\n",
       "      <td>https://www.nature.com/articles/s41561-022-009...</td>\n",
       "      <td>Anne J. Hoek van Dijke, Martin Herold, Adriaan...</td>\n",
       "      <td>2022-05-11</td>\n",
       "      <td>https://www.nature.com/articles/s41561-022-009...</td>\n",
       "      <td>Open Access</td>\n",
       "      <td>Exact and Earth Sciences</td>\n",
       "    </tr>\n",
       "    <tr>\n",
       "      <th>23</th>\n",
       "      <td>Slab-derived devolatilization fluids oxidized ...</td>\n",
       "      <td>https://www.nature.com/articles/s41561-022-009...</td>\n",
       "      <td>Jay J. Ague, Santiago Tassara, Timm John</td>\n",
       "      <td>2022-03-17</td>\n",
       "      <td>https://www.nature.com/articles/s41561-022-009...</td>\n",
       "      <td>Open Access</td>\n",
       "      <td>Exact and Earth Sciences</td>\n",
       "    </tr>\n",
       "    <tr>\n",
       "      <th>24</th>\n",
       "      <td>Equal abundance of summertime natural and wint...</td>\n",
       "      <td>https://www.nature.com/articles/s41561-021-008...</td>\n",
       "      <td>Vaios Moschos, Katja Dzepina, Imad El Haddad</td>\n",
       "      <td>2022-02-28</td>\n",
       "      <td>https://www.nature.com/articles/s41561-021-008...</td>\n",
       "      <td>Open Access</td>\n",
       "      <td>Exact and Earth Sciences</td>\n",
       "    </tr>\n",
       "    <tr>\n",
       "      <th>25</th>\n",
       "      <td>El Niño/Southern Oscillation inhibited by subm...</td>\n",
       "      <td>https://www.nature.com/articles/s41561-021-008...</td>\n",
       "      <td>Shengpeng Wang, Zhao Jing, Haiyuan Yang</td>\n",
       "      <td>2022-02-10</td>\n",
       "      <td>https://www.nature.com/articles/s41561-021-008...</td>\n",
       "      <td>Open Access</td>\n",
       "      <td>Exact and Earth Sciences</td>\n",
       "    </tr>\n",
       "    <tr>\n",
       "      <th>26</th>\n",
       "      <td>A salty deep ocean as a prerequisite for glaci...</td>\n",
       "      <td>https://www.nature.com/articles/s41561-021-008...</td>\n",
       "      <td>Gregor Knorr, Stephen Barker, Lennert B. Stap</td>\n",
       "      <td>2021-12-03</td>\n",
       "      <td>https://www.nature.com/articles/s41561-021-008...</td>\n",
       "      <td>Open Access</td>\n",
       "      <td>Exact and Earth Sciences</td>\n",
       "    </tr>\n",
       "    <tr>\n",
       "      <th>27</th>\n",
       "      <td>Penultimate deglaciation Asian monsoon respons...</td>\n",
       "      <td>https://www.nature.com/articles/s41561-021-008...</td>\n",
       "      <td>Jasper A. Wassenburg, Hubert B. Vonhof, Gerald...</td>\n",
       "      <td>2021-11-18</td>\n",
       "      <td>https://www.nature.com/articles/s41561-021-008...</td>\n",
       "      <td>Open Access</td>\n",
       "      <td>Exact and Earth Sciences</td>\n",
       "    </tr>\n",
       "    <tr>\n",
       "      <th>28</th>\n",
       "      <td>Nitrogen isotopic constraints on nutrient tran...</td>\n",
       "      <td>https://www.nature.com/articles/s41561-021-008...</td>\n",
       "      <td>François Fripiat, Alfredo Martínez-García, Ger...</td>\n",
       "      <td>2021-11-01</td>\n",
       "      <td>https://www.nature.com/articles/s41561-021-008...</td>\n",
       "      <td>Open Access</td>\n",
       "      <td>Exact and Earth Sciences</td>\n",
       "    </tr>\n",
       "    <tr>\n",
       "      <th>29</th>\n",
       "      <td>Fluvial organic carbon cycling regulated by se...</td>\n",
       "      <td>https://www.nature.com/articles/s41561-021-008...</td>\n",
       "      <td>Marisa Repasch, Joel S. Scheingross, Dirk Sachse</td>\n",
       "      <td>2021-10-28</td>\n",
       "      <td>https://www.nature.com/articles/s41561-021-008...</td>\n",
       "      <td>Open Access</td>\n",
       "      <td>Exact and Earth Sciences</td>\n",
       "    </tr>\n",
       "    <tr>\n",
       "      <th>30</th>\n",
       "      <td>Arctic Ocean stratification set by sea level a...</td>\n",
       "      <td>https://www.nature.com/articles/s41561-021-007...</td>\n",
       "      <td>Jesse R. Farmer, Daniel M. Sigman, Gerald H. Haug</td>\n",
       "      <td>2021-08-16</td>\n",
       "      <td>https://www.nature.com/articles/s41561-021-007...</td>\n",
       "      <td>Open Access</td>\n",
       "      <td>Exact and Earth Sciences</td>\n",
       "    </tr>\n",
       "    <tr>\n",
       "      <th>31</th>\n",
       "      <td>Possible link between Earth’s rotation rate an...</td>\n",
       "      <td>https://www.nature.com/articles/s41561-021-007...</td>\n",
       "      <td>J. M. Klatt, A. Chennu, G. J. Dick</td>\n",
       "      <td>2021-08-02</td>\n",
       "      <td>https://www.nature.com/articles/s41561-021-007...</td>\n",
       "      <td>Open Access</td>\n",
       "      <td>Exact and Earth Sciences</td>\n",
       "    </tr>\n",
       "    <tr>\n",
       "      <th>32</th>\n",
       "      <td>Lower crustal earthquake associated with highl...</td>\n",
       "      <td>https://www.nature.com/articles/s41561-021-007...</td>\n",
       "      <td>Xin Zhong, Arianne J. Petley-Ragan, Bjørn Jamt...</td>\n",
       "      <td>2021-06-17</td>\n",
       "      <td>https://www.nature.com/articles/s41561-021-007...</td>\n",
       "      <td>Open Access</td>\n",
       "      <td>Exact and Earth Sciences</td>\n",
       "    </tr>\n",
       "    <tr>\n",
       "      <th>33</th>\n",
       "      <td>Large subglacial source of mercury from the so...</td>\n",
       "      <td>https://www.nature.com/articles/s41561-021-007...</td>\n",
       "      <td>Jon R. Hawkings, Benjamin S. Linhoff, Robert G...</td>\n",
       "      <td>2021-05-24</td>\n",
       "      <td>https://www.nature.com/articles/s41561-021-007...</td>\n",
       "      <td>Open Access</td>\n",
       "      <td>Exact and Earth Sciences</td>\n",
       "    </tr>\n",
       "    <tr>\n",
       "      <th>34</th>\n",
       "      <td>Global carbon budget of reservoirs is overturn...</td>\n",
       "      <td>https://www.nature.com/articles/s41561-021-007...</td>\n",
       "      <td>Philipp S. Keller, Rafael Marcé, Matthias Kosc...</td>\n",
       "      <td>2021-05-13</td>\n",
       "      <td>https://www.nature.com/articles/s41561-021-007...</td>\n",
       "      <td>Open Access</td>\n",
       "      <td>Exact and Earth Sciences</td>\n",
       "    </tr>\n",
       "    <tr>\n",
       "      <th>35</th>\n",
       "      <td>Co-variation of silicate, carbonate and sulfid...</td>\n",
       "      <td>https://www.nature.com/articles/s41561-021-007...</td>\n",
       "      <td>Aaron Bufe, Niels Hovius, Jui-Ming Chang</td>\n",
       "      <td>2021-04-07</td>\n",
       "      <td>https://www.nature.com/articles/s41561-021-007...</td>\n",
       "      <td>Open Access</td>\n",
       "      <td>Exact and Earth Sciences</td>\n",
       "    </tr>\n",
       "  </tbody>\n",
       "</table>\n",
       "</div>"
      ],
      "text/plain": [
       "                                                Title  \\\n",
       "0   Limited carbon cycling due to high-pressure ef...   \n",
       "1   Global patterns in marine organic matter stoic...   \n",
       "2   Carbon dioxide sink in the Arctic Ocean from c...   \n",
       "3   Fraser Island (K'gari) and initiation of the G...   \n",
       "4   Declining metal availability in the Mesozoic s...   \n",
       "5   Millennial-scale climate variability over land...   \n",
       "6   Long-range predictability of extratropical cli...   \n",
       "7   Submarine melting of glaciers in Greenland amp...   \n",
       "8   Carbon and sediment fluxes inhibited in the su...   \n",
       "9   Pleistocene climate variability in eastern Afr...   \n",
       "10  Substantial contribution of iodine to Arctic o...   \n",
       "11  Last Interglacial decadal sea surface temperat...   \n",
       "12  Rapid retreat of Thwaites Glacier in the pre-s...   \n",
       "13  Eocene emergence of highly calcifying coccolit...   \n",
       "14  Suppression of surface ozone by an aerosol-inh...   \n",
       "15  Permafrost cooled in winter by thermal bridgin...   \n",
       "16  Global patterns of daily CO2emissions reductio...   \n",
       "17  Carbon fixation rates in groundwater similar t...   \n",
       "18  Grain-size-evolution controls on lithospheric ...   \n",
       "19  Lower oceanic crust formed by in situ melt cry...   \n",
       "20  Relative sea-level data preclude major late Ho...   \n",
       "21  Global cycling and climate effects of aeolian ...   \n",
       "22  Shifts in regional water availability due to g...   \n",
       "23  Slab-derived devolatilization fluids oxidized ...   \n",
       "24  Equal abundance of summertime natural and wint...   \n",
       "25  El Niño/Southern Oscillation inhibited by subm...   \n",
       "26  A salty deep ocean as a prerequisite for glaci...   \n",
       "27  Penultimate deglaciation Asian monsoon respons...   \n",
       "28  Nitrogen isotopic constraints on nutrient tran...   \n",
       "29  Fluvial organic carbon cycling regulated by se...   \n",
       "30  Arctic Ocean stratification set by sea level a...   \n",
       "31  Possible link between Earth’s rotation rate an...   \n",
       "32  Lower crustal earthquake associated with highl...   \n",
       "33  Large subglacial source of mercury from the so...   \n",
       "34  Global carbon budget of reservoirs is overturn...   \n",
       "35  Co-variation of silicate, carbonate and sulfid...   \n",
       "\n",
       "                                                  URL  \\\n",
       "0   https://www.nature.com/articles/s41561-022-010...   \n",
       "1   https://www.nature.com/articles/s41561-022-010...   \n",
       "2   https://www.nature.com/articles/s41561-022-010...   \n",
       "3   https://www.nature.com/articles/s41561-022-010...   \n",
       "4   https://www.nature.com/articles/s41561-022-010...   \n",
       "5   https://www.nature.com/articles/s41561-022-010...   \n",
       "6   https://www.nature.com/articles/s41561-022-010...   \n",
       "7   https://www.nature.com/articles/s41561-022-010...   \n",
       "8   https://www.nature.com/articles/s41561-022-010...   \n",
       "9   https://www.nature.com/articles/s41561-022-010...   \n",
       "10  https://www.nature.com/articles/s41561-022-010...   \n",
       "11  https://www.nature.com/articles/s41561-022-010...   \n",
       "12  https://www.nature.com/articles/s41561-022-010...   \n",
       "13  https://www.nature.com/articles/s41561-022-010...   \n",
       "14  https://www.nature.com/articles/s41561-022-009...   \n",
       "15  https://www.nature.com/articles/s41561-022-009...   \n",
       "16  https://www.nature.com/articles/s41561-022-009...   \n",
       "17  https://www.nature.com/articles/s41561-022-009...   \n",
       "18  https://www.nature.com/articles/s41561-022-009...   \n",
       "19  https://www.nature.com/articles/s41561-022-009...   \n",
       "20  https://www.nature.com/articles/s41561-022-009...   \n",
       "21  https://www.nature.com/articles/s41561-022-009...   \n",
       "22  https://www.nature.com/articles/s41561-022-009...   \n",
       "23  https://www.nature.com/articles/s41561-022-009...   \n",
       "24  https://www.nature.com/articles/s41561-021-008...   \n",
       "25  https://www.nature.com/articles/s41561-021-008...   \n",
       "26  https://www.nature.com/articles/s41561-021-008...   \n",
       "27  https://www.nature.com/articles/s41561-021-008...   \n",
       "28  https://www.nature.com/articles/s41561-021-008...   \n",
       "29  https://www.nature.com/articles/s41561-021-008...   \n",
       "30  https://www.nature.com/articles/s41561-021-007...   \n",
       "31  https://www.nature.com/articles/s41561-021-007...   \n",
       "32  https://www.nature.com/articles/s41561-021-007...   \n",
       "33  https://www.nature.com/articles/s41561-021-007...   \n",
       "34  https://www.nature.com/articles/s41561-021-007...   \n",
       "35  https://www.nature.com/articles/s41561-021-007...   \n",
       "\n",
       "                               Authors (compact list)  Published  \\\n",
       "0           Chie Amano, Zihao Zhao, Gerhard J. Herndl 2022-11-28   \n",
       "1   Keisuke Inomura, Curtis Deutsch, Michael J. Fo... 2022-11-21   \n",
       "2         Andreas Rogge, Markus Janout, Anya M. Waite 2022-11-21   \n",
       "3               D. Ellerton, T. M. Rittenour, X. Zhao 2022-11-14   \n",
       "4   Qiong Zhang, El Mahdi Bendif, Rosalind E. M. R... 2022-10-31   \n",
       "5                 R. Hébert, U. Herzschuh, T. Laepple 2022-10-31   \n",
       "6                A. A. Scaife, L. Hermanson, D. Smith 2022-10-03   \n",
       "7                            D. A. Slater, F. Straneo 2022-10-03   \n",
       "8      Ed L. Pope, Maarten S. Heijnen, Morelia Urlaub 2022-09-29   \n",
       "9   Verena Foerster, Asfawossen Asrat, Martin H. T... 2022-09-26   \n",
       "10  Nuria Benavent, Anoop S. Mahajan, Alfonso Saiz... 2022-09-15   \n",
       "11  Igor Obreht, David De Vleeschouwer, Kai-Uwe Hi... 2022-09-12   \n",
       "12  Alastair G. C. Graham, Anna Wåhlin, Robert D. ... 2022-09-05   \n",
       "13  L. M. Claxton, H. L. O. McClelland, R. E. M. R... 2022-09-01   \n",
       "14  Peter D. Ivatt, Mathew J. Evans, Alastair C. L... 2022-07-07   \n",
       "15   Florent Domine, Kévin Fourteau, Mathilde Poirier 2022-07-07   \n",
       "16       Zhu Liu, Zhu Deng, Hans Joachim Schellnhuber 2022-06-30   \n",
       "17    Will A. Overholt, Susan Trumbore, Kirsten Küsel 2022-06-30   \n",
       "18                    J. B. Ruh, L. Tokle, W. M. Behr 2022-06-16   \n",
       "19           Peng Guo, Satish C. Singh, Erdinc Saygin 2022-06-13   \n",
       "20      Scott Braddock, Brenda L. Hall, John Woodward 2022-06-09   \n",
       "21      E. Rodriguez-Caballero, T. Stanelle, B. Weber 2022-05-16   \n",
       "22  Anne J. Hoek van Dijke, Martin Herold, Adriaan... 2022-05-11   \n",
       "23           Jay J. Ague, Santiago Tassara, Timm John 2022-03-17   \n",
       "24       Vaios Moschos, Katja Dzepina, Imad El Haddad 2022-02-28   \n",
       "25            Shengpeng Wang, Zhao Jing, Haiyuan Yang 2022-02-10   \n",
       "26      Gregor Knorr, Stephen Barker, Lennert B. Stap 2021-12-03   \n",
       "27  Jasper A. Wassenburg, Hubert B. Vonhof, Gerald... 2021-11-18   \n",
       "28  François Fripiat, Alfredo Martínez-García, Ger... 2021-11-01   \n",
       "29   Marisa Repasch, Joel S. Scheingross, Dirk Sachse 2021-10-28   \n",
       "30  Jesse R. Farmer, Daniel M. Sigman, Gerald H. Haug 2021-08-16   \n",
       "31                 J. M. Klatt, A. Chennu, G. J. Dick 2021-08-02   \n",
       "32  Xin Zhong, Arianne J. Petley-Ragan, Bjørn Jamt... 2021-06-17   \n",
       "33  Jon R. Hawkings, Benjamin S. Linhoff, Robert G... 2021-05-24   \n",
       "34  Philipp S. Keller, Rafael Marcé, Matthias Kosc... 2021-05-13   \n",
       "35           Aaron Bufe, Niels Hovius, Jui-Ming Chang 2021-04-07   \n",
       "\n",
       "                                              PDF URL  Open Access  \\\n",
       "0   https://www.nature.com/articles/s41561-022-010...  Open Access   \n",
       "1   https://www.nature.com/articles/s41561-022-010...  Open Access   \n",
       "2   https://www.nature.com/articles/s41561-022-010...  Open Access   \n",
       "3   https://www.nature.com/articles/s41561-022-010...  Open Access   \n",
       "4   https://www.nature.com/articles/s41561-022-010...  Open Access   \n",
       "5   https://www.nature.com/articles/s41561-022-010...  Open Access   \n",
       "6   https://www.nature.com/articles/s41561-022-010...  Open Access   \n",
       "7   https://www.nature.com/articles/s41561-022-010...  Open Access   \n",
       "8   https://www.nature.com/articles/s41561-022-010...  Open Access   \n",
       "9   https://www.nature.com/articles/s41561-022-010...  Open Access   \n",
       "10  https://www.nature.com/articles/s41561-022-010...  Open Access   \n",
       "11  https://www.nature.com/articles/s41561-022-010...  Open Access   \n",
       "12  https://www.nature.com/articles/s41561-022-010...  Open Access   \n",
       "13  https://www.nature.com/articles/s41561-022-010...  Open Access   \n",
       "14  https://www.nature.com/articles/s41561-022-009...  Open Access   \n",
       "15  https://www.nature.com/articles/s41561-022-009...  Open Access   \n",
       "16  https://www.nature.com/articles/s41561-022-009...  Open Access   \n",
       "17  https://www.nature.com/articles/s41561-022-009...  Open Access   \n",
       "18  https://www.nature.com/articles/s41561-022-009...  Open Access   \n",
       "19  https://www.nature.com/articles/s41561-022-009...  Open Access   \n",
       "20  https://www.nature.com/articles/s41561-022-009...  Open Access   \n",
       "21  https://www.nature.com/articles/s41561-022-009...  Open Access   \n",
       "22  https://www.nature.com/articles/s41561-022-009...  Open Access   \n",
       "23  https://www.nature.com/articles/s41561-022-009...  Open Access   \n",
       "24  https://www.nature.com/articles/s41561-021-008...  Open Access   \n",
       "25  https://www.nature.com/articles/s41561-021-008...  Open Access   \n",
       "26  https://www.nature.com/articles/s41561-021-008...  Open Access   \n",
       "27  https://www.nature.com/articles/s41561-021-008...  Open Access   \n",
       "28  https://www.nature.com/articles/s41561-021-008...  Open Access   \n",
       "29  https://www.nature.com/articles/s41561-021-008...  Open Access   \n",
       "30  https://www.nature.com/articles/s41561-021-007...  Open Access   \n",
       "31  https://www.nature.com/articles/s41561-021-007...  Open Access   \n",
       "32  https://www.nature.com/articles/s41561-021-007...  Open Access   \n",
       "33  https://www.nature.com/articles/s41561-021-007...  Open Access   \n",
       "34  https://www.nature.com/articles/s41561-021-007...  Open Access   \n",
       "35  https://www.nature.com/articles/s41561-021-007...  Open Access   \n",
       "\n",
       "           Area of Knowledge  \n",
       "0   Exact and Earth Sciences  \n",
       "1   Exact and Earth Sciences  \n",
       "2   Exact and Earth Sciences  \n",
       "3   Exact and Earth Sciences  \n",
       "4   Exact and Earth Sciences  \n",
       "5   Exact and Earth Sciences  \n",
       "6   Exact and Earth Sciences  \n",
       "7   Exact and Earth Sciences  \n",
       "8   Exact and Earth Sciences  \n",
       "9   Exact and Earth Sciences  \n",
       "10  Exact and Earth Sciences  \n",
       "11  Exact and Earth Sciences  \n",
       "12  Exact and Earth Sciences  \n",
       "13  Exact and Earth Sciences  \n",
       "14  Exact and Earth Sciences  \n",
       "15  Exact and Earth Sciences  \n",
       "16  Exact and Earth Sciences  \n",
       "17  Exact and Earth Sciences  \n",
       "18  Exact and Earth Sciences  \n",
       "19  Exact and Earth Sciences  \n",
       "20  Exact and Earth Sciences  \n",
       "21  Exact and Earth Sciences  \n",
       "22  Exact and Earth Sciences  \n",
       "23  Exact and Earth Sciences  \n",
       "24  Exact and Earth Sciences  \n",
       "25  Exact and Earth Sciences  \n",
       "26  Exact and Earth Sciences  \n",
       "27  Exact and Earth Sciences  \n",
       "28  Exact and Earth Sciences  \n",
       "29  Exact and Earth Sciences  \n",
       "30  Exact and Earth Sciences  \n",
       "31  Exact and Earth Sciences  \n",
       "32  Exact and Earth Sciences  \n",
       "33  Exact and Earth Sciences  \n",
       "34  Exact and Earth Sciences  \n",
       "35  Exact and Earth Sciences  "
      ]
     },
     "execution_count": 32,
     "metadata": {},
     "output_type": "execute_result"
    }
   ],
   "source": [
    "df_nature_geoscience_open_access = df_nature_geoscience[df_nature_geoscience['Open Access'] == 'Open Access']\n",
    "df_nature_geoscience_open_access = df_nature_geoscience_open_access[df_nature_geoscience_open_access['Published'] <= '2022-11-30']\n",
    "df_nature_geoscience_open_access = df_nature_geoscience_open_access.reset_index(drop=True)\n",
    "df_nature_geoscience_open_access"
   ]
  },
  {
   "cell_type": "markdown",
   "id": "728a478d-b548-405d-a475-2ff8e16635ba",
   "metadata": {},
   "source": [
    "#### Inspecting a few articles"
   ]
  },
  {
   "cell_type": "code",
   "execution_count": 33,
   "id": "eabb8a2e-7863-4ca5-8f21-fdd444dcf74e",
   "metadata": {},
   "outputs": [
    {
     "data": {
      "text/plain": [
       "'https://www.nature.com/articles/s41561-022-01081-3.pdf'"
      ]
     },
     "execution_count": 33,
     "metadata": {},
     "output_type": "execute_result"
    }
   ],
   "source": [
    "df_nature_geoscience_open_access.at[0, 'PDF URL']"
   ]
  },
  {
   "cell_type": "markdown",
   "id": "51c85ab2-b8d9-4c4f-b576-7179c62f27a2",
   "metadata": {},
   "source": [
    "#### Exporting to a file"
   ]
  },
  {
   "cell_type": "code",
   "execution_count": 34,
   "id": "6846b952-6dd4-4465-9d2a-954b1e22268b",
   "metadata": {},
   "outputs": [],
   "source": [
    "df_nature_geoscience_open_access.to_json(f\"{output_directory}/nature_geoscience_open_access.jsonl\", orient='records', lines=True)"
   ]
  },
  {
   "cell_type": "markdown",
   "id": "608c6492-4cdc-42c0-ad93-d342d33027a5",
   "metadata": {},
   "source": [
    "### Scraping [Reviews of Geophysics](https://agupubs.onlinelibrary.wiley.com/journal/19449208)"
   ]
  },
  {
   "cell_type": "markdown",
   "id": "357d8f1b-67e2-4f6e-9ea2-6ac90268b563",
   "metadata": {},
   "source": [
    "## Health Sciences"
   ]
  },
  {
   "cell_type": "markdown",
   "id": "c438ed05-3d8c-483a-919c-e681e253a01b",
   "metadata": {},
   "source": [
    "### Scraping [Nature Medicine](https://www.nature.com/nm/)"
   ]
  },
  {
   "cell_type": "markdown",
   "id": "d3e8c811-4d14-4770-947b-c3847da12e33",
   "metadata": {},
   "source": [
    "#### Scraping the articles"
   ]
  },
  {
   "cell_type": "code",
   "execution_count": 10,
   "id": "59304559-ca13-4b27-8896-e578c4d0c14f",
   "metadata": {},
   "outputs": [],
   "source": [
    "root_url = 'https://www.nature.com'\n",
    "article_list_url = 'https://www.nature.com/nm/research-articles?searchType=journalSearch&sort=PubDate&page='\n",
    "start_page = 1\n",
    "end_page = 241\n",
    "area_of_knowledge = 'Biological Sciences'"
   ]
  },
  {
   "cell_type": "code",
   "execution_count": 11,
   "id": "9045b51b-bfee-4c5c-ac59-83c69e7b72ab",
   "metadata": {},
   "outputs": [
    {
     "name": "stderr",
     "output_type": "stream",
     "text": [
      "100%|██████████| 241/241 [06:31<00:00,  1.62s/it]\n"
     ]
    }
   ],
   "source": [
    "# Initialize an empty list to store the data\n",
    "data = []\n",
    "\n",
    "# Iterating through the URLs and using 'tqdm' for progress tracking in the range loop\n",
    "for i in tqdm(range(start_page, end_page + 1)):\n",
    "    url = f\"{article_list_url}{i}\"\n",
    "    response = requests.get(url)\n",
    "    soup = BeautifulSoup(response.content, 'lxml')\n",
    "\n",
    "    # Finding all <article> elements with the class 'u-full-height c-card c-card--flush'\n",
    "    articles = soup.find_all('article', class_='u-full-height c-card c-card--flush')\n",
    "\n",
    "    for article in articles:\n",
    "        # Extracting the title\n",
    "        title_tag = article.find('h3', class_='c-card__title').find('a')\n",
    "        title = title_tag.get_text(strip=True) if title_tag else ''\n",
    "        title_url = f\"{root_url}{title_tag.get('href')}\" if title_tag else ''\n",
    "\n",
    "        # Extracting the authors\n",
    "        author_tags = article.find_all('li', itemprop='creator')\n",
    "        authors = ', '.join(author.get_text(strip=True) for author in author_tags)\n",
    "\n",
    "        # Extracting the published date\n",
    "        date_tag = article.find('time')\n",
    "        date_published = date_tag['datetime'] if date_tag else ''\n",
    "\n",
    "        # Extracting the PDF URL\n",
    "        pdf_url = f\"{title_url}.pdf\" if title_url else ''\n",
    "\n",
    "        # Extracting the 'Open Access' label\n",
    "        open_access_tag = article.find('span', class_='u-color-open-access')\n",
    "        open_access = open_access_tag.get_text(strip=True) if open_access_tag else ''\n",
    "\n",
    "        # Appending the data to the list\n",
    "        data.append({\n",
    "            'Title': title,\n",
    "            'URL': title_url,\n",
    "            'Authors (compact list)': authors,\n",
    "            'Published': date_published,\n",
    "            'PDF URL': pdf_url,\n",
    "            'Open Access': open_access,\n",
    "            'Area of Knowledge': area_of_knowledge\n",
    "        })\n",
    "\n",
    "# Creating a DataFrame from the data\n",
    "df_nature_medicine = pd.DataFrame(data)"
   ]
  },
  {
   "cell_type": "code",
   "execution_count": 12,
   "id": "717d1314-07f6-4698-823d-ecfeccc16ff1",
   "metadata": {},
   "outputs": [
    {
     "data": {
      "text/html": [
       "<div>\n",
       "<style scoped>\n",
       "    .dataframe tbody tr th:only-of-type {\n",
       "        vertical-align: middle;\n",
       "    }\n",
       "\n",
       "    .dataframe tbody tr th {\n",
       "        vertical-align: top;\n",
       "    }\n",
       "\n",
       "    .dataframe thead th {\n",
       "        text-align: right;\n",
       "    }\n",
       "</style>\n",
       "<table border=\"1\" class=\"dataframe\">\n",
       "  <thead>\n",
       "    <tr style=\"text-align: right;\">\n",
       "      <th></th>\n",
       "      <th>Title</th>\n",
       "      <th>URL</th>\n",
       "      <th>Authors (compact list)</th>\n",
       "      <th>Published</th>\n",
       "      <th>PDF URL</th>\n",
       "      <th>Open Access</th>\n",
       "      <th>Area of Knowledge</th>\n",
       "    </tr>\n",
       "  </thead>\n",
       "  <tbody>\n",
       "    <tr>\n",
       "      <th>0</th>\n",
       "      <td>Semaglutide in patients with overweight or obe...</td>\n",
       "      <td>https://www.nature.com/articles/s41591-024-033...</td>\n",
       "      <td>Ellen M. Apperloo, Jose L. Gorriz, Hiddo J. L....</td>\n",
       "      <td>2024-10-25</td>\n",
       "      <td>https://www.nature.com/articles/s41591-024-033...</td>\n",
       "      <td></td>\n",
       "      <td>Biological Sciences</td>\n",
       "    </tr>\n",
       "    <tr>\n",
       "      <th>1</th>\n",
       "      <td>Subclassification of obesity for precision pre...</td>\n",
       "      <td>https://www.nature.com/articles/s41591-024-032...</td>\n",
       "      <td>Daniel E. Coral, Femke Smit, Paul W. Franks</td>\n",
       "      <td>2024-10-24</td>\n",
       "      <td>https://www.nature.com/articles/s41591-024-032...</td>\n",
       "      <td>Open Access</td>\n",
       "      <td>Biological Sciences</td>\n",
       "    </tr>\n",
       "    <tr>\n",
       "      <th>2</th>\n",
       "      <td>Global genomic surveillance of monkeypox virus</td>\n",
       "      <td>https://www.nature.com/articles/s41591-024-033...</td>\n",
       "      <td>James R. Otieno, Christopher Ruis, Lorenzo Sub...</td>\n",
       "      <td>2024-10-23</td>\n",
       "      <td>https://www.nature.com/articles/s41591-024-033...</td>\n",
       "      <td></td>\n",
       "      <td>Biological Sciences</td>\n",
       "    </tr>\n",
       "    <tr>\n",
       "      <th>3</th>\n",
       "      <td>Home-based transcranial direct current stimula...</td>\n",
       "      <td>https://www.nature.com/articles/s41591-024-033...</td>\n",
       "      <td>Rachel D. Woodham, Sudhakar Selvaraj, Cynthia ...</td>\n",
       "      <td>2024-10-21</td>\n",
       "      <td>https://www.nature.com/articles/s41591-024-033...</td>\n",
       "      <td>Open Access</td>\n",
       "      <td>Biological Sciences</td>\n",
       "    </tr>\n",
       "    <tr>\n",
       "      <th>4</th>\n",
       "      <td>AAV gene therapy for Duchenne muscular dystrop...</td>\n",
       "      <td>https://www.nature.com/articles/s41591-024-033...</td>\n",
       "      <td>Jerry R. Mendell, Francesco Muntoni, Louise R....</td>\n",
       "      <td>2024-10-09</td>\n",
       "      <td>https://www.nature.com/articles/s41591-024-033...</td>\n",
       "      <td>Open Access</td>\n",
       "      <td>Biological Sciences</td>\n",
       "    </tr>\n",
       "    <tr>\n",
       "      <th>...</th>\n",
       "      <td>...</td>\n",
       "      <td>...</td>\n",
       "      <td>...</td>\n",
       "      <td>...</td>\n",
       "      <td>...</td>\n",
       "      <td>...</td>\n",
       "      <td>...</td>\n",
       "    </tr>\n",
       "    <tr>\n",
       "      <th>4804</th>\n",
       "      <td>Microsatellite instability in primary neoplasm...</td>\n",
       "      <td>https://www.nature.com/articles/nm0195-65</td>\n",
       "      <td>Gauri C. Bedi, William H. Westra, David Sidransky</td>\n",
       "      <td>1995-01-01</td>\n",
       "      <td>https://www.nature.com/articles/nm0195-65.pdf</td>\n",
       "      <td></td>\n",
       "      <td>Biological Sciences</td>\n",
       "    </tr>\n",
       "    <tr>\n",
       "      <th>4805</th>\n",
       "      <td>Serial magnetic resonance imaging of experimen...</td>\n",
       "      <td>https://www.nature.com/articles/nm0195-69</td>\n",
       "      <td>Michael P. Skinner, Chun Yuan, Russell Ross</td>\n",
       "      <td>1995-01-01</td>\n",
       "      <td>https://www.nature.com/articles/nm0195-69.pdf</td>\n",
       "      <td></td>\n",
       "      <td>Biological Sciences</td>\n",
       "    </tr>\n",
       "    <tr>\n",
       "      <th>4806</th>\n",
       "      <td>Liposome-mediatedCFTRgene transfer to the nasa...</td>\n",
       "      <td>https://www.nature.com/articles/nm0195-39</td>\n",
       "      <td>Natasha J. Caplen, Eric W.F.W. Alton, Duncan M...</td>\n",
       "      <td>1995-01-01</td>\n",
       "      <td>https://www.nature.com/articles/nm0195-39.pdf</td>\n",
       "      <td></td>\n",
       "      <td>Biological Sciences</td>\n",
       "    </tr>\n",
       "    <tr>\n",
       "      <th>4807</th>\n",
       "      <td>The paternal inheritance of the centrosome, th...</td>\n",
       "      <td>https://www.nature.com/articles/nm0195-47</td>\n",
       "      <td>Calvin Simerly, Gwo-Jang Wu, Gerald Schatten</td>\n",
       "      <td>1995-01-01</td>\n",
       "      <td>https://www.nature.com/articles/nm0195-47.pdf</td>\n",
       "      <td></td>\n",
       "      <td>Biological Sciences</td>\n",
       "    </tr>\n",
       "    <tr>\n",
       "      <th>4808</th>\n",
       "      <td>HIV-specific cytotoxic T-cells in HIV-exposed ...</td>\n",
       "      <td>https://www.nature.com/articles/nm0195-59</td>\n",
       "      <td>Sarah Rowland-Jones, Julian Sutton, Hilton Whi...</td>\n",
       "      <td>1995-01-01</td>\n",
       "      <td>https://www.nature.com/articles/nm0195-59.pdf</td>\n",
       "      <td></td>\n",
       "      <td>Biological Sciences</td>\n",
       "    </tr>\n",
       "  </tbody>\n",
       "</table>\n",
       "<p>4809 rows × 7 columns</p>\n",
       "</div>"
      ],
      "text/plain": [
       "                                                  Title  \\\n",
       "0     Semaglutide in patients with overweight or obe...   \n",
       "1     Subclassification of obesity for precision pre...   \n",
       "2        Global genomic surveillance of monkeypox virus   \n",
       "3     Home-based transcranial direct current stimula...   \n",
       "4     AAV gene therapy for Duchenne muscular dystrop...   \n",
       "...                                                 ...   \n",
       "4804  Microsatellite instability in primary neoplasm...   \n",
       "4805  Serial magnetic resonance imaging of experimen...   \n",
       "4806  Liposome-mediatedCFTRgene transfer to the nasa...   \n",
       "4807  The paternal inheritance of the centrosome, th...   \n",
       "4808  HIV-specific cytotoxic T-cells in HIV-exposed ...   \n",
       "\n",
       "                                                    URL  \\\n",
       "0     https://www.nature.com/articles/s41591-024-033...   \n",
       "1     https://www.nature.com/articles/s41591-024-032...   \n",
       "2     https://www.nature.com/articles/s41591-024-033...   \n",
       "3     https://www.nature.com/articles/s41591-024-033...   \n",
       "4     https://www.nature.com/articles/s41591-024-033...   \n",
       "...                                                 ...   \n",
       "4804          https://www.nature.com/articles/nm0195-65   \n",
       "4805          https://www.nature.com/articles/nm0195-69   \n",
       "4806          https://www.nature.com/articles/nm0195-39   \n",
       "4807          https://www.nature.com/articles/nm0195-47   \n",
       "4808          https://www.nature.com/articles/nm0195-59   \n",
       "\n",
       "                                 Authors (compact list)  Published  \\\n",
       "0     Ellen M. Apperloo, Jose L. Gorriz, Hiddo J. L.... 2024-10-25   \n",
       "1           Daniel E. Coral, Femke Smit, Paul W. Franks 2024-10-24   \n",
       "2     James R. Otieno, Christopher Ruis, Lorenzo Sub... 2024-10-23   \n",
       "3     Rachel D. Woodham, Sudhakar Selvaraj, Cynthia ... 2024-10-21   \n",
       "4     Jerry R. Mendell, Francesco Muntoni, Louise R.... 2024-10-09   \n",
       "...                                                 ...        ...   \n",
       "4804  Gauri C. Bedi, William H. Westra, David Sidransky 1995-01-01   \n",
       "4805        Michael P. Skinner, Chun Yuan, Russell Ross 1995-01-01   \n",
       "4806  Natasha J. Caplen, Eric W.F.W. Alton, Duncan M... 1995-01-01   \n",
       "4807       Calvin Simerly, Gwo-Jang Wu, Gerald Schatten 1995-01-01   \n",
       "4808  Sarah Rowland-Jones, Julian Sutton, Hilton Whi... 1995-01-01   \n",
       "\n",
       "                                                PDF URL  Open Access  \\\n",
       "0     https://www.nature.com/articles/s41591-024-033...                \n",
       "1     https://www.nature.com/articles/s41591-024-032...  Open Access   \n",
       "2     https://www.nature.com/articles/s41591-024-033...                \n",
       "3     https://www.nature.com/articles/s41591-024-033...  Open Access   \n",
       "4     https://www.nature.com/articles/s41591-024-033...  Open Access   \n",
       "...                                                 ...          ...   \n",
       "4804      https://www.nature.com/articles/nm0195-65.pdf                \n",
       "4805      https://www.nature.com/articles/nm0195-69.pdf                \n",
       "4806      https://www.nature.com/articles/nm0195-39.pdf                \n",
       "4807      https://www.nature.com/articles/nm0195-47.pdf                \n",
       "4808      https://www.nature.com/articles/nm0195-59.pdf                \n",
       "\n",
       "        Area of Knowledge  \n",
       "0     Biological Sciences  \n",
       "1     Biological Sciences  \n",
       "2     Biological Sciences  \n",
       "3     Biological Sciences  \n",
       "4     Biological Sciences  \n",
       "...                   ...  \n",
       "4804  Biological Sciences  \n",
       "4805  Biological Sciences  \n",
       "4806  Biological Sciences  \n",
       "4807  Biological Sciences  \n",
       "4808  Biological Sciences  \n",
       "\n",
       "[4809 rows x 7 columns]"
      ]
     },
     "execution_count": 12,
     "metadata": {},
     "output_type": "execute_result"
    }
   ],
   "source": [
    "df_nature_medicine['Published'] = pd.to_datetime(df_nature_medicine['Published'])\n",
    "df_nature_medicine"
   ]
  },
  {
   "cell_type": "markdown",
   "id": "6d36ea64-6684-4c55-938c-a2606fead08b",
   "metadata": {},
   "source": [
    "#### Selecting the 'Open Access' articles published before the advent of ChatGPT"
   ]
  },
  {
   "cell_type": "markdown",
   "id": "087eb11c-a48d-479a-86d9-72b8a65cb9d3",
   "metadata": {},
   "source": [
    "ChatGPT was released by OpenAI on November 30, 2022."
   ]
  },
  {
   "cell_type": "code",
   "execution_count": 13,
   "id": "59ed5992-3291-43b9-a8f6-9255aca71018",
   "metadata": {},
   "outputs": [
    {
     "data": {
      "text/html": [
       "<div>\n",
       "<style scoped>\n",
       "    .dataframe tbody tr th:only-of-type {\n",
       "        vertical-align: middle;\n",
       "    }\n",
       "\n",
       "    .dataframe tbody tr th {\n",
       "        vertical-align: top;\n",
       "    }\n",
       "\n",
       "    .dataframe thead th {\n",
       "        text-align: right;\n",
       "    }\n",
       "</style>\n",
       "<table border=\"1\" class=\"dataframe\">\n",
       "  <thead>\n",
       "    <tr style=\"text-align: right;\">\n",
       "      <th></th>\n",
       "      <th>Title</th>\n",
       "      <th>URL</th>\n",
       "      <th>Authors (compact list)</th>\n",
       "      <th>Published</th>\n",
       "      <th>PDF URL</th>\n",
       "      <th>Open Access</th>\n",
       "      <th>Area of Knowledge</th>\n",
       "    </tr>\n",
       "  </thead>\n",
       "  <tbody>\n",
       "    <tr>\n",
       "      <th>0</th>\n",
       "      <td>CSF tau microtubule-binding region identifies ...</td>\n",
       "      <td>https://www.nature.com/articles/s41591-022-020...</td>\n",
       "      <td>Kanta Horie, Nicolas R. Barthélemy, Chihiro Sato</td>\n",
       "      <td>2022-11-24</td>\n",
       "      <td>https://www.nature.com/articles/s41591-022-020...</td>\n",
       "      <td>Open Access</td>\n",
       "      <td>Biological Sciences</td>\n",
       "    </tr>\n",
       "    <tr>\n",
       "      <th>1</th>\n",
       "      <td>Global and regional estimates of orphans attri...</td>\n",
       "      <td>https://www.nature.com/articles/s41591-022-021...</td>\n",
       "      <td>Florence Guida, Rachel Kidman, Valerie McCormack</td>\n",
       "      <td>2022-11-20</td>\n",
       "      <td>https://www.nature.com/articles/s41591-022-021...</td>\n",
       "      <td>Open Access</td>\n",
       "      <td>Biological Sciences</td>\n",
       "    </tr>\n",
       "    <tr>\n",
       "      <th>2</th>\n",
       "      <td>Amyloid and tau PET-positive cognitively unimp...</td>\n",
       "      <td>https://www.nature.com/articles/s41591-022-020...</td>\n",
       "      <td>Rik Ossenkoppele, Alexa Pichet Binette, Oskar ...</td>\n",
       "      <td>2022-11-10</td>\n",
       "      <td>https://www.nature.com/articles/s41591-022-020...</td>\n",
       "      <td>Open Access</td>\n",
       "      <td>Biological Sciences</td>\n",
       "    </tr>\n",
       "    <tr>\n",
       "      <th>3</th>\n",
       "      <td>Acute and postacute sequelae associated with S...</td>\n",
       "      <td>https://www.nature.com/articles/s41591-022-020...</td>\n",
       "      <td>Benjamin Bowe, Yan Xie, Ziyad Al-Aly</td>\n",
       "      <td>2022-11-10</td>\n",
       "      <td>https://www.nature.com/articles/s41591-022-020...</td>\n",
       "      <td>Open Access</td>\n",
       "      <td>Biological Sciences</td>\n",
       "    </tr>\n",
       "    <tr>\n",
       "      <th>4</th>\n",
       "      <td>Rare and common genetic determinants of metabo...</td>\n",
       "      <td>https://www.nature.com/articles/s41591-022-020...</td>\n",
       "      <td>Praveen Surendran, Isobel D. Stewart, Claudia ...</td>\n",
       "      <td>2022-11-10</td>\n",
       "      <td>https://www.nature.com/articles/s41591-022-020...</td>\n",
       "      <td>Open Access</td>\n",
       "      <td>Biological Sciences</td>\n",
       "    </tr>\n",
       "    <tr>\n",
       "      <th>...</th>\n",
       "      <td>...</td>\n",
       "      <td>...</td>\n",
       "      <td>...</td>\n",
       "      <td>...</td>\n",
       "      <td>...</td>\n",
       "      <td>...</td>\n",
       "      <td>...</td>\n",
       "    </tr>\n",
       "    <tr>\n",
       "      <th>171</th>\n",
       "      <td>Investigation of the role of typhoid toxin in ...</td>\n",
       "      <td>https://www.nature.com/articles/s41591-019-0505-4</td>\n",
       "      <td>Malick M. Gibani, Elizabeth Jones, Andrew J. P...</td>\n",
       "      <td>2019-07-03</td>\n",
       "      <td>https://www.nature.com/articles/s41591-019-050...</td>\n",
       "      <td>Open Access</td>\n",
       "      <td>Biological Sciences</td>\n",
       "    </tr>\n",
       "    <tr>\n",
       "      <th>172</th>\n",
       "      <td>The vaginal microbiome and preterm birth</td>\n",
       "      <td>https://www.nature.com/articles/s41591-019-0450-2</td>\n",
       "      <td>Jennifer M. Fettweis, Myrna G. Serrano, Gregor...</td>\n",
       "      <td>2019-05-29</td>\n",
       "      <td>https://www.nature.com/articles/s41591-019-045...</td>\n",
       "      <td>Open Access</td>\n",
       "      <td>Biological Sciences</td>\n",
       "    </tr>\n",
       "    <tr>\n",
       "      <th>173</th>\n",
       "      <td>IFN-γ-independent immune markers ofMycobacteri...</td>\n",
       "      <td>https://www.nature.com/articles/s41591-019-0441-3</td>\n",
       "      <td>Lenette L. Lu, Malisa T. Smith, Galit Alter</td>\n",
       "      <td>2019-05-20</td>\n",
       "      <td>https://www.nature.com/articles/s41591-019-044...</td>\n",
       "      <td>Open Access</td>\n",
       "      <td>Biological Sciences</td>\n",
       "    </tr>\n",
       "    <tr>\n",
       "      <th>174</th>\n",
       "      <td>A patient-level pooled analysis of treatment-s...</td>\n",
       "      <td>https://www.nature.com/articles/s41591-018-0224-2</td>\n",
       "      <td>Marjorie Z. Imperial, Payam Nahid, Rada M. Savic</td>\n",
       "      <td>2018-11-05</td>\n",
       "      <td>https://www.nature.com/articles/s41591-018-022...</td>\n",
       "      <td>Open Access</td>\n",
       "      <td>Biological Sciences</td>\n",
       "    </tr>\n",
       "    <tr>\n",
       "      <th>175</th>\n",
       "      <td>A single injection of crystallizable fragment ...</td>\n",
       "      <td>https://www.nature.com/articles/s41591-018-0001-2</td>\n",
       "      <td>Rajeev Gautam, Yoshiaki Nishimura, Malcolm A. ...</td>\n",
       "      <td>2018-04-16</td>\n",
       "      <td>https://www.nature.com/articles/s41591-018-000...</td>\n",
       "      <td>Open Access</td>\n",
       "      <td>Biological Sciences</td>\n",
       "    </tr>\n",
       "  </tbody>\n",
       "</table>\n",
       "<p>176 rows × 7 columns</p>\n",
       "</div>"
      ],
      "text/plain": [
       "                                                 Title  \\\n",
       "0    CSF tau microtubule-binding region identifies ...   \n",
       "1    Global and regional estimates of orphans attri...   \n",
       "2    Amyloid and tau PET-positive cognitively unimp...   \n",
       "3    Acute and postacute sequelae associated with S...   \n",
       "4    Rare and common genetic determinants of metabo...   \n",
       "..                                                 ...   \n",
       "171  Investigation of the role of typhoid toxin in ...   \n",
       "172           The vaginal microbiome and preterm birth   \n",
       "173  IFN-γ-independent immune markers ofMycobacteri...   \n",
       "174  A patient-level pooled analysis of treatment-s...   \n",
       "175  A single injection of crystallizable fragment ...   \n",
       "\n",
       "                                                   URL  \\\n",
       "0    https://www.nature.com/articles/s41591-022-020...   \n",
       "1    https://www.nature.com/articles/s41591-022-021...   \n",
       "2    https://www.nature.com/articles/s41591-022-020...   \n",
       "3    https://www.nature.com/articles/s41591-022-020...   \n",
       "4    https://www.nature.com/articles/s41591-022-020...   \n",
       "..                                                 ...   \n",
       "171  https://www.nature.com/articles/s41591-019-0505-4   \n",
       "172  https://www.nature.com/articles/s41591-019-0450-2   \n",
       "173  https://www.nature.com/articles/s41591-019-0441-3   \n",
       "174  https://www.nature.com/articles/s41591-018-0224-2   \n",
       "175  https://www.nature.com/articles/s41591-018-0001-2   \n",
       "\n",
       "                                Authors (compact list)  Published  \\\n",
       "0     Kanta Horie, Nicolas R. Barthélemy, Chihiro Sato 2022-11-24   \n",
       "1     Florence Guida, Rachel Kidman, Valerie McCormack 2022-11-20   \n",
       "2    Rik Ossenkoppele, Alexa Pichet Binette, Oskar ... 2022-11-10   \n",
       "3                 Benjamin Bowe, Yan Xie, Ziyad Al-Aly 2022-11-10   \n",
       "4    Praveen Surendran, Isobel D. Stewart, Claudia ... 2022-11-10   \n",
       "..                                                 ...        ...   \n",
       "171  Malick M. Gibani, Elizabeth Jones, Andrew J. P... 2019-07-03   \n",
       "172  Jennifer M. Fettweis, Myrna G. Serrano, Gregor... 2019-05-29   \n",
       "173        Lenette L. Lu, Malisa T. Smith, Galit Alter 2019-05-20   \n",
       "174   Marjorie Z. Imperial, Payam Nahid, Rada M. Savic 2018-11-05   \n",
       "175  Rajeev Gautam, Yoshiaki Nishimura, Malcolm A. ... 2018-04-16   \n",
       "\n",
       "                                               PDF URL  Open Access  \\\n",
       "0    https://www.nature.com/articles/s41591-022-020...  Open Access   \n",
       "1    https://www.nature.com/articles/s41591-022-021...  Open Access   \n",
       "2    https://www.nature.com/articles/s41591-022-020...  Open Access   \n",
       "3    https://www.nature.com/articles/s41591-022-020...  Open Access   \n",
       "4    https://www.nature.com/articles/s41591-022-020...  Open Access   \n",
       "..                                                 ...          ...   \n",
       "171  https://www.nature.com/articles/s41591-019-050...  Open Access   \n",
       "172  https://www.nature.com/articles/s41591-019-045...  Open Access   \n",
       "173  https://www.nature.com/articles/s41591-019-044...  Open Access   \n",
       "174  https://www.nature.com/articles/s41591-018-022...  Open Access   \n",
       "175  https://www.nature.com/articles/s41591-018-000...  Open Access   \n",
       "\n",
       "       Area of Knowledge  \n",
       "0    Biological Sciences  \n",
       "1    Biological Sciences  \n",
       "2    Biological Sciences  \n",
       "3    Biological Sciences  \n",
       "4    Biological Sciences  \n",
       "..                   ...  \n",
       "171  Biological Sciences  \n",
       "172  Biological Sciences  \n",
       "173  Biological Sciences  \n",
       "174  Biological Sciences  \n",
       "175  Biological Sciences  \n",
       "\n",
       "[176 rows x 7 columns]"
      ]
     },
     "execution_count": 13,
     "metadata": {},
     "output_type": "execute_result"
    }
   ],
   "source": [
    "df_nature_medicine_open_access = df_nature_medicine[df_nature_medicine['Open Access'] == 'Open Access']\n",
    "df_nature_medicine_open_access = df_nature_medicine_open_access[df_nature_medicine_open_access['Published'] <= '2022-11-30']\n",
    "df_nature_medicine_open_access = df_nature_medicine_open_access.reset_index(drop=True)\n",
    "df_nature_medicine_open_access"
   ]
  },
  {
   "cell_type": "markdown",
   "id": "80461c57-3d3c-49f3-a9bb-3fef5dbc279b",
   "metadata": {},
   "source": [
    "#### Inspecting a few articles"
   ]
  },
  {
   "cell_type": "code",
   "execution_count": 14,
   "id": "f449f8b8-f5df-4c59-9746-b7513b5eb50e",
   "metadata": {},
   "outputs": [
    {
     "data": {
      "text/plain": [
       "'https://www.nature.com/articles/s41591-022-02075-9.pdf'"
      ]
     },
     "execution_count": 14,
     "metadata": {},
     "output_type": "execute_result"
    }
   ],
   "source": [
    "df_nature_medicine_open_access.at[0, 'PDF URL']"
   ]
  },
  {
   "cell_type": "markdown",
   "id": "25c92765-1fa2-4157-b9e0-6499d79554a2",
   "metadata": {},
   "source": [
    "#### Exporting to a file"
   ]
  },
  {
   "cell_type": "code",
   "execution_count": 16,
   "id": "3488aedd-703d-4045-bfb1-f67a6b2c8518",
   "metadata": {},
   "outputs": [],
   "source": [
    "df_nature_medicine_open_access.to_json(f\"{output_directory}/nature_medicine_open_access.jsonl\", orient='records', lines=True)"
   ]
  },
  {
   "cell_type": "markdown",
   "id": "25d5c9f0-b4de-4de3-af9b-cf37bafb9ebb",
   "metadata": {},
   "source": [
    "### Scraping [Annual Review of Public Health](https://www.annualreviews.org/content/journals/publhealth)"
   ]
  },
  {
   "cell_type": "markdown",
   "id": "ed0b152c-ae27-4742-a02f-3484a6ce8853",
   "metadata": {},
   "source": [
    "#### Scraping the articles"
   ]
  },
  {
   "cell_type": "markdown",
   "id": "2324f297-3f3c-4255-895d-6d47dfc43e1d",
   "metadata": {},
   "source": [
    "##### Function to scrape the articles"
   ]
  },
  {
   "cell_type": "markdown",
   "id": "a4bb308f-c5bc-4737-8ba6-74969debae95",
   "metadata": {},
   "source": [
    "Make sure you run the function `scrape_articles` on section `Scraping Annual Review of Plant Biology` before scraping the articles."
   ]
  },
  {
   "cell_type": "markdown",
   "id": "f556bf92-40b3-4210-8517-4d1ef4f47ac5",
   "metadata": {},
   "source": [
    "##### Volume 43, 2022"
   ]
  },
  {
   "cell_type": "code",
   "execution_count": 24,
   "id": "29e84ffa-0958-432b-992c-31fd68eebfbd",
   "metadata": {},
   "outputs": [],
   "source": [
    "root_url = 'https://www.annualreviews.org'\n",
    "article_list_url = 'https://www.annualreviews.org/content/journals/publhealth/43/1?page='\n",
    "start_page = 1\n",
    "end_page = 2\n",
    "area_of_knowledge = 'Health Sciences'"
   ]
  },
  {
   "cell_type": "code",
   "execution_count": 25,
   "id": "edb1177a-97a6-464c-aded-cc29f61d6739",
   "metadata": {},
   "outputs": [
    {
     "name": "stderr",
     "output_type": "stream",
     "text": [
      "100%|██████████| 2/2 [00:10<00:00,  5.01s/it]\n"
     ]
    }
   ],
   "source": [
    "df_2022 = scrape_articles(article_list_url, root_url, start_page, end_page, area_of_knowledge)"
   ]
  },
  {
   "cell_type": "markdown",
   "id": "a850fb68-ada1-4a24-9230-51d5ab207264",
   "metadata": {},
   "source": [
    "##### Volume 42, 2021"
   ]
  },
  {
   "cell_type": "code",
   "execution_count": 26,
   "id": "d4fdb5b6-7f6a-4bd8-b8e3-4b95e2580919",
   "metadata": {},
   "outputs": [],
   "source": [
    "root_url = 'https://www.annualreviews.org'\n",
    "article_list_url = 'https://www.annualreviews.org/content/journals/publhealth/42/1?page='\n",
    "start_page = 1\n",
    "end_page = 2\n",
    "area_of_knowledge = 'Health Sciences'"
   ]
  },
  {
   "cell_type": "code",
   "execution_count": 27,
   "id": "bfdd95ce-5b79-4bb9-9435-2803e363c566",
   "metadata": {},
   "outputs": [
    {
     "name": "stderr",
     "output_type": "stream",
     "text": [
      "100%|██████████| 2/2 [00:08<00:00,  4.20s/it]\n"
     ]
    }
   ],
   "source": [
    "df_2021 = scrape_articles(article_list_url, root_url, start_page, end_page, area_of_knowledge)"
   ]
  },
  {
   "cell_type": "markdown",
   "id": "c833e3b0-3c49-4efa-a527-889b22345086",
   "metadata": {},
   "source": [
    "##### Volume 41, 2020"
   ]
  },
  {
   "cell_type": "code",
   "execution_count": 28,
   "id": "7ce94859-4ea1-41e4-ab2b-afddfcf78fe3",
   "metadata": {},
   "outputs": [],
   "source": [
    "root_url = 'https://www.annualreviews.org'\n",
    "article_list_url = 'https://www.annualreviews.org/content/journals/publhealth/41/1?page='\n",
    "start_page = 1\n",
    "end_page = 2\n",
    "area_of_knowledge = 'Health Sciences'"
   ]
  },
  {
   "cell_type": "code",
   "execution_count": 29,
   "id": "026747bb-0cb5-47b9-8e14-063bf8ab00ac",
   "metadata": {},
   "outputs": [
    {
     "name": "stderr",
     "output_type": "stream",
     "text": [
      "100%|██████████| 2/2 [00:08<00:00,  4.41s/it]\n"
     ]
    }
   ],
   "source": [
    "df_2020 = scrape_articles(article_list_url, root_url, start_page, end_page, area_of_knowledge)"
   ]
  },
  {
   "cell_type": "markdown",
   "id": "6e49303f-99c9-4830-91e9-3e86b7903f65",
   "metadata": {},
   "source": [
    "##### Concatenating the DataFrames"
   ]
  },
  {
   "cell_type": "code",
   "execution_count": 30,
   "id": "401a4482-2a65-40c3-8b67-2c141bf74880",
   "metadata": {},
   "outputs": [
    {
     "data": {
      "text/html": [
       "<div>\n",
       "<style scoped>\n",
       "    .dataframe tbody tr th:only-of-type {\n",
       "        vertical-align: middle;\n",
       "    }\n",
       "\n",
       "    .dataframe tbody tr th {\n",
       "        vertical-align: top;\n",
       "    }\n",
       "\n",
       "    .dataframe thead th {\n",
       "        text-align: right;\n",
       "    }\n",
       "</style>\n",
       "<table border=\"1\" class=\"dataframe\">\n",
       "  <thead>\n",
       "    <tr style=\"text-align: right;\">\n",
       "      <th></th>\n",
       "      <th>Title</th>\n",
       "      <th>URL</th>\n",
       "      <th>Authors</th>\n",
       "      <th>Vol/Year/Page Range</th>\n",
       "      <th>DOI</th>\n",
       "      <th>Area of Knowledge</th>\n",
       "    </tr>\n",
       "  </thead>\n",
       "  <tbody>\n",
       "    <tr>\n",
       "      <th>0</th>\n",
       "      <td>Advances in Gender-Transformative Approaches t...</td>\n",
       "      <td>https://www.annualreviews.org/content/journals...</td>\n",
       "      <td>Jane Fisher, , andShelly Makleff</td>\n",
       "      <td>Vol. 43 \\n(2022),pp.1–17</td>\n",
       "      <td>https://doi.org/10.1146/annurev-publhealth-121...</td>\n",
       "      <td>Health Sciences</td>\n",
       "    </tr>\n",
       "    <tr>\n",
       "      <th>1</th>\n",
       "      <td>Methods to Address Confounding and Other Biase...</td>\n",
       "      <td>https://www.annualreviews.org/content/journals...</td>\n",
       "      <td>Maya B. Mathur, , andTyler J. VanderWeele</td>\n",
       "      <td>Vol. 43 \\n(2022),pp.19–35</td>\n",
       "      <td>https://doi.org/10.1146/annurev-publhealth-051...</td>\n",
       "      <td>Health Sciences</td>\n",
       "    </tr>\n",
       "    <tr>\n",
       "      <th>2</th>\n",
       "      <td>Qualitative Research Methods in Chronic Diseas...</td>\n",
       "      <td>https://www.annualreviews.org/content/journals...</td>\n",
       "      <td>Rachel C. Shelton, ,Morgan M. Philbin, , andSh...</td>\n",
       "      <td>Vol. 43 \\n(2022),pp.37–57</td>\n",
       "      <td>https://doi.org/10.1146/annurev-publhealth-012...</td>\n",
       "      <td>Health Sciences</td>\n",
       "    </tr>\n",
       "    <tr>\n",
       "      <th>3</th>\n",
       "      <td>Risks and Opportunities to Ensure Equity in th...</td>\n",
       "      <td>https://www.annualreviews.org/content/journals...</td>\n",
       "      <td>Paul Wesson, ,Yulin Hswen, ,Gilmer Valdes, ,Kr...</td>\n",
       "      <td>Vol. 43 \\n(2022),pp.59–78</td>\n",
       "      <td>https://doi.org/10.1146/annurev-publhealth-051...</td>\n",
       "      <td>Health Sciences</td>\n",
       "    </tr>\n",
       "    <tr>\n",
       "      <th>4</th>\n",
       "      <td>Social Epidemiology: Past, Present, and Future</td>\n",
       "      <td>https://www.annualreviews.org/content/journals...</td>\n",
       "      <td>Ana V. Diez Roux</td>\n",
       "      <td>Vol. 43 \\n(2022),pp.79–98</td>\n",
       "      <td>https://doi.org/10.1146/annurev-publhealth-060...</td>\n",
       "      <td>Health Sciences</td>\n",
       "    </tr>\n",
       "    <tr>\n",
       "      <th>...</th>\n",
       "      <td>...</td>\n",
       "      <td>...</td>\n",
       "      <td>...</td>\n",
       "      <td>...</td>\n",
       "      <td>...</td>\n",
       "      <td>...</td>\n",
       "    </tr>\n",
       "    <tr>\n",
       "      <th>82</th>\n",
       "      <td>A Public Health Approach to Global Child Sex T...</td>\n",
       "      <td>https://www.annualreviews.org/content/journals...</td>\n",
       "      <td>Jordan Greenbaum</td>\n",
       "      <td>Vol. 41 \\n(2020),pp.481–497</td>\n",
       "      <td>https://doi.org/10.1146/annurev-publhealth-040...</td>\n",
       "      <td>Health Sciences</td>\n",
       "    </tr>\n",
       "    <tr>\n",
       "      <th>83</th>\n",
       "      <td>Comparative Approaches to Drug Pricing</td>\n",
       "      <td>https://www.annualreviews.org/content/journals...</td>\n",
       "      <td>So-Yeon Kang, ,Ge Bai, ,Michael J. DiStefano, ...</td>\n",
       "      <td>Vol. 41 \\n(2020),pp.499–512</td>\n",
       "      <td>https://doi.org/10.1146/annurev-publhealth-040...</td>\n",
       "      <td>Health Sciences</td>\n",
       "    </tr>\n",
       "    <tr>\n",
       "      <th>84</th>\n",
       "      <td>Disparities in Access to Oral Health Care</td>\n",
       "      <td>https://www.annualreviews.org/content/journals...</td>\n",
       "      <td>Mary E. Northridge, ,Anjali Kumar, , andRaghbi...</td>\n",
       "      <td>Vol. 41 \\n(2020),pp.513–535</td>\n",
       "      <td>https://doi.org/10.1146/annurev-publhealth-040...</td>\n",
       "      <td>Health Sciences</td>\n",
       "    </tr>\n",
       "    <tr>\n",
       "      <th>85</th>\n",
       "      <td>Medicaid Managed Care's Effects on Costs, Acce...</td>\n",
       "      <td>https://www.annualreviews.org/content/journals...</td>\n",
       "      <td>Daniela Franco Montoya, ,Puneet Kaur Chehal, ,...</td>\n",
       "      <td>Vol. 41 \\n(2020),pp.537–549</td>\n",
       "      <td>https://doi.org/10.1146/annurev-publhealth-040...</td>\n",
       "      <td>Health Sciences</td>\n",
       "    </tr>\n",
       "    <tr>\n",
       "      <th>86</th>\n",
       "      <td>The Impact of Medicare's Alternative Payment M...</td>\n",
       "      <td>https://www.annualreviews.org/content/journals...</td>\n",
       "      <td>Joshua M. Liao, ,Amol S. Navathe, , andRachel ...</td>\n",
       "      <td>Vol. 41 \\n(2020),pp.551–565</td>\n",
       "      <td>https://doi.org/10.1146/annurev-publhealth-040...</td>\n",
       "      <td>Health Sciences</td>\n",
       "    </tr>\n",
       "  </tbody>\n",
       "</table>\n",
       "<p>87 rows × 6 columns</p>\n",
       "</div>"
      ],
      "text/plain": [
       "                                                Title  \\\n",
       "0   Advances in Gender-Transformative Approaches t...   \n",
       "1   Methods to Address Confounding and Other Biase...   \n",
       "2   Qualitative Research Methods in Chronic Diseas...   \n",
       "3   Risks and Opportunities to Ensure Equity in th...   \n",
       "4      Social Epidemiology: Past, Present, and Future   \n",
       "..                                                ...   \n",
       "82  A Public Health Approach to Global Child Sex T...   \n",
       "83             Comparative Approaches to Drug Pricing   \n",
       "84          Disparities in Access to Oral Health Care   \n",
       "85  Medicaid Managed Care's Effects on Costs, Acce...   \n",
       "86  The Impact of Medicare's Alternative Payment M...   \n",
       "\n",
       "                                                  URL  \\\n",
       "0   https://www.annualreviews.org/content/journals...   \n",
       "1   https://www.annualreviews.org/content/journals...   \n",
       "2   https://www.annualreviews.org/content/journals...   \n",
       "3   https://www.annualreviews.org/content/journals...   \n",
       "4   https://www.annualreviews.org/content/journals...   \n",
       "..                                                ...   \n",
       "82  https://www.annualreviews.org/content/journals...   \n",
       "83  https://www.annualreviews.org/content/journals...   \n",
       "84  https://www.annualreviews.org/content/journals...   \n",
       "85  https://www.annualreviews.org/content/journals...   \n",
       "86  https://www.annualreviews.org/content/journals...   \n",
       "\n",
       "                                              Authors  \\\n",
       "0                    Jane Fisher, , andShelly Makleff   \n",
       "1           Maya B. Mathur, , andTyler J. VanderWeele   \n",
       "2   Rachel C. Shelton, ,Morgan M. Philbin, , andSh...   \n",
       "3   Paul Wesson, ,Yulin Hswen, ,Gilmer Valdes, ,Kr...   \n",
       "4                                    Ana V. Diez Roux   \n",
       "..                                                ...   \n",
       "82                                   Jordan Greenbaum   \n",
       "83  So-Yeon Kang, ,Ge Bai, ,Michael J. DiStefano, ...   \n",
       "84  Mary E. Northridge, ,Anjali Kumar, , andRaghbi...   \n",
       "85  Daniela Franco Montoya, ,Puneet Kaur Chehal, ,...   \n",
       "86  Joshua M. Liao, ,Amol S. Navathe, , andRachel ...   \n",
       "\n",
       "            Vol/Year/Page Range  \\\n",
       "0      Vol. 43 \\n(2022),pp.1–17   \n",
       "1     Vol. 43 \\n(2022),pp.19–35   \n",
       "2     Vol. 43 \\n(2022),pp.37–57   \n",
       "3     Vol. 43 \\n(2022),pp.59–78   \n",
       "4     Vol. 43 \\n(2022),pp.79–98   \n",
       "..                          ...   \n",
       "82  Vol. 41 \\n(2020),pp.481–497   \n",
       "83  Vol. 41 \\n(2020),pp.499–512   \n",
       "84  Vol. 41 \\n(2020),pp.513–535   \n",
       "85  Vol. 41 \\n(2020),pp.537–549   \n",
       "86  Vol. 41 \\n(2020),pp.551–565   \n",
       "\n",
       "                                                  DOI Area of Knowledge  \n",
       "0   https://doi.org/10.1146/annurev-publhealth-121...   Health Sciences  \n",
       "1   https://doi.org/10.1146/annurev-publhealth-051...   Health Sciences  \n",
       "2   https://doi.org/10.1146/annurev-publhealth-012...   Health Sciences  \n",
       "3   https://doi.org/10.1146/annurev-publhealth-051...   Health Sciences  \n",
       "4   https://doi.org/10.1146/annurev-publhealth-060...   Health Sciences  \n",
       "..                                                ...               ...  \n",
       "82  https://doi.org/10.1146/annurev-publhealth-040...   Health Sciences  \n",
       "83  https://doi.org/10.1146/annurev-publhealth-040...   Health Sciences  \n",
       "84  https://doi.org/10.1146/annurev-publhealth-040...   Health Sciences  \n",
       "85  https://doi.org/10.1146/annurev-publhealth-040...   Health Sciences  \n",
       "86  https://doi.org/10.1146/annurev-publhealth-040...   Health Sciences  \n",
       "\n",
       "[87 rows x 6 columns]"
      ]
     },
     "execution_count": 30,
     "metadata": {},
     "output_type": "execute_result"
    }
   ],
   "source": [
    "df_ar_public_health = pd.concat([df_2022, df_2021, df_2020], ignore_index=True)\n",
    "df_ar_public_health"
   ]
  },
  {
   "cell_type": "markdown",
   "id": "a3103ac4-31b0-4cbf-8c2b-38081412f221",
   "metadata": {},
   "source": [
    "#### Inspecting a few articles"
   ]
  },
  {
   "cell_type": "markdown",
   "id": "330f82fd-4479-4a17-8477-d1daf0a0d41d",
   "metadata": {},
   "source": [
    "**Attention**: Some of the documents might in fact be `Editorials` rather than `Research articles`. Extra refinement is recommended when using the dataset."
   ]
  },
  {
   "cell_type": "code",
   "execution_count": 31,
   "id": "3e6dea7c-f3f0-4676-a5f5-d44c4d082ea3",
   "metadata": {},
   "outputs": [
    {
     "data": {
      "text/plain": [
       "'https://www.annualreviews.org/content/journals/10.1146/annurev-publhealth-121019-053834'"
      ]
     },
     "execution_count": 31,
     "metadata": {},
     "output_type": "execute_result"
    }
   ],
   "source": [
    "df_ar_public_health.at[0, 'URL']"
   ]
  },
  {
   "cell_type": "markdown",
   "id": "d1304561-c64c-43d4-8b4f-49c0113aca9f",
   "metadata": {},
   "source": [
    "#### Exporting to a file"
   ]
  },
  {
   "cell_type": "code",
   "execution_count": 32,
   "id": "74197251-b31a-431a-9076-e658f3922f7a",
   "metadata": {},
   "outputs": [],
   "source": [
    "df_ar_public_health.to_json(f\"{output_directory}/ar_public_health.jsonl\", orient='records', lines=True)"
   ]
  },
  {
   "cell_type": "markdown",
   "id": "66b5de4e-62e7-430b-ad93-a233054aa701",
   "metadata": {},
   "source": [
    "### Scraping [Lancet Public Health](https://www.thelancet.com/journals/lanpub/home)"
   ]
  },
  {
   "cell_type": "markdown",
   "id": "12120fcf-2e74-47a4-a551-ebfd0e9c914f",
   "metadata": {},
   "source": [
    "#### Capturing a few document pages for inspection"
   ]
  },
  {
   "cell_type": "code",
   "execution_count": 3,
   "id": "0e148400-39ce-43eb-bcd5-5538b728f6c4",
   "metadata": {},
   "outputs": [],
   "source": [
    "url_sample_1 = 'https://www.thelancet.com/journals/lanpub/issue/vol5no1/PIIS2468-2667(19)X0013-4'\n",
    "url_sample_11 = 'https://www.thelancet.com/journals/lanpub/article/PIIS2468-2667(19)30230-0/fulltext'"
   ]
  },
  {
   "cell_type": "code",
   "execution_count": 4,
   "id": "77c284f1-9c16-4275-ad59-806273d398d1",
   "metadata": {},
   "outputs": [],
   "source": [
    "# Setting up the WebDriver (make sure you have downloaded the Microsoft Edge WebDriver executable)\n",
    "# https://developer.microsoft.com/en-us/microsoft-edge/tools/webdriver/\n",
    "service = Service(r'C:\\Users\\eyamr\\OneDrive\\00-Technology\\laelgelc\\edgedriver_win64\\msedgedriver.exe')\n",
    "driver = webdriver.Edge(service=service)\n",
    "\n",
    "# Navigating to target URL 1 and saving its web page\n",
    "driver.get(url_sample_1)\n",
    "wait = WebDriverWait(driver, 10)\n",
    "#time.sleep(15)  # Waits for 15 seconds\n",
    "#wait.until(EC.presence_of_element_located((By.TAG_NAME, 'html')))\n",
    "\n",
    "# Extra reliability check: Wait until the page source stops changing\n",
    "max_wait_time = 30  # Max time in seconds\n",
    "start_time = time.time()\n",
    "previous_html = ''\n",
    "while True:\n",
    "    current_html = driver.page_source\n",
    "    if current_html == previous_html or time.time() - start_time > max_wait_time:\n",
    "        break  # Exit loop if page stops changing or max wait time is exceeded\n",
    "    previous_html = current_html\n",
    "    time.sleep(2)  # Short delay before checking again\n",
    "\n",
    "# Now, the page is fully loaded - extract content!\n",
    "\n",
    "document_page_sample_1 = driver.page_source\n",
    "\n",
    "with open(f'{output_directory}/lancet_public_health_sample1.html', 'w', encoding='utf8', newline='\\n') as file:\n",
    "    file.write(document_page_sample_1)\n",
    "\n",
    "# Closing the WebDriver\n",
    "driver.quit()"
   ]
  },
  {
   "cell_type": "code",
   "execution_count": 5,
   "id": "2c5ac26f-22be-460a-a74f-8aae1dfea95b",
   "metadata": {},
   "outputs": [],
   "source": [
    "# Setting up the WebDriver (make sure you have downloaded the Microsoft Edge WebDriver executable)\n",
    "# https://developer.microsoft.com/en-us/microsoft-edge/tools/webdriver/\n",
    "service = Service(r'C:\\Users\\eyamr\\OneDrive\\00-Technology\\laelgelc\\edgedriver_win64\\msedgedriver.exe')\n",
    "driver = webdriver.Edge(service=service)\n",
    "\n",
    "# Navigating to target URL 2 and saving its web page\n",
    "driver.get(url_sample_11)\n",
    "wait = WebDriverWait(driver, 10)\n",
    "#time.sleep(15)  # Waits for 15 seconds\n",
    "#wait.until(EC.presence_of_element_located((By.TAG_NAME, 'html')))\n",
    "\n",
    "# Extra reliability check: Wait until the page source stops changing\n",
    "max_wait_time = 30  # Max time in seconds\n",
    "start_time = time.time()\n",
    "previous_html = ''\n",
    "while True:\n",
    "    current_html = driver.page_source\n",
    "    if current_html == previous_html or time.time() - start_time > max_wait_time:\n",
    "        break  # Exit loop if page stops changing or max wait time is exceeded\n",
    "    previous_html = current_html\n",
    "    time.sleep(2)  # Short delay before checking again\n",
    "\n",
    "# Now, the page is fully loaded - extract content!\n",
    "\n",
    "document_page_sample_11 = driver.page_source\n",
    "\n",
    "with open(f'{output_directory}/lancet_public_health_sample11.html', 'w', encoding='utf8', newline='\\n') as file:\n",
    "    file.write(document_page_sample_11)\n",
    "\n",
    "# Closing the WebDriver\n",
    "driver.quit()"
   ]
  },
  {
   "cell_type": "markdown",
   "id": "895b6392-c1fb-42d7-bd7b-f6390cd571be",
   "metadata": {},
   "source": [
    "#### Scraping the articles"
   ]
  },
  {
   "cell_type": "markdown",
   "id": "89cb9031-80f9-4c96-864d-820bf832c648",
   "metadata": {},
   "source": [
    "##### Function to scrape the articles"
   ]
  },
  {
   "cell_type": "code",
   "execution_count": 3,
   "id": "6a999bdb-ed00-45f0-a397-f4a6016e9e7c",
   "metadata": {},
   "outputs": [],
   "source": [
    "def scrape_articles(root_url, article_list_url, area_of_knowledge):\n",
    "    # Setting up the WebDriver\n",
    "    service = Service(r'C:\\Users\\eyamr\\OneDrive\\00-Technology\\laelgelc\\edgedriver_win64\\msedgedriver.exe')\n",
    "    driver = webdriver.Edge(service=service)\n",
    "\n",
    "    data = []\n",
    "\n",
    "    driver.get(article_list_url)\n",
    "\n",
    "    # Explicit wait for main article elements\n",
    "    wait = WebDriverWait(driver, 10)\n",
    "\n",
    "    # Ensure stable page load\n",
    "    max_wait_time = 30\n",
    "    start_time = time.time()\n",
    "    previous_html = ''\n",
    "    while True:\n",
    "        current_html = driver.page_source\n",
    "        if current_html == previous_html or time.time() - start_time > max_wait_time:\n",
    "            break\n",
    "        previous_html = current_html\n",
    "        time.sleep(2)\n",
    "\n",
    "    # Parse page source with BeautifulSoup\n",
    "    soup = BeautifulSoup(driver.page_source, 'lxml')\n",
    "\n",
    "    # Extract Published/Volume/Issue\n",
    "    page_title_tag = soup.find('meta', {'name': 'name'})\n",
    "    page_title = page_title_tag.get('content', '') if page_title_tag else ''\n",
    "    published = page_title.split(',')[1].strip() if ',' in page_title else ''\n",
    "    volume = page_title.split('Volume ')[-1].split(',')[0].strip() if 'Volume' in page_title else ''\n",
    "    issue = page_title.split('Issue ')[-1].split(',')[0].strip() if 'Issue' in page_title else ''\n",
    "\n",
    "    # Extract articles\n",
    "    articles = []\n",
    "    articles_header = soup.find('h2', string='Articles')\n",
    "    if articles_header:\n",
    "        articles_list = articles_header.find_next('ul', class_='toc__body')\n",
    "        if articles_list:\n",
    "            articles = articles_list.find_all('li', class_='articleCitation')\n",
    "\n",
    "    for article in articles:\n",
    "        # Extract article type\n",
    "        article_type = 'Article'\n",
    "    \n",
    "        # Extract title\n",
    "        title_tag = article.find('h3', class_='toc__item__title')\n",
    "        title = title_tag.get_text(strip=True) if title_tag else ''\n",
    "    \n",
    "        # Extract article URL\n",
    "        article_url_tag = title_tag.find('a') if title_tag else None\n",
    "        article_url = f\"{root_url}{article_url_tag.get('href', '')}\" if article_url_tag else ''\n",
    "    \n",
    "        # Extract authors\n",
    "        authors_list = article.find('ul', class_='toc__item__authors')\n",
    "        authors = ', '.join([author.get_text(strip=True).rstrip(',') for author in authors_list.find_all('li', class_='loa__item')]) if authors_list else ''\n",
    "    \n",
    "        # Extract PDF URL\n",
    "        pdf_link_tag = article.find('a', class_='pdfLink')\n",
    "        pdf_url = f\"{root_url}{pdf_link_tag.get('href', '')}\" if pdf_link_tag else ''\n",
    "    \n",
    "        # Append extracted data\n",
    "        data.append({\n",
    "            'Article Type': article_type,\n",
    "            'Title': title,\n",
    "            'URL': article_url,\n",
    "            'Authors': authors,\n",
    "            'Vol/Issue': f\"Volume {volume}/Issue {issue}\",\n",
    "            'Published': published,\n",
    "            'PDF URL': pdf_url,\n",
    "            'Area of Knowledge': area_of_knowledge\n",
    "        })\n",
    "\n",
    "    # Close WebDriver\n",
    "    driver.quit()\n",
    "\n",
    "    return pd.DataFrame(data)"
   ]
  },
  {
   "cell_type": "markdown",
   "id": "c2eca2a7-8b42-47e7-a517-718506555a76",
   "metadata": {},
   "source": [
    "##### Volume 5 (Issue 1 - 12)"
   ]
  },
  {
   "cell_type": "markdown",
   "id": "9c5d2cbd-4fac-4950-aab7-dd16ad886162",
   "metadata": {},
   "source": [
    "The Lancet Public Health's website blocks iterations by pushing a `CAPTCHA`. This requires scraping page by page."
   ]
  },
  {
   "cell_type": "code",
   "execution_count": 4,
   "id": "c8abfd12-b59e-4712-bdb5-27ce9aea9c77",
   "metadata": {},
   "outputs": [],
   "source": [
    "root_url = 'https://www.thelancet.com'\n",
    "article_list_url = 'https://www.thelancet.com/journals/lanpub/issue/vol5no1/PIIS2468-2667(19)X0013-4'\n",
    "area_of_knowledge = 'Health Sciences'"
   ]
  },
  {
   "cell_type": "code",
   "execution_count": 5,
   "id": "216ca922-fd89-4dd8-85aa-293e813edd4c",
   "metadata": {},
   "outputs": [],
   "source": [
    "df_v5i1 = scrape_articles(root_url, article_list_url, area_of_knowledge)"
   ]
  },
  {
   "cell_type": "code",
   "execution_count": 6,
   "id": "7cd4c45f-9728-425a-b4a5-4fcdb4af70d5",
   "metadata": {},
   "outputs": [],
   "source": [
    "root_url = 'https://www.thelancet.com'\n",
    "article_list_url = 'https://www.thelancet.com/journals/lanpub/issue/vol5no2/PIIS2468-2667(20)X0002-8'\n",
    "area_of_knowledge = 'Health Sciences'"
   ]
  },
  {
   "cell_type": "code",
   "execution_count": 7,
   "id": "4ae38f56-a10b-42cc-862f-eaa5147ea634",
   "metadata": {},
   "outputs": [],
   "source": [
    "df_v5i2 = scrape_articles(root_url, article_list_url, area_of_knowledge)"
   ]
  },
  {
   "cell_type": "code",
   "execution_count": 8,
   "id": "ebf21f4a-b231-4452-83f2-a2d76be20f21",
   "metadata": {},
   "outputs": [],
   "source": [
    "root_url = 'https://www.thelancet.com'\n",
    "article_list_url = 'https://www.thelancet.com/journals/lanpub/issue/vol5no3/PIIS2468-2667(20)X0003-X'\n",
    "area_of_knowledge = 'Health Sciences'"
   ]
  },
  {
   "cell_type": "code",
   "execution_count": 9,
   "id": "34454f46-1091-4ae3-bd9c-6a18553ce423",
   "metadata": {},
   "outputs": [],
   "source": [
    "df_v5i3 = scrape_articles(root_url, article_list_url, area_of_knowledge)"
   ]
  },
  {
   "cell_type": "code",
   "execution_count": 10,
   "id": "f415466e-72b8-49b1-ad9d-7014e81f900c",
   "metadata": {},
   "outputs": [],
   "source": [
    "root_url = 'https://www.thelancet.com'\n",
    "article_list_url = 'https://www.thelancet.com/journals/lanpub/issue/vol5no4/PIIS2468-2667(20)X0004-1'\n",
    "area_of_knowledge = 'Health Sciences'"
   ]
  },
  {
   "cell_type": "code",
   "execution_count": 11,
   "id": "83f69d31-7019-48cf-b005-4d476a2dcb0b",
   "metadata": {},
   "outputs": [],
   "source": [
    "df_v5i4 = scrape_articles(root_url, article_list_url, area_of_knowledge)"
   ]
  },
  {
   "cell_type": "code",
   "execution_count": 12,
   "id": "65bf85cb-ddf6-4023-a772-c79427474db6",
   "metadata": {},
   "outputs": [],
   "source": [
    "root_url = 'https://www.thelancet.com'\n",
    "article_list_url = 'https://www.thelancet.com/journals/lanpub/issue/vol5no5/PIIS2468-2667(20)X0005-3'\n",
    "area_of_knowledge = 'Health Sciences'"
   ]
  },
  {
   "cell_type": "code",
   "execution_count": 13,
   "id": "9e622787-6aac-4d6b-9e60-bd96277af8a9",
   "metadata": {},
   "outputs": [],
   "source": [
    "df_v5i5 = scrape_articles(root_url, article_list_url, area_of_knowledge)"
   ]
  },
  {
   "cell_type": "code",
   "execution_count": 14,
   "id": "f771eb01-09c2-4115-9cef-ba4b6e40e6ce",
   "metadata": {},
   "outputs": [],
   "source": [
    "root_url = 'https://www.thelancet.com'\n",
    "article_list_url = 'https://www.thelancet.com/journals/lanpub/issue/vol5no6/PIIS2468-2667(20)X0006-5'\n",
    "area_of_knowledge = 'Health Sciences'"
   ]
  },
  {
   "cell_type": "code",
   "execution_count": 15,
   "id": "cefb9ac4-1da2-4f44-ae78-b7841009b091",
   "metadata": {},
   "outputs": [],
   "source": [
    "df_v5i6 = scrape_articles(root_url, article_list_url, area_of_knowledge)"
   ]
  },
  {
   "cell_type": "code",
   "execution_count": 16,
   "id": "9e475f48-bbd7-49c5-90b0-b87750b97a59",
   "metadata": {},
   "outputs": [],
   "source": [
    "root_url = 'https://www.thelancet.com'\n",
    "article_list_url = 'https://www.thelancet.com/journals/lanpub/issue/vol5no7/PIIS2468-2667(20)X0007-7'\n",
    "area_of_knowledge = 'Health Sciences'"
   ]
  },
  {
   "cell_type": "code",
   "execution_count": 17,
   "id": "853785f9-0ad3-45c1-9d25-acdb79031082",
   "metadata": {},
   "outputs": [],
   "source": [
    "df_v5i7 = scrape_articles(root_url, article_list_url, area_of_knowledge)"
   ]
  },
  {
   "cell_type": "code",
   "execution_count": 18,
   "id": "c645627e-b80d-4772-9d3d-504a7fac7934",
   "metadata": {},
   "outputs": [],
   "source": [
    "root_url = 'https://www.thelancet.com'\n",
    "article_list_url = 'https://www.thelancet.com/journals/lanpub/issue/vol5no8/PIIS2468-2667(20)X0008-9'\n",
    "area_of_knowledge = 'Health Sciences'"
   ]
  },
  {
   "cell_type": "code",
   "execution_count": 19,
   "id": "b86fa5b6-80c9-4741-9cd3-f63047538ba6",
   "metadata": {},
   "outputs": [],
   "source": [
    "df_v5i8 = scrape_articles(root_url, article_list_url, area_of_knowledge)"
   ]
  },
  {
   "cell_type": "code",
   "execution_count": 20,
   "id": "8e97613b-9270-4d5c-b339-af30463c029c",
   "metadata": {},
   "outputs": [],
   "source": [
    "root_url = 'https://www.thelancet.com'\n",
    "article_list_url = 'https://www.thelancet.com/journals/lanpub/issue/vol5no9/PIIS2468-2667(20)X0009-0'\n",
    "area_of_knowledge = 'Health Sciences'"
   ]
  },
  {
   "cell_type": "code",
   "execution_count": 21,
   "id": "4e50c7ba-0895-4237-a747-a94539c87399",
   "metadata": {},
   "outputs": [],
   "source": [
    "df_v5i9 = scrape_articles(root_url, article_list_url, area_of_knowledge)"
   ]
  },
  {
   "cell_type": "code",
   "execution_count": 22,
   "id": "59197cda-9e39-47a9-879e-888280a82187",
   "metadata": {},
   "outputs": [],
   "source": [
    "root_url = 'https://www.thelancet.com'\n",
    "article_list_url = 'https://www.thelancet.com/journals/lanpub/issue/vol5no10/PIIS2468-2667(20)X0010-7'\n",
    "area_of_knowledge = 'Health Sciences'"
   ]
  },
  {
   "cell_type": "code",
   "execution_count": 23,
   "id": "5c688b8d-366f-463a-8e50-96806af7315a",
   "metadata": {},
   "outputs": [],
   "source": [
    "df_v5i10 = scrape_articles(root_url, article_list_url, area_of_knowledge)"
   ]
  },
  {
   "cell_type": "code",
   "execution_count": 24,
   "id": "778a3684-82fb-4507-9f15-689fac4ad0fe",
   "metadata": {},
   "outputs": [],
   "source": [
    "root_url = 'https://www.thelancet.com'\n",
    "article_list_url = 'https://www.thelancet.com/journals/lanpub/issue/vol5no11/PIIS2468-2667(20)X0011-9'\n",
    "area_of_knowledge = 'Health Sciences'"
   ]
  },
  {
   "cell_type": "code",
   "execution_count": 25,
   "id": "4971e176-a50f-427f-85ed-53d7ca21e7a8",
   "metadata": {},
   "outputs": [],
   "source": [
    "df_v5i11 = scrape_articles(root_url, article_list_url, area_of_knowledge)"
   ]
  },
  {
   "cell_type": "code",
   "execution_count": 26,
   "id": "ddb791b9-df06-4ef5-958f-a5147bfa2c62",
   "metadata": {},
   "outputs": [],
   "source": [
    "root_url = 'https://www.thelancet.com'\n",
    "article_list_url = 'https://www.thelancet.com/journals/lanpub/issue/vol5no12/PIIS2468-2667(20)X0012-0'\n",
    "area_of_knowledge = 'Health Sciences'"
   ]
  },
  {
   "cell_type": "code",
   "execution_count": 27,
   "id": "8af3fa88-65ef-4f0e-9f0e-e0312393ff21",
   "metadata": {},
   "outputs": [],
   "source": [
    "df_v5i12 = scrape_articles(root_url, article_list_url, area_of_knowledge)"
   ]
  },
  {
   "cell_type": "markdown",
   "id": "c2ea4c18-3c75-4774-b72b-db303f17a395",
   "metadata": {},
   "source": [
    "##### Volume 6 (Issue 1 - 12)"
   ]
  },
  {
   "cell_type": "code",
   "execution_count": 28,
   "id": "a7d2789a-2bd3-40bb-98a7-9a2e07957bd4",
   "metadata": {},
   "outputs": [],
   "source": [
    "root_url = 'https://www.thelancet.com'\n",
    "article_list_url = 'https://www.thelancet.com/journals/lanpub/issue/vol6no1/PIIS2468-2667(20)X0013-2'\n",
    "area_of_knowledge = 'Health Sciences'"
   ]
  },
  {
   "cell_type": "code",
   "execution_count": 29,
   "id": "b8b4e581-8f5e-4da6-a1b8-fd68c98958a8",
   "metadata": {},
   "outputs": [],
   "source": [
    "df_v6i1 = scrape_articles(root_url, article_list_url, area_of_knowledge)"
   ]
  },
  {
   "cell_type": "code",
   "execution_count": 30,
   "id": "22d84bb4-b3d2-4d47-a031-616d6cf8bed8",
   "metadata": {},
   "outputs": [],
   "source": [
    "root_url = 'https://www.thelancet.com'\n",
    "article_list_url = 'https://www.thelancet.com/journals/lanpub/issue/vol6no2/PIIS2468-2667(21)X0002-3'\n",
    "area_of_knowledge = 'Health Sciences'"
   ]
  },
  {
   "cell_type": "code",
   "execution_count": 31,
   "id": "fd8e834e-dbf2-45d0-b840-c9eb404905c8",
   "metadata": {},
   "outputs": [],
   "source": [
    "df_v6i2 = scrape_articles(root_url, article_list_url, area_of_knowledge)"
   ]
  },
  {
   "cell_type": "code",
   "execution_count": 32,
   "id": "5fac7731-01a3-4b77-bbb6-cb22435b3d61",
   "metadata": {},
   "outputs": [],
   "source": [
    "root_url = 'https://www.thelancet.com'\n",
    "article_list_url = 'https://www.thelancet.com/journals/lanpub/issue/vol6no3/PIIS2468-2667(21)X0003-5'\n",
    "area_of_knowledge = 'Health Sciences'"
   ]
  },
  {
   "cell_type": "code",
   "execution_count": 33,
   "id": "1e9f6877-02f3-4c8a-b075-147d2c69a4ba",
   "metadata": {},
   "outputs": [],
   "source": [
    "df_v6i3 = scrape_articles(root_url, article_list_url, area_of_knowledge)"
   ]
  },
  {
   "cell_type": "code",
   "execution_count": 34,
   "id": "670c199e-5eb5-4da4-8c50-c4ee4832bc41",
   "metadata": {},
   "outputs": [],
   "source": [
    "root_url = 'https://www.thelancet.com'\n",
    "article_list_url = 'https://www.thelancet.com/journals/lanpub/issue/vol6no4/PIIS2468-2667(21)X0004-7'\n",
    "area_of_knowledge = 'Health Sciences'"
   ]
  },
  {
   "cell_type": "code",
   "execution_count": 35,
   "id": "74769da1-04ac-422a-b565-7b0a558fccd7",
   "metadata": {},
   "outputs": [],
   "source": [
    "df_v6i4 = scrape_articles(root_url, article_list_url, area_of_knowledge)"
   ]
  },
  {
   "cell_type": "code",
   "execution_count": 36,
   "id": "15b82125-e875-4554-b409-2781907eda6b",
   "metadata": {},
   "outputs": [],
   "source": [
    "root_url = 'https://www.thelancet.com'\n",
    "article_list_url = 'https://www.thelancet.com/journals/lanpub/issue/vol6no5/PIIS2468-2667(21)X0005-9'\n",
    "area_of_knowledge = 'Health Sciences'"
   ]
  },
  {
   "cell_type": "code",
   "execution_count": 37,
   "id": "bd29a3f8-1165-4b5c-8631-15c472e13c14",
   "metadata": {},
   "outputs": [],
   "source": [
    "df_v6i5 = scrape_articles(root_url, article_list_url, area_of_knowledge)"
   ]
  },
  {
   "cell_type": "code",
   "execution_count": 38,
   "id": "94eda293-8bc5-44cb-9dd7-48d1a9197e91",
   "metadata": {},
   "outputs": [],
   "source": [
    "root_url = 'https://www.thelancet.com'\n",
    "article_list_url = 'https://www.thelancet.com/journals/lanpub/issue/vol6no6/PIIS2468-2667(21)X0006-0'\n",
    "area_of_knowledge = 'Health Sciences'"
   ]
  },
  {
   "cell_type": "code",
   "execution_count": 39,
   "id": "8486c8ba-8287-40a6-ac2a-37578e68afa0",
   "metadata": {},
   "outputs": [],
   "source": [
    "df_v6i6 = scrape_articles(root_url, article_list_url, area_of_knowledge)"
   ]
  },
  {
   "cell_type": "code",
   "execution_count": 40,
   "id": "811566f9-d52a-4cb0-ae96-a71edc188da6",
   "metadata": {},
   "outputs": [],
   "source": [
    "root_url = 'https://www.thelancet.com'\n",
    "article_list_url = 'https://www.thelancet.com/journals/lanpub/issue/vol6no7/PIIS2468-2667(21)X0007-2'\n",
    "area_of_knowledge = 'Health Sciences'"
   ]
  },
  {
   "cell_type": "code",
   "execution_count": 41,
   "id": "6dc9e2a7-3b40-4516-86bc-8cdc8e6e202b",
   "metadata": {},
   "outputs": [],
   "source": [
    "df_v6i7 = scrape_articles(root_url, article_list_url, area_of_knowledge)"
   ]
  },
  {
   "cell_type": "code",
   "execution_count": 42,
   "id": "abb189bd-def0-4391-9a8b-3d31da51fd65",
   "metadata": {},
   "outputs": [],
   "source": [
    "root_url = 'https://www.thelancet.com'\n",
    "article_list_url = 'https://www.thelancet.com/journals/lanpub/issue/vol6no8/PIIS2468-2667(21)X0008-4'\n",
    "area_of_knowledge = 'Health Sciences'"
   ]
  },
  {
   "cell_type": "code",
   "execution_count": 43,
   "id": "72787d0a-edc4-4adc-9fb2-9c49175bd06b",
   "metadata": {},
   "outputs": [],
   "source": [
    "df_v6i8 = scrape_articles(root_url, article_list_url, area_of_knowledge)"
   ]
  },
  {
   "cell_type": "code",
   "execution_count": 44,
   "id": "26205802-a284-4fb0-9c33-72e1dec19ac7",
   "metadata": {},
   "outputs": [],
   "source": [
    "root_url = 'https://www.thelancet.com'\n",
    "article_list_url = 'https://www.thelancet.com/journals/lanpub/issue/vol6no9/PIIS2468-2667(21)X0009-6'\n",
    "area_of_knowledge = 'Health Sciences'"
   ]
  },
  {
   "cell_type": "code",
   "execution_count": 45,
   "id": "9233400a-c1c4-4497-8eec-ce8548d4c7b4",
   "metadata": {},
   "outputs": [],
   "source": [
    "df_v6i9 = scrape_articles(root_url, article_list_url, area_of_knowledge)"
   ]
  },
  {
   "cell_type": "code",
   "execution_count": 46,
   "id": "a6d04bbc-4201-403a-9c17-5c148799f59a",
   "metadata": {},
   "outputs": [],
   "source": [
    "root_url = 'https://www.thelancet.com'\n",
    "article_list_url = 'https://www.thelancet.com/journals/lanpub/issue/vol6no10/PIIS2468-2667(21)X0010-2'\n",
    "area_of_knowledge = 'Health Sciences'"
   ]
  },
  {
   "cell_type": "code",
   "execution_count": 47,
   "id": "bafbfa7d-3ad5-4184-ba77-b9314b62706b",
   "metadata": {},
   "outputs": [],
   "source": [
    "df_v6i10 = scrape_articles(root_url, article_list_url, area_of_knowledge)"
   ]
  },
  {
   "cell_type": "code",
   "execution_count": 48,
   "id": "af600862-b0f8-407c-a18b-c14310f5b64d",
   "metadata": {},
   "outputs": [],
   "source": [
    "root_url = 'https://www.thelancet.com'\n",
    "article_list_url = 'https://www.thelancet.com/journals/lanpub/issue/vol6no11/PIIS2468-2667(21)X0011-4'\n",
    "area_of_knowledge = 'Health Sciences'"
   ]
  },
  {
   "cell_type": "code",
   "execution_count": 49,
   "id": "2ec06605-82e7-48a7-b7cd-3ef80b34e772",
   "metadata": {},
   "outputs": [],
   "source": [
    "df_v6i11 = scrape_articles(root_url, article_list_url, area_of_knowledge)"
   ]
  },
  {
   "cell_type": "code",
   "execution_count": 50,
   "id": "c5d88187-ec78-4f1c-a2cc-34bdc1953c00",
   "metadata": {},
   "outputs": [],
   "source": [
    "root_url = 'https://www.thelancet.com'\n",
    "article_list_url = 'https://www.thelancet.com/journals/lanpub/issue/vol6no12/PIIS2468-2667(21)X0012-6'\n",
    "area_of_knowledge = 'Health Sciences'"
   ]
  },
  {
   "cell_type": "code",
   "execution_count": 51,
   "id": "ddb74a32-be24-439a-b719-b72a07a1c917",
   "metadata": {},
   "outputs": [],
   "source": [
    "df_v6i12 = scrape_articles(root_url, article_list_url, area_of_knowledge)"
   ]
  },
  {
   "cell_type": "markdown",
   "id": "d54def2f-7f9b-4a71-8e3c-abde0d79d111",
   "metadata": {},
   "source": [
    "##### Volume 7 (Issue 1 - 11)"
   ]
  },
  {
   "cell_type": "code",
   "execution_count": 52,
   "id": "b969e54d-1787-4548-a8c0-35327ca19e1f",
   "metadata": {},
   "outputs": [],
   "source": [
    "root_url = 'https://www.thelancet.com'\n",
    "article_list_url = 'https://www.thelancet.com/journals/lanpub/issue/vol7no1/PIIS2468-2667(21)X0013-8'\n",
    "area_of_knowledge = 'Health Sciences'"
   ]
  },
  {
   "cell_type": "code",
   "execution_count": 53,
   "id": "0110af48-efe2-4edc-a0a7-3adf925728c8",
   "metadata": {},
   "outputs": [],
   "source": [
    "df_v7i1 = scrape_articles(root_url, article_list_url, area_of_knowledge)"
   ]
  },
  {
   "cell_type": "code",
   "execution_count": 54,
   "id": "ef671bff-39c5-498b-98db-842084acf06d",
   "metadata": {},
   "outputs": [],
   "source": [
    "root_url = 'https://www.thelancet.com'\n",
    "article_list_url = 'https://www.thelancet.com/journals/lanpub/issue/vol7no2/PIIS2468-2667(22)X0002-9'\n",
    "area_of_knowledge = 'Health Sciences'"
   ]
  },
  {
   "cell_type": "code",
   "execution_count": 55,
   "id": "639800f4-dea2-49e8-8e25-cbc3c056c510",
   "metadata": {},
   "outputs": [],
   "source": [
    "df_v7i2 = scrape_articles(root_url, article_list_url, area_of_knowledge)"
   ]
  },
  {
   "cell_type": "code",
   "execution_count": 56,
   "id": "c0f906ad-6f9a-44b9-b51e-71d2076b6435",
   "metadata": {},
   "outputs": [],
   "source": [
    "root_url = 'https://www.thelancet.com'\n",
    "article_list_url = 'https://www.thelancet.com/journals/lanpub/issue/vol7no3/PIIS2468-2667(22)X0003-0'\n",
    "area_of_knowledge = 'Health Sciences'"
   ]
  },
  {
   "cell_type": "code",
   "execution_count": 57,
   "id": "a49138e2-0d1f-4877-8c53-27e077ee3bc0",
   "metadata": {},
   "outputs": [],
   "source": [
    "df_v7i3 = scrape_articles(root_url, article_list_url, area_of_knowledge)"
   ]
  },
  {
   "cell_type": "code",
   "execution_count": 58,
   "id": "ca367822-465a-4bf1-8b48-169700a5e5ca",
   "metadata": {},
   "outputs": [],
   "source": [
    "root_url = 'https://www.thelancet.com'\n",
    "article_list_url = 'https://www.thelancet.com/journals/lanpub/issue/vol7no4/PIIS2468-2667(22)X0004-2'\n",
    "area_of_knowledge = 'Health Sciences'"
   ]
  },
  {
   "cell_type": "code",
   "execution_count": 59,
   "id": "ac85d99a-ef78-4ac8-8d5e-c89368cb529c",
   "metadata": {},
   "outputs": [],
   "source": [
    "df_v7i4 = scrape_articles(root_url, article_list_url, area_of_knowledge)"
   ]
  },
  {
   "cell_type": "code",
   "execution_count": 60,
   "id": "c3c00c39-00d3-467d-89a3-d7506dcaa241",
   "metadata": {},
   "outputs": [],
   "source": [
    "root_url = 'https://www.thelancet.com'\n",
    "article_list_url = 'https://www.thelancet.com/journals/lanpub/issue/vol7no5/PIIS2468-2667(22)X0005-4'\n",
    "area_of_knowledge = 'Health Sciences'"
   ]
  },
  {
   "cell_type": "code",
   "execution_count": 61,
   "id": "ef1d5ab2-d684-4747-9010-c21aa9c870da",
   "metadata": {},
   "outputs": [],
   "source": [
    "df_v7i5 = scrape_articles(root_url, article_list_url, area_of_knowledge)"
   ]
  },
  {
   "cell_type": "code",
   "execution_count": 62,
   "id": "de61c9c1-24d3-4b5f-b2aa-e647ebdc641b",
   "metadata": {},
   "outputs": [],
   "source": [
    "root_url = 'https://www.thelancet.com'\n",
    "article_list_url = 'https://www.thelancet.com/journals/lanpub/issue/vol7no6/PIIS2468-2667(22)X0006-6'\n",
    "area_of_knowledge = 'Health Sciences'"
   ]
  },
  {
   "cell_type": "code",
   "execution_count": 63,
   "id": "3544071a-634d-4c9c-a77b-89fc820cec4d",
   "metadata": {},
   "outputs": [],
   "source": [
    "df_v7i6 = scrape_articles(root_url, article_list_url, area_of_knowledge)"
   ]
  },
  {
   "cell_type": "code",
   "execution_count": 64,
   "id": "817266b4-fe4c-434b-8fb1-439ad412354c",
   "metadata": {},
   "outputs": [],
   "source": [
    "root_url = 'https://www.thelancet.com'\n",
    "article_list_url = 'https://www.thelancet.com/journals/lanpub/issue/vol7no7/PIIS2468-2667(22)X0007-8'\n",
    "area_of_knowledge = 'Health Sciences'"
   ]
  },
  {
   "cell_type": "code",
   "execution_count": 65,
   "id": "a6814064-9633-46c7-90d6-c07cb5a57db5",
   "metadata": {},
   "outputs": [],
   "source": [
    "df_v7i7 = scrape_articles(root_url, article_list_url, area_of_knowledge)"
   ]
  },
  {
   "cell_type": "code",
   "execution_count": 66,
   "id": "b3349911-d5d1-4562-9fe7-783037b55535",
   "metadata": {},
   "outputs": [],
   "source": [
    "root_url = 'https://www.thelancet.com'\n",
    "article_list_url = 'https://www.thelancet.com/journals/lanpub/issue/vol7no8/PIIS2468-2667(22)X0008-X'\n",
    "area_of_knowledge = 'Health Sciences'"
   ]
  },
  {
   "cell_type": "code",
   "execution_count": 67,
   "id": "18e42c09-b6bd-4ffe-b6cd-fe7d826a46e7",
   "metadata": {},
   "outputs": [],
   "source": [
    "df_v7i8 = scrape_articles(root_url, article_list_url, area_of_knowledge)"
   ]
  },
  {
   "cell_type": "code",
   "execution_count": 68,
   "id": "ab93a77e-796e-4f9c-86e4-e531b162b577",
   "metadata": {},
   "outputs": [],
   "source": [
    "root_url = 'https://www.thelancet.com'\n",
    "article_list_url = 'https://www.thelancet.com/journals/lanpub/issue/vol7no9/PIIS2468-2667(22)X0009-1'\n",
    "area_of_knowledge = 'Health Sciences'"
   ]
  },
  {
   "cell_type": "code",
   "execution_count": 69,
   "id": "2567f562-34d2-4c9b-adb1-925bb5ba7fc5",
   "metadata": {},
   "outputs": [],
   "source": [
    "df_v7i9 = scrape_articles(root_url, article_list_url, area_of_knowledge)"
   ]
  },
  {
   "cell_type": "code",
   "execution_count": 70,
   "id": "e13ce8b1-c1fd-4bd8-82ee-30993d144330",
   "metadata": {},
   "outputs": [],
   "source": [
    "root_url = 'https://www.thelancet.com'\n",
    "article_list_url = 'https://www.thelancet.com/journals/lanpub/issue/vol7no10/PIIS2468-2667(22)X0010-8'\n",
    "area_of_knowledge = 'Health Sciences'"
   ]
  },
  {
   "cell_type": "code",
   "execution_count": 71,
   "id": "7c821168-8f67-449a-85f5-7e83c794c725",
   "metadata": {},
   "outputs": [],
   "source": [
    "df_v7i10 = scrape_articles(root_url, article_list_url, area_of_knowledge)"
   ]
  },
  {
   "cell_type": "code",
   "execution_count": 72,
   "id": "eafbf63b-c6d8-4447-ae46-858c7a0bc164",
   "metadata": {},
   "outputs": [],
   "source": [
    "root_url = 'https://www.thelancet.com'\n",
    "article_list_url = 'https://www.thelancet.com/journals/lanpub/issue/vol7no11/PIIS2468-2667(22)X0011-X'\n",
    "area_of_knowledge = 'Health Sciences'"
   ]
  },
  {
   "cell_type": "code",
   "execution_count": 73,
   "id": "e5027c6b-2491-4b53-9cae-846f4ea3f7bd",
   "metadata": {},
   "outputs": [],
   "source": [
    "df_v7i11 = scrape_articles(root_url, article_list_url, area_of_knowledge)"
   ]
  },
  {
   "cell_type": "markdown",
   "id": "2c798c1c-ab7c-4e0c-bd60-1ef93b8f63b0",
   "metadata": {},
   "source": [
    "##### Concatenating the DataFrames"
   ]
  },
  {
   "cell_type": "code",
   "execution_count": 74,
   "id": "3038291f-dd07-4274-b197-c03355a63fd8",
   "metadata": {},
   "outputs": [],
   "source": [
    "df_lancet_public_health = pd.concat([\n",
    "    df_v5i1, df_v5i2, df_v5i3, df_v5i4, df_v5i5, df_v5i6, df_v5i7, df_v5i8, df_v5i9, df_v5i10, df_v5i11, df_v5i12,\n",
    "    df_v6i1, df_v6i2, df_v6i3, df_v6i4, df_v6i5, df_v6i6, df_v6i7, df_v6i8, df_v6i9, df_v6i10, df_v6i11, df_v6i12,\n",
    "    df_v7i1, df_v7i2, df_v7i3, df_v7i4, df_v7i5, df_v7i6, df_v7i7, df_v7i8, df_v7i9, df_v7i10, df_v7i11\n",
    "], ignore_index=True)"
   ]
  },
  {
   "cell_type": "code",
   "execution_count": 76,
   "id": "d8c4ab36-3f98-4b2f-8333-f0d64d450fec",
   "metadata": {},
   "outputs": [],
   "source": [
    "df_lancet_public_health['Published'] = pd.to_datetime(\n",
    "    df_lancet_public_health['Published'], format='mixed', errors='coerce'\n",
    ")"
   ]
  },
  {
   "cell_type": "code",
   "execution_count": 77,
   "id": "4c560b05-9e7f-43e5-8faf-299e9cd88cb0",
   "metadata": {},
   "outputs": [
    {
     "data": {
      "text/plain": [
       "Article Type                 object\n",
       "Title                        object\n",
       "URL                          object\n",
       "Authors                      object\n",
       "Vol/Issue                    object\n",
       "Published            datetime64[ns]\n",
       "PDF URL                      object\n",
       "Area of Knowledge            object\n",
       "dtype: object"
      ]
     },
     "execution_count": 77,
     "metadata": {},
     "output_type": "execute_result"
    }
   ],
   "source": [
    "df_lancet_public_health.dtypes"
   ]
  },
  {
   "cell_type": "markdown",
   "id": "a7b52de3-8ae0-4f59-bf0f-117edecda2fc",
   "metadata": {},
   "source": [
    "##### Selecting the 'Open access' and 'Full text access' articles published before the advent of ChatGPT"
   ]
  },
  {
   "cell_type": "code",
   "execution_count": 79,
   "id": "76210bf2-05f0-4a01-adb5-0953bd2451fc",
   "metadata": {},
   "outputs": [],
   "source": [
    "df_lancet_public_health_open_access = df_lancet_public_health\n",
    "df_lancet_public_health_open_access = df_lancet_public_health_open_access[df_lancet_public_health_open_access['Published'] <= '2022-11-30']\n",
    "df_lancet_public_health_open_access = df_lancet_public_health_open_access.reset_index(drop=True)"
   ]
  },
  {
   "cell_type": "code",
   "execution_count": 80,
   "id": "e9c2a83a-68cb-40c4-93ea-55e355480616",
   "metadata": {},
   "outputs": [
    {
     "data": {
      "text/html": [
       "<div>\n",
       "<style scoped>\n",
       "    .dataframe tbody tr th:only-of-type {\n",
       "        vertical-align: middle;\n",
       "    }\n",
       "\n",
       "    .dataframe tbody tr th {\n",
       "        vertical-align: top;\n",
       "    }\n",
       "\n",
       "    .dataframe thead th {\n",
       "        text-align: right;\n",
       "    }\n",
       "</style>\n",
       "<table border=\"1\" class=\"dataframe\">\n",
       "  <thead>\n",
       "    <tr style=\"text-align: right;\">\n",
       "      <th></th>\n",
       "      <th>Article Type</th>\n",
       "      <th>Title</th>\n",
       "      <th>URL</th>\n",
       "      <th>Authors</th>\n",
       "      <th>Vol/Issue</th>\n",
       "      <th>Published</th>\n",
       "      <th>PDF URL</th>\n",
       "      <th>Area of Knowledge</th>\n",
       "    </tr>\n",
       "  </thead>\n",
       "  <tbody>\n",
       "    <tr>\n",
       "      <th>0</th>\n",
       "      <td>Article</td>\n",
       "      <td>Traumatic brain injury in homeless and margina...</td>\n",
       "      <td>https://www.thelancet.com/journals/lanpub/arti...</td>\n",
       "      <td>Jacob L Stubbs, Allen E Thornton, Jessica M Se...</td>\n",
       "      <td>Volume 5/Issue 1</td>\n",
       "      <td>2020-01-01</td>\n",
       "      <td>https://www.thelancet.com/pdfs/journals/lanpub...</td>\n",
       "      <td>Health Sciences</td>\n",
       "    </tr>\n",
       "    <tr>\n",
       "      <th>1</th>\n",
       "      <td>Article</td>\n",
       "      <td>Premature mortality attributable to socioecono...</td>\n",
       "      <td>https://www.thelancet.com/journals/lanpub/arti...</td>\n",
       "      <td>Dan Lewer, Wikum Jayatunga, Robert W Aldridge,...</td>\n",
       "      <td>Volume 5/Issue 1</td>\n",
       "      <td>2020-01-01</td>\n",
       "      <td>https://www.thelancet.com/pdfs/journals/lanpub...</td>\n",
       "      <td>Health Sciences</td>\n",
       "    </tr>\n",
       "    <tr>\n",
       "      <th>2</th>\n",
       "      <td>Article</td>\n",
       "      <td>Social inequalities in multimorbidity, frailty...</td>\n",
       "      <td>https://www.thelancet.com/journals/lanpub/arti...</td>\n",
       "      <td>Aline Dugravot, Aurore Fayosse, Julien Dumurgi...</td>\n",
       "      <td>Volume 5/Issue 1</td>\n",
       "      <td>2020-01-01</td>\n",
       "      <td>https://www.thelancet.com/pdfs/journals/lanpub...</td>\n",
       "      <td>Health Sciences</td>\n",
       "    </tr>\n",
       "    <tr>\n",
       "      <th>3</th>\n",
       "      <td>Article</td>\n",
       "      <td>National, regional, and global burdens of dise...</td>\n",
       "      <td>https://www.thelancet.com/journals/lanpub/arti...</td>\n",
       "      <td>Kevin Shield, Jakob Manthey, Margaret Rylett, ...</td>\n",
       "      <td>Volume 5/Issue 1</td>\n",
       "      <td>2020-01-01</td>\n",
       "      <td>https://www.thelancet.com/pdfs/journals/lanpub...</td>\n",
       "      <td>Health Sciences</td>\n",
       "    </tr>\n",
       "    <tr>\n",
       "      <th>4</th>\n",
       "      <td>Article</td>\n",
       "      <td>Social disconnectedness, perceived isolation, ...</td>\n",
       "      <td>https://www.thelancet.com/journals/lanpub/arti...</td>\n",
       "      <td>Ziggi Ivan Santini, Paul E Jose, Erin York Cor...</td>\n",
       "      <td>Volume 5/Issue 1</td>\n",
       "      <td>2020-01-01</td>\n",
       "      <td>https://www.thelancet.com/pdfs/journals/lanpub...</td>\n",
       "      <td>Health Sciences</td>\n",
       "    </tr>\n",
       "    <tr>\n",
       "      <th>...</th>\n",
       "      <td>...</td>\n",
       "      <td>...</td>\n",
       "      <td>...</td>\n",
       "      <td>...</td>\n",
       "      <td>...</td>\n",
       "      <td>...</td>\n",
       "      <td>...</td>\n",
       "      <td>...</td>\n",
       "    </tr>\n",
       "    <tr>\n",
       "      <th>173</th>\n",
       "      <td>Article</td>\n",
       "      <td>Effectiveness and cost-effectiveness of referr...</td>\n",
       "      <td>https://www.thelancet.com/journals/lanpub/arti...</td>\n",
       "      <td>Amy L Ahern, Penny Breeze, Francesco Fusco, St...</td>\n",
       "      <td>Volume 7/Issue 10</td>\n",
       "      <td>2022-10-01</td>\n",
       "      <td>https://www.thelancet.com/pdfs/journals/lanpub...</td>\n",
       "      <td>Health Sciences</td>\n",
       "    </tr>\n",
       "    <tr>\n",
       "      <th>174</th>\n",
       "      <td>Article</td>\n",
       "      <td>The burden of bacterial antimicrobial resistan...</td>\n",
       "      <td>https://www.thelancet.com/journals/lanpub/arti...</td>\n",
       "      <td>European Antimicrobial Resistance Collaborators</td>\n",
       "      <td>Volume 7/Issue 11</td>\n",
       "      <td>2022-11-01</td>\n",
       "      <td>https://www.thelancet.com/pdfs/journals/lanpub...</td>\n",
       "      <td>Health Sciences</td>\n",
       "    </tr>\n",
       "    <tr>\n",
       "      <th>175</th>\n",
       "      <td>Article</td>\n",
       "      <td>Association between influenza vaccination and ...</td>\n",
       "      <td>https://www.thelancet.com/journals/lanpub/arti...</td>\n",
       "      <td>Jessalyn K Holodinsky, Charlotte Zerna, Shaun ...</td>\n",
       "      <td>Volume 7/Issue 11</td>\n",
       "      <td>2022-11-01</td>\n",
       "      <td>https://www.thelancet.com/pdfs/journals/lanpub...</td>\n",
       "      <td>Health Sciences</td>\n",
       "    </tr>\n",
       "    <tr>\n",
       "      <th>176</th>\n",
       "      <td>Article</td>\n",
       "      <td>Educational inequalities and premature mortali...</td>\n",
       "      <td>https://www.thelancet.com/journals/lanpub/arti...</td>\n",
       "      <td>Stephanie Ross, Nurys Armas Rojas, Julia Sawat...</td>\n",
       "      <td>Volume 7/Issue 11</td>\n",
       "      <td>2022-11-01</td>\n",
       "      <td>https://www.thelancet.com/pdfs/journals/lanpub...</td>\n",
       "      <td>Health Sciences</td>\n",
       "    </tr>\n",
       "    <tr>\n",
       "      <th>177</th>\n",
       "      <td>Article</td>\n",
       "      <td>Air quality and the risk of out-of-hospital ca...</td>\n",
       "      <td>https://www.thelancet.com/journals/lanpub/arti...</td>\n",
       "      <td>Andrew Fu Wah Ho, Jamie S Y Ho, Benjamin Yong-...</td>\n",
       "      <td>Volume 7/Issue 11</td>\n",
       "      <td>2022-11-01</td>\n",
       "      <td>https://www.thelancet.com/pdfs/journals/lanpub...</td>\n",
       "      <td>Health Sciences</td>\n",
       "    </tr>\n",
       "  </tbody>\n",
       "</table>\n",
       "<p>178 rows × 8 columns</p>\n",
       "</div>"
      ],
      "text/plain": [
       "    Article Type                                              Title  \\\n",
       "0        Article  Traumatic brain injury in homeless and margina...   \n",
       "1        Article  Premature mortality attributable to socioecono...   \n",
       "2        Article  Social inequalities in multimorbidity, frailty...   \n",
       "3        Article  National, regional, and global burdens of dise...   \n",
       "4        Article  Social disconnectedness, perceived isolation, ...   \n",
       "..           ...                                                ...   \n",
       "173      Article  Effectiveness and cost-effectiveness of referr...   \n",
       "174      Article  The burden of bacterial antimicrobial resistan...   \n",
       "175      Article  Association between influenza vaccination and ...   \n",
       "176      Article  Educational inequalities and premature mortali...   \n",
       "177      Article  Air quality and the risk of out-of-hospital ca...   \n",
       "\n",
       "                                                   URL  \\\n",
       "0    https://www.thelancet.com/journals/lanpub/arti...   \n",
       "1    https://www.thelancet.com/journals/lanpub/arti...   \n",
       "2    https://www.thelancet.com/journals/lanpub/arti...   \n",
       "3    https://www.thelancet.com/journals/lanpub/arti...   \n",
       "4    https://www.thelancet.com/journals/lanpub/arti...   \n",
       "..                                                 ...   \n",
       "173  https://www.thelancet.com/journals/lanpub/arti...   \n",
       "174  https://www.thelancet.com/journals/lanpub/arti...   \n",
       "175  https://www.thelancet.com/journals/lanpub/arti...   \n",
       "176  https://www.thelancet.com/journals/lanpub/arti...   \n",
       "177  https://www.thelancet.com/journals/lanpub/arti...   \n",
       "\n",
       "                                               Authors          Vol/Issue  \\\n",
       "0    Jacob L Stubbs, Allen E Thornton, Jessica M Se...   Volume 5/Issue 1   \n",
       "1    Dan Lewer, Wikum Jayatunga, Robert W Aldridge,...   Volume 5/Issue 1   \n",
       "2    Aline Dugravot, Aurore Fayosse, Julien Dumurgi...   Volume 5/Issue 1   \n",
       "3    Kevin Shield, Jakob Manthey, Margaret Rylett, ...   Volume 5/Issue 1   \n",
       "4    Ziggi Ivan Santini, Paul E Jose, Erin York Cor...   Volume 5/Issue 1   \n",
       "..                                                 ...                ...   \n",
       "173  Amy L Ahern, Penny Breeze, Francesco Fusco, St...  Volume 7/Issue 10   \n",
       "174    European Antimicrobial Resistance Collaborators  Volume 7/Issue 11   \n",
       "175  Jessalyn K Holodinsky, Charlotte Zerna, Shaun ...  Volume 7/Issue 11   \n",
       "176  Stephanie Ross, Nurys Armas Rojas, Julia Sawat...  Volume 7/Issue 11   \n",
       "177  Andrew Fu Wah Ho, Jamie S Y Ho, Benjamin Yong-...  Volume 7/Issue 11   \n",
       "\n",
       "     Published                                            PDF URL  \\\n",
       "0   2020-01-01  https://www.thelancet.com/pdfs/journals/lanpub...   \n",
       "1   2020-01-01  https://www.thelancet.com/pdfs/journals/lanpub...   \n",
       "2   2020-01-01  https://www.thelancet.com/pdfs/journals/lanpub...   \n",
       "3   2020-01-01  https://www.thelancet.com/pdfs/journals/lanpub...   \n",
       "4   2020-01-01  https://www.thelancet.com/pdfs/journals/lanpub...   \n",
       "..         ...                                                ...   \n",
       "173 2022-10-01  https://www.thelancet.com/pdfs/journals/lanpub...   \n",
       "174 2022-11-01  https://www.thelancet.com/pdfs/journals/lanpub...   \n",
       "175 2022-11-01  https://www.thelancet.com/pdfs/journals/lanpub...   \n",
       "176 2022-11-01  https://www.thelancet.com/pdfs/journals/lanpub...   \n",
       "177 2022-11-01  https://www.thelancet.com/pdfs/journals/lanpub...   \n",
       "\n",
       "    Area of Knowledge  \n",
       "0     Health Sciences  \n",
       "1     Health Sciences  \n",
       "2     Health Sciences  \n",
       "3     Health Sciences  \n",
       "4     Health Sciences  \n",
       "..                ...  \n",
       "173   Health Sciences  \n",
       "174   Health Sciences  \n",
       "175   Health Sciences  \n",
       "176   Health Sciences  \n",
       "177   Health Sciences  \n",
       "\n",
       "[178 rows x 8 columns]"
      ]
     },
     "execution_count": 80,
     "metadata": {},
     "output_type": "execute_result"
    }
   ],
   "source": [
    "df_lancet_public_health_open_access"
   ]
  },
  {
   "cell_type": "markdown",
   "id": "96f555cf-7c4d-4510-8131-abdd29a4e0da",
   "metadata": {},
   "source": [
    "#### Inspecting a few articles"
   ]
  },
  {
   "cell_type": "code",
   "execution_count": 81,
   "id": "8580a556-5405-4afd-81bc-f3fb6a59a5f0",
   "metadata": {},
   "outputs": [
    {
     "data": {
      "text/plain": [
       "'https://www.thelancet.com/journals/lanpub/article/PIIS2468-2667(19)30230-0/fulltext'"
      ]
     },
     "execution_count": 81,
     "metadata": {},
     "output_type": "execute_result"
    }
   ],
   "source": [
    "df_lancet_public_health_open_access.at[4, 'URL']"
   ]
  },
  {
   "cell_type": "markdown",
   "id": "47e1993d-2093-4c58-9af9-3a96c2c8f845",
   "metadata": {},
   "source": [
    "#### Exporting to a file"
   ]
  },
  {
   "cell_type": "code",
   "execution_count": 82,
   "id": "99108217-6c32-4827-9ce3-f47dcab4ae9e",
   "metadata": {},
   "outputs": [],
   "source": [
    "df_lancet_public_health_open_access.to_json(f\"{output_directory}/lancet_public_health_open_access.jsonl\", orient='records', lines=True)"
   ]
  },
  {
   "cell_type": "markdown",
   "id": "23bcf804-eaec-46a3-a67f-9b9028025757",
   "metadata": {},
   "source": [
    "### Scraping [Nature Reviews Cancer](https://www.nature.com/nrc/)"
   ]
  },
  {
   "cell_type": "markdown",
   "id": "63b8a55b-a5b3-47cc-a682-f9f02b9b83d0",
   "metadata": {},
   "source": [
    "This journal had no 'Open Access' articles at the time of data collection."
   ]
  },
  {
   "cell_type": "markdown",
   "id": "0515e75d-ebd0-416e-8aab-30435d5713e6",
   "metadata": {},
   "source": [
    "### Scraping [New England Journal of Medicine](https://www.nejm.org/)"
   ]
  },
  {
   "cell_type": "markdown",
   "id": "70088697-2624-404f-b922-777f9bb5e123",
   "metadata": {},
   "source": [
    "#### Capturing a few document pages for inspection"
   ]
  },
  {
   "cell_type": "code",
   "execution_count": 3,
   "id": "303376f0-ec32-476a-ae5c-81c879ecba59",
   "metadata": {},
   "outputs": [],
   "source": [
    "url_sample_1 = 'https://www.nejm.org/toc/nejm/387/22'\n",
    "url_sample_11 = 'https://www.nejm.org/doi/full/10.1056/NEJMoa2204783'"
   ]
  },
  {
   "cell_type": "code",
   "execution_count": 4,
   "id": "2479de93-fc62-4ccf-8f24-52e3cbe62366",
   "metadata": {},
   "outputs": [],
   "source": [
    "# Setting up the WebDriver (make sure you have downloaded the Microsoft Edge WebDriver executable)\n",
    "# https://developer.microsoft.com/en-us/microsoft-edge/tools/webdriver/\n",
    "service = Service(r'C:\\Users\\eyamr\\OneDrive\\00-Technology\\laelgelc\\edgedriver_win64\\msedgedriver.exe')\n",
    "driver = webdriver.Edge(service=service)\n",
    "\n",
    "# Navigating to target URL 1 and saving its web page\n",
    "driver.get(url_sample_1)\n",
    "wait = WebDriverWait(driver, 10)\n",
    "#time.sleep(15)  # Waits for 15 seconds\n",
    "#wait.until(EC.presence_of_element_located((By.TAG_NAME, 'html')))\n",
    "\n",
    "# Extra reliability check: Wait until the page source stops changing\n",
    "max_wait_time = 30  # Max time in seconds\n",
    "start_time = time.time()\n",
    "previous_html = ''\n",
    "while True:\n",
    "    current_html = driver.page_source\n",
    "    if current_html == previous_html or time.time() - start_time > max_wait_time:\n",
    "        break  # Exit loop if page stops changing or max wait time is exceeded\n",
    "    previous_html = current_html\n",
    "    time.sleep(2)  # Short delay before checking again\n",
    "\n",
    "# Now, the page is fully loaded - extract content!\n",
    "\n",
    "document_page_sample_1 = driver.page_source\n",
    "\n",
    "with open(f'{output_directory}/new_england_journal_of_medicine_sample1.html', 'w', encoding='utf8', newline='\\n') as file:\n",
    "    file.write(document_page_sample_1)\n",
    "\n",
    "# Closing the WebDriver\n",
    "driver.quit()"
   ]
  },
  {
   "cell_type": "code",
   "execution_count": 5,
   "id": "d61d7377-b9e1-4722-a94a-778604dfed0f",
   "metadata": {},
   "outputs": [],
   "source": [
    "# Setting up the WebDriver (make sure you have downloaded the Microsoft Edge WebDriver executable)\n",
    "# https://developer.microsoft.com/en-us/microsoft-edge/tools/webdriver/\n",
    "service = Service(r'C:\\Users\\eyamr\\OneDrive\\00-Technology\\laelgelc\\edgedriver_win64\\msedgedriver.exe')\n",
    "driver = webdriver.Edge(service=service)\n",
    "\n",
    "# Navigating to target URL 2 and saving its web page\n",
    "driver.get(url_sample_11)\n",
    "wait = WebDriverWait(driver, 10)\n",
    "#time.sleep(15)  # Waits for 15 seconds\n",
    "#wait.until(EC.presence_of_element_located((By.TAG_NAME, 'html')))\n",
    "\n",
    "# Extra reliability check: Wait until the page source stops changing\n",
    "max_wait_time = 30  # Max time in seconds\n",
    "start_time = time.time()\n",
    "previous_html = ''\n",
    "while True:\n",
    "    current_html = driver.page_source\n",
    "    if current_html == previous_html or time.time() - start_time > max_wait_time:\n",
    "        break  # Exit loop if page stops changing or max wait time is exceeded\n",
    "    previous_html = current_html\n",
    "    time.sleep(2)  # Short delay before checking again\n",
    "\n",
    "# Now, the page is fully loaded - extract content!\n",
    "\n",
    "document_page_sample_11 = driver.page_source\n",
    "\n",
    "with open(f'{output_directory}/new_england_journal_of_medicine_sample11.html', 'w', encoding='utf8', newline='\\n') as file:\n",
    "    file.write(document_page_sample_11)\n",
    "\n",
    "# Closing the WebDriver\n",
    "driver.quit()"
   ]
  },
  {
   "cell_type": "markdown",
   "id": "a1cf8514-ab12-437a-a3f3-d38e461d4dca",
   "metadata": {},
   "source": [
    "#### Scraping the articles"
   ]
  },
  {
   "cell_type": "markdown",
   "id": "99f30891-39b4-4195-a8dd-8828d7286958",
   "metadata": {},
   "source": [
    "##### Function to scrape the articles"
   ]
  },
  {
   "cell_type": "code",
   "execution_count": 6,
   "id": "550c6350-eeb0-47d1-ad5f-3ed32e7818e5",
   "metadata": {},
   "outputs": [],
   "source": [
    "def scrape_articles(root_url, doi_root_url, article_list_url, start_page, end_page, volume, area_of_knowledge):\n",
    "    # Setting up the WebDriver\n",
    "    service = Service(r'C:\\Users\\eyamr\\OneDrive\\00-Technology\\laelgelc\\edgedriver_win64\\msedgedriver.exe')\n",
    "    driver = webdriver.Edge(service=service)\n",
    "\n",
    "    data = []\n",
    "\n",
    "    for i in tqdm(range(start_page, end_page + 1)):\n",
    "        url = f\"{article_list_url}{i}\"\n",
    "        driver.get(url)\n",
    "\n",
    "        # Explicit wait for main article elements\n",
    "        wait = WebDriverWait(driver, 10)\n",
    "\n",
    "        # Ensure stable page load\n",
    "        max_wait_time = 30\n",
    "        start_time = time.time()\n",
    "        previous_html = ''\n",
    "        while True:\n",
    "            current_html = driver.page_source\n",
    "            if current_html == previous_html or time.time() - start_time > max_wait_time:\n",
    "                break\n",
    "            previous_html = current_html\n",
    "            time.sleep(2)\n",
    "\n",
    "        # Parse page source with BeautifulSoup\n",
    "        soup = BeautifulSoup(driver.page_source, 'lxml')\n",
    "\n",
    "        # Extract Volume/Issue\n",
    "        volume_issue = f\"{volume}, Issue {i}\"\n",
    "\n",
    "        # Extract articles\n",
    "        articles = soup.find_all('li', class_='toc_list-item')\n",
    "        \n",
    "        for article in articles:\n",
    "            # Extract article type (if applicable)\n",
    "            article_type_tag = article.find('input', class_='inputContentType')\n",
    "            article_type = article_type_tag['value'] if article_type_tag else ''\n",
    "        \n",
    "            # Extract title\n",
    "            title_tag = article.find('input', class_='inputArticleTitle')\n",
    "            title = title_tag['value'] if title_tag else ''\n",
    "        \n",
    "            # Extract article URL\n",
    "            doi_tag = article.find('input', class_='inputDoi')\n",
    "            article_url = f\"{root_url}/doi/full/{doi_tag['value']}\" if doi_tag else ''\n",
    "        \n",
    "            # Extract authors\n",
    "            authors_tag = article.find('input', class_='inputAuthor')\n",
    "            authors = authors_tag['value'] if authors_tag else ''\n",
    "\n",
    "            # Extract published date\n",
    "            published_tag = article.find('input', class_='inputEPubDate')\n",
    "            published = published_tag['value'] if published_tag else ''\n",
    "        \n",
    "            # Extract DOI\n",
    "            doi = f\"{doi_root_url}{doi_tag['value']}\" if doi_tag else ''\n",
    "        \n",
    "            # Extract Free Access status\n",
    "            free_access_tag = article.find('span', class_='issue-item_free')\n",
    "            free_access = free_access_tag.get_text(strip=True) if free_access_tag else ''\n",
    "        \n",
    "            # Extract PDF URL\n",
    "            pdf_url = f\"{root_url}/doi/pdf/{doi_tag['value']}\" if doi_tag else ''\n",
    "        \n",
    "            # Append extracted data\n",
    "            data.append({\n",
    "                'Article Type': article_type,\n",
    "                'Title': title,\n",
    "                'URL': article_url,\n",
    "                'Authors': authors,\n",
    "                'Vol/Issue': volume_issue,\n",
    "                'Published': published,\n",
    "                'DOI': doi,\n",
    "                'Free Access': free_access,\n",
    "                'PDF URL': pdf_url,\n",
    "                'Area of Knowledge': area_of_knowledge\n",
    "            })\n",
    "\n",
    "    # Close WebDriver\n",
    "    driver.quit()\n",
    "\n",
    "    return pd.DataFrame(data)"
   ]
  },
  {
   "cell_type": "markdown",
   "id": "d7fcb280-f0a5-4ec4-85cf-b7a4e5490b52",
   "metadata": {},
   "source": [
    "##### Volume 382 (Issue 1 - 26)"
   ]
  },
  {
   "cell_type": "markdown",
   "id": "43236146-9e22-4602-8807-abb75661129f",
   "metadata": {},
   "source": [
    "NEJM's website blocks iterations by pushing a `CAPTCHA`. This requires scraping page by page."
   ]
  },
  {
   "cell_type": "code",
   "execution_count": 7,
   "id": "6d7efddd-6be3-4475-b185-ac8a9fa6c136",
   "metadata": {},
   "outputs": [],
   "source": [
    "root_url = 'https://www.nejm.org'\n",
    "doi_root_url = 'https://doi.org'\n",
    "article_list_url = 'https://www.nejm.org/toc/nejm/382/'\n",
    "volume = 'Volume 382'\n",
    "area_of_knowledge = 'Health Sciences'"
   ]
  },
  {
   "cell_type": "code",
   "execution_count": 8,
   "id": "9fc554eb-f3d0-403e-9da3-a8ae86c86964",
   "metadata": {},
   "outputs": [],
   "source": [
    "start_page = 1\n",
    "end_page = 1"
   ]
  },
  {
   "cell_type": "code",
   "execution_count": 9,
   "id": "fbea65fe-07c8-45da-946b-04f46c47cad0",
   "metadata": {},
   "outputs": [
    {
     "name": "stderr",
     "output_type": "stream",
     "text": [
      "100%|██████████| 1/1 [00:08<00:00,  8.28s/it]\n"
     ]
    }
   ],
   "source": [
    "df_v382i1 = scrape_articles(root_url, doi_root_url, article_list_url, start_page, end_page, volume, area_of_knowledge)"
   ]
  },
  {
   "cell_type": "code",
   "execution_count": 10,
   "id": "35d0873c-9767-4111-9d9c-27057104c45f",
   "metadata": {},
   "outputs": [],
   "source": [
    "root_url = 'https://www.nejm.org'\n",
    "doi_root_url = 'https://doi.org'\n",
    "article_list_url = 'https://www.nejm.org/toc/nejm/382/'\n",
    "volume = 'Volume 382'\n",
    "area_of_knowledge = 'Health Sciences'"
   ]
  },
  {
   "cell_type": "code",
   "execution_count": 11,
   "id": "ffc38b6f-5537-4de8-a5fd-e28fccfa5af4",
   "metadata": {},
   "outputs": [],
   "source": [
    "start_page = 2\n",
    "end_page = 2"
   ]
  },
  {
   "cell_type": "code",
   "execution_count": 12,
   "id": "5f463693-344e-45cf-a971-d3c3fca3ec98",
   "metadata": {},
   "outputs": [
    {
     "name": "stderr",
     "output_type": "stream",
     "text": [
      "100%|██████████| 1/1 [00:08<00:00,  8.43s/it]\n"
     ]
    }
   ],
   "source": [
    "df_v382i2 = scrape_articles(root_url, doi_root_url, article_list_url, start_page, end_page, volume, area_of_knowledge)"
   ]
  },
  {
   "cell_type": "code",
   "execution_count": 13,
   "id": "c32003c2-5139-4307-a9d2-59697fd64478",
   "metadata": {},
   "outputs": [],
   "source": [
    "root_url = 'https://www.nejm.org'\n",
    "doi_root_url = 'https://doi.org'\n",
    "article_list_url = 'https://www.nejm.org/toc/nejm/382/'\n",
    "volume = 'Volume 382'\n",
    "area_of_knowledge = 'Health Sciences'"
   ]
  },
  {
   "cell_type": "code",
   "execution_count": 14,
   "id": "b033f3a6-ed8d-4ca2-909c-0c869700d6bc",
   "metadata": {},
   "outputs": [],
   "source": [
    "start_page = 3\n",
    "end_page = 3"
   ]
  },
  {
   "cell_type": "code",
   "execution_count": 15,
   "id": "8b780ca0-a178-4cde-ade4-fd30af7f47f9",
   "metadata": {},
   "outputs": [
    {
     "name": "stderr",
     "output_type": "stream",
     "text": [
      "100%|██████████| 1/1 [00:08<00:00,  8.54s/it]\n"
     ]
    }
   ],
   "source": [
    "df_v382i3 = scrape_articles(root_url, doi_root_url, article_list_url, start_page, end_page, volume, area_of_knowledge)"
   ]
  },
  {
   "cell_type": "code",
   "execution_count": 16,
   "id": "b58b6f30-6911-4a0b-a207-69ba76ff3099",
   "metadata": {},
   "outputs": [],
   "source": [
    "root_url = 'https://www.nejm.org'\n",
    "doi_root_url = 'https://doi.org'\n",
    "article_list_url = 'https://www.nejm.org/toc/nejm/382/'\n",
    "volume = 'Volume 382'\n",
    "area_of_knowledge = 'Health Sciences'"
   ]
  },
  {
   "cell_type": "code",
   "execution_count": 17,
   "id": "6d858474-5528-444d-980c-67adf719fb26",
   "metadata": {},
   "outputs": [],
   "source": [
    "start_page = 4\n",
    "end_page = 4"
   ]
  },
  {
   "cell_type": "code",
   "execution_count": 18,
   "id": "79129d62-8b31-49f2-a178-ee59ef18fac1",
   "metadata": {},
   "outputs": [
    {
     "name": "stderr",
     "output_type": "stream",
     "text": [
      "100%|██████████| 1/1 [00:08<00:00,  8.37s/it]\n"
     ]
    }
   ],
   "source": [
    "df_v382i4 = scrape_articles(root_url, doi_root_url, article_list_url, start_page, end_page, volume, area_of_knowledge)"
   ]
  },
  {
   "cell_type": "code",
   "execution_count": 19,
   "id": "7f746fef-ef42-494c-8bf3-a0ac26be1131",
   "metadata": {},
   "outputs": [],
   "source": [
    "root_url = 'https://www.nejm.org'\n",
    "doi_root_url = 'https://doi.org'\n",
    "article_list_url = 'https://www.nejm.org/toc/nejm/382/'\n",
    "volume = 'Volume 382'\n",
    "area_of_knowledge = 'Health Sciences'"
   ]
  },
  {
   "cell_type": "code",
   "execution_count": 20,
   "id": "67a36ad0-94e2-4020-af21-cdf44a7bbac1",
   "metadata": {},
   "outputs": [],
   "source": [
    "start_page = 5\n",
    "end_page = 5"
   ]
  },
  {
   "cell_type": "code",
   "execution_count": 21,
   "id": "b4d7d949-1c9f-4f2c-a1d0-ef3c7147e894",
   "metadata": {},
   "outputs": [
    {
     "name": "stderr",
     "output_type": "stream",
     "text": [
      "100%|██████████| 1/1 [00:08<00:00,  8.43s/it]\n"
     ]
    }
   ],
   "source": [
    "df_v382i5 = scrape_articles(root_url, doi_root_url, article_list_url, start_page, end_page, volume, area_of_knowledge)"
   ]
  },
  {
   "cell_type": "code",
   "execution_count": 22,
   "id": "97208156-3f7a-4677-bd42-39e8d6fa11d2",
   "metadata": {},
   "outputs": [],
   "source": [
    "root_url = 'https://www.nejm.org'\n",
    "doi_root_url = 'https://doi.org'\n",
    "article_list_url = 'https://www.nejm.org/toc/nejm/382/'\n",
    "volume = 'Volume 382'\n",
    "area_of_knowledge = 'Health Sciences'"
   ]
  },
  {
   "cell_type": "code",
   "execution_count": 23,
   "id": "f1eeb556-be92-4fba-9748-e1f70348b5f2",
   "metadata": {},
   "outputs": [],
   "source": [
    "start_page = 6\n",
    "end_page = 6"
   ]
  },
  {
   "cell_type": "code",
   "execution_count": 24,
   "id": "c6b6869f-8abe-46a0-9695-ea9d4767b315",
   "metadata": {},
   "outputs": [
    {
     "name": "stderr",
     "output_type": "stream",
     "text": [
      "100%|██████████| 1/1 [00:10<00:00, 10.75s/it]\n"
     ]
    }
   ],
   "source": [
    "df_v382i6 = scrape_articles(root_url, doi_root_url, article_list_url, start_page, end_page, volume, area_of_knowledge)"
   ]
  },
  {
   "cell_type": "code",
   "execution_count": 25,
   "id": "07ebf57b-b091-4dad-b60f-07b5cd4436d2",
   "metadata": {},
   "outputs": [],
   "source": [
    "root_url = 'https://www.nejm.org'\n",
    "doi_root_url = 'https://doi.org'\n",
    "article_list_url = 'https://www.nejm.org/toc/nejm/382/'\n",
    "volume = 'Volume 382'\n",
    "area_of_knowledge = 'Health Sciences'"
   ]
  },
  {
   "cell_type": "code",
   "execution_count": 26,
   "id": "949ceea6-369e-40b2-a49a-9ce5d608a75f",
   "metadata": {},
   "outputs": [],
   "source": [
    "start_page = 7\n",
    "end_page = 7"
   ]
  },
  {
   "cell_type": "code",
   "execution_count": 27,
   "id": "c6557701-befe-43b5-a70c-74e593a4465e",
   "metadata": {},
   "outputs": [
    {
     "name": "stderr",
     "output_type": "stream",
     "text": [
      "100%|██████████| 1/1 [00:09<00:00,  9.54s/it]\n"
     ]
    }
   ],
   "source": [
    "df_v382i7 = scrape_articles(root_url, doi_root_url, article_list_url, start_page, end_page, volume, area_of_knowledge)"
   ]
  },
  {
   "cell_type": "code",
   "execution_count": 28,
   "id": "fe3c8922-3dd2-4014-9e08-020adee4ef06",
   "metadata": {},
   "outputs": [],
   "source": [
    "root_url = 'https://www.nejm.org'\n",
    "doi_root_url = 'https://doi.org'\n",
    "article_list_url = 'https://www.nejm.org/toc/nejm/382/'\n",
    "volume = 'Volume 382'\n",
    "area_of_knowledge = 'Health Sciences'"
   ]
  },
  {
   "cell_type": "code",
   "execution_count": 29,
   "id": "1979aee7-4680-4170-afe4-b6a4a2b1f718",
   "metadata": {},
   "outputs": [],
   "source": [
    "start_page = 8\n",
    "end_page = 8"
   ]
  },
  {
   "cell_type": "code",
   "execution_count": 30,
   "id": "6f6b891c-4362-4741-9be6-ae2c55415d96",
   "metadata": {},
   "outputs": [
    {
     "name": "stderr",
     "output_type": "stream",
     "text": [
      "100%|██████████| 1/1 [00:08<00:00,  8.91s/it]\n"
     ]
    }
   ],
   "source": [
    "df_v382i8 = scrape_articles(root_url, doi_root_url, article_list_url, start_page, end_page, volume, area_of_knowledge)"
   ]
  },
  {
   "cell_type": "code",
   "execution_count": 31,
   "id": "1d1daf3c-52c4-4df8-8912-d6dc42fc4a87",
   "metadata": {},
   "outputs": [],
   "source": [
    "root_url = 'https://www.nejm.org'\n",
    "doi_root_url = 'https://doi.org'\n",
    "article_list_url = 'https://www.nejm.org/toc/nejm/382/'\n",
    "volume = 'Volume 382'\n",
    "area_of_knowledge = 'Health Sciences'"
   ]
  },
  {
   "cell_type": "code",
   "execution_count": 32,
   "id": "7745bae2-c3a5-4d55-9876-ab77a7629fae",
   "metadata": {},
   "outputs": [],
   "source": [
    "start_page = 9\n",
    "end_page = 9"
   ]
  },
  {
   "cell_type": "code",
   "execution_count": 33,
   "id": "cbc33822-ef14-42e4-9d6d-ad8729ac7c47",
   "metadata": {},
   "outputs": [
    {
     "name": "stderr",
     "output_type": "stream",
     "text": [
      "100%|██████████| 1/1 [00:08<00:00,  8.46s/it]\n"
     ]
    }
   ],
   "source": [
    "df_v382i9 = scrape_articles(root_url, doi_root_url, article_list_url, start_page, end_page, volume, area_of_knowledge)"
   ]
  },
  {
   "cell_type": "code",
   "execution_count": 34,
   "id": "63bf345b-20f6-4d80-8bfd-2f533590a692",
   "metadata": {},
   "outputs": [],
   "source": [
    "root_url = 'https://www.nejm.org'\n",
    "doi_root_url = 'https://doi.org'\n",
    "article_list_url = 'https://www.nejm.org/toc/nejm/382/'\n",
    "volume = 'Volume 382'\n",
    "area_of_knowledge = 'Health Sciences'"
   ]
  },
  {
   "cell_type": "code",
   "execution_count": 35,
   "id": "a7113016-a807-4dac-b7db-34c4b830ba4e",
   "metadata": {},
   "outputs": [],
   "source": [
    "start_page = 10\n",
    "end_page = 10"
   ]
  },
  {
   "cell_type": "code",
   "execution_count": 36,
   "id": "1552b6ca-50c2-44e9-9c99-b12f7dd26da5",
   "metadata": {},
   "outputs": [
    {
     "name": "stderr",
     "output_type": "stream",
     "text": [
      "100%|██████████| 1/1 [00:08<00:00,  8.34s/it]\n"
     ]
    }
   ],
   "source": [
    "df_v382i10 = scrape_articles(root_url, doi_root_url, article_list_url, start_page, end_page, volume, area_of_knowledge)"
   ]
  },
  {
   "cell_type": "code",
   "execution_count": 37,
   "id": "4d871518-47e3-4ef4-bdcc-6e2816691d34",
   "metadata": {},
   "outputs": [],
   "source": [
    "root_url = 'https://www.nejm.org'\n",
    "doi_root_url = 'https://doi.org'\n",
    "article_list_url = 'https://www.nejm.org/toc/nejm/382/'\n",
    "volume = 'Volume 382'\n",
    "area_of_knowledge = 'Health Sciences'"
   ]
  },
  {
   "cell_type": "code",
   "execution_count": 38,
   "id": "2ecf1240-618a-4591-90a0-b83f163711a1",
   "metadata": {},
   "outputs": [],
   "source": [
    "start_page = 11\n",
    "end_page = 11"
   ]
  },
  {
   "cell_type": "code",
   "execution_count": 39,
   "id": "6c8c9b37-9103-44d1-886b-ef13d18f4c25",
   "metadata": {},
   "outputs": [
    {
     "name": "stderr",
     "output_type": "stream",
     "text": [
      "100%|██████████| 1/1 [00:08<00:00,  8.94s/it]\n"
     ]
    }
   ],
   "source": [
    "df_v382i11 = scrape_articles(root_url, doi_root_url, article_list_url, start_page, end_page, volume, area_of_knowledge)"
   ]
  },
  {
   "cell_type": "code",
   "execution_count": 40,
   "id": "ed3920c0-c0ea-4c37-8b95-daf2ccf8f355",
   "metadata": {},
   "outputs": [],
   "source": [
    "root_url = 'https://www.nejm.org'\n",
    "doi_root_url = 'https://doi.org'\n",
    "article_list_url = 'https://www.nejm.org/toc/nejm/382/'\n",
    "volume = 'Volume 382'\n",
    "area_of_knowledge = 'Health Sciences'"
   ]
  },
  {
   "cell_type": "code",
   "execution_count": 41,
   "id": "9a851027-1edb-4f31-b90a-bc0f40e398a7",
   "metadata": {},
   "outputs": [],
   "source": [
    "start_page = 12\n",
    "end_page = 12"
   ]
  },
  {
   "cell_type": "code",
   "execution_count": 42,
   "id": "91304df0-9f0b-41e9-80d0-e781bc746a47",
   "metadata": {},
   "outputs": [
    {
     "name": "stderr",
     "output_type": "stream",
     "text": [
      "100%|██████████| 1/1 [00:08<00:00,  8.51s/it]\n"
     ]
    }
   ],
   "source": [
    "df_v382i12 = scrape_articles(root_url, doi_root_url, article_list_url, start_page, end_page, volume, area_of_knowledge)"
   ]
  },
  {
   "cell_type": "code",
   "execution_count": 43,
   "id": "bbe920cf-cde2-426e-a0cc-9282b8492dcb",
   "metadata": {},
   "outputs": [],
   "source": [
    "root_url = 'https://www.nejm.org'\n",
    "doi_root_url = 'https://doi.org'\n",
    "article_list_url = 'https://www.nejm.org/toc/nejm/382/'\n",
    "volume = 'Volume 382'\n",
    "area_of_knowledge = 'Health Sciences'"
   ]
  },
  {
   "cell_type": "code",
   "execution_count": 44,
   "id": "98ca8622-6c69-4b5f-b9b0-b9cf0a3185fd",
   "metadata": {},
   "outputs": [],
   "source": [
    "start_page = 13\n",
    "end_page = 13"
   ]
  },
  {
   "cell_type": "code",
   "execution_count": 45,
   "id": "c71a6f61-636b-4f59-80fe-8063871bb770",
   "metadata": {},
   "outputs": [
    {
     "name": "stderr",
     "output_type": "stream",
     "text": [
      "100%|██████████| 1/1 [00:11<00:00, 11.51s/it]\n"
     ]
    }
   ],
   "source": [
    "df_v382i13 = scrape_articles(root_url, doi_root_url, article_list_url, start_page, end_page, volume, area_of_knowledge)"
   ]
  },
  {
   "cell_type": "code",
   "execution_count": 46,
   "id": "7e6b23f8-930b-43c4-afc9-cd144cfd302e",
   "metadata": {},
   "outputs": [],
   "source": [
    "root_url = 'https://www.nejm.org'\n",
    "doi_root_url = 'https://doi.org'\n",
    "article_list_url = 'https://www.nejm.org/toc/nejm/382/'\n",
    "volume = 'Volume 382'\n",
    "area_of_knowledge = 'Health Sciences'"
   ]
  },
  {
   "cell_type": "code",
   "execution_count": 47,
   "id": "57e66145-a18b-4f31-b4e7-5c8f9cd23c27",
   "metadata": {},
   "outputs": [],
   "source": [
    "start_page = 14\n",
    "end_page = 14"
   ]
  },
  {
   "cell_type": "code",
   "execution_count": 48,
   "id": "d723643e-1c19-4885-aefb-31b7106dd147",
   "metadata": {},
   "outputs": [
    {
     "name": "stderr",
     "output_type": "stream",
     "text": [
      "100%|██████████| 1/1 [00:06<00:00,  6.30s/it]\n"
     ]
    }
   ],
   "source": [
    "df_v382i14 = scrape_articles(root_url, doi_root_url, article_list_url, start_page, end_page, volume, area_of_knowledge)"
   ]
  },
  {
   "cell_type": "code",
   "execution_count": 49,
   "id": "65f9e1c6-7138-42b7-92eb-c73615f8ffbf",
   "metadata": {},
   "outputs": [],
   "source": [
    "root_url = 'https://www.nejm.org'\n",
    "doi_root_url = 'https://doi.org'\n",
    "article_list_url = 'https://www.nejm.org/toc/nejm/382/'\n",
    "volume = 'Volume 382'\n",
    "area_of_knowledge = 'Health Sciences'"
   ]
  },
  {
   "cell_type": "code",
   "execution_count": 50,
   "id": "949a2db5-db7f-4102-bc7c-6f1b555e197d",
   "metadata": {},
   "outputs": [],
   "source": [
    "start_page = 15\n",
    "end_page = 15"
   ]
  },
  {
   "cell_type": "code",
   "execution_count": 51,
   "id": "5172e457-62ad-4285-98a7-f0daf8ffc90f",
   "metadata": {},
   "outputs": [
    {
     "name": "stderr",
     "output_type": "stream",
     "text": [
      "100%|██████████| 1/1 [00:08<00:00,  8.34s/it]\n"
     ]
    }
   ],
   "source": [
    "df_v382i15 = scrape_articles(root_url, doi_root_url, article_list_url, start_page, end_page, volume, area_of_knowledge)"
   ]
  },
  {
   "cell_type": "code",
   "execution_count": 52,
   "id": "757fd3ea-5a61-439c-982b-99716b6b8fa6",
   "metadata": {},
   "outputs": [],
   "source": [
    "root_url = 'https://www.nejm.org'\n",
    "doi_root_url = 'https://doi.org'\n",
    "article_list_url = 'https://www.nejm.org/toc/nejm/382/'\n",
    "volume = 'Volume 382'\n",
    "area_of_knowledge = 'Health Sciences'"
   ]
  },
  {
   "cell_type": "code",
   "execution_count": 53,
   "id": "6cd8bed7-5443-4b61-b33c-0c4c0707e1f4",
   "metadata": {},
   "outputs": [],
   "source": [
    "start_page = 16\n",
    "end_page = 16"
   ]
  },
  {
   "cell_type": "code",
   "execution_count": 54,
   "id": "192733e9-4cc4-45eb-845c-c30896f0a1aa",
   "metadata": {},
   "outputs": [
    {
     "name": "stderr",
     "output_type": "stream",
     "text": [
      "100%|██████████| 1/1 [00:08<00:00,  8.53s/it]\n"
     ]
    }
   ],
   "source": [
    "df_v382i16 = scrape_articles(root_url, doi_root_url, article_list_url, start_page, end_page, volume, area_of_knowledge)"
   ]
  },
  {
   "cell_type": "code",
   "execution_count": 55,
   "id": "a2bae58c-47e0-4557-95e9-05fb66b98e6c",
   "metadata": {},
   "outputs": [],
   "source": [
    "root_url = 'https://www.nejm.org'\n",
    "doi_root_url = 'https://doi.org'\n",
    "article_list_url = 'https://www.nejm.org/toc/nejm/382/'\n",
    "volume = 'Volume 382'\n",
    "area_of_knowledge = 'Health Sciences'"
   ]
  },
  {
   "cell_type": "code",
   "execution_count": 56,
   "id": "66133dd0-793f-46ce-92c6-ae3483d6d23e",
   "metadata": {},
   "outputs": [],
   "source": [
    "start_page = 17\n",
    "end_page = 17"
   ]
  },
  {
   "cell_type": "code",
   "execution_count": 57,
   "id": "4ca2f36b-67a3-4651-ac98-c223024fab8a",
   "metadata": {},
   "outputs": [
    {
     "name": "stderr",
     "output_type": "stream",
     "text": [
      "100%|██████████| 1/1 [00:08<00:00,  8.72s/it]\n"
     ]
    }
   ],
   "source": [
    "df_v382i17 = scrape_articles(root_url, doi_root_url, article_list_url, start_page, end_page, volume, area_of_knowledge)"
   ]
  },
  {
   "cell_type": "code",
   "execution_count": 58,
   "id": "cea06953-92c5-4335-ac11-b84064e04932",
   "metadata": {},
   "outputs": [],
   "source": [
    "root_url = 'https://www.nejm.org'\n",
    "doi_root_url = 'https://doi.org'\n",
    "article_list_url = 'https://www.nejm.org/toc/nejm/382/'\n",
    "volume = 'Volume 382'\n",
    "area_of_knowledge = 'Health Sciences'"
   ]
  },
  {
   "cell_type": "code",
   "execution_count": 59,
   "id": "13a821c2-d487-4cb9-98f2-4588df2d9bd3",
   "metadata": {},
   "outputs": [],
   "source": [
    "start_page = 18\n",
    "end_page = 18"
   ]
  },
  {
   "cell_type": "code",
   "execution_count": 60,
   "id": "3dfca412-74e5-4816-bc19-27e3aba4cb4b",
   "metadata": {},
   "outputs": [
    {
     "name": "stderr",
     "output_type": "stream",
     "text": [
      "100%|██████████| 1/1 [00:08<00:00,  8.26s/it]\n"
     ]
    }
   ],
   "source": [
    "df_v382i18 = scrape_articles(root_url, doi_root_url, article_list_url, start_page, end_page, volume, area_of_knowledge)"
   ]
  },
  {
   "cell_type": "code",
   "execution_count": 61,
   "id": "5f092672-55a9-4d64-a78a-6522c0afb6ad",
   "metadata": {},
   "outputs": [],
   "source": [
    "root_url = 'https://www.nejm.org'\n",
    "doi_root_url = 'https://doi.org'\n",
    "article_list_url = 'https://www.nejm.org/toc/nejm/382/'\n",
    "volume = 'Volume 382'\n",
    "area_of_knowledge = 'Health Sciences'"
   ]
  },
  {
   "cell_type": "code",
   "execution_count": 62,
   "id": "645433b3-9513-48b3-b269-5e457108c4b8",
   "metadata": {},
   "outputs": [],
   "source": [
    "start_page = 19\n",
    "end_page = 19"
   ]
  },
  {
   "cell_type": "code",
   "execution_count": 63,
   "id": "586e3118-77d5-4cd3-9771-c429d8e28fe7",
   "metadata": {},
   "outputs": [
    {
     "name": "stderr",
     "output_type": "stream",
     "text": [
      "100%|██████████| 1/1 [00:08<00:00,  8.31s/it]\n"
     ]
    }
   ],
   "source": [
    "df_v382i19 = scrape_articles(root_url, doi_root_url, article_list_url, start_page, end_page, volume, area_of_knowledge)"
   ]
  },
  {
   "cell_type": "code",
   "execution_count": 64,
   "id": "e9cb666a-d23b-4ce8-bcba-9e2b15419a7e",
   "metadata": {},
   "outputs": [],
   "source": [
    "root_url = 'https://www.nejm.org'\n",
    "doi_root_url = 'https://doi.org'\n",
    "article_list_url = 'https://www.nejm.org/toc/nejm/382/'\n",
    "volume = 'Volume 382'\n",
    "area_of_knowledge = 'Health Sciences'"
   ]
  },
  {
   "cell_type": "code",
   "execution_count": 65,
   "id": "1adcaf01-3881-406f-9085-83ed1c113e23",
   "metadata": {},
   "outputs": [],
   "source": [
    "start_page = 20\n",
    "end_page = 20"
   ]
  },
  {
   "cell_type": "code",
   "execution_count": 66,
   "id": "0b43a89f-e87a-4500-b01e-50e435b5d8ca",
   "metadata": {},
   "outputs": [
    {
     "name": "stderr",
     "output_type": "stream",
     "text": [
      "100%|██████████| 1/1 [00:06<00:00,  6.62s/it]\n"
     ]
    }
   ],
   "source": [
    "df_v382i20 = scrape_articles(root_url, doi_root_url, article_list_url, start_page, end_page, volume, area_of_knowledge)"
   ]
  },
  {
   "cell_type": "code",
   "execution_count": 67,
   "id": "ba4a60ac-aae1-48b7-965a-454a1d24efde",
   "metadata": {},
   "outputs": [],
   "source": [
    "root_url = 'https://www.nejm.org'\n",
    "doi_root_url = 'https://doi.org'\n",
    "article_list_url = 'https://www.nejm.org/toc/nejm/382/'\n",
    "volume = 'Volume 382'\n",
    "area_of_knowledge = 'Health Sciences'"
   ]
  },
  {
   "cell_type": "code",
   "execution_count": 68,
   "id": "c9fa7b27-a43c-4d09-8da8-d0832499d1fd",
   "metadata": {},
   "outputs": [],
   "source": [
    "start_page = 21\n",
    "end_page = 21"
   ]
  },
  {
   "cell_type": "code",
   "execution_count": 69,
   "id": "2a2bee26-9817-4a3b-a720-81175fa526a2",
   "metadata": {},
   "outputs": [
    {
     "name": "stderr",
     "output_type": "stream",
     "text": [
      "100%|██████████| 1/1 [00:06<00:00,  6.59s/it]\n"
     ]
    }
   ],
   "source": [
    "df_v382i21 = scrape_articles(root_url, doi_root_url, article_list_url, start_page, end_page, volume, area_of_knowledge)"
   ]
  },
  {
   "cell_type": "code",
   "execution_count": 70,
   "id": "78840dcc-09b3-4ac5-ac76-d54291053f8d",
   "metadata": {},
   "outputs": [],
   "source": [
    "root_url = 'https://www.nejm.org'\n",
    "doi_root_url = 'https://doi.org'\n",
    "article_list_url = 'https://www.nejm.org/toc/nejm/382/'\n",
    "volume = 'Volume 382'\n",
    "area_of_knowledge = 'Health Sciences'"
   ]
  },
  {
   "cell_type": "code",
   "execution_count": 71,
   "id": "82f135be-acba-41bd-8b72-acca1ea73276",
   "metadata": {},
   "outputs": [],
   "source": [
    "start_page = 22\n",
    "end_page = 22"
   ]
  },
  {
   "cell_type": "code",
   "execution_count": 72,
   "id": "ec892496-b07a-4e1d-be5f-d23253904a5b",
   "metadata": {},
   "outputs": [
    {
     "name": "stderr",
     "output_type": "stream",
     "text": [
      "100%|██████████| 1/1 [00:07<00:00,  7.48s/it]\n"
     ]
    }
   ],
   "source": [
    "df_v382i22 = scrape_articles(root_url, doi_root_url, article_list_url, start_page, end_page, volume, area_of_knowledge)"
   ]
  },
  {
   "cell_type": "code",
   "execution_count": 73,
   "id": "fdb49f1e-df45-4ee4-b47b-20b9ccea8d61",
   "metadata": {},
   "outputs": [],
   "source": [
    "root_url = 'https://www.nejm.org'\n",
    "doi_root_url = 'https://doi.org'\n",
    "article_list_url = 'https://www.nejm.org/toc/nejm/382/'\n",
    "volume = 'Volume 382'\n",
    "area_of_knowledge = 'Health Sciences'"
   ]
  },
  {
   "cell_type": "code",
   "execution_count": 74,
   "id": "e8fda455-29dc-4f12-8d3a-6eb05260a35b",
   "metadata": {},
   "outputs": [],
   "source": [
    "start_page = 23\n",
    "end_page = 23"
   ]
  },
  {
   "cell_type": "code",
   "execution_count": 75,
   "id": "a9156ad4-a799-4899-a4d1-5729f02f7b3d",
   "metadata": {},
   "outputs": [
    {
     "name": "stderr",
     "output_type": "stream",
     "text": [
      "100%|██████████| 1/1 [00:08<00:00,  8.31s/it]\n"
     ]
    }
   ],
   "source": [
    "df_v382i23 = scrape_articles(root_url, doi_root_url, article_list_url, start_page, end_page, volume, area_of_knowledge)"
   ]
  },
  {
   "cell_type": "code",
   "execution_count": 76,
   "id": "430d1282-c094-4e83-abc0-d481ca9fe143",
   "metadata": {},
   "outputs": [],
   "source": [
    "root_url = 'https://www.nejm.org'\n",
    "doi_root_url = 'https://doi.org'\n",
    "article_list_url = 'https://www.nejm.org/toc/nejm/382/'\n",
    "volume = 'Volume 382'\n",
    "area_of_knowledge = 'Health Sciences'"
   ]
  },
  {
   "cell_type": "code",
   "execution_count": 77,
   "id": "ffbc54e3-da08-4820-8a98-520fee2b41fd",
   "metadata": {},
   "outputs": [],
   "source": [
    "start_page = 24\n",
    "end_page = 24"
   ]
  },
  {
   "cell_type": "code",
   "execution_count": 78,
   "id": "10007ce9-2cd0-4dea-8016-e00a0de6b4e1",
   "metadata": {},
   "outputs": [
    {
     "name": "stderr",
     "output_type": "stream",
     "text": [
      "100%|██████████| 1/1 [00:06<00:00,  6.35s/it]\n"
     ]
    }
   ],
   "source": [
    "df_v382i24 = scrape_articles(root_url, doi_root_url, article_list_url, start_page, end_page, volume, area_of_knowledge)"
   ]
  },
  {
   "cell_type": "code",
   "execution_count": 79,
   "id": "2d9e58c2-9717-4a2b-865e-ce5115d562d5",
   "metadata": {},
   "outputs": [],
   "source": [
    "root_url = 'https://www.nejm.org'\n",
    "doi_root_url = 'https://doi.org'\n",
    "article_list_url = 'https://www.nejm.org/toc/nejm/382/'\n",
    "volume = 'Volume 382'\n",
    "area_of_knowledge = 'Health Sciences'"
   ]
  },
  {
   "cell_type": "code",
   "execution_count": 80,
   "id": "76bb7fec-ce39-4e49-bf53-6b082bb7e9b6",
   "metadata": {},
   "outputs": [],
   "source": [
    "start_page = 25\n",
    "end_page = 25"
   ]
  },
  {
   "cell_type": "code",
   "execution_count": 81,
   "id": "5340d491-7345-4c75-a7a9-c4ca59685c57",
   "metadata": {},
   "outputs": [
    {
     "name": "stderr",
     "output_type": "stream",
     "text": [
      "100%|██████████| 1/1 [00:06<00:00,  6.52s/it]\n"
     ]
    }
   ],
   "source": [
    "df_v382i25 = scrape_articles(root_url, doi_root_url, article_list_url, start_page, end_page, volume, area_of_knowledge)"
   ]
  },
  {
   "cell_type": "code",
   "execution_count": 82,
   "id": "51b34158-4a8a-4959-8abe-115a10479660",
   "metadata": {},
   "outputs": [],
   "source": [
    "root_url = 'https://www.nejm.org'\n",
    "doi_root_url = 'https://doi.org'\n",
    "article_list_url = 'https://www.nejm.org/toc/nejm/382/'\n",
    "volume = 'Volume 382'\n",
    "area_of_knowledge = 'Health Sciences'"
   ]
  },
  {
   "cell_type": "code",
   "execution_count": 83,
   "id": "f81c911b-7c3b-4ad8-9d82-7be89c7d4864",
   "metadata": {},
   "outputs": [],
   "source": [
    "start_page = 26\n",
    "end_page = 26"
   ]
  },
  {
   "cell_type": "code",
   "execution_count": 84,
   "id": "e5adbc23-383b-416e-9de7-ca5f5ba6cf86",
   "metadata": {},
   "outputs": [
    {
     "name": "stderr",
     "output_type": "stream",
     "text": [
      "100%|██████████| 1/1 [00:08<00:00,  8.48s/it]\n"
     ]
    }
   ],
   "source": [
    "df_v382i26 = scrape_articles(root_url, doi_root_url, article_list_url, start_page, end_page, volume, area_of_knowledge)"
   ]
  },
  {
   "cell_type": "markdown",
   "id": "dae40400-2e5a-499f-bd4f-aa27ccfc09ef",
   "metadata": {},
   "source": [
    "##### Volume 383 (Issue 1 - 27)"
   ]
  },
  {
   "cell_type": "code",
   "execution_count": 85,
   "id": "fb6bea90-2799-4240-b98c-459fef2866f5",
   "metadata": {},
   "outputs": [],
   "source": [
    "root_url = 'https://www.nejm.org'\n",
    "doi_root_url = 'https://doi.org'\n",
    "article_list_url = 'https://www.nejm.org/toc/nejm/383/'\n",
    "volume = 'Volume 383'\n",
    "area_of_knowledge = 'Health Sciences'"
   ]
  },
  {
   "cell_type": "code",
   "execution_count": 86,
   "id": "90a7db54-74dd-4008-bf60-2193ca9606f8",
   "metadata": {},
   "outputs": [],
   "source": [
    "start_page = 1\n",
    "end_page = 1"
   ]
  },
  {
   "cell_type": "code",
   "execution_count": 87,
   "id": "be67b670-7e1b-44d4-ac30-45ceb1b0d724",
   "metadata": {},
   "outputs": [
    {
     "name": "stderr",
     "output_type": "stream",
     "text": [
      "100%|██████████| 1/1 [00:06<00:00,  6.47s/it]\n"
     ]
    }
   ],
   "source": [
    "df_v383i1 = scrape_articles(root_url, doi_root_url, article_list_url, start_page, end_page, volume, area_of_knowledge)"
   ]
  },
  {
   "cell_type": "code",
   "execution_count": 88,
   "id": "beb8a73f-5790-4928-817e-62bd92d7da8e",
   "metadata": {},
   "outputs": [],
   "source": [
    "root_url = 'https://www.nejm.org'\n",
    "doi_root_url = 'https://doi.org'\n",
    "article_list_url = 'https://www.nejm.org/toc/nejm/383/'\n",
    "volume = 'Volume 383'\n",
    "area_of_knowledge = 'Health Sciences'"
   ]
  },
  {
   "cell_type": "code",
   "execution_count": 89,
   "id": "5ca75944-0a07-477a-bc83-c042697705de",
   "metadata": {},
   "outputs": [],
   "source": [
    "start_page = 2\n",
    "end_page = 2"
   ]
  },
  {
   "cell_type": "code",
   "execution_count": 90,
   "id": "22cfa715-c4fd-4e33-bb74-46223a59b477",
   "metadata": {},
   "outputs": [
    {
     "name": "stderr",
     "output_type": "stream",
     "text": [
      "100%|██████████| 1/1 [00:08<00:00,  8.35s/it]\n"
     ]
    }
   ],
   "source": [
    "df_v383i2 = scrape_articles(root_url, doi_root_url, article_list_url, start_page, end_page, volume, area_of_knowledge)"
   ]
  },
  {
   "cell_type": "code",
   "execution_count": 91,
   "id": "bc17d77b-c834-4988-826b-146b0f90f03e",
   "metadata": {},
   "outputs": [],
   "source": [
    "root_url = 'https://www.nejm.org'\n",
    "doi_root_url = 'https://doi.org'\n",
    "article_list_url = 'https://www.nejm.org/toc/nejm/383/'\n",
    "volume = 'Volume 383'\n",
    "area_of_knowledge = 'Health Sciences'"
   ]
  },
  {
   "cell_type": "code",
   "execution_count": 92,
   "id": "2b12e938-e9ea-445b-bebe-b603d5836dd7",
   "metadata": {},
   "outputs": [],
   "source": [
    "start_page = 3\n",
    "end_page = 3"
   ]
  },
  {
   "cell_type": "code",
   "execution_count": 93,
   "id": "f339498d-59c6-4621-bdd7-4e7690ef315b",
   "metadata": {},
   "outputs": [
    {
     "name": "stderr",
     "output_type": "stream",
     "text": [
      "100%|██████████| 1/1 [00:06<00:00,  6.41s/it]\n"
     ]
    }
   ],
   "source": [
    "df_v383i3 = scrape_articles(root_url, doi_root_url, article_list_url, start_page, end_page, volume, area_of_knowledge)"
   ]
  },
  {
   "cell_type": "code",
   "execution_count": 94,
   "id": "d29eb86d-1287-47bc-86f1-d18fe1d0409e",
   "metadata": {},
   "outputs": [],
   "source": [
    "root_url = 'https://www.nejm.org'\n",
    "doi_root_url = 'https://doi.org'\n",
    "article_list_url = 'https://www.nejm.org/toc/nejm/383/'\n",
    "volume = 'Volume 383'\n",
    "area_of_knowledge = 'Health Sciences'"
   ]
  },
  {
   "cell_type": "code",
   "execution_count": 95,
   "id": "7be760e9-64b6-4343-941f-7dadb7993865",
   "metadata": {},
   "outputs": [],
   "source": [
    "start_page = 4\n",
    "end_page = 4"
   ]
  },
  {
   "cell_type": "code",
   "execution_count": 96,
   "id": "2607ed59-2be5-4b2f-9bcc-3460b8605b0c",
   "metadata": {},
   "outputs": [
    {
     "name": "stderr",
     "output_type": "stream",
     "text": [
      "100%|██████████| 1/1 [00:06<00:00,  6.29s/it]\n"
     ]
    }
   ],
   "source": [
    "df_v383i4 = scrape_articles(root_url, doi_root_url, article_list_url, start_page, end_page, volume, area_of_knowledge)"
   ]
  },
  {
   "cell_type": "code",
   "execution_count": 97,
   "id": "26d091c1-6053-474d-aec7-c0ab303e8994",
   "metadata": {},
   "outputs": [],
   "source": [
    "root_url = 'https://www.nejm.org'\n",
    "doi_root_url = 'https://doi.org'\n",
    "article_list_url = 'https://www.nejm.org/toc/nejm/383/'\n",
    "volume = 'Volume 383'\n",
    "area_of_knowledge = 'Health Sciences'"
   ]
  },
  {
   "cell_type": "code",
   "execution_count": 98,
   "id": "dc9eeb78-c61f-4bae-b353-b0e01cf76cda",
   "metadata": {},
   "outputs": [],
   "source": [
    "start_page = 5\n",
    "end_page = 5"
   ]
  },
  {
   "cell_type": "code",
   "execution_count": 99,
   "id": "f46d12e9-b85d-4dd2-b739-428cb31d709f",
   "metadata": {},
   "outputs": [
    {
     "name": "stderr",
     "output_type": "stream",
     "text": [
      "100%|██████████| 1/1 [00:08<00:00,  8.45s/it]\n"
     ]
    }
   ],
   "source": [
    "df_v383i5 = scrape_articles(root_url, doi_root_url, article_list_url, start_page, end_page, volume, area_of_knowledge)"
   ]
  },
  {
   "cell_type": "code",
   "execution_count": 100,
   "id": "10e2475e-e8be-4bae-bd97-f441b62a1a8d",
   "metadata": {},
   "outputs": [],
   "source": [
    "root_url = 'https://www.nejm.org'\n",
    "doi_root_url = 'https://doi.org'\n",
    "article_list_url = 'https://www.nejm.org/toc/nejm/383/'\n",
    "volume = 'Volume 383'\n",
    "area_of_knowledge = 'Health Sciences'"
   ]
  },
  {
   "cell_type": "code",
   "execution_count": 101,
   "id": "c022e639-1ac9-4b74-bb83-b277030ab7a3",
   "metadata": {},
   "outputs": [],
   "source": [
    "start_page = 6\n",
    "end_page = 6"
   ]
  },
  {
   "cell_type": "code",
   "execution_count": 102,
   "id": "6eee3f50-90de-48e9-b764-c8c82c1fc4cc",
   "metadata": {},
   "outputs": [
    {
     "name": "stderr",
     "output_type": "stream",
     "text": [
      "100%|██████████| 1/1 [00:06<00:00,  6.39s/it]\n"
     ]
    }
   ],
   "source": [
    "df_v383i6 = scrape_articles(root_url, doi_root_url, article_list_url, start_page, end_page, volume, area_of_knowledge)"
   ]
  },
  {
   "cell_type": "code",
   "execution_count": 103,
   "id": "a82e1b52-3915-43d3-a142-cb687858a9da",
   "metadata": {},
   "outputs": [],
   "source": [
    "root_url = 'https://www.nejm.org'\n",
    "doi_root_url = 'https://doi.org'\n",
    "article_list_url = 'https://www.nejm.org/toc/nejm/383/'\n",
    "volume = 'Volume 383'\n",
    "area_of_knowledge = 'Health Sciences'"
   ]
  },
  {
   "cell_type": "code",
   "execution_count": 104,
   "id": "4fd32036-1131-4f00-94b2-f88482611808",
   "metadata": {},
   "outputs": [],
   "source": [
    "start_page = 7\n",
    "end_page = 7"
   ]
  },
  {
   "cell_type": "code",
   "execution_count": 105,
   "id": "b411a9d6-92f5-4e99-9b3b-513a8b86ba3f",
   "metadata": {},
   "outputs": [
    {
     "name": "stderr",
     "output_type": "stream",
     "text": [
      "100%|██████████| 1/1 [00:06<00:00,  6.55s/it]\n"
     ]
    }
   ],
   "source": [
    "df_v383i7 = scrape_articles(root_url, doi_root_url, article_list_url, start_page, end_page, volume, area_of_knowledge)"
   ]
  },
  {
   "cell_type": "code",
   "execution_count": 106,
   "id": "de9fcc34-513a-42a0-b61f-03bf3bb44206",
   "metadata": {},
   "outputs": [],
   "source": [
    "root_url = 'https://www.nejm.org'\n",
    "doi_root_url = 'https://doi.org'\n",
    "article_list_url = 'https://www.nejm.org/toc/nejm/383/'\n",
    "volume = 'Volume 383'\n",
    "area_of_knowledge = 'Health Sciences'"
   ]
  },
  {
   "cell_type": "code",
   "execution_count": 107,
   "id": "83579005-f085-429f-b5b5-336d6e2b20f5",
   "metadata": {},
   "outputs": [],
   "source": [
    "start_page = 8\n",
    "end_page = 8"
   ]
  },
  {
   "cell_type": "code",
   "execution_count": 108,
   "id": "d8371c32-d55a-4891-800c-37640387b814",
   "metadata": {},
   "outputs": [
    {
     "name": "stderr",
     "output_type": "stream",
     "text": [
      "100%|██████████| 1/1 [00:06<00:00,  6.69s/it]\n"
     ]
    }
   ],
   "source": [
    "df_v383i8 = scrape_articles(root_url, doi_root_url, article_list_url, start_page, end_page, volume, area_of_knowledge)"
   ]
  },
  {
   "cell_type": "code",
   "execution_count": 109,
   "id": "d8b81e6d-7f97-45f7-b6f7-3fa9a1cbb054",
   "metadata": {},
   "outputs": [],
   "source": [
    "root_url = 'https://www.nejm.org'\n",
    "doi_root_url = 'https://doi.org'\n",
    "article_list_url = 'https://www.nejm.org/toc/nejm/383/'\n",
    "volume = 'Volume 383'\n",
    "area_of_knowledge = 'Health Sciences'"
   ]
  },
  {
   "cell_type": "code",
   "execution_count": 110,
   "id": "80b3ff5b-7b17-46df-a911-27529af7c626",
   "metadata": {},
   "outputs": [],
   "source": [
    "start_page = 9\n",
    "end_page = 9"
   ]
  },
  {
   "cell_type": "code",
   "execution_count": 111,
   "id": "89c11dfa-7358-4e5c-a872-c88f1779f8f2",
   "metadata": {},
   "outputs": [
    {
     "name": "stderr",
     "output_type": "stream",
     "text": [
      "100%|██████████| 1/1 [00:06<00:00,  6.35s/it]\n"
     ]
    }
   ],
   "source": [
    "df_v383i9 = scrape_articles(root_url, doi_root_url, article_list_url, start_page, end_page, volume, area_of_knowledge)"
   ]
  },
  {
   "cell_type": "code",
   "execution_count": 112,
   "id": "daef1c1f-4eab-4ff5-b2e1-5369e5582be3",
   "metadata": {},
   "outputs": [],
   "source": [
    "root_url = 'https://www.nejm.org'\n",
    "doi_root_url = 'https://doi.org'\n",
    "article_list_url = 'https://www.nejm.org/toc/nejm/383/'\n",
    "volume = 'Volume 383'\n",
    "area_of_knowledge = 'Health Sciences'"
   ]
  },
  {
   "cell_type": "code",
   "execution_count": 113,
   "id": "57a5d2aa-85b4-499e-a1d1-d5cbf742bdbe",
   "metadata": {},
   "outputs": [],
   "source": [
    "start_page = 10\n",
    "end_page = 10"
   ]
  },
  {
   "cell_type": "code",
   "execution_count": 114,
   "id": "8bab5972-2aa4-4d8c-b5b5-eeb8d7b4a995",
   "metadata": {},
   "outputs": [
    {
     "name": "stderr",
     "output_type": "stream",
     "text": [
      "100%|██████████| 1/1 [00:07<00:00,  7.54s/it]\n"
     ]
    }
   ],
   "source": [
    "df_v383i10 = scrape_articles(root_url, doi_root_url, article_list_url, start_page, end_page, volume, area_of_knowledge)"
   ]
  },
  {
   "cell_type": "code",
   "execution_count": 115,
   "id": "cba3b0d4-2f72-49c2-9a6f-302ea9da8513",
   "metadata": {},
   "outputs": [],
   "source": [
    "root_url = 'https://www.nejm.org'\n",
    "doi_root_url = 'https://doi.org'\n",
    "article_list_url = 'https://www.nejm.org/toc/nejm/383/'\n",
    "volume = 'Volume 383'\n",
    "area_of_knowledge = 'Health Sciences'"
   ]
  },
  {
   "cell_type": "code",
   "execution_count": 116,
   "id": "fc0344da-78ee-4088-b81b-e6d37f7c38de",
   "metadata": {},
   "outputs": [],
   "source": [
    "start_page = 11\n",
    "end_page = 11"
   ]
  },
  {
   "cell_type": "code",
   "execution_count": 117,
   "id": "b33e2570-7f47-47c6-b8b9-662b9ced8b90",
   "metadata": {},
   "outputs": [
    {
     "name": "stderr",
     "output_type": "stream",
     "text": [
      "100%|██████████| 1/1 [00:06<00:00,  6.90s/it]\n"
     ]
    }
   ],
   "source": [
    "df_v383i11 = scrape_articles(root_url, doi_root_url, article_list_url, start_page, end_page, volume, area_of_knowledge)"
   ]
  },
  {
   "cell_type": "code",
   "execution_count": 118,
   "id": "85085a84-f8e6-4534-91c0-f4671c0a2aeb",
   "metadata": {},
   "outputs": [],
   "source": [
    "root_url = 'https://www.nejm.org'\n",
    "doi_root_url = 'https://doi.org'\n",
    "article_list_url = 'https://www.nejm.org/toc/nejm/383/'\n",
    "volume = 'Volume 383'\n",
    "area_of_knowledge = 'Health Sciences'"
   ]
  },
  {
   "cell_type": "code",
   "execution_count": 119,
   "id": "73c59867-5cd4-4a22-8dc3-c28e958c9879",
   "metadata": {},
   "outputs": [],
   "source": [
    "start_page = 12\n",
    "end_page = 12"
   ]
  },
  {
   "cell_type": "code",
   "execution_count": 120,
   "id": "4a347411-8fef-44aa-b808-715565292ff6",
   "metadata": {},
   "outputs": [
    {
     "name": "stderr",
     "output_type": "stream",
     "text": [
      "100%|██████████| 1/1 [00:06<00:00,  6.42s/it]\n"
     ]
    }
   ],
   "source": [
    "df_v383i12 = scrape_articles(root_url, doi_root_url, article_list_url, start_page, end_page, volume, area_of_knowledge)"
   ]
  },
  {
   "cell_type": "code",
   "execution_count": 121,
   "id": "dff38ef2-e3b3-4fe3-94bc-9b773da237e4",
   "metadata": {},
   "outputs": [],
   "source": [
    "root_url = 'https://www.nejm.org'\n",
    "doi_root_url = 'https://doi.org'\n",
    "article_list_url = 'https://www.nejm.org/toc/nejm/383/'\n",
    "volume = 'Volume 383'\n",
    "area_of_knowledge = 'Health Sciences'"
   ]
  },
  {
   "cell_type": "code",
   "execution_count": 122,
   "id": "0a855988-274b-4484-be9f-bbf6adbf41d5",
   "metadata": {},
   "outputs": [],
   "source": [
    "start_page = 13\n",
    "end_page = 13"
   ]
  },
  {
   "cell_type": "code",
   "execution_count": 123,
   "id": "2da52e2e-a4fd-4846-aac2-6c753950b860",
   "metadata": {},
   "outputs": [
    {
     "name": "stderr",
     "output_type": "stream",
     "text": [
      "100%|██████████| 1/1 [00:06<00:00,  6.42s/it]\n"
     ]
    }
   ],
   "source": [
    "df_v383i13 = scrape_articles(root_url, doi_root_url, article_list_url, start_page, end_page, volume, area_of_knowledge)"
   ]
  },
  {
   "cell_type": "code",
   "execution_count": 124,
   "id": "b0fef5f2-e703-4ec5-9281-f534b8547fb7",
   "metadata": {},
   "outputs": [],
   "source": [
    "root_url = 'https://www.nejm.org'\n",
    "doi_root_url = 'https://doi.org'\n",
    "article_list_url = 'https://www.nejm.org/toc/nejm/383/'\n",
    "volume = 'Volume 383'\n",
    "area_of_knowledge = 'Health Sciences'"
   ]
  },
  {
   "cell_type": "code",
   "execution_count": 125,
   "id": "1f21b3ef-9464-4a0f-acdb-1b4df6a50498",
   "metadata": {},
   "outputs": [],
   "source": [
    "start_page = 14\n",
    "end_page = 14"
   ]
  },
  {
   "cell_type": "code",
   "execution_count": 126,
   "id": "0a44a951-28f1-4c3f-bde8-dc7fdef21ea0",
   "metadata": {},
   "outputs": [
    {
     "name": "stderr",
     "output_type": "stream",
     "text": [
      "100%|██████████| 1/1 [00:08<00:00,  8.44s/it]\n"
     ]
    }
   ],
   "source": [
    "df_v383i14 = scrape_articles(root_url, doi_root_url, article_list_url, start_page, end_page, volume, area_of_knowledge)"
   ]
  },
  {
   "cell_type": "code",
   "execution_count": 127,
   "id": "1ea576de-9e72-4d05-8af7-f09504652230",
   "metadata": {},
   "outputs": [],
   "source": [
    "root_url = 'https://www.nejm.org'\n",
    "doi_root_url = 'https://doi.org'\n",
    "article_list_url = 'https://www.nejm.org/toc/nejm/383/'\n",
    "volume = 'Volume 383'\n",
    "area_of_knowledge = 'Health Sciences'"
   ]
  },
  {
   "cell_type": "code",
   "execution_count": 128,
   "id": "c33eda7d-b193-4024-8e96-e61600172c62",
   "metadata": {},
   "outputs": [],
   "source": [
    "start_page = 15\n",
    "end_page = 15"
   ]
  },
  {
   "cell_type": "code",
   "execution_count": 129,
   "id": "95f68c3f-50b3-4cc0-8c0f-b77bfee8cc48",
   "metadata": {},
   "outputs": [
    {
     "name": "stderr",
     "output_type": "stream",
     "text": [
      "100%|██████████| 1/1 [00:06<00:00,  6.30s/it]\n"
     ]
    }
   ],
   "source": [
    "df_v383i15 = scrape_articles(root_url, doi_root_url, article_list_url, start_page, end_page, volume, area_of_knowledge)"
   ]
  },
  {
   "cell_type": "code",
   "execution_count": 130,
   "id": "8d86f4a7-fae9-46a0-b360-c8aa92dde0be",
   "metadata": {},
   "outputs": [],
   "source": [
    "root_url = 'https://www.nejm.org'\n",
    "doi_root_url = 'https://doi.org'\n",
    "article_list_url = 'https://www.nejm.org/toc/nejm/383/'\n",
    "volume = 'Volume 383'\n",
    "area_of_knowledge = 'Health Sciences'"
   ]
  },
  {
   "cell_type": "code",
   "execution_count": 131,
   "id": "5ef31b08-4158-4a0a-9426-cfc8b0fdbf6c",
   "metadata": {},
   "outputs": [],
   "source": [
    "start_page = 16\n",
    "end_page = 16"
   ]
  },
  {
   "cell_type": "code",
   "execution_count": 132,
   "id": "c90fc36b-6a7c-42f9-9654-97015e7d32cb",
   "metadata": {},
   "outputs": [
    {
     "name": "stderr",
     "output_type": "stream",
     "text": [
      "100%|██████████| 1/1 [00:08<00:00,  8.27s/it]\n"
     ]
    }
   ],
   "source": [
    "df_v383i16 = scrape_articles(root_url, doi_root_url, article_list_url, start_page, end_page, volume, area_of_knowledge)"
   ]
  },
  {
   "cell_type": "code",
   "execution_count": 133,
   "id": "34542536-205e-4b3c-b64a-6b245f48cd7a",
   "metadata": {},
   "outputs": [],
   "source": [
    "root_url = 'https://www.nejm.org'\n",
    "doi_root_url = 'https://doi.org'\n",
    "article_list_url = 'https://www.nejm.org/toc/nejm/383/'\n",
    "volume = 'Volume 383'\n",
    "area_of_knowledge = 'Health Sciences'"
   ]
  },
  {
   "cell_type": "code",
   "execution_count": 134,
   "id": "7dd8975a-150e-4aeb-ade1-09fa03eccb01",
   "metadata": {},
   "outputs": [],
   "source": [
    "start_page = 17\n",
    "end_page = 17"
   ]
  },
  {
   "cell_type": "code",
   "execution_count": 135,
   "id": "c88960df-1582-40f5-91bd-2d176cbd5df9",
   "metadata": {},
   "outputs": [
    {
     "name": "stderr",
     "output_type": "stream",
     "text": [
      "100%|██████████| 1/1 [00:08<00:00,  8.43s/it]\n"
     ]
    }
   ],
   "source": [
    "df_v383i17 = scrape_articles(root_url, doi_root_url, article_list_url, start_page, end_page, volume, area_of_knowledge)"
   ]
  },
  {
   "cell_type": "code",
   "execution_count": 136,
   "id": "6a05bd5f-d776-4a43-9929-6e3e8c691265",
   "metadata": {},
   "outputs": [],
   "source": [
    "root_url = 'https://www.nejm.org'\n",
    "doi_root_url = 'https://doi.org'\n",
    "article_list_url = 'https://www.nejm.org/toc/nejm/383/'\n",
    "volume = 'Volume 383'\n",
    "area_of_knowledge = 'Health Sciences'"
   ]
  },
  {
   "cell_type": "code",
   "execution_count": 137,
   "id": "caa88d2c-5868-41db-ba22-554e94ecf7f9",
   "metadata": {},
   "outputs": [],
   "source": [
    "start_page = 18\n",
    "end_page = 18"
   ]
  },
  {
   "cell_type": "code",
   "execution_count": 138,
   "id": "b65d3c30-03ce-4d1a-8f1f-8c302bc9204c",
   "metadata": {},
   "outputs": [
    {
     "name": "stderr",
     "output_type": "stream",
     "text": [
      "100%|██████████| 1/1 [00:06<00:00,  6.36s/it]\n"
     ]
    }
   ],
   "source": [
    "df_v383i18 = scrape_articles(root_url, doi_root_url, article_list_url, start_page, end_page, volume, area_of_knowledge)"
   ]
  },
  {
   "cell_type": "code",
   "execution_count": 139,
   "id": "c05e42c1-2ed1-489f-8c5e-5e1c5706d071",
   "metadata": {},
   "outputs": [],
   "source": [
    "root_url = 'https://www.nejm.org'\n",
    "doi_root_url = 'https://doi.org'\n",
    "article_list_url = 'https://www.nejm.org/toc/nejm/383/'\n",
    "volume = 'Volume 383'\n",
    "area_of_knowledge = 'Health Sciences'"
   ]
  },
  {
   "cell_type": "code",
   "execution_count": 140,
   "id": "6133bf54-65a1-4fdf-b339-48a1e23f4857",
   "metadata": {},
   "outputs": [],
   "source": [
    "start_page = 19\n",
    "end_page = 19"
   ]
  },
  {
   "cell_type": "code",
   "execution_count": 141,
   "id": "0054fc5a-ec35-46dc-8e81-9a6cafc771c4",
   "metadata": {},
   "outputs": [
    {
     "name": "stderr",
     "output_type": "stream",
     "text": [
      "100%|██████████| 1/1 [00:09<00:00,  9.74s/it]\n"
     ]
    }
   ],
   "source": [
    "df_v383i19 = scrape_articles(root_url, doi_root_url, article_list_url, start_page, end_page, volume, area_of_knowledge)"
   ]
  },
  {
   "cell_type": "code",
   "execution_count": 142,
   "id": "5ec75665-d760-4ad3-9762-bbdab3528f9f",
   "metadata": {},
   "outputs": [],
   "source": [
    "root_url = 'https://www.nejm.org'\n",
    "doi_root_url = 'https://doi.org'\n",
    "article_list_url = 'https://www.nejm.org/toc/nejm/383/'\n",
    "volume = 'Volume 383'\n",
    "area_of_knowledge = 'Health Sciences'"
   ]
  },
  {
   "cell_type": "code",
   "execution_count": 143,
   "id": "cbae9ad2-e490-4335-b52f-34cf678f4e2c",
   "metadata": {},
   "outputs": [],
   "source": [
    "start_page = 20\n",
    "end_page = 20"
   ]
  },
  {
   "cell_type": "code",
   "execution_count": 144,
   "id": "46b64930-cf97-4459-877b-124afb42fc8e",
   "metadata": {},
   "outputs": [
    {
     "name": "stderr",
     "output_type": "stream",
     "text": [
      "100%|██████████| 1/1 [00:08<00:00,  8.23s/it]\n"
     ]
    }
   ],
   "source": [
    "df_v383i20 = scrape_articles(root_url, doi_root_url, article_list_url, start_page, end_page, volume, area_of_knowledge)"
   ]
  },
  {
   "cell_type": "code",
   "execution_count": 145,
   "id": "89bd7cdc-6560-46b5-8439-dfcea29dff76",
   "metadata": {},
   "outputs": [],
   "source": [
    "root_url = 'https://www.nejm.org'\n",
    "doi_root_url = 'https://doi.org'\n",
    "article_list_url = 'https://www.nejm.org/toc/nejm/383/'\n",
    "volume = 'Volume 383'\n",
    "area_of_knowledge = 'Health Sciences'"
   ]
  },
  {
   "cell_type": "code",
   "execution_count": 146,
   "id": "bad76527-0ace-4503-b36a-a382d1d92161",
   "metadata": {},
   "outputs": [],
   "source": [
    "start_page = 21\n",
    "end_page = 21"
   ]
  },
  {
   "cell_type": "code",
   "execution_count": 147,
   "id": "3aa1b30f-b62d-40bf-b649-01b3cd6a97ab",
   "metadata": {},
   "outputs": [
    {
     "name": "stderr",
     "output_type": "stream",
     "text": [
      "100%|██████████| 1/1 [00:11<00:00, 11.58s/it]\n"
     ]
    }
   ],
   "source": [
    "df_v383i21 = scrape_articles(root_url, doi_root_url, article_list_url, start_page, end_page, volume, area_of_knowledge)"
   ]
  },
  {
   "cell_type": "code",
   "execution_count": 148,
   "id": "013592ef-3b39-4796-9b01-b5d0c8c7afad",
   "metadata": {},
   "outputs": [],
   "source": [
    "root_url = 'https://www.nejm.org'\n",
    "doi_root_url = 'https://doi.org'\n",
    "article_list_url = 'https://www.nejm.org/toc/nejm/383/'\n",
    "volume = 'Volume 383'\n",
    "area_of_knowledge = 'Health Sciences'"
   ]
  },
  {
   "cell_type": "code",
   "execution_count": 149,
   "id": "8faa00c3-c00f-4233-80aa-c6b7d93f6937",
   "metadata": {},
   "outputs": [],
   "source": [
    "start_page = 22\n",
    "end_page = 22"
   ]
  },
  {
   "cell_type": "code",
   "execution_count": 150,
   "id": "12dfe385-13ee-4150-8246-ef254b3d279b",
   "metadata": {},
   "outputs": [
    {
     "name": "stderr",
     "output_type": "stream",
     "text": [
      "100%|██████████| 1/1 [00:08<00:00,  8.31s/it]\n"
     ]
    }
   ],
   "source": [
    "df_v383i22 = scrape_articles(root_url, doi_root_url, article_list_url, start_page, end_page, volume, area_of_knowledge)"
   ]
  },
  {
   "cell_type": "code",
   "execution_count": 151,
   "id": "c525f734-b9d7-488a-9bd7-3d84d12e56d9",
   "metadata": {},
   "outputs": [],
   "source": [
    "root_url = 'https://www.nejm.org'\n",
    "doi_root_url = 'https://doi.org'\n",
    "article_list_url = 'https://www.nejm.org/toc/nejm/383/'\n",
    "volume = 'Volume 383'\n",
    "area_of_knowledge = 'Health Sciences'"
   ]
  },
  {
   "cell_type": "code",
   "execution_count": 152,
   "id": "d89a04e8-6754-43b0-907f-31857749f45c",
   "metadata": {},
   "outputs": [],
   "source": [
    "start_page = 23\n",
    "end_page = 23"
   ]
  },
  {
   "cell_type": "code",
   "execution_count": 153,
   "id": "864a6097-dcca-4ab4-a9db-e54f9f49a992",
   "metadata": {},
   "outputs": [
    {
     "name": "stderr",
     "output_type": "stream",
     "text": [
      "100%|██████████| 1/1 [00:06<00:00,  6.31s/it]\n"
     ]
    }
   ],
   "source": [
    "df_v383i23 = scrape_articles(root_url, doi_root_url, article_list_url, start_page, end_page, volume, area_of_knowledge)"
   ]
  },
  {
   "cell_type": "code",
   "execution_count": 154,
   "id": "41807e6e-601f-42cc-85cb-ce909296b7d8",
   "metadata": {},
   "outputs": [],
   "source": [
    "root_url = 'https://www.nejm.org'\n",
    "doi_root_url = 'https://doi.org'\n",
    "article_list_url = 'https://www.nejm.org/toc/nejm/383/'\n",
    "volume = 'Volume 383'\n",
    "area_of_knowledge = 'Health Sciences'"
   ]
  },
  {
   "cell_type": "code",
   "execution_count": 155,
   "id": "8a62418d-41c1-4f8e-8d64-59ccc6f52a8f",
   "metadata": {},
   "outputs": [],
   "source": [
    "start_page = 24\n",
    "end_page = 24"
   ]
  },
  {
   "cell_type": "code",
   "execution_count": 156,
   "id": "f2409f60-7bc7-4f7f-9032-3a7629357b6a",
   "metadata": {},
   "outputs": [
    {
     "name": "stderr",
     "output_type": "stream",
     "text": [
      "100%|██████████| 1/1 [00:08<00:00,  8.38s/it]\n"
     ]
    }
   ],
   "source": [
    "df_v383i24 = scrape_articles(root_url, doi_root_url, article_list_url, start_page, end_page, volume, area_of_knowledge)"
   ]
  },
  {
   "cell_type": "code",
   "execution_count": 157,
   "id": "1ae41d52-c108-4454-ae6c-4cbf3ce96f90",
   "metadata": {},
   "outputs": [],
   "source": [
    "root_url = 'https://www.nejm.org'\n",
    "doi_root_url = 'https://doi.org'\n",
    "article_list_url = 'https://www.nejm.org/toc/nejm/383/'\n",
    "volume = 'Volume 383'\n",
    "area_of_knowledge = 'Health Sciences'"
   ]
  },
  {
   "cell_type": "code",
   "execution_count": 158,
   "id": "0e392cdd-4758-4426-9aff-df39aadb0484",
   "metadata": {},
   "outputs": [],
   "source": [
    "start_page = 25\n",
    "end_page = 25"
   ]
  },
  {
   "cell_type": "code",
   "execution_count": 159,
   "id": "212d93e9-3b40-4303-b150-48a35bbf6b8e",
   "metadata": {},
   "outputs": [
    {
     "name": "stderr",
     "output_type": "stream",
     "text": [
      "100%|██████████| 1/1 [00:06<00:00,  6.49s/it]\n"
     ]
    }
   ],
   "source": [
    "df_v383i25 = scrape_articles(root_url, doi_root_url, article_list_url, start_page, end_page, volume, area_of_knowledge)"
   ]
  },
  {
   "cell_type": "code",
   "execution_count": 160,
   "id": "f9a794d1-efb0-4c3c-bb3d-e34522a7fbc8",
   "metadata": {},
   "outputs": [],
   "source": [
    "root_url = 'https://www.nejm.org'\n",
    "doi_root_url = 'https://doi.org'\n",
    "article_list_url = 'https://www.nejm.org/toc/nejm/383/'\n",
    "volume = 'Volume 383'\n",
    "area_of_knowledge = 'Health Sciences'"
   ]
  },
  {
   "cell_type": "code",
   "execution_count": 161,
   "id": "43623410-88a7-485a-ba6b-9fe9f85b2a66",
   "metadata": {},
   "outputs": [],
   "source": [
    "start_page = 26\n",
    "end_page = 26"
   ]
  },
  {
   "cell_type": "code",
   "execution_count": 162,
   "id": "90ce687e-bb5e-48a4-86b5-7da8ec739c99",
   "metadata": {},
   "outputs": [
    {
     "name": "stderr",
     "output_type": "stream",
     "text": [
      "100%|██████████| 1/1 [00:08<00:00,  8.39s/it]\n"
     ]
    }
   ],
   "source": [
    "df_v383i26 = scrape_articles(root_url, doi_root_url, article_list_url, start_page, end_page, volume, area_of_knowledge)"
   ]
  },
  {
   "cell_type": "code",
   "execution_count": 163,
   "id": "5f7c294e-85b5-4b6e-9235-ec4c37463e17",
   "metadata": {},
   "outputs": [],
   "source": [
    "root_url = 'https://www.nejm.org'\n",
    "doi_root_url = 'https://doi.org'\n",
    "article_list_url = 'https://www.nejm.org/toc/nejm/383/'\n",
    "volume = 'Volume 383'\n",
    "area_of_knowledge = 'Health Sciences'"
   ]
  },
  {
   "cell_type": "code",
   "execution_count": 164,
   "id": "4aae6858-21a8-48c7-87c0-42b606f45b6f",
   "metadata": {},
   "outputs": [],
   "source": [
    "start_page = 27\n",
    "end_page = 27"
   ]
  },
  {
   "cell_type": "code",
   "execution_count": 165,
   "id": "84ba3e45-949f-4fda-a52d-ef216f8f3515",
   "metadata": {},
   "outputs": [
    {
     "name": "stderr",
     "output_type": "stream",
     "text": [
      "100%|██████████| 1/1 [00:08<00:00,  8.40s/it]\n"
     ]
    }
   ],
   "source": [
    "df_v383i27 = scrape_articles(root_url, doi_root_url, article_list_url, start_page, end_page, volume, area_of_knowledge)"
   ]
  },
  {
   "cell_type": "markdown",
   "id": "b19dad23-edcf-4ecd-917a-a3997b53829b",
   "metadata": {},
   "source": [
    "##### Volume 384 (Issue 1 - 25)"
   ]
  },
  {
   "cell_type": "code",
   "execution_count": 166,
   "id": "37c16f16-f085-4ccb-8eb5-65dba97bdecb",
   "metadata": {},
   "outputs": [],
   "source": [
    "root_url = 'https://www.nejm.org'\n",
    "doi_root_url = 'https://doi.org'\n",
    "article_list_url = 'https://www.nejm.org/toc/nejm/384/'\n",
    "volume = 'Volume 384'\n",
    "area_of_knowledge = 'Health Sciences'"
   ]
  },
  {
   "cell_type": "code",
   "execution_count": 167,
   "id": "9ea92cc1-a799-40b2-b0ee-f4fb8a1caeb9",
   "metadata": {},
   "outputs": [],
   "source": [
    "start_page = 1\n",
    "end_page = 1"
   ]
  },
  {
   "cell_type": "code",
   "execution_count": 168,
   "id": "9ee79e49-9977-40a3-a0cd-5e6329a80abc",
   "metadata": {},
   "outputs": [
    {
     "name": "stderr",
     "output_type": "stream",
     "text": [
      "100%|██████████| 1/1 [00:06<00:00,  6.72s/it]\n"
     ]
    }
   ],
   "source": [
    "df_v384i1 = scrape_articles(root_url, doi_root_url, article_list_url, start_page, end_page, volume, area_of_knowledge)"
   ]
  },
  {
   "cell_type": "code",
   "execution_count": 169,
   "id": "1e5e19da-3022-4635-8937-428e3fda1ba8",
   "metadata": {},
   "outputs": [],
   "source": [
    "root_url = 'https://www.nejm.org'\n",
    "doi_root_url = 'https://doi.org'\n",
    "article_list_url = 'https://www.nejm.org/toc/nejm/384/'\n",
    "volume = 'Volume 384'\n",
    "area_of_knowledge = 'Health Sciences'"
   ]
  },
  {
   "cell_type": "code",
   "execution_count": 170,
   "id": "b4a55b6e-724f-4d62-a241-b1d9da5e58a1",
   "metadata": {},
   "outputs": [],
   "source": [
    "start_page = 2\n",
    "end_page = 2"
   ]
  },
  {
   "cell_type": "code",
   "execution_count": 171,
   "id": "eab20b7f-704e-44fa-b1d3-a6d435d1988e",
   "metadata": {},
   "outputs": [
    {
     "name": "stderr",
     "output_type": "stream",
     "text": [
      "100%|██████████| 1/1 [00:06<00:00,  6.41s/it]\n"
     ]
    }
   ],
   "source": [
    "df_v384i2 = scrape_articles(root_url, doi_root_url, article_list_url, start_page, end_page, volume, area_of_knowledge)"
   ]
  },
  {
   "cell_type": "code",
   "execution_count": 172,
   "id": "74f72019-356c-4b3b-86bf-fb0941c5e1c2",
   "metadata": {},
   "outputs": [],
   "source": [
    "root_url = 'https://www.nejm.org'\n",
    "doi_root_url = 'https://doi.org'\n",
    "article_list_url = 'https://www.nejm.org/toc/nejm/384/'\n",
    "volume = 'Volume 384'\n",
    "area_of_knowledge = 'Health Sciences'"
   ]
  },
  {
   "cell_type": "code",
   "execution_count": 173,
   "id": "5c9b5129-9cbd-4008-80e0-43d153eeaa52",
   "metadata": {},
   "outputs": [],
   "source": [
    "start_page = 3\n",
    "end_page = 3"
   ]
  },
  {
   "cell_type": "code",
   "execution_count": 174,
   "id": "f90f9073-0493-40a0-9ec7-e1e75ae02b85",
   "metadata": {},
   "outputs": [
    {
     "name": "stderr",
     "output_type": "stream",
     "text": [
      "100%|██████████| 1/1 [00:08<00:00,  8.43s/it]\n"
     ]
    }
   ],
   "source": [
    "df_v384i3 = scrape_articles(root_url, doi_root_url, article_list_url, start_page, end_page, volume, area_of_knowledge)"
   ]
  },
  {
   "cell_type": "code",
   "execution_count": 175,
   "id": "896d6d59-30b9-4ba1-a764-30dec698391c",
   "metadata": {},
   "outputs": [],
   "source": [
    "root_url = 'https://www.nejm.org'\n",
    "doi_root_url = 'https://doi.org'\n",
    "article_list_url = 'https://www.nejm.org/toc/nejm/384/'\n",
    "volume = 'Volume 384'\n",
    "area_of_knowledge = 'Health Sciences'"
   ]
  },
  {
   "cell_type": "code",
   "execution_count": 176,
   "id": "cc93de79-bc01-4c89-9d72-3d8ab653517e",
   "metadata": {},
   "outputs": [],
   "source": [
    "start_page = 4\n",
    "end_page = 4"
   ]
  },
  {
   "cell_type": "code",
   "execution_count": 177,
   "id": "b21b1417-d3c5-4285-a661-5e3285f13781",
   "metadata": {},
   "outputs": [
    {
     "name": "stderr",
     "output_type": "stream",
     "text": [
      "100%|██████████| 1/1 [00:06<00:00,  6.79s/it]\n"
     ]
    }
   ],
   "source": [
    "df_v384i4 = scrape_articles(root_url, doi_root_url, article_list_url, start_page, end_page, volume, area_of_knowledge)"
   ]
  },
  {
   "cell_type": "code",
   "execution_count": 178,
   "id": "838c0698-2198-4630-b469-729fdd85845c",
   "metadata": {},
   "outputs": [],
   "source": [
    "root_url = 'https://www.nejm.org'\n",
    "doi_root_url = 'https://doi.org'\n",
    "article_list_url = 'https://www.nejm.org/toc/nejm/384/'\n",
    "volume = 'Volume 384'\n",
    "area_of_knowledge = 'Health Sciences'"
   ]
  },
  {
   "cell_type": "code",
   "execution_count": 179,
   "id": "3c121678-aaea-4e6c-8e6e-c67de6dac9f8",
   "metadata": {},
   "outputs": [],
   "source": [
    "start_page = 5\n",
    "end_page = 5"
   ]
  },
  {
   "cell_type": "code",
   "execution_count": 180,
   "id": "9c236104-20f5-4df4-9282-912a5237398e",
   "metadata": {},
   "outputs": [
    {
     "name": "stderr",
     "output_type": "stream",
     "text": [
      "100%|██████████| 1/1 [00:06<00:00,  6.36s/it]\n"
     ]
    }
   ],
   "source": [
    "df_v384i5 = scrape_articles(root_url, doi_root_url, article_list_url, start_page, end_page, volume, area_of_knowledge)"
   ]
  },
  {
   "cell_type": "code",
   "execution_count": 181,
   "id": "968fef8a-53b8-4b0e-a34d-c17754bec43d",
   "metadata": {},
   "outputs": [],
   "source": [
    "root_url = 'https://www.nejm.org'\n",
    "doi_root_url = 'https://doi.org'\n",
    "article_list_url = 'https://www.nejm.org/toc/nejm/384/'\n",
    "volume = 'Volume 384'\n",
    "area_of_knowledge = 'Health Sciences'"
   ]
  },
  {
   "cell_type": "code",
   "execution_count": 182,
   "id": "46cd55bf-7e07-4807-afba-108e6bdaf099",
   "metadata": {},
   "outputs": [],
   "source": [
    "start_page = 6\n",
    "end_page = 6"
   ]
  },
  {
   "cell_type": "code",
   "execution_count": 183,
   "id": "8ff65a58-54e7-4064-bb52-b03f9e0ebe53",
   "metadata": {},
   "outputs": [
    {
     "name": "stderr",
     "output_type": "stream",
     "text": [
      "100%|██████████| 1/1 [00:08<00:00,  8.35s/it]\n"
     ]
    }
   ],
   "source": [
    "df_v384i6 = scrape_articles(root_url, doi_root_url, article_list_url, start_page, end_page, volume, area_of_knowledge)"
   ]
  },
  {
   "cell_type": "code",
   "execution_count": 184,
   "id": "9613002d-e819-4f16-94a5-493180db083d",
   "metadata": {},
   "outputs": [],
   "source": [
    "root_url = 'https://www.nejm.org'\n",
    "doi_root_url = 'https://doi.org'\n",
    "article_list_url = 'https://www.nejm.org/toc/nejm/384/'\n",
    "volume = 'Volume 384'\n",
    "area_of_knowledge = 'Health Sciences'"
   ]
  },
  {
   "cell_type": "code",
   "execution_count": 185,
   "id": "528501b5-0359-4a0c-935f-8d41004e425b",
   "metadata": {},
   "outputs": [],
   "source": [
    "start_page = 7\n",
    "end_page = 7"
   ]
  },
  {
   "cell_type": "code",
   "execution_count": 186,
   "id": "945bffff-3e3a-41a2-ba59-3502ecc1474f",
   "metadata": {},
   "outputs": [
    {
     "name": "stderr",
     "output_type": "stream",
     "text": [
      "100%|██████████| 1/1 [00:08<00:00,  8.28s/it]\n"
     ]
    }
   ],
   "source": [
    "df_v384i7 = scrape_articles(root_url, doi_root_url, article_list_url, start_page, end_page, volume, area_of_knowledge)"
   ]
  },
  {
   "cell_type": "code",
   "execution_count": 187,
   "id": "4d2b4b40-77c2-4182-939c-ee12b9b3938c",
   "metadata": {},
   "outputs": [],
   "source": [
    "root_url = 'https://www.nejm.org'\n",
    "doi_root_url = 'https://doi.org'\n",
    "article_list_url = 'https://www.nejm.org/toc/nejm/384/'\n",
    "volume = 'Volume 384'\n",
    "area_of_knowledge = 'Health Sciences'"
   ]
  },
  {
   "cell_type": "code",
   "execution_count": 188,
   "id": "138c7920-a607-49ec-ad0d-6f9664c0d14e",
   "metadata": {},
   "outputs": [],
   "source": [
    "start_page = 8\n",
    "end_page = 8"
   ]
  },
  {
   "cell_type": "code",
   "execution_count": 189,
   "id": "946bf189-7617-49b6-bbd9-7a2d7da9f8f2",
   "metadata": {},
   "outputs": [
    {
     "name": "stderr",
     "output_type": "stream",
     "text": [
      "100%|██████████| 1/1 [00:06<00:00,  6.33s/it]\n"
     ]
    }
   ],
   "source": [
    "df_v384i8 = scrape_articles(root_url, doi_root_url, article_list_url, start_page, end_page, volume, area_of_knowledge)"
   ]
  },
  {
   "cell_type": "code",
   "execution_count": 190,
   "id": "08756fd5-a51c-43fb-80fe-3584c65137a5",
   "metadata": {},
   "outputs": [],
   "source": [
    "root_url = 'https://www.nejm.org'\n",
    "doi_root_url = 'https://doi.org'\n",
    "article_list_url = 'https://www.nejm.org/toc/nejm/384/'\n",
    "volume = 'Volume 384'\n",
    "area_of_knowledge = 'Health Sciences'"
   ]
  },
  {
   "cell_type": "code",
   "execution_count": 191,
   "id": "a41a50bf-35f7-497d-8387-e60e7b2684ad",
   "metadata": {},
   "outputs": [],
   "source": [
    "start_page = 9\n",
    "end_page = 9"
   ]
  },
  {
   "cell_type": "code",
   "execution_count": 192,
   "id": "27759b5b-fac4-4951-aa5c-e7d0ce4ea6e1",
   "metadata": {},
   "outputs": [
    {
     "name": "stderr",
     "output_type": "stream",
     "text": [
      "100%|██████████| 1/1 [00:08<00:00,  8.26s/it]\n"
     ]
    }
   ],
   "source": [
    "df_v384i9 = scrape_articles(root_url, doi_root_url, article_list_url, start_page, end_page, volume, area_of_knowledge)"
   ]
  },
  {
   "cell_type": "code",
   "execution_count": 193,
   "id": "bf8001ea-6dfb-4528-b11a-b53074ce959a",
   "metadata": {},
   "outputs": [],
   "source": [
    "root_url = 'https://www.nejm.org'\n",
    "doi_root_url = 'https://doi.org'\n",
    "article_list_url = 'https://www.nejm.org/toc/nejm/384/'\n",
    "volume = 'Volume 384'\n",
    "area_of_knowledge = 'Health Sciences'"
   ]
  },
  {
   "cell_type": "code",
   "execution_count": 194,
   "id": "64ab70a6-6f4f-44ab-b012-f50f25e58778",
   "metadata": {},
   "outputs": [],
   "source": [
    "start_page = 10\n",
    "end_page = 10"
   ]
  },
  {
   "cell_type": "code",
   "execution_count": 195,
   "id": "8a8b9574-8fcc-45a8-b492-f3cd2e56d2e4",
   "metadata": {},
   "outputs": [
    {
     "name": "stderr",
     "output_type": "stream",
     "text": [
      "100%|██████████| 1/1 [00:06<00:00,  6.35s/it]\n"
     ]
    }
   ],
   "source": [
    "df_v384i10 = scrape_articles(root_url, doi_root_url, article_list_url, start_page, end_page, volume, area_of_knowledge)"
   ]
  },
  {
   "cell_type": "code",
   "execution_count": 196,
   "id": "e80331c0-96ee-44af-ba74-803435741b16",
   "metadata": {},
   "outputs": [],
   "source": [
    "root_url = 'https://www.nejm.org'\n",
    "doi_root_url = 'https://doi.org'\n",
    "article_list_url = 'https://www.nejm.org/toc/nejm/384/'\n",
    "volume = 'Volume 384'\n",
    "area_of_knowledge = 'Health Sciences'"
   ]
  },
  {
   "cell_type": "code",
   "execution_count": 197,
   "id": "bd02ca8e-3dac-46fd-8b7b-75a82b1f4e2d",
   "metadata": {},
   "outputs": [],
   "source": [
    "start_page = 11\n",
    "end_page = 11"
   ]
  },
  {
   "cell_type": "code",
   "execution_count": 198,
   "id": "24646b88-82e0-4591-8570-f82addaf78a7",
   "metadata": {},
   "outputs": [
    {
     "name": "stderr",
     "output_type": "stream",
     "text": [
      "100%|██████████| 1/1 [00:08<00:00,  8.37s/it]\n"
     ]
    }
   ],
   "source": [
    "df_v384i11 = scrape_articles(root_url, doi_root_url, article_list_url, start_page, end_page, volume, area_of_knowledge)"
   ]
  },
  {
   "cell_type": "code",
   "execution_count": 199,
   "id": "d5c536c6-569f-4da1-a52e-a4a261a39ddb",
   "metadata": {},
   "outputs": [],
   "source": [
    "root_url = 'https://www.nejm.org'\n",
    "doi_root_url = 'https://doi.org'\n",
    "article_list_url = 'https://www.nejm.org/toc/nejm/384/'\n",
    "volume = 'Volume 384'\n",
    "area_of_knowledge = 'Health Sciences'"
   ]
  },
  {
   "cell_type": "code",
   "execution_count": 200,
   "id": "93c15ef2-dc62-4f4a-8645-bc173979d8fc",
   "metadata": {},
   "outputs": [],
   "source": [
    "start_page = 12\n",
    "end_page = 12"
   ]
  },
  {
   "cell_type": "code",
   "execution_count": 201,
   "id": "c1597bc3-cda9-48c4-9cff-f80a6d270695",
   "metadata": {},
   "outputs": [
    {
     "name": "stderr",
     "output_type": "stream",
     "text": [
      "100%|██████████| 1/1 [00:06<00:00,  6.49s/it]\n"
     ]
    }
   ],
   "source": [
    "df_v384i12 = scrape_articles(root_url, doi_root_url, article_list_url, start_page, end_page, volume, area_of_knowledge)"
   ]
  },
  {
   "cell_type": "code",
   "execution_count": 202,
   "id": "e0cf509a-77bc-428a-8e7a-126801ef51ac",
   "metadata": {},
   "outputs": [],
   "source": [
    "root_url = 'https://www.nejm.org'\n",
    "doi_root_url = 'https://doi.org'\n",
    "article_list_url = 'https://www.nejm.org/toc/nejm/384/'\n",
    "volume = 'Volume 384'\n",
    "area_of_knowledge = 'Health Sciences'"
   ]
  },
  {
   "cell_type": "code",
   "execution_count": 203,
   "id": "dd176e95-0e27-419c-8dec-170ffc42b2bf",
   "metadata": {},
   "outputs": [],
   "source": [
    "start_page = 13\n",
    "end_page = 13"
   ]
  },
  {
   "cell_type": "code",
   "execution_count": 204,
   "id": "b29a18d6-b10c-4f32-ab02-4bf0cfd8c757",
   "metadata": {},
   "outputs": [
    {
     "name": "stderr",
     "output_type": "stream",
     "text": [
      "100%|██████████| 1/1 [00:08<00:00,  8.22s/it]\n"
     ]
    }
   ],
   "source": [
    "df_v384i13 = scrape_articles(root_url, doi_root_url, article_list_url, start_page, end_page, volume, area_of_knowledge)"
   ]
  },
  {
   "cell_type": "code",
   "execution_count": 205,
   "id": "d1b1d4f8-1840-43db-8a27-c42d30ca2bb1",
   "metadata": {},
   "outputs": [],
   "source": [
    "root_url = 'https://www.nejm.org'\n",
    "doi_root_url = 'https://doi.org'\n",
    "article_list_url = 'https://www.nejm.org/toc/nejm/384/'\n",
    "volume = 'Volume 384'\n",
    "area_of_knowledge = 'Health Sciences'"
   ]
  },
  {
   "cell_type": "code",
   "execution_count": 206,
   "id": "168ca27d-f8e2-4100-be8d-10df7597c448",
   "metadata": {},
   "outputs": [],
   "source": [
    "start_page = 14\n",
    "end_page = 14"
   ]
  },
  {
   "cell_type": "code",
   "execution_count": 207,
   "id": "298fec52-822f-45cf-ba39-46f7b65054a3",
   "metadata": {},
   "outputs": [
    {
     "name": "stderr",
     "output_type": "stream",
     "text": [
      "100%|██████████| 1/1 [00:08<00:00,  8.26s/it]\n"
     ]
    }
   ],
   "source": [
    "df_v384i14 = scrape_articles(root_url, doi_root_url, article_list_url, start_page, end_page, volume, area_of_knowledge)"
   ]
  },
  {
   "cell_type": "code",
   "execution_count": 208,
   "id": "33fae6c3-788d-4452-9bd8-b03f89328882",
   "metadata": {},
   "outputs": [],
   "source": [
    "root_url = 'https://www.nejm.org'\n",
    "doi_root_url = 'https://doi.org'\n",
    "article_list_url = 'https://www.nejm.org/toc/nejm/384/'\n",
    "volume = 'Volume 384'\n",
    "area_of_knowledge = 'Health Sciences'"
   ]
  },
  {
   "cell_type": "code",
   "execution_count": 209,
   "id": "30418a62-d7b2-4085-b44f-cf0f54cd2da1",
   "metadata": {},
   "outputs": [],
   "source": [
    "start_page = 15\n",
    "end_page = 15"
   ]
  },
  {
   "cell_type": "code",
   "execution_count": 210,
   "id": "52607c5f-8da8-4da7-92ba-b4c48b68da2c",
   "metadata": {},
   "outputs": [
    {
     "name": "stderr",
     "output_type": "stream",
     "text": [
      "100%|██████████| 1/1 [00:08<00:00,  8.75s/it]\n"
     ]
    }
   ],
   "source": [
    "df_v384i15 = scrape_articles(root_url, doi_root_url, article_list_url, start_page, end_page, volume, area_of_knowledge)"
   ]
  },
  {
   "cell_type": "code",
   "execution_count": 211,
   "id": "fe547822-948a-4a1d-885a-43c278d0dc62",
   "metadata": {},
   "outputs": [],
   "source": [
    "root_url = 'https://www.nejm.org'\n",
    "doi_root_url = 'https://doi.org'\n",
    "article_list_url = 'https://www.nejm.org/toc/nejm/384/'\n",
    "volume = 'Volume 384'\n",
    "area_of_knowledge = 'Health Sciences'"
   ]
  },
  {
   "cell_type": "code",
   "execution_count": 212,
   "id": "2f70de9e-9b49-4c5d-8c87-026544727ebd",
   "metadata": {},
   "outputs": [],
   "source": [
    "start_page = 16\n",
    "end_page = 16"
   ]
  },
  {
   "cell_type": "code",
   "execution_count": 213,
   "id": "3a1ad197-e4fd-48f5-a875-cb7fad918ac1",
   "metadata": {},
   "outputs": [
    {
     "name": "stderr",
     "output_type": "stream",
     "text": [
      "100%|██████████| 1/1 [00:07<00:00,  7.15s/it]\n"
     ]
    }
   ],
   "source": [
    "df_v384i16 = scrape_articles(root_url, doi_root_url, article_list_url, start_page, end_page, volume, area_of_knowledge)"
   ]
  },
  {
   "cell_type": "code",
   "execution_count": 214,
   "id": "a2b473d3-39a6-42a5-b1b2-cee75406425e",
   "metadata": {},
   "outputs": [],
   "source": [
    "root_url = 'https://www.nejm.org'\n",
    "doi_root_url = 'https://doi.org'\n",
    "article_list_url = 'https://www.nejm.org/toc/nejm/384/'\n",
    "volume = 'Volume 384'\n",
    "area_of_knowledge = 'Health Sciences'"
   ]
  },
  {
   "cell_type": "code",
   "execution_count": 215,
   "id": "87f93fd9-45cb-4d87-8b60-ea7933d4ca19",
   "metadata": {},
   "outputs": [],
   "source": [
    "start_page = 17\n",
    "end_page = 17"
   ]
  },
  {
   "cell_type": "code",
   "execution_count": 216,
   "id": "8b00ed5f-f2b5-4034-91d7-5b3efca8ddcf",
   "metadata": {},
   "outputs": [
    {
     "name": "stderr",
     "output_type": "stream",
     "text": [
      "100%|██████████| 1/1 [00:08<00:00,  8.41s/it]\n"
     ]
    }
   ],
   "source": [
    "df_v384i17 = scrape_articles(root_url, doi_root_url, article_list_url, start_page, end_page, volume, area_of_knowledge)"
   ]
  },
  {
   "cell_type": "code",
   "execution_count": 217,
   "id": "6f69ccd2-bda5-4e4b-9316-4ac9faee3fe6",
   "metadata": {},
   "outputs": [],
   "source": [
    "root_url = 'https://www.nejm.org'\n",
    "doi_root_url = 'https://doi.org'\n",
    "article_list_url = 'https://www.nejm.org/toc/nejm/384/'\n",
    "volume = 'Volume 384'\n",
    "area_of_knowledge = 'Health Sciences'"
   ]
  },
  {
   "cell_type": "code",
   "execution_count": 218,
   "id": "e32ce23c-b943-48f2-ac1e-6c99dc0d173e",
   "metadata": {},
   "outputs": [],
   "source": [
    "start_page = 18\n",
    "end_page = 18"
   ]
  },
  {
   "cell_type": "code",
   "execution_count": 219,
   "id": "3570975b-d20f-486e-bd76-bc4fdca9bbce",
   "metadata": {},
   "outputs": [
    {
     "name": "stderr",
     "output_type": "stream",
     "text": [
      "100%|██████████| 1/1 [00:12<00:00, 12.31s/it]\n"
     ]
    }
   ],
   "source": [
    "df_v384i18 = scrape_articles(root_url, doi_root_url, article_list_url, start_page, end_page, volume, area_of_knowledge)"
   ]
  },
  {
   "cell_type": "code",
   "execution_count": 220,
   "id": "ae77de26-bbf2-4713-9a0f-15a98acf1913",
   "metadata": {},
   "outputs": [],
   "source": [
    "root_url = 'https://www.nejm.org'\n",
    "doi_root_url = 'https://doi.org'\n",
    "article_list_url = 'https://www.nejm.org/toc/nejm/384/'\n",
    "volume = 'Volume 384'\n",
    "area_of_knowledge = 'Health Sciences'"
   ]
  },
  {
   "cell_type": "code",
   "execution_count": 221,
   "id": "ad5439cd-c976-49de-a875-58af912779a8",
   "metadata": {},
   "outputs": [],
   "source": [
    "start_page = 19\n",
    "end_page = 19"
   ]
  },
  {
   "cell_type": "code",
   "execution_count": 222,
   "id": "7302e3dd-047f-4ff5-81f7-064d80411ef8",
   "metadata": {},
   "outputs": [
    {
     "name": "stderr",
     "output_type": "stream",
     "text": [
      "100%|██████████| 1/1 [00:07<00:00,  7.08s/it]\n"
     ]
    }
   ],
   "source": [
    "df_v384i19 = scrape_articles(root_url, doi_root_url, article_list_url, start_page, end_page, volume, area_of_knowledge)"
   ]
  },
  {
   "cell_type": "code",
   "execution_count": 223,
   "id": "e748b451-0bf4-46c2-a758-88e603fd0938",
   "metadata": {},
   "outputs": [],
   "source": [
    "root_url = 'https://www.nejm.org'\n",
    "doi_root_url = 'https://doi.org'\n",
    "article_list_url = 'https://www.nejm.org/toc/nejm/384/'\n",
    "volume = 'Volume 384'\n",
    "area_of_knowledge = 'Health Sciences'"
   ]
  },
  {
   "cell_type": "code",
   "execution_count": 224,
   "id": "680ab138-07a4-4d75-8b05-b992ffabd393",
   "metadata": {},
   "outputs": [],
   "source": [
    "start_page = 20\n",
    "end_page = 20"
   ]
  },
  {
   "cell_type": "code",
   "execution_count": 225,
   "id": "8ee5c809-9ee6-4c55-93f6-73c025490b70",
   "metadata": {},
   "outputs": [
    {
     "name": "stderr",
     "output_type": "stream",
     "text": [
      "100%|██████████| 1/1 [00:08<00:00,  8.28s/it]\n"
     ]
    }
   ],
   "source": [
    "df_v384i20 = scrape_articles(root_url, doi_root_url, article_list_url, start_page, end_page, volume, area_of_knowledge)"
   ]
  },
  {
   "cell_type": "code",
   "execution_count": 226,
   "id": "bc033e28-5714-49e1-8e7d-3b388c6514cd",
   "metadata": {},
   "outputs": [],
   "source": [
    "root_url = 'https://www.nejm.org'\n",
    "doi_root_url = 'https://doi.org'\n",
    "article_list_url = 'https://www.nejm.org/toc/nejm/384/'\n",
    "volume = 'Volume 384'\n",
    "area_of_knowledge = 'Health Sciences'"
   ]
  },
  {
   "cell_type": "code",
   "execution_count": 227,
   "id": "35131229-6c7d-4f82-a4cc-52c2bfc32fd2",
   "metadata": {},
   "outputs": [],
   "source": [
    "start_page = 21\n",
    "end_page = 21"
   ]
  },
  {
   "cell_type": "code",
   "execution_count": 228,
   "id": "affb3b2a-a4c4-430b-bfe6-f04d3fb4d256",
   "metadata": {},
   "outputs": [
    {
     "name": "stderr",
     "output_type": "stream",
     "text": [
      "100%|██████████| 1/1 [00:08<00:00,  8.29s/it]\n"
     ]
    }
   ],
   "source": [
    "df_v384i21 = scrape_articles(root_url, doi_root_url, article_list_url, start_page, end_page, volume, area_of_knowledge)"
   ]
  },
  {
   "cell_type": "code",
   "execution_count": 229,
   "id": "3388acb3-9582-4046-abbe-87c58ac0ad5f",
   "metadata": {},
   "outputs": [],
   "source": [
    "root_url = 'https://www.nejm.org'\n",
    "doi_root_url = 'https://doi.org'\n",
    "article_list_url = 'https://www.nejm.org/toc/nejm/384/'\n",
    "volume = 'Volume 384'\n",
    "area_of_knowledge = 'Health Sciences'"
   ]
  },
  {
   "cell_type": "code",
   "execution_count": 230,
   "id": "3d687b3c-a7fa-4f29-b788-57627e4b11bd",
   "metadata": {},
   "outputs": [],
   "source": [
    "start_page = 22\n",
    "end_page = 22"
   ]
  },
  {
   "cell_type": "code",
   "execution_count": 231,
   "id": "25e7262a-5534-4f93-b510-2738b57aaddf",
   "metadata": {},
   "outputs": [
    {
     "name": "stderr",
     "output_type": "stream",
     "text": [
      "100%|██████████| 1/1 [00:06<00:00,  6.64s/it]\n"
     ]
    }
   ],
   "source": [
    "df_v384i22 = scrape_articles(root_url, doi_root_url, article_list_url, start_page, end_page, volume, area_of_knowledge)"
   ]
  },
  {
   "cell_type": "code",
   "execution_count": 232,
   "id": "0b5c745a-ee35-49f5-9f12-f879b270ffe5",
   "metadata": {},
   "outputs": [],
   "source": [
    "root_url = 'https://www.nejm.org'\n",
    "doi_root_url = 'https://doi.org'\n",
    "article_list_url = 'https://www.nejm.org/toc/nejm/384/'\n",
    "volume = 'Volume 384'\n",
    "area_of_knowledge = 'Health Sciences'"
   ]
  },
  {
   "cell_type": "code",
   "execution_count": 233,
   "id": "a3dda4f6-def5-4d2d-92f5-26b547d0ab33",
   "metadata": {},
   "outputs": [],
   "source": [
    "start_page = 23\n",
    "end_page = 23"
   ]
  },
  {
   "cell_type": "code",
   "execution_count": 234,
   "id": "ce843e83-cf16-4874-9a3d-f5191cbb1657",
   "metadata": {},
   "outputs": [
    {
     "name": "stderr",
     "output_type": "stream",
     "text": [
      "100%|██████████| 1/1 [00:08<00:00,  8.47s/it]\n"
     ]
    }
   ],
   "source": [
    "df_v384i23 = scrape_articles(root_url, doi_root_url, article_list_url, start_page, end_page, volume, area_of_knowledge)"
   ]
  },
  {
   "cell_type": "code",
   "execution_count": 235,
   "id": "8ed17afc-471a-4899-a78f-18cbf92ec85e",
   "metadata": {},
   "outputs": [],
   "source": [
    "root_url = 'https://www.nejm.org'\n",
    "doi_root_url = 'https://doi.org'\n",
    "article_list_url = 'https://www.nejm.org/toc/nejm/384/'\n",
    "volume = 'Volume 384'\n",
    "area_of_knowledge = 'Health Sciences'"
   ]
  },
  {
   "cell_type": "code",
   "execution_count": 236,
   "id": "22564828-ffa5-4142-95df-a4a759430be8",
   "metadata": {},
   "outputs": [],
   "source": [
    "start_page = 24\n",
    "end_page = 24"
   ]
  },
  {
   "cell_type": "code",
   "execution_count": 237,
   "id": "db83d3d5-c4fe-4c5e-95f5-701b0005c2d4",
   "metadata": {},
   "outputs": [
    {
     "name": "stderr",
     "output_type": "stream",
     "text": [
      "100%|██████████| 1/1 [00:08<00:00,  8.97s/it]\n"
     ]
    }
   ],
   "source": [
    "df_v384i24 = scrape_articles(root_url, doi_root_url, article_list_url, start_page, end_page, volume, area_of_knowledge)"
   ]
  },
  {
   "cell_type": "code",
   "execution_count": 238,
   "id": "f94c676e-497d-4963-88d4-5f1d0f62350b",
   "metadata": {},
   "outputs": [],
   "source": [
    "root_url = 'https://www.nejm.org'\n",
    "doi_root_url = 'https://doi.org'\n",
    "article_list_url = 'https://www.nejm.org/toc/nejm/384/'\n",
    "volume = 'Volume 384'\n",
    "area_of_knowledge = 'Health Sciences'"
   ]
  },
  {
   "cell_type": "code",
   "execution_count": 239,
   "id": "f68c134a-1032-42f5-8e24-e6b8d363e067",
   "metadata": {},
   "outputs": [],
   "source": [
    "start_page = 25\n",
    "end_page = 25"
   ]
  },
  {
   "cell_type": "code",
   "execution_count": 240,
   "id": "72ac583c-8c93-4a1f-bb55-928ed4121fb6",
   "metadata": {},
   "outputs": [
    {
     "name": "stderr",
     "output_type": "stream",
     "text": [
      "100%|██████████| 1/1 [00:08<00:00,  8.38s/it]\n"
     ]
    }
   ],
   "source": [
    "df_v384i25 = scrape_articles(root_url, doi_root_url, article_list_url, start_page, end_page, volume, area_of_knowledge)"
   ]
  },
  {
   "cell_type": "markdown",
   "id": "27483c08-0312-4449-80a7-3f3858830a59",
   "metadata": {},
   "source": [
    "##### Volume 385 (Issue 1 - 27)"
   ]
  },
  {
   "cell_type": "code",
   "execution_count": 241,
   "id": "b3395340-390f-489d-bfcb-ad980b204f39",
   "metadata": {},
   "outputs": [],
   "source": [
    "root_url = 'https://www.nejm.org'\n",
    "doi_root_url = 'https://doi.org'\n",
    "article_list_url = 'https://www.nejm.org/toc/nejm/385/'\n",
    "volume = 'Volume 385'\n",
    "area_of_knowledge = 'Health Sciences'"
   ]
  },
  {
   "cell_type": "code",
   "execution_count": 242,
   "id": "f7e431f9-5bef-4b6f-9494-78a57d431453",
   "metadata": {},
   "outputs": [],
   "source": [
    "start_page = 1\n",
    "end_page = 1"
   ]
  },
  {
   "cell_type": "code",
   "execution_count": 243,
   "id": "d3f368cb-6704-45cf-9e78-bcf4a6213806",
   "metadata": {},
   "outputs": [
    {
     "name": "stderr",
     "output_type": "stream",
     "text": [
      "100%|██████████| 1/1 [00:06<00:00,  6.47s/it]\n"
     ]
    }
   ],
   "source": [
    "df_v385i1 = scrape_articles(root_url, doi_root_url, article_list_url, start_page, end_page, volume, area_of_knowledge)"
   ]
  },
  {
   "cell_type": "code",
   "execution_count": 244,
   "id": "88c98204-3747-4c21-bcad-902f327f7999",
   "metadata": {},
   "outputs": [],
   "source": [
    "root_url = 'https://www.nejm.org'\n",
    "doi_root_url = 'https://doi.org'\n",
    "article_list_url = 'https://www.nejm.org/toc/nejm/385/'\n",
    "volume = 'Volume 385'\n",
    "area_of_knowledge = 'Health Sciences'"
   ]
  },
  {
   "cell_type": "code",
   "execution_count": 245,
   "id": "195cb5ac-8bea-479a-bad3-eb178b3ec476",
   "metadata": {},
   "outputs": [],
   "source": [
    "start_page = 2\n",
    "end_page = 2"
   ]
  },
  {
   "cell_type": "code",
   "execution_count": 246,
   "id": "c03ca352-489e-4b57-89fc-0dde36431234",
   "metadata": {},
   "outputs": [
    {
     "name": "stderr",
     "output_type": "stream",
     "text": [
      "100%|██████████| 1/1 [00:08<00:00,  8.39s/it]\n"
     ]
    }
   ],
   "source": [
    "df_v385i2 = scrape_articles(root_url, doi_root_url, article_list_url, start_page, end_page, volume, area_of_knowledge)"
   ]
  },
  {
   "cell_type": "code",
   "execution_count": 247,
   "id": "044b085a-aeb4-4ec0-becb-71617c4c1018",
   "metadata": {},
   "outputs": [],
   "source": [
    "root_url = 'https://www.nejm.org'\n",
    "doi_root_url = 'https://doi.org'\n",
    "article_list_url = 'https://www.nejm.org/toc/nejm/385/'\n",
    "volume = 'Volume 385'\n",
    "area_of_knowledge = 'Health Sciences'"
   ]
  },
  {
   "cell_type": "code",
   "execution_count": 248,
   "id": "2b86a592-1795-4769-abaa-9f75295152d8",
   "metadata": {},
   "outputs": [],
   "source": [
    "start_page = 3\n",
    "end_page = 3"
   ]
  },
  {
   "cell_type": "code",
   "execution_count": 249,
   "id": "4f4a17b4-6ea1-4d28-bbfa-214338d3960c",
   "metadata": {},
   "outputs": [
    {
     "name": "stderr",
     "output_type": "stream",
     "text": [
      "100%|██████████| 1/1 [00:08<00:00,  8.34s/it]\n"
     ]
    }
   ],
   "source": [
    "df_v385i3 = scrape_articles(root_url, doi_root_url, article_list_url, start_page, end_page, volume, area_of_knowledge)"
   ]
  },
  {
   "cell_type": "code",
   "execution_count": 250,
   "id": "f1191d46-b58b-4f76-8e3f-80d4bd10c8d2",
   "metadata": {},
   "outputs": [],
   "source": [
    "root_url = 'https://www.nejm.org'\n",
    "doi_root_url = 'https://doi.org'\n",
    "article_list_url = 'https://www.nejm.org/toc/nejm/385/'\n",
    "volume = 'Volume 385'\n",
    "area_of_knowledge = 'Health Sciences'"
   ]
  },
  {
   "cell_type": "code",
   "execution_count": 251,
   "id": "dfc924db-5005-4515-a039-28a42756293d",
   "metadata": {},
   "outputs": [],
   "source": [
    "start_page = 4\n",
    "end_page = 4"
   ]
  },
  {
   "cell_type": "code",
   "execution_count": 252,
   "id": "510cb5f4-a5b5-4a87-be68-f97a346a248a",
   "metadata": {},
   "outputs": [
    {
     "name": "stderr",
     "output_type": "stream",
     "text": [
      "100%|██████████| 1/1 [00:08<00:00,  8.39s/it]\n"
     ]
    }
   ],
   "source": [
    "df_v385i4 = scrape_articles(root_url, doi_root_url, article_list_url, start_page, end_page, volume, area_of_knowledge)"
   ]
  },
  {
   "cell_type": "code",
   "execution_count": 253,
   "id": "30ef0c2d-a0a0-403a-bebc-bf0e36dc325a",
   "metadata": {},
   "outputs": [],
   "source": [
    "root_url = 'https://www.nejm.org'\n",
    "doi_root_url = 'https://doi.org'\n",
    "article_list_url = 'https://www.nejm.org/toc/nejm/385/'\n",
    "volume = 'Volume 385'\n",
    "area_of_knowledge = 'Health Sciences'"
   ]
  },
  {
   "cell_type": "code",
   "execution_count": 254,
   "id": "898c8fe0-5528-4cdb-8fd2-1928e6dd2557",
   "metadata": {},
   "outputs": [],
   "source": [
    "start_page = 5\n",
    "end_page = 5"
   ]
  },
  {
   "cell_type": "code",
   "execution_count": 255,
   "id": "2644872b-ab73-4579-b071-82b2fc1d7591",
   "metadata": {},
   "outputs": [
    {
     "name": "stderr",
     "output_type": "stream",
     "text": [
      "100%|██████████| 1/1 [00:08<00:00,  8.89s/it]\n"
     ]
    }
   ],
   "source": [
    "df_v385i5 = scrape_articles(root_url, doi_root_url, article_list_url, start_page, end_page, volume, area_of_knowledge)"
   ]
  },
  {
   "cell_type": "code",
   "execution_count": 256,
   "id": "27144051-3c2b-4aae-9903-8745f9b45f79",
   "metadata": {},
   "outputs": [],
   "source": [
    "root_url = 'https://www.nejm.org'\n",
    "doi_root_url = 'https://doi.org'\n",
    "article_list_url = 'https://www.nejm.org/toc/nejm/385/'\n",
    "volume = 'Volume 385'\n",
    "area_of_knowledge = 'Health Sciences'"
   ]
  },
  {
   "cell_type": "code",
   "execution_count": 257,
   "id": "1e28cc11-e94b-4148-a97d-cfefb80a2b15",
   "metadata": {},
   "outputs": [],
   "source": [
    "start_page = 6\n",
    "end_page = 6"
   ]
  },
  {
   "cell_type": "code",
   "execution_count": 258,
   "id": "25c641f3-8e4b-43e2-be18-0fd8fd05d593",
   "metadata": {},
   "outputs": [
    {
     "name": "stderr",
     "output_type": "stream",
     "text": [
      "100%|██████████| 1/1 [00:08<00:00,  8.47s/it]\n"
     ]
    }
   ],
   "source": [
    "df_v385i6 = scrape_articles(root_url, doi_root_url, article_list_url, start_page, end_page, volume, area_of_knowledge)"
   ]
  },
  {
   "cell_type": "code",
   "execution_count": 259,
   "id": "73bc643c-4d57-40cf-9067-5b5ac7e9837a",
   "metadata": {},
   "outputs": [],
   "source": [
    "root_url = 'https://www.nejm.org'\n",
    "doi_root_url = 'https://doi.org'\n",
    "article_list_url = 'https://www.nejm.org/toc/nejm/385/'\n",
    "volume = 'Volume 385'\n",
    "area_of_knowledge = 'Health Sciences'"
   ]
  },
  {
   "cell_type": "code",
   "execution_count": 260,
   "id": "9d7b5f8a-5e9e-44ee-9215-b59b62dcade5",
   "metadata": {},
   "outputs": [],
   "source": [
    "start_page = 7\n",
    "end_page = 7"
   ]
  },
  {
   "cell_type": "code",
   "execution_count": 261,
   "id": "b1092f6f-da27-4a8a-9f78-a681938d96db",
   "metadata": {},
   "outputs": [
    {
     "name": "stderr",
     "output_type": "stream",
     "text": [
      "100%|██████████| 1/1 [00:08<00:00,  8.21s/it]\n"
     ]
    }
   ],
   "source": [
    "df_v385i7 = scrape_articles(root_url, doi_root_url, article_list_url, start_page, end_page, volume, area_of_knowledge)"
   ]
  },
  {
   "cell_type": "code",
   "execution_count": 262,
   "id": "28b340dd-cf49-4192-898d-9c10fbd5e184",
   "metadata": {},
   "outputs": [],
   "source": [
    "root_url = 'https://www.nejm.org'\n",
    "doi_root_url = 'https://doi.org'\n",
    "article_list_url = 'https://www.nejm.org/toc/nejm/385/'\n",
    "volume = 'Volume 385'\n",
    "area_of_knowledge = 'Health Sciences'"
   ]
  },
  {
   "cell_type": "code",
   "execution_count": 263,
   "id": "3b781a44-d64c-4e7b-9999-09d188ae00d1",
   "metadata": {},
   "outputs": [],
   "source": [
    "start_page = 8\n",
    "end_page = 8"
   ]
  },
  {
   "cell_type": "code",
   "execution_count": 264,
   "id": "a2e630a1-3e76-4b21-a931-59fe45f6ef8f",
   "metadata": {},
   "outputs": [
    {
     "name": "stderr",
     "output_type": "stream",
     "text": [
      "100%|██████████| 1/1 [00:08<00:00,  8.47s/it]\n"
     ]
    }
   ],
   "source": [
    "df_v385i8 = scrape_articles(root_url, doi_root_url, article_list_url, start_page, end_page, volume, area_of_knowledge)"
   ]
  },
  {
   "cell_type": "code",
   "execution_count": 265,
   "id": "8b0cbfcf-5a71-445d-b968-a19bb1f34ac3",
   "metadata": {},
   "outputs": [],
   "source": [
    "root_url = 'https://www.nejm.org'\n",
    "doi_root_url = 'https://doi.org'\n",
    "article_list_url = 'https://www.nejm.org/toc/nejm/385/'\n",
    "volume = 'Volume 385'\n",
    "area_of_knowledge = 'Health Sciences'"
   ]
  },
  {
   "cell_type": "code",
   "execution_count": 266,
   "id": "4aef6128-f6eb-4923-bd46-4108012c598c",
   "metadata": {},
   "outputs": [],
   "source": [
    "start_page = 9\n",
    "end_page = 9"
   ]
  },
  {
   "cell_type": "code",
   "execution_count": 267,
   "id": "dec45823-005e-4143-a946-c695177311b4",
   "metadata": {},
   "outputs": [
    {
     "name": "stderr",
     "output_type": "stream",
     "text": [
      "100%|██████████| 1/1 [00:09<00:00,  9.49s/it]\n"
     ]
    }
   ],
   "source": [
    "df_v385i9 = scrape_articles(root_url, doi_root_url, article_list_url, start_page, end_page, volume, area_of_knowledge)"
   ]
  },
  {
   "cell_type": "code",
   "execution_count": 268,
   "id": "3f6b3284-71b7-4c87-88b8-0a2b133c8e16",
   "metadata": {},
   "outputs": [],
   "source": [
    "root_url = 'https://www.nejm.org'\n",
    "doi_root_url = 'https://doi.org'\n",
    "article_list_url = 'https://www.nejm.org/toc/nejm/385/'\n",
    "volume = 'Volume 385'\n",
    "area_of_knowledge = 'Health Sciences'"
   ]
  },
  {
   "cell_type": "code",
   "execution_count": 269,
   "id": "d1acea1f-bcb7-4a91-8452-29e310581894",
   "metadata": {},
   "outputs": [],
   "source": [
    "start_page = 10\n",
    "end_page = 10"
   ]
  },
  {
   "cell_type": "code",
   "execution_count": 270,
   "id": "85f47c14-3c0d-4c2e-a943-28998b52fc05",
   "metadata": {},
   "outputs": [
    {
     "name": "stderr",
     "output_type": "stream",
     "text": [
      "100%|██████████| 1/1 [00:09<00:00,  9.35s/it]\n"
     ]
    }
   ],
   "source": [
    "df_v385i10 = scrape_articles(root_url, doi_root_url, article_list_url, start_page, end_page, volume, area_of_knowledge)"
   ]
  },
  {
   "cell_type": "code",
   "execution_count": 271,
   "id": "f211f615-bdca-4eff-b03d-34e989eac76a",
   "metadata": {},
   "outputs": [],
   "source": [
    "root_url = 'https://www.nejm.org'\n",
    "doi_root_url = 'https://doi.org'\n",
    "article_list_url = 'https://www.nejm.org/toc/nejm/385/'\n",
    "volume = 'Volume 385'\n",
    "area_of_knowledge = 'Health Sciences'"
   ]
  },
  {
   "cell_type": "code",
   "execution_count": 272,
   "id": "0a193813-8cd2-4f07-97f9-bc9770c19c0f",
   "metadata": {},
   "outputs": [],
   "source": [
    "start_page = 11\n",
    "end_page = 11"
   ]
  },
  {
   "cell_type": "code",
   "execution_count": 273,
   "id": "3d059b26-57b9-4580-aa98-e35abfc92480",
   "metadata": {},
   "outputs": [
    {
     "name": "stderr",
     "output_type": "stream",
     "text": [
      "100%|██████████| 1/1 [00:06<00:00,  6.33s/it]\n"
     ]
    }
   ],
   "source": [
    "df_v385i11 = scrape_articles(root_url, doi_root_url, article_list_url, start_page, end_page, volume, area_of_knowledge)"
   ]
  },
  {
   "cell_type": "code",
   "execution_count": 274,
   "id": "46555c34-7a0e-4f85-adae-1e54d368f84c",
   "metadata": {},
   "outputs": [],
   "source": [
    "root_url = 'https://www.nejm.org'\n",
    "doi_root_url = 'https://doi.org'\n",
    "article_list_url = 'https://www.nejm.org/toc/nejm/385/'\n",
    "volume = 'Volume 385'\n",
    "area_of_knowledge = 'Health Sciences'"
   ]
  },
  {
   "cell_type": "code",
   "execution_count": 275,
   "id": "bff9f7f0-8cac-4bb7-9b63-49e7423f64ae",
   "metadata": {},
   "outputs": [],
   "source": [
    "start_page = 12\n",
    "end_page = 12"
   ]
  },
  {
   "cell_type": "code",
   "execution_count": 276,
   "id": "a7f49790-11e3-417e-922c-7642eb7108f5",
   "metadata": {},
   "outputs": [
    {
     "name": "stderr",
     "output_type": "stream",
     "text": [
      "100%|██████████| 1/1 [00:08<00:00,  8.66s/it]\n"
     ]
    }
   ],
   "source": [
    "df_v385i12 = scrape_articles(root_url, doi_root_url, article_list_url, start_page, end_page, volume, area_of_knowledge)"
   ]
  },
  {
   "cell_type": "code",
   "execution_count": 277,
   "id": "d22d6823-f32d-4c4f-8bbd-8a594337c4e4",
   "metadata": {},
   "outputs": [],
   "source": [
    "root_url = 'https://www.nejm.org'\n",
    "doi_root_url = 'https://doi.org'\n",
    "article_list_url = 'https://www.nejm.org/toc/nejm/385/'\n",
    "volume = 'Volume 385'\n",
    "area_of_knowledge = 'Health Sciences'"
   ]
  },
  {
   "cell_type": "code",
   "execution_count": 278,
   "id": "22251ce9-3984-4ffe-99c4-2947e14bc0fd",
   "metadata": {},
   "outputs": [],
   "source": [
    "start_page = 13\n",
    "end_page = 13"
   ]
  },
  {
   "cell_type": "code",
   "execution_count": 279,
   "id": "d22f6207-bacf-4f0e-95ff-9119ca31c315",
   "metadata": {},
   "outputs": [
    {
     "name": "stderr",
     "output_type": "stream",
     "text": [
      "100%|██████████| 1/1 [00:08<00:00,  8.24s/it]\n"
     ]
    }
   ],
   "source": [
    "df_v385i13 = scrape_articles(root_url, doi_root_url, article_list_url, start_page, end_page, volume, area_of_knowledge)"
   ]
  },
  {
   "cell_type": "code",
   "execution_count": 280,
   "id": "fcb3ab62-52ea-4a1b-9053-f227421cc7de",
   "metadata": {},
   "outputs": [],
   "source": [
    "root_url = 'https://www.nejm.org'\n",
    "doi_root_url = 'https://doi.org'\n",
    "article_list_url = 'https://www.nejm.org/toc/nejm/385/'\n",
    "volume = 'Volume 385'\n",
    "area_of_knowledge = 'Health Sciences'"
   ]
  },
  {
   "cell_type": "code",
   "execution_count": 281,
   "id": "6cb23bb2-3aa7-492b-9171-b81c93b0f182",
   "metadata": {},
   "outputs": [],
   "source": [
    "start_page = 14\n",
    "end_page = 14"
   ]
  },
  {
   "cell_type": "code",
   "execution_count": 282,
   "id": "6252559e-3ead-4c90-bf5c-082c5d8ebeb2",
   "metadata": {},
   "outputs": [
    {
     "name": "stderr",
     "output_type": "stream",
     "text": [
      "100%|██████████| 1/1 [00:09<00:00,  9.47s/it]\n"
     ]
    }
   ],
   "source": [
    "df_v385i14 = scrape_articles(root_url, doi_root_url, article_list_url, start_page, end_page, volume, area_of_knowledge)"
   ]
  },
  {
   "cell_type": "code",
   "execution_count": 283,
   "id": "8df03e8e-8c53-4a2d-b1ea-562288be267d",
   "metadata": {},
   "outputs": [],
   "source": [
    "root_url = 'https://www.nejm.org'\n",
    "doi_root_url = 'https://doi.org'\n",
    "article_list_url = 'https://www.nejm.org/toc/nejm/385/'\n",
    "volume = 'Volume 385'\n",
    "area_of_knowledge = 'Health Sciences'"
   ]
  },
  {
   "cell_type": "code",
   "execution_count": 284,
   "id": "15cbbf5f-f977-42a9-aba9-89b793b008b5",
   "metadata": {},
   "outputs": [],
   "source": [
    "start_page = 15\n",
    "end_page = 15"
   ]
  },
  {
   "cell_type": "code",
   "execution_count": 285,
   "id": "8b2b0550-092d-4d13-9272-b5df8c4cc01f",
   "metadata": {},
   "outputs": [
    {
     "name": "stderr",
     "output_type": "stream",
     "text": [
      "100%|██████████| 1/1 [00:06<00:00,  6.50s/it]\n"
     ]
    }
   ],
   "source": [
    "df_v385i15 = scrape_articles(root_url, doi_root_url, article_list_url, start_page, end_page, volume, area_of_knowledge)"
   ]
  },
  {
   "cell_type": "code",
   "execution_count": 286,
   "id": "921429f0-a9e5-4583-8e3d-04d404aef7c4",
   "metadata": {},
   "outputs": [],
   "source": [
    "root_url = 'https://www.nejm.org'\n",
    "doi_root_url = 'https://doi.org'\n",
    "article_list_url = 'https://www.nejm.org/toc/nejm/385/'\n",
    "volume = 'Volume 385'\n",
    "area_of_knowledge = 'Health Sciences'"
   ]
  },
  {
   "cell_type": "code",
   "execution_count": 287,
   "id": "24149982-eef9-40e0-8bc9-4849877700f9",
   "metadata": {},
   "outputs": [],
   "source": [
    "start_page = 16\n",
    "end_page = 16"
   ]
  },
  {
   "cell_type": "code",
   "execution_count": 288,
   "id": "6c64187d-1bf9-4c77-bced-1ec68e4a5779",
   "metadata": {},
   "outputs": [
    {
     "name": "stderr",
     "output_type": "stream",
     "text": [
      "100%|██████████| 1/1 [00:07<00:00,  7.48s/it]\n"
     ]
    }
   ],
   "source": [
    "df_v385i16 = scrape_articles(root_url, doi_root_url, article_list_url, start_page, end_page, volume, area_of_knowledge)"
   ]
  },
  {
   "cell_type": "code",
   "execution_count": 289,
   "id": "7e7ca02a-386a-4acc-84c4-f93f8061018d",
   "metadata": {},
   "outputs": [],
   "source": [
    "root_url = 'https://www.nejm.org'\n",
    "doi_root_url = 'https://doi.org'\n",
    "article_list_url = 'https://www.nejm.org/toc/nejm/385/'\n",
    "volume = 'Volume 385'\n",
    "area_of_knowledge = 'Health Sciences'"
   ]
  },
  {
   "cell_type": "code",
   "execution_count": 290,
   "id": "e4455236-830a-4bda-aee6-73337ed8b6f4",
   "metadata": {},
   "outputs": [],
   "source": [
    "start_page = 17\n",
    "end_page = 17"
   ]
  },
  {
   "cell_type": "code",
   "execution_count": 291,
   "id": "dd089904-b61f-489d-81ce-2724cbbe10c8",
   "metadata": {},
   "outputs": [
    {
     "name": "stderr",
     "output_type": "stream",
     "text": [
      "100%|██████████| 1/1 [00:06<00:00,  6.36s/it]\n"
     ]
    }
   ],
   "source": [
    "df_v385i17 = scrape_articles(root_url, doi_root_url, article_list_url, start_page, end_page, volume, area_of_knowledge)"
   ]
  },
  {
   "cell_type": "code",
   "execution_count": 292,
   "id": "531201ab-0c86-4b18-8282-bda21bfae317",
   "metadata": {},
   "outputs": [],
   "source": [
    "root_url = 'https://www.nejm.org'\n",
    "doi_root_url = 'https://doi.org'\n",
    "article_list_url = 'https://www.nejm.org/toc/nejm/385/'\n",
    "volume = 'Volume 385'\n",
    "area_of_knowledge = 'Health Sciences'"
   ]
  },
  {
   "cell_type": "code",
   "execution_count": 293,
   "id": "c1a43bfa-b943-4cee-ba21-3c517cd4b5bd",
   "metadata": {},
   "outputs": [],
   "source": [
    "start_page = 18\n",
    "end_page = 18"
   ]
  },
  {
   "cell_type": "code",
   "execution_count": 294,
   "id": "804503d8-e637-4b8f-8f56-3018dd66a3fd",
   "metadata": {},
   "outputs": [
    {
     "name": "stderr",
     "output_type": "stream",
     "text": [
      "100%|██████████| 1/1 [00:08<00:00,  8.30s/it]\n"
     ]
    }
   ],
   "source": [
    "df_v385i18 = scrape_articles(root_url, doi_root_url, article_list_url, start_page, end_page, volume, area_of_knowledge)"
   ]
  },
  {
   "cell_type": "code",
   "execution_count": 295,
   "id": "6e448082-34f4-4614-947b-a727f3493986",
   "metadata": {},
   "outputs": [],
   "source": [
    "root_url = 'https://www.nejm.org'\n",
    "doi_root_url = 'https://doi.org'\n",
    "article_list_url = 'https://www.nejm.org/toc/nejm/385/'\n",
    "volume = 'Volume 385'\n",
    "area_of_knowledge = 'Health Sciences'"
   ]
  },
  {
   "cell_type": "code",
   "execution_count": 296,
   "id": "80533237-cadc-4e72-9af2-c03a967611eb",
   "metadata": {},
   "outputs": [],
   "source": [
    "start_page = 19\n",
    "end_page = 19"
   ]
  },
  {
   "cell_type": "code",
   "execution_count": 297,
   "id": "db905db7-b55c-4966-9ef4-88107b978432",
   "metadata": {},
   "outputs": [
    {
     "name": "stderr",
     "output_type": "stream",
     "text": [
      "100%|██████████| 1/1 [00:08<00:00,  8.17s/it]\n"
     ]
    }
   ],
   "source": [
    "df_v385i19 = scrape_articles(root_url, doi_root_url, article_list_url, start_page, end_page, volume, area_of_knowledge)"
   ]
  },
  {
   "cell_type": "code",
   "execution_count": 298,
   "id": "15199895-1966-4edf-928f-a424703a00a3",
   "metadata": {},
   "outputs": [],
   "source": [
    "root_url = 'https://www.nejm.org'\n",
    "doi_root_url = 'https://doi.org'\n",
    "article_list_url = 'https://www.nejm.org/toc/nejm/385/'\n",
    "volume = 'Volume 385'\n",
    "area_of_knowledge = 'Health Sciences'"
   ]
  },
  {
   "cell_type": "code",
   "execution_count": 299,
   "id": "e8ff0c27-8fff-4e5c-9572-9e144a0cd485",
   "metadata": {},
   "outputs": [],
   "source": [
    "start_page = 20\n",
    "end_page = 20"
   ]
  },
  {
   "cell_type": "code",
   "execution_count": 300,
   "id": "469c58fb-a258-4d9d-9d1b-80cf7feb8f4e",
   "metadata": {},
   "outputs": [
    {
     "name": "stderr",
     "output_type": "stream",
     "text": [
      "100%|██████████| 1/1 [00:08<00:00,  8.22s/it]\n"
     ]
    }
   ],
   "source": [
    "df_v385i20 = scrape_articles(root_url, doi_root_url, article_list_url, start_page, end_page, volume, area_of_knowledge)"
   ]
  },
  {
   "cell_type": "code",
   "execution_count": 301,
   "id": "f5ffe1f3-77e8-41f7-9778-39a379376fd7",
   "metadata": {},
   "outputs": [],
   "source": [
    "root_url = 'https://www.nejm.org'\n",
    "doi_root_url = 'https://doi.org'\n",
    "article_list_url = 'https://www.nejm.org/toc/nejm/385/'\n",
    "volume = 'Volume 385'\n",
    "area_of_knowledge = 'Health Sciences'"
   ]
  },
  {
   "cell_type": "code",
   "execution_count": 302,
   "id": "1ffe618a-2ef4-4424-b6fc-e2634f09ddb6",
   "metadata": {},
   "outputs": [],
   "source": [
    "start_page = 21\n",
    "end_page = 21"
   ]
  },
  {
   "cell_type": "code",
   "execution_count": 303,
   "id": "e96cb8ff-e159-4e7e-a914-54fb0abfacd8",
   "metadata": {},
   "outputs": [
    {
     "name": "stderr",
     "output_type": "stream",
     "text": [
      "100%|██████████| 1/1 [00:08<00:00,  8.33s/it]\n"
     ]
    }
   ],
   "source": [
    "df_v385i21 = scrape_articles(root_url, doi_root_url, article_list_url, start_page, end_page, volume, area_of_knowledge)"
   ]
  },
  {
   "cell_type": "code",
   "execution_count": 304,
   "id": "c0421fd6-9e39-4bb3-9993-1352d1106e24",
   "metadata": {},
   "outputs": [],
   "source": [
    "root_url = 'https://www.nejm.org'\n",
    "doi_root_url = 'https://doi.org'\n",
    "article_list_url = 'https://www.nejm.org/toc/nejm/385/'\n",
    "volume = 'Volume 385'\n",
    "area_of_knowledge = 'Health Sciences'"
   ]
  },
  {
   "cell_type": "code",
   "execution_count": 305,
   "id": "ee37d163-0f4f-452b-9bb0-b2005f41c812",
   "metadata": {},
   "outputs": [],
   "source": [
    "start_page = 22\n",
    "end_page = 22"
   ]
  },
  {
   "cell_type": "code",
   "execution_count": 306,
   "id": "15d0946d-8e69-4c2e-bd6d-eb8087f618ce",
   "metadata": {},
   "outputs": [
    {
     "name": "stderr",
     "output_type": "stream",
     "text": [
      "100%|██████████| 1/1 [00:08<00:00,  8.26s/it]\n"
     ]
    }
   ],
   "source": [
    "df_v385i22 = scrape_articles(root_url, doi_root_url, article_list_url, start_page, end_page, volume, area_of_knowledge)"
   ]
  },
  {
   "cell_type": "code",
   "execution_count": 307,
   "id": "67c948c5-440c-4cea-900f-df345039f24c",
   "metadata": {},
   "outputs": [],
   "source": [
    "root_url = 'https://www.nejm.org'\n",
    "doi_root_url = 'https://doi.org'\n",
    "article_list_url = 'https://www.nejm.org/toc/nejm/385/'\n",
    "volume = 'Volume 385'\n",
    "area_of_knowledge = 'Health Sciences'"
   ]
  },
  {
   "cell_type": "code",
   "execution_count": 308,
   "id": "5c259831-d7e9-4131-9dbf-68aedd0f9faa",
   "metadata": {},
   "outputs": [],
   "source": [
    "start_page = 23\n",
    "end_page = 23"
   ]
  },
  {
   "cell_type": "code",
   "execution_count": 309,
   "id": "77a25b14-5706-4abb-a570-1f0f38d5b7fa",
   "metadata": {},
   "outputs": [
    {
     "name": "stderr",
     "output_type": "stream",
     "text": [
      "100%|██████████| 1/1 [00:08<00:00,  8.51s/it]\n"
     ]
    }
   ],
   "source": [
    "df_v385i23 = scrape_articles(root_url, doi_root_url, article_list_url, start_page, end_page, volume, area_of_knowledge)"
   ]
  },
  {
   "cell_type": "code",
   "execution_count": 310,
   "id": "60870f18-c8df-4028-9a4c-93910ec2c4b0",
   "metadata": {},
   "outputs": [],
   "source": [
    "root_url = 'https://www.nejm.org'\n",
    "doi_root_url = 'https://doi.org'\n",
    "article_list_url = 'https://www.nejm.org/toc/nejm/385/'\n",
    "volume = 'Volume 385'\n",
    "area_of_knowledge = 'Health Sciences'"
   ]
  },
  {
   "cell_type": "code",
   "execution_count": 311,
   "id": "a65912d8-3159-4ef1-bae5-b1619f7738c1",
   "metadata": {},
   "outputs": [],
   "source": [
    "start_page = 24\n",
    "end_page = 24"
   ]
  },
  {
   "cell_type": "code",
   "execution_count": 312,
   "id": "fe3d7aca-0327-4eed-a8d3-dee2c234c7ff",
   "metadata": {},
   "outputs": [
    {
     "name": "stderr",
     "output_type": "stream",
     "text": [
      "100%|██████████| 1/1 [00:08<00:00,  8.21s/it]\n"
     ]
    }
   ],
   "source": [
    "df_v385i24 = scrape_articles(root_url, doi_root_url, article_list_url, start_page, end_page, volume, area_of_knowledge)"
   ]
  },
  {
   "cell_type": "code",
   "execution_count": 313,
   "id": "c17d03b0-9d52-4d40-a33d-db5dca34c290",
   "metadata": {},
   "outputs": [],
   "source": [
    "root_url = 'https://www.nejm.org'\n",
    "doi_root_url = 'https://doi.org'\n",
    "article_list_url = 'https://www.nejm.org/toc/nejm/385/'\n",
    "volume = 'Volume 385'\n",
    "area_of_knowledge = 'Health Sciences'"
   ]
  },
  {
   "cell_type": "code",
   "execution_count": 314,
   "id": "c144e807-bf3a-4497-99b4-37283a13f516",
   "metadata": {},
   "outputs": [],
   "source": [
    "start_page = 25\n",
    "end_page = 25"
   ]
  },
  {
   "cell_type": "code",
   "execution_count": 315,
   "id": "85a9a2c7-813e-4e97-ae3d-2777dd892e42",
   "metadata": {},
   "outputs": [
    {
     "name": "stderr",
     "output_type": "stream",
     "text": [
      "100%|██████████| 1/1 [00:08<00:00,  8.27s/it]\n"
     ]
    }
   ],
   "source": [
    "df_v385i25 = scrape_articles(root_url, doi_root_url, article_list_url, start_page, end_page, volume, area_of_knowledge)"
   ]
  },
  {
   "cell_type": "code",
   "execution_count": 316,
   "id": "11f46b52-77ed-45f0-8215-bc60441e65c6",
   "metadata": {},
   "outputs": [],
   "source": [
    "root_url = 'https://www.nejm.org'\n",
    "doi_root_url = 'https://doi.org'\n",
    "article_list_url = 'https://www.nejm.org/toc/nejm/385/'\n",
    "volume = 'Volume 385'\n",
    "area_of_knowledge = 'Health Sciences'"
   ]
  },
  {
   "cell_type": "code",
   "execution_count": 317,
   "id": "68157b26-1d37-44ec-82ac-72744da35957",
   "metadata": {},
   "outputs": [],
   "source": [
    "start_page = 26\n",
    "end_page = 26"
   ]
  },
  {
   "cell_type": "code",
   "execution_count": 318,
   "id": "fdb9788c-92ac-4dea-a937-082ccd4e261c",
   "metadata": {},
   "outputs": [
    {
     "name": "stderr",
     "output_type": "stream",
     "text": [
      "100%|██████████| 1/1 [00:08<00:00,  8.45s/it]\n"
     ]
    }
   ],
   "source": [
    "df_v385i26 = scrape_articles(root_url, doi_root_url, article_list_url, start_page, end_page, volume, area_of_knowledge)"
   ]
  },
  {
   "cell_type": "code",
   "execution_count": 319,
   "id": "17379e83-150c-4de3-b2b7-f732275c8a3d",
   "metadata": {},
   "outputs": [],
   "source": [
    "root_url = 'https://www.nejm.org'\n",
    "doi_root_url = 'https://doi.org'\n",
    "article_list_url = 'https://www.nejm.org/toc/nejm/385/'\n",
    "volume = 'Volume 385'\n",
    "area_of_knowledge = 'Health Sciences'"
   ]
  },
  {
   "cell_type": "code",
   "execution_count": 320,
   "id": "9c18a5cc-c0ac-4840-b9cd-e198ce42cb9d",
   "metadata": {},
   "outputs": [],
   "source": [
    "start_page = 27\n",
    "end_page = 27"
   ]
  },
  {
   "cell_type": "code",
   "execution_count": 321,
   "id": "c788fc52-771f-478d-a40f-7ce54894c51c",
   "metadata": {},
   "outputs": [
    {
     "name": "stderr",
     "output_type": "stream",
     "text": [
      "100%|██████████| 1/1 [00:08<00:00,  8.94s/it]\n"
     ]
    }
   ],
   "source": [
    "df_v385i27 = scrape_articles(root_url, doi_root_url, article_list_url, start_page, end_page, volume, area_of_knowledge)"
   ]
  },
  {
   "cell_type": "markdown",
   "id": "77528710-f963-4cc8-ae81-71b280cb9535",
   "metadata": {},
   "source": [
    "##### Volume 386 (Issue 1 - 26)"
   ]
  },
  {
   "cell_type": "code",
   "execution_count": 322,
   "id": "509da856-525a-4185-8f76-28aa0d6081d4",
   "metadata": {},
   "outputs": [],
   "source": [
    "root_url = 'https://www.nejm.org'\n",
    "doi_root_url = 'https://doi.org'\n",
    "article_list_url = 'https://www.nejm.org/toc/nejm/386/'\n",
    "volume = 'Volume 386'\n",
    "area_of_knowledge = 'Health Sciences'"
   ]
  },
  {
   "cell_type": "code",
   "execution_count": 323,
   "id": "f787d512-9f5b-409c-b89c-c796f7a4b9aa",
   "metadata": {},
   "outputs": [],
   "source": [
    "start_page = 1\n",
    "end_page = 1"
   ]
  },
  {
   "cell_type": "code",
   "execution_count": 324,
   "id": "99847fed-3506-494e-9e85-7baaefaa6c07",
   "metadata": {},
   "outputs": [
    {
     "name": "stderr",
     "output_type": "stream",
     "text": [
      "100%|██████████| 1/1 [00:08<00:00,  8.45s/it]\n"
     ]
    }
   ],
   "source": [
    "df_v386i1 = scrape_articles(root_url, doi_root_url, article_list_url, start_page, end_page, volume, area_of_knowledge)"
   ]
  },
  {
   "cell_type": "code",
   "execution_count": 325,
   "id": "abeb6134-d05a-4332-a152-9506b7a6fcdf",
   "metadata": {},
   "outputs": [],
   "source": [
    "root_url = 'https://www.nejm.org'\n",
    "doi_root_url = 'https://doi.org'\n",
    "article_list_url = 'https://www.nejm.org/toc/nejm/386/'\n",
    "volume = 'Volume 386'\n",
    "area_of_knowledge = 'Health Sciences'"
   ]
  },
  {
   "cell_type": "code",
   "execution_count": 326,
   "id": "37a8b09e-14f0-4707-95c7-3f8f40778d9f",
   "metadata": {},
   "outputs": [],
   "source": [
    "start_page = 2\n",
    "end_page = 2"
   ]
  },
  {
   "cell_type": "code",
   "execution_count": 327,
   "id": "36ffc15a-593a-42e2-979f-5ea476482d94",
   "metadata": {},
   "outputs": [
    {
     "name": "stderr",
     "output_type": "stream",
     "text": [
      "100%|██████████| 1/1 [00:08<00:00,  8.38s/it]\n"
     ]
    }
   ],
   "source": [
    "df_v386i2 = scrape_articles(root_url, doi_root_url, article_list_url, start_page, end_page, volume, area_of_knowledge)"
   ]
  },
  {
   "cell_type": "code",
   "execution_count": 328,
   "id": "a54cfafa-491e-49fd-bca6-ad8ff76d3f02",
   "metadata": {},
   "outputs": [],
   "source": [
    "root_url = 'https://www.nejm.org'\n",
    "doi_root_url = 'https://doi.org'\n",
    "article_list_url = 'https://www.nejm.org/toc/nejm/386/'\n",
    "volume = 'Volume 386'\n",
    "area_of_knowledge = 'Health Sciences'"
   ]
  },
  {
   "cell_type": "code",
   "execution_count": 329,
   "id": "e761c561-3498-430b-9f39-6ee16b37ec37",
   "metadata": {},
   "outputs": [],
   "source": [
    "start_page = 3\n",
    "end_page = 3"
   ]
  },
  {
   "cell_type": "code",
   "execution_count": 330,
   "id": "423608ce-98da-4779-84d8-8a4ab0e8068d",
   "metadata": {},
   "outputs": [
    {
     "name": "stderr",
     "output_type": "stream",
     "text": [
      "100%|██████████| 1/1 [00:08<00:00,  8.18s/it]\n"
     ]
    }
   ],
   "source": [
    "df_v386i3 = scrape_articles(root_url, doi_root_url, article_list_url, start_page, end_page, volume, area_of_knowledge)"
   ]
  },
  {
   "cell_type": "code",
   "execution_count": 331,
   "id": "55f52093-cc51-4fad-8d7f-e9369039ad3b",
   "metadata": {},
   "outputs": [],
   "source": [
    "root_url = 'https://www.nejm.org'\n",
    "doi_root_url = 'https://doi.org'\n",
    "article_list_url = 'https://www.nejm.org/toc/nejm/386/'\n",
    "volume = 'Volume 386'\n",
    "area_of_knowledge = 'Health Sciences'"
   ]
  },
  {
   "cell_type": "code",
   "execution_count": 332,
   "id": "73324cf0-6b09-49a2-bc8d-5e9afdcf054a",
   "metadata": {},
   "outputs": [],
   "source": [
    "start_page = 4\n",
    "end_page = 4"
   ]
  },
  {
   "cell_type": "code",
   "execution_count": 333,
   "id": "5328c103-c93b-4b8a-b6c8-aeed232596ee",
   "metadata": {},
   "outputs": [
    {
     "name": "stderr",
     "output_type": "stream",
     "text": [
      "100%|██████████| 1/1 [00:08<00:00,  8.34s/it]\n"
     ]
    }
   ],
   "source": [
    "df_v386i4 = scrape_articles(root_url, doi_root_url, article_list_url, start_page, end_page, volume, area_of_knowledge)"
   ]
  },
  {
   "cell_type": "code",
   "execution_count": 334,
   "id": "9c0c8fc0-a940-4ac0-8b72-af19af3588b6",
   "metadata": {},
   "outputs": [],
   "source": [
    "root_url = 'https://www.nejm.org'\n",
    "doi_root_url = 'https://doi.org'\n",
    "article_list_url = 'https://www.nejm.org/toc/nejm/386/'\n",
    "volume = 'Volume 386'\n",
    "area_of_knowledge = 'Health Sciences'"
   ]
  },
  {
   "cell_type": "code",
   "execution_count": 335,
   "id": "2f14c46c-efdd-4b0e-9223-0c4f2a0407d4",
   "metadata": {},
   "outputs": [],
   "source": [
    "start_page = 5\n",
    "end_page = 5"
   ]
  },
  {
   "cell_type": "code",
   "execution_count": 336,
   "id": "79557e3b-7ff5-4d21-a93d-9703a18fc3ff",
   "metadata": {},
   "outputs": [
    {
     "name": "stderr",
     "output_type": "stream",
     "text": [
      "100%|██████████| 1/1 [00:07<00:00,  7.14s/it]\n"
     ]
    }
   ],
   "source": [
    "df_v386i5 = scrape_articles(root_url, doi_root_url, article_list_url, start_page, end_page, volume, area_of_knowledge)"
   ]
  },
  {
   "cell_type": "code",
   "execution_count": 337,
   "id": "5458ebe7-d0d5-4ad1-a306-f785ea121824",
   "metadata": {},
   "outputs": [],
   "source": [
    "root_url = 'https://www.nejm.org'\n",
    "doi_root_url = 'https://doi.org'\n",
    "article_list_url = 'https://www.nejm.org/toc/nejm/386/'\n",
    "volume = 'Volume 386'\n",
    "area_of_knowledge = 'Health Sciences'"
   ]
  },
  {
   "cell_type": "code",
   "execution_count": 338,
   "id": "12f58c7c-818a-45b5-9e60-0d786ec0459f",
   "metadata": {},
   "outputs": [],
   "source": [
    "start_page = 6\n",
    "end_page = 6"
   ]
  },
  {
   "cell_type": "code",
   "execution_count": 339,
   "id": "cb25da8f-53ff-4908-ad98-728a6c5c3b50",
   "metadata": {},
   "outputs": [
    {
     "name": "stderr",
     "output_type": "stream",
     "text": [
      "100%|██████████| 1/1 [00:08<00:00,  8.30s/it]\n"
     ]
    }
   ],
   "source": [
    "df_v386i6 = scrape_articles(root_url, doi_root_url, article_list_url, start_page, end_page, volume, area_of_knowledge)"
   ]
  },
  {
   "cell_type": "code",
   "execution_count": 340,
   "id": "ec3dd033-eca0-420c-8256-cc8659e5e3e0",
   "metadata": {},
   "outputs": [],
   "source": [
    "root_url = 'https://www.nejm.org'\n",
    "doi_root_url = 'https://doi.org'\n",
    "article_list_url = 'https://www.nejm.org/toc/nejm/386/'\n",
    "volume = 'Volume 386'\n",
    "area_of_knowledge = 'Health Sciences'"
   ]
  },
  {
   "cell_type": "code",
   "execution_count": 341,
   "id": "0bb4f754-b26a-4bb6-8fea-6be25794711f",
   "metadata": {},
   "outputs": [],
   "source": [
    "start_page = 7\n",
    "end_page = 7"
   ]
  },
  {
   "cell_type": "code",
   "execution_count": 342,
   "id": "42fa3ffd-ebbb-4b5d-a233-e44ac5f1f210",
   "metadata": {},
   "outputs": [
    {
     "name": "stderr",
     "output_type": "stream",
     "text": [
      "100%|██████████| 1/1 [00:08<00:00,  8.62s/it]\n"
     ]
    }
   ],
   "source": [
    "df_v386i7 = scrape_articles(root_url, doi_root_url, article_list_url, start_page, end_page, volume, area_of_knowledge)"
   ]
  },
  {
   "cell_type": "code",
   "execution_count": 343,
   "id": "04f0d97e-8f97-4a64-b09f-b623859c338e",
   "metadata": {},
   "outputs": [],
   "source": [
    "root_url = 'https://www.nejm.org'\n",
    "doi_root_url = 'https://doi.org'\n",
    "article_list_url = 'https://www.nejm.org/toc/nejm/386/'\n",
    "volume = 'Volume 386'\n",
    "area_of_knowledge = 'Health Sciences'"
   ]
  },
  {
   "cell_type": "code",
   "execution_count": 344,
   "id": "b34067eb-f20d-4c83-b949-c5181547d7a5",
   "metadata": {},
   "outputs": [],
   "source": [
    "start_page = 8\n",
    "end_page = 8"
   ]
  },
  {
   "cell_type": "code",
   "execution_count": 345,
   "id": "fae0b471-1215-4d56-b24b-2a711526d49a",
   "metadata": {},
   "outputs": [
    {
     "name": "stderr",
     "output_type": "stream",
     "text": [
      "100%|██████████| 1/1 [00:08<00:00,  8.17s/it]\n"
     ]
    }
   ],
   "source": [
    "df_v386i8 = scrape_articles(root_url, doi_root_url, article_list_url, start_page, end_page, volume, area_of_knowledge)"
   ]
  },
  {
   "cell_type": "code",
   "execution_count": 346,
   "id": "31762654-9134-41fc-b3e3-f68eba1e00a3",
   "metadata": {},
   "outputs": [],
   "source": [
    "root_url = 'https://www.nejm.org'\n",
    "doi_root_url = 'https://doi.org'\n",
    "article_list_url = 'https://www.nejm.org/toc/nejm/386/'\n",
    "volume = 'Volume 386'\n",
    "area_of_knowledge = 'Health Sciences'"
   ]
  },
  {
   "cell_type": "code",
   "execution_count": 347,
   "id": "83bb5a8f-d72c-443a-979d-0ab3417bbe75",
   "metadata": {},
   "outputs": [],
   "source": [
    "start_page = 9\n",
    "end_page = 9"
   ]
  },
  {
   "cell_type": "code",
   "execution_count": 348,
   "id": "54899059-143a-4559-992a-b177cb09b381",
   "metadata": {},
   "outputs": [
    {
     "name": "stderr",
     "output_type": "stream",
     "text": [
      "100%|██████████| 1/1 [00:08<00:00,  8.27s/it]\n"
     ]
    }
   ],
   "source": [
    "df_v386i9 = scrape_articles(root_url, doi_root_url, article_list_url, start_page, end_page, volume, area_of_knowledge)"
   ]
  },
  {
   "cell_type": "code",
   "execution_count": 349,
   "id": "bcb5d1eb-a538-49c8-88e2-30fa8b7968d8",
   "metadata": {},
   "outputs": [],
   "source": [
    "root_url = 'https://www.nejm.org'\n",
    "doi_root_url = 'https://doi.org'\n",
    "article_list_url = 'https://www.nejm.org/toc/nejm/386/'\n",
    "volume = 'Volume 386'\n",
    "area_of_knowledge = 'Health Sciences'"
   ]
  },
  {
   "cell_type": "code",
   "execution_count": 350,
   "id": "cb6808c5-7512-4b90-a27a-7e283b50cfcc",
   "metadata": {},
   "outputs": [],
   "source": [
    "start_page = 10\n",
    "end_page = 10"
   ]
  },
  {
   "cell_type": "code",
   "execution_count": 351,
   "id": "fb5b7d62-e08c-4299-898d-7218ba8c80ac",
   "metadata": {},
   "outputs": [
    {
     "name": "stderr",
     "output_type": "stream",
     "text": [
      "100%|██████████| 1/1 [00:06<00:00,  6.43s/it]\n"
     ]
    }
   ],
   "source": [
    "df_v386i10 = scrape_articles(root_url, doi_root_url, article_list_url, start_page, end_page, volume, area_of_knowledge)"
   ]
  },
  {
   "cell_type": "code",
   "execution_count": 352,
   "id": "36b73b0a-1998-4aae-bf16-798007120002",
   "metadata": {},
   "outputs": [],
   "source": [
    "root_url = 'https://www.nejm.org'\n",
    "doi_root_url = 'https://doi.org'\n",
    "article_list_url = 'https://www.nejm.org/toc/nejm/386/'\n",
    "volume = 'Volume 386'\n",
    "area_of_knowledge = 'Health Sciences'"
   ]
  },
  {
   "cell_type": "code",
   "execution_count": 353,
   "id": "b40142b0-8151-4a3a-aa50-75c1d683f045",
   "metadata": {},
   "outputs": [],
   "source": [
    "start_page = 11\n",
    "end_page = 11"
   ]
  },
  {
   "cell_type": "code",
   "execution_count": 354,
   "id": "f0f4269c-710f-494d-9011-5375eda51e5c",
   "metadata": {},
   "outputs": [
    {
     "name": "stderr",
     "output_type": "stream",
     "text": [
      "100%|██████████| 1/1 [00:09<00:00,  9.38s/it]\n"
     ]
    }
   ],
   "source": [
    "df_v386i11 = scrape_articles(root_url, doi_root_url, article_list_url, start_page, end_page, volume, area_of_knowledge)"
   ]
  },
  {
   "cell_type": "code",
   "execution_count": 355,
   "id": "3d1bc956-7ddc-4b1d-8051-eb6f33a10dfd",
   "metadata": {},
   "outputs": [],
   "source": [
    "root_url = 'https://www.nejm.org'\n",
    "doi_root_url = 'https://doi.org'\n",
    "article_list_url = 'https://www.nejm.org/toc/nejm/386/'\n",
    "volume = 'Volume 386'\n",
    "area_of_knowledge = 'Health Sciences'"
   ]
  },
  {
   "cell_type": "code",
   "execution_count": 356,
   "id": "c8e8d070-5ffb-4ce0-874c-0759ed014f50",
   "metadata": {},
   "outputs": [],
   "source": [
    "start_page = 12\n",
    "end_page = 12"
   ]
  },
  {
   "cell_type": "code",
   "execution_count": 357,
   "id": "72c6c951-a1b2-470c-8c6a-673683802b70",
   "metadata": {},
   "outputs": [
    {
     "name": "stderr",
     "output_type": "stream",
     "text": [
      "100%|██████████| 1/1 [00:08<00:00,  8.48s/it]\n"
     ]
    }
   ],
   "source": [
    "df_v386i12 = scrape_articles(root_url, doi_root_url, article_list_url, start_page, end_page, volume, area_of_knowledge)"
   ]
  },
  {
   "cell_type": "code",
   "execution_count": 358,
   "id": "32855f76-1838-4612-a957-8d596ddd5733",
   "metadata": {},
   "outputs": [],
   "source": [
    "root_url = 'https://www.nejm.org'\n",
    "doi_root_url = 'https://doi.org'\n",
    "article_list_url = 'https://www.nejm.org/toc/nejm/386/'\n",
    "volume = 'Volume 386'\n",
    "area_of_knowledge = 'Health Sciences'"
   ]
  },
  {
   "cell_type": "code",
   "execution_count": 359,
   "id": "280ff521-ea7f-459b-8d43-f1397c62d3ca",
   "metadata": {},
   "outputs": [],
   "source": [
    "start_page = 13\n",
    "end_page = 13"
   ]
  },
  {
   "cell_type": "code",
   "execution_count": 360,
   "id": "26b879c5-2861-4e0c-bf91-488ce5350d16",
   "metadata": {},
   "outputs": [
    {
     "name": "stderr",
     "output_type": "stream",
     "text": [
      "100%|██████████| 1/1 [00:08<00:00,  8.18s/it]\n"
     ]
    }
   ],
   "source": [
    "df_v386i13 = scrape_articles(root_url, doi_root_url, article_list_url, start_page, end_page, volume, area_of_knowledge)"
   ]
  },
  {
   "cell_type": "code",
   "execution_count": 361,
   "id": "f44319a7-1b11-45ab-984d-e8c7c5d79841",
   "metadata": {},
   "outputs": [],
   "source": [
    "root_url = 'https://www.nejm.org'\n",
    "doi_root_url = 'https://doi.org'\n",
    "article_list_url = 'https://www.nejm.org/toc/nejm/386/'\n",
    "volume = 'Volume 386'\n",
    "area_of_knowledge = 'Health Sciences'"
   ]
  },
  {
   "cell_type": "code",
   "execution_count": 362,
   "id": "e8b2de4a-6738-4f84-adee-9bd22ebaf7c7",
   "metadata": {},
   "outputs": [],
   "source": [
    "start_page = 14\n",
    "end_page = 14"
   ]
  },
  {
   "cell_type": "code",
   "execution_count": 363,
   "id": "4c3386e3-99d8-4cdf-aa1c-696b3a207a51",
   "metadata": {},
   "outputs": [
    {
     "name": "stderr",
     "output_type": "stream",
     "text": [
      "100%|██████████| 1/1 [00:07<00:00,  7.34s/it]\n"
     ]
    }
   ],
   "source": [
    "df_v386i14 = scrape_articles(root_url, doi_root_url, article_list_url, start_page, end_page, volume, area_of_knowledge)"
   ]
  },
  {
   "cell_type": "code",
   "execution_count": 364,
   "id": "5fe08ccb-5667-4465-b0ee-bcce8c2ffe00",
   "metadata": {},
   "outputs": [],
   "source": [
    "root_url = 'https://www.nejm.org'\n",
    "doi_root_url = 'https://doi.org'\n",
    "article_list_url = 'https://www.nejm.org/toc/nejm/386/'\n",
    "volume = 'Volume 386'\n",
    "area_of_knowledge = 'Health Sciences'"
   ]
  },
  {
   "cell_type": "code",
   "execution_count": 365,
   "id": "110e3c41-572c-4bd1-9f09-d00491a012de",
   "metadata": {},
   "outputs": [],
   "source": [
    "start_page = 15\n",
    "end_page = 15"
   ]
  },
  {
   "cell_type": "code",
   "execution_count": 366,
   "id": "4059c683-70c0-4a3e-b611-f840b0f1fad8",
   "metadata": {},
   "outputs": [
    {
     "name": "stderr",
     "output_type": "stream",
     "text": [
      "100%|██████████| 1/1 [00:08<00:00,  8.37s/it]\n"
     ]
    }
   ],
   "source": [
    "df_v386i15 = scrape_articles(root_url, doi_root_url, article_list_url, start_page, end_page, volume, area_of_knowledge)"
   ]
  },
  {
   "cell_type": "code",
   "execution_count": 367,
   "id": "0798aefa-1950-4616-8f02-c1190176fd1d",
   "metadata": {},
   "outputs": [],
   "source": [
    "root_url = 'https://www.nejm.org'\n",
    "doi_root_url = 'https://doi.org'\n",
    "article_list_url = 'https://www.nejm.org/toc/nejm/386/'\n",
    "volume = 'Volume 386'\n",
    "area_of_knowledge = 'Health Sciences'"
   ]
  },
  {
   "cell_type": "code",
   "execution_count": 368,
   "id": "3cd908ac-9f43-4bc1-8dba-b9b9365670d6",
   "metadata": {},
   "outputs": [],
   "source": [
    "start_page = 16\n",
    "end_page = 16"
   ]
  },
  {
   "cell_type": "code",
   "execution_count": 369,
   "id": "fab97991-209f-4717-ac11-c5e6e951ae53",
   "metadata": {},
   "outputs": [
    {
     "name": "stderr",
     "output_type": "stream",
     "text": [
      "100%|██████████| 1/1 [00:08<00:00,  8.74s/it]\n"
     ]
    }
   ],
   "source": [
    "df_v386i16 = scrape_articles(root_url, doi_root_url, article_list_url, start_page, end_page, volume, area_of_knowledge)"
   ]
  },
  {
   "cell_type": "code",
   "execution_count": 370,
   "id": "592d8ca8-b7ac-46c4-bcb4-d24765a1842a",
   "metadata": {},
   "outputs": [],
   "source": [
    "root_url = 'https://www.nejm.org'\n",
    "doi_root_url = 'https://doi.org'\n",
    "article_list_url = 'https://www.nejm.org/toc/nejm/386/'\n",
    "volume = 'Volume 386'\n",
    "area_of_knowledge = 'Health Sciences'"
   ]
  },
  {
   "cell_type": "code",
   "execution_count": 371,
   "id": "ec0d9419-9958-41d4-8567-8df2fe852087",
   "metadata": {},
   "outputs": [],
   "source": [
    "start_page = 17\n",
    "end_page = 17"
   ]
  },
  {
   "cell_type": "code",
   "execution_count": 372,
   "id": "9d414d9b-03d5-49df-8b58-108221b129ec",
   "metadata": {},
   "outputs": [
    {
     "name": "stderr",
     "output_type": "stream",
     "text": [
      "100%|██████████| 1/1 [00:08<00:00,  8.26s/it]\n"
     ]
    }
   ],
   "source": [
    "df_v386i17 = scrape_articles(root_url, doi_root_url, article_list_url, start_page, end_page, volume, area_of_knowledge)"
   ]
  },
  {
   "cell_type": "code",
   "execution_count": 373,
   "id": "65e5a828-36b5-4c22-8d61-a1f377d07ada",
   "metadata": {},
   "outputs": [],
   "source": [
    "root_url = 'https://www.nejm.org'\n",
    "doi_root_url = 'https://doi.org'\n",
    "article_list_url = 'https://www.nejm.org/toc/nejm/386/'\n",
    "volume = 'Volume 386'\n",
    "area_of_knowledge = 'Health Sciences'"
   ]
  },
  {
   "cell_type": "code",
   "execution_count": 374,
   "id": "9b3e3064-b91f-4b26-b97d-17e12452e616",
   "metadata": {},
   "outputs": [],
   "source": [
    "start_page = 18\n",
    "end_page = 18"
   ]
  },
  {
   "cell_type": "code",
   "execution_count": 375,
   "id": "bf515a27-fb50-4ded-8134-946b5104e05e",
   "metadata": {},
   "outputs": [
    {
     "name": "stderr",
     "output_type": "stream",
     "text": [
      "100%|██████████| 1/1 [00:08<00:00,  8.29s/it]\n"
     ]
    }
   ],
   "source": [
    "df_v386i18 = scrape_articles(root_url, doi_root_url, article_list_url, start_page, end_page, volume, area_of_knowledge)"
   ]
  },
  {
   "cell_type": "code",
   "execution_count": 376,
   "id": "1c80eb97-46d1-4959-b692-9aedb6d1d9d4",
   "metadata": {},
   "outputs": [],
   "source": [
    "root_url = 'https://www.nejm.org'\n",
    "doi_root_url = 'https://doi.org'\n",
    "article_list_url = 'https://www.nejm.org/toc/nejm/386/'\n",
    "volume = 'Volume 386'\n",
    "area_of_knowledge = 'Health Sciences'"
   ]
  },
  {
   "cell_type": "code",
   "execution_count": 377,
   "id": "f6a4cb1a-86cc-4f34-90d8-16ea8e4589a1",
   "metadata": {},
   "outputs": [],
   "source": [
    "start_page = 19\n",
    "end_page = 19"
   ]
  },
  {
   "cell_type": "code",
   "execution_count": 378,
   "id": "882564ce-773e-4ed0-b9cf-081e44e9023b",
   "metadata": {},
   "outputs": [
    {
     "name": "stderr",
     "output_type": "stream",
     "text": [
      "100%|██████████| 1/1 [00:09<00:00,  9.58s/it]\n"
     ]
    }
   ],
   "source": [
    "df_v386i19 = scrape_articles(root_url, doi_root_url, article_list_url, start_page, end_page, volume, area_of_knowledge)"
   ]
  },
  {
   "cell_type": "code",
   "execution_count": 379,
   "id": "d871a126-3367-4fe0-9b40-bcf745932ecb",
   "metadata": {},
   "outputs": [],
   "source": [
    "root_url = 'https://www.nejm.org'\n",
    "doi_root_url = 'https://doi.org'\n",
    "article_list_url = 'https://www.nejm.org/toc/nejm/386/'\n",
    "volume = 'Volume 386'\n",
    "area_of_knowledge = 'Health Sciences'"
   ]
  },
  {
   "cell_type": "code",
   "execution_count": 380,
   "id": "b06b83ca-36f9-4839-8900-0b7e6b717c3c",
   "metadata": {},
   "outputs": [],
   "source": [
    "start_page = 20\n",
    "end_page = 20"
   ]
  },
  {
   "cell_type": "code",
   "execution_count": 381,
   "id": "e8874253-4e9f-4537-9915-3f47984bfa3e",
   "metadata": {},
   "outputs": [
    {
     "name": "stderr",
     "output_type": "stream",
     "text": [
      "100%|██████████| 1/1 [00:08<00:00,  8.47s/it]\n"
     ]
    }
   ],
   "source": [
    "df_v386i20 = scrape_articles(root_url, doi_root_url, article_list_url, start_page, end_page, volume, area_of_knowledge)"
   ]
  },
  {
   "cell_type": "code",
   "execution_count": 382,
   "id": "5fb1a694-a267-4413-b138-b68f12436455",
   "metadata": {},
   "outputs": [],
   "source": [
    "root_url = 'https://www.nejm.org'\n",
    "doi_root_url = 'https://doi.org'\n",
    "article_list_url = 'https://www.nejm.org/toc/nejm/386/'\n",
    "volume = 'Volume 386'\n",
    "area_of_knowledge = 'Health Sciences'"
   ]
  },
  {
   "cell_type": "code",
   "execution_count": 383,
   "id": "fc54db45-c9b0-4eb5-a1c0-2325abca4b3d",
   "metadata": {},
   "outputs": [],
   "source": [
    "start_page = 21\n",
    "end_page = 21"
   ]
  },
  {
   "cell_type": "code",
   "execution_count": 384,
   "id": "78d95326-efa6-43f3-bd2f-87ec3fdc46ff",
   "metadata": {},
   "outputs": [
    {
     "name": "stderr",
     "output_type": "stream",
     "text": [
      "100%|██████████| 1/1 [00:08<00:00,  8.32s/it]\n"
     ]
    }
   ],
   "source": [
    "df_v386i21 = scrape_articles(root_url, doi_root_url, article_list_url, start_page, end_page, volume, area_of_knowledge)"
   ]
  },
  {
   "cell_type": "code",
   "execution_count": 385,
   "id": "8aab9bd6-e4cf-43fc-917e-e9379c148015",
   "metadata": {},
   "outputs": [],
   "source": [
    "root_url = 'https://www.nejm.org'\n",
    "doi_root_url = 'https://doi.org'\n",
    "article_list_url = 'https://www.nejm.org/toc/nejm/386/'\n",
    "volume = 'Volume 386'\n",
    "area_of_knowledge = 'Health Sciences'"
   ]
  },
  {
   "cell_type": "code",
   "execution_count": 386,
   "id": "c86afe39-3893-49d4-896f-634ce59552bc",
   "metadata": {},
   "outputs": [],
   "source": [
    "start_page = 22\n",
    "end_page = 22"
   ]
  },
  {
   "cell_type": "code",
   "execution_count": 387,
   "id": "45987205-00f7-4d20-9c16-18d7ef0472c2",
   "metadata": {},
   "outputs": [
    {
     "name": "stderr",
     "output_type": "stream",
     "text": [
      "100%|██████████| 1/1 [00:08<00:00,  8.32s/it]\n"
     ]
    }
   ],
   "source": [
    "df_v386i22 = scrape_articles(root_url, doi_root_url, article_list_url, start_page, end_page, volume, area_of_knowledge)"
   ]
  },
  {
   "cell_type": "code",
   "execution_count": 388,
   "id": "ccadb902-f278-4ca7-82df-6ce1ee26e1ef",
   "metadata": {},
   "outputs": [],
   "source": [
    "root_url = 'https://www.nejm.org'\n",
    "doi_root_url = 'https://doi.org'\n",
    "article_list_url = 'https://www.nejm.org/toc/nejm/386/'\n",
    "volume = 'Volume 386'\n",
    "area_of_knowledge = 'Health Sciences'"
   ]
  },
  {
   "cell_type": "code",
   "execution_count": 389,
   "id": "653a542b-30a5-4550-bead-ee16cda51b16",
   "metadata": {},
   "outputs": [],
   "source": [
    "start_page = 23\n",
    "end_page = 23"
   ]
  },
  {
   "cell_type": "code",
   "execution_count": 390,
   "id": "8ea7edda-7a52-45d5-88c2-af83d0a39fe5",
   "metadata": {},
   "outputs": [
    {
     "name": "stderr",
     "output_type": "stream",
     "text": [
      "100%|██████████| 1/1 [00:08<00:00,  8.47s/it]\n"
     ]
    }
   ],
   "source": [
    "df_v386i23 = scrape_articles(root_url, doi_root_url, article_list_url, start_page, end_page, volume, area_of_knowledge)"
   ]
  },
  {
   "cell_type": "code",
   "execution_count": 391,
   "id": "4f22fce9-873c-4ce5-8159-7cbfa4abbf2b",
   "metadata": {},
   "outputs": [],
   "source": [
    "root_url = 'https://www.nejm.org'\n",
    "doi_root_url = 'https://doi.org'\n",
    "article_list_url = 'https://www.nejm.org/toc/nejm/386/'\n",
    "volume = 'Volume 386'\n",
    "area_of_knowledge = 'Health Sciences'"
   ]
  },
  {
   "cell_type": "code",
   "execution_count": 392,
   "id": "c8e7a0c5-7a6a-4cb5-8165-ccddcfe881f9",
   "metadata": {},
   "outputs": [],
   "source": [
    "start_page = 24\n",
    "end_page = 24"
   ]
  },
  {
   "cell_type": "code",
   "execution_count": 393,
   "id": "55a63aa2-5043-47ba-a7b6-e9d6614e6699",
   "metadata": {},
   "outputs": [
    {
     "name": "stderr",
     "output_type": "stream",
     "text": [
      "100%|██████████| 1/1 [00:08<00:00,  8.32s/it]\n"
     ]
    }
   ],
   "source": [
    "df_v386i24 = scrape_articles(root_url, doi_root_url, article_list_url, start_page, end_page, volume, area_of_knowledge)"
   ]
  },
  {
   "cell_type": "code",
   "execution_count": 394,
   "id": "50180c6b-59a3-4a32-86a7-6896b0f1e60a",
   "metadata": {},
   "outputs": [],
   "source": [
    "root_url = 'https://www.nejm.org'\n",
    "doi_root_url = 'https://doi.org'\n",
    "article_list_url = 'https://www.nejm.org/toc/nejm/386/'\n",
    "volume = 'Volume 386'\n",
    "area_of_knowledge = 'Health Sciences'"
   ]
  },
  {
   "cell_type": "code",
   "execution_count": 395,
   "id": "45f293d4-6641-4617-a423-0346d00ee76f",
   "metadata": {},
   "outputs": [],
   "source": [
    "start_page = 25\n",
    "end_page = 25"
   ]
  },
  {
   "cell_type": "code",
   "execution_count": 396,
   "id": "9d24d399-397b-476c-9a7b-117fbf5c2a1e",
   "metadata": {},
   "outputs": [
    {
     "name": "stderr",
     "output_type": "stream",
     "text": [
      "100%|██████████| 1/1 [00:08<00:00,  8.39s/it]\n"
     ]
    }
   ],
   "source": [
    "df_v386i25 = scrape_articles(root_url, doi_root_url, article_list_url, start_page, end_page, volume, area_of_knowledge)"
   ]
  },
  {
   "cell_type": "code",
   "execution_count": 397,
   "id": "0d1f276b-31c6-43a8-a6f1-3dddda9f384f",
   "metadata": {},
   "outputs": [],
   "source": [
    "root_url = 'https://www.nejm.org'\n",
    "doi_root_url = 'https://doi.org'\n",
    "article_list_url = 'https://www.nejm.org/toc/nejm/386/'\n",
    "volume = 'Volume 386'\n",
    "area_of_knowledge = 'Health Sciences'"
   ]
  },
  {
   "cell_type": "code",
   "execution_count": 398,
   "id": "90291737-20a1-4150-852a-7965764a40bc",
   "metadata": {},
   "outputs": [],
   "source": [
    "start_page = 26\n",
    "end_page = 26"
   ]
  },
  {
   "cell_type": "code",
   "execution_count": 399,
   "id": "e8b779bf-296e-4793-9c55-5e5dc6222325",
   "metadata": {},
   "outputs": [
    {
     "name": "stderr",
     "output_type": "stream",
     "text": [
      "100%|██████████| 1/1 [00:08<00:00,  8.43s/it]\n"
     ]
    }
   ],
   "source": [
    "df_v386i26 = scrape_articles(root_url, doi_root_url, article_list_url, start_page, end_page, volume, area_of_knowledge)"
   ]
  },
  {
   "cell_type": "markdown",
   "id": "dcbd3f55-6092-4590-a4bc-c192a7ac6008",
   "metadata": {},
   "source": [
    "##### Volume 387 (Issue 1 - 22)"
   ]
  },
  {
   "cell_type": "code",
   "execution_count": 400,
   "id": "e03622dc-fe6b-4ff6-b9d8-43b6b2d066fc",
   "metadata": {},
   "outputs": [],
   "source": [
    "root_url = 'https://www.nejm.org'\n",
    "doi_root_url = 'https://doi.org'\n",
    "article_list_url = 'https://www.nejm.org/toc/nejm/387/'\n",
    "volume = 'Volume 387'\n",
    "area_of_knowledge = 'Health Sciences'"
   ]
  },
  {
   "cell_type": "code",
   "execution_count": 401,
   "id": "bdd91b88-a164-42d9-bad3-a518b410f7d9",
   "metadata": {},
   "outputs": [],
   "source": [
    "start_page = 1\n",
    "end_page = 1"
   ]
  },
  {
   "cell_type": "code",
   "execution_count": 402,
   "id": "da73caf7-01da-4b87-b196-26fadee07244",
   "metadata": {},
   "outputs": [
    {
     "name": "stderr",
     "output_type": "stream",
     "text": [
      "100%|██████████| 1/1 [00:08<00:00,  8.52s/it]\n"
     ]
    }
   ],
   "source": [
    "df_v387i1 = scrape_articles(root_url, doi_root_url, article_list_url, start_page, end_page, volume, area_of_knowledge)"
   ]
  },
  {
   "cell_type": "code",
   "execution_count": 403,
   "id": "cb031bc7-2adc-4462-af7b-11717996a568",
   "metadata": {},
   "outputs": [],
   "source": [
    "root_url = 'https://www.nejm.org'\n",
    "doi_root_url = 'https://doi.org'\n",
    "article_list_url = 'https://www.nejm.org/toc/nejm/387/'\n",
    "volume = 'Volume 387'\n",
    "area_of_knowledge = 'Health Sciences'"
   ]
  },
  {
   "cell_type": "code",
   "execution_count": 404,
   "id": "754bc3a0-33d3-4bdc-a1d3-13ece72a1381",
   "metadata": {},
   "outputs": [],
   "source": [
    "start_page = 2\n",
    "end_page = 2"
   ]
  },
  {
   "cell_type": "code",
   "execution_count": 405,
   "id": "535a0e44-8dd7-46ad-adec-462f756e04ba",
   "metadata": {},
   "outputs": [
    {
     "name": "stderr",
     "output_type": "stream",
     "text": [
      "100%|██████████| 1/1 [00:08<00:00,  8.17s/it]\n"
     ]
    }
   ],
   "source": [
    "df_v387i2 = scrape_articles(root_url, doi_root_url, article_list_url, start_page, end_page, volume, area_of_knowledge)"
   ]
  },
  {
   "cell_type": "code",
   "execution_count": 406,
   "id": "ba5b609e-cb9a-4cbe-a836-833402f24ce9",
   "metadata": {},
   "outputs": [],
   "source": [
    "root_url = 'https://www.nejm.org'\n",
    "doi_root_url = 'https://doi.org'\n",
    "article_list_url = 'https://www.nejm.org/toc/nejm/387/'\n",
    "volume = 'Volume 387'\n",
    "area_of_knowledge = 'Health Sciences'"
   ]
  },
  {
   "cell_type": "code",
   "execution_count": 407,
   "id": "94bd1005-e655-4dd2-bdcd-6eedfaf15b92",
   "metadata": {},
   "outputs": [],
   "source": [
    "start_page = 3\n",
    "end_page = 3"
   ]
  },
  {
   "cell_type": "code",
   "execution_count": 408,
   "id": "66749579-84af-43e2-a351-34b8f77be1b1",
   "metadata": {},
   "outputs": [
    {
     "name": "stderr",
     "output_type": "stream",
     "text": [
      "100%|██████████| 1/1 [00:08<00:00,  8.28s/it]\n"
     ]
    }
   ],
   "source": [
    "df_v387i3 = scrape_articles(root_url, doi_root_url, article_list_url, start_page, end_page, volume, area_of_knowledge)"
   ]
  },
  {
   "cell_type": "code",
   "execution_count": 409,
   "id": "12ee6ee1-b549-4271-87ad-52776346728a",
   "metadata": {},
   "outputs": [],
   "source": [
    "root_url = 'https://www.nejm.org'\n",
    "doi_root_url = 'https://doi.org'\n",
    "article_list_url = 'https://www.nejm.org/toc/nejm/387/'\n",
    "volume = 'Volume 387'\n",
    "area_of_knowledge = 'Health Sciences'"
   ]
  },
  {
   "cell_type": "code",
   "execution_count": 410,
   "id": "c7abbe4d-9919-48a9-8138-ceab406f9f64",
   "metadata": {},
   "outputs": [],
   "source": [
    "start_page = 4\n",
    "end_page = 4"
   ]
  },
  {
   "cell_type": "code",
   "execution_count": 411,
   "id": "0fea4e86-dbe8-4837-bc86-73ac8f2b167b",
   "metadata": {},
   "outputs": [
    {
     "name": "stderr",
     "output_type": "stream",
     "text": [
      "100%|██████████| 1/1 [00:08<00:00,  8.61s/it]\n"
     ]
    }
   ],
   "source": [
    "df_v387i4 = scrape_articles(root_url, doi_root_url, article_list_url, start_page, end_page, volume, area_of_knowledge)"
   ]
  },
  {
   "cell_type": "code",
   "execution_count": 412,
   "id": "839cf8b4-f4d3-4217-bca1-2e30d016dfde",
   "metadata": {},
   "outputs": [],
   "source": [
    "root_url = 'https://www.nejm.org'\n",
    "doi_root_url = 'https://doi.org'\n",
    "article_list_url = 'https://www.nejm.org/toc/nejm/387/'\n",
    "volume = 'Volume 387'\n",
    "area_of_knowledge = 'Health Sciences'"
   ]
  },
  {
   "cell_type": "code",
   "execution_count": 413,
   "id": "6b2b77e5-63cd-4a4a-8b02-a99ac350d71e",
   "metadata": {},
   "outputs": [],
   "source": [
    "start_page = 5\n",
    "end_page = 5"
   ]
  },
  {
   "cell_type": "code",
   "execution_count": 414,
   "id": "fb113f01-dedf-4613-9282-d781ff5cc86c",
   "metadata": {},
   "outputs": [
    {
     "name": "stderr",
     "output_type": "stream",
     "text": [
      "100%|██████████| 1/1 [00:08<00:00,  8.62s/it]\n"
     ]
    }
   ],
   "source": [
    "df_v387i5 = scrape_articles(root_url, doi_root_url, article_list_url, start_page, end_page, volume, area_of_knowledge)"
   ]
  },
  {
   "cell_type": "code",
   "execution_count": 415,
   "id": "e35e138a-91f4-4a7e-843b-ec538796cfd3",
   "metadata": {},
   "outputs": [],
   "source": [
    "root_url = 'https://www.nejm.org'\n",
    "doi_root_url = 'https://doi.org'\n",
    "article_list_url = 'https://www.nejm.org/toc/nejm/387/'\n",
    "volume = 'Volume 387'\n",
    "area_of_knowledge = 'Health Sciences'"
   ]
  },
  {
   "cell_type": "code",
   "execution_count": 416,
   "id": "febad22e-d9e3-4290-8c40-d4dfa241860d",
   "metadata": {},
   "outputs": [],
   "source": [
    "start_page = 6\n",
    "end_page = 6"
   ]
  },
  {
   "cell_type": "code",
   "execution_count": 417,
   "id": "d248aa28-5788-46e2-8340-48f8b9e4ef4b",
   "metadata": {},
   "outputs": [
    {
     "name": "stderr",
     "output_type": "stream",
     "text": [
      "100%|██████████| 1/1 [00:08<00:00,  8.34s/it]\n"
     ]
    }
   ],
   "source": [
    "df_v387i6 = scrape_articles(root_url, doi_root_url, article_list_url, start_page, end_page, volume, area_of_knowledge)"
   ]
  },
  {
   "cell_type": "code",
   "execution_count": 418,
   "id": "1a04d1bd-576e-49e1-9c8c-60e7d56ecab1",
   "metadata": {},
   "outputs": [],
   "source": [
    "root_url = 'https://www.nejm.org'\n",
    "doi_root_url = 'https://doi.org'\n",
    "article_list_url = 'https://www.nejm.org/toc/nejm/387/'\n",
    "volume = 'Volume 387'\n",
    "area_of_knowledge = 'Health Sciences'"
   ]
  },
  {
   "cell_type": "code",
   "execution_count": 419,
   "id": "750bcde9-896e-4c6e-a563-4d7b5ca0560d",
   "metadata": {},
   "outputs": [],
   "source": [
    "start_page = 7\n",
    "end_page = 7"
   ]
  },
  {
   "cell_type": "code",
   "execution_count": 420,
   "id": "a87f2b9e-96c4-401d-a24f-80324604adfc",
   "metadata": {},
   "outputs": [
    {
     "name": "stderr",
     "output_type": "stream",
     "text": [
      "100%|██████████| 1/1 [00:08<00:00,  8.24s/it]\n"
     ]
    }
   ],
   "source": [
    "df_v387i7 = scrape_articles(root_url, doi_root_url, article_list_url, start_page, end_page, volume, area_of_knowledge)"
   ]
  },
  {
   "cell_type": "code",
   "execution_count": 421,
   "id": "a2cc25b1-78a3-40f7-addd-a635534eba7f",
   "metadata": {},
   "outputs": [],
   "source": [
    "root_url = 'https://www.nejm.org'\n",
    "doi_root_url = 'https://doi.org'\n",
    "article_list_url = 'https://www.nejm.org/toc/nejm/387/'\n",
    "volume = 'Volume 387'\n",
    "area_of_knowledge = 'Health Sciences'"
   ]
  },
  {
   "cell_type": "code",
   "execution_count": 422,
   "id": "8cfd5eee-702f-4a74-8281-4976b2c2f9f9",
   "metadata": {},
   "outputs": [],
   "source": [
    "start_page = 8\n",
    "end_page = 8"
   ]
  },
  {
   "cell_type": "code",
   "execution_count": 423,
   "id": "5f96195d-1f51-492f-9df6-36b3c1a2e6d8",
   "metadata": {},
   "outputs": [
    {
     "name": "stderr",
     "output_type": "stream",
     "text": [
      "100%|██████████| 1/1 [00:08<00:00,  8.49s/it]\n"
     ]
    }
   ],
   "source": [
    "df_v387i8 = scrape_articles(root_url, doi_root_url, article_list_url, start_page, end_page, volume, area_of_knowledge)"
   ]
  },
  {
   "cell_type": "code",
   "execution_count": 424,
   "id": "66021ae7-de80-4409-884a-2307eab7403e",
   "metadata": {},
   "outputs": [],
   "source": [
    "root_url = 'https://www.nejm.org'\n",
    "doi_root_url = 'https://doi.org'\n",
    "article_list_url = 'https://www.nejm.org/toc/nejm/387/'\n",
    "volume = 'Volume 387'\n",
    "area_of_knowledge = 'Health Sciences'"
   ]
  },
  {
   "cell_type": "code",
   "execution_count": 425,
   "id": "6b1c001e-2ea5-49d3-aad0-19eb77573347",
   "metadata": {},
   "outputs": [],
   "source": [
    "start_page = 9\n",
    "end_page = 9"
   ]
  },
  {
   "cell_type": "code",
   "execution_count": 426,
   "id": "8d1d1106-0975-403e-8ae2-6533dd976209",
   "metadata": {},
   "outputs": [
    {
     "name": "stderr",
     "output_type": "stream",
     "text": [
      "100%|██████████| 1/1 [00:08<00:00,  8.05s/it]\n"
     ]
    }
   ],
   "source": [
    "df_v387i9 = scrape_articles(root_url, doi_root_url, article_list_url, start_page, end_page, volume, area_of_knowledge)"
   ]
  },
  {
   "cell_type": "code",
   "execution_count": 427,
   "id": "484829b8-0ac9-4753-9ba5-6389a8927615",
   "metadata": {},
   "outputs": [],
   "source": [
    "root_url = 'https://www.nejm.org'\n",
    "doi_root_url = 'https://doi.org'\n",
    "article_list_url = 'https://www.nejm.org/toc/nejm/387/'\n",
    "volume = 'Volume 387'\n",
    "area_of_knowledge = 'Health Sciences'"
   ]
  },
  {
   "cell_type": "code",
   "execution_count": 428,
   "id": "6a686c10-d080-4beb-b65a-73a6ae160593",
   "metadata": {},
   "outputs": [],
   "source": [
    "start_page = 10\n",
    "end_page = 10"
   ]
  },
  {
   "cell_type": "code",
   "execution_count": 429,
   "id": "0d44cde6-78bb-4067-8995-3f6d562aebab",
   "metadata": {},
   "outputs": [
    {
     "name": "stderr",
     "output_type": "stream",
     "text": [
      "100%|██████████| 1/1 [00:08<00:00,  8.40s/it]\n"
     ]
    }
   ],
   "source": [
    "df_v387i10 = scrape_articles(root_url, doi_root_url, article_list_url, start_page, end_page, volume, area_of_knowledge)"
   ]
  },
  {
   "cell_type": "code",
   "execution_count": 430,
   "id": "ece92540-712b-4952-ac84-c59f3a51d242",
   "metadata": {},
   "outputs": [],
   "source": [
    "root_url = 'https://www.nejm.org'\n",
    "doi_root_url = 'https://doi.org'\n",
    "article_list_url = 'https://www.nejm.org/toc/nejm/387/'\n",
    "volume = 'Volume 387'\n",
    "area_of_knowledge = 'Health Sciences'"
   ]
  },
  {
   "cell_type": "code",
   "execution_count": 431,
   "id": "ea381505-da11-46ea-b195-0a5e8f0a62b9",
   "metadata": {},
   "outputs": [],
   "source": [
    "start_page = 11\n",
    "end_page = 11"
   ]
  },
  {
   "cell_type": "code",
   "execution_count": 432,
   "id": "55eaad6f-f67e-4af7-9fb0-cdeab6d9d72f",
   "metadata": {},
   "outputs": [
    {
     "name": "stderr",
     "output_type": "stream",
     "text": [
      "100%|██████████| 1/1 [00:08<00:00,  8.45s/it]\n"
     ]
    }
   ],
   "source": [
    "df_v387i11 = scrape_articles(root_url, doi_root_url, article_list_url, start_page, end_page, volume, area_of_knowledge)"
   ]
  },
  {
   "cell_type": "code",
   "execution_count": 433,
   "id": "0e3e3581-871e-4c34-98b7-d10f5a917cee",
   "metadata": {},
   "outputs": [],
   "source": [
    "root_url = 'https://www.nejm.org'\n",
    "doi_root_url = 'https://doi.org'\n",
    "article_list_url = 'https://www.nejm.org/toc/nejm/387/'\n",
    "volume = 'Volume 387'\n",
    "area_of_knowledge = 'Health Sciences'"
   ]
  },
  {
   "cell_type": "code",
   "execution_count": 434,
   "id": "b9b4b5b2-ed74-4792-a286-425f824ca62f",
   "metadata": {},
   "outputs": [],
   "source": [
    "start_page = 12\n",
    "end_page = 12"
   ]
  },
  {
   "cell_type": "code",
   "execution_count": 435,
   "id": "8fc1d9c6-ea47-4762-9aeb-3680f305e0c1",
   "metadata": {},
   "outputs": [
    {
     "name": "stderr",
     "output_type": "stream",
     "text": [
      "100%|██████████| 1/1 [00:08<00:00,  8.45s/it]\n"
     ]
    }
   ],
   "source": [
    "df_v387i12 = scrape_articles(root_url, doi_root_url, article_list_url, start_page, end_page, volume, area_of_knowledge)"
   ]
  },
  {
   "cell_type": "code",
   "execution_count": 436,
   "id": "814d8524-f876-4e84-95a0-3036d139898a",
   "metadata": {},
   "outputs": [],
   "source": [
    "root_url = 'https://www.nejm.org'\n",
    "doi_root_url = 'https://doi.org'\n",
    "article_list_url = 'https://www.nejm.org/toc/nejm/387/'\n",
    "volume = 'Volume 387'\n",
    "area_of_knowledge = 'Health Sciences'"
   ]
  },
  {
   "cell_type": "code",
   "execution_count": 437,
   "id": "1202a31a-e871-4b89-a815-2dee2fb66783",
   "metadata": {},
   "outputs": [],
   "source": [
    "start_page = 13\n",
    "end_page = 13"
   ]
  },
  {
   "cell_type": "code",
   "execution_count": 438,
   "id": "f0be639d-c97a-4fd9-acab-5bed61b2bf57",
   "metadata": {},
   "outputs": [
    {
     "name": "stderr",
     "output_type": "stream",
     "text": [
      "100%|██████████| 1/1 [00:08<00:00,  8.50s/it]\n"
     ]
    }
   ],
   "source": [
    "df_v387i13 = scrape_articles(root_url, doi_root_url, article_list_url, start_page, end_page, volume, area_of_knowledge)"
   ]
  },
  {
   "cell_type": "code",
   "execution_count": 439,
   "id": "7fb04602-f7af-469f-b321-b8a622870b0e",
   "metadata": {},
   "outputs": [],
   "source": [
    "root_url = 'https://www.nejm.org'\n",
    "doi_root_url = 'https://doi.org'\n",
    "article_list_url = 'https://www.nejm.org/toc/nejm/387/'\n",
    "volume = 'Volume 387'\n",
    "area_of_knowledge = 'Health Sciences'"
   ]
  },
  {
   "cell_type": "code",
   "execution_count": 440,
   "id": "fabc83d7-a62c-4858-8091-049e5459d7f8",
   "metadata": {},
   "outputs": [],
   "source": [
    "start_page = 14\n",
    "end_page = 14"
   ]
  },
  {
   "cell_type": "code",
   "execution_count": 441,
   "id": "7901518e-6ef4-4ac1-9f6a-86f3a92e5641",
   "metadata": {},
   "outputs": [
    {
     "name": "stderr",
     "output_type": "stream",
     "text": [
      "100%|██████████| 1/1 [00:06<00:00,  6.99s/it]\n"
     ]
    }
   ],
   "source": [
    "df_v387i14 = scrape_articles(root_url, doi_root_url, article_list_url, start_page, end_page, volume, area_of_knowledge)"
   ]
  },
  {
   "cell_type": "code",
   "execution_count": 442,
   "id": "2b4edddf-ef43-4eb6-902b-c4744b4ce33d",
   "metadata": {},
   "outputs": [],
   "source": [
    "root_url = 'https://www.nejm.org'\n",
    "doi_root_url = 'https://doi.org'\n",
    "article_list_url = 'https://www.nejm.org/toc/nejm/387/'\n",
    "volume = 'Volume 387'\n",
    "area_of_knowledge = 'Health Sciences'"
   ]
  },
  {
   "cell_type": "code",
   "execution_count": 443,
   "id": "a9f51962-3a43-4b91-bd8b-966c28114bfe",
   "metadata": {},
   "outputs": [],
   "source": [
    "start_page = 15\n",
    "end_page = 15"
   ]
  },
  {
   "cell_type": "code",
   "execution_count": 444,
   "id": "5278a961-2d7b-4e98-881d-98a920e548cc",
   "metadata": {},
   "outputs": [
    {
     "name": "stderr",
     "output_type": "stream",
     "text": [
      "100%|██████████| 1/1 [00:09<00:00,  9.32s/it]\n"
     ]
    }
   ],
   "source": [
    "df_v387i15 = scrape_articles(root_url, doi_root_url, article_list_url, start_page, end_page, volume, area_of_knowledge)"
   ]
  },
  {
   "cell_type": "code",
   "execution_count": 445,
   "id": "ab1e68e0-a8fa-4683-9b35-4f931123f0a6",
   "metadata": {},
   "outputs": [],
   "source": [
    "root_url = 'https://www.nejm.org'\n",
    "doi_root_url = 'https://doi.org'\n",
    "article_list_url = 'https://www.nejm.org/toc/nejm/387/'\n",
    "volume = 'Volume 387'\n",
    "area_of_knowledge = 'Health Sciences'"
   ]
  },
  {
   "cell_type": "code",
   "execution_count": 446,
   "id": "4bab0145-a28d-41d7-9d9d-efa976d6f159",
   "metadata": {},
   "outputs": [],
   "source": [
    "start_page = 16\n",
    "end_page = 16"
   ]
  },
  {
   "cell_type": "code",
   "execution_count": 447,
   "id": "5daa9ad6-3e8b-44aa-969e-572ecb110d1f",
   "metadata": {},
   "outputs": [
    {
     "name": "stderr",
     "output_type": "stream",
     "text": [
      "100%|██████████| 1/1 [00:08<00:00,  8.44s/it]\n"
     ]
    }
   ],
   "source": [
    "df_v387i16 = scrape_articles(root_url, doi_root_url, article_list_url, start_page, end_page, volume, area_of_knowledge)"
   ]
  },
  {
   "cell_type": "code",
   "execution_count": 448,
   "id": "c2ebe283-8194-492d-8bc4-be137deacac3",
   "metadata": {},
   "outputs": [],
   "source": [
    "root_url = 'https://www.nejm.org'\n",
    "doi_root_url = 'https://doi.org'\n",
    "article_list_url = 'https://www.nejm.org/toc/nejm/387/'\n",
    "volume = 'Volume 387'\n",
    "area_of_knowledge = 'Health Sciences'"
   ]
  },
  {
   "cell_type": "code",
   "execution_count": 449,
   "id": "c89eecf4-1589-4f77-99f9-fbe656293312",
   "metadata": {},
   "outputs": [],
   "source": [
    "start_page = 17\n",
    "end_page = 17"
   ]
  },
  {
   "cell_type": "code",
   "execution_count": 450,
   "id": "5e00e609-7379-49cd-8c38-eeefb93f689c",
   "metadata": {},
   "outputs": [
    {
     "name": "stderr",
     "output_type": "stream",
     "text": [
      "100%|██████████| 1/1 [00:06<00:00,  6.42s/it]\n"
     ]
    }
   ],
   "source": [
    "df_v387i17 = scrape_articles(root_url, doi_root_url, article_list_url, start_page, end_page, volume, area_of_knowledge)"
   ]
  },
  {
   "cell_type": "code",
   "execution_count": 451,
   "id": "23ba9947-6259-4ce6-a42f-9de87e7249e8",
   "metadata": {},
   "outputs": [],
   "source": [
    "root_url = 'https://www.nejm.org'\n",
    "doi_root_url = 'https://doi.org'\n",
    "article_list_url = 'https://www.nejm.org/toc/nejm/387/'\n",
    "volume = 'Volume 387'\n",
    "area_of_knowledge = 'Health Sciences'"
   ]
  },
  {
   "cell_type": "code",
   "execution_count": 452,
   "id": "aaecb180-ca8e-4e3a-8289-39c0f09de110",
   "metadata": {},
   "outputs": [],
   "source": [
    "start_page = 18\n",
    "end_page = 18"
   ]
  },
  {
   "cell_type": "code",
   "execution_count": 453,
   "id": "05bdfa94-bc5b-4569-9d78-ebf9380ebd51",
   "metadata": {},
   "outputs": [
    {
     "name": "stderr",
     "output_type": "stream",
     "text": [
      "100%|██████████| 1/1 [00:08<00:00,  8.39s/it]\n"
     ]
    }
   ],
   "source": [
    "df_v387i18 = scrape_articles(root_url, doi_root_url, article_list_url, start_page, end_page, volume, area_of_knowledge)"
   ]
  },
  {
   "cell_type": "code",
   "execution_count": 454,
   "id": "0ff1bca5-0a01-4580-be51-0398f1fe1f4f",
   "metadata": {},
   "outputs": [],
   "source": [
    "root_url = 'https://www.nejm.org'\n",
    "doi_root_url = 'https://doi.org'\n",
    "article_list_url = 'https://www.nejm.org/toc/nejm/387/'\n",
    "volume = 'Volume 387'\n",
    "area_of_knowledge = 'Health Sciences'"
   ]
  },
  {
   "cell_type": "code",
   "execution_count": 455,
   "id": "a2614aa3-51e2-464e-9563-6facab0367cc",
   "metadata": {},
   "outputs": [],
   "source": [
    "start_page = 19\n",
    "end_page = 19"
   ]
  },
  {
   "cell_type": "code",
   "execution_count": 456,
   "id": "72863e03-0fad-4a74-9601-97a708383b2f",
   "metadata": {},
   "outputs": [
    {
     "name": "stderr",
     "output_type": "stream",
     "text": [
      "100%|██████████| 1/1 [00:06<00:00,  6.40s/it]\n"
     ]
    }
   ],
   "source": [
    "df_v387i19 = scrape_articles(root_url, doi_root_url, article_list_url, start_page, end_page, volume, area_of_knowledge)"
   ]
  },
  {
   "cell_type": "code",
   "execution_count": 457,
   "id": "6eaf8a7c-6031-485f-96fa-2ffc6b8eb9d5",
   "metadata": {},
   "outputs": [],
   "source": [
    "root_url = 'https://www.nejm.org'\n",
    "doi_root_url = 'https://doi.org'\n",
    "article_list_url = 'https://www.nejm.org/toc/nejm/387/'\n",
    "volume = 'Volume 387'\n",
    "area_of_knowledge = 'Health Sciences'"
   ]
  },
  {
   "cell_type": "code",
   "execution_count": 458,
   "id": "3dfa193f-a286-400c-a342-805997e5b3f6",
   "metadata": {},
   "outputs": [],
   "source": [
    "start_page = 20\n",
    "end_page = 20"
   ]
  },
  {
   "cell_type": "code",
   "execution_count": 459,
   "id": "3528f1c5-491a-4296-8e37-dbde5784dddf",
   "metadata": {},
   "outputs": [
    {
     "name": "stderr",
     "output_type": "stream",
     "text": [
      "100%|██████████| 1/1 [00:08<00:00,  8.32s/it]\n"
     ]
    }
   ],
   "source": [
    "df_v387i20 = scrape_articles(root_url, doi_root_url, article_list_url, start_page, end_page, volume, area_of_knowledge)"
   ]
  },
  {
   "cell_type": "code",
   "execution_count": 460,
   "id": "ecddaff8-3875-4ca2-b5aa-7e7d57d4a3ef",
   "metadata": {},
   "outputs": [],
   "source": [
    "root_url = 'https://www.nejm.org'\n",
    "doi_root_url = 'https://doi.org'\n",
    "article_list_url = 'https://www.nejm.org/toc/nejm/387/'\n",
    "volume = 'Volume 387'\n",
    "area_of_knowledge = 'Health Sciences'"
   ]
  },
  {
   "cell_type": "code",
   "execution_count": 461,
   "id": "a482a473-5a7b-4c9b-b016-cbf25a67a8d1",
   "metadata": {},
   "outputs": [],
   "source": [
    "start_page = 21\n",
    "end_page = 21"
   ]
  },
  {
   "cell_type": "code",
   "execution_count": 462,
   "id": "581663a1-3fc1-42ca-92d3-c2d4b42020a6",
   "metadata": {},
   "outputs": [
    {
     "name": "stderr",
     "output_type": "stream",
     "text": [
      "100%|██████████| 1/1 [00:08<00:00,  8.98s/it]\n"
     ]
    }
   ],
   "source": [
    "df_v387i21 = scrape_articles(root_url, doi_root_url, article_list_url, start_page, end_page, volume, area_of_knowledge)"
   ]
  },
  {
   "cell_type": "code",
   "execution_count": 463,
   "id": "d01e2b15-e0fd-45a9-9d3d-6351e9e6ecf8",
   "metadata": {},
   "outputs": [],
   "source": [
    "root_url = 'https://www.nejm.org'\n",
    "doi_root_url = 'https://doi.org'\n",
    "article_list_url = 'https://www.nejm.org/toc/nejm/387/'\n",
    "volume = 'Volume 387'\n",
    "area_of_knowledge = 'Health Sciences'"
   ]
  },
  {
   "cell_type": "code",
   "execution_count": 464,
   "id": "751008e9-ca59-49c7-bbd3-7798fa132c42",
   "metadata": {},
   "outputs": [],
   "source": [
    "start_page = 22\n",
    "end_page = 22"
   ]
  },
  {
   "cell_type": "code",
   "execution_count": 465,
   "id": "62e0a4dd-2803-409e-9459-80fa4711cc64",
   "metadata": {},
   "outputs": [
    {
     "name": "stderr",
     "output_type": "stream",
     "text": [
      "100%|██████████| 1/1 [00:06<00:00,  6.50s/it]\n"
     ]
    }
   ],
   "source": [
    "df_v387i22 = scrape_articles(root_url, doi_root_url, article_list_url, start_page, end_page, volume, area_of_knowledge)"
   ]
  },
  {
   "cell_type": "markdown",
   "id": "b57c6250-6bea-4b1e-968b-52c92992ffb2",
   "metadata": {},
   "source": [
    "##### Concatenating the DataFrames"
   ]
  },
  {
   "cell_type": "code",
   "execution_count": 488,
   "id": "47d2493c-d977-4537-bec8-1616b57126de",
   "metadata": {},
   "outputs": [],
   "source": [
    "df_new_england_journal_of_medicine = pd.concat([\n",
    "    df_v382i1, df_v382i2, df_v382i3, df_v382i4, df_v382i5, df_v382i6, df_v382i7, df_v382i8, df_v382i9, df_v382i10, df_v382i11, df_v382i12, df_v382i13, df_v382i14, df_v382i15, df_v382i16, df_v382i17, df_v382i18, df_v382i19, df_v382i20, df_v382i21, df_v382i22, df_v382i23, df_v382i24, df_v382i25, df_v382i26,\n",
    "    df_v383i1, df_v383i2, df_v383i3, df_v383i4, df_v383i5, df_v383i6, df_v383i7, df_v383i8, df_v383i9, df_v383i10, df_v383i11, df_v383i12, df_v383i13, df_v383i14, df_v383i15, df_v383i16, df_v383i17, df_v383i18, df_v383i19, df_v383i20, df_v383i21, df_v383i22, df_v383i23, df_v383i24, df_v383i25, df_v383i26, df_v383i27,\n",
    "    df_v384i1, df_v384i2, df_v384i3, df_v384i4, df_v384i5, df_v384i6, df_v384i7, df_v384i8, df_v384i9, df_v384i10, df_v384i11, df_v384i12, df_v384i13, df_v384i14, df_v384i15, df_v384i16, df_v384i17, df_v384i18, df_v384i19, df_v384i20, df_v384i21, df_v384i22, df_v384i23, df_v384i24, df_v384i25,\n",
    "    df_v385i1, df_v385i2, df_v385i3, df_v385i4, df_v385i5, df_v385i6, df_v385i7, df_v385i8, df_v385i9, df_v385i10, df_v385i11, df_v385i12, df_v385i13, df_v385i14, df_v385i15, df_v385i16, df_v385i17, df_v385i18, df_v385i19, df_v385i20, df_v385i21, df_v385i22, df_v385i23, df_v385i24, df_v385i25, df_v385i26, df_v385i27,\n",
    "    df_v386i1, df_v386i2, df_v386i3, df_v386i4, df_v386i5, df_v386i6, df_v386i7, df_v386i8, df_v386i9, df_v386i10, df_v386i11, df_v386i12, df_v386i13, df_v386i14, df_v386i15, df_v386i16, df_v386i17, df_v386i18, df_v386i19, df_v386i20, df_v386i21, df_v386i22, df_v386i23, df_v386i24, df_v386i25, df_v386i26,\n",
    "    df_v387i1, df_v387i2, df_v387i3, df_v387i4, df_v387i5, df_v387i6, df_v387i7, df_v387i8, df_v387i9, df_v387i10, df_v387i11, df_v387i12, df_v387i13, df_v387i14, df_v387i15, df_v387i16, df_v387i17, df_v387i18, df_v387i19, df_v387i20, df_v387i21, df_v387i22\n",
    "], ignore_index=True)"
   ]
  },
  {
   "cell_type": "code",
   "execution_count": 489,
   "id": "030d639a-67c5-41e7-978a-0d0a7a916267",
   "metadata": {},
   "outputs": [],
   "source": [
    "df_new_england_journal_of_medicine['Published'] = pd.to_datetime(\n",
    "    df_new_england_journal_of_medicine['Published'], format='mixed', errors='coerce'\n",
    ")"
   ]
  },
  {
   "cell_type": "code",
   "execution_count": 490,
   "id": "0f3ccd01-2c75-4398-90ae-06c4d8062239",
   "metadata": {},
   "outputs": [
    {
     "data": {
      "text/plain": [
       "Article Type                 object\n",
       "Title                        object\n",
       "URL                          object\n",
       "Authors                      object\n",
       "Vol/Issue                    object\n",
       "Published            datetime64[ns]\n",
       "DOI                          object\n",
       "Free Access                  object\n",
       "PDF URL                      object\n",
       "Area of Knowledge            object\n",
       "dtype: object"
      ]
     },
     "execution_count": 490,
     "metadata": {},
     "output_type": "execute_result"
    }
   ],
   "source": [
    "df_new_england_journal_of_medicine.dtypes"
   ]
  },
  {
   "cell_type": "markdown",
   "id": "658d519e-6dd9-4ce2-8e68-7abc87c6277c",
   "metadata": {},
   "source": [
    "##### Selecting the 'Open access' and 'Full text access' articles published before the advent of ChatGPT"
   ]
  },
  {
   "cell_type": "code",
   "execution_count": 491,
   "id": "d9ccd4b0-5c6e-4c90-86c5-989ab243a967",
   "metadata": {},
   "outputs": [
    {
     "data": {
      "text/plain": [
       "array(['FREE', ''], dtype=object)"
      ]
     },
     "execution_count": 491,
     "metadata": {},
     "output_type": "execute_result"
    }
   ],
   "source": [
    "unique_open_access = df_new_england_journal_of_medicine['Free Access'].dropna().unique()\n",
    "unique_open_access"
   ]
  },
  {
   "cell_type": "code",
   "execution_count": 492,
   "id": "19396497-ee4f-4f3c-ac4d-6f273613d949",
   "metadata": {},
   "outputs": [],
   "source": [
    "df_new_england_journal_of_medicine_open_access = df_new_england_journal_of_medicine[\n",
    "    (df_new_england_journal_of_medicine['Free Access'] == 'FREE')\n",
    "]\n",
    "df_new_england_journal_of_medicine_open_access = df_new_england_journal_of_medicine_open_access[df_new_england_journal_of_medicine_open_access['Published'] <= '2022-11-30']\n",
    "df_new_england_journal_of_medicine_open_access = df_new_england_journal_of_medicine_open_access.reset_index(drop=True)"
   ]
  },
  {
   "cell_type": "markdown",
   "id": "a8c3e5ef-3bd9-4539-b4ed-e30e55adda53",
   "metadata": {},
   "source": [
    "#### Retaining only the `Research articles`"
   ]
  },
  {
   "cell_type": "code",
   "execution_count": 493,
   "id": "761f96b9-be0a-4878-af05-58f605ce654f",
   "metadata": {},
   "outputs": [
    {
     "data": {
      "text/plain": [
       "array(['Perspective', 'Original Articles', 'Special Article',\n",
       "       'Editorials', 'Correspondence', 'Correction', 'Corrections',\n",
       "       'Special Report', 'Review Article', 'Sounding Board',\n",
       "       'Videos in Clinical Medicine',\n",
       "       'Case Records of the Massachusetts General Hospital',\n",
       "       'Clinical Implications of Basic Research', 'Medicine and Society',\n",
       "       'Points of View', 'Images in Clinical Medicine',\n",
       "       'Clinical Decisions', 'Clinical Practice',\n",
       "       'Interactive Medical Case', 'Clinical Problem-Solving'],\n",
       "      dtype=object)"
      ]
     },
     "execution_count": 493,
     "metadata": {},
     "output_type": "execute_result"
    }
   ],
   "source": [
    "unique_article_type = df_new_england_journal_of_medicine_open_access['Article Type'].dropna().unique()\n",
    "unique_article_type"
   ]
  },
  {
   "cell_type": "code",
   "execution_count": 494,
   "id": "46f00b64-9ac0-4faf-b1e7-bf47fb7bd150",
   "metadata": {},
   "outputs": [],
   "source": [
    "df_new_england_journal_of_medicine_open_access = df_new_england_journal_of_medicine_open_access.loc[\n",
    "    df_new_england_journal_of_medicine_open_access['Article Type'].isin(['Original Articles', 'Special Article', 'Review Article'])\n",
    "].reset_index(drop=True)"
   ]
  },
  {
   "cell_type": "code",
   "execution_count": 495,
   "id": "da1afe79-970e-4445-889d-c4d11529b9b5",
   "metadata": {},
   "outputs": [
    {
     "data": {
      "text/html": [
       "<div>\n",
       "<style scoped>\n",
       "    .dataframe tbody tr th:only-of-type {\n",
       "        vertical-align: middle;\n",
       "    }\n",
       "\n",
       "    .dataframe tbody tr th {\n",
       "        vertical-align: top;\n",
       "    }\n",
       "\n",
       "    .dataframe thead th {\n",
       "        text-align: right;\n",
       "    }\n",
       "</style>\n",
       "<table border=\"1\" class=\"dataframe\">\n",
       "  <thead>\n",
       "    <tr style=\"text-align: right;\">\n",
       "      <th></th>\n",
       "      <th>Article Type</th>\n",
       "      <th>Title</th>\n",
       "      <th>URL</th>\n",
       "      <th>Authors</th>\n",
       "      <th>Vol/Issue</th>\n",
       "      <th>Published</th>\n",
       "      <th>DOI</th>\n",
       "      <th>Free Access</th>\n",
       "      <th>PDF URL</th>\n",
       "      <th>Area of Knowledge</th>\n",
       "    </tr>\n",
       "  </thead>\n",
       "  <tbody>\n",
       "    <tr>\n",
       "      <th>0</th>\n",
       "      <td>Original Articles</td>\n",
       "      <td>A Comparison of Two LDL Cholesterol Targets af...</td>\n",
       "      <td>https://www.nejm.org/doi/full/10.1056/NEJMoa19...</td>\n",
       "      <td>P. Amarenco and Others</td>\n",
       "      <td>Volume 382, Issue 1</td>\n",
       "      <td>2019-11-18</td>\n",
       "      <td>https://doi.org10.1056/NEJMoa1910355</td>\n",
       "      <td>FREE</td>\n",
       "      <td>https://www.nejm.org/doi/pdf/10.1056/NEJMoa191...</td>\n",
       "      <td>Health Sciences</td>\n",
       "    </tr>\n",
       "    <tr>\n",
       "      <th>1</th>\n",
       "      <td>Original Articles</td>\n",
       "      <td>Alcohol Abstinence in Drinkers with Atrial Fib...</td>\n",
       "      <td>https://www.nejm.org/doi/full/10.1056/NEJMoa18...</td>\n",
       "      <td>A. Voskoboinik and Others</td>\n",
       "      <td>Volume 382, Issue 1</td>\n",
       "      <td>2020-01-01</td>\n",
       "      <td>https://doi.org10.1056/NEJMoa1817591</td>\n",
       "      <td>FREE</td>\n",
       "      <td>https://www.nejm.org/doi/pdf/10.1056/NEJMoa181...</td>\n",
       "      <td>Health Sciences</td>\n",
       "    </tr>\n",
       "    <tr>\n",
       "      <th>2</th>\n",
       "      <td>Original Articles</td>\n",
       "      <td>Multiyear Follow-up of AAV5-hFVIII-SQ Gene The...</td>\n",
       "      <td>https://www.nejm.org/doi/full/10.1056/NEJMoa19...</td>\n",
       "      <td>K.J. Pasi and Others</td>\n",
       "      <td>Volume 382, Issue 1</td>\n",
       "      <td>2020-01-01</td>\n",
       "      <td>https://doi.org10.1056/NEJMoa1908490</td>\n",
       "      <td>FREE</td>\n",
       "      <td>https://www.nejm.org/doi/pdf/10.1056/NEJMoa190...</td>\n",
       "      <td>Health Sciences</td>\n",
       "    </tr>\n",
       "    <tr>\n",
       "      <th>3</th>\n",
       "      <td>Original Articles</td>\n",
       "      <td>Overall Survival with Osimertinib in Untreated...</td>\n",
       "      <td>https://www.nejm.org/doi/full/10.1056/NEJMoa19...</td>\n",
       "      <td>S.S. Ramalingam and Others</td>\n",
       "      <td>Volume 382, Issue 1</td>\n",
       "      <td>2019-11-21</td>\n",
       "      <td>https://doi.org10.1056/NEJMoa1913662</td>\n",
       "      <td>FREE</td>\n",
       "      <td>https://www.nejm.org/doi/pdf/10.1056/NEJMoa191...</td>\n",
       "      <td>Health Sciences</td>\n",
       "    </tr>\n",
       "    <tr>\n",
       "      <th>4</th>\n",
       "      <td>Special Article</td>\n",
       "      <td>Changes in Quality of Care after Hospital Merg...</td>\n",
       "      <td>https://www.nejm.org/doi/full/10.1056/NEJMsa19...</td>\n",
       "      <td>N.D. Beaulieu and Others</td>\n",
       "      <td>Volume 382, Issue 1</td>\n",
       "      <td>2020-01-01</td>\n",
       "      <td>https://doi.org10.1056/NEJMsa1901383</td>\n",
       "      <td>FREE</td>\n",
       "      <td>https://www.nejm.org/doi/pdf/10.1056/NEJMsa190...</td>\n",
       "      <td>Health Sciences</td>\n",
       "    </tr>\n",
       "    <tr>\n",
       "      <th>...</th>\n",
       "      <td>...</td>\n",
       "      <td>...</td>\n",
       "      <td>...</td>\n",
       "      <td>...</td>\n",
       "      <td>...</td>\n",
       "      <td>...</td>\n",
       "      <td>...</td>\n",
       "      <td>...</td>\n",
       "      <td>...</td>\n",
       "      <td>...</td>\n",
       "    </tr>\n",
       "    <tr>\n",
       "      <th>662</th>\n",
       "      <td>Review Article</td>\n",
       "      <td>Fossil-Fuel Pollution and Climate Change:\\n   ...</td>\n",
       "      <td>https://www.nejm.org/doi/full/10.1056/NEJMra22...</td>\n",
       "      <td>M.C. Thomson and L.R. Stanberry</td>\n",
       "      <td>Volume 387, Issue 21</td>\n",
       "      <td>2022-11-23</td>\n",
       "      <td>https://doi.org10.1056/NEJMra2200092</td>\n",
       "      <td>FREE</td>\n",
       "      <td>https://www.nejm.org/doi/pdf/10.1056/NEJMra220...</td>\n",
       "      <td>Health Sciences</td>\n",
       "    </tr>\n",
       "    <tr>\n",
       "      <th>663</th>\n",
       "      <td>Original Articles</td>\n",
       "      <td>Renin–Angiotensin System Inhibition in Advance...</td>\n",
       "      <td>https://www.nejm.org/doi/full/10.1056/NEJMoa22...</td>\n",
       "      <td>S. Bhandari and Others</td>\n",
       "      <td>Volume 387, Issue 22</td>\n",
       "      <td>2022-11-03</td>\n",
       "      <td>https://doi.org10.1056/NEJMoa2210639</td>\n",
       "      <td>FREE</td>\n",
       "      <td>https://www.nejm.org/doi/pdf/10.1056/NEJMoa221...</td>\n",
       "      <td>Health Sciences</td>\n",
       "    </tr>\n",
       "    <tr>\n",
       "      <th>664</th>\n",
       "      <td>Original Articles</td>\n",
       "      <td>Buprenorphine versus Methadone for Opioid Use ...</td>\n",
       "      <td>https://www.nejm.org/doi/full/10.1056/NEJMoa22...</td>\n",
       "      <td>E.A. Suarez and Others</td>\n",
       "      <td>Volume 387, Issue 22</td>\n",
       "      <td>2022-11-30</td>\n",
       "      <td>https://doi.org10.1056/NEJMoa2203318</td>\n",
       "      <td>FREE</td>\n",
       "      <td>https://www.nejm.org/doi/pdf/10.1056/NEJMoa220...</td>\n",
       "      <td>Health Sciences</td>\n",
       "    </tr>\n",
       "    <tr>\n",
       "      <th>665</th>\n",
       "      <td>Original Articles</td>\n",
       "      <td>Trial of Deferiprone in Parkinson’s Disease</td>\n",
       "      <td>https://www.nejm.org/doi/full/10.1056/NEJMoa22...</td>\n",
       "      <td>D. Devos and Others</td>\n",
       "      <td>Volume 387, Issue 22</td>\n",
       "      <td>2022-11-30</td>\n",
       "      <td>https://doi.org10.1056/NEJMoa2209254</td>\n",
       "      <td>FREE</td>\n",
       "      <td>https://www.nejm.org/doi/pdf/10.1056/NEJMoa220...</td>\n",
       "      <td>Health Sciences</td>\n",
       "    </tr>\n",
       "    <tr>\n",
       "      <th>666</th>\n",
       "      <td>Original Articles</td>\n",
       "      <td>Trial of Training to Reduce Driver Inattention...</td>\n",
       "      <td>https://www.nejm.org/doi/full/10.1056/NEJMoa22...</td>\n",
       "      <td>J.N. Epstein and Others</td>\n",
       "      <td>Volume 387, Issue 22</td>\n",
       "      <td>2022-11-30</td>\n",
       "      <td>https://doi.org10.1056/NEJMoa2204783</td>\n",
       "      <td>FREE</td>\n",
       "      <td>https://www.nejm.org/doi/pdf/10.1056/NEJMoa220...</td>\n",
       "      <td>Health Sciences</td>\n",
       "    </tr>\n",
       "  </tbody>\n",
       "</table>\n",
       "<p>667 rows × 10 columns</p>\n",
       "</div>"
      ],
      "text/plain": [
       "          Article Type                                              Title  \\\n",
       "0    Original Articles  A Comparison of Two LDL Cholesterol Targets af...   \n",
       "1    Original Articles  Alcohol Abstinence in Drinkers with Atrial Fib...   \n",
       "2    Original Articles  Multiyear Follow-up of AAV5-hFVIII-SQ Gene The...   \n",
       "3    Original Articles  Overall Survival with Osimertinib in Untreated...   \n",
       "4      Special Article  Changes in Quality of Care after Hospital Merg...   \n",
       "..                 ...                                                ...   \n",
       "662     Review Article  Fossil-Fuel Pollution and Climate Change:\\n   ...   \n",
       "663  Original Articles  Renin–Angiotensin System Inhibition in Advance...   \n",
       "664  Original Articles  Buprenorphine versus Methadone for Opioid Use ...   \n",
       "665  Original Articles        Trial of Deferiprone in Parkinson’s Disease   \n",
       "666  Original Articles  Trial of Training to Reduce Driver Inattention...   \n",
       "\n",
       "                                                   URL  \\\n",
       "0    https://www.nejm.org/doi/full/10.1056/NEJMoa19...   \n",
       "1    https://www.nejm.org/doi/full/10.1056/NEJMoa18...   \n",
       "2    https://www.nejm.org/doi/full/10.1056/NEJMoa19...   \n",
       "3    https://www.nejm.org/doi/full/10.1056/NEJMoa19...   \n",
       "4    https://www.nejm.org/doi/full/10.1056/NEJMsa19...   \n",
       "..                                                 ...   \n",
       "662  https://www.nejm.org/doi/full/10.1056/NEJMra22...   \n",
       "663  https://www.nejm.org/doi/full/10.1056/NEJMoa22...   \n",
       "664  https://www.nejm.org/doi/full/10.1056/NEJMoa22...   \n",
       "665  https://www.nejm.org/doi/full/10.1056/NEJMoa22...   \n",
       "666  https://www.nejm.org/doi/full/10.1056/NEJMoa22...   \n",
       "\n",
       "                             Authors             Vol/Issue  Published  \\\n",
       "0             P. Amarenco and Others   Volume 382, Issue 1 2019-11-18   \n",
       "1          A. Voskoboinik and Others   Volume 382, Issue 1 2020-01-01   \n",
       "2               K.J. Pasi and Others   Volume 382, Issue 1 2020-01-01   \n",
       "3         S.S. Ramalingam and Others   Volume 382, Issue 1 2019-11-21   \n",
       "4           N.D. Beaulieu and Others   Volume 382, Issue 1 2020-01-01   \n",
       "..                               ...                   ...        ...   \n",
       "662  M.C. Thomson and L.R. Stanberry  Volume 387, Issue 21 2022-11-23   \n",
       "663           S. Bhandari and Others  Volume 387, Issue 22 2022-11-03   \n",
       "664           E.A. Suarez and Others  Volume 387, Issue 22 2022-11-30   \n",
       "665              D. Devos and Others  Volume 387, Issue 22 2022-11-30   \n",
       "666          J.N. Epstein and Others  Volume 387, Issue 22 2022-11-30   \n",
       "\n",
       "                                      DOI Free Access  \\\n",
       "0    https://doi.org10.1056/NEJMoa1910355        FREE   \n",
       "1    https://doi.org10.1056/NEJMoa1817591        FREE   \n",
       "2    https://doi.org10.1056/NEJMoa1908490        FREE   \n",
       "3    https://doi.org10.1056/NEJMoa1913662        FREE   \n",
       "4    https://doi.org10.1056/NEJMsa1901383        FREE   \n",
       "..                                    ...         ...   \n",
       "662  https://doi.org10.1056/NEJMra2200092        FREE   \n",
       "663  https://doi.org10.1056/NEJMoa2210639        FREE   \n",
       "664  https://doi.org10.1056/NEJMoa2203318        FREE   \n",
       "665  https://doi.org10.1056/NEJMoa2209254        FREE   \n",
       "666  https://doi.org10.1056/NEJMoa2204783        FREE   \n",
       "\n",
       "                                               PDF URL Area of Knowledge  \n",
       "0    https://www.nejm.org/doi/pdf/10.1056/NEJMoa191...   Health Sciences  \n",
       "1    https://www.nejm.org/doi/pdf/10.1056/NEJMoa181...   Health Sciences  \n",
       "2    https://www.nejm.org/doi/pdf/10.1056/NEJMoa190...   Health Sciences  \n",
       "3    https://www.nejm.org/doi/pdf/10.1056/NEJMoa191...   Health Sciences  \n",
       "4    https://www.nejm.org/doi/pdf/10.1056/NEJMsa190...   Health Sciences  \n",
       "..                                                 ...               ...  \n",
       "662  https://www.nejm.org/doi/pdf/10.1056/NEJMra220...   Health Sciences  \n",
       "663  https://www.nejm.org/doi/pdf/10.1056/NEJMoa221...   Health Sciences  \n",
       "664  https://www.nejm.org/doi/pdf/10.1056/NEJMoa220...   Health Sciences  \n",
       "665  https://www.nejm.org/doi/pdf/10.1056/NEJMoa220...   Health Sciences  \n",
       "666  https://www.nejm.org/doi/pdf/10.1056/NEJMoa220...   Health Sciences  \n",
       "\n",
       "[667 rows x 10 columns]"
      ]
     },
     "execution_count": 495,
     "metadata": {},
     "output_type": "execute_result"
    }
   ],
   "source": [
    "df_new_england_journal_of_medicine_open_access"
   ]
  },
  {
   "cell_type": "markdown",
   "id": "7d7d7a78-015c-434f-a5a3-3d2de7287dc5",
   "metadata": {},
   "source": [
    "#### Inspecting a few articles"
   ]
  },
  {
   "cell_type": "code",
   "execution_count": 496,
   "id": "7a0daa09-57e3-45da-ae69-b70dad62aebf",
   "metadata": {},
   "outputs": [
    {
     "data": {
      "text/plain": [
       "'https://www.nejm.org/doi/full/10.1056/NEJMsa1901383'"
      ]
     },
     "execution_count": 496,
     "metadata": {},
     "output_type": "execute_result"
    }
   ],
   "source": [
    "df_new_england_journal_of_medicine_open_access.at[4, 'URL']"
   ]
  },
  {
   "cell_type": "markdown",
   "id": "1a5150ad-c6fb-4af3-be03-185a6ba2846d",
   "metadata": {},
   "source": [
    "#### Exporting to a file"
   ]
  },
  {
   "cell_type": "code",
   "execution_count": 497,
   "id": "2bc2ec3c-7195-4229-bca5-be1ec4c9c4c9",
   "metadata": {},
   "outputs": [],
   "source": [
    "df_new_england_journal_of_medicine_open_access.to_json(f\"{output_directory}/new_england_journal_of_medicine_open_access.jsonl\", orient='records', lines=True)"
   ]
  },
  {
   "cell_type": "markdown",
   "id": "70d2b272-340d-4138-88e3-2c14cac21ffb",
   "metadata": {},
   "source": [
    "### Scraping [The Lancet](https://www.thelancet.com/journals/lancet/home)"
   ]
  },
  {
   "cell_type": "markdown",
   "id": "60b82122-60b2-4b51-ba2f-b6487a1cfcf3",
   "metadata": {},
   "source": [
    "This journal had no 'Open Access' articles at the time of data collection."
   ]
  },
  {
   "cell_type": "markdown",
   "id": "46234a25-f80c-4c82-87d3-ad6ded69478c",
   "metadata": {},
   "source": [
    "## Human Sciences"
   ]
  },
  {
   "cell_type": "markdown",
   "id": "a619f0f8-bd60-44e2-8347-b280e9ffbca6",
   "metadata": {},
   "source": [
    "### Scraping [Annual Review of Anthropology](https://www.annualreviews.org/content/journals/anthro)"
   ]
  },
  {
   "cell_type": "markdown",
   "id": "5c86671e-ccb1-4662-9c72-758511dc54c0",
   "metadata": {},
   "source": [
    "#### Scraping the articles"
   ]
  },
  {
   "cell_type": "markdown",
   "id": "b4b76dae-5aee-4cfc-8b09-026f35334dba",
   "metadata": {},
   "source": [
    "##### Function to scrape the articles"
   ]
  },
  {
   "cell_type": "markdown",
   "id": "a580ed4a-d225-4e7e-b6e0-63b36d4b176f",
   "metadata": {},
   "source": [
    "Make sure you run the function `scrape_articles` on section `Scraping Annual Review of Plant Biology` before scraping the articles."
   ]
  },
  {
   "cell_type": "markdown",
   "id": "04f6184d-1933-4810-9633-bf4903c2b290",
   "metadata": {},
   "source": [
    "##### Volume 51, 2022"
   ]
  },
  {
   "cell_type": "code",
   "execution_count": 33,
   "id": "dcdf0ffa-6c55-4f80-ae64-6e20710345b3",
   "metadata": {},
   "outputs": [],
   "source": [
    "root_url = 'https://www.annualreviews.org'\n",
    "article_list_url = 'https://www.annualreviews.org/content/journals/anthro/51/1?page='\n",
    "start_page = 1\n",
    "end_page = 2\n",
    "area_of_knowledge = 'Human Sciences'"
   ]
  },
  {
   "cell_type": "code",
   "execution_count": 34,
   "id": "f2550954-ca5b-4be4-8825-f66fbd9eed6d",
   "metadata": {},
   "outputs": [
    {
     "name": "stderr",
     "output_type": "stream",
     "text": [
      "100%|██████████| 2/2 [00:06<00:00,  3.32s/it]\n"
     ]
    }
   ],
   "source": [
    "df_2022 = scrape_articles(article_list_url, root_url, start_page, end_page, area_of_knowledge)"
   ]
  },
  {
   "cell_type": "markdown",
   "id": "8414abd6-014d-4b27-9c40-7fba22f2fbbd",
   "metadata": {},
   "source": [
    "##### Volume 50, 2021"
   ]
  },
  {
   "cell_type": "code",
   "execution_count": 35,
   "id": "3ac4624f-234f-459f-bf47-01733c9e90ce",
   "metadata": {},
   "outputs": [],
   "source": [
    "root_url = 'https://www.annualreviews.org'\n",
    "article_list_url = 'https://www.annualreviews.org/content/journals/anthro/50/1?page='\n",
    "start_page = 1\n",
    "end_page = 2\n",
    "area_of_knowledge = 'Human Sciences'"
   ]
  },
  {
   "cell_type": "code",
   "execution_count": 36,
   "id": "603bb0a0-4013-4b9b-94f5-f2b6eb152c97",
   "metadata": {},
   "outputs": [
    {
     "name": "stderr",
     "output_type": "stream",
     "text": [
      "100%|██████████| 2/2 [00:07<00:00,  3.77s/it]\n"
     ]
    }
   ],
   "source": [
    "df_2021 = scrape_articles(article_list_url, root_url, start_page, end_page, area_of_knowledge)"
   ]
  },
  {
   "cell_type": "markdown",
   "id": "91063347-f0de-4db1-93b6-351060342029",
   "metadata": {},
   "source": [
    "##### Volume 49, 2020"
   ]
  },
  {
   "cell_type": "code",
   "execution_count": 37,
   "id": "c22454bd-f202-462d-b2d7-3d9635ce5da5",
   "metadata": {},
   "outputs": [],
   "source": [
    "root_url = 'https://www.annualreviews.org'\n",
    "article_list_url = 'https://www.annualreviews.org/content/journals/anthro/49/1?page='\n",
    "start_page = 1\n",
    "end_page = 2\n",
    "area_of_knowledge = 'Human Sciences'"
   ]
  },
  {
   "cell_type": "code",
   "execution_count": 38,
   "id": "48954274-c90b-456e-8973-3ab3015cef6e",
   "metadata": {},
   "outputs": [
    {
     "name": "stderr",
     "output_type": "stream",
     "text": [
      "100%|██████████| 2/2 [00:07<00:00,  3.70s/it]\n"
     ]
    }
   ],
   "source": [
    "df_2020 = scrape_articles(article_list_url, root_url, start_page, end_page, area_of_knowledge)"
   ]
  },
  {
   "cell_type": "markdown",
   "id": "3cbd8dd3-40ad-4fb5-ab68-91f1f4047d0f",
   "metadata": {},
   "source": [
    "##### Concatenating the DataFrames"
   ]
  },
  {
   "cell_type": "code",
   "execution_count": 39,
   "id": "1550d0a4-348e-481b-af0e-edfc27e6d755",
   "metadata": {},
   "outputs": [
    {
     "data": {
      "text/html": [
       "<div>\n",
       "<style scoped>\n",
       "    .dataframe tbody tr th:only-of-type {\n",
       "        vertical-align: middle;\n",
       "    }\n",
       "\n",
       "    .dataframe tbody tr th {\n",
       "        vertical-align: top;\n",
       "    }\n",
       "\n",
       "    .dataframe thead th {\n",
       "        text-align: right;\n",
       "    }\n",
       "</style>\n",
       "<table border=\"1\" class=\"dataframe\">\n",
       "  <thead>\n",
       "    <tr style=\"text-align: right;\">\n",
       "      <th></th>\n",
       "      <th>Title</th>\n",
       "      <th>URL</th>\n",
       "      <th>Authors</th>\n",
       "      <th>Vol/Year/Page Range</th>\n",
       "      <th>DOI</th>\n",
       "      <th>Area of Knowledge</th>\n",
       "    </tr>\n",
       "  </thead>\n",
       "  <tbody>\n",
       "    <tr>\n",
       "      <th>0</th>\n",
       "      <td>Communities of Thought</td>\n",
       "      <td>https://www.annualreviews.org/content/journals...</td>\n",
       "      <td>Don Brenneis, , andKaren B. Strier</td>\n",
       "      <td>Vol. 51 \\n(2022),pp.v–vi</td>\n",
       "      <td>https://doi.org/10.1146/annurev-an-51-082222-1...</td>\n",
       "      <td>Human Sciences</td>\n",
       "    </tr>\n",
       "    <tr>\n",
       "      <th>1</th>\n",
       "      <td>Thinking in Between Disciplines</td>\n",
       "      <td>https://www.annualreviews.org/content/journals...</td>\n",
       "      <td>Elinor Ochs</td>\n",
       "      <td>Vol. 51 \\n(2022),pp.1–15</td>\n",
       "      <td>https://doi.org/10.1146/annurev-anthro-070120-...</td>\n",
       "      <td>Human Sciences</td>\n",
       "    </tr>\n",
       "    <tr>\n",
       "      <th>2</th>\n",
       "      <td>Bad Mouths: Taboo and Transgressive Language</td>\n",
       "      <td>https://www.annualreviews.org/content/journals...</td>\n",
       "      <td>Laura Miller</td>\n",
       "      <td>Vol. 51 \\n(2022),pp.17–30</td>\n",
       "      <td>https://doi.org/10.1146/annurev-anthro-041420-...</td>\n",
       "      <td>Human Sciences</td>\n",
       "    </tr>\n",
       "    <tr>\n",
       "      <th>3</th>\n",
       "      <td>The Necropolitics of Language Oppression</td>\n",
       "      <td>https://www.annualreviews.org/content/journals...</td>\n",
       "      <td>Gerald Roche</td>\n",
       "      <td>Vol. 51 \\n(2022),pp.31–47</td>\n",
       "      <td>https://doi.org/10.1146/annurev-anthro-041420-...</td>\n",
       "      <td>Human Sciences</td>\n",
       "    </tr>\n",
       "    <tr>\n",
       "      <th>4</th>\n",
       "      <td>The Carceral State: An American Story</td>\n",
       "      <td>https://www.annualreviews.org/content/journals...</td>\n",
       "      <td>Aisha Khan</td>\n",
       "      <td>Vol. 51 \\n(2022),pp.49–66</td>\n",
       "      <td>https://doi.org/10.1146/annurev-anthro-041420-...</td>\n",
       "      <td>Human Sciences</td>\n",
       "    </tr>\n",
       "    <tr>\n",
       "      <th>...</th>\n",
       "      <td>...</td>\n",
       "      <td>...</td>\n",
       "      <td>...</td>\n",
       "      <td>...</td>\n",
       "      <td>...</td>\n",
       "      <td>...</td>\n",
       "    </tr>\n",
       "    <tr>\n",
       "      <th>76</th>\n",
       "      <td>Madness: Recursive Ethnography and the Critica...</td>\n",
       "      <td>https://www.annualreviews.org/content/journals...</td>\n",
       "      <td>Sarah Pinto</td>\n",
       "      <td>Vol. 49 \\n(2020),pp.299–316</td>\n",
       "      <td>https://doi.org/10.1146/annurev-anthro-010220-...</td>\n",
       "      <td>Human Sciences</td>\n",
       "    </tr>\n",
       "    <tr>\n",
       "      <th>77</th>\n",
       "      <td>Socio-Ecological Challenges as Modulators of W...</td>\n",
       "      <td>https://www.annualreviews.org/content/journals...</td>\n",
       "      <td>Pablo A. Nepomnaschy, ,Amanda Rowlands, ,Ana P...</td>\n",
       "      <td>Vol. 49 \\n(2020),pp.317–336</td>\n",
       "      <td>https://doi.org/10.1146/annurev-anthro-102317-...</td>\n",
       "      <td>Human Sciences</td>\n",
       "    </tr>\n",
       "    <tr>\n",
       "      <th>78</th>\n",
       "      <td>Archaeology of Cuisine and Cooking</td>\n",
       "      <td>https://www.annualreviews.org/content/journals...</td>\n",
       "      <td>Sarah R. Graff</td>\n",
       "      <td>Vol. 49 \\n(2020),pp.337–354</td>\n",
       "      <td>https://doi.org/10.1146/annurev-anthro-102317-...</td>\n",
       "      <td>Human Sciences</td>\n",
       "    </tr>\n",
       "    <tr>\n",
       "      <th>79</th>\n",
       "      <td>Beyond the Household: Caribbean Families and B...</td>\n",
       "      <td>https://www.annualreviews.org/content/journals...</td>\n",
       "      <td>Robin G. Nelson</td>\n",
       "      <td>Vol. 49 \\n(2020),pp.355–372</td>\n",
       "      <td>https://doi.org/10.1146/annurev-anthro-102218-...</td>\n",
       "      <td>Human Sciences</td>\n",
       "    </tr>\n",
       "    <tr>\n",
       "      <th>80</th>\n",
       "      <td>Archaeology of Everyday Life</td>\n",
       "      <td>https://www.annualreviews.org/content/journals...</td>\n",
       "      <td>Cynthia Robin</td>\n",
       "      <td>Vol. 49 \\n(2020),pp.373–390</td>\n",
       "      <td>https://doi.org/10.1146/annurev-anthro-102218-...</td>\n",
       "      <td>Human Sciences</td>\n",
       "    </tr>\n",
       "  </tbody>\n",
       "</table>\n",
       "<p>81 rows × 6 columns</p>\n",
       "</div>"
      ],
      "text/plain": [
       "                                                Title  \\\n",
       "0                              Communities of Thought   \n",
       "1                     Thinking in Between Disciplines   \n",
       "2        Bad Mouths: Taboo and Transgressive Language   \n",
       "3            The Necropolitics of Language Oppression   \n",
       "4               The Carceral State: An American Story   \n",
       "..                                                ...   \n",
       "76  Madness: Recursive Ethnography and the Critica...   \n",
       "77  Socio-Ecological Challenges as Modulators of W...   \n",
       "78                 Archaeology of Cuisine and Cooking   \n",
       "79  Beyond the Household: Caribbean Families and B...   \n",
       "80                       Archaeology of Everyday Life   \n",
       "\n",
       "                                                  URL  \\\n",
       "0   https://www.annualreviews.org/content/journals...   \n",
       "1   https://www.annualreviews.org/content/journals...   \n",
       "2   https://www.annualreviews.org/content/journals...   \n",
       "3   https://www.annualreviews.org/content/journals...   \n",
       "4   https://www.annualreviews.org/content/journals...   \n",
       "..                                                ...   \n",
       "76  https://www.annualreviews.org/content/journals...   \n",
       "77  https://www.annualreviews.org/content/journals...   \n",
       "78  https://www.annualreviews.org/content/journals...   \n",
       "79  https://www.annualreviews.org/content/journals...   \n",
       "80  https://www.annualreviews.org/content/journals...   \n",
       "\n",
       "                                              Authors  \\\n",
       "0                  Don Brenneis, , andKaren B. Strier   \n",
       "1                                         Elinor Ochs   \n",
       "2                                        Laura Miller   \n",
       "3                                        Gerald Roche   \n",
       "4                                          Aisha Khan   \n",
       "..                                                ...   \n",
       "76                                        Sarah Pinto   \n",
       "77  Pablo A. Nepomnaschy, ,Amanda Rowlands, ,Ana P...   \n",
       "78                                     Sarah R. Graff   \n",
       "79                                    Robin G. Nelson   \n",
       "80                                      Cynthia Robin   \n",
       "\n",
       "            Vol/Year/Page Range  \\\n",
       "0      Vol. 51 \\n(2022),pp.v–vi   \n",
       "1      Vol. 51 \\n(2022),pp.1–15   \n",
       "2     Vol. 51 \\n(2022),pp.17–30   \n",
       "3     Vol. 51 \\n(2022),pp.31–47   \n",
       "4     Vol. 51 \\n(2022),pp.49–66   \n",
       "..                          ...   \n",
       "76  Vol. 49 \\n(2020),pp.299–316   \n",
       "77  Vol. 49 \\n(2020),pp.317–336   \n",
       "78  Vol. 49 \\n(2020),pp.337–354   \n",
       "79  Vol. 49 \\n(2020),pp.355–372   \n",
       "80  Vol. 49 \\n(2020),pp.373–390   \n",
       "\n",
       "                                                  DOI Area of Knowledge  \n",
       "0   https://doi.org/10.1146/annurev-an-51-082222-1...    Human Sciences  \n",
       "1   https://doi.org/10.1146/annurev-anthro-070120-...    Human Sciences  \n",
       "2   https://doi.org/10.1146/annurev-anthro-041420-...    Human Sciences  \n",
       "3   https://doi.org/10.1146/annurev-anthro-041420-...    Human Sciences  \n",
       "4   https://doi.org/10.1146/annurev-anthro-041420-...    Human Sciences  \n",
       "..                                                ...               ...  \n",
       "76  https://doi.org/10.1146/annurev-anthro-010220-...    Human Sciences  \n",
       "77  https://doi.org/10.1146/annurev-anthro-102317-...    Human Sciences  \n",
       "78  https://doi.org/10.1146/annurev-anthro-102317-...    Human Sciences  \n",
       "79  https://doi.org/10.1146/annurev-anthro-102218-...    Human Sciences  \n",
       "80  https://doi.org/10.1146/annurev-anthro-102218-...    Human Sciences  \n",
       "\n",
       "[81 rows x 6 columns]"
      ]
     },
     "execution_count": 39,
     "metadata": {},
     "output_type": "execute_result"
    }
   ],
   "source": [
    "df_ar_anthropology = pd.concat([df_2022, df_2021, df_2020], ignore_index=True)\n",
    "df_ar_anthropology"
   ]
  },
  {
   "cell_type": "markdown",
   "id": "831ba9aa-fae1-4ef3-a3aa-298f7f5b5ab8",
   "metadata": {},
   "source": [
    "#### Inspecting a few articles"
   ]
  },
  {
   "cell_type": "markdown",
   "id": "91bb7154-1107-4fb3-8b26-5de514282582",
   "metadata": {},
   "source": [
    "**Attention**: Some of the documents might in fact be `Editorials` rather than `Research articles`. Extra refinement is recommended when using the dataset."
   ]
  },
  {
   "cell_type": "code",
   "execution_count": 40,
   "id": "517b74f4-4224-4293-8400-61cdc04312a7",
   "metadata": {},
   "outputs": [
    {
     "data": {
      "text/plain": [
       "'https://www.annualreviews.org/content/journals/10.1146/annurev-an-51-082222-100001'"
      ]
     },
     "execution_count": 40,
     "metadata": {},
     "output_type": "execute_result"
    }
   ],
   "source": [
    "df_ar_anthropology.at[0, 'URL']"
   ]
  },
  {
   "cell_type": "markdown",
   "id": "ab3e7a38-e1e0-40e4-82d0-e4af54326d32",
   "metadata": {},
   "source": [
    "#### Exporting to a file"
   ]
  },
  {
   "cell_type": "code",
   "execution_count": 41,
   "id": "8d56b099-f49b-4ca0-9ae9-d42d53f1f315",
   "metadata": {},
   "outputs": [],
   "source": [
    "df_ar_anthropology.to_json(f\"{output_directory}/ar_anthropology.jsonl\", orient='records', lines=True)"
   ]
  },
  {
   "cell_type": "markdown",
   "id": "7fc8f8cf-3af0-463e-99b3-c6a15fa0a713",
   "metadata": {},
   "source": [
    "### Scraping [Journal of Human Evolution](https://www.sciencedirect.com/journal/journal-of-human-evolution)"
   ]
  },
  {
   "cell_type": "markdown",
   "id": "ce72c152-3a61-4ecd-97b1-45a4a3328054",
   "metadata": {},
   "source": [
    "#### Capturing a few document pages for inspection"
   ]
  },
  {
   "cell_type": "code",
   "execution_count": 3,
   "id": "3e73dd96-7b32-4d6b-abc3-357d1b4bbe1e",
   "metadata": {},
   "outputs": [],
   "source": [
    "url_sample_1 = 'https://www.sciencedirect.com/journal/journal-of-human-evolution/vol/138/suppl/C'\n",
    "url_sample_11 = 'https://www.sciencedirect.com/science/article/pii/S0047248419303124'"
   ]
  },
  {
   "cell_type": "code",
   "execution_count": 6,
   "id": "ecf4ee76-7ec4-43fb-b3bd-73d247c5d0e6",
   "metadata": {},
   "outputs": [],
   "source": [
    "# Setting up the WebDriver (make sure you have downloaded the Microsoft Edge WebDriver executable)\n",
    "# https://developer.microsoft.com/en-us/microsoft-edge/tools/webdriver/\n",
    "service = Service(r'C:\\Users\\eyamr\\OneDrive\\00-Technology\\laelgelc\\edgedriver_win64\\msedgedriver.exe')\n",
    "driver = webdriver.Edge(service=service)\n",
    "\n",
    "# Navigating to target URL 1 and saving its web page\n",
    "driver.get(url_sample_1)\n",
    "wait = WebDriverWait(driver, 10)\n",
    "#time.sleep(15)  # Waits for 15 seconds\n",
    "#wait.until(EC.presence_of_element_located((By.TAG_NAME, 'html')))\n",
    "\n",
    "# Extra reliability check: Wait until the page source stops changing\n",
    "max_wait_time = 30  # Max time in seconds\n",
    "start_time = time.time()\n",
    "previous_html = ''\n",
    "while True:\n",
    "    current_html = driver.page_source\n",
    "    if current_html == previous_html or time.time() - start_time > max_wait_time:\n",
    "        break  # Exit loop if page stops changing or max wait time is exceeded\n",
    "    previous_html = current_html\n",
    "    time.sleep(2)  # Short delay before checking again\n",
    "\n",
    "# Now, the page is fully loaded - extract content!\n",
    "\n",
    "document_page_sample_1 = driver.page_source\n",
    "\n",
    "with open(f'{output_directory}/journal_human_evolution_sample1.html', 'w', encoding='utf8', newline='\\n') as file:\n",
    "    file.write(document_page_sample_1)\n",
    "\n",
    "# Navigating to target URL 2 and saving its web page\n",
    "driver.get(url_sample_11)\n",
    "wait = WebDriverWait(driver, 10)\n",
    "#time.sleep(15)  # Waits for 15 seconds\n",
    "#wait.until(EC.presence_of_element_located((By.TAG_NAME, 'html')))\n",
    "\n",
    "# Extra reliability check: Wait until the page source stops changing\n",
    "max_wait_time = 30  # Max time in seconds\n",
    "start_time = time.time()\n",
    "previous_html = ''\n",
    "while True:\n",
    "    current_html = driver.page_source\n",
    "    if current_html == previous_html or time.time() - start_time > max_wait_time:\n",
    "        break  # Exit loop if page stops changing or max wait time is exceeded\n",
    "    previous_html = current_html\n",
    "    time.sleep(2)  # Short delay before checking again\n",
    "\n",
    "# Now, the page is fully loaded - extract content!\n",
    "\n",
    "document_page_sample_11 = driver.page_source\n",
    "\n",
    "with open(f'{output_directory}/journal_human_evolution_sample11.html', 'w', encoding='utf8', newline='\\n') as file:\n",
    "    file.write(document_page_sample_11)\n",
    "\n",
    "# Closing the WebDriver\n",
    "driver.quit()"
   ]
  },
  {
   "cell_type": "markdown",
   "id": "69f7b893-ea5c-4277-aedd-c3c232ada735",
   "metadata": {},
   "source": [
    "#### Scraping the articles"
   ]
  },
  {
   "cell_type": "markdown",
   "id": "6fdd6249-192e-4518-bd1e-5994901b23ec",
   "metadata": {},
   "source": [
    "##### Function to scrape the articles"
   ]
  },
  {
   "cell_type": "code",
   "execution_count": 33,
   "id": "8b10c32b-1c22-4795-96c1-635516257e5a",
   "metadata": {},
   "outputs": [],
   "source": [
    "def scrape_articles(article_list_url1, article_list_url2, root_url, start_page, end_page, area_of_knowledge):\n",
    "    # Setting up the WebDriver\n",
    "    service = Service(r'C:\\Users\\eyamr\\OneDrive\\00-Technology\\laelgelc\\edgedriver_win64\\msedgedriver.exe')\n",
    "    driver = webdriver.Edge(service=service)\n",
    "\n",
    "    data = []\n",
    "\n",
    "    for i in tqdm(range(start_page, end_page + 1)):\n",
    "        url = f\"{article_list_url1}{i}{article_list_url2}\"\n",
    "        driver.get(url)\n",
    "        wait = WebDriverWait(driver, 10)\n",
    "        #wait.until(EC.presence_of_element_located((By.TAG_NAME, 'html')))\n",
    "        max_wait_time = 30\n",
    "        start_time = time.time()\n",
    "        previous_html = ''\n",
    "        while True:\n",
    "            current_html = driver.page_source\n",
    "            if current_html == previous_html or time.time() - start_time > max_wait_time:\n",
    "                break\n",
    "            previous_html = current_html\n",
    "            time.sleep(2)\n",
    "        page = driver.page_source\n",
    "        soup = BeautifulSoup(page, 'lxml')\n",
    "\n",
    "        volume_issue_tag = soup.find('h2', class_='u-text-light js-vol-issue')\n",
    "        volume_issue = volume_issue_tag.get_text(strip=True) if volume_issue_tag else ''\n",
    "\n",
    "        month_year_tag = soup.find('h3', class_='js-issue-status text-s')\n",
    "        month_year = month_year_tag.get_text(strip=True) if month_year_tag else ''\n",
    "\n",
    "        articles = soup.find_all('li', class_='js-article-list-item article-item u-padding-xs-top u-margin-l-bottom')\n",
    "\n",
    "        for article in articles:\n",
    "            article_type_tag = article.find('span', class_='js-article-subtype')\n",
    "            article_type = article_type_tag.get_text(strip=True) if article_type_tag else ''\n",
    "\n",
    "            title_tag = article.find('span', class_='js-article-title text-l')\n",
    "            title = title_tag.get_text(strip=True) if title_tag else ''\n",
    "\n",
    "            article_url_tag = article.find('h3', class_='text-m u-font-serif u-display-inline').find('a')\n",
    "            article_url = root_url + article_url_tag['href'] if article_url_tag else ''\n",
    "\n",
    "            authors_tags = article.find('div', class_='text-s u-clr-grey8 js-article__item__authors')\n",
    "            authors = authors_tags.get_text(strip=True) if authors_tags else ''\n",
    "\n",
    "            doi_tag = article.find('div', attrs={'hidden': True})  # Explicitly target the 'hidden' attribute\n",
    "            doi = doi_tag.get_text(strip=True) if doi_tag else ''\n",
    "\n",
    "            open_access_tag = article.find('span', class_='js-open-access u-text-italic')\n",
    "            open_access = open_access_tag.get_text(strip=True) if open_access_tag else ''\n",
    "\n",
    "            open_access1_tag = article.find('span', class_='js-open-access')\n",
    "            open_access1 = open_access1_tag.get_text(strip=True) if open_access1_tag else ''\n",
    "\n",
    "            pdf_url_tag = article.find('dd', class_='js-article-link u-margin-xs-top u-margin-s-bottom article-item-link')\n",
    "            pdf_url = root_url + pdf_url_tag.find('a')['href'] if pdf_url_tag and pdf_url_tag.find('a') else ''\n",
    "\n",
    "            data.append({\n",
    "                'Article Type': article_type,\n",
    "                'Title': title,\n",
    "                'URL': article_url,\n",
    "                'Authors': authors,\n",
    "                'Vol/Issue': volume_issue,\n",
    "                'Published': month_year,\n",
    "                'DOI': doi,\n",
    "                'Open Access': open_access,\n",
    "                'Open Access 1': open_access1,\n",
    "                'PDF URL': pdf_url,\n",
    "                'Area of Knowledge': area_of_knowledge\n",
    "            })\n",
    "\n",
    "    driver.quit()\n",
    "\n",
    "    return pd.DataFrame(data)"
   ]
  },
  {
   "cell_type": "markdown",
   "id": "f46a0b3d-541d-4bd7-8d11-58d75a65ccac",
   "metadata": {},
   "source": [
    "##### Volumes 138 to 172"
   ]
  },
  {
   "cell_type": "code",
   "execution_count": 34,
   "id": "4993f12d-6e57-44ee-a3a5-dd4066666de1",
   "metadata": {},
   "outputs": [],
   "source": [
    "root_url = 'https://www.sciencedirect.com/'\n",
    "article_list_url1 = 'https://www.sciencedirect.com/journal/journal-of-human-evolution/vol/'\n",
    "article_list_url2 = '/suppl/C'\n",
    "start_page = 138\n",
    "end_page = 172\n",
    "area_of_knowledge = 'Human Sciences'"
   ]
  },
  {
   "cell_type": "code",
   "execution_count": 35,
   "id": "4ba83067-1395-411a-8ae0-372fe26a782e",
   "metadata": {},
   "outputs": [
    {
     "name": "stderr",
     "output_type": "stream",
     "text": [
      "100%|██████████| 35/35 [03:29<00:00,  6.00s/it]\n"
     ]
    }
   ],
   "source": [
    "df_journal_human_evolution = scrape_articles(article_list_url1, article_list_url2, root_url, start_page, end_page, area_of_knowledge)"
   ]
  },
  {
   "cell_type": "code",
   "execution_count": 36,
   "id": "4b9b1df6-20fe-4462-934d-8a9997a6ea82",
   "metadata": {},
   "outputs": [],
   "source": [
    "df_journal_human_evolution['Published'] = pd.to_datetime(\n",
    "    df_journal_human_evolution['Published'], format='%B %Y'\n",
    ")"
   ]
  },
  {
   "cell_type": "code",
   "execution_count": 37,
   "id": "29a74ab3-543a-4283-9b7e-da6decfb29c8",
   "metadata": {},
   "outputs": [
    {
     "data": {
      "text/plain": [
       "Article Type                 object\n",
       "Title                        object\n",
       "URL                          object\n",
       "Authors                      object\n",
       "Vol/Issue                    object\n",
       "Published            datetime64[ns]\n",
       "DOI                          object\n",
       "Open Access                  object\n",
       "Open Access 1                object\n",
       "PDF URL                      object\n",
       "Area of Knowledge            object\n",
       "dtype: object"
      ]
     },
     "execution_count": 37,
     "metadata": {},
     "output_type": "execute_result"
    }
   ],
   "source": [
    "df_journal_human_evolution.dtypes"
   ]
  },
  {
   "cell_type": "markdown",
   "id": "e99b290d-df3f-40c5-9a5e-3647a4fbfd71",
   "metadata": {},
   "source": [
    "##### Selecting the 'Open access' and 'Full text access' articles published before the advent of ChatGPT"
   ]
  },
  {
   "cell_type": "code",
   "execution_count": 38,
   "id": "a197f70c-69ce-4f90-bcb8-8ab26e8c52f6",
   "metadata": {},
   "outputs": [
    {
     "data": {
      "text/plain": [
       "array(['', 'Open access'], dtype=object)"
      ]
     },
     "execution_count": 38,
     "metadata": {},
     "output_type": "execute_result"
    }
   ],
   "source": [
    "unique_open_access = df_journal_human_evolution['Open Access'].dropna().unique()\n",
    "unique_open_access"
   ]
  },
  {
   "cell_type": "code",
   "execution_count": 39,
   "id": "2f2b646e-8ef1-401d-a239-bf111d1ab85e",
   "metadata": {},
   "outputs": [
    {
     "data": {
      "text/plain": [
       "array(['Full text access', 'Abstract only', 'No access', 'Open access'],\n",
       "      dtype=object)"
      ]
     },
     "execution_count": 39,
     "metadata": {},
     "output_type": "execute_result"
    }
   ],
   "source": [
    "unique_open_access1 = df_journal_human_evolution['Open Access 1'].dropna().unique()\n",
    "unique_open_access1"
   ]
  },
  {
   "cell_type": "code",
   "execution_count": 40,
   "id": "50470cf3-854e-40e6-813f-6183b995fe58",
   "metadata": {},
   "outputs": [],
   "source": [
    "df_journal_human_evolution_open_access = df_journal_human_evolution[\n",
    "    (df_journal_human_evolution['Open Access'] == 'Open access') | \n",
    "    (df_journal_human_evolution['Open Access 1'] == 'Full text access') | \n",
    "    (df_journal_human_evolution['Open Access 1'] == 'Open access')\n",
    "]\n",
    "df_journal_human_evolution_open_access = df_journal_human_evolution_open_access[df_journal_human_evolution_open_access['Published'] <= '2022-11-30']\n",
    "df_journal_human_evolution_open_access = df_journal_human_evolution_open_access.reset_index(drop=True)"
   ]
  },
  {
   "cell_type": "markdown",
   "id": "36642a60-c56c-46c2-acfb-7e360f5bdc69",
   "metadata": {},
   "source": [
    "#### Retaining only the `Research articles`"
   ]
  },
  {
   "cell_type": "code",
   "execution_count": 41,
   "id": "fd405cb6-4ec2-49a5-9f21-a966dc043471",
   "metadata": {},
   "outputs": [
    {
     "data": {
      "text/html": [
       "<div>\n",
       "<style scoped>\n",
       "    .dataframe tbody tr th:only-of-type {\n",
       "        vertical-align: middle;\n",
       "    }\n",
       "\n",
       "    .dataframe tbody tr th {\n",
       "        vertical-align: top;\n",
       "    }\n",
       "\n",
       "    .dataframe thead th {\n",
       "        text-align: right;\n",
       "    }\n",
       "</style>\n",
       "<table border=\"1\" class=\"dataframe\">\n",
       "  <thead>\n",
       "    <tr style=\"text-align: right;\">\n",
       "      <th></th>\n",
       "      <th>Article Type</th>\n",
       "      <th>Title</th>\n",
       "      <th>URL</th>\n",
       "      <th>Authors</th>\n",
       "      <th>Vol/Issue</th>\n",
       "      <th>Published</th>\n",
       "      <th>DOI</th>\n",
       "      <th>Open Access</th>\n",
       "      <th>Open Access 1</th>\n",
       "      <th>PDF URL</th>\n",
       "      <th>Area of Knowledge</th>\n",
       "    </tr>\n",
       "  </thead>\n",
       "  <tbody>\n",
       "    <tr>\n",
       "      <th>0</th>\n",
       "      <td>Research article</td>\n",
       "      <td>Increased terrestriality in a Neotropical prim...</td>\n",
       "      <td>https://www.sciencedirect.com//science/article...</td>\n",
       "      <td>Claudio M. Monteza-Moreno, Margaret C. Crofoot...</td>\n",
       "      <td>Volume 143</td>\n",
       "      <td>2020-06-01</td>\n",
       "      <td>https://doi.org/10.1016/j.jhevol.2020.102768</td>\n",
       "      <td>Open access</td>\n",
       "      <td>Open access</td>\n",
       "      <td>https://www.sciencedirect.com//science/article...</td>\n",
       "      <td>Human Sciences</td>\n",
       "    </tr>\n",
       "    <tr>\n",
       "      <th>1</th>\n",
       "      <td>Research article</td>\n",
       "      <td>Mesopithecus pentelicusfrom Zhaotong, China, t...</td>\n",
       "      <td>https://www.sciencedirect.com//science/article...</td>\n",
       "      <td>Nina G. Jablonski, Xueping Ji, Jay Kelley, Law...</td>\n",
       "      <td>Volume 146</td>\n",
       "      <td>2020-09-01</td>\n",
       "      <td>https://doi.org/10.1016/j.jhevol.2020.102851</td>\n",
       "      <td>Open access</td>\n",
       "      <td>Open access</td>\n",
       "      <td>https://www.sciencedirect.com//science/article...</td>\n",
       "      <td>Human Sciences</td>\n",
       "    </tr>\n",
       "    <tr>\n",
       "      <th>2</th>\n",
       "      <td>Research article</td>\n",
       "      <td>Mitogenomics of macaques (Macaca) across Walla...</td>\n",
       "      <td>https://www.sciencedirect.com//science/article...</td>\n",
       "      <td>Ben J. Evans, Marie-Theres Gansauge, Matthew W...</td>\n",
       "      <td>Volume 146</td>\n",
       "      <td>2020-09-01</td>\n",
       "      <td>https://doi.org/10.1016/j.jhevol.2020.102852</td>\n",
       "      <td>Open access</td>\n",
       "      <td>Open access</td>\n",
       "      <td>https://www.sciencedirect.com//science/article...</td>\n",
       "      <td>Human Sciences</td>\n",
       "    </tr>\n",
       "    <tr>\n",
       "      <th>3</th>\n",
       "      <td>Research article</td>\n",
       "      <td>Patterns of urinary cortisol levels during ont...</td>\n",
       "      <td>https://www.sciencedirect.com//science/article...</td>\n",
       "      <td>Patrick J. Tkaczynski, Verena Behringer, Corin...</td>\n",
       "      <td>Volume 147</td>\n",
       "      <td>2020-10-01</td>\n",
       "      <td>https://doi.org/10.1016/j.jhevol.2020.102869</td>\n",
       "      <td>Open access</td>\n",
       "      <td>Open access</td>\n",
       "      <td>https://www.sciencedirect.com//science/article...</td>\n",
       "      <td>Human Sciences</td>\n",
       "    </tr>\n",
       "    <tr>\n",
       "      <th>4</th>\n",
       "      <td>Research article</td>\n",
       "      <td>Early anthropogenic use of hematite on Aurigna...</td>\n",
       "      <td>https://www.sciencedirect.com//science/article...</td>\n",
       "      <td>Elizabeth C. Velliky, Patrick Schmidt, Ludovic...</td>\n",
       "      <td>Volume 150</td>\n",
       "      <td>2021-01-01</td>\n",
       "      <td>https://doi.org/10.1016/j.jhevol.2020.102900</td>\n",
       "      <td>Open access</td>\n",
       "      <td>Open access</td>\n",
       "      <td>https://www.sciencedirect.com//science/article...</td>\n",
       "      <td>Human Sciences</td>\n",
       "    </tr>\n",
       "    <tr>\n",
       "      <th>5</th>\n",
       "      <td>Research article</td>\n",
       "      <td>A West African Middle Stone Age site dated to ...</td>\n",
       "      <td>https://www.sciencedirect.com//science/article...</td>\n",
       "      <td>Katja Douze, Laurent Lespez, Michel Rasse, Cha...</td>\n",
       "      <td>Volume 154</td>\n",
       "      <td>2021-05-01</td>\n",
       "      <td>https://doi.org/10.1016/j.jhevol.2021.102952</td>\n",
       "      <td>Open access</td>\n",
       "      <td>Open access</td>\n",
       "      <td>https://www.sciencedirect.com//science/article...</td>\n",
       "      <td>Human Sciences</td>\n",
       "    </tr>\n",
       "    <tr>\n",
       "      <th>6</th>\n",
       "      <td>Research article</td>\n",
       "      <td>Dietary evidence from Central Asian Neandertha...</td>\n",
       "      <td>https://www.sciencedirect.com//science/article...</td>\n",
       "      <td>Domingo C. Salazar-García, Robert C. Power, Na...</td>\n",
       "      <td>Volume 156</td>\n",
       "      <td>2021-07-01</td>\n",
       "      <td>https://doi.org/10.1016/j.jhevol.2021.102985</td>\n",
       "      <td>Open access</td>\n",
       "      <td>Open access</td>\n",
       "      <td>https://www.sciencedirect.com//science/article...</td>\n",
       "      <td>Human Sciences</td>\n",
       "    </tr>\n",
       "    <tr>\n",
       "      <th>7</th>\n",
       "      <td>Research article</td>\n",
       "      <td>Dental microstructure records life history eve...</td>\n",
       "      <td>https://www.sciencedirect.com//science/article...</td>\n",
       "      <td>Simone A.M. Lemmers, Wendy Dirks, Sally E. Str...</td>\n",
       "      <td>Volume 158</td>\n",
       "      <td>2021-09-01</td>\n",
       "      <td>https://doi.org/10.1016/j.jhevol.2021.103046</td>\n",
       "      <td>Open access</td>\n",
       "      <td>Open access</td>\n",
       "      <td>https://www.sciencedirect.com//science/article...</td>\n",
       "      <td>Human Sciences</td>\n",
       "    </tr>\n",
       "    <tr>\n",
       "      <th>8</th>\n",
       "      <td>Research article</td>\n",
       "      <td>Evidence of habitual behavior from non-aliment...</td>\n",
       "      <td>https://www.sciencedirect.com//science/article...</td>\n",
       "      <td>Almudena Estalrrich, Ana B. Marín-Arroyo</td>\n",
       "      <td>Volume 158</td>\n",
       "      <td>2021-09-01</td>\n",
       "      <td>https://doi.org/10.1016/j.jhevol.2021.103047</td>\n",
       "      <td>Open access</td>\n",
       "      <td>Open access</td>\n",
       "      <td>https://www.sciencedirect.com//science/article...</td>\n",
       "      <td>Human Sciences</td>\n",
       "    </tr>\n",
       "    <tr>\n",
       "      <th>9</th>\n",
       "      <td>Research article</td>\n",
       "      <td>Effects of hybridization on pelvic morphology:...</td>\n",
       "      <td>https://www.sciencedirect.com//science/article...</td>\n",
       "      <td>Laura T. Buck, David C. Katz, Rebecca Rogers A...</td>\n",
       "      <td>Volume 159</td>\n",
       "      <td>2021-10-01</td>\n",
       "      <td>https://doi.org/10.1016/j.jhevol.2021.103049</td>\n",
       "      <td>Open access</td>\n",
       "      <td>Open access</td>\n",
       "      <td>https://www.sciencedirect.com//science/article...</td>\n",
       "      <td>Human Sciences</td>\n",
       "    </tr>\n",
       "    <tr>\n",
       "      <th>10</th>\n",
       "      <td>Research article</td>\n",
       "      <td>Is imitational learning a driving factor for t...</td>\n",
       "      <td>https://www.sciencedirect.com//science/article...</td>\n",
       "      <td>Nele Zickert, Reint H. Geuze, Bernd Riedstra, ...</td>\n",
       "      <td>Volume 159</td>\n",
       "      <td>2021-10-01</td>\n",
       "      <td>https://doi.org/10.1016/j.jhevol.2021.103045</td>\n",
       "      <td>Open access</td>\n",
       "      <td>Open access</td>\n",
       "      <td>https://www.sciencedirect.com//science/article...</td>\n",
       "      <td>Human Sciences</td>\n",
       "    </tr>\n",
       "    <tr>\n",
       "      <th>11</th>\n",
       "      <td>Research article</td>\n",
       "      <td>First record ofMacaca(Cercopithecidae, Primate...</td>\n",
       "      <td>https://www.sciencedirect.com//science/article...</td>\n",
       "      <td>George E. Konidaris, Athanassios Athanassiou, ...</td>\n",
       "      <td>Volume 162</td>\n",
       "      <td>2022-01-01</td>\n",
       "      <td>https://doi.org/10.1016/j.jhevol.2021.103104</td>\n",
       "      <td>Open access</td>\n",
       "      <td>Open access</td>\n",
       "      <td>https://www.sciencedirect.com//science/article...</td>\n",
       "      <td>Human Sciences</td>\n",
       "    </tr>\n",
       "    <tr>\n",
       "      <th>12</th>\n",
       "      <td>Research article</td>\n",
       "      <td>Covariation between the cranium and the cervic...</td>\n",
       "      <td>https://www.sciencedirect.com//science/article...</td>\n",
       "      <td>Mikel Arlegi, Ana Pantoja-Pérez, Christine Ves...</td>\n",
       "      <td>Volume 162</td>\n",
       "      <td>2022-01-01</td>\n",
       "      <td>https://doi.org/10.1016/j.jhevol.2021.103112</td>\n",
       "      <td>Open access</td>\n",
       "      <td>Open access</td>\n",
       "      <td>https://www.sciencedirect.com//science/article...</td>\n",
       "      <td>Human Sciences</td>\n",
       "    </tr>\n",
       "    <tr>\n",
       "      <th>13</th>\n",
       "      <td>Research article</td>\n",
       "      <td>Respect for males amid suppression of females:...</td>\n",
       "      <td>https://www.sciencedirect.com//science/article...</td>\n",
       "      <td>Katarina D. Evans, Larissa Swedell, Shahrina C...</td>\n",
       "      <td>Volume 165</td>\n",
       "      <td>2022-04-01</td>\n",
       "      <td>https://doi.org/10.1016/j.jhevol.2022.103151</td>\n",
       "      <td>Open access</td>\n",
       "      <td>Open access</td>\n",
       "      <td>https://www.sciencedirect.com//science/article...</td>\n",
       "      <td>Human Sciences</td>\n",
       "    </tr>\n",
       "    <tr>\n",
       "      <th>14</th>\n",
       "      <td>Research article</td>\n",
       "      <td>Adaptations for bipedal walking: Musculoskelet...</td>\n",
       "      <td>https://www.sciencedirect.com//science/article...</td>\n",
       "      <td>Matthew C. O'Neill, Brigitte Demes, Nathan E. ...</td>\n",
       "      <td>Volume 168</td>\n",
       "      <td>2022-07-01</td>\n",
       "      <td>https://doi.org/10.1016/j.jhevol.2022.103195</td>\n",
       "      <td>Open access</td>\n",
       "      <td>Open access</td>\n",
       "      <td>https://www.sciencedirect.com//science/article...</td>\n",
       "      <td>Human Sciences</td>\n",
       "    </tr>\n",
       "    <tr>\n",
       "      <th>15</th>\n",
       "      <td>Research article</td>\n",
       "      <td>Morphological variation of the maxilla in mode...</td>\n",
       "      <td>https://www.sciencedirect.com//science/article...</td>\n",
       "      <td>Hester Hanegraef, Romain David, Fred Spoor</td>\n",
       "      <td>Volume 168</td>\n",
       "      <td>2022-07-01</td>\n",
       "      <td>https://doi.org/10.1016/j.jhevol.2022.103210</td>\n",
       "      <td>Open access</td>\n",
       "      <td>Open access</td>\n",
       "      <td>https://www.sciencedirect.com//science/article...</td>\n",
       "      <td>Human Sciences</td>\n",
       "    </tr>\n",
       "    <tr>\n",
       "      <th>16</th>\n",
       "      <td>Research article</td>\n",
       "      <td>A refined chronology for the Middle and early ...</td>\n",
       "      <td>https://www.sciencedirect.com//science/article...</td>\n",
       "      <td>Marine Frouin, Katerina Douka, Aditi Krishna D...</td>\n",
       "      <td>Volume 169</td>\n",
       "      <td>2022-08-01</td>\n",
       "      <td>https://doi.org/10.1016/j.jhevol.2022.103211</td>\n",
       "      <td>Open access</td>\n",
       "      <td>Open access</td>\n",
       "      <td>https://www.sciencedirect.com//science/article...</td>\n",
       "      <td>Human Sciences</td>\n",
       "    </tr>\n",
       "    <tr>\n",
       "      <th>17</th>\n",
       "      <td>Research article</td>\n",
       "      <td>Variations by degrees: Western European paleoe...</td>\n",
       "      <td>https://www.sciencedirect.com//science/article...</td>\n",
       "      <td>Robert Hosfield</td>\n",
       "      <td>Volume 169</td>\n",
       "      <td>2022-08-01</td>\n",
       "      <td>https://doi.org/10.1016/j.jhevol.2022.103213</td>\n",
       "      <td>Open access</td>\n",
       "      <td>Open access</td>\n",
       "      <td>https://www.sciencedirect.com//science/article...</td>\n",
       "      <td>Human Sciences</td>\n",
       "    </tr>\n",
       "    <tr>\n",
       "      <th>18</th>\n",
       "      <td>Research article</td>\n",
       "      <td>Small mammals (Insectivora, Rodentia, Lagomorp...</td>\n",
       "      <td>https://www.sciencedirect.com//science/article...</td>\n",
       "      <td>Jordi Agustí, Giorgi Chochishvili, Iván Lozano...</td>\n",
       "      <td>Volume 170</td>\n",
       "      <td>2022-09-01</td>\n",
       "      <td>https://doi.org/10.1016/j.jhevol.2022.103238</td>\n",
       "      <td>Open access</td>\n",
       "      <td>Open access</td>\n",
       "      <td>https://www.sciencedirect.com//science/article...</td>\n",
       "      <td>Human Sciences</td>\n",
       "    </tr>\n",
       "    <tr>\n",
       "      <th>19</th>\n",
       "      <td>Research article</td>\n",
       "      <td>Variability in energy expenditure is much grea...</td>\n",
       "      <td>https://www.sciencedirect.com//science/article...</td>\n",
       "      <td>Lewis G. Halsey, Vincent Careau, Herman Pontze...</td>\n",
       "      <td>Volume 171</td>\n",
       "      <td>2022-10-01</td>\n",
       "      <td>https://doi.org/10.1016/j.jhevol.2022.103229</td>\n",
       "      <td>Open access</td>\n",
       "      <td>Open access</td>\n",
       "      <td>https://www.sciencedirect.com//science/article...</td>\n",
       "      <td>Human Sciences</td>\n",
       "    </tr>\n",
       "    <tr>\n",
       "      <th>20</th>\n",
       "      <td>Research article</td>\n",
       "      <td>Comparing the Boxgrove and Atapuerca (Sima de ...</td>\n",
       "      <td>https://www.sciencedirect.com//science/article...</td>\n",
       "      <td>Annabelle L. Lockey, Laura Rodríguez, Laura Ma...</td>\n",
       "      <td>Volume 172</td>\n",
       "      <td>2022-11-01</td>\n",
       "      <td>https://doi.org/10.1016/j.jhevol.2022.103253</td>\n",
       "      <td>Open access</td>\n",
       "      <td>Open access</td>\n",
       "      <td>https://www.sciencedirect.com//science/article...</td>\n",
       "      <td>Human Sciences</td>\n",
       "    </tr>\n",
       "    <tr>\n",
       "      <th>21</th>\n",
       "      <td>Research article</td>\n",
       "      <td>Sedimentary ancient DNA metabarcoding as a too...</td>\n",
       "      <td>https://www.sciencedirect.com//science/article...</td>\n",
       "      <td>Anneke T.M. ter Schure, Angela A. Bruch, Andre...</td>\n",
       "      <td>Volume 172</td>\n",
       "      <td>2022-11-01</td>\n",
       "      <td>https://doi.org/10.1016/j.jhevol.2022.103258</td>\n",
       "      <td>Open access</td>\n",
       "      <td>Open access</td>\n",
       "      <td>https://www.sciencedirect.com//science/article...</td>\n",
       "      <td>Human Sciences</td>\n",
       "    </tr>\n",
       "  </tbody>\n",
       "</table>\n",
       "</div>"
      ],
      "text/plain": [
       "        Article Type                                              Title  \\\n",
       "0   Research article  Increased terrestriality in a Neotropical prim...   \n",
       "1   Research article  Mesopithecus pentelicusfrom Zhaotong, China, t...   \n",
       "2   Research article  Mitogenomics of macaques (Macaca) across Walla...   \n",
       "3   Research article  Patterns of urinary cortisol levels during ont...   \n",
       "4   Research article  Early anthropogenic use of hematite on Aurigna...   \n",
       "5   Research article  A West African Middle Stone Age site dated to ...   \n",
       "6   Research article  Dietary evidence from Central Asian Neandertha...   \n",
       "7   Research article  Dental microstructure records life history eve...   \n",
       "8   Research article  Evidence of habitual behavior from non-aliment...   \n",
       "9   Research article  Effects of hybridization on pelvic morphology:...   \n",
       "10  Research article  Is imitational learning a driving factor for t...   \n",
       "11  Research article  First record ofMacaca(Cercopithecidae, Primate...   \n",
       "12  Research article  Covariation between the cranium and the cervic...   \n",
       "13  Research article  Respect for males amid suppression of females:...   \n",
       "14  Research article  Adaptations for bipedal walking: Musculoskelet...   \n",
       "15  Research article  Morphological variation of the maxilla in mode...   \n",
       "16  Research article  A refined chronology for the Middle and early ...   \n",
       "17  Research article  Variations by degrees: Western European paleoe...   \n",
       "18  Research article  Small mammals (Insectivora, Rodentia, Lagomorp...   \n",
       "19  Research article  Variability in energy expenditure is much grea...   \n",
       "20  Research article  Comparing the Boxgrove and Atapuerca (Sima de ...   \n",
       "21  Research article  Sedimentary ancient DNA metabarcoding as a too...   \n",
       "\n",
       "                                                  URL  \\\n",
       "0   https://www.sciencedirect.com//science/article...   \n",
       "1   https://www.sciencedirect.com//science/article...   \n",
       "2   https://www.sciencedirect.com//science/article...   \n",
       "3   https://www.sciencedirect.com//science/article...   \n",
       "4   https://www.sciencedirect.com//science/article...   \n",
       "5   https://www.sciencedirect.com//science/article...   \n",
       "6   https://www.sciencedirect.com//science/article...   \n",
       "7   https://www.sciencedirect.com//science/article...   \n",
       "8   https://www.sciencedirect.com//science/article...   \n",
       "9   https://www.sciencedirect.com//science/article...   \n",
       "10  https://www.sciencedirect.com//science/article...   \n",
       "11  https://www.sciencedirect.com//science/article...   \n",
       "12  https://www.sciencedirect.com//science/article...   \n",
       "13  https://www.sciencedirect.com//science/article...   \n",
       "14  https://www.sciencedirect.com//science/article...   \n",
       "15  https://www.sciencedirect.com//science/article...   \n",
       "16  https://www.sciencedirect.com//science/article...   \n",
       "17  https://www.sciencedirect.com//science/article...   \n",
       "18  https://www.sciencedirect.com//science/article...   \n",
       "19  https://www.sciencedirect.com//science/article...   \n",
       "20  https://www.sciencedirect.com//science/article...   \n",
       "21  https://www.sciencedirect.com//science/article...   \n",
       "\n",
       "                                              Authors   Vol/Issue  Published  \\\n",
       "0   Claudio M. Monteza-Moreno, Margaret C. Crofoot...  Volume 143 2020-06-01   \n",
       "1   Nina G. Jablonski, Xueping Ji, Jay Kelley, Law...  Volume 146 2020-09-01   \n",
       "2   Ben J. Evans, Marie-Theres Gansauge, Matthew W...  Volume 146 2020-09-01   \n",
       "3   Patrick J. Tkaczynski, Verena Behringer, Corin...  Volume 147 2020-10-01   \n",
       "4   Elizabeth C. Velliky, Patrick Schmidt, Ludovic...  Volume 150 2021-01-01   \n",
       "5   Katja Douze, Laurent Lespez, Michel Rasse, Cha...  Volume 154 2021-05-01   \n",
       "6   Domingo C. Salazar-García, Robert C. Power, Na...  Volume 156 2021-07-01   \n",
       "7   Simone A.M. Lemmers, Wendy Dirks, Sally E. Str...  Volume 158 2021-09-01   \n",
       "8            Almudena Estalrrich, Ana B. Marín-Arroyo  Volume 158 2021-09-01   \n",
       "9   Laura T. Buck, David C. Katz, Rebecca Rogers A...  Volume 159 2021-10-01   \n",
       "10  Nele Zickert, Reint H. Geuze, Bernd Riedstra, ...  Volume 159 2021-10-01   \n",
       "11  George E. Konidaris, Athanassios Athanassiou, ...  Volume 162 2022-01-01   \n",
       "12  Mikel Arlegi, Ana Pantoja-Pérez, Christine Ves...  Volume 162 2022-01-01   \n",
       "13  Katarina D. Evans, Larissa Swedell, Shahrina C...  Volume 165 2022-04-01   \n",
       "14  Matthew C. O'Neill, Brigitte Demes, Nathan E. ...  Volume 168 2022-07-01   \n",
       "15         Hester Hanegraef, Romain David, Fred Spoor  Volume 168 2022-07-01   \n",
       "16  Marine Frouin, Katerina Douka, Aditi Krishna D...  Volume 169 2022-08-01   \n",
       "17                                    Robert Hosfield  Volume 169 2022-08-01   \n",
       "18  Jordi Agustí, Giorgi Chochishvili, Iván Lozano...  Volume 170 2022-09-01   \n",
       "19  Lewis G. Halsey, Vincent Careau, Herman Pontze...  Volume 171 2022-10-01   \n",
       "20  Annabelle L. Lockey, Laura Rodríguez, Laura Ma...  Volume 172 2022-11-01   \n",
       "21  Anneke T.M. ter Schure, Angela A. Bruch, Andre...  Volume 172 2022-11-01   \n",
       "\n",
       "                                             DOI  Open Access Open Access 1  \\\n",
       "0   https://doi.org/10.1016/j.jhevol.2020.102768  Open access   Open access   \n",
       "1   https://doi.org/10.1016/j.jhevol.2020.102851  Open access   Open access   \n",
       "2   https://doi.org/10.1016/j.jhevol.2020.102852  Open access   Open access   \n",
       "3   https://doi.org/10.1016/j.jhevol.2020.102869  Open access   Open access   \n",
       "4   https://doi.org/10.1016/j.jhevol.2020.102900  Open access   Open access   \n",
       "5   https://doi.org/10.1016/j.jhevol.2021.102952  Open access   Open access   \n",
       "6   https://doi.org/10.1016/j.jhevol.2021.102985  Open access   Open access   \n",
       "7   https://doi.org/10.1016/j.jhevol.2021.103046  Open access   Open access   \n",
       "8   https://doi.org/10.1016/j.jhevol.2021.103047  Open access   Open access   \n",
       "9   https://doi.org/10.1016/j.jhevol.2021.103049  Open access   Open access   \n",
       "10  https://doi.org/10.1016/j.jhevol.2021.103045  Open access   Open access   \n",
       "11  https://doi.org/10.1016/j.jhevol.2021.103104  Open access   Open access   \n",
       "12  https://doi.org/10.1016/j.jhevol.2021.103112  Open access   Open access   \n",
       "13  https://doi.org/10.1016/j.jhevol.2022.103151  Open access   Open access   \n",
       "14  https://doi.org/10.1016/j.jhevol.2022.103195  Open access   Open access   \n",
       "15  https://doi.org/10.1016/j.jhevol.2022.103210  Open access   Open access   \n",
       "16  https://doi.org/10.1016/j.jhevol.2022.103211  Open access   Open access   \n",
       "17  https://doi.org/10.1016/j.jhevol.2022.103213  Open access   Open access   \n",
       "18  https://doi.org/10.1016/j.jhevol.2022.103238  Open access   Open access   \n",
       "19  https://doi.org/10.1016/j.jhevol.2022.103229  Open access   Open access   \n",
       "20  https://doi.org/10.1016/j.jhevol.2022.103253  Open access   Open access   \n",
       "21  https://doi.org/10.1016/j.jhevol.2022.103258  Open access   Open access   \n",
       "\n",
       "                                              PDF URL Area of Knowledge  \n",
       "0   https://www.sciencedirect.com//science/article...    Human Sciences  \n",
       "1   https://www.sciencedirect.com//science/article...    Human Sciences  \n",
       "2   https://www.sciencedirect.com//science/article...    Human Sciences  \n",
       "3   https://www.sciencedirect.com//science/article...    Human Sciences  \n",
       "4   https://www.sciencedirect.com//science/article...    Human Sciences  \n",
       "5   https://www.sciencedirect.com//science/article...    Human Sciences  \n",
       "6   https://www.sciencedirect.com//science/article...    Human Sciences  \n",
       "7   https://www.sciencedirect.com//science/article...    Human Sciences  \n",
       "8   https://www.sciencedirect.com//science/article...    Human Sciences  \n",
       "9   https://www.sciencedirect.com//science/article...    Human Sciences  \n",
       "10  https://www.sciencedirect.com//science/article...    Human Sciences  \n",
       "11  https://www.sciencedirect.com//science/article...    Human Sciences  \n",
       "12  https://www.sciencedirect.com//science/article...    Human Sciences  \n",
       "13  https://www.sciencedirect.com//science/article...    Human Sciences  \n",
       "14  https://www.sciencedirect.com//science/article...    Human Sciences  \n",
       "15  https://www.sciencedirect.com//science/article...    Human Sciences  \n",
       "16  https://www.sciencedirect.com//science/article...    Human Sciences  \n",
       "17  https://www.sciencedirect.com//science/article...    Human Sciences  \n",
       "18  https://www.sciencedirect.com//science/article...    Human Sciences  \n",
       "19  https://www.sciencedirect.com//science/article...    Human Sciences  \n",
       "20  https://www.sciencedirect.com//science/article...    Human Sciences  \n",
       "21  https://www.sciencedirect.com//science/article...    Human Sciences  "
      ]
     },
     "execution_count": 41,
     "metadata": {},
     "output_type": "execute_result"
    }
   ],
   "source": [
    "df_journal_human_evolution_open_access = df_journal_human_evolution_open_access.loc[\n",
    "    df_journal_human_evolution_open_access['Article Type'] == 'Research article'\n",
    "].reset_index(drop=True)\n",
    "df_journal_human_evolution_open_access"
   ]
  },
  {
   "cell_type": "markdown",
   "id": "8121ff23-5cce-42c6-8e02-85b187f926e6",
   "metadata": {},
   "source": [
    "#### Inspecting a few articles"
   ]
  },
  {
   "cell_type": "code",
   "execution_count": 42,
   "id": "2467e19f-f9be-488a-a665-a2bb71c23b87",
   "metadata": {},
   "outputs": [
    {
     "data": {
      "text/plain": [
       "'https://www.sciencedirect.com//science/article/pii/S0047248420300294'"
      ]
     },
     "execution_count": 42,
     "metadata": {},
     "output_type": "execute_result"
    }
   ],
   "source": [
    "df_journal_human_evolution_open_access.at[0, 'URL']"
   ]
  },
  {
   "cell_type": "markdown",
   "id": "9d8f5748-d71c-4824-88b1-4ec82f200fd7",
   "metadata": {},
   "source": [
    "#### Exporting to a file"
   ]
  },
  {
   "cell_type": "code",
   "execution_count": 43,
   "id": "65f0dba5-f92d-4437-b4ea-2dd298e7b1e2",
   "metadata": {},
   "outputs": [],
   "source": [
    "df_journal_human_evolution_open_access.to_json(f\"{output_directory}/journal_human_evolution_open_access.jsonl\", orient='records', lines=True)"
   ]
  },
  {
   "cell_type": "markdown",
   "id": "10419f0d-9db9-4bc2-9520-89192d9be03b",
   "metadata": {},
   "source": [
    "## Linguistics, literature and arts"
   ]
  },
  {
   "cell_type": "markdown",
   "id": "ff024cb5-3472-4a81-906e-d561e9cfdbcc",
   "metadata": {},
   "source": [
    "### Scraping [Applied Corpus Linguistics](https://www.sciencedirect.com/journal/applied-corpus-linguistics)"
   ]
  },
  {
   "cell_type": "markdown",
   "id": "814489fa-eff1-4e34-aa54-e729446bc813",
   "metadata": {},
   "source": [
    "#### Capturing a few document pages for inspection"
   ]
  },
  {
   "cell_type": "code",
   "execution_count": 3,
   "id": "1c1e4405-80ca-413e-b4d2-e74b4e359af3",
   "metadata": {},
   "outputs": [],
   "source": [
    "url_sample_1 = 'https://www.sciencedirect.com/journal/applied-corpus-linguistics/vol/1/issue/1'\n",
    "url_sample_11 = 'https://www.sciencedirect.com/science/article/pii/S2666799121000010'"
   ]
  },
  {
   "cell_type": "code",
   "execution_count": 13,
   "id": "ba378179-c4ee-414f-9be9-dd3c32f9e8be",
   "metadata": {},
   "outputs": [],
   "source": [
    "# Setting up the WebDriver (make sure you have downloaded the Microsoft Edge WebDriver executable)\n",
    "# https://developer.microsoft.com/en-us/microsoft-edge/tools/webdriver/\n",
    "service = Service(r'C:\\Users\\eyamr\\OneDrive\\00-Technology\\laelgelc\\edgedriver_win64\\msedgedriver.exe')\n",
    "driver = webdriver.Edge(service=service)\n",
    "\n",
    "# Navigating to target URL 1 and saving its web page\n",
    "driver.get(url_sample_1)\n",
    "wait = WebDriverWait(driver, 10)\n",
    "#time.sleep(15)  # Waits for 15 seconds\n",
    "#wait.until(EC.presence_of_element_located((By.TAG_NAME, 'html')))\n",
    "\n",
    "# Extra reliability check: Wait until the page source stops changing\n",
    "max_wait_time = 30  # Max time in seconds\n",
    "start_time = time.time()\n",
    "previous_html = ''\n",
    "while True:\n",
    "    current_html = driver.page_source\n",
    "    if current_html == previous_html or time.time() - start_time > max_wait_time:\n",
    "        break  # Exit loop if page stops changing or max wait time is exceeded\n",
    "    previous_html = current_html\n",
    "    time.sleep(2)  # Short delay before checking again\n",
    "\n",
    "# Now, the page is fully loaded - extract content!\n",
    "\n",
    "document_page_sample_1 = driver.page_source\n",
    "\n",
    "with open(f'{output_directory}/applied_corpus_linguistics_sample1.html', 'w', encoding='utf8', newline='\\n') as file:\n",
    "    file.write(document_page_sample_1)\n",
    "\n",
    "# Navigating to target URL 2 and saving its web page\n",
    "driver.get(url_sample_11)\n",
    "wait = WebDriverWait(driver, 10)\n",
    "#time.sleep(15)  # Waits for 15 seconds\n",
    "#wait.until(EC.presence_of_element_located((By.TAG_NAME, 'html')))\n",
    "\n",
    "# Extra reliability check: Wait until the page source stops changing\n",
    "max_wait_time = 30  # Max time in seconds\n",
    "start_time = time.time()\n",
    "previous_html = ''\n",
    "while True:\n",
    "    current_html = driver.page_source\n",
    "    if current_html == previous_html or time.time() - start_time > max_wait_time:\n",
    "        break  # Exit loop if page stops changing or max wait time is exceeded\n",
    "    previous_html = current_html\n",
    "    time.sleep(2)  # Short delay before checking again\n",
    "\n",
    "# Now, the page is fully loaded - extract content!\n",
    "\n",
    "document_page_sample_11 = driver.page_source\n",
    "\n",
    "with open(f'{output_directory}/applied_corpus_linguistics_sample11.html', 'w', encoding='utf8', newline='\\n') as file:\n",
    "    file.write(document_page_sample_11)\n",
    "\n",
    "# Closing the WebDriver\n",
    "driver.quit()"
   ]
  },
  {
   "cell_type": "markdown",
   "id": "44c4a692-413e-4fb2-8101-6d6b02c9fee6",
   "metadata": {},
   "source": [
    "#### Scraping the articles"
   ]
  },
  {
   "cell_type": "markdown",
   "id": "5919b457-086e-47c0-aecd-59d0a44604f7",
   "metadata": {},
   "source": [
    "##### Function to scrape the articles"
   ]
  },
  {
   "cell_type": "code",
   "execution_count": 32,
   "id": "5e3efd4d-e2f6-40c7-a718-a26cb1daa176",
   "metadata": {},
   "outputs": [],
   "source": [
    "def scrape_articles(article_list_url, root_url, area_of_knowledge):\n",
    "    # Setting up the WebDriver\n",
    "    service = Service(r'C:\\Users\\eyamr\\OneDrive\\00-Technology\\laelgelc\\edgedriver_win64\\msedgedriver.exe')\n",
    "    driver = webdriver.Edge(service=service)\n",
    "\n",
    "    data = []\n",
    "\n",
    "    driver.get(article_list_url)\n",
    "    wait = WebDriverWait(driver, 10)\n",
    "    #wait.until(EC.presence_of_element_located((By.TAG_NAME, 'html')))\n",
    "    max_wait_time = 30\n",
    "    start_time = time.time()\n",
    "    previous_html = ''\n",
    "    while True:\n",
    "        current_html = driver.page_source\n",
    "        if current_html == previous_html or time.time() - start_time > max_wait_time:\n",
    "            break\n",
    "        previous_html = current_html\n",
    "        time.sleep(2)\n",
    "    page = driver.page_source\n",
    "    soup = BeautifulSoup(page, 'lxml')\n",
    "    \n",
    "    volume_issue_tag = soup.find('h2', class_='u-text-light js-vol-issue')\n",
    "    volume_issue = volume_issue_tag.get_text(strip=True) if volume_issue_tag else ''\n",
    "\n",
    "    month_year_tag = soup.find('h3', class_='js-issue-status text-s')\n",
    "    month_year = month_year_tag.get_text(strip=True) if month_year_tag else ''\n",
    "\n",
    "    articles = soup.find_all('li', class_='js-article-list-item article-item u-padding-xs-top u-margin-l-bottom')\n",
    "\n",
    "    for article in articles:\n",
    "        article_type_tag = article.find('span', class_='js-article-subtype')\n",
    "        article_type = article_type_tag.get_text(strip=True) if article_type_tag else ''\n",
    "        \n",
    "        title_tag = article.find('span', class_='js-article-title text-l')\n",
    "        title = title_tag.get_text(strip=True) if title_tag else ''\n",
    "    \n",
    "        article_url_tag = article.find('h3', class_='text-m u-font-serif u-display-inline').find('a')\n",
    "        article_url = root_url + article_url_tag['href'] if article_url_tag else ''\n",
    "    \n",
    "        authors_tags = article.find('div', class_='text-s u-clr-grey8 js-article__item__authors')\n",
    "        authors = authors_tags.get_text(strip=True) if authors_tags else ''\n",
    "    \n",
    "        doi_tag = article.find('div', attrs={'hidden': True})  # Explicitly target the 'hidden' attribute\n",
    "        doi = doi_tag.get_text(strip=True) if doi_tag else ''\n",
    "    \n",
    "        open_access_tag = article.find('span', class_='js-open-access u-text-italic')\n",
    "        open_access = open_access_tag.get_text(strip=True) if open_access_tag else ''\n",
    "    \n",
    "        pdf_url_tag = article.find('dd', class_='js-article-link u-margin-xs-top u-margin-s-bottom article-item-link')\n",
    "        pdf_url = root_url + pdf_url_tag.find('a')['href'] if pdf_url_tag and pdf_url_tag.find('a') else ''\n",
    "    \n",
    "        data.append({\n",
    "            'Article Type': article_type,\n",
    "            'Title': title,\n",
    "            'URL': article_url,\n",
    "            'Authors': authors,\n",
    "            'Vol/Issue': volume_issue,\n",
    "            'Published': month_year,\n",
    "            'DOI': doi,\n",
    "            'Open Access': open_access,\n",
    "            'PDF URL': pdf_url,\n",
    "            'Area of Knowledge': area_of_knowledge\n",
    "        })\n",
    "\n",
    "    driver.quit()\n",
    "\n",
    "    return pd.DataFrame(data)"
   ]
  },
  {
   "cell_type": "markdown",
   "id": "ca494448-64a7-493a-b734-e192c411c5a5",
   "metadata": {},
   "source": [
    "##### Volume 1, Issue 1"
   ]
  },
  {
   "cell_type": "code",
   "execution_count": 4,
   "id": "2d57c114-e002-4db1-95c7-b322251feea8",
   "metadata": {},
   "outputs": [],
   "source": [
    "root_url = 'https://www.sciencedirect.com/'\n",
    "article_list_url = 'https://www.sciencedirect.com/journal/applied-corpus-linguistics/vol/1/issue/1'\n",
    "area_of_knowledge = 'Linguistic, literature and arts'"
   ]
  },
  {
   "cell_type": "code",
   "execution_count": 5,
   "id": "db1c3980-b6b6-4fda-ae7b-83185680b5d9",
   "metadata": {},
   "outputs": [],
   "source": [
    "df_v1i1 = scrape_articles(article_list_url, root_url, area_of_knowledge)"
   ]
  },
  {
   "cell_type": "markdown",
   "id": "a71ecfa5-38c3-4383-8858-e954cd25c9d4",
   "metadata": {},
   "source": [
    "##### Volume 1, Issue 2"
   ]
  },
  {
   "cell_type": "code",
   "execution_count": 6,
   "id": "80782e69-f018-4e44-b359-7af3d6c0bdaa",
   "metadata": {},
   "outputs": [],
   "source": [
    "root_url = 'https://www.sciencedirect.com/'\n",
    "article_list_url = 'https://www.sciencedirect.com/journal/applied-corpus-linguistics/vol/1/issue/2'\n",
    "area_of_knowledge = 'Linguistic, literature and arts'"
   ]
  },
  {
   "cell_type": "code",
   "execution_count": 7,
   "id": "bdee504d-1a93-4a8e-8f5a-8099aa691b99",
   "metadata": {},
   "outputs": [],
   "source": [
    "df_v1i2 = scrape_articles(article_list_url, root_url, area_of_knowledge)"
   ]
  },
  {
   "cell_type": "markdown",
   "id": "e97da5b7-9f85-4e7b-973b-2c7b5885c4f8",
   "metadata": {},
   "source": [
    "##### Volume 1, Issue 3"
   ]
  },
  {
   "cell_type": "code",
   "execution_count": 8,
   "id": "37730769-6548-4612-829f-db681f97d070",
   "metadata": {},
   "outputs": [],
   "source": [
    "root_url = 'https://www.sciencedirect.com/'\n",
    "article_list_url = 'https://www.sciencedirect.com/journal/applied-corpus-linguistics/vol/1/issue/3'\n",
    "area_of_knowledge = 'Linguistic, literature and arts'"
   ]
  },
  {
   "cell_type": "code",
   "execution_count": 9,
   "id": "888bd403-24a3-4540-92ee-f608971fd98b",
   "metadata": {},
   "outputs": [],
   "source": [
    "df_v1i3 = scrape_articles(article_list_url, root_url, area_of_knowledge)"
   ]
  },
  {
   "cell_type": "markdown",
   "id": "e67de08c-23fa-447a-866f-4f73c54c516b",
   "metadata": {},
   "source": [
    "##### Volume 2, Issue 1"
   ]
  },
  {
   "cell_type": "code",
   "execution_count": 10,
   "id": "36762772-c129-40d1-adf3-6d1a34208077",
   "metadata": {},
   "outputs": [],
   "source": [
    "root_url = 'https://www.sciencedirect.com/'\n",
    "article_list_url = 'https://www.sciencedirect.com/journal/applied-corpus-linguistics/vol/2/issue/1'\n",
    "area_of_knowledge = 'Linguistic, literature and arts'"
   ]
  },
  {
   "cell_type": "code",
   "execution_count": 11,
   "id": "a56393cb-99ad-4681-bb26-d01745adc526",
   "metadata": {},
   "outputs": [],
   "source": [
    "df_v2i1 = scrape_articles(article_list_url, root_url, area_of_knowledge)"
   ]
  },
  {
   "cell_type": "markdown",
   "id": "e61354ed-1083-45e5-88ce-c9691294cee5",
   "metadata": {},
   "source": [
    "##### Volume 2, Issue 2"
   ]
  },
  {
   "cell_type": "code",
   "execution_count": 12,
   "id": "6c127c2d-569c-48ae-b3ee-4595631d7501",
   "metadata": {},
   "outputs": [],
   "source": [
    "root_url = 'https://www.sciencedirect.com/'\n",
    "article_list_url = 'https://www.sciencedirect.com/journal/applied-corpus-linguistics/vol/2/issue/2'\n",
    "area_of_knowledge = 'Linguistic, literature and arts'"
   ]
  },
  {
   "cell_type": "code",
   "execution_count": 13,
   "id": "78a6979e-8b4d-4963-a042-aeedd1c4615f",
   "metadata": {},
   "outputs": [],
   "source": [
    "df_v2i2 = scrape_articles(article_list_url, root_url, area_of_knowledge)"
   ]
  },
  {
   "cell_type": "markdown",
   "id": "44cfcab1-664b-4cb2-9933-328a4bf18f09",
   "metadata": {},
   "source": [
    "##### Concatenating the DataFrames"
   ]
  },
  {
   "cell_type": "code",
   "execution_count": 14,
   "id": "f90e5443-5acc-4d0a-a204-26e1cad23060",
   "metadata": {},
   "outputs": [],
   "source": [
    "df_applied_corpus_linguistics = pd.concat([df_v1i1, df_v1i2, df_v1i3, df_v2i1, df_v2i2], ignore_index=True)"
   ]
  },
  {
   "cell_type": "code",
   "execution_count": 15,
   "id": "e861b9c8-7882-472e-ba87-88d58d58a8fe",
   "metadata": {},
   "outputs": [],
   "source": [
    "df_applied_corpus_linguistics['Published'] = pd.to_datetime(\n",
    "    df_applied_corpus_linguistics['Published'], format='%B %Y'\n",
    ")"
   ]
  },
  {
   "cell_type": "code",
   "execution_count": 16,
   "id": "e653667b-b7da-4d4a-89b2-c66ed8050d1b",
   "metadata": {},
   "outputs": [
    {
     "data": {
      "text/plain": [
       "Article Type                 object\n",
       "Title                        object\n",
       "URL                          object\n",
       "Authors                      object\n",
       "Vol/Issue                    object\n",
       "Published            datetime64[ns]\n",
       "DOI                          object\n",
       "Open Access                  object\n",
       "PDF URL                      object\n",
       "Area of Knowledge            object\n",
       "dtype: object"
      ]
     },
     "execution_count": 16,
     "metadata": {},
     "output_type": "execute_result"
    }
   ],
   "source": [
    "df_applied_corpus_linguistics.dtypes"
   ]
  },
  {
   "cell_type": "markdown",
   "id": "a32d94a9-dc96-4d0b-880e-0a1c8ac18af2",
   "metadata": {},
   "source": [
    "##### Selecting the 'Open access' articles published before the advent of ChatGPT"
   ]
  },
  {
   "cell_type": "code",
   "execution_count": 17,
   "id": "569b029d-3196-42ce-a4b4-c2ee1ca215d8",
   "metadata": {},
   "outputs": [
    {
     "data": {
      "text/plain": [
       "array(['Open access', ''], dtype=object)"
      ]
     },
     "execution_count": 17,
     "metadata": {},
     "output_type": "execute_result"
    }
   ],
   "source": [
    "unique_open_access = df_applied_corpus_linguistics['Open Access'].dropna().unique()\n",
    "unique_open_access"
   ]
  },
  {
   "cell_type": "code",
   "execution_count": 18,
   "id": "ec2e79e5-6df7-4eca-9d6c-417e88c546eb",
   "metadata": {},
   "outputs": [
    {
     "data": {
      "text/html": [
       "<div>\n",
       "<style scoped>\n",
       "    .dataframe tbody tr th:only-of-type {\n",
       "        vertical-align: middle;\n",
       "    }\n",
       "\n",
       "    .dataframe tbody tr th {\n",
       "        vertical-align: top;\n",
       "    }\n",
       "\n",
       "    .dataframe thead th {\n",
       "        text-align: right;\n",
       "    }\n",
       "</style>\n",
       "<table border=\"1\" class=\"dataframe\">\n",
       "  <thead>\n",
       "    <tr style=\"text-align: right;\">\n",
       "      <th></th>\n",
       "      <th>Article Type</th>\n",
       "      <th>Title</th>\n",
       "      <th>URL</th>\n",
       "      <th>Authors</th>\n",
       "      <th>Vol/Issue</th>\n",
       "      <th>Published</th>\n",
       "      <th>DOI</th>\n",
       "      <th>Open Access</th>\n",
       "      <th>PDF URL</th>\n",
       "      <th>Area of Knowledge</th>\n",
       "    </tr>\n",
       "  </thead>\n",
       "  <tbody>\n",
       "    <tr>\n",
       "      <th>0</th>\n",
       "      <td>Research article</td>\n",
       "      <td>Investigating predatory publishing in politica...</td>\n",
       "      <td>https://www.sciencedirect.com//science/article...</td>\n",
       "      <td>Ying Wang, Josep Soler</td>\n",
       "      <td>Volume 1, Issue 1</td>\n",
       "      <td>2021-04-01</td>\n",
       "      <td>https://doi.org/10.1016/j.acorp.2021.100001</td>\n",
       "      <td>Open access</td>\n",
       "      <td>https://www.sciencedirect.com//science/article...</td>\n",
       "      <td>Linguistic, literature and arts</td>\n",
       "    </tr>\n",
       "    <tr>\n",
       "      <th>1</th>\n",
       "      <td>Research article</td>\n",
       "      <td>The role of modals in policies: The US opioid ...</td>\n",
       "      <td>https://www.sciencedirect.com//science/article...</td>\n",
       "      <td>Peter Joseph Torres</td>\n",
       "      <td>Volume 1, Issue 3</td>\n",
       "      <td>2021-12-01</td>\n",
       "      <td>https://doi.org/10.1016/j.acorp.2021.100008</td>\n",
       "      <td>Open access</td>\n",
       "      <td>https://www.sciencedirect.com//science/article...</td>\n",
       "      <td>Linguistic, literature and arts</td>\n",
       "    </tr>\n",
       "    <tr>\n",
       "      <th>2</th>\n",
       "      <td>Research article</td>\n",
       "      <td>Patient feedback and duration of treatment: A ...</td>\n",
       "      <td>https://www.sciencedirect.com//science/article...</td>\n",
       "      <td>Gavin Brookes, Paul Baker</td>\n",
       "      <td>Volume 1, Issue 3</td>\n",
       "      <td>2021-12-01</td>\n",
       "      <td>https://doi.org/10.1016/j.acorp.2021.100010</td>\n",
       "      <td>Open access</td>\n",
       "      <td>https://www.sciencedirect.com//science/article...</td>\n",
       "      <td>Linguistic, literature and arts</td>\n",
       "    </tr>\n",
       "    <tr>\n",
       "      <th>3</th>\n",
       "      <td>Research article</td>\n",
       "      <td>Creating a corpus of sensitive and hard-to-acc...</td>\n",
       "      <td>https://www.sciencedirect.com//science/article...</td>\n",
       "      <td>Maria Leedham, Theresa Lillis, Alison Twiner</td>\n",
       "      <td>Volume 1, Issue 3</td>\n",
       "      <td>2021-12-01</td>\n",
       "      <td>https://doi.org/10.1016/j.acorp.2021.100011</td>\n",
       "      <td>Open access</td>\n",
       "      <td>https://www.sciencedirect.com//science/article...</td>\n",
       "      <td>Linguistic, literature and arts</td>\n",
       "    </tr>\n",
       "    <tr>\n",
       "      <th>4</th>\n",
       "      <td>Research article</td>\n",
       "      <td>Compiling and analysing a large corpus of onli...</td>\n",
       "      <td>https://www.sciencedirect.com//science/article...</td>\n",
       "      <td>Shi Min CHUA</td>\n",
       "      <td>Volume 2, Issue 2</td>\n",
       "      <td>2022-08-01</td>\n",
       "      <td>https://doi.org/10.1016/j.acorp.2022.100017</td>\n",
       "      <td>Open access</td>\n",
       "      <td>https://www.sciencedirect.com//science/article...</td>\n",
       "      <td>Linguistic, literature and arts</td>\n",
       "    </tr>\n",
       "  </tbody>\n",
       "</table>\n",
       "</div>"
      ],
      "text/plain": [
       "       Article Type                                              Title  \\\n",
       "0  Research article  Investigating predatory publishing in politica...   \n",
       "1  Research article  The role of modals in policies: The US opioid ...   \n",
       "2  Research article  Patient feedback and duration of treatment: A ...   \n",
       "3  Research article  Creating a corpus of sensitive and hard-to-acc...   \n",
       "4  Research article  Compiling and analysing a large corpus of onli...   \n",
       "\n",
       "                                                 URL  \\\n",
       "0  https://www.sciencedirect.com//science/article...   \n",
       "1  https://www.sciencedirect.com//science/article...   \n",
       "2  https://www.sciencedirect.com//science/article...   \n",
       "3  https://www.sciencedirect.com//science/article...   \n",
       "4  https://www.sciencedirect.com//science/article...   \n",
       "\n",
       "                                        Authors          Vol/Issue  Published  \\\n",
       "0                        Ying Wang, Josep Soler  Volume 1, Issue 1 2021-04-01   \n",
       "1                           Peter Joseph Torres  Volume 1, Issue 3 2021-12-01   \n",
       "2                     Gavin Brookes, Paul Baker  Volume 1, Issue 3 2021-12-01   \n",
       "3  Maria Leedham, Theresa Lillis, Alison Twiner  Volume 1, Issue 3 2021-12-01   \n",
       "4                                  Shi Min CHUA  Volume 2, Issue 2 2022-08-01   \n",
       "\n",
       "                                           DOI  Open Access  \\\n",
       "0  https://doi.org/10.1016/j.acorp.2021.100001  Open access   \n",
       "1  https://doi.org/10.1016/j.acorp.2021.100008  Open access   \n",
       "2  https://doi.org/10.1016/j.acorp.2021.100010  Open access   \n",
       "3  https://doi.org/10.1016/j.acorp.2021.100011  Open access   \n",
       "4  https://doi.org/10.1016/j.acorp.2022.100017  Open access   \n",
       "\n",
       "                                             PDF URL  \\\n",
       "0  https://www.sciencedirect.com//science/article...   \n",
       "1  https://www.sciencedirect.com//science/article...   \n",
       "2  https://www.sciencedirect.com//science/article...   \n",
       "3  https://www.sciencedirect.com//science/article...   \n",
       "4  https://www.sciencedirect.com//science/article...   \n",
       "\n",
       "                 Area of Knowledge  \n",
       "0  Linguistic, literature and arts  \n",
       "1  Linguistic, literature and arts  \n",
       "2  Linguistic, literature and arts  \n",
       "3  Linguistic, literature and arts  \n",
       "4  Linguistic, literature and arts  "
      ]
     },
     "execution_count": 18,
     "metadata": {},
     "output_type": "execute_result"
    }
   ],
   "source": [
    "df_applied_corpus_linguistics_open_access = df_applied_corpus_linguistics[df_applied_corpus_linguistics['Open Access'] == 'Open access']\n",
    "df_applied_corpus_linguistics_open_access = df_applied_corpus_linguistics_open_access[df_applied_corpus_linguistics_open_access['Published'] <= '2022-11-30']\n",
    "df_applied_corpus_linguistics_open_access = df_applied_corpus_linguistics_open_access.reset_index(drop=True)\n",
    "df_applied_corpus_linguistics_open_access"
   ]
  },
  {
   "cell_type": "markdown",
   "id": "fb4977d6-6973-4113-b730-fb1abe580f2b",
   "metadata": {},
   "source": [
    "#### Inspecting a few articles"
   ]
  },
  {
   "cell_type": "code",
   "execution_count": 19,
   "id": "b88cf0a1-ddda-4119-9135-6eaf9092a668",
   "metadata": {},
   "outputs": [
    {
     "data": {
      "text/plain": [
       "'https://www.sciencedirect.com//science/article/pii/S2666799121000010'"
      ]
     },
     "execution_count": 19,
     "metadata": {},
     "output_type": "execute_result"
    }
   ],
   "source": [
    "df_applied_corpus_linguistics_open_access.at[0, 'URL']"
   ]
  },
  {
   "cell_type": "markdown",
   "id": "a10ccdec-1da6-48ba-b246-b8ad6fa77c9d",
   "metadata": {},
   "source": [
    "#### Exporting to a file"
   ]
  },
  {
   "cell_type": "code",
   "execution_count": 20,
   "id": "4546bfa2-8cb0-433c-910e-436d0f5b4119",
   "metadata": {},
   "outputs": [],
   "source": [
    "df_applied_corpus_linguistics_open_access.to_json(f\"{output_directory}/applied_corpus_linguistics_open_access.jsonl\", orient='records', lines=True)"
   ]
  },
  {
   "cell_type": "markdown",
   "id": "762d3cd3-e0e2-4702-b207-7dafe3185f08",
   "metadata": {},
   "source": [
    "### Scraping [Journal of Aesthetic Education](https://press-jae.scholasticahq.com/)"
   ]
  },
  {
   "cell_type": "markdown",
   "id": "e87bee1b-abc4-4508-a749-98317bdd9419",
   "metadata": {},
   "source": [
    "This journal was not open for the public at the time of data collection."
   ]
  },
  {
   "cell_type": "markdown",
   "id": "d2d30cfb-e8e2-4a2e-aa15-7c9a532ca37c",
   "metadata": {},
   "source": [
    "### Scraping [Journal of English Linguistics](https://journals.sagepub.com/home/eng)"
   ]
  },
  {
   "cell_type": "markdown",
   "id": "1f978790-c2ad-45d4-99a2-aec3885cac35",
   "metadata": {},
   "source": [
    "#### Capturing a few document pages for inspection"
   ]
  },
  {
   "cell_type": "code",
   "execution_count": 27,
   "id": "f02bc6eb-955e-440d-9b7c-0732bc385ba4",
   "metadata": {},
   "outputs": [],
   "source": [
    "url_sample_1 = 'https://journals.sagepub.com/toc/enga/49/3'\n",
    "url_sample_11 = 'https://journals.sagepub.com/doi/full/10.1177/00754242211024722'"
   ]
  },
  {
   "cell_type": "code",
   "execution_count": 28,
   "id": "1dc000ba-6997-40ad-b8d9-91c736fcf5ca",
   "metadata": {},
   "outputs": [],
   "source": [
    "# Setting up the WebDriver (make sure you have downloaded the Microsoft Edge WebDriver executable)\n",
    "# https://developer.microsoft.com/en-us/microsoft-edge/tools/webdriver/\n",
    "service = Service(r'C:\\Users\\eyamr\\OneDrive\\00-Technology\\laelgelc\\edgedriver_win64\\msedgedriver.exe')\n",
    "driver = webdriver.Edge(service=service)\n",
    "\n",
    "# Navigating to target URL 1 and saving its web page\n",
    "driver.get(url_sample_1)\n",
    "wait = WebDriverWait(driver, 10)\n",
    "#time.sleep(15)  # Waits for 15 seconds\n",
    "#wait.until(EC.presence_of_element_located((By.TAG_NAME, 'html')))\n",
    "\n",
    "# Extra reliability check: Wait until the page source stops changing\n",
    "max_wait_time = 30  # Max time in seconds\n",
    "start_time = time.time()\n",
    "previous_html = ''\n",
    "while True:\n",
    "    current_html = driver.page_source\n",
    "    if current_html == previous_html or time.time() - start_time > max_wait_time:\n",
    "        break  # Exit loop if page stops changing or max wait time is exceeded\n",
    "    previous_html = current_html\n",
    "    time.sleep(2)  # Short delay before checking again\n",
    "\n",
    "# Now, the page is fully loaded - extract content!\n",
    "\n",
    "document_page_sample_1 = driver.page_source\n",
    "\n",
    "with open(f'{output_directory}/journal_english_linguistics_sample1.html', 'w', encoding='utf8', newline='\\n') as file:\n",
    "    file.write(document_page_sample_1)\n",
    "\n",
    "# Navigating to target URL 2 and saving its web page\n",
    "driver.get(url_sample_11)\n",
    "wait = WebDriverWait(driver, 10)\n",
    "#time.sleep(15)  # Waits for 15 seconds\n",
    "#wait.until(EC.presence_of_element_located((By.TAG_NAME, 'html')))\n",
    "\n",
    "# Extra reliability check: Wait until the page source stops changing\n",
    "max_wait_time = 30  # Max time in seconds\n",
    "start_time = time.time()\n",
    "previous_html = ''\n",
    "while True:\n",
    "    current_html = driver.page_source\n",
    "    if current_html == previous_html or time.time() - start_time > max_wait_time:\n",
    "        break  # Exit loop if page stops changing or max wait time is exceeded\n",
    "    previous_html = current_html\n",
    "    time.sleep(2)  # Short delay before checking again\n",
    "\n",
    "# Now, the page is fully loaded - extract content!\n",
    "\n",
    "document_page_sample_11 = driver.page_source\n",
    "\n",
    "with open(f'{output_directory}/journal_english_linguistics_sample11.html', 'w', encoding='utf8', newline='\\n') as file:\n",
    "    file.write(document_page_sample_11)\n",
    "\n",
    "# Closing the WebDriver\n",
    "driver.quit()"
   ]
  },
  {
   "cell_type": "markdown",
   "id": "bd0061ef-dff6-49a4-aacb-cd6d76380744",
   "metadata": {},
   "source": [
    "#### Scraping the articles"
   ]
  },
  {
   "cell_type": "markdown",
   "id": "3e4232a1-bbe0-496f-98b6-100703e7475b",
   "metadata": {},
   "source": [
    "##### Function to scrape the articles"
   ]
  },
  {
   "cell_type": "code",
   "execution_count": 29,
   "id": "e6b58d03-474e-426b-b1c7-9d24dd299b6e",
   "metadata": {},
   "outputs": [],
   "source": [
    "def scrape_articles(root_url, doi_root_url, article_list_url, start_page, end_page, area_of_knowledge):\n",
    "    # Setting up the WebDriver\n",
    "    service = Service(r'C:\\Users\\eyamr\\OneDrive\\00-Technology\\laelgelc\\edgedriver_win64\\msedgedriver.exe')\n",
    "    driver = webdriver.Edge(service=service)\n",
    "\n",
    "    data = []\n",
    "\n",
    "    for i in tqdm(range(start_page, end_page + 1)):\n",
    "        url = f\"{article_list_url}{i}\"\n",
    "        driver.get(url)\n",
    "\n",
    "        # Explicit wait for main article elements\n",
    "        wait = WebDriverWait(driver, 10)\n",
    "\n",
    "        # Ensure stable page load\n",
    "        max_wait_time = 30\n",
    "        start_time = time.time()\n",
    "        previous_html = ''\n",
    "        while True:\n",
    "            current_html = driver.page_source\n",
    "            if current_html == previous_html or time.time() - start_time > max_wait_time:\n",
    "                break\n",
    "            previous_html = current_html\n",
    "            time.sleep(2)\n",
    "\n",
    "        # Parse page source with BeautifulSoup\n",
    "        soup = BeautifulSoup(driver.page_source, 'lxml')\n",
    "\n",
    "        # Extract Volume/Issue\n",
    "        volume_issue_tag = soup.find('title')\n",
    "        volume_issue = volume_issue_tag.get_text(strip=True) if volume_issue_tag else ''\n",
    "\n",
    "        # Extract articles\n",
    "        articles = soup.find_all('div', class_='issue-item issue-item--toc issue-item--checkbox')\n",
    "\n",
    "        for article in articles:\n",
    "            # Extracting the article type\n",
    "            article_type_tag = article.find('span', string='Research article')\n",
    "            article_type = article_type_tag.get_text(strip=True) if article_type_tag else ''\n",
    "\n",
    "            # Extracting the title\n",
    "            title_tag = article.find('div', class_='issue-item__title').find('h5')\n",
    "            title = title_tag.get_text(strip=True) if title_tag else ''\n",
    "\n",
    "            # Extracting the article URL\n",
    "            article_url_tag = article.find('div', class_='issue-item__title').find('a')\n",
    "            article_url = root_url + article_url_tag['href'] if article_url_tag else ''\n",
    "\n",
    "            # Extracting authors\n",
    "            authors_list = article.find('ul', class_='rlist--inline loa comma')\n",
    "            authors = ', '.join([author.get_text(strip=True) for author in authors_list.find_all('span')]) if authors_list else ''\n",
    "\n",
    "            # Extracting published date (removing \"First published\")\n",
    "            published_tag = article.find('span', string=lambda text: text and text.startswith(\"First published\"))\n",
    "            published = published_tag.get_text(strip=True).replace(\"First published \", \"\") if published_tag else ''\n",
    "\n",
    "            # Extracting DOI\n",
    "            doi_tag = article.find('input', {'name': 'doi'})\n",
    "            doi = doi_root_url + doi_tag['value'] if doi_tag else ''\n",
    "\n",
    "            # Extracting Open Access status\n",
    "            open_access_tag = article.find('span', class_='issue-item-access').find('span')\n",
    "            open_access = open_access_tag.get_text(strip=True) if open_access_tag else ''\n",
    "\n",
    "            # Extracting PDF URL (Replacing 'reader' with 'pdf')\n",
    "            pdf_url_tag = article.find('a', title='download')\n",
    "            pdf_url = root_url + pdf_url_tag['href'].replace('reader', 'pdf') if pdf_url_tag and pdf_url_tag.get('href') else ''\n",
    "\n",
    "            # Append extracted data\n",
    "            data.append({\n",
    "                'Article Type': article_type,\n",
    "                'Title': title,\n",
    "                'URL': article_url,\n",
    "                'Authors': authors,\n",
    "                'Vol/Issue': volume_issue,\n",
    "                'Published': published,\n",
    "                'DOI': doi,\n",
    "                'Open Access': open_access,\n",
    "                'PDF URL': pdf_url,\n",
    "                'Area of Knowledge': area_of_knowledge\n",
    "            })\n",
    "\n",
    "    # Close WebDriver\n",
    "    driver.quit()\n",
    "\n",
    "    return pd.DataFrame(data)"
   ]
  },
  {
   "cell_type": "markdown",
   "id": "16bbdfff-3cba-4883-8589-c99a3d16d3c2",
   "metadata": {},
   "source": [
    "##### Volume 48 (Issue 1, March 2020; Issue 2, June 2020; Issue 3, September 2020; Issue 4, December 2020)"
   ]
  },
  {
   "cell_type": "code",
   "execution_count": 30,
   "id": "d5be106c-1769-4ea7-9d2a-87ea576e29b6",
   "metadata": {},
   "outputs": [],
   "source": [
    "root_url = 'https://journals.sagepub.com'\n",
    "doi_root_url = 'https://doi.org/'\n",
    "article_list_url = 'https://journals.sagepub.com/toc/enga/48/'\n",
    "start_page = 1\n",
    "end_page = 4\n",
    "area_of_knowledge = 'Linguistic, literature and arts'"
   ]
  },
  {
   "cell_type": "code",
   "execution_count": 31,
   "id": "18ab70ea-38ff-472c-a5ba-b2f291a3f383",
   "metadata": {},
   "outputs": [
    {
     "name": "stderr",
     "output_type": "stream",
     "text": [
      "100%|██████████| 4/4 [00:26<00:00,  6.52s/it]\n"
     ]
    }
   ],
   "source": [
    "df_v48i1i2i3i4 = scrape_articles(root_url, doi_root_url, article_list_url, start_page, end_page, area_of_knowledge)"
   ]
  },
  {
   "cell_type": "markdown",
   "id": "5688e4c3-c1ba-4601-9f14-aa3900262254",
   "metadata": {},
   "source": [
    "##### Volume 49 (Issue 1, March 2021; Issue 2, June 2021; Issue 3, September 2021; Issue 4, December 2021)"
   ]
  },
  {
   "cell_type": "code",
   "execution_count": 32,
   "id": "d2e93f46-401b-4918-9ade-25aacf58279a",
   "metadata": {},
   "outputs": [],
   "source": [
    "root_url = 'https://journals.sagepub.com'\n",
    "doi_root_url = 'https://doi.org/'\n",
    "article_list_url = 'https://journals.sagepub.com/toc/enga/49/'\n",
    "start_page = 1\n",
    "end_page = 4\n",
    "area_of_knowledge = 'Linguistic, literature and arts'"
   ]
  },
  {
   "cell_type": "code",
   "execution_count": 33,
   "id": "52459e51-a4d5-41d1-b750-d269bdb60642",
   "metadata": {},
   "outputs": [
    {
     "name": "stderr",
     "output_type": "stream",
     "text": [
      "100%|██████████| 4/4 [00:24<00:00,  6.16s/it]\n"
     ]
    }
   ],
   "source": [
    "df_v49i1i2i3i4 = scrape_articles(root_url, doi_root_url, article_list_url, start_page, end_page, area_of_knowledge)"
   ]
  },
  {
   "cell_type": "markdown",
   "id": "900eaa92-e409-4951-91ae-f9b22a7721d4",
   "metadata": {},
   "source": [
    "##### Volume 50 (Issue 1, March 2022; Issue 2, June 2022; Issue 3, September 2022; Issue 4, December 2022)"
   ]
  },
  {
   "cell_type": "code",
   "execution_count": 34,
   "id": "f96a2247-581f-4473-81ed-75e89eb5b63d",
   "metadata": {},
   "outputs": [],
   "source": [
    "root_url = 'https://journals.sagepub.com'\n",
    "doi_root_url = 'https://doi.org/'\n",
    "article_list_url = 'https://journals.sagepub.com/toc/enga/50/'\n",
    "start_page = 1\n",
    "end_page = 4\n",
    "area_of_knowledge = 'Linguistic, literature and arts'"
   ]
  },
  {
   "cell_type": "code",
   "execution_count": 35,
   "id": "c9fb59ea-ae91-4aab-8874-550d1ffd65fd",
   "metadata": {},
   "outputs": [
    {
     "name": "stderr",
     "output_type": "stream",
     "text": [
      "100%|██████████| 4/4 [00:25<00:00,  6.45s/it]\n"
     ]
    }
   ],
   "source": [
    "df_v50i1i2i3i4 = scrape_articles(root_url, doi_root_url, article_list_url, start_page, end_page, area_of_knowledge)"
   ]
  },
  {
   "cell_type": "markdown",
   "id": "6a1d2695-335b-4312-ba9c-74729de3cc20",
   "metadata": {},
   "source": [
    "##### Concatenating the DataFrames"
   ]
  },
  {
   "cell_type": "code",
   "execution_count": 36,
   "id": "dedb674d-dff2-48a9-8d71-1a073fe7936f",
   "metadata": {},
   "outputs": [],
   "source": [
    "df_journal_english_linguistics = pd.concat([df_v48i1i2i3i4, df_v49i1i2i3i4, df_v50i1i2i3i4], ignore_index=True)"
   ]
  },
  {
   "cell_type": "code",
   "execution_count": 37,
   "id": "483d446d-8de8-4972-a11c-523a7139ac2e",
   "metadata": {},
   "outputs": [],
   "source": [
    "df_journal_english_linguistics['Published'] = pd.to_datetime(\n",
    "    df_journal_english_linguistics['Published'], format='%B %d, %Y'\n",
    ")"
   ]
  },
  {
   "cell_type": "code",
   "execution_count": 38,
   "id": "c97cdd3b-5e2e-4300-858b-41cb3bda9945",
   "metadata": {},
   "outputs": [
    {
     "data": {
      "text/plain": [
       "Article Type                 object\n",
       "Title                        object\n",
       "URL                          object\n",
       "Authors                      object\n",
       "Vol/Issue                    object\n",
       "Published            datetime64[ns]\n",
       "DOI                          object\n",
       "Open Access                  object\n",
       "PDF URL                      object\n",
       "Area of Knowledge            object\n",
       "dtype: object"
      ]
     },
     "execution_count": 38,
     "metadata": {},
     "output_type": "execute_result"
    }
   ],
   "source": [
    "df_journal_english_linguistics.dtypes"
   ]
  },
  {
   "cell_type": "markdown",
   "id": "56943df2-3d8c-445c-a6f5-9836a72301c0",
   "metadata": {},
   "source": [
    "##### Selecting the 'Open access' and 'Full text access' articles published before the advent of ChatGPT"
   ]
  },
  {
   "cell_type": "code",
   "execution_count": 39,
   "id": "2708ffaf-1f62-4e4b-9e65-2f7874a16bc8",
   "metadata": {},
   "outputs": [
    {
     "data": {
      "text/plain": [
       "array(['Restricted access', 'Open Access', 'Available access'],\n",
       "      dtype=object)"
      ]
     },
     "execution_count": 39,
     "metadata": {},
     "output_type": "execute_result"
    }
   ],
   "source": [
    "unique_open_access = df_journal_english_linguistics['Open Access'].dropna().unique()\n",
    "unique_open_access"
   ]
  },
  {
   "cell_type": "code",
   "execution_count": 40,
   "id": "6e4327d2-6df3-4ebb-8bc5-1cff2793af10",
   "metadata": {},
   "outputs": [],
   "source": [
    "df_journal_english_linguistics_open_access = df_journal_english_linguistics[\n",
    "    (df_journal_english_linguistics['Open Access'] == 'Open Access') | \n",
    "    (df_journal_english_linguistics['Open Access'] == 'Available access')\n",
    "]\n",
    "df_journal_english_linguistics_open_access = df_journal_english_linguistics_open_access[df_journal_english_linguistics_open_access['Published'] <= '2022-11-30']\n",
    "df_journal_english_linguistics_open_access = df_journal_english_linguistics_open_access.reset_index(drop=True)"
   ]
  },
  {
   "cell_type": "markdown",
   "id": "bba81bf5-5478-4dbc-abeb-9565f026e970",
   "metadata": {},
   "source": [
    "#### Retaining only the `Research articles`"
   ]
  },
  {
   "cell_type": "code",
   "execution_count": 41,
   "id": "328d381a-3d31-432d-a2db-767f79a7a09e",
   "metadata": {},
   "outputs": [
    {
     "data": {
      "text/html": [
       "<div>\n",
       "<style scoped>\n",
       "    .dataframe tbody tr th:only-of-type {\n",
       "        vertical-align: middle;\n",
       "    }\n",
       "\n",
       "    .dataframe tbody tr th {\n",
       "        vertical-align: top;\n",
       "    }\n",
       "\n",
       "    .dataframe thead th {\n",
       "        text-align: right;\n",
       "    }\n",
       "</style>\n",
       "<table border=\"1\" class=\"dataframe\">\n",
       "  <thead>\n",
       "    <tr style=\"text-align: right;\">\n",
       "      <th></th>\n",
       "      <th>Article Type</th>\n",
       "      <th>Title</th>\n",
       "      <th>URL</th>\n",
       "      <th>Authors</th>\n",
       "      <th>Vol/Issue</th>\n",
       "      <th>Published</th>\n",
       "      <th>DOI</th>\n",
       "      <th>Open Access</th>\n",
       "      <th>PDF URL</th>\n",
       "      <th>Area of Knowledge</th>\n",
       "    </tr>\n",
       "  </thead>\n",
       "  <tbody>\n",
       "    <tr>\n",
       "      <th>0</th>\n",
       "      <td>Research article</td>\n",
       "      <td>Three Types of Old English Adjectival Postposi...</td>\n",
       "      <td>https://journals.sagepub.com/doi/abs/10.1177/0...</td>\n",
       "      <td>Maciej Grabski</td>\n",
       "      <td>Journal of English Linguistics - Volume 48, Nu...</td>\n",
       "      <td>2020-04-27</td>\n",
       "      <td>https://doi.org/10.1177/0075424220911067</td>\n",
       "      <td>Open Access</td>\n",
       "      <td>https://journals.sagepub.com/doi/pdf/10.1177/0...</td>\n",
       "      <td>Linguistic, literature and arts</td>\n",
       "    </tr>\n",
       "    <tr>\n",
       "      <th>1</th>\n",
       "      <td>Research article</td>\n",
       "      <td>Non-sexist Language Policy and the Rise (and F...</td>\n",
       "      <td>https://journals.sagepub.com/doi/abs/10.1177/0...</td>\n",
       "      <td>Laura L. Paterson</td>\n",
       "      <td>Journal of English Linguistics - Volume 48, Nu...</td>\n",
       "      <td>2020-07-18</td>\n",
       "      <td>https://doi.org/10.1177/0075424220938949</td>\n",
       "      <td>Open Access</td>\n",
       "      <td>https://journals.sagepub.com/doi/pdf/10.1177/0...</td>\n",
       "      <td>Linguistic, literature and arts</td>\n",
       "    </tr>\n",
       "    <tr>\n",
       "      <th>2</th>\n",
       "      <td>Research article</td>\n",
       "      <td>On the History of the English Progressive Cons...</td>\n",
       "      <td>https://journals.sagepub.com/doi/abs/10.1177/0...</td>\n",
       "      <td>Teresa Fanego</td>\n",
       "      <td>Journal of English Linguistics - Volume 48, Nu...</td>\n",
       "      <td>2020-08-10</td>\n",
       "      <td>https://doi.org/10.1177/0075424220945008</td>\n",
       "      <td>Open Access</td>\n",
       "      <td>https://journals.sagepub.com/doi/pdf/10.1177/0...</td>\n",
       "      <td>Linguistic, literature and arts</td>\n",
       "    </tr>\n",
       "    <tr>\n",
       "      <th>3</th>\n",
       "      <td>Research article</td>\n",
       "      <td>ALittleSomething Goes a Long Way:Littlein the ...</td>\n",
       "      <td>https://journals.sagepub.com/doi/abs/10.1177/0...</td>\n",
       "      <td>Claudia Claridge, Ewa Jonsson, Merja Kytö</td>\n",
       "      <td>Journal of English Linguistics - Volume 49, Nu...</td>\n",
       "      <td>2021-01-15</td>\n",
       "      <td>https://doi.org/10.1177/0075424220982063</td>\n",
       "      <td>Open Access</td>\n",
       "      <td>https://journals.sagepub.com/doi/pdf/10.1177/0...</td>\n",
       "      <td>Linguistic, literature and arts</td>\n",
       "    </tr>\n",
       "    <tr>\n",
       "      <th>4</th>\n",
       "      <td>Research article</td>\n",
       "      <td>Intensification in Eighteenth Century Medical ...</td>\n",
       "      <td>https://journals.sagepub.com/doi/abs/10.1177/0...</td>\n",
       "      <td>Turo Hiltunen</td>\n",
       "      <td>Journal of English Linguistics - Volume 49, Nu...</td>\n",
       "      <td>2021-01-15</td>\n",
       "      <td>https://doi.org/10.1177/0075424220982649</td>\n",
       "      <td>Open Access</td>\n",
       "      <td>https://journals.sagepub.com/doi/pdf/10.1177/0...</td>\n",
       "      <td>Linguistic, literature and arts</td>\n",
       "    </tr>\n",
       "    <tr>\n",
       "      <th>5</th>\n",
       "      <td>Research article</td>\n",
       "      <td>Intensificatory Tautology in the History of En...</td>\n",
       "      <td>https://journals.sagepub.com/doi/abs/10.1177/0...</td>\n",
       "      <td>Victorina González-Díaz</td>\n",
       "      <td>Journal of English Linguistics - Volume 49, Nu...</td>\n",
       "      <td>2021-04-01</td>\n",
       "      <td>https://doi.org/10.1177/0075424221999095</td>\n",
       "      <td>Open Access</td>\n",
       "      <td>https://journals.sagepub.com/doi/pdf/10.1177/0...</td>\n",
       "      <td>Linguistic, literature and arts</td>\n",
       "    </tr>\n",
       "    <tr>\n",
       "      <th>6</th>\n",
       "      <td>Research article</td>\n",
       "      <td>Intonation and Referee Design Phenomena in the...</td>\n",
       "      <td>https://journals.sagepub.com/doi/abs/10.1177/0...</td>\n",
       "      <td>Nicole Holliday</td>\n",
       "      <td>Journal of English Linguistics - Volume 49, Nu...</td>\n",
       "      <td>2021-07-06</td>\n",
       "      <td>https://doi.org/10.1177/00754242211024722</td>\n",
       "      <td>Available access</td>\n",
       "      <td>https://journals.sagepub.com/doi/pdf/10.1177/0...</td>\n",
       "      <td>Linguistic, literature and arts</td>\n",
       "    </tr>\n",
       "    <tr>\n",
       "      <th>7</th>\n",
       "      <td>Research article</td>\n",
       "      <td>nurse Vowels in Scottish Standard English: Sti...</td>\n",
       "      <td>https://journals.sagepub.com/doi/abs/10.1177/0...</td>\n",
       "      <td>Zeyu Li, Ulrike Gut, Ole Schützler</td>\n",
       "      <td>Journal of English Linguistics - Volume 49, Nu...</td>\n",
       "      <td>2021-07-06</td>\n",
       "      <td>https://doi.org/10.1177/00754242211025586</td>\n",
       "      <td>Open Access</td>\n",
       "      <td>https://journals.sagepub.com/doi/pdf/10.1177/0...</td>\n",
       "      <td>Linguistic, literature and arts</td>\n",
       "    </tr>\n",
       "    <tr>\n",
       "      <th>8</th>\n",
       "      <td>Research article</td>\n",
       "      <td>Back Vowel Dynamics and Distinctions in Southe...</td>\n",
       "      <td>https://journals.sagepub.com/doi/abs/10.1177/0...</td>\n",
       "      <td>Joseph A. Stanley, Margaret E. L. Renwick, Kat...</td>\n",
       "      <td>Journal of English Linguistics - Volume 49, Nu...</td>\n",
       "      <td>2021-12-20</td>\n",
       "      <td>https://doi.org/10.1177/00754242211043163</td>\n",
       "      <td>Available access</td>\n",
       "      <td>https://journals.sagepub.com/doi/pdf/10.1177/0...</td>\n",
       "      <td>Linguistic, literature and arts</td>\n",
       "    </tr>\n",
       "    <tr>\n",
       "      <th>9</th>\n",
       "      <td>Research article</td>\n",
       "      <td>Mechanisms of Grammaticalization in the Variat...</td>\n",
       "      <td>https://journals.sagepub.com/doi/abs/10.1177/0...</td>\n",
       "      <td>Claire Childs</td>\n",
       "      <td>Journal of English Linguistics - Volume 49, Nu...</td>\n",
       "      <td>2021-12-20</td>\n",
       "      <td>https://doi.org/10.1177/00754242211044837</td>\n",
       "      <td>Open Access</td>\n",
       "      <td>https://journals.sagepub.com/doi/pdf/10.1177/0...</td>\n",
       "      <td>Linguistic, literature and arts</td>\n",
       "    </tr>\n",
       "    <tr>\n",
       "      <th>10</th>\n",
       "      <td>Research article</td>\n",
       "      <td>Regional Variation and Syntactic Derivation of...</td>\n",
       "      <td>https://journals.sagepub.com/doi/abs/10.1177/0...</td>\n",
       "      <td>Christopher Strelluf</td>\n",
       "      <td>Journal of English Linguistics - Volume 50, Nu...</td>\n",
       "      <td>2022-04-01</td>\n",
       "      <td>https://doi.org/10.1177/00754242211066971</td>\n",
       "      <td>Open Access</td>\n",
       "      <td>https://journals.sagepub.com/doi/pdf/10.1177/0...</td>\n",
       "      <td>Linguistic, literature and arts</td>\n",
       "    </tr>\n",
       "    <tr>\n",
       "      <th>11</th>\n",
       "      <td>Research article</td>\n",
       "      <td>Merger Reversal in St. Louis: Implementation a...</td>\n",
       "      <td>https://journals.sagepub.com/doi/abs/10.1177/0...</td>\n",
       "      <td>Daniel Duncan</td>\n",
       "      <td>Journal of English Linguistics - Volume 50, Nu...</td>\n",
       "      <td>2022-04-01</td>\n",
       "      <td>https://doi.org/10.1177/00754242221083648</td>\n",
       "      <td>Open Access</td>\n",
       "      <td>https://journals.sagepub.com/doi/pdf/10.1177/0...</td>\n",
       "      <td>Linguistic, literature and arts</td>\n",
       "    </tr>\n",
       "    <tr>\n",
       "      <th>12</th>\n",
       "      <td>Research article</td>\n",
       "      <td>N-isFocalizers as Semi-fixed Constructions: Mo...</td>\n",
       "      <td>https://journals.sagepub.com/doi/abs/10.1177/0...</td>\n",
       "      <td>Marianne Hundt</td>\n",
       "      <td>Journal of English Linguistics - Volume 50, Nu...</td>\n",
       "      <td>2022-06-09</td>\n",
       "      <td>https://doi.org/10.1177/00754242221081241</td>\n",
       "      <td>Open Access</td>\n",
       "      <td>https://journals.sagepub.com/doi/pdf/10.1177/0...</td>\n",
       "      <td>Linguistic, literature and arts</td>\n",
       "    </tr>\n",
       "    <tr>\n",
       "      <th>13</th>\n",
       "      <td>Research article</td>\n",
       "      <td>A Diachronic Study of Modals and Semi-modals i...</td>\n",
       "      <td>https://journals.sagepub.com/doi/abs/10.1177/0...</td>\n",
       "      <td>Catherine Laliberté</td>\n",
       "      <td>Journal of English Linguistics - Volume 50, Nu...</td>\n",
       "      <td>2022-06-09</td>\n",
       "      <td>https://doi.org/10.1177/00754242221087244</td>\n",
       "      <td>Open Access</td>\n",
       "      <td>https://journals.sagepub.com/doi/pdf/10.1177/0...</td>\n",
       "      <td>Linguistic, literature and arts</td>\n",
       "    </tr>\n",
       "    <tr>\n",
       "      <th>14</th>\n",
       "      <td>Research article</td>\n",
       "      <td>Prevelar Vowel Raising and Merger in Manitoba ...</td>\n",
       "      <td>https://journals.sagepub.com/doi/abs/10.1177/0...</td>\n",
       "      <td>Sky Onosson</td>\n",
       "      <td>Journal of English Linguistics - Volume 50, Nu...</td>\n",
       "      <td>2022-08-27</td>\n",
       "      <td>https://doi.org/10.1177/00754242221109856</td>\n",
       "      <td>Open Access</td>\n",
       "      <td>https://journals.sagepub.com/doi/pdf/10.1177/0...</td>\n",
       "      <td>Linguistic, literature and arts</td>\n",
       "    </tr>\n",
       "    <tr>\n",
       "      <th>15</th>\n",
       "      <td>Research article</td>\n",
       "      <td>Interview With Donka Minkova</td>\n",
       "      <td>https://journals.sagepub.com/doi/abs/10.1177/0...</td>\n",
       "      <td>Kie Zuraw</td>\n",
       "      <td>Journal of English Linguistics - Volume 50, Nu...</td>\n",
       "      <td>2022-11-01</td>\n",
       "      <td>https://doi.org/10.1177/00754242221126692</td>\n",
       "      <td>Open Access</td>\n",
       "      <td>https://journals.sagepub.com/doi/pdf/10.1177/0...</td>\n",
       "      <td>Linguistic, literature and arts</td>\n",
       "    </tr>\n",
       "    <tr>\n",
       "      <th>16</th>\n",
       "      <td>Research article</td>\n",
       "      <td>Reflections From Editors of Journal of English...</td>\n",
       "      <td>https://journals.sagepub.com/doi/abs/10.1177/0...</td>\n",
       "      <td>Alexandra D’Arcy, Peter J. Grund, William A. K...</td>\n",
       "      <td>Journal of English Linguistics - Volume 50, Nu...</td>\n",
       "      <td>2022-10-31</td>\n",
       "      <td>https://doi.org/10.1177/00754242221126533</td>\n",
       "      <td>Open Access</td>\n",
       "      <td>https://journals.sagepub.com/doi/pdf/10.1177/0...</td>\n",
       "      <td>Linguistic, literature and arts</td>\n",
       "    </tr>\n",
       "  </tbody>\n",
       "</table>\n",
       "</div>"
      ],
      "text/plain": [
       "        Article Type                                              Title  \\\n",
       "0   Research article  Three Types of Old English Adjectival Postposi...   \n",
       "1   Research article  Non-sexist Language Policy and the Rise (and F...   \n",
       "2   Research article  On the History of the English Progressive Cons...   \n",
       "3   Research article  ALittleSomething Goes a Long Way:Littlein the ...   \n",
       "4   Research article  Intensification in Eighteenth Century Medical ...   \n",
       "5   Research article  Intensificatory Tautology in the History of En...   \n",
       "6   Research article  Intonation and Referee Design Phenomena in the...   \n",
       "7   Research article  nurse Vowels in Scottish Standard English: Sti...   \n",
       "8   Research article  Back Vowel Dynamics and Distinctions in Southe...   \n",
       "9   Research article  Mechanisms of Grammaticalization in the Variat...   \n",
       "10  Research article  Regional Variation and Syntactic Derivation of...   \n",
       "11  Research article  Merger Reversal in St. Louis: Implementation a...   \n",
       "12  Research article  N-isFocalizers as Semi-fixed Constructions: Mo...   \n",
       "13  Research article  A Diachronic Study of Modals and Semi-modals i...   \n",
       "14  Research article  Prevelar Vowel Raising and Merger in Manitoba ...   \n",
       "15  Research article                       Interview With Donka Minkova   \n",
       "16  Research article  Reflections From Editors of Journal of English...   \n",
       "\n",
       "                                                  URL  \\\n",
       "0   https://journals.sagepub.com/doi/abs/10.1177/0...   \n",
       "1   https://journals.sagepub.com/doi/abs/10.1177/0...   \n",
       "2   https://journals.sagepub.com/doi/abs/10.1177/0...   \n",
       "3   https://journals.sagepub.com/doi/abs/10.1177/0...   \n",
       "4   https://journals.sagepub.com/doi/abs/10.1177/0...   \n",
       "5   https://journals.sagepub.com/doi/abs/10.1177/0...   \n",
       "6   https://journals.sagepub.com/doi/abs/10.1177/0...   \n",
       "7   https://journals.sagepub.com/doi/abs/10.1177/0...   \n",
       "8   https://journals.sagepub.com/doi/abs/10.1177/0...   \n",
       "9   https://journals.sagepub.com/doi/abs/10.1177/0...   \n",
       "10  https://journals.sagepub.com/doi/abs/10.1177/0...   \n",
       "11  https://journals.sagepub.com/doi/abs/10.1177/0...   \n",
       "12  https://journals.sagepub.com/doi/abs/10.1177/0...   \n",
       "13  https://journals.sagepub.com/doi/abs/10.1177/0...   \n",
       "14  https://journals.sagepub.com/doi/abs/10.1177/0...   \n",
       "15  https://journals.sagepub.com/doi/abs/10.1177/0...   \n",
       "16  https://journals.sagepub.com/doi/abs/10.1177/0...   \n",
       "\n",
       "                                              Authors  \\\n",
       "0                                      Maciej Grabski   \n",
       "1                                   Laura L. Paterson   \n",
       "2                                       Teresa Fanego   \n",
       "3           Claudia Claridge, Ewa Jonsson, Merja Kytö   \n",
       "4                                       Turo Hiltunen   \n",
       "5                             Victorina González-Díaz   \n",
       "6                                     Nicole Holliday   \n",
       "7                  Zeyu Li, Ulrike Gut, Ole Schützler   \n",
       "8   Joseph A. Stanley, Margaret E. L. Renwick, Kat...   \n",
       "9                                       Claire Childs   \n",
       "10                               Christopher Strelluf   \n",
       "11                                      Daniel Duncan   \n",
       "12                                     Marianne Hundt   \n",
       "13                                Catherine Laliberté   \n",
       "14                                        Sky Onosson   \n",
       "15                                          Kie Zuraw   \n",
       "16  Alexandra D’Arcy, Peter J. Grund, William A. K...   \n",
       "\n",
       "                                            Vol/Issue  Published  \\\n",
       "0   Journal of English Linguistics - Volume 48, Nu... 2020-04-27   \n",
       "1   Journal of English Linguistics - Volume 48, Nu... 2020-07-18   \n",
       "2   Journal of English Linguistics - Volume 48, Nu... 2020-08-10   \n",
       "3   Journal of English Linguistics - Volume 49, Nu... 2021-01-15   \n",
       "4   Journal of English Linguistics - Volume 49, Nu... 2021-01-15   \n",
       "5   Journal of English Linguistics - Volume 49, Nu... 2021-04-01   \n",
       "6   Journal of English Linguistics - Volume 49, Nu... 2021-07-06   \n",
       "7   Journal of English Linguistics - Volume 49, Nu... 2021-07-06   \n",
       "8   Journal of English Linguistics - Volume 49, Nu... 2021-12-20   \n",
       "9   Journal of English Linguistics - Volume 49, Nu... 2021-12-20   \n",
       "10  Journal of English Linguistics - Volume 50, Nu... 2022-04-01   \n",
       "11  Journal of English Linguistics - Volume 50, Nu... 2022-04-01   \n",
       "12  Journal of English Linguistics - Volume 50, Nu... 2022-06-09   \n",
       "13  Journal of English Linguistics - Volume 50, Nu... 2022-06-09   \n",
       "14  Journal of English Linguistics - Volume 50, Nu... 2022-08-27   \n",
       "15  Journal of English Linguistics - Volume 50, Nu... 2022-11-01   \n",
       "16  Journal of English Linguistics - Volume 50, Nu... 2022-10-31   \n",
       "\n",
       "                                          DOI       Open Access  \\\n",
       "0    https://doi.org/10.1177/0075424220911067       Open Access   \n",
       "1    https://doi.org/10.1177/0075424220938949       Open Access   \n",
       "2    https://doi.org/10.1177/0075424220945008       Open Access   \n",
       "3    https://doi.org/10.1177/0075424220982063       Open Access   \n",
       "4    https://doi.org/10.1177/0075424220982649       Open Access   \n",
       "5    https://doi.org/10.1177/0075424221999095       Open Access   \n",
       "6   https://doi.org/10.1177/00754242211024722  Available access   \n",
       "7   https://doi.org/10.1177/00754242211025586       Open Access   \n",
       "8   https://doi.org/10.1177/00754242211043163  Available access   \n",
       "9   https://doi.org/10.1177/00754242211044837       Open Access   \n",
       "10  https://doi.org/10.1177/00754242211066971       Open Access   \n",
       "11  https://doi.org/10.1177/00754242221083648       Open Access   \n",
       "12  https://doi.org/10.1177/00754242221081241       Open Access   \n",
       "13  https://doi.org/10.1177/00754242221087244       Open Access   \n",
       "14  https://doi.org/10.1177/00754242221109856       Open Access   \n",
       "15  https://doi.org/10.1177/00754242221126692       Open Access   \n",
       "16  https://doi.org/10.1177/00754242221126533       Open Access   \n",
       "\n",
       "                                              PDF URL  \\\n",
       "0   https://journals.sagepub.com/doi/pdf/10.1177/0...   \n",
       "1   https://journals.sagepub.com/doi/pdf/10.1177/0...   \n",
       "2   https://journals.sagepub.com/doi/pdf/10.1177/0...   \n",
       "3   https://journals.sagepub.com/doi/pdf/10.1177/0...   \n",
       "4   https://journals.sagepub.com/doi/pdf/10.1177/0...   \n",
       "5   https://journals.sagepub.com/doi/pdf/10.1177/0...   \n",
       "6   https://journals.sagepub.com/doi/pdf/10.1177/0...   \n",
       "7   https://journals.sagepub.com/doi/pdf/10.1177/0...   \n",
       "8   https://journals.sagepub.com/doi/pdf/10.1177/0...   \n",
       "9   https://journals.sagepub.com/doi/pdf/10.1177/0...   \n",
       "10  https://journals.sagepub.com/doi/pdf/10.1177/0...   \n",
       "11  https://journals.sagepub.com/doi/pdf/10.1177/0...   \n",
       "12  https://journals.sagepub.com/doi/pdf/10.1177/0...   \n",
       "13  https://journals.sagepub.com/doi/pdf/10.1177/0...   \n",
       "14  https://journals.sagepub.com/doi/pdf/10.1177/0...   \n",
       "15  https://journals.sagepub.com/doi/pdf/10.1177/0...   \n",
       "16  https://journals.sagepub.com/doi/pdf/10.1177/0...   \n",
       "\n",
       "                  Area of Knowledge  \n",
       "0   Linguistic, literature and arts  \n",
       "1   Linguistic, literature and arts  \n",
       "2   Linguistic, literature and arts  \n",
       "3   Linguistic, literature and arts  \n",
       "4   Linguistic, literature and arts  \n",
       "5   Linguistic, literature and arts  \n",
       "6   Linguistic, literature and arts  \n",
       "7   Linguistic, literature and arts  \n",
       "8   Linguistic, literature and arts  \n",
       "9   Linguistic, literature and arts  \n",
       "10  Linguistic, literature and arts  \n",
       "11  Linguistic, literature and arts  \n",
       "12  Linguistic, literature and arts  \n",
       "13  Linguistic, literature and arts  \n",
       "14  Linguistic, literature and arts  \n",
       "15  Linguistic, literature and arts  \n",
       "16  Linguistic, literature and arts  "
      ]
     },
     "execution_count": 41,
     "metadata": {},
     "output_type": "execute_result"
    }
   ],
   "source": [
    "df_journal_english_linguistics_open_access = df_journal_english_linguistics_open_access.loc[\n",
    "    df_journal_english_linguistics_open_access['Article Type'] == 'Research article'\n",
    "].reset_index(drop=True)\n",
    "df_journal_english_linguistics_open_access"
   ]
  },
  {
   "cell_type": "markdown",
   "id": "a91385d9-b9ca-4038-9ade-a7e071811f45",
   "metadata": {},
   "source": [
    "#### Inspecting a few articles"
   ]
  },
  {
   "cell_type": "code",
   "execution_count": 42,
   "id": "5cd23c7f-7572-410c-8684-9f2d946dd79b",
   "metadata": {},
   "outputs": [
    {
     "data": {
      "text/plain": [
       "'https://journals.sagepub.com/doi/abs/10.1177/0075424220911067'"
      ]
     },
     "execution_count": 42,
     "metadata": {},
     "output_type": "execute_result"
    }
   ],
   "source": [
    "df_journal_english_linguistics_open_access.at[0, 'URL']"
   ]
  },
  {
   "cell_type": "markdown",
   "id": "29faebef-90a2-4ff1-a484-a722e1c90cb3",
   "metadata": {},
   "source": [
    "#### Exporting to a file"
   ]
  },
  {
   "cell_type": "code",
   "execution_count": 43,
   "id": "56b3f8db-b0f8-418b-bfcc-83701d06c99e",
   "metadata": {},
   "outputs": [],
   "source": [
    "df_journal_english_linguistics_open_access.to_json(f\"{output_directory}/journal_english_linguistics_open_access.jsonl\", orient='records', lines=True)"
   ]
  },
  {
   "cell_type": "markdown",
   "id": "fd58fd0c-d67d-4f96-86c6-c3adf57038ec",
   "metadata": {},
   "source": [
    "### Scraping [Modern Language Review](https://www.mhra.org.uk/journals/MLR)"
   ]
  },
  {
   "cell_type": "markdown",
   "id": "e114ea7b-1c72-4a8f-8ad7-654e869f1f0d",
   "metadata": {},
   "source": [
    "This journal had no 'Open Access' articles at the time of data collection."
   ]
  },
  {
   "cell_type": "markdown",
   "id": "a211e5be-fac7-494e-9d93-5da0556a27a7",
   "metadata": {},
   "source": [
    "### Scraping [PMLA: Publications of the Modern Language Association](https://www.mla.org/Publications/Journals/PMLA)"
   ]
  },
  {
   "cell_type": "markdown",
   "id": "17f3a9ea-920b-4132-b1d5-a55d8eac4fb4",
   "metadata": {},
   "source": [
    "This journal was not open for the public at the time of data collection."
   ]
  },
  {
   "cell_type": "markdown",
   "id": "be1f4e68-2ae4-4a07-a93c-c4b733dccbf4",
   "metadata": {},
   "source": [
    "### Scraping [Corpora](https://www.euppublishing.com/journal/cor)"
   ]
  },
  {
   "cell_type": "markdown",
   "id": "0ba9777f-452c-4ff5-94d0-c3bb23698da1",
   "metadata": {},
   "source": [
    "#### Capturing the data manually"
   ]
  },
  {
   "cell_type": "code",
   "execution_count": 4,
   "id": "5962add8-2db7-4c55-992f-d3ffacd363f2",
   "metadata": {},
   "outputs": [],
   "source": [
    "corpora_dict = {\n",
    "   'Article Type': [\n",
    "      'Research article',\n",
    "      'Research article',\n",
    "      'Research article',\n",
    "      'Research article',\n",
    "      'Research article',\n",
    "      'Research article',\n",
    "      'Research article',\n",
    "      'Research article',\n",
    "      'Research article',\n",
    "   ],\n",
    "   'Title': [\n",
    "      \"Sketching women: a corpus-based approach to representations of women's agency in political Internet corpora in Arabic and English\",\n",
    "      \"PTPARL-D: an annotated corpus of forty-four years of Portuguese parliamentary debates\",\n",
    "      \"English learner corpora and research in Korea\",\n",
    "      \"English lexical bundles in a learner corpus of argumentative essays written by Korean university students\",\n",
    "      \"The ordering of relative clauses and determiner phrases in Chinese interlanguage: a multifactorial study\",\n",
    "      \"Exploring the use of make + noun collocations by Japanese EFL learners through a bilingual essay corpus\",\n",
    "      \"Learner corpus research in Hong Kong: past, present and future\",\n",
    "      \"A corpus-based study of native speakers’ and Taiwanese EFL learners’ use of the adverb just\",\n",
    "      \"Learner corpus research in New Zealand\",\n",
    "   ],\n",
    "   'URL': [\n",
    "      'https://www.euppublishing.com/doi/full/10.3366/cor.2020.0184',\n",
    "      'https://www.euppublishing.com/doi/full/10.3366/cor.2021.0226',\n",
    "      'https://www.euppublishing.com/doi/full/10.3366/cor.2022.0244',\n",
    "      'https://www.euppublishing.com/doi/full/10.3366/cor.2022.0245',\n",
    "      'https://www.euppublishing.com/doi/full/10.3366/cor.2022.0246',\n",
    "      'https://www.euppublishing.com/doi/full/10.3366/cor.2022.0247',\n",
    "      'https://www.euppublishing.com/doi/full/10.3366/cor.2022.0248',\n",
    "      'https://www.euppublishing.com/doi/full/10.3366/cor.2022.0249',\n",
    "      'https://www.euppublishing.com/doi/full/10.3366/cor.2022.0250',\n",
    "   ],\n",
    "   'Authors': [\n",
    "      'Kamran Karimullah',\n",
    "      'Paulo Almeida, Manuel Marques-Pita, and Joana Gonçalves-Sá',\n",
    "      'Heokseung Kwon',\n",
    "      'Isaiah WonHo Yoo and Yu Kyoung Shin',\n",
    "      'Jiajin Xu and Zhaoxia Liu',\n",
    "      'Ryo Sawaguchi and Atsushi Mizumoto',\n",
    "      'Kanglong Liu, Joyce Oiwun Cheung, and Nan Zhao',\n",
    "      'Yi-Ching Lin and Siaw-Fong Chung',\n",
    "      'Anna Siyanova-Chanturia, Jean Parkinson, and Taha Omidian',\n",
    "   ],\n",
    "   'Vol/Issue': [\n",
    "      'Volume 15, Issue 1',\n",
    "      'Volume 16, Issue 3',\n",
    "      'Volume 17, Issue Supplement',\n",
    "      'Volume 17, Issue Supplement',\n",
    "      'Volume 17, Issue Supplement',\n",
    "      'Volume 17, Issue Supplement',\n",
    "      'Volume 17, Issue Supplement',\n",
    "      'Volume 17, Issue Supplement',\n",
    "      'Volume 17, Issue Supplement',\n",
    "   ],\n",
    "   'Published': [\n",
    "      '31 March 2020',\n",
    "      '25 November 2021',\n",
    "      '27 September 2022',\n",
    "      '27 September 2022',\n",
    "      '27 September 2022',\n",
    "      '27 September 2022',\n",
    "      '27 September 2022',\n",
    "      '27 September 2022',\n",
    "      '27 September 2022',\n",
    "   ],\n",
    "   'DOI': [\n",
    "      'https://doi.org/10.3366/cor.2020.0184',\n",
    "      'https://doi.org/10.3366/cor.2021.0226',\n",
    "      'https://doi.org/10.3366/cor.2022.0244',\n",
    "      'https://doi.org/10.3366/cor.2022.0245',\n",
    "      'https://doi.org/10.3366/cor.2022.0246',\n",
    "      'https://doi.org/10.3366/cor.2022.0247',\n",
    "      'https://doi.org/10.3366/cor.2022.0248',\n",
    "      'https://doi.org/10.3366/cor.2022.0249',\n",
    "      'https://doi.org/10.3366/cor.2022.0250',\n",
    "   ],\n",
    "   'Open Access': [\n",
    "      'Open access',\n",
    "      'Open access',\n",
    "      'Free access',\n",
    "      'Free access',\n",
    "      'Free access',\n",
    "      'Free access',\n",
    "      'Free access',\n",
    "      'Free access',\n",
    "      'Free access',\n",
    "   ],\n",
    "   'PDF URL': [\n",
    "      'https://www.euppublishing.com/doi/pdf/10.3366/cor.2020.0184',\n",
    "      'https://www.euppublishing.com/doi/pdf/10.3366/cor.2021.0226',\n",
    "      'https://www.euppublishing.com/doi/pdf/10.3366/cor.2022.0244',\n",
    "      'https://www.euppublishing.com/doi/pdf/10.3366/cor.2022.0245',\n",
    "      'https://www.euppublishing.com/doi/pdf/10.3366/cor.2022.0246',\n",
    "      'https://www.euppublishing.com/doi/pdf/10.3366/cor.2022.0247',\n",
    "      'https://www.euppublishing.com/doi/pdf/10.3366/cor.2022.0248',\n",
    "      'https://www.euppublishing.com/doi/pdf/10.3366/cor.2022.0249',\n",
    "      'https://www.euppublishing.com/doi/pdf/10.3366/cor.2022.0250',\n",
    "   ],\n",
    "   'Discipline': [\n",
    "      'Linguistic, literature and arts',\n",
    "      'Linguistic, literature and arts',\n",
    "      'Linguistic, literature and arts',\n",
    "      'Linguistic, literature and arts',\n",
    "      'Linguistic, literature and arts',\n",
    "      'Linguistic, literature and arts',\n",
    "      'Linguistic, literature and arts',\n",
    "      'Linguistic, literature and arts',\n",
    "      'Linguistic, literature and arts',\n",
    "   ]\n",
    "}"
   ]
  },
  {
   "cell_type": "code",
   "execution_count": 5,
   "id": "6e67f2d5-d656-4780-9b23-984e3f94b036",
   "metadata": {},
   "outputs": [],
   "source": [
    "df_corpora_open_access = pd.DataFrame(corpora_dict)"
   ]
  },
  {
   "cell_type": "code",
   "execution_count": 6,
   "id": "b7ce453a-f521-4341-bf68-c3f38742d120",
   "metadata": {},
   "outputs": [],
   "source": [
    "df_corpora_open_access['Published'] = pd.to_datetime(df_corpora_open_access['Published'], dayfirst=True)"
   ]
  },
  {
   "cell_type": "code",
   "execution_count": 7,
   "id": "15781ad6-3b3f-4af2-b1c4-1e06ccac8e50",
   "metadata": {},
   "outputs": [
    {
     "data": {
      "text/html": [
       "<div>\n",
       "<style scoped>\n",
       "    .dataframe tbody tr th:only-of-type {\n",
       "        vertical-align: middle;\n",
       "    }\n",
       "\n",
       "    .dataframe tbody tr th {\n",
       "        vertical-align: top;\n",
       "    }\n",
       "\n",
       "    .dataframe thead th {\n",
       "        text-align: right;\n",
       "    }\n",
       "</style>\n",
       "<table border=\"1\" class=\"dataframe\">\n",
       "  <thead>\n",
       "    <tr style=\"text-align: right;\">\n",
       "      <th></th>\n",
       "      <th>Article Type</th>\n",
       "      <th>Title</th>\n",
       "      <th>URL</th>\n",
       "      <th>Authors</th>\n",
       "      <th>Vol/Issue</th>\n",
       "      <th>Published</th>\n",
       "      <th>DOI</th>\n",
       "      <th>Open Access</th>\n",
       "      <th>PDF URL</th>\n",
       "      <th>Discipline</th>\n",
       "    </tr>\n",
       "  </thead>\n",
       "  <tbody>\n",
       "    <tr>\n",
       "      <th>0</th>\n",
       "      <td>Research article</td>\n",
       "      <td>Sketching women: a corpus-based approach to re...</td>\n",
       "      <td>https://www.euppublishing.com/doi/full/10.3366...</td>\n",
       "      <td>Kamran Karimullah</td>\n",
       "      <td>Volume 15, Issue 1</td>\n",
       "      <td>2020-03-31</td>\n",
       "      <td>https://doi.org/10.3366/cor.2020.0184</td>\n",
       "      <td>Open access</td>\n",
       "      <td>https://www.euppublishing.com/doi/pdf/10.3366/...</td>\n",
       "      <td>Linguistic, literature and arts</td>\n",
       "    </tr>\n",
       "    <tr>\n",
       "      <th>1</th>\n",
       "      <td>Research article</td>\n",
       "      <td>PTPARL-D: an annotated corpus of forty-four ye...</td>\n",
       "      <td>https://www.euppublishing.com/doi/full/10.3366...</td>\n",
       "      <td>Paulo Almeida, Manuel Marques-Pita, and Joana ...</td>\n",
       "      <td>Volume 16, Issue 3</td>\n",
       "      <td>2021-11-25</td>\n",
       "      <td>https://doi.org/10.3366/cor.2021.0226</td>\n",
       "      <td>Open access</td>\n",
       "      <td>https://www.euppublishing.com/doi/pdf/10.3366/...</td>\n",
       "      <td>Linguistic, literature and arts</td>\n",
       "    </tr>\n",
       "    <tr>\n",
       "      <th>2</th>\n",
       "      <td>Research article</td>\n",
       "      <td>English learner corpora and research in Korea</td>\n",
       "      <td>https://www.euppublishing.com/doi/full/10.3366...</td>\n",
       "      <td>Heokseung Kwon</td>\n",
       "      <td>Volume 17, Issue Supplement</td>\n",
       "      <td>2022-09-27</td>\n",
       "      <td>https://doi.org/10.3366/cor.2022.0244</td>\n",
       "      <td>Free access</td>\n",
       "      <td>https://www.euppublishing.com/doi/pdf/10.3366/...</td>\n",
       "      <td>Linguistic, literature and arts</td>\n",
       "    </tr>\n",
       "    <tr>\n",
       "      <th>3</th>\n",
       "      <td>Research article</td>\n",
       "      <td>English lexical bundles in a learner corpus of...</td>\n",
       "      <td>https://www.euppublishing.com/doi/full/10.3366...</td>\n",
       "      <td>Isaiah WonHo Yoo and Yu Kyoung Shin</td>\n",
       "      <td>Volume 17, Issue Supplement</td>\n",
       "      <td>2022-09-27</td>\n",
       "      <td>https://doi.org/10.3366/cor.2022.0245</td>\n",
       "      <td>Free access</td>\n",
       "      <td>https://www.euppublishing.com/doi/pdf/10.3366/...</td>\n",
       "      <td>Linguistic, literature and arts</td>\n",
       "    </tr>\n",
       "    <tr>\n",
       "      <th>4</th>\n",
       "      <td>Research article</td>\n",
       "      <td>The ordering of relative clauses and determine...</td>\n",
       "      <td>https://www.euppublishing.com/doi/full/10.3366...</td>\n",
       "      <td>Jiajin Xu and Zhaoxia Liu</td>\n",
       "      <td>Volume 17, Issue Supplement</td>\n",
       "      <td>2022-09-27</td>\n",
       "      <td>https://doi.org/10.3366/cor.2022.0246</td>\n",
       "      <td>Free access</td>\n",
       "      <td>https://www.euppublishing.com/doi/pdf/10.3366/...</td>\n",
       "      <td>Linguistic, literature and arts</td>\n",
       "    </tr>\n",
       "    <tr>\n",
       "      <th>5</th>\n",
       "      <td>Research article</td>\n",
       "      <td>Exploring the use of make + noun collocations ...</td>\n",
       "      <td>https://www.euppublishing.com/doi/full/10.3366...</td>\n",
       "      <td>Ryo Sawaguchi and Atsushi Mizumoto</td>\n",
       "      <td>Volume 17, Issue Supplement</td>\n",
       "      <td>2022-09-27</td>\n",
       "      <td>https://doi.org/10.3366/cor.2022.0247</td>\n",
       "      <td>Free access</td>\n",
       "      <td>https://www.euppublishing.com/doi/pdf/10.3366/...</td>\n",
       "      <td>Linguistic, literature and arts</td>\n",
       "    </tr>\n",
       "    <tr>\n",
       "      <th>6</th>\n",
       "      <td>Research article</td>\n",
       "      <td>Learner corpus research in Hong Kong: past, pr...</td>\n",
       "      <td>https://www.euppublishing.com/doi/full/10.3366...</td>\n",
       "      <td>Kanglong Liu, Joyce Oiwun Cheung, and Nan Zhao</td>\n",
       "      <td>Volume 17, Issue Supplement</td>\n",
       "      <td>2022-09-27</td>\n",
       "      <td>https://doi.org/10.3366/cor.2022.0248</td>\n",
       "      <td>Free access</td>\n",
       "      <td>https://www.euppublishing.com/doi/pdf/10.3366/...</td>\n",
       "      <td>Linguistic, literature and arts</td>\n",
       "    </tr>\n",
       "    <tr>\n",
       "      <th>7</th>\n",
       "      <td>Research article</td>\n",
       "      <td>A corpus-based study of native speakers’ and T...</td>\n",
       "      <td>https://www.euppublishing.com/doi/full/10.3366...</td>\n",
       "      <td>Yi-Ching Lin and Siaw-Fong Chung</td>\n",
       "      <td>Volume 17, Issue Supplement</td>\n",
       "      <td>2022-09-27</td>\n",
       "      <td>https://doi.org/10.3366/cor.2022.0249</td>\n",
       "      <td>Free access</td>\n",
       "      <td>https://www.euppublishing.com/doi/pdf/10.3366/...</td>\n",
       "      <td>Linguistic, literature and arts</td>\n",
       "    </tr>\n",
       "    <tr>\n",
       "      <th>8</th>\n",
       "      <td>Research article</td>\n",
       "      <td>Learner corpus research in New Zealand</td>\n",
       "      <td>https://www.euppublishing.com/doi/full/10.3366...</td>\n",
       "      <td>Anna Siyanova-Chanturia, Jean Parkinson, and T...</td>\n",
       "      <td>Volume 17, Issue Supplement</td>\n",
       "      <td>2022-09-27</td>\n",
       "      <td>https://doi.org/10.3366/cor.2022.0250</td>\n",
       "      <td>Free access</td>\n",
       "      <td>https://www.euppublishing.com/doi/pdf/10.3366/...</td>\n",
       "      <td>Linguistic, literature and arts</td>\n",
       "    </tr>\n",
       "  </tbody>\n",
       "</table>\n",
       "</div>"
      ],
      "text/plain": [
       "       Article Type                                              Title  \\\n",
       "0  Research article  Sketching women: a corpus-based approach to re...   \n",
       "1  Research article  PTPARL-D: an annotated corpus of forty-four ye...   \n",
       "2  Research article      English learner corpora and research in Korea   \n",
       "3  Research article  English lexical bundles in a learner corpus of...   \n",
       "4  Research article  The ordering of relative clauses and determine...   \n",
       "5  Research article  Exploring the use of make + noun collocations ...   \n",
       "6  Research article  Learner corpus research in Hong Kong: past, pr...   \n",
       "7  Research article  A corpus-based study of native speakers’ and T...   \n",
       "8  Research article             Learner corpus research in New Zealand   \n",
       "\n",
       "                                                 URL  \\\n",
       "0  https://www.euppublishing.com/doi/full/10.3366...   \n",
       "1  https://www.euppublishing.com/doi/full/10.3366...   \n",
       "2  https://www.euppublishing.com/doi/full/10.3366...   \n",
       "3  https://www.euppublishing.com/doi/full/10.3366...   \n",
       "4  https://www.euppublishing.com/doi/full/10.3366...   \n",
       "5  https://www.euppublishing.com/doi/full/10.3366...   \n",
       "6  https://www.euppublishing.com/doi/full/10.3366...   \n",
       "7  https://www.euppublishing.com/doi/full/10.3366...   \n",
       "8  https://www.euppublishing.com/doi/full/10.3366...   \n",
       "\n",
       "                                             Authors  \\\n",
       "0                                  Kamran Karimullah   \n",
       "1  Paulo Almeida, Manuel Marques-Pita, and Joana ...   \n",
       "2                                     Heokseung Kwon   \n",
       "3                Isaiah WonHo Yoo and Yu Kyoung Shin   \n",
       "4                          Jiajin Xu and Zhaoxia Liu   \n",
       "5                 Ryo Sawaguchi and Atsushi Mizumoto   \n",
       "6     Kanglong Liu, Joyce Oiwun Cheung, and Nan Zhao   \n",
       "7                   Yi-Ching Lin and Siaw-Fong Chung   \n",
       "8  Anna Siyanova-Chanturia, Jean Parkinson, and T...   \n",
       "\n",
       "                     Vol/Issue  Published  \\\n",
       "0           Volume 15, Issue 1 2020-03-31   \n",
       "1           Volume 16, Issue 3 2021-11-25   \n",
       "2  Volume 17, Issue Supplement 2022-09-27   \n",
       "3  Volume 17, Issue Supplement 2022-09-27   \n",
       "4  Volume 17, Issue Supplement 2022-09-27   \n",
       "5  Volume 17, Issue Supplement 2022-09-27   \n",
       "6  Volume 17, Issue Supplement 2022-09-27   \n",
       "7  Volume 17, Issue Supplement 2022-09-27   \n",
       "8  Volume 17, Issue Supplement 2022-09-27   \n",
       "\n",
       "                                     DOI  Open Access  \\\n",
       "0  https://doi.org/10.3366/cor.2020.0184  Open access   \n",
       "1  https://doi.org/10.3366/cor.2021.0226  Open access   \n",
       "2  https://doi.org/10.3366/cor.2022.0244  Free access   \n",
       "3  https://doi.org/10.3366/cor.2022.0245  Free access   \n",
       "4  https://doi.org/10.3366/cor.2022.0246  Free access   \n",
       "5  https://doi.org/10.3366/cor.2022.0247  Free access   \n",
       "6  https://doi.org/10.3366/cor.2022.0248  Free access   \n",
       "7  https://doi.org/10.3366/cor.2022.0249  Free access   \n",
       "8  https://doi.org/10.3366/cor.2022.0250  Free access   \n",
       "\n",
       "                                             PDF URL  \\\n",
       "0  https://www.euppublishing.com/doi/pdf/10.3366/...   \n",
       "1  https://www.euppublishing.com/doi/pdf/10.3366/...   \n",
       "2  https://www.euppublishing.com/doi/pdf/10.3366/...   \n",
       "3  https://www.euppublishing.com/doi/pdf/10.3366/...   \n",
       "4  https://www.euppublishing.com/doi/pdf/10.3366/...   \n",
       "5  https://www.euppublishing.com/doi/pdf/10.3366/...   \n",
       "6  https://www.euppublishing.com/doi/pdf/10.3366/...   \n",
       "7  https://www.euppublishing.com/doi/pdf/10.3366/...   \n",
       "8  https://www.euppublishing.com/doi/pdf/10.3366/...   \n",
       "\n",
       "                        Discipline  \n",
       "0  Linguistic, literature and arts  \n",
       "1  Linguistic, literature and arts  \n",
       "2  Linguistic, literature and arts  \n",
       "3  Linguistic, literature and arts  \n",
       "4  Linguistic, literature and arts  \n",
       "5  Linguistic, literature and arts  \n",
       "6  Linguistic, literature and arts  \n",
       "7  Linguistic, literature and arts  \n",
       "8  Linguistic, literature and arts  "
      ]
     },
     "execution_count": 7,
     "metadata": {},
     "output_type": "execute_result"
    }
   ],
   "source": [
    "df_corpora_open_access"
   ]
  },
  {
   "cell_type": "code",
   "execution_count": 8,
   "id": "de6a0947-582b-4ddc-bbea-3bb8ef75199d",
   "metadata": {},
   "outputs": [
    {
     "data": {
      "text/plain": [
       "'https://www.euppublishing.com/doi/full/10.3366/cor.2020.0184'"
      ]
     },
     "execution_count": 8,
     "metadata": {},
     "output_type": "execute_result"
    }
   ],
   "source": [
    "df_corpora_open_access.at[0, 'URL']"
   ]
  },
  {
   "cell_type": "markdown",
   "id": "d66a801a-22db-4904-bed8-83ec7b9592a0",
   "metadata": {},
   "source": [
    "#### Exporting to a file"
   ]
  },
  {
   "cell_type": "code",
   "execution_count": 9,
   "id": "769ab288-dbc8-41eb-808e-19e3bf804ed2",
   "metadata": {},
   "outputs": [],
   "source": [
    "df_corpora_open_access.to_json(f\"{output_directory}/corpora_open_access.jsonl\", orient='records', lines=True)"
   ]
  },
  {
   "cell_type": "code",
   "execution_count": null,
   "id": "ee25a2dd-6edd-4c4e-9057-2074abbc0b82",
   "metadata": {},
   "outputs": [],
   "source": []
  }
 ],
 "metadata": {
  "kernelspec": {
   "display_name": "Python 3 (ipykernel)",
   "language": "python",
   "name": "python3"
  },
  "language_info": {
   "codemirror_mode": {
    "name": "ipython",
    "version": 3
   },
   "file_extension": ".py",
   "mimetype": "text/x-python",
   "name": "python",
   "nbconvert_exporter": "python",
   "pygments_lexer": "ipython3",
   "version": "3.12.9"
  }
 },
 "nbformat": 4,
 "nbformat_minor": 5
}
