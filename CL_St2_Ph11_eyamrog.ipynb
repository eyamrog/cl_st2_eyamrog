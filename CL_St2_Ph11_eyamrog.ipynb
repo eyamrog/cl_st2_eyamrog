{
 "cells": [
  {
   "cell_type": "markdown",
   "id": "810d9f10-ec19-4b09-8f90-e983e460b319",
   "metadata": {
    "jp-MarkdownHeadingCollapsed": true
   },
   "source": [
    "<center>\n",
    "<img src=\"https://laelgelcpublic.s3.sa-east-1.amazonaws.com/lael_50_years_narrow_white.png.no_years.400px_96dpi.png\" width=\"300\" alt=\"LAEL 50 years logo\">\n",
    "<h3>APPLIED LINGUISTICS GRADUATE PROGRAMME (LAEL)</h3>\n",
    "</center>\n",
    "<hr>"
   ]
  },
  {
   "cell_type": "markdown",
   "id": "888c2c96-2fc3-4a1a-995b-c388036a2a15",
   "metadata": {},
   "source": [
    "# Corpus Linguistics - Study 2 - Phase 1_1 - eyamrog"
   ]
  },
  {
   "cell_type": "markdown",
   "id": "c2b2a221-54af-4c1c-a7fd-c80cda278dcc",
   "metadata": {},
   "source": [
    "The aim of this phase is to check."
   ]
  },
  {
   "cell_type": "markdown",
   "id": "a685d8b0-7715-45a6-9489-2d3db9b346c8",
   "metadata": {},
   "source": [
    "## Required Python packages"
   ]
  },
  {
   "cell_type": "markdown",
   "id": "b526a82b-22a6-4d28-afa2-eb6e7bcca4fb",
   "metadata": {},
   "source": [
    "- beautifulsoup4\n",
    "- lxml\n",
    "- pandas\n",
    "- requests\n",
    "- selenium\n",
    "- tqdm"
   ]
  },
  {
   "cell_type": "markdown",
   "id": "aa922755-c4d6-4008-9aad-d35e33b18ed7",
   "metadata": {},
   "source": [
    "## Importing the required libraries"
   ]
  },
  {
   "cell_type": "code",
   "execution_count": null,
   "id": "182dbbab-65ee-4695-a418-3e9d9d8599e8",
   "metadata": {},
   "outputs": [],
   "source": [
    "import requests\n",
    "from bs4 import BeautifulSoup\n",
    "import re\n",
    "import pandas as pd\n",
    "import os\n",
    "import sys\n",
    "from tqdm import tqdm\n",
    "from selenium import webdriver\n",
    "from selenium.webdriver.edge.service import Service\n",
    "from selenium.webdriver.common.by import By\n",
    "from selenium.webdriver.support.ui import WebDriverWait\n",
    "from selenium.webdriver.support import expected_conditions as EC"
   ]
  },
  {
   "cell_type": "markdown",
   "id": "ef3ad412-2346-43d3-8607-08705487f1b2",
   "metadata": {},
   "source": [
    "## Defining input variables"
   ]
  },
  {
   "cell_type": "code",
   "execution_count": null,
   "id": "a7657874-dc0a-4a7b-ae4b-bb3ca3fd7fa0",
   "metadata": {},
   "outputs": [],
   "source": [
    "input_directory = 'cl_st2_ph1_eyamrog'\n",
    "output_directory = 'cl_st2_ph11_eyamrog'"
   ]
  },
  {
   "cell_type": "markdown",
   "id": "d32b4a24-8a37-4302-9c3e-790aa6dee914",
   "metadata": {},
   "source": [
    "## Creating output directory"
   ]
  },
  {
   "cell_type": "code",
   "execution_count": null,
   "id": "5dce68e3-44e7-4a7e-bc25-73c21ca6fbcb",
   "metadata": {},
   "outputs": [],
   "source": [
    "# Check if the output directory already exists. If it does, do nothing. If it doesn't exist, create it.\n",
    "if os.path.exists(output_directory):\n",
    "    print('Output directory already exists.')\n",
    "else:\n",
    "    try:\n",
    "        os.makedirs(output_directory)\n",
    "        print('Output directory successfully created.')\n",
    "    except OSError as e:\n",
    "        print('Failed to create the directory:', e)\n",
    "        sys.exit(1)"
   ]
  },
  {
   "cell_type": "markdown",
   "id": "6b8c5274-7933-44ef-a148-d1aece85cf52",
   "metadata": {},
   "source": [
    "## Web Scraping [Annual Review of Plant Biology](https://www.annualreviews.org/content/journals/arplant)"
   ]
  },
  {
   "cell_type": "markdown",
   "id": "572549d6-3221-4fb7-916b-b3e78c2851f4",
   "metadata": {},
   "source": [
    "### Importing the data into a DataFrame"
   ]
  },
  {
   "cell_type": "code",
   "execution_count": null,
   "id": "bb7c9f4b-6de3-48ae-a018-646361dbb8a2",
   "metadata": {},
   "outputs": [],
   "source": [
    "df_ar_plant_biology = pd.read_json(f'{input_directory}/ar_plant_biology.jsonl', lines=True)"
   ]
  },
  {
   "cell_type": "code",
   "execution_count": null,
   "id": "9fe7040b-c321-48f8-b9c3-7cd5d0494f65",
   "metadata": {},
   "outputs": [],
   "source": [
    "df_ar_plant_biology.columns"
   ]
  },
  {
   "cell_type": "code",
   "execution_count": null,
   "id": "56691dbb-853d-4920-b6dd-52b154f60278",
   "metadata": {},
   "outputs": [],
   "source": [
    "df_ar_plant_biology['Vol/Year/Page Range'].unique()"
   ]
  },
  {
   "cell_type": "markdown",
   "id": "6b7867ee-091b-4556-adab-1a28fa94edf8",
   "metadata": {},
   "source": [
    "#### Extracting the `Posted` dates from the column `Vol/Year/Page Range`"
   ]
  },
  {
   "cell_type": "code",
   "execution_count": null,
   "id": "20fb8cda-a59d-4110-94f8-69cc8db0943a",
   "metadata": {},
   "outputs": [],
   "source": [
    "# Extract year using RegEx\n",
    "df_ar_plant_biology['Posted'] = df_ar_plant_biology['Vol/Year/Page Range'].str.extract(r'^Vol. .+ \\n\\((\\d{4})\\).+')"
   ]
  },
  {
   "cell_type": "code",
   "execution_count": null,
   "id": "f5d59024-5240-42a8-a3e2-5b741d78d505",
   "metadata": {},
   "outputs": [],
   "source": [
    "df_ar_plant_biology['Posted'] = pd.to_datetime(df_ar_plant_biology['Posted'])"
   ]
  },
  {
   "cell_type": "code",
   "execution_count": null,
   "id": "d2414715-7e2d-42d5-b920-3ece81771bd3",
   "metadata": {},
   "outputs": [],
   "source": [
    "df_ar_plant_biology.dtypes"
   ]
  },
  {
   "cell_type": "code",
   "execution_count": null,
   "id": "c324b187-92fa-4101-bdd9-b99170fb75b5",
   "metadata": {},
   "outputs": [],
   "source": [
    "df_ar_plant_biology"
   ]
  },
  {
   "cell_type": "markdown",
   "id": "3a95cebe-f937-4504-ba67-ab277899eedc",
   "metadata": {},
   "source": [
    "#### Creating the column `Text ID`"
   ]
  },
  {
   "cell_type": "code",
   "execution_count": null,
   "id": "01ea7c99-6083-4f86-a99f-cbafbd34b233",
   "metadata": {},
   "outputs": [],
   "source": [
    "df_ar_plant_biology['Text ID'] = 'ar_plant_biology' + df_ar_plant_biology.index.astype(str).str.zfill(6)"
   ]
  },
  {
   "cell_type": "markdown",
   "id": "d470693b-18f1-45f1-89fa-dc36f23b5f83",
   "metadata": {},
   "source": [
    "#### Inspecting a few samples"
   ]
  },
  {
   "cell_type": "code",
   "execution_count": null,
   "id": "a788abb6-2ada-4ba1-88b9-b758f89cec43",
   "metadata": {},
   "outputs": [],
   "source": [
    "url_sample = df_ar_plant_biology.at[87, 'URL']"
   ]
  },
  {
   "cell_type": "code",
   "execution_count": null,
   "id": "1831d68c-851a-4da7-86d7-e7cb6605f7c0",
   "metadata": {},
   "outputs": [],
   "source": [
    "# Setting up the WebDriver (make sure you have downloaded the Microsoft Edge WebDriver executable)\n",
    "# https://developer.microsoft.com/en-us/microsoft-edge/tools/webdriver/\n",
    "service = Service(r'C:\\Users\\eyamr\\OneDrive\\Documentos\\0-Technology\\laelgelc\\edgedriver_win64\\msedgedriver.exe')\n",
    "driver = webdriver.Edge(service=service)\n",
    "\n",
    "# Navigating to target URL 1 and saving its web page\n",
    "driver.get(url_sample)\n",
    "wait = WebDriverWait(driver, 10)\n",
    "wait.until(EC.presence_of_element_located((By.ID, 'google_esf')))\n",
    "document_page_sample = driver.page_source\n",
    "\n",
    "with open(f'{output_directory}/ar_plant_biology_sample.html', 'w', encoding='utf8', newline='\\n') as file:\n",
    "    file.write(document_page_sample)\n",
    "\n",
    "# Closing the WebDriver\n",
    "driver.quit()"
   ]
  },
  {
   "cell_type": "markdown",
   "id": "e00ba1fa-10bb-46c8-8288-e3de983a6dee",
   "metadata": {},
   "source": [
    "#### Scraping the paragraphs of the articles into TXT format"
   ]
  },
  {
   "cell_type": "code",
   "execution_count": null,
   "id": "9bc8fef5-fffb-4a21-9562-2d7d7839bb21",
   "metadata": {},
   "outputs": [],
   "source": [
    "# Iterating over the rows of the column 'URL' to scrape paragraphs from each article\n",
    "for index, row in df_ar_plant_biology.iterrows():\n",
    "    url = row['URL']\n",
    "    text_id = row['Text ID']\n",
    "    \n",
    "    # Setting up the WebDriver\n",
    "    service = Service(r'C:\\Users\\eyamr\\OneDrive\\Documentos\\0-Technology\\laelgelc\\edgedriver_win64\\msedgedriver.exe')\n",
    "    driver = webdriver.Edge(service=service)\n",
    "    driver.get(url)\n",
    "    \n",
    "    # Wait for page to load\n",
    "    wait = WebDriverWait(driver, 10)\n",
    "    wait.until(EC.presence_of_element_located((By.ID, 'google_esf')))\n",
    "    \n",
    "    page = driver.page_source\n",
    "    soup = BeautifulSoup(page, 'lxml')\n",
    "    paragraphs = soup.find_all('p')\n",
    "    \n",
    "    # Extract text from paragraphs\n",
    "    article_content = '\\n'.join(p.get_text(strip=True) for p in paragraphs)\n",
    "    \n",
    "    # Saving each article's content to a text file\n",
    "    with open(f\"{output_directory}/{text_id}.txt\", 'w', encoding='utf-8') as file:\n",
    "        file.write(article_content)\n",
    "        \n",
    "    # Closing the WebDriver\n",
    "    driver.quit()"
   ]
  },
  {
   "cell_type": "code",
   "execution_count": null,
   "id": "c0c22420-4841-4149-b18c-5c36b14d4d8b",
   "metadata": {},
   "outputs": [],
   "source": []
  }
 ],
 "metadata": {
  "kernelspec": {
   "display_name": "Python 3 (ipykernel)",
   "language": "python",
   "name": "python3"
  },
  "language_info": {
   "codemirror_mode": {
    "name": "ipython",
    "version": 3
   },
   "file_extension": ".py",
   "mimetype": "text/x-python",
   "name": "python",
   "nbconvert_exporter": "python",
   "pygments_lexer": "ipython3",
   "version": "3.12.3"
  }
 },
 "nbformat": 4,
 "nbformat_minor": 5
}
