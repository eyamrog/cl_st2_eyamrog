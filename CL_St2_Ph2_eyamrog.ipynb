{
 "cells": [
  {
   "cell_type": "markdown",
   "id": "810d9f10-ec19-4b09-8f90-e983e460b319",
   "metadata": {},
   "source": [
    "<center>\n",
    "<img src=\"https://laelgelcpublic.s3.sa-east-1.amazonaws.com/lael_50_years_narrow_white.png.no_years.400px_96dpi.png\" width=\"300\" alt=\"LAEL 50 years logo\">\n",
    "<h3>APPLIED LINGUISTICS GRADUATE PROGRAMME (LAEL)</h3>\n",
    "</center>\n",
    "<hr>"
   ]
  },
  {
   "cell_type": "markdown",
   "id": "888c2c96-2fc3-4a1a-995b-c388036a2a15",
   "metadata": {},
   "source": [
    "# Corpus Linguistics - Study 2 - Phase 2 - eyamrog"
   ]
  },
  {
   "cell_type": "markdown",
   "id": "c2b2a221-54af-4c1c-a7fd-c80cda278dcc",
   "metadata": {},
   "source": [
    "The aim of this phase is to select samples per disciple and web scrape the research articles."
   ]
  },
  {
   "cell_type": "markdown",
   "id": "a685d8b0-7715-45a6-9489-2d3db9b346c8",
   "metadata": {},
   "source": [
    "## Required Python packages"
   ]
  },
  {
   "cell_type": "markdown",
   "id": "b526a82b-22a6-4d28-afa2-eb6e7bcca4fb",
   "metadata": {},
   "source": [
    "- beautifulsoup4\n",
    "- lxml\n",
    "- pandas\n",
    "- requests\n",
    "- selenium\n",
    "- tqdm"
   ]
  },
  {
   "cell_type": "markdown",
   "id": "aa922755-c4d6-4008-9aad-d35e33b18ed7",
   "metadata": {},
   "source": [
    "## Import the required libraries"
   ]
  },
  {
   "cell_type": "code",
   "execution_count": 1,
   "id": "182dbbab-65ee-4695-a418-3e9d9d8599e8",
   "metadata": {},
   "outputs": [],
   "source": [
    "import requests\n",
    "from bs4 import BeautifulSoup\n",
    "import re\n",
    "import pandas as pd\n",
    "import os\n",
    "import sys\n",
    "import time\n",
    "import logging\n",
    "from tqdm import tqdm\n",
    "from selenium import webdriver\n",
    "from selenium.webdriver.edge.service import Service\n",
    "from selenium.webdriver.common.by import By\n",
    "from selenium.webdriver.support.ui import WebDriverWait\n",
    "from selenium.webdriver.support import expected_conditions as EC"
   ]
  },
  {
   "cell_type": "markdown",
   "id": "ef3ad412-2346-43d3-8607-08705487f1b2",
   "metadata": {},
   "source": [
    "## Define input variables"
   ]
  },
  {
   "cell_type": "code",
   "execution_count": 2,
   "id": "a7657874-dc0a-4a7b-ae4b-bb3ca3fd7fa0",
   "metadata": {},
   "outputs": [],
   "source": [
    "input_directory = 'cl_st2_ph1_eyamrog'\n",
    "output_directory = 'cl_st2_ph2_eyamrog'\n",
    "log_filename = f\"{output_directory}/{output_directory}.log\""
   ]
  },
  {
   "cell_type": "markdown",
   "id": "cace8b39-99d7-4407-8a1e-768144c6d575",
   "metadata": {},
   "source": [
    "## Set up logging"
   ]
  },
  {
   "cell_type": "code",
   "execution_count": 3,
   "id": "24b5f2ab-69bd-49f5-97d3-19c08d5a997f",
   "metadata": {},
   "outputs": [],
   "source": [
    "logging.basicConfig(\n",
    "    level=logging.INFO,\n",
    "    format='%(asctime)s - %(levelname)s - %(message)s',\n",
    "    filename=log_filename\n",
    ")"
   ]
  },
  {
   "cell_type": "markdown",
   "id": "d32b4a24-8a37-4302-9c3e-790aa6dee914",
   "metadata": {},
   "source": [
    "## Create output directory"
   ]
  },
  {
   "cell_type": "code",
   "execution_count": 4,
   "id": "5dce68e3-44e7-4a7e-bc25-73c21ca6fbcb",
   "metadata": {},
   "outputs": [
    {
     "name": "stdout",
     "output_type": "stream",
     "text": [
      "Output directory already exists.\n"
     ]
    }
   ],
   "source": [
    "# Check if the output directory already exists. If it does, do nothing. If it doesn't exist, create it.\n",
    "if os.path.exists(output_directory):\n",
    "    print('Output directory already exists.')\n",
    "else:\n",
    "    try:\n",
    "        os.makedirs(output_directory)\n",
    "        print('Output directory successfully created.')\n",
    "    except OSError as e:\n",
    "        print('Failed to create the directory:', e)\n",
    "        sys.exit(1)"
   ]
  },
  {
   "cell_type": "markdown",
   "id": "be59f1af-0241-4ded-b909-14a104368831",
   "metadata": {},
   "source": [
    "## Scrape web page functions"
   ]
  },
  {
   "cell_type": "code",
   "execution_count": 5,
   "id": "e5b9020f-508f-4193-abe4-a6286dab3037",
   "metadata": {},
   "outputs": [],
   "source": [
    "def scrape_html_docs1(df, path):\n",
    "    \"\"\"Iterates over a DataFrame and saves HTML pages within a single WebDriver session.\"\"\"\n",
    "    # Setting up the WebDriver\n",
    "    #service = Service(r'C:\\Users\\eyamr\\OneDrive\\00-Technology\\laelgelc\\edgedriver_win64\\msedgedriver.exe')\n",
    "    #service = Service('/Users/eyamrog/laelgelc/edgedriver_mac64/msedgedriver')\n",
    "    service = Service('/home/parallels/laelgelc/edgedriver_linux64/msedgedriver')\n",
    "    driver = webdriver.Edge(service=service)\n",
    "\n",
    "    if not os.path.exists(path):\n",
    "        try:\n",
    "            os.makedirs(path)\n",
    "        except OSError as e:\n",
    "            logging.error(f\"Failed to create the {path} directory: {e}\")\n",
    "            sys.exit(1)\n",
    "\n",
    "    # Iterate over the DataFrame\n",
    "    for _, row in tqdm(df.iterrows(), total=len(df), desc=\"Scraping HTML documents\"):\n",
    "        try:\n",
    "            url = row['URL']\n",
    "            doc_id = row['ID']\n",
    "            filename = os.path.join(path, f\"{doc_id}.html\")\n",
    "\n",
    "            # Load web page\n",
    "            driver.get(url)\n",
    "            # Explicit wait for page elements\n",
    "            wait = WebDriverWait(driver, 10)\n",
    "\n",
    "            # Ensure stable page load\n",
    "            max_wait_time = 30\n",
    "            start_time = time.time()\n",
    "            previous_html = ''\n",
    "            while True:\n",
    "                current_html = driver.page_source\n",
    "                if current_html == previous_html or time.time() - start_time > max_wait_time:\n",
    "                    break\n",
    "                previous_html = current_html\n",
    "                time.sleep(2)\n",
    "\n",
    "            # Capture page source\n",
    "            page_source = driver.page_source\n",
    "\n",
    "            # Save content to file\n",
    "            with open(filename, 'w', encoding='utf-8') as file:\n",
    "                file.write(page_source)\n",
    "\n",
    "            logging.info(f\"Saved: {filename}\")\n",
    "\n",
    "        except Exception as e:\n",
    "            logging.error(f\"Error capturing {url}: {e}\")\n",
    "\n",
    "    # Close WebDriver\n",
    "    driver.quit()"
   ]
  },
  {
   "cell_type": "code",
   "execution_count": 6,
   "id": "c136b932-0c7b-4e26-a735-4f369ee75e46",
   "metadata": {},
   "outputs": [],
   "source": [
    "def scrape_html(url):\n",
    "    \"\"\"Loads a web page and returns its source HTML.\"\"\"\n",
    "    # Setting up the WebDriver\n",
    "    #service = Service(r'C:\\Users\\eyamr\\OneDrive\\00-Technology\\laelgelc\\edgedriver_win64\\msedgedriver.exe')\n",
    "    #service = Service('/Users/eyamrog/laelgelc/edgedriver_mac64/msedgedriver')\n",
    "    service = Service('/home/parallels/laelgelc/edgedriver_linux64/msedgedriver')\n",
    "    driver = webdriver.Edge(service=service)\n",
    "    try:\n",
    "        driver.get(url)\n",
    "\n",
    "        # Explicit wait for stable page load\n",
    "        wait = WebDriverWait(driver, 10)\n",
    "        max_wait_time = 30\n",
    "        start_time = time.time()\n",
    "        previous_html = ''\n",
    "\n",
    "        while True:\n",
    "            current_html = driver.page_source\n",
    "            if current_html == previous_html or time.time() - start_time > max_wait_time:\n",
    "                break\n",
    "            previous_html = current_html\n",
    "            time.sleep(2)\n",
    "\n",
    "        return driver.page_source  # Return page source\n",
    "    except Exception as e:\n",
    "        logging.error(f\"Error scraping {url}: {e}\")\n",
    "        return None\n",
    "\n",
    "    # Close WebDriver\n",
    "    driver.quit()"
   ]
  },
  {
   "cell_type": "code",
   "execution_count": 7,
   "id": "935b3c1d-3ae6-4b2c-bd72-8bac6b550048",
   "metadata": {},
   "outputs": [],
   "source": [
    "def scrape_html_docs2(df, path):\n",
    "    \"\"\"Iterates over a DataFrame and saves HTML pages within multiple WebDriver sessions.\"\"\"\n",
    "    if not os.path.exists(path):\n",
    "        try:\n",
    "            os.makedirs(path)\n",
    "        except OSError as e:\n",
    "            logging.error(f\"Failed to create the {path} directory: {e}\")\n",
    "            sys.exit(1)\n",
    "\n",
    "    for _, row in tqdm(df.iterrows(), total=len(df), desc=\"Scraping HTML documents\"):\n",
    "        url = row['URL']\n",
    "        doc_id = row['ID']\n",
    "        filename = os.path.join(path, f\"{doc_id}.html\")\n",
    "\n",
    "        page_source = scrape_html(url)  # Call scrape_html function\n",
    "\n",
    "        if page_source:\n",
    "            with open(filename, 'w', encoding='utf-8') as file:\n",
    "                file.write(page_source)\n",
    "            logging.info(f\"Saved: {filename}\")"
   ]
  },
  {
   "cell_type": "markdown",
   "id": "7bae7cc4-88c6-474d-bf2f-810ec7375c7a",
   "metadata": {},
   "source": [
    "## Health Sciences"
   ]
  },
  {
   "cell_type": "markdown",
   "id": "c18c6376-2357-4a21-b421-a159999c0ed5",
   "metadata": {},
   "source": [
    "### [Nature Medicine](https://www.nature.com/nm/)"
   ]
  },
  {
   "cell_type": "markdown",
   "id": "546fd353-4b6a-4cbe-937a-69fdadaf30ca",
   "metadata": {},
   "source": [
    "#### Import the data into a DataFrame"
   ]
  },
  {
   "cell_type": "code",
   "execution_count": 8,
   "id": "414b65be-8370-4fe0-965f-bbe74abe50d3",
   "metadata": {},
   "outputs": [],
   "source": [
    "df_nature_medicine_open_access = pd.read_json(f\"{input_directory}/nature_medicine_open_access.jsonl\", lines=True)"
   ]
  },
  {
   "cell_type": "code",
   "execution_count": 9,
   "id": "c455386c-ff89-49c7-aadf-bba48f5f8121",
   "metadata": {},
   "outputs": [],
   "source": [
    "df_nature_medicine_open_access['Published'] = pd.to_datetime(df_nature_medicine_open_access['Published'], unit='ms')"
   ]
  },
  {
   "cell_type": "code",
   "execution_count": 10,
   "id": "f8dd89b0-97f7-40c5-be7a-25b7d47e427d",
   "metadata": {},
   "outputs": [],
   "source": [
    "df_nature_medicine_open_access.rename(columns={\n",
    "    'Authors (compact list)': 'Authors',\n",
    "    'Area of Knowledge': 'Discipline'\n",
    "}, inplace=True)"
   ]
  },
  {
   "cell_type": "markdown",
   "id": "6ea030ff-0b67-42af-abdf-66ef26a4d23b",
   "metadata": {},
   "source": [
    "#### Enrich the DataFrame, export to a file and scrape the HTML documents"
   ]
  },
  {
   "cell_type": "code",
   "execution_count": 11,
   "id": "af348c5c-35e7-4446-8d13-733b9500c301",
   "metadata": {},
   "outputs": [],
   "source": [
    "journal = 'Nature Medicine'\n",
    "id = 'natm'\n",
    "path = os.path.join(output_directory, id)"
   ]
  },
  {
   "cell_type": "code",
   "execution_count": 12,
   "id": "c7fc32e9-e4fe-413b-91db-c92449fcb296",
   "metadata": {},
   "outputs": [],
   "source": [
    "df_nature_medicine_open_access['Journal'] = journal"
   ]
  },
  {
   "cell_type": "code",
   "execution_count": 13,
   "id": "d760ca23-c443-4ea2-b49a-39a158e6a8fa",
   "metadata": {},
   "outputs": [],
   "source": [
    "df_nature_medicine_open_access['ID'] = id + df_nature_medicine_open_access.index.astype(str).str.zfill(6)"
   ]
  },
  {
   "cell_type": "code",
   "execution_count": 14,
   "id": "27ab73c2-2e24-4d2c-9b73-ad2019a91256",
   "metadata": {},
   "outputs": [],
   "source": [
    "df_nature_medicine_open_access.to_json(f\"{output_directory}/nature_medicine_open_access.jsonl\", orient='records', lines=True)"
   ]
  },
  {
   "cell_type": "code",
   "execution_count": 15,
   "id": "d8768cb4-c488-49a0-8e69-e2228365cf89",
   "metadata": {},
   "outputs": [],
   "source": [
    "scrape_html_docs1(df_nature_medicine_open_access, path)"
   ]
  },
  {
   "cell_type": "markdown",
   "id": "d8e7cd58-2f2b-4d00-812e-17907943a65a",
   "metadata": {},
   "source": [
    "### [Annual Review of Public Health](https://www.annualreviews.org/content/journals/publhealth)"
   ]
  },
  {
   "cell_type": "markdown",
   "id": "d3ab4b87-ceb6-430f-ab20-6c360e7ab344",
   "metadata": {},
   "source": [
    "#### Import the data into a DataFrame"
   ]
  },
  {
   "cell_type": "code",
   "execution_count": 16,
   "id": "eaaf49fe-13bb-47c4-9f44-458bea3f8eb3",
   "metadata": {},
   "outputs": [],
   "source": [
    "df_ar_public_health = pd.read_json(f\"{input_directory}/ar_public_health.jsonl\", lines=True)"
   ]
  },
  {
   "cell_type": "code",
   "execution_count": 17,
   "id": "d3fab2da-b1e5-4ef4-9be5-2a20bee2af53",
   "metadata": {},
   "outputs": [],
   "source": [
    "# Extract the year using regex\n",
    "df_ar_public_health['Published'] = df_ar_public_health['Vol/Year/Page Range'].str.extract(r'\\((\\d{4})\\)')"
   ]
  },
  {
   "cell_type": "code",
   "execution_count": 18,
   "id": "201d5995-0c5b-4aea-92b5-24231eb8d9ed",
   "metadata": {},
   "outputs": [],
   "source": [
    "df_ar_public_health['Published'] = pd.to_datetime(\n",
    "    df_ar_public_health['Published'], format='mixed', errors='coerce'\n",
    ")"
   ]
  },
  {
   "cell_type": "code",
   "execution_count": 19,
   "id": "cb62c1a8-0bed-434b-9b9b-03556fe0d6b0",
   "metadata": {},
   "outputs": [],
   "source": [
    "df_ar_public_health.rename(columns={\n",
    "    'Vol/Year/Page Range': 'Vol/Issue',\n",
    "    'Area of Knowledge': 'Discipline'\n",
    "}, inplace=True)"
   ]
  },
  {
   "cell_type": "markdown",
   "id": "ec71d253-cc3c-49cd-be5f-5f7fa77aac8b",
   "metadata": {},
   "source": [
    "#### Enrich the DataFrame, export to a file and scrape the HTML documents"
   ]
  },
  {
   "cell_type": "code",
   "execution_count": 20,
   "id": "8d2e92e0-fdbc-4773-8fc9-5d0769322522",
   "metadata": {},
   "outputs": [],
   "source": [
    "journal = 'Annual Review of Public Health'\n",
    "id = 'arph'\n",
    "path = os.path.join(output_directory, id)"
   ]
  },
  {
   "cell_type": "code",
   "execution_count": 21,
   "id": "d00bb8a1-91a8-4db2-9d3c-bfe2916007ea",
   "metadata": {},
   "outputs": [],
   "source": [
    "df_ar_public_health['Journal'] = journal"
   ]
  },
  {
   "cell_type": "code",
   "execution_count": 22,
   "id": "278e69f5-cdb6-4c8f-a69c-4a4a864f3be4",
   "metadata": {},
   "outputs": [],
   "source": [
    "df_ar_public_health['ID'] = id + df_ar_public_health.index.astype(str).str.zfill(6)"
   ]
  },
  {
   "cell_type": "code",
   "execution_count": 23,
   "id": "5974201f-c456-47f2-8792-20dc0604bc53",
   "metadata": {},
   "outputs": [],
   "source": [
    "df_ar_public_health.to_json(f\"{output_directory}/ar_public_health.jsonl\", orient='records', lines=True)"
   ]
  },
  {
   "cell_type": "code",
   "execution_count": 24,
   "id": "cd6b1da0-ae7d-405e-a951-5016be00459f",
   "metadata": {},
   "outputs": [],
   "source": [
    "scrape_html_docs1(df_ar_public_health, path)"
   ]
  },
  {
   "cell_type": "markdown",
   "id": "26f5f473-3883-4b0e-914e-58419006c98f",
   "metadata": {},
   "source": [
    "### [Lancet Public Health](https://www.thelancet.com/journals/lanpub/home)"
   ]
  },
  {
   "cell_type": "markdown",
   "id": "2df40946-c5ca-416b-afe4-c9006e54295b",
   "metadata": {},
   "source": [
    "#### Import the data into a DataFrame"
   ]
  },
  {
   "cell_type": "code",
   "execution_count": 25,
   "id": "ce33fb27-f04b-4436-b98b-2455158768dc",
   "metadata": {},
   "outputs": [],
   "source": [
    "df_lancet_public_health_open_access = pd.read_json(f\"{input_directory}/lancet_public_health_open_access.jsonl\", lines=True)"
   ]
  },
  {
   "cell_type": "code",
   "execution_count": 26,
   "id": "939146c7-58a0-4797-b477-ac8daee1130d",
   "metadata": {},
   "outputs": [],
   "source": [
    "df_lancet_public_health_open_access['Published'] = pd.to_datetime(df_lancet_public_health_open_access['Published'], unit='ms')"
   ]
  },
  {
   "cell_type": "code",
   "execution_count": 27,
   "id": "64007351-6f1b-4dbd-ba13-96a168276ede",
   "metadata": {},
   "outputs": [],
   "source": [
    "df_lancet_public_health_open_access.rename(columns={\n",
    "    'Area of Knowledge': 'Discipline'\n",
    "}, inplace=True)"
   ]
  },
  {
   "cell_type": "markdown",
   "id": "1be02516-19d0-4947-95f6-60887d8a5e18",
   "metadata": {},
   "source": [
    "#### Enrich the DataFrame, export to a file and scrape the HTML documents"
   ]
  },
  {
   "cell_type": "code",
   "execution_count": 28,
   "id": "64bc0087-b17c-413a-8d4b-c575f5a0746d",
   "metadata": {},
   "outputs": [],
   "source": [
    "journal = 'Lancet Public Health'\n",
    "id = 'laph'\n",
    "path = os.path.join(output_directory, id)"
   ]
  },
  {
   "cell_type": "code",
   "execution_count": 29,
   "id": "c1ee3c58-0949-4dc0-953c-20cd9b305157",
   "metadata": {},
   "outputs": [],
   "source": [
    "df_lancet_public_health_open_access['Journal'] = journal"
   ]
  },
  {
   "cell_type": "code",
   "execution_count": 30,
   "id": "f16b7c47-f571-4550-87b2-3913f751549e",
   "metadata": {},
   "outputs": [],
   "source": [
    "df_lancet_public_health_open_access['ID'] = id + df_lancet_public_health_open_access.index.astype(str).str.zfill(6)"
   ]
  },
  {
   "cell_type": "code",
   "execution_count": 31,
   "id": "5104db8a-1ec4-4f35-ada1-fb94de27f147",
   "metadata": {},
   "outputs": [],
   "source": [
    "df_lancet_public_health_open_access.to_json(f\"{output_directory}/lancet_public_health_open_access.jsonl\", orient='records', lines=True)"
   ]
  },
  {
   "cell_type": "code",
   "execution_count": 32,
   "id": "66c9fb4c-8cb2-4ae2-901f-e0d9ab082e25",
   "metadata": {},
   "outputs": [],
   "source": [
    "scrape_html_docs2(df_lancet_public_health_open_access, path)"
   ]
  },
  {
   "cell_type": "markdown",
   "id": "f194ad6f-39a0-4d59-be27-eb2319a43367",
   "metadata": {},
   "source": [
    "### [New England Journal of Medicine](https://www.nejm.org/)"
   ]
  },
  {
   "cell_type": "markdown",
   "id": "a7de4569-b600-442d-b154-c9e01944fb98",
   "metadata": {},
   "source": [
    "#### Import the data into a DataFrame"
   ]
  },
  {
   "cell_type": "code",
   "execution_count": 33,
   "id": "0ee3cefb-8c5f-46b1-abce-dff7e0d78875",
   "metadata": {},
   "outputs": [],
   "source": [
    "df_new_england_journal_of_medicine_open_access = pd.read_json(f\"{input_directory}/new_england_journal_of_medicine_open_access.jsonl\", lines=True)"
   ]
  },
  {
   "cell_type": "code",
   "execution_count": 34,
   "id": "9a4d264d-ef90-4f01-b817-98a9b4650485",
   "metadata": {},
   "outputs": [],
   "source": [
    "df_new_england_journal_of_medicine_open_access['Published'] = pd.to_datetime(df_new_england_journal_of_medicine_open_access['Published'], unit='ms')"
   ]
  },
  {
   "cell_type": "code",
   "execution_count": 35,
   "id": "1c2c3cef-1b0c-4c16-b73a-eea8588c598c",
   "metadata": {},
   "outputs": [],
   "source": [
    "df_new_england_journal_of_medicine_open_access.rename(columns={\n",
    "    'Free Access': 'Open Access',\n",
    "    'Area of Knowledge': 'Discipline'\n",
    "}, inplace=True)"
   ]
  },
  {
   "cell_type": "markdown",
   "id": "cfd402f6-c2e8-4c70-ba96-6b18980bd3ae",
   "metadata": {},
   "source": [
    "#### Enrich the DataFrame, export to a file and scrape the HTML documents"
   ]
  },
  {
   "cell_type": "code",
   "execution_count": 36,
   "id": "3d421aea-b0f3-4ddb-8c84-20d67ec0a626",
   "metadata": {},
   "outputs": [],
   "source": [
    "journal = 'New England Journal of Medicine'\n",
    "id = 'nejm'\n",
    "path = os.path.join(output_directory, id)"
   ]
  },
  {
   "cell_type": "code",
   "execution_count": 37,
   "id": "e357160e-3f33-49c4-9f85-49c00035d68f",
   "metadata": {},
   "outputs": [],
   "source": [
    "df_new_england_journal_of_medicine_open_access['Journal'] = journal"
   ]
  },
  {
   "cell_type": "code",
   "execution_count": 38,
   "id": "d624ac64-af6d-4c9e-8271-ee26c1859b8e",
   "metadata": {},
   "outputs": [],
   "source": [
    "df_new_england_journal_of_medicine_open_access['ID'] = id + df_new_england_journal_of_medicine_open_access.index.astype(str).str.zfill(6)"
   ]
  },
  {
   "cell_type": "code",
   "execution_count": 39,
   "id": "1c12fc34-d7b7-4501-9967-54c0c2186a50",
   "metadata": {},
   "outputs": [],
   "source": [
    "df_new_england_journal_of_medicine_open_access.to_json(f\"{output_directory}/new_england_journal_of_medicine_open_access.jsonl\", orient='records', lines=True)"
   ]
  },
  {
   "cell_type": "code",
   "execution_count": 40,
   "id": "7eeb9984-cc0a-4c08-a0bb-d59d75dcd9c5",
   "metadata": {},
   "outputs": [],
   "source": [
    "scrape_html_docs2(df_new_england_journal_of_medicine_open_access, path)"
   ]
  },
  {
   "cell_type": "markdown",
   "id": "28ae6b83-4479-4ca7-9411-ba35aac9ff98",
   "metadata": {},
   "source": [
    "## Biological Sciences"
   ]
  },
  {
   "cell_type": "markdown",
   "id": "22cbac84-dc51-49cf-852b-82bb2182c7b0",
   "metadata": {},
   "source": [
    "### [Cell](https://www.cell.com/cell/home)"
   ]
  },
  {
   "cell_type": "markdown",
   "id": "5060d505-54cd-4d32-b01a-1efbff2defa6",
   "metadata": {},
   "source": [
    "#### Import the data into a DataFrame"
   ]
  },
  {
   "cell_type": "code",
   "execution_count": null,
   "id": "42f79848-8e38-43c8-b9b5-13c778d6230f",
   "metadata": {},
   "outputs": [],
   "source": [
    "df_cell_open_access = pd.read_json(f\"{input_directory}/cell_open_access.jsonl\", lines=True)"
   ]
  },
  {
   "cell_type": "raw",
   "id": "7ba50826-583b-4743-b325-c53a53815065",
   "metadata": {},
   "source": [
    "df_cell_open_access['Published'] = pd.to_datetime(df_cell_open_access['Published'], unit='ms')"
   ]
  },
  {
   "cell_type": "code",
   "execution_count": null,
   "id": "f9ae31c6-06a9-46e0-904b-03f2672e847c",
   "metadata": {},
   "outputs": [],
   "source": [
    "df_cell_open_access.rename(columns={\n",
    "    'Area of Knowledge': 'Discipline'\n",
    "}, inplace=True)"
   ]
  },
  {
   "cell_type": "markdown",
   "id": "8eaf5a6c-c0d7-477d-88e7-6f3d67bd945c",
   "metadata": {},
   "source": [
    "#### Enrich the DataFrame, export to a file and scrape the HTML documents"
   ]
  },
  {
   "cell_type": "code",
   "execution_count": null,
   "id": "136d27e3-194b-48bc-bbf7-5034a0d7dc2a",
   "metadata": {},
   "outputs": [],
   "source": [
    "journal = 'Cell'\n",
    "id = 'cell'\n",
    "path = os.path.join(output_directory, id)"
   ]
  },
  {
   "cell_type": "code",
   "execution_count": null,
   "id": "f146126e-93a1-4266-8353-f2bc7df8a950",
   "metadata": {},
   "outputs": [],
   "source": [
    "df_cell_open_access['Journal'] = journal"
   ]
  },
  {
   "cell_type": "code",
   "execution_count": null,
   "id": "56409d87-ea10-49cd-8e29-cb1e7e24fbed",
   "metadata": {},
   "outputs": [],
   "source": [
    "df_cell_open_access['ID'] = id + df_cell_open_access.index.astype(str).str.zfill(6)"
   ]
  },
  {
   "cell_type": "code",
   "execution_count": null,
   "id": "e4fd9f2b-3abe-4668-b6f7-fd85e3980aef",
   "metadata": {},
   "outputs": [],
   "source": [
    "df_cell_open_access.to_json(f\"{output_directory}/cell_open_access.jsonl\", orient='records', lines=True)"
   ]
  },
  {
   "cell_type": "code",
   "execution_count": null,
   "id": "3a661a9e-fcf3-4783-8294-1f77f8ce3b9a",
   "metadata": {},
   "outputs": [],
   "source": [
    "scrape_html_docs2(df_cell_open_access, path)"
   ]
  },
  {
   "cell_type": "markdown",
   "id": "370b99dc-b1d0-41b4-b543-b4d0ed244b56",
   "metadata": {},
   "source": [
    "### [American Journal of Human Biology](https://onlinelibrary.wiley.com/journal/15206300?msockid=0525cb73d9a76a060b80df20d87e6b4b)"
   ]
  },
  {
   "cell_type": "markdown",
   "id": "76d4a177-82d8-4d56-a7f5-5e3387ef9c01",
   "metadata": {},
   "source": [
    "#### Import the data into a DataFrame"
   ]
  },
  {
   "cell_type": "code",
   "execution_count": null,
   "id": "1ba78c8e-6e20-4bf9-aba7-c228663f2abb",
   "metadata": {},
   "outputs": [],
   "source": [
    "df_american_journal_human_biology_open_access = pd.read_json(f\"{input_directory}/american_journal_human_biology_open_access.jsonl\", lines=True)"
   ]
  },
  {
   "cell_type": "code",
   "execution_count": null,
   "id": "f7735dfe-bb52-4849-9395-318240553e01",
   "metadata": {},
   "outputs": [],
   "source": [
    "df_american_journal_human_biology_open_access['Published'] = pd.to_datetime(df_american_journal_human_biology_open_access['Published'], unit='ms')"
   ]
  },
  {
   "cell_type": "code",
   "execution_count": null,
   "id": "0e6a597b-b1f1-4813-b454-1fa16c97a45a",
   "metadata": {},
   "outputs": [],
   "source": [
    "df_american_journal_human_biology_open_access.rename(columns={\n",
    "    'Area of Knowledge': 'Discipline'\n",
    "}, inplace=True)"
   ]
  },
  {
   "cell_type": "markdown",
   "id": "eca51c69-2e34-421e-b40d-4f7990ae3c3e",
   "metadata": {},
   "source": [
    "#### Enrich the DataFrame, export to a file and scrape the HTML documents"
   ]
  },
  {
   "cell_type": "code",
   "execution_count": null,
   "id": "41609acc-fe5c-4274-bbbb-5909506477d6",
   "metadata": {},
   "outputs": [],
   "source": [
    "journal = 'American Journal of Human Biology'\n",
    "id = 'ajhb'\n",
    "path = os.path.join(output_directory, id)"
   ]
  },
  {
   "cell_type": "code",
   "execution_count": null,
   "id": "dfbf2203-2077-4bba-b088-3e45ddc64dfa",
   "metadata": {},
   "outputs": [],
   "source": [
    "df_american_journal_human_biology_open_access['Journal'] = journal"
   ]
  },
  {
   "cell_type": "code",
   "execution_count": null,
   "id": "d9eb9471-2ab9-47eb-a664-3be7828685ce",
   "metadata": {},
   "outputs": [],
   "source": [
    "df_american_journal_human_biology_open_access['ID'] = id + df_american_journal_human_biology_open_access.index.astype(str).str.zfill(6)"
   ]
  },
  {
   "cell_type": "code",
   "execution_count": null,
   "id": "b0cf3ff2-9fd2-4c09-9f71-e10bc67b4299",
   "metadata": {},
   "outputs": [],
   "source": [
    "df_american_journal_human_biology_open_access.to_json(f\"{output_directory}/american_journal_human_biology_open_access.jsonl\", orient='records', lines=True)"
   ]
  },
  {
   "cell_type": "code",
   "execution_count": null,
   "id": "4fd168fb-80b4-4ffe-9adf-dd252ec163cf",
   "metadata": {},
   "outputs": [],
   "source": [
    "scrape_html_docs2(df_american_journal_human_biology_open_access, path)"
   ]
  },
  {
   "cell_type": "markdown",
   "id": "03cc94d3-6310-4294-8ae4-83b0404f4187",
   "metadata": {},
   "source": [
    "## Human Sciences"
   ]
  },
  {
   "cell_type": "markdown",
   "id": "cf5d6440-84a0-4644-8a3a-af917dcb3e8a",
   "metadata": {},
   "source": [
    "### [Annual Review of Anthropology](https://www.annualreviews.org/content/journals/anthro)"
   ]
  },
  {
   "cell_type": "markdown",
   "id": "39d204cc-d743-4d14-a04c-a3548aa87622",
   "metadata": {},
   "source": [
    "#### Import the data into a DataFrame"
   ]
  },
  {
   "cell_type": "code",
   "execution_count": null,
   "id": "3ee6c2c9-3860-443c-934e-db2e5ed2491f",
   "metadata": {},
   "outputs": [],
   "source": [
    "df_ar_anthropology = pd.read_json(f\"{input_directory}/ar_anthropology.jsonl\", lines=True)"
   ]
  },
  {
   "cell_type": "code",
   "execution_count": null,
   "id": "cced4e73-4f7d-41b7-9706-be4f62e8ed04",
   "metadata": {},
   "outputs": [],
   "source": [
    "# Extract the year using regex\n",
    "df_ar_anthropology['Published'] = df_ar_anthropology['Vol/Year/Page Range'].str.extract(r'\\((\\d{4})\\)')"
   ]
  },
  {
   "cell_type": "code",
   "execution_count": null,
   "id": "ef01743f-6014-497f-aa65-8e4c51596b77",
   "metadata": {},
   "outputs": [],
   "source": [
    "df_ar_anthropology['Published'] = pd.to_datetime(\n",
    "    df_ar_anthropology['Published'], format='mixed', errors='coerce'\n",
    ")"
   ]
  },
  {
   "cell_type": "code",
   "execution_count": null,
   "id": "282e50ea-7023-4d1b-8b3e-fb3190141d4b",
   "metadata": {},
   "outputs": [],
   "source": [
    "df_ar_anthropology.rename(columns={\n",
    "    'Vol/Year/Page Range': 'Vol/Issue',\n",
    "    'Area of Knowledge': 'Discipline'\n",
    "}, inplace=True)"
   ]
  },
  {
   "cell_type": "markdown",
   "id": "c5477e8d-20f4-4eee-a892-cffdbc843940",
   "metadata": {},
   "source": [
    "#### Enrich the DataFrame, export to a file and scrape the HTML documents"
   ]
  },
  {
   "cell_type": "code",
   "execution_count": null,
   "id": "616bc66e-a740-4c03-b774-951e95ecc32d",
   "metadata": {},
   "outputs": [],
   "source": [
    "journal = 'Annual Review of Anthropology'\n",
    "id = 'aran'\n",
    "path = os.path.join(output_directory, id)"
   ]
  },
  {
   "cell_type": "code",
   "execution_count": null,
   "id": "494eb682-e785-4712-bcf4-d7793b4f7059",
   "metadata": {},
   "outputs": [],
   "source": [
    "df_ar_anthropology['Journal'] = journal"
   ]
  },
  {
   "cell_type": "code",
   "execution_count": null,
   "id": "d284da83-8177-4e2f-88d7-e8605174277f",
   "metadata": {},
   "outputs": [],
   "source": [
    "df_ar_anthropology['ID'] = id + df_ar_anthropology.index.astype(str).str.zfill(6)"
   ]
  },
  {
   "cell_type": "code",
   "execution_count": null,
   "id": "0e328952-404e-46fd-b802-eb634569706a",
   "metadata": {},
   "outputs": [],
   "source": [
    "df_ar_anthropology.to_json(f\"{output_directory}/ar_anthropology.jsonl\", orient='records', lines=True)"
   ]
  },
  {
   "cell_type": "code",
   "execution_count": null,
   "id": "9a5c8a8e-567d-4869-8868-083148579066",
   "metadata": {},
   "outputs": [],
   "source": [
    "scrape_html_docs1(df_ar_anthropology, path)"
   ]
  },
  {
   "cell_type": "markdown",
   "id": "c370476d-ff6d-4792-8b59-44110bfd7036",
   "metadata": {},
   "source": [
    "### [Journal of Human Evolution](https://www.sciencedirect.com/journal/journal-of-human-evolution)"
   ]
  },
  {
   "cell_type": "markdown",
   "id": "82aab5c9-e497-40f2-b207-4d788c4ce4a6",
   "metadata": {},
   "source": [
    "#### Import the data into a DataFrame"
   ]
  },
  {
   "cell_type": "code",
   "execution_count": null,
   "id": "b308c701-f7c2-46d0-beb8-79d0fb8136fd",
   "metadata": {},
   "outputs": [],
   "source": [
    "df_journal_human_evolution_open_access = pd.read_json(f\"{input_directory}/journal_human_evolution_open_access.jsonl\", lines=True)"
   ]
  },
  {
   "cell_type": "code",
   "execution_count": null,
   "id": "8db31cdb-d34a-4f95-bfda-b212bcd3137b",
   "metadata": {},
   "outputs": [],
   "source": [
    "df_journal_human_evolution_open_access['Published'] = pd.to_datetime(df_journal_human_evolution_open_access['Published'], unit='ms')"
   ]
  },
  {
   "cell_type": "code",
   "execution_count": null,
   "id": "bb059fad-a2af-456c-91cf-0e97a326e880",
   "metadata": {},
   "outputs": [],
   "source": [
    "df_journal_human_evolution_open_access.rename(columns={\n",
    "    'Area of Knowledge': 'Discipline'\n",
    "}, inplace=True)"
   ]
  },
  {
   "cell_type": "markdown",
   "id": "a122b384-3056-4de0-a587-286e600f27da",
   "metadata": {},
   "source": [
    "#### Enrich the DataFrame, export to a file and scrape the HTML documents"
   ]
  },
  {
   "cell_type": "code",
   "execution_count": null,
   "id": "83cd58b6-c5bd-4aaa-abee-af7c7f563f62",
   "metadata": {},
   "outputs": [],
   "source": [
    "journal = 'Journal of Human Evolution'\n",
    "id = 'jhue'\n",
    "path = os.path.join(output_directory, id)"
   ]
  },
  {
   "cell_type": "code",
   "execution_count": null,
   "id": "d510eaab-5fc0-4801-84dd-e804b467c10b",
   "metadata": {},
   "outputs": [],
   "source": [
    "df_journal_human_evolution_open_access['Journal'] = journal"
   ]
  },
  {
   "cell_type": "code",
   "execution_count": null,
   "id": "d6eeb398-d8e0-44ba-a6e4-beb28a921216",
   "metadata": {},
   "outputs": [],
   "source": [
    "df_journal_human_evolution_open_access['ID'] = id + df_journal_human_evolution_open_access.index.astype(str).str.zfill(6)"
   ]
  },
  {
   "cell_type": "code",
   "execution_count": null,
   "id": "3e0910c1-5211-4444-802e-3fd4c862a479",
   "metadata": {},
   "outputs": [],
   "source": [
    "df_journal_human_evolution_open_access.to_json(f\"{output_directory}/journal_human_evolution_open_access.jsonl\", orient='records', lines=True)"
   ]
  },
  {
   "cell_type": "code",
   "execution_count": null,
   "id": "5286e4cc-9ffc-49f7-9f98-38ea0ff42714",
   "metadata": {},
   "outputs": [],
   "source": [
    "scrape_html_docs2(df_journal_human_evolution_open_access, path)"
   ]
  },
  {
   "cell_type": "markdown",
   "id": "08aa4ade-f323-4614-ab65-535d3e6f3d1b",
   "metadata": {},
   "source": [
    "## Applied Social Sciences"
   ]
  },
  {
   "cell_type": "markdown",
   "id": "dfd479fd-73c9-4ca6-ae2f-f9c9dd07ab28",
   "metadata": {},
   "source": [
    "### [Journal of Applied Social Science](https://journals.sagepub.com/home/jax)"
   ]
  },
  {
   "cell_type": "markdown",
   "id": "cfa6d600-ed05-432d-921b-ae1839206143",
   "metadata": {},
   "source": [
    "#### Import the data into a DataFrame"
   ]
  },
  {
   "cell_type": "code",
   "execution_count": null,
   "id": "36125d36-91ac-43f1-97c4-00285fb8634e",
   "metadata": {},
   "outputs": [],
   "source": [
    "df_journal_applied_social_science_open_access = pd.read_json(f\"{input_directory}/journal_applied_social_science_open_access.jsonl\", lines=True)"
   ]
  },
  {
   "cell_type": "code",
   "execution_count": null,
   "id": "47c8cc6c-479e-49cb-a826-f2be51cae4e4",
   "metadata": {},
   "outputs": [],
   "source": [
    "df_journal_applied_social_science_open_access['Published'] = pd.to_datetime(df_journal_applied_social_science_open_access['Published'], unit='ms')"
   ]
  },
  {
   "cell_type": "code",
   "execution_count": null,
   "id": "d0b2582c-d6cf-42b7-b9d8-02bf1733076f",
   "metadata": {},
   "outputs": [],
   "source": [
    "df_journal_applied_social_science_open_access.rename(columns={\n",
    "    'Area of Knowledge': 'Discipline'\n",
    "}, inplace=True)"
   ]
  },
  {
   "cell_type": "markdown",
   "id": "4c33a1f6-c8a1-46f8-a670-f3d22d20d365",
   "metadata": {},
   "source": [
    "#### Enrich the DataFrame, export to a file and scrape the HTML documents"
   ]
  },
  {
   "cell_type": "code",
   "execution_count": null,
   "id": "8f579368-7908-48b8-9b17-443f6ef331bc",
   "metadata": {},
   "outputs": [],
   "source": [
    "journal = 'Journal of Applied Social Science'\n",
    "id = 'jasc'\n",
    "path = os.path.join(output_directory, id)"
   ]
  },
  {
   "cell_type": "code",
   "execution_count": null,
   "id": "4ccbb54b-aebb-4901-895e-ba8ca6f414cd",
   "metadata": {},
   "outputs": [],
   "source": [
    "df_journal_applied_social_science_open_access['Journal'] = journal"
   ]
  },
  {
   "cell_type": "code",
   "execution_count": null,
   "id": "68cd8934-d436-456b-8abe-22c215798f2e",
   "metadata": {},
   "outputs": [],
   "source": [
    "df_journal_applied_social_science_open_access['ID'] = id + df_journal_applied_social_science_open_access.index.astype(str).str.zfill(6)"
   ]
  },
  {
   "cell_type": "code",
   "execution_count": null,
   "id": "7b6abe4b-9896-4397-ba14-3156687988dd",
   "metadata": {},
   "outputs": [],
   "source": [
    "df_journal_applied_social_science_open_access.to_json(f\"{output_directory}/journal_applied_social_science_open_access.jsonl\", orient='records', lines=True)"
   ]
  },
  {
   "cell_type": "code",
   "execution_count": null,
   "id": "c59405bf-76e6-474d-97c8-adbd82f0ab01",
   "metadata": {},
   "outputs": [],
   "source": [
    "scrape_html_docs2(df_journal_applied_social_science_open_access, path)"
   ]
  },
  {
   "cell_type": "markdown",
   "id": "18de5943-41e4-42f6-b412-5989543c79e1",
   "metadata": {},
   "source": [
    "### [Journal of Social Issues](https://spssi.onlinelibrary.wiley.com/journal/15404560)"
   ]
  },
  {
   "cell_type": "markdown",
   "id": "bbb75010-7601-4ad4-951a-c49822930a63",
   "metadata": {},
   "source": [
    "#### Import the data into a DataFrame"
   ]
  },
  {
   "cell_type": "code",
   "execution_count": null,
   "id": "7e56be63-dcf8-4c64-8606-90b333d9a945",
   "metadata": {},
   "outputs": [],
   "source": [
    "df_journal_social_issues_open_access = pd.read_json(f\"{input_directory}/journal_social_issues_open_access.jsonl\", lines=True)"
   ]
  },
  {
   "cell_type": "code",
   "execution_count": null,
   "id": "134393ea-72a1-4c03-aa7f-afce17ff7306",
   "metadata": {},
   "outputs": [],
   "source": [
    "df_journal_social_issues_open_access['Published'] = pd.to_datetime(df_journal_social_issues_open_access['Published'], unit='ms')"
   ]
  },
  {
   "cell_type": "code",
   "execution_count": null,
   "id": "7c4a7992-8e39-485d-90b8-b4af3d18b2f2",
   "metadata": {},
   "outputs": [],
   "source": [
    "df_journal_social_issues_open_access.rename(columns={\n",
    "    'Area of Knowledge': 'Discipline'\n",
    "}, inplace=True)"
   ]
  },
  {
   "cell_type": "markdown",
   "id": "ba8f165d-2ad4-4533-8b79-5a01f95d06e9",
   "metadata": {},
   "source": [
    "#### Enrich the DataFrame, export to a file and scrape the HTML documents"
   ]
  },
  {
   "cell_type": "code",
   "execution_count": null,
   "id": "1795ca55-0862-4805-86b2-3c1707c82fa1",
   "metadata": {},
   "outputs": [],
   "source": [
    "journal = 'Journal of Social Issues'\n",
    "id = 'jsoi'\n",
    "path = os.path.join(output_directory, id)"
   ]
  },
  {
   "cell_type": "code",
   "execution_count": null,
   "id": "f230922c-bc7f-4b82-b30a-28d173bd2a65",
   "metadata": {},
   "outputs": [],
   "source": [
    "df_journal_social_issues_open_access['Journal'] = journal"
   ]
  },
  {
   "cell_type": "code",
   "execution_count": null,
   "id": "a7e0bfe0-0ba4-4bc3-b2ff-286cd283f778",
   "metadata": {},
   "outputs": [],
   "source": [
    "df_journal_social_issues_open_access['ID'] = id + df_journal_social_issues_open_access.index.astype(str).str.zfill(6)"
   ]
  },
  {
   "cell_type": "code",
   "execution_count": null,
   "id": "520449be-85a3-4f62-8a77-e46fbdd5f4eb",
   "metadata": {},
   "outputs": [],
   "source": [
    "df_journal_social_issues_open_access.to_json(f\"{output_directory}/journal_social_issues_open_access.jsonl\", orient='records', lines=True)"
   ]
  },
  {
   "cell_type": "code",
   "execution_count": null,
   "id": "cf09934c-ea19-4f1b-9f06-798290ed786a",
   "metadata": {},
   "outputs": [],
   "source": [
    "scrape_html_docs2(df_journal_social_issues_open_access, path)"
   ]
  },
  {
   "cell_type": "markdown",
   "id": "7c58a660-738e-4042-ae4b-3ca8efc965d1",
   "metadata": {},
   "source": [
    "### [Social Science & Medicine](https://www.sciencedirect.com/journal/social-science-and-medicine)"
   ]
  },
  {
   "cell_type": "markdown",
   "id": "97348f8b-959f-4fe6-b6e0-33dc3959c742",
   "metadata": {},
   "source": [
    "#### Import the data into a DataFrame"
   ]
  },
  {
   "cell_type": "code",
   "execution_count": null,
   "id": "e07c506d-f793-434d-bb0c-b1df690735cc",
   "metadata": {},
   "outputs": [],
   "source": [
    "df_social_science_medicine_open_access = pd.read_json(f\"{input_directory}/social_science_medicine_open_access.jsonl\", lines=True)"
   ]
  },
  {
   "cell_type": "code",
   "execution_count": null,
   "id": "b58ee27d-ba9b-494a-bb19-eaa37bc59c39",
   "metadata": {},
   "outputs": [],
   "source": [
    "df_social_science_medicine_open_access['Published'] = pd.to_datetime(df_social_science_medicine_open_access['Published'], unit='ms')"
   ]
  },
  {
   "cell_type": "code",
   "execution_count": null,
   "id": "65c87080-7715-41f9-b353-6929c3c8d630",
   "metadata": {},
   "outputs": [],
   "source": [
    "df_social_science_medicine_open_access.rename(columns={\n",
    "    'Area of Knowledge': 'Discipline'\n",
    "}, inplace=True)"
   ]
  },
  {
   "cell_type": "markdown",
   "id": "ce431e1d-f098-440c-bcf4-fe08bc0b3ef6",
   "metadata": {},
   "source": [
    "#### Enrich the DataFrame, export to a file and scrape the HTML documents"
   ]
  },
  {
   "cell_type": "code",
   "execution_count": null,
   "id": "259e873f-9de2-4c7b-983e-679feda57ac0",
   "metadata": {},
   "outputs": [],
   "source": [
    "journal = 'Social Science & Medicine'\n",
    "id = 'socm'\n",
    "path = os.path.join(output_directory, id)"
   ]
  },
  {
   "cell_type": "code",
   "execution_count": null,
   "id": "d33dab97-8906-4651-bd87-ed514d2ba5fa",
   "metadata": {},
   "outputs": [],
   "source": [
    "df_social_science_medicine_open_access['Journal'] = journal"
   ]
  },
  {
   "cell_type": "code",
   "execution_count": null,
   "id": "3496521c-85f6-4641-8857-af3005dff882",
   "metadata": {},
   "outputs": [],
   "source": [
    "df_social_science_medicine_open_access['ID'] = id + df_social_science_medicine_open_access.index.astype(str).str.zfill(6)"
   ]
  },
  {
   "cell_type": "code",
   "execution_count": null,
   "id": "998b27d8-8293-4e9a-af2d-8d4eb20a129e",
   "metadata": {},
   "outputs": [],
   "source": [
    "df_social_science_medicine_open_access.to_json(f\"{output_directory}/social_science_medicine_open_access.jsonl\", orient='records', lines=True)"
   ]
  },
  {
   "cell_type": "code",
   "execution_count": null,
   "id": "2386dc73-038c-4dc7-ba8a-f00b14a58dd3",
   "metadata": {},
   "outputs": [],
   "source": [
    "scrape_html_docs2(df_social_science_medicine_open_access, path)"
   ]
  },
  {
   "cell_type": "markdown",
   "id": "10419f0d-9db9-4bc2-9520-89192d9be03b",
   "metadata": {},
   "source": [
    "## Linguistics, literature and arts"
   ]
  },
  {
   "cell_type": "markdown",
   "id": "ff024cb5-3472-4a81-906e-d561e9cfdbcc",
   "metadata": {},
   "source": [
    "### [Applied Corpus Linguistics](https://www.sciencedirect.com/journal/applied-corpus-linguistics)"
   ]
  },
  {
   "cell_type": "markdown",
   "id": "a10ccdec-1da6-48ba-b246-b8ad6fa77c9d",
   "metadata": {},
   "source": [
    "#### Import the data into a DataFrame"
   ]
  },
  {
   "cell_type": "code",
   "execution_count": null,
   "id": "775450ac-f2fa-4738-a513-e6be8f69f166",
   "metadata": {},
   "outputs": [],
   "source": [
    "df_applied_corpus_linguistics_open_access = pd.read_json(f\"{input_directory}/applied_corpus_linguistics_open_access.jsonl\", lines=True)"
   ]
  },
  {
   "cell_type": "code",
   "execution_count": null,
   "id": "7a2961f6-aebb-4d43-9649-cf8c024daa91",
   "metadata": {},
   "outputs": [],
   "source": [
    "df_applied_corpus_linguistics_open_access['Published'] = pd.to_datetime(df_applied_corpus_linguistics_open_access['Published'], unit='ms')"
   ]
  },
  {
   "cell_type": "code",
   "execution_count": null,
   "id": "40fa94c6-b108-410c-9b35-c7bfcd0efddd",
   "metadata": {},
   "outputs": [],
   "source": [
    "df_applied_corpus_linguistics_open_access.rename(columns={\n",
    "    'Area of Knowledge': 'Discipline'\n",
    "}, inplace=True)"
   ]
  },
  {
   "cell_type": "markdown",
   "id": "4b680257-ed54-4265-a525-e655d39c20e5",
   "metadata": {},
   "source": [
    "#### Enrich the DataFrame, export to a file and scrape the HTML documents"
   ]
  },
  {
   "cell_type": "code",
   "execution_count": null,
   "id": "ef848426-58b9-467e-b7e3-7fb2c21fbdea",
   "metadata": {},
   "outputs": [],
   "source": [
    "journal = 'Applied Corpus Linguistics'\n",
    "id = 'apcl'\n",
    "path = os.path.join(output_directory, id)"
   ]
  },
  {
   "cell_type": "code",
   "execution_count": null,
   "id": "45447924-dd28-41be-8257-59568ffc9b94",
   "metadata": {},
   "outputs": [],
   "source": [
    "df_applied_corpus_linguistics_open_access['Journal'] = journal"
   ]
  },
  {
   "cell_type": "code",
   "execution_count": null,
   "id": "9096aba2-6242-4d7f-acf3-d4d5035927f4",
   "metadata": {},
   "outputs": [],
   "source": [
    "df_applied_corpus_linguistics_open_access['ID'] = id + df_applied_corpus_linguistics_open_access.index.astype(str).str.zfill(6)"
   ]
  },
  {
   "cell_type": "code",
   "execution_count": null,
   "id": "4816b028-6390-4fdf-a0a1-77e62d8d2a13",
   "metadata": {},
   "outputs": [],
   "source": [
    "df_applied_corpus_linguistics_open_access.to_json(f\"{output_directory}/applied_corpus_linguistics_open_access.jsonl\", orient='records', lines=True)"
   ]
  },
  {
   "cell_type": "code",
   "execution_count": null,
   "id": "f7a38368-a6b5-4a67-bcf2-5c9276a5a5d7",
   "metadata": {},
   "outputs": [],
   "source": [
    "scrape_html_docs2(df_applied_corpus_linguistics_open_access, path)"
   ]
  },
  {
   "cell_type": "markdown",
   "id": "d2d30cfb-e8e2-4a2e-aa15-7c9a532ca37c",
   "metadata": {},
   "source": [
    "### [Journal of English Linguistics](https://journals.sagepub.com/home/eng)"
   ]
  },
  {
   "cell_type": "markdown",
   "id": "29faebef-90a2-4ff1-a484-a722e1c90cb3",
   "metadata": {},
   "source": [
    "#### Import the data into a DataFrame"
   ]
  },
  {
   "cell_type": "code",
   "execution_count": null,
   "id": "d4adc78a-4aca-4b63-842e-4427180fe8f3",
   "metadata": {},
   "outputs": [],
   "source": [
    "df_journal_english_linguistics_open_access = pd.read_json(f\"{input_directory}/journal_english_linguistics_open_access.jsonl\", lines=True)"
   ]
  },
  {
   "cell_type": "code",
   "execution_count": null,
   "id": "476b4a62-f899-4811-85c3-6b9941a43a88",
   "metadata": {},
   "outputs": [],
   "source": [
    "df_journal_english_linguistics_open_access['Published'] = pd.to_datetime(df_journal_english_linguistics_open_access['Published'], unit='ms')"
   ]
  },
  {
   "cell_type": "code",
   "execution_count": null,
   "id": "358522e6-74c3-4a13-bbb6-20d085c61105",
   "metadata": {},
   "outputs": [],
   "source": [
    "df_journal_english_linguistics_open_access.rename(columns={\n",
    "    'Area of Knowledge': 'Discipline'\n",
    "}, inplace=True)"
   ]
  },
  {
   "cell_type": "markdown",
   "id": "dcfa6e4b-0968-4b07-a4d0-f20c1c71120a",
   "metadata": {},
   "source": [
    "#### Enrich the DataFrame, export to a file and scrape the HTML documents"
   ]
  },
  {
   "cell_type": "code",
   "execution_count": null,
   "id": "9c3b8f44-9bba-4a17-9aff-796558a8de28",
   "metadata": {},
   "outputs": [],
   "source": [
    "journal = 'Journal of English Linguistics'\n",
    "id = 'jenl'\n",
    "path = os.path.join(output_directory, id)"
   ]
  },
  {
   "cell_type": "code",
   "execution_count": null,
   "id": "e3c8ee47-f551-4c18-8550-662eb2e169e6",
   "metadata": {},
   "outputs": [],
   "source": [
    "df_journal_english_linguistics_open_access['Journal'] = journal"
   ]
  },
  {
   "cell_type": "code",
   "execution_count": null,
   "id": "ecb1ee15-bdf0-4fcd-8ba9-10b60782e3fc",
   "metadata": {},
   "outputs": [],
   "source": [
    "df_journal_english_linguistics_open_access['ID'] = id + df_journal_english_linguistics_open_access.index.astype(str).str.zfill(6)"
   ]
  },
  {
   "cell_type": "code",
   "execution_count": null,
   "id": "e4d8a463-ef77-42dd-b0d7-62069a7b354e",
   "metadata": {},
   "outputs": [],
   "source": [
    "df_journal_english_linguistics_open_access.to_json(f\"{output_directory}/journal_english_linguistics_open_access.jsonl\", orient='records', lines=True)"
   ]
  },
  {
   "cell_type": "code",
   "execution_count": null,
   "id": "6659ec2a-9269-4992-97a9-ee4e8ab29167",
   "metadata": {},
   "outputs": [],
   "source": [
    "scrape_html_docs2(df_journal_english_linguistics_open_access, path)"
   ]
  },
  {
   "cell_type": "markdown",
   "id": "300dead3-6978-4466-8b6f-0a6fd833a37d",
   "metadata": {},
   "source": [
    "## Concatenate the DataFrames for inspection"
   ]
  },
  {
   "cell_type": "code",
   "execution_count": null,
   "id": "3a6532c2-36da-4726-b64f-1bbb191a70e7",
   "metadata": {},
   "outputs": [],
   "source": [
    "df_concatenated = pd.concat([\n",
    "    df_nature_medicine_open_access,\n",
    "    df_ar_public_health,\n",
    "    df_lancet_public_health_open_access,\n",
    "    df_new_england_journal_of_medicine_open_access,\n",
    "    df_cell_open_access,\n",
    "    df_american_journal_human_biology_open_access,\n",
    "    df_ar_anthropology,\n",
    "    df_journal_human_evolution_open_access,\n",
    "    df_journal_applied_social_science_open_access,\n",
    "    df_journal_social_issues_open_access,\n",
    "    df_social_science_medicine_open_access,\n",
    "    df_applied_corpus_linguistics_open_access,\n",
    "    df_journal_english_linguistics_open_access\n",
    "], ignore_index=True)"
   ]
  },
  {
   "cell_type": "code",
   "execution_count": null,
   "id": "92c61b87-532b-4e0e-9d93-ede727b97fb1",
   "metadata": {},
   "outputs": [],
   "source": [
    "df_concatenated"
   ]
  },
  {
   "cell_type": "markdown",
   "id": "23fcdee2-0ee5-47bc-bc7e-11796486d823",
   "metadata": {},
   "source": [
    "### Export to a file"
   ]
  },
  {
   "cell_type": "code",
   "execution_count": null,
   "id": "6128b822-8106-4c8b-b875-6fa15d24d39d",
   "metadata": {},
   "outputs": [],
   "source": [
    "df_concatenated.to_excel(f\"{output_directory}/df_concatenated.xlsx\")"
   ]
  },
  {
   "cell_type": "code",
   "execution_count": null,
   "id": "6155ad8a-60eb-418b-88c9-0255dda70130",
   "metadata": {},
   "outputs": [],
   "source": []
  }
 ],
 "metadata": {
  "kernelspec": {
   "display_name": "Python 3 (ipykernel)",
   "language": "python",
   "name": "python3"
  },
  "language_info": {
   "codemirror_mode": {
    "name": "ipython",
    "version": 3
   },
   "file_extension": ".py",
   "mimetype": "text/x-python",
   "name": "python",
   "nbconvert_exporter": "python",
   "pygments_lexer": "ipython3",
   "version": "3.12.3"
  }
 },
 "nbformat": 4,
 "nbformat_minor": 5
}
