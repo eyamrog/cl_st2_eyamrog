{
 "cells": [
  {
   "cell_type": "markdown",
   "id": "810d9f10-ec19-4b09-8f90-e983e460b319",
   "metadata": {},
   "source": [
    "<center>\n",
    "<img src=\"https://laelgelcpublic.s3.sa-east-1.amazonaws.com/lael_50_years_narrow_white.png.no_years.400px_96dpi.png\" width=\"300\" alt=\"LAEL 50 years logo\">\n",
    "<h3>APPLIED LINGUISTICS GRADUATE PROGRAMME (LAEL)</h3>\n",
    "</center>\n",
    "<hr>"
   ]
  },
  {
   "cell_type": "markdown",
   "id": "888c2c96-2fc3-4a1a-995b-c388036a2a15",
   "metadata": {},
   "source": [
    "# Corpus Linguistics - Study 2 - Phase 4 - eyamrog"
   ]
  },
  {
   "cell_type": "markdown",
   "id": "c2b2a221-54af-4c1c-a7fd-c80cda278dcc",
   "metadata": {},
   "source": [
    "The aim of this phase is to design the `QJPP` corpus."
   ]
  },
  {
   "cell_type": "markdown",
   "id": "a685d8b0-7715-45a6-9489-2d3db9b346c8",
   "metadata": {},
   "source": [
    "## Required Python packages"
   ]
  },
  {
   "cell_type": "markdown",
   "id": "b526a82b-22a6-4d28-afa2-eb6e7bcca4fb",
   "metadata": {},
   "source": [
    "- pandas"
   ]
  },
  {
   "cell_type": "markdown",
   "id": "aa922755-c4d6-4008-9aad-d35e33b18ed7",
   "metadata": {},
   "source": [
    "## Import the required libraries"
   ]
  },
  {
   "cell_type": "code",
   "execution_count": 1,
   "id": "182dbbab-65ee-4695-a418-3e9d9d8599e8",
   "metadata": {},
   "outputs": [],
   "source": [
    "import pandas as pd\n",
    "import os\n",
    "import sys\n",
    "import numpy as np"
   ]
  },
  {
   "cell_type": "markdown",
   "id": "ef3ad412-2346-43d3-8607-08705487f1b2",
   "metadata": {},
   "source": [
    "## Define input variables"
   ]
  },
  {
   "cell_type": "code",
   "execution_count": 2,
   "id": "a7657874-dc0a-4a7b-ae4b-bb3ca3fd7fa0",
   "metadata": {},
   "outputs": [],
   "source": [
    "input_directory = 'cl_st2_ph2_eyamrog'\n",
    "output_directory = 'cl_st2_ph4_eyamrog'"
   ]
  },
  {
   "cell_type": "markdown",
   "id": "d32b4a24-8a37-4302-9c3e-790aa6dee914",
   "metadata": {},
   "source": [
    "## Create output directory"
   ]
  },
  {
   "cell_type": "code",
   "execution_count": 3,
   "id": "5dce68e3-44e7-4a7e-bc25-73c21ca6fbcb",
   "metadata": {},
   "outputs": [
    {
     "name": "stdout",
     "output_type": "stream",
     "text": [
      "Output directory already exists.\n"
     ]
    }
   ],
   "source": [
    "# Check if the output directory already exists. If it does, do nothing. If it doesn't exist, create it.\n",
    "if os.path.exists(output_directory):\n",
    "    print('Output directory already exists.')\n",
    "else:\n",
    "    try:\n",
    "        os.makedirs(output_directory)\n",
    "        print('Output directory successfully created.')\n",
    "    except OSError as e:\n",
    "        print('Failed to create the directory:', e)\n",
    "        sys.exit(1)"
   ]
  },
  {
   "cell_type": "markdown",
   "id": "74e32a21-1ea8-4563-aa6f-ee00cceeb3f6",
   "metadata": {},
   "source": [
    "### Create output subdirectories"
   ]
  },
  {
   "cell_type": "code",
   "execution_count": 4,
   "id": "02ec67dc-d7bd-4dc3-85e3-611c633ef03b",
   "metadata": {},
   "outputs": [],
   "source": [
    "def create_directory(path):\n",
    "    \"\"\"Creates a subdirectory if it doesn't exist.\"\"\"\n",
    "    if not os.path.exists(path):\n",
    "        try:\n",
    "            os.makedirs(path)\n",
    "            print(f\"Successfully created the directory: {path}\")\n",
    "        except OSError as e:\n",
    "            print(f\"Failed to create the {path} directory: {e}\")\n",
    "            sys.exit(1)\n",
    "    else:\n",
    "        print(f\"Directory already exists: {path}\")"
   ]
  },
  {
   "cell_type": "markdown",
   "id": "313ad91c-26f2-414d-974f-0ad147e9b05d",
   "metadata": {},
   "source": [
    "## List documents without `Abstract`"
   ]
  },
  {
   "cell_type": "markdown",
   "id": "784fa1ff-4c73-4e14-bc35-4168ee46e671",
   "metadata": {},
   "source": [
    "Identify documents that may not be `Research Articles` by checking the absence of `Abstract` section."
   ]
  },
  {
   "cell_type": "code",
   "execution_count": 5,
   "id": "04283c06-cde3-4665-a7c3-3e4e4bb38a0c",
   "metadata": {},
   "outputs": [],
   "source": [
    "def get_files_without_abstract(directory):\n",
    "    no_abstract = []\n",
    "\n",
    "    for filename in os.listdir(directory):\n",
    "        if filename.endswith('.txt'):\n",
    "            file_path = os.path.join(directory, filename)\n",
    "\n",
    "            with open(file_path, 'r', encoding='utf-8') as f:\n",
    "                has_abstract = any(\n",
    "                    line.strip().startswith('Abstract:') or\n",
    "                    line.strip().startswith('Section: ABSTRACT')\n",
    "                    for line in f\n",
    "                )\n",
    "\n",
    "            if not has_abstract:\n",
    "                no_abstract.append(os.path.splitext(filename)[0]) # Remove '.txt'\n",
    "\n",
    "    return no_abstract"
   ]
  },
  {
   "cell_type": "code",
   "execution_count": 6,
   "id": "d14cd5c5-82b2-4cdc-a8b3-c5cba96dac90",
   "metadata": {},
   "outputs": [],
   "source": [
    "def get_urls_from_ids(df, id_list, id_column='ID', url_column='URL'):\n",
    "    \"\"\"\n",
    "    Given a DataFrame and a list of IDs, return a list of corresponding URLs.\n",
    "\n",
    "    Parameters:\n",
    "    - df: pandas DataFrame containing at least 'ID' and 'URL' columns\n",
    "    - id_list: list of ID values to match\n",
    "    - id_column: column name in df that contains IDs (default 'ID')\n",
    "    - url_column: column name in df that contains URLs (default 'URL')\n",
    "\n",
    "    Returns:\n",
    "    - List of URLs matching the given IDs\n",
    "    \"\"\"\n",
    "    filtered = df[df[id_column].isin(id_list)]\n",
    "    return filtered[url_column].tolist()"
   ]
  },
  {
   "cell_type": "markdown",
   "id": "ce914edb-8afd-4257-9819-0e2c2c9dbc83",
   "metadata": {},
   "source": [
    "## QJPP Design"
   ]
  },
  {
   "cell_type": "markdown",
   "id": "25c8ba7c-82cf-4c5c-9e6a-41cb053f652b",
   "metadata": {},
   "source": [
    "### Define `QJPP Text Count` proportional to `EL2AP Text Count`"
   ]
  },
  {
   "cell_type": "code",
   "execution_count": 7,
   "id": "c8cdf909-6bda-4057-a271-aee3d68483a2",
   "metadata": {},
   "outputs": [],
   "source": [
    "qjpp_dict = {\n",
    "    'Discipline': [\n",
    "        'Health Sciences',\n",
    "        'Biological Sciences',\n",
    "        'Human Sciences',\n",
    "        'Applied Social Sciences',\n",
    "        'Linguistic, literature and arts'\n",
    "    ],\n",
    "    'EL2AP Text Count': [\n",
    "        45, 46, 26, 21, 15\n",
    "    ]\n",
    "}"
   ]
  },
  {
   "cell_type": "code",
   "execution_count": 8,
   "id": "8404bb29-1c5e-49a4-8162-277cfb952622",
   "metadata": {},
   "outputs": [],
   "source": [
    "df_qjpp_design = pd.DataFrame(qjpp_dict)"
   ]
  },
  {
   "cell_type": "markdown",
   "id": "efa4e346-e434-413c-8a1c-723b97aa4ccc",
   "metadata": {},
   "source": [
    "For QJPP reference corpus, the discipline that was the lowest text count is `Linguistic, literature and arts` with 20 texts. The text count in other disciplines should follow the proportion of 20 QJPP texts per 15 EL2AP texts."
   ]
  },
  {
   "cell_type": "code",
   "execution_count": 9,
   "id": "6c2a14b5-718f-47eb-8e35-634e21bb8238",
   "metadata": {},
   "outputs": [],
   "source": [
    "proportion_factor = 20/15"
   ]
  },
  {
   "cell_type": "code",
   "execution_count": 10,
   "id": "e60281c0-8cab-4f58-b60a-074d14f3a26c",
   "metadata": {},
   "outputs": [],
   "source": [
    "df_qjpp_design['QJPP Text Count'] = np.ceil(\n",
    "    df_qjpp_design['EL2AP Text Count'] * proportion_factor\n",
    ").astype(int)"
   ]
  },
  {
   "cell_type": "code",
   "execution_count": 11,
   "id": "8b962779-35a6-435b-803e-68000b79a33b",
   "metadata": {},
   "outputs": [
    {
     "data": {
      "text/html": [
       "<div>\n",
       "<style scoped>\n",
       "    .dataframe tbody tr th:only-of-type {\n",
       "        vertical-align: middle;\n",
       "    }\n",
       "\n",
       "    .dataframe tbody tr th {\n",
       "        vertical-align: top;\n",
       "    }\n",
       "\n",
       "    .dataframe thead th {\n",
       "        text-align: right;\n",
       "    }\n",
       "</style>\n",
       "<table border=\"1\" class=\"dataframe\">\n",
       "  <thead>\n",
       "    <tr style=\"text-align: right;\">\n",
       "      <th></th>\n",
       "      <th>Discipline</th>\n",
       "      <th>EL2AP Text Count</th>\n",
       "      <th>QJPP Text Count</th>\n",
       "    </tr>\n",
       "  </thead>\n",
       "  <tbody>\n",
       "    <tr>\n",
       "      <th>0</th>\n",
       "      <td>Health Sciences</td>\n",
       "      <td>45</td>\n",
       "      <td>60</td>\n",
       "    </tr>\n",
       "    <tr>\n",
       "      <th>1</th>\n",
       "      <td>Biological Sciences</td>\n",
       "      <td>46</td>\n",
       "      <td>62</td>\n",
       "    </tr>\n",
       "    <tr>\n",
       "      <th>2</th>\n",
       "      <td>Human Sciences</td>\n",
       "      <td>26</td>\n",
       "      <td>35</td>\n",
       "    </tr>\n",
       "    <tr>\n",
       "      <th>3</th>\n",
       "      <td>Applied Social Sciences</td>\n",
       "      <td>21</td>\n",
       "      <td>28</td>\n",
       "    </tr>\n",
       "    <tr>\n",
       "      <th>4</th>\n",
       "      <td>Linguistic, literature and arts</td>\n",
       "      <td>15</td>\n",
       "      <td>20</td>\n",
       "    </tr>\n",
       "  </tbody>\n",
       "</table>\n",
       "</div>"
      ],
      "text/plain": [
       "                        Discipline  EL2AP Text Count  QJPP Text Count\n",
       "0                  Health Sciences                45               60\n",
       "1              Biological Sciences                46               62\n",
       "2                   Human Sciences                26               35\n",
       "3          Applied Social Sciences                21               28\n",
       "4  Linguistic, literature and arts                15               20"
      ]
     },
     "execution_count": 11,
     "metadata": {},
     "output_type": "execute_result"
    }
   ],
   "source": [
    "df_qjpp_design"
   ]
  },
  {
   "cell_type": "markdown",
   "id": "116d3439-80eb-43ac-bdf7-37b168894eeb",
   "metadata": {},
   "source": [
    "### Splitting the quantities among QJPP's journals"
   ]
  },
  {
   "cell_type": "markdown",
   "id": "440503c0-f917-434e-8793-d139a4bfbc2f",
   "metadata": {},
   "source": [
    "#### Map the journals"
   ]
  },
  {
   "cell_type": "code",
   "execution_count": 12,
   "id": "102e2245-ab35-4f6b-b1e6-7dbc24698dd6",
   "metadata": {},
   "outputs": [],
   "source": [
    "qjpp_journal_map = {\n",
    "    'Health Sciences': [\n",
    "        'Nature Medicine',\n",
    "        'Annual Review of Public Health',\n",
    "        'Lancet Public Health',\n",
    "        'New England Journal of Medicine'\n",
    "    ],\n",
    "    'Biological Sciences': [\n",
    "        'Cell',\n",
    "        'American Journal of Human Biology'\n",
    "    ],\n",
    "    'Human Sciences': [\n",
    "        'Annual Review of Anthropology',\n",
    "        'Journal of Human Evolution'\n",
    "    ],\n",
    "    'Applied Social Sciences': [\n",
    "        'Journal of Applied Social Science',\n",
    "        'Journal of Social Issues',\n",
    "        'Social Science & Medicine'\n",
    "    ],\n",
    "    'Linguistic, literature and arts': [\n",
    "        'Applied Corpus Linguistics',\n",
    "        'Journal of English Linguistics'\n",
    "    ]\n",
    "}"
   ]
  },
  {
   "cell_type": "markdown",
   "id": "11484528-5cb7-4ec0-81ea-1a55de9e3756",
   "metadata": {},
   "source": [
    "#### Break down the counts"
   ]
  },
  {
   "cell_type": "code",
   "execution_count": 13,
   "id": "d219c7f8-0d0c-4008-bbc1-1143317dd155",
   "metadata": {},
   "outputs": [
    {
     "data": {
      "text/html": [
       "<div>\n",
       "<style scoped>\n",
       "    .dataframe tbody tr th:only-of-type {\n",
       "        vertical-align: middle;\n",
       "    }\n",
       "\n",
       "    .dataframe tbody tr th {\n",
       "        vertical-align: top;\n",
       "    }\n",
       "\n",
       "    .dataframe thead th {\n",
       "        text-align: right;\n",
       "    }\n",
       "</style>\n",
       "<table border=\"1\" class=\"dataframe\">\n",
       "  <thead>\n",
       "    <tr style=\"text-align: right;\">\n",
       "      <th></th>\n",
       "      <th>Discipline</th>\n",
       "      <th>Journal</th>\n",
       "      <th>QJPP Text Count</th>\n",
       "    </tr>\n",
       "  </thead>\n",
       "  <tbody>\n",
       "    <tr>\n",
       "      <th>0</th>\n",
       "      <td>Health Sciences</td>\n",
       "      <td>Nature Medicine</td>\n",
       "      <td>15</td>\n",
       "    </tr>\n",
       "    <tr>\n",
       "      <th>1</th>\n",
       "      <td>Health Sciences</td>\n",
       "      <td>Annual Review of Public Health</td>\n",
       "      <td>15</td>\n",
       "    </tr>\n",
       "    <tr>\n",
       "      <th>2</th>\n",
       "      <td>Health Sciences</td>\n",
       "      <td>Lancet Public Health</td>\n",
       "      <td>15</td>\n",
       "    </tr>\n",
       "    <tr>\n",
       "      <th>3</th>\n",
       "      <td>Health Sciences</td>\n",
       "      <td>New England Journal of Medicine</td>\n",
       "      <td>15</td>\n",
       "    </tr>\n",
       "    <tr>\n",
       "      <th>4</th>\n",
       "      <td>Biological Sciences</td>\n",
       "      <td>Cell</td>\n",
       "      <td>31</td>\n",
       "    </tr>\n",
       "    <tr>\n",
       "      <th>5</th>\n",
       "      <td>Biological Sciences</td>\n",
       "      <td>American Journal of Human Biology</td>\n",
       "      <td>31</td>\n",
       "    </tr>\n",
       "    <tr>\n",
       "      <th>6</th>\n",
       "      <td>Human Sciences</td>\n",
       "      <td>Annual Review of Anthropology</td>\n",
       "      <td>18</td>\n",
       "    </tr>\n",
       "    <tr>\n",
       "      <th>7</th>\n",
       "      <td>Human Sciences</td>\n",
       "      <td>Journal of Human Evolution</td>\n",
       "      <td>18</td>\n",
       "    </tr>\n",
       "    <tr>\n",
       "      <th>8</th>\n",
       "      <td>Applied Social Sciences</td>\n",
       "      <td>Journal of Applied Social Science</td>\n",
       "      <td>10</td>\n",
       "    </tr>\n",
       "    <tr>\n",
       "      <th>9</th>\n",
       "      <td>Applied Social Sciences</td>\n",
       "      <td>Journal of Social Issues</td>\n",
       "      <td>10</td>\n",
       "    </tr>\n",
       "    <tr>\n",
       "      <th>10</th>\n",
       "      <td>Applied Social Sciences</td>\n",
       "      <td>Social Science &amp; Medicine</td>\n",
       "      <td>10</td>\n",
       "    </tr>\n",
       "    <tr>\n",
       "      <th>11</th>\n",
       "      <td>Linguistic, literature and arts</td>\n",
       "      <td>Applied Corpus Linguistics</td>\n",
       "      <td>10</td>\n",
       "    </tr>\n",
       "    <tr>\n",
       "      <th>12</th>\n",
       "      <td>Linguistic, literature and arts</td>\n",
       "      <td>Journal of English Linguistics</td>\n",
       "      <td>10</td>\n",
       "    </tr>\n",
       "  </tbody>\n",
       "</table>\n",
       "</div>"
      ],
      "text/plain": [
       "                         Discipline                            Journal  \\\n",
       "0                   Health Sciences                    Nature Medicine   \n",
       "1                   Health Sciences     Annual Review of Public Health   \n",
       "2                   Health Sciences               Lancet Public Health   \n",
       "3                   Health Sciences    New England Journal of Medicine   \n",
       "4               Biological Sciences                               Cell   \n",
       "5               Biological Sciences  American Journal of Human Biology   \n",
       "6                    Human Sciences      Annual Review of Anthropology   \n",
       "7                    Human Sciences         Journal of Human Evolution   \n",
       "8           Applied Social Sciences  Journal of Applied Social Science   \n",
       "9           Applied Social Sciences           Journal of Social Issues   \n",
       "10          Applied Social Sciences          Social Science & Medicine   \n",
       "11  Linguistic, literature and arts         Applied Corpus Linguistics   \n",
       "12  Linguistic, literature and arts     Journal of English Linguistics   \n",
       "\n",
       "    QJPP Text Count  \n",
       "0                15  \n",
       "1                15  \n",
       "2                15  \n",
       "3                15  \n",
       "4                31  \n",
       "5                31  \n",
       "6                18  \n",
       "7                18  \n",
       "8                10  \n",
       "9                10  \n",
       "10               10  \n",
       "11               10  \n",
       "12               10  "
      ]
     },
     "execution_count": 13,
     "metadata": {},
     "output_type": "execute_result"
    }
   ],
   "source": [
    "# Create a list of rows for the new DataFrame\n",
    "rows = []\n",
    "\n",
    "for _, row in df_qjpp_design.iterrows():\n",
    "    discipline = row['Discipline']\n",
    "    total = row['QJPP Text Count']\n",
    "    journals = qjpp_journal_map[discipline]\n",
    "    share = total / len(journals)\n",
    "\n",
    "    for journal in journals:\n",
    "        rows.append({\n",
    "            'Discipline': discipline,\n",
    "            'Journal': journal,\n",
    "            'QJPP Text Count': share\n",
    "        })\n",
    "\n",
    "# New DataFrame\n",
    "df_qjpp_design_split = pd.DataFrame(rows)\n",
    "\n",
    "# Round up to the nearest integer\n",
    "df_qjpp_design_split['QJPP Text Count'] = np.ceil(df_qjpp_design_split['QJPP Text Count']).astype(int)\n",
    "\n",
    "df_qjpp_design_split"
   ]
  },
  {
   "cell_type": "markdown",
   "id": "7bae7cc4-88c6-474d-bf2f-810ec7375c7a",
   "metadata": {},
   "source": [
    "## Health Sciences"
   ]
  },
  {
   "cell_type": "markdown",
   "id": "c18c6376-2357-4a21-b421-a159999c0ed5",
   "metadata": {},
   "source": [
    "### [Nature Medicine](https://www.nature.com/nm/)"
   ]
  },
  {
   "cell_type": "markdown",
   "id": "2f1cfa35-9e76-4a21-8815-f28fbee0dfb7",
   "metadata": {},
   "source": [
    "#### Create output subdirectory"
   ]
  },
  {
   "cell_type": "code",
   "execution_count": 14,
   "id": "a3d1275c-086c-4065-9978-68f6da4bba84",
   "metadata": {},
   "outputs": [
    {
     "name": "stdout",
     "output_type": "stream",
     "text": [
      "Directory already exists: cl_st2_ph4_eyamrog\\natm\n"
     ]
    }
   ],
   "source": [
    "# 'Nature Medicine'\n",
    "id = 'natm'\n",
    "path1 = os.path.join(output_directory, id)\n",
    "path2 = os.path.join(input_directory, id)\n",
    "create_directory(path1)"
   ]
  },
  {
   "cell_type": "markdown",
   "id": "546fd353-4b6a-4cbe-937a-69fdadaf30ca",
   "metadata": {},
   "source": [
    "#### Import the data into a DataFrame"
   ]
  },
  {
   "cell_type": "code",
   "execution_count": 15,
   "id": "414b65be-8370-4fe0-965f-bbe74abe50d3",
   "metadata": {},
   "outputs": [],
   "source": [
    "df_nature_medicine_open_access = pd.read_json(f\"{input_directory}/nature_medicine_open_access.jsonl\", lines=True)"
   ]
  },
  {
   "cell_type": "code",
   "execution_count": 16,
   "id": "c455386c-ff89-49c7-aadf-bba48f5f8121",
   "metadata": {},
   "outputs": [],
   "source": [
    "df_nature_medicine_open_access['Published'] = pd.to_datetime(df_nature_medicine_open_access['Published'], unit='ms')"
   ]
  },
  {
   "cell_type": "markdown",
   "id": "b778ac9c-760f-4942-b14e-e1adcf7626b3",
   "metadata": {},
   "source": [
    "#### Identify documents without `Abstract`"
   ]
  },
  {
   "cell_type": "markdown",
   "id": "f54fe1d7-e557-405d-a6ec-349e65a13d1e",
   "metadata": {},
   "source": [
    "The documents are actually `Research Articles` and **should not be excluded**."
   ]
  },
  {
   "cell_type": "code",
   "execution_count": 17,
   "id": "6a521337-6373-4aa2-8f0f-fb6b6f230f10",
   "metadata": {},
   "outputs": [
    {
     "name": "stdout",
     "output_type": "stream",
     "text": [
      "['natm000052', 'natm000063']\n"
     ]
    },
    {
     "data": {
      "text/plain": [
       "['https://www.nature.com/articles/s41591-022-01866-4',\n",
       " 'https://www.nature.com/articles/s41591-022-01837-9']"
      ]
     },
     "execution_count": 17,
     "metadata": {},
     "output_type": "execute_result"
    }
   ],
   "source": [
    "no_abstract = get_files_without_abstract(path2)\n",
    "print(no_abstract)\n",
    "\n",
    "no_abstract_urls = get_urls_from_ids(df_nature_medicine_open_access, no_abstract)\n",
    "no_abstract_urls"
   ]
  },
  {
   "cell_type": "markdown",
   "id": "d8e7cd58-2f2b-4d00-812e-17907943a65a",
   "metadata": {},
   "source": [
    "### [Annual Review of Public Health](https://www.annualreviews.org/content/journals/publhealth)"
   ]
  },
  {
   "cell_type": "markdown",
   "id": "b4fc5039-bb6d-4316-87af-b2592b894f55",
   "metadata": {},
   "source": [
    "#### Create output subdirectory"
   ]
  },
  {
   "cell_type": "code",
   "execution_count": 18,
   "id": "f54b2768-6e7a-4b45-a958-6aeba669836f",
   "metadata": {},
   "outputs": [
    {
     "name": "stdout",
     "output_type": "stream",
     "text": [
      "Directory already exists: cl_st2_ph4_eyamrog\\arph\n"
     ]
    }
   ],
   "source": [
    "# 'Annual Review of Public Health'\n",
    "id = 'arph'\n",
    "path1 = os.path.join(output_directory, id)\n",
    "path2 = os.path.join(input_directory, id)\n",
    "create_directory(path1)"
   ]
  },
  {
   "cell_type": "markdown",
   "id": "d3ab4b87-ceb6-430f-ab20-6c360e7ab344",
   "metadata": {},
   "source": [
    "#### Import the data into a DataFrame"
   ]
  },
  {
   "cell_type": "code",
   "execution_count": 19,
   "id": "eaaf49fe-13bb-47c4-9f44-458bea3f8eb3",
   "metadata": {},
   "outputs": [],
   "source": [
    "df_ar_public_health = pd.read_json(f\"{input_directory}/ar_public_health.jsonl\", lines=True)"
   ]
  },
  {
   "cell_type": "code",
   "execution_count": 20,
   "id": "3c072f94-3cf8-4a13-9101-aa28863dd0f1",
   "metadata": {},
   "outputs": [],
   "source": [
    "df_ar_public_health['Published'] = pd.to_datetime(df_ar_public_health['Published'], unit='ms')"
   ]
  },
  {
   "cell_type": "markdown",
   "id": "b2881c23-98e6-4f38-b9d3-2355d9064a59",
   "metadata": {},
   "source": [
    "#### Identify documents without `Abstract`"
   ]
  },
  {
   "cell_type": "markdown",
   "id": "29a335df-104f-4644-994d-6c645082f8c0",
   "metadata": {},
   "source": [
    "The documents are `Introductions` and **should be excluded**."
   ]
  },
  {
   "cell_type": "code",
   "execution_count": 21,
   "id": "7f3eff26-56e8-4911-8842-f0624f70a827",
   "metadata": {},
   "outputs": [
    {
     "name": "stdout",
     "output_type": "stream",
     "text": [
      "['arph000029', 'arph000057']\n"
     ]
    },
    {
     "data": {
      "text/plain": [
       "['https://www.annualreviews.org/content/journals/10.1146/annurev-pu-42-012821-100001',\n",
       " 'https://www.annualreviews.org/content/journals/10.1146/annurev-pu-41-012720-100001']"
      ]
     },
     "execution_count": 21,
     "metadata": {},
     "output_type": "execute_result"
    }
   ],
   "source": [
    "no_abstract = get_files_without_abstract(path2)\n",
    "print(no_abstract)\n",
    "\n",
    "no_abstract_urls = get_urls_from_ids(df_ar_public_health, no_abstract)\n",
    "no_abstract_urls"
   ]
  },
  {
   "cell_type": "markdown",
   "id": "26f5f473-3883-4b0e-914e-58419006c98f",
   "metadata": {},
   "source": [
    "### [Lancet Public Health](https://www.thelancet.com/journals/lanpub/home)"
   ]
  },
  {
   "cell_type": "markdown",
   "id": "34ab6f0f-e159-4db4-a8ae-ca8a741041c4",
   "metadata": {},
   "source": [
    "#### Create output subdirectory"
   ]
  },
  {
   "cell_type": "code",
   "execution_count": 22,
   "id": "dd3779ce-408d-4f0b-b191-85b2628727aa",
   "metadata": {},
   "outputs": [
    {
     "name": "stdout",
     "output_type": "stream",
     "text": [
      "Directory already exists: cl_st2_ph4_eyamrog\\laph\n"
     ]
    }
   ],
   "source": [
    "# 'Lancet Public Health'\n",
    "id = 'laph'\n",
    "path1 = os.path.join(output_directory, id)\n",
    "path2 = os.path.join(input_directory, id)\n",
    "create_directory(path1)"
   ]
  },
  {
   "cell_type": "markdown",
   "id": "2df40946-c5ca-416b-afe4-c9006e54295b",
   "metadata": {},
   "source": [
    "#### Import the data into a DataFrame"
   ]
  },
  {
   "cell_type": "code",
   "execution_count": 23,
   "id": "ce33fb27-f04b-4436-b98b-2455158768dc",
   "metadata": {},
   "outputs": [],
   "source": [
    "df_lancet_public_health_open_access = pd.read_json(f\"{input_directory}/lancet_public_health_open_access.jsonl\", lines=True)"
   ]
  },
  {
   "cell_type": "code",
   "execution_count": 24,
   "id": "939146c7-58a0-4797-b477-ac8daee1130d",
   "metadata": {},
   "outputs": [],
   "source": [
    "df_lancet_public_health_open_access['Published'] = pd.to_datetime(df_lancet_public_health_open_access['Published'], unit='ms')"
   ]
  },
  {
   "cell_type": "markdown",
   "id": "37241acd-00ff-4fc2-9b46-9298543b4d69",
   "metadata": {},
   "source": [
    "#### Identify documents without `Abstract`"
   ]
  },
  {
   "cell_type": "code",
   "execution_count": 25,
   "id": "32881df3-98e9-48f7-9a96-b776415b690f",
   "metadata": {},
   "outputs": [
    {
     "name": "stdout",
     "output_type": "stream",
     "text": [
      "[]\n"
     ]
    },
    {
     "data": {
      "text/plain": [
       "[]"
      ]
     },
     "execution_count": 25,
     "metadata": {},
     "output_type": "execute_result"
    }
   ],
   "source": [
    "no_abstract = get_files_without_abstract(path2)\n",
    "print(no_abstract)\n",
    "\n",
    "no_abstract_urls = get_urls_from_ids(df_lancet_public_health_open_access, no_abstract)\n",
    "no_abstract_urls"
   ]
  },
  {
   "cell_type": "markdown",
   "id": "f194ad6f-39a0-4d59-be27-eb2319a43367",
   "metadata": {},
   "source": [
    "### [New England Journal of Medicine](https://www.nejm.org/)"
   ]
  },
  {
   "cell_type": "markdown",
   "id": "53333b81-e126-48f3-ab64-50f726a4d36e",
   "metadata": {},
   "source": [
    "#### Create output subdirectory"
   ]
  },
  {
   "cell_type": "code",
   "execution_count": 7,
   "id": "5591cc98-dc8a-468f-bcc6-cdad8921d872",
   "metadata": {},
   "outputs": [
    {
     "name": "stdout",
     "output_type": "stream",
     "text": [
      "Directory already exists: cl_st2_ph4_eyamrog\\nejm\n"
     ]
    }
   ],
   "source": [
    "# 'New England Journal of Medicine'\n",
    "id = 'nejm'\n",
    "path1 = os.path.join(output_directory, id)\n",
    "path2 = os.path.join(input_directory, id)\n",
    "create_directory(path1)"
   ]
  },
  {
   "cell_type": "markdown",
   "id": "a7de4569-b600-442d-b154-c9e01944fb98",
   "metadata": {},
   "source": [
    "#### Import the data into a DataFrame"
   ]
  },
  {
   "cell_type": "code",
   "execution_count": 8,
   "id": "0ee3cefb-8c5f-46b1-abce-dff7e0d78875",
   "metadata": {},
   "outputs": [],
   "source": [
    "df_new_england_journal_of_medicine_open_access = pd.read_json(f\"{input_directory}/new_england_journal_of_medicine_open_access.jsonl\", lines=True)"
   ]
  },
  {
   "cell_type": "code",
   "execution_count": 9,
   "id": "9a4d264d-ef90-4f01-b817-98a9b4650485",
   "metadata": {},
   "outputs": [],
   "source": [
    "df_new_england_journal_of_medicine_open_access['Published'] = pd.to_datetime(df_new_england_journal_of_medicine_open_access['Published'], unit='ms')"
   ]
  },
  {
   "cell_type": "markdown",
   "id": "650eeb35-6565-49a4-bebf-f17be0e8dbe4",
   "metadata": {},
   "source": [
    "#### Identify documents without `Abstract`"
   ]
  },
  {
   "cell_type": "markdown",
   "id": "5a19eb24-208a-4a9b-acf3-d98e43d938c7",
   "metadata": {},
   "source": [
    "These documents are non-standard `Research Articles`. **They should be excluded**."
   ]
  },
  {
   "cell_type": "code",
   "execution_count": 10,
   "id": "03d8a34d-418e-4de6-be66-1cdc09c5fe6d",
   "metadata": {},
   "outputs": [
    {
     "name": "stdout",
     "output_type": "stream",
     "text": [
      "['nejm000048', 'nejm000081', 'nejm000216', 'nejm000265', 'nejm000428', 'nejm000540', 'nejm000568', 'nejm000578', 'nejm000619', 'nejm000653', 'nejm000662']\n"
     ]
    },
    {
     "data": {
      "text/plain": [
       "['https://www.nejm.org/doi/full/10.1056/NEJMra1908412',\n",
       " 'https://www.nejm.org/doi/full/10.1056/NEJMra1901594',\n",
       " 'https://www.nejm.org/doi/full/10.1056/NEJMra2026131',\n",
       " 'https://www.nejm.org/doi/full/10.1056/NEJMra2035343',\n",
       " 'https://www.nejm.org/doi/full/10.1056/NEJMra2030281',\n",
       " 'https://www.nejm.org/doi/full/10.1056/NEJMra2200583',\n",
       " 'https://www.nejm.org/doi/full/10.1056/NEJMra2117706',\n",
       " 'https://www.nejm.org/doi/full/10.1056/NEJMra2106441',\n",
       " 'https://www.nejm.org/doi/full/10.1056/NEJMra2206573',\n",
       " 'https://www.nejm.org/doi/full/10.1056/NEJMra2208860',\n",
       " 'https://www.nejm.org/doi/full/10.1056/NEJMra2200092']"
      ]
     },
     "execution_count": 10,
     "metadata": {},
     "output_type": "execute_result"
    }
   ],
   "source": [
    "no_abstract = get_files_without_abstract(path2)\n",
    "print(no_abstract)\n",
    "\n",
    "no_abstract_urls = get_urls_from_ids(df_new_england_journal_of_medicine_open_access, no_abstract)\n",
    "no_abstract_urls"
   ]
  },
  {
   "cell_type": "markdown",
   "id": "6a3ced64-d960-4ec1-be44-91b17f07eff4",
   "metadata": {},
   "source": [
    "##### Empty files"
   ]
  },
  {
   "cell_type": "markdown",
   "id": "75997d9c-873c-41aa-95ad-ec97df66f650",
   "metadata": {},
   "source": [
    "Many documents are empty and the remaining ones are non-standard `Research Articles`. **They have been re-scraped and are adequate**."
   ]
  },
  {
   "cell_type": "markdown",
   "id": "ab84e6a4-91f9-4fc4-876d-8b879febd304",
   "metadata": {},
   "source": [
    "```\n",
    "# PowerShell command\n",
    "(Get-ChildItem -Path . -File -Recurse -Filter *.txt | Where-Object { $_.Length -eq 0 }).FullName\n",
    "```"
   ]
  },
  {
   "cell_type": "raw",
   "id": "45aa9877-5913-49c7-a621-f648b8f950c3",
   "metadata": {},
   "source": [
    "empty_files = [\n",
    "    'nejm000138',\n",
    "    'nejm000177',\n",
    "    'nejm000197',\n",
    "    'nejm000212',\n",
    "    'nejm000224',\n",
    "    'nejm000252',\n",
    "    'nejm000318',\n",
    "    'nejm000374',\n",
    "    'nejm000375',\n",
    "    'nejm000394',\n",
    "    'nejm000397',\n",
    "    'nejm000406',\n",
    "    'nejm000480',\n",
    "    'nejm000507',\n",
    "    'nejm000513',\n",
    "    'nejm000538',\n",
    "    'nejm000542',\n",
    "    'nejm000547',\n",
    "    'nejm000552',\n",
    "    'nejm000620',\n",
    "    'nejm000666'\n",
    "]"
   ]
  },
  {
   "cell_type": "markdown",
   "id": "70ffcfec-4aee-47fa-bca6-0edecb46782b",
   "metadata": {},
   "source": [
    "##### Documents without `Abstract` that are not empty"
   ]
  },
  {
   "cell_type": "markdown",
   "id": "e37d2659-1fac-450a-a11e-db2b5863767b",
   "metadata": {},
   "source": [
    "These documents are non-standard `Research Articles`. **They should be excluded**."
   ]
  },
  {
   "cell_type": "raw",
   "id": "934f102a-f882-452b-90a1-0a2b52dfd155",
   "metadata": {},
   "source": [
    "no_abstract_no_zeroed = [item for item in no_abstract if item not in empty_files]\n",
    "print(no_abstract_no_zeroed)\n",
    "\n",
    "no_abstract_no_zeroed_urls = get_urls_from_ids(df_new_england_journal_of_medicine_open_access, no_abstract_no_zeroed)\n",
    "no_abstract_no_zeroed_urls"
   ]
  },
  {
   "cell_type": "markdown",
   "id": "28ae6b83-4479-4ca7-9411-ba35aac9ff98",
   "metadata": {},
   "source": [
    "## Biological Sciences"
   ]
  },
  {
   "cell_type": "markdown",
   "id": "22cbac84-dc51-49cf-852b-82bb2182c7b0",
   "metadata": {},
   "source": [
    "### [Cell](https://www.cell.com/cell/home)"
   ]
  },
  {
   "cell_type": "markdown",
   "id": "789d47dd-ee83-45be-885e-d11d11286aa2",
   "metadata": {},
   "source": [
    "#### Create output subdirectory"
   ]
  },
  {
   "cell_type": "code",
   "execution_count": 32,
   "id": "206c47cc-9b19-4cd6-9544-2b3c25230251",
   "metadata": {},
   "outputs": [
    {
     "name": "stdout",
     "output_type": "stream",
     "text": [
      "Directory already exists: cl_st2_ph4_eyamrog\\cell\n"
     ]
    }
   ],
   "source": [
    "# 'Cell'\n",
    "id = 'cell'\n",
    "path1 = os.path.join(output_directory, id)\n",
    "path2 = os.path.join(input_directory, id)\n",
    "create_directory(path1)"
   ]
  },
  {
   "cell_type": "markdown",
   "id": "5060d505-54cd-4d32-b01a-1efbff2defa6",
   "metadata": {},
   "source": [
    "#### Import the data into a DataFrame"
   ]
  },
  {
   "cell_type": "code",
   "execution_count": 33,
   "id": "42f79848-8e38-43c8-b9b5-13c778d6230f",
   "metadata": {},
   "outputs": [],
   "source": [
    "df_cell_open_access = pd.read_json(f\"{input_directory}/cell_open_access.jsonl\", lines=True)"
   ]
  },
  {
   "cell_type": "code",
   "execution_count": 34,
   "id": "3b909b3e-b42d-45cd-85cf-6db3ce9a43b8",
   "metadata": {},
   "outputs": [],
   "source": [
    "df_cell_open_access['Published'] = pd.to_datetime(df_cell_open_access['Published'], unit='ms')"
   ]
  },
  {
   "cell_type": "markdown",
   "id": "b8b8041d-1c0a-4492-9569-c6402d3c2823",
   "metadata": {},
   "source": [
    "#### Identify documents without `Abstract`"
   ]
  },
  {
   "cell_type": "code",
   "execution_count": 35,
   "id": "6c695bc5-5295-4df9-8fd4-95e23fb134ed",
   "metadata": {},
   "outputs": [
    {
     "name": "stdout",
     "output_type": "stream",
     "text": [
      "[]\n"
     ]
    },
    {
     "data": {
      "text/plain": [
       "[]"
      ]
     },
     "execution_count": 35,
     "metadata": {},
     "output_type": "execute_result"
    }
   ],
   "source": [
    "no_abstract = get_files_without_abstract(path2)\n",
    "print(no_abstract)\n",
    "\n",
    "no_abstract_urls = get_urls_from_ids(df_cell_open_access, no_abstract)\n",
    "no_abstract_urls"
   ]
  },
  {
   "cell_type": "markdown",
   "id": "e875ce97-e99d-4601-b6e7-c0411427065b",
   "metadata": {},
   "source": [
    "##### Retracted"
   ]
  },
  {
   "cell_type": "markdown",
   "id": "4186da5b-89a2-49db-a0b2-b91513d40781",
   "metadata": {},
   "source": [
    "This article has been retracted and **should be excluded**."
   ]
  },
  {
   "cell_type": "code",
   "execution_count": 36,
   "id": "640b98f5-1a10-485a-9c16-c28c428f4298",
   "metadata": {},
   "outputs": [],
   "source": [
    "retracted = ['cell000085']"
   ]
  },
  {
   "cell_type": "markdown",
   "id": "370b99dc-b1d0-41b4-b543-b4d0ed244b56",
   "metadata": {},
   "source": [
    "### [American Journal of Human Biology](https://onlinelibrary.wiley.com/journal/15206300?msockid=0525cb73d9a76a060b80df20d87e6b4b)"
   ]
  },
  {
   "cell_type": "markdown",
   "id": "6de4e155-1193-48d3-af9e-3963d57fd40d",
   "metadata": {},
   "source": [
    "#### Create output subdirectory"
   ]
  },
  {
   "cell_type": "code",
   "execution_count": 37,
   "id": "d264e64b-efd0-4c4c-b92c-0d70818a3da1",
   "metadata": {},
   "outputs": [
    {
     "name": "stdout",
     "output_type": "stream",
     "text": [
      "Directory already exists: cl_st2_ph4_eyamrog\\ajhb\n"
     ]
    }
   ],
   "source": [
    "# 'American Journal of Human Biology'\n",
    "id = 'ajhb'\n",
    "path1 = os.path.join(output_directory, id)\n",
    "path2 = os.path.join(input_directory, id)\n",
    "create_directory(path1)"
   ]
  },
  {
   "cell_type": "markdown",
   "id": "76d4a177-82d8-4d56-a7f5-5e3387ef9c01",
   "metadata": {},
   "source": [
    "#### Import the data into a DataFrame"
   ]
  },
  {
   "cell_type": "code",
   "execution_count": 38,
   "id": "1ba78c8e-6e20-4bf9-aba7-c228663f2abb",
   "metadata": {},
   "outputs": [],
   "source": [
    "df_american_journal_human_biology_open_access = pd.read_json(f\"{input_directory}/american_journal_human_biology_open_access.jsonl\", lines=True)"
   ]
  },
  {
   "cell_type": "code",
   "execution_count": 39,
   "id": "f7735dfe-bb52-4849-9395-318240553e01",
   "metadata": {},
   "outputs": [],
   "source": [
    "df_american_journal_human_biology_open_access['Published'] = pd.to_datetime(df_american_journal_human_biology_open_access['Published'], unit='ms')"
   ]
  },
  {
   "cell_type": "markdown",
   "id": "24e9c466-b497-434b-81c0-711e9ff31d40",
   "metadata": {},
   "source": [
    "#### Identify documents without `Abstract`"
   ]
  },
  {
   "cell_type": "markdown",
   "id": "1fce5991-4699-4541-b1b8-5e9afd79c3ed",
   "metadata": {},
   "source": [
    "The documents are not `Research Articles` and **should be excluded**."
   ]
  },
  {
   "cell_type": "code",
   "execution_count": 40,
   "id": "2945abf0-18a9-4eef-95e8-f34eb73ceed4",
   "metadata": {},
   "outputs": [
    {
     "name": "stdout",
     "output_type": "stream",
     "text": [
      "['ajhb000000', 'ajhb000004', 'ajhb000005', 'ajhb000006', 'ajhb000007', 'ajhb000010', 'ajhb000013', 'ajhb000014', 'ajhb000015', 'ajhb000017', 'ajhb000019', 'ajhb000020', 'ajhb000021', 'ajhb000033', 'ajhb000035', 'ajhb000042', 'ajhb000043']\n"
     ]
    },
    {
     "data": {
      "text/plain": [
       "['https://onlinelibrary.wiley.com/doi/10.1002/ajhb.23389',\n",
       " 'https://onlinelibrary.wiley.com/doi/10.1002/ajhb.23407',\n",
       " 'https://onlinelibrary.wiley.com/doi/10.1002/ajhb.23408',\n",
       " 'https://onlinelibrary.wiley.com/doi/10.1002/ajhb.23409',\n",
       " 'https://onlinelibrary.wiley.com/doi/10.1002/ajhb.23430',\n",
       " 'https://onlinelibrary.wiley.com/doi/10.1002/ajhb.23475',\n",
       " 'https://onlinelibrary.wiley.com/doi/10.1002/ajhb.23511',\n",
       " 'https://onlinelibrary.wiley.com/doi/10.1002/ajhb.23474',\n",
       " 'https://onlinelibrary.wiley.com/doi/10.1002/ajhb.23478',\n",
       " 'https://onlinelibrary.wiley.com/doi/10.1002/ajhb.23568',\n",
       " 'https://onlinelibrary.wiley.com/doi/10.1002/ajhb.23562',\n",
       " 'https://onlinelibrary.wiley.com/doi/10.1002/ajhb.23594',\n",
       " 'https://onlinelibrary.wiley.com/doi/10.1002/ajhb.23593',\n",
       " 'https://onlinelibrary.wiley.com/doi/10.1002/ajhb.23607',\n",
       " 'https://onlinelibrary.wiley.com/doi/10.1002/ajhb.23714',\n",
       " 'https://onlinelibrary.wiley.com/doi/10.1002/ajhb.23739',\n",
       " 'https://onlinelibrary.wiley.com/doi/10.1002/ajhb.23740']"
      ]
     },
     "execution_count": 40,
     "metadata": {},
     "output_type": "execute_result"
    }
   ],
   "source": [
    "no_abstract = get_files_without_abstract(path2)\n",
    "print(no_abstract)\n",
    "\n",
    "no_abstract_urls = get_urls_from_ids(df_american_journal_human_biology_open_access, no_abstract)\n",
    "no_abstract_urls"
   ]
  },
  {
   "cell_type": "markdown",
   "id": "03cc94d3-6310-4294-8ae4-83b0404f4187",
   "metadata": {},
   "source": [
    "## Human Sciences"
   ]
  },
  {
   "cell_type": "markdown",
   "id": "cf5d6440-84a0-4644-8a3a-af917dcb3e8a",
   "metadata": {},
   "source": [
    "### [Annual Review of Anthropology](https://www.annualreviews.org/content/journals/anthro)"
   ]
  },
  {
   "cell_type": "markdown",
   "id": "b64a35c9-9690-4d2d-b0a3-8eb1255444d1",
   "metadata": {},
   "source": [
    "#### Create output subdirectory"
   ]
  },
  {
   "cell_type": "code",
   "execution_count": 41,
   "id": "d59df1e4-aebe-466e-8630-693ce28e42e1",
   "metadata": {},
   "outputs": [
    {
     "name": "stdout",
     "output_type": "stream",
     "text": [
      "Directory already exists: cl_st2_ph4_eyamrog\\aran\n"
     ]
    }
   ],
   "source": [
    "# 'Annual Review of Anthropology'\n",
    "id = 'aran'\n",
    "path1 = os.path.join(output_directory, id)\n",
    "path2 = os.path.join(input_directory, id)\n",
    "create_directory(path1)"
   ]
  },
  {
   "cell_type": "markdown",
   "id": "39d204cc-d743-4d14-a04c-a3548aa87622",
   "metadata": {},
   "source": [
    "#### Import the data into a DataFrame"
   ]
  },
  {
   "cell_type": "code",
   "execution_count": 42,
   "id": "3ee6c2c9-3860-443c-934e-db2e5ed2491f",
   "metadata": {},
   "outputs": [],
   "source": [
    "df_ar_anthropology = pd.read_json(f\"{input_directory}/ar_anthropology.jsonl\", lines=True)"
   ]
  },
  {
   "cell_type": "code",
   "execution_count": 43,
   "id": "2185a6ec-fff0-4da4-bd77-75059ff47428",
   "metadata": {},
   "outputs": [],
   "source": [
    "df_ar_anthropology['Published'] = pd.to_datetime(df_ar_anthropology['Published'], unit='ms')"
   ]
  },
  {
   "cell_type": "markdown",
   "id": "acdc2b31-c614-4441-841d-16ec47974583",
   "metadata": {},
   "source": [
    "#### Identify documents without `Abstract`"
   ]
  },
  {
   "cell_type": "markdown",
   "id": "3cc99672-6a9c-4d05-963e-a12e547c9fa3",
   "metadata": {},
   "source": [
    "The documents are not `Research Articles` and **should be excluded**."
   ]
  },
  {
   "cell_type": "code",
   "execution_count": 44,
   "id": "770ca7c9-5828-473b-a921-ccdae50b103c",
   "metadata": {},
   "outputs": [
    {
     "name": "stdout",
     "output_type": "stream",
     "text": [
      "['aran000000', 'aran000031', 'aran000057']\n"
     ]
    },
    {
     "data": {
      "text/plain": [
       "['https://www.annualreviews.org/content/journals/10.1146/annurev-an-51-082222-100001',\n",
       " 'https://www.annualreviews.org/content/journals/10.1146/annurev-an-50-081621-100001',\n",
       " 'https://www.annualreviews.org/content/journals/10.1146/annurev-an-49-081420-100001']"
      ]
     },
     "execution_count": 44,
     "metadata": {},
     "output_type": "execute_result"
    }
   ],
   "source": [
    "no_abstract = get_files_without_abstract(path2)\n",
    "print(no_abstract)\n",
    "\n",
    "no_abstract_urls = get_urls_from_ids(df_ar_anthropology, no_abstract)\n",
    "no_abstract_urls"
   ]
  },
  {
   "cell_type": "markdown",
   "id": "c370476d-ff6d-4792-8b59-44110bfd7036",
   "metadata": {},
   "source": [
    "### [Journal of Human Evolution](https://www.sciencedirect.com/journal/journal-of-human-evolution)"
   ]
  },
  {
   "cell_type": "markdown",
   "id": "1fd720e6-1c5e-41fb-9cfe-e444ce84b0d8",
   "metadata": {},
   "source": [
    "#### Create output subdirectory"
   ]
  },
  {
   "cell_type": "code",
   "execution_count": 45,
   "id": "5a269fb7-9abb-41bb-b6d1-244838ec3b34",
   "metadata": {},
   "outputs": [
    {
     "name": "stdout",
     "output_type": "stream",
     "text": [
      "Directory already exists: cl_st2_ph4_eyamrog\\jhue\n"
     ]
    }
   ],
   "source": [
    "# 'Journal of Human Evolution'\n",
    "id = 'jhue'\n",
    "path1 = os.path.join(output_directory, id)\n",
    "path2 = os.path.join(input_directory, id)\n",
    "create_directory(path1)"
   ]
  },
  {
   "cell_type": "markdown",
   "id": "82aab5c9-e497-40f2-b207-4d788c4ce4a6",
   "metadata": {},
   "source": [
    "#### Import the data into a DataFrame"
   ]
  },
  {
   "cell_type": "code",
   "execution_count": 46,
   "id": "b308c701-f7c2-46d0-beb8-79d0fb8136fd",
   "metadata": {},
   "outputs": [],
   "source": [
    "df_journal_human_evolution_open_access = pd.read_json(f\"{input_directory}/journal_human_evolution_open_access.jsonl\", lines=True)"
   ]
  },
  {
   "cell_type": "code",
   "execution_count": 47,
   "id": "8db31cdb-d34a-4f95-bfda-b212bcd3137b",
   "metadata": {},
   "outputs": [],
   "source": [
    "df_journal_human_evolution_open_access['Published'] = pd.to_datetime(df_journal_human_evolution_open_access['Published'], unit='ms')"
   ]
  },
  {
   "cell_type": "markdown",
   "id": "3c70dd7b-c603-4546-9298-e8e80c838daf",
   "metadata": {},
   "source": [
    "#### Identify documents without `Abstract`"
   ]
  },
  {
   "cell_type": "code",
   "execution_count": 48,
   "id": "9a12b9b3-c250-430d-8055-f27671e49025",
   "metadata": {},
   "outputs": [
    {
     "name": "stdout",
     "output_type": "stream",
     "text": [
      "[]\n"
     ]
    },
    {
     "data": {
      "text/plain": [
       "[]"
      ]
     },
     "execution_count": 48,
     "metadata": {},
     "output_type": "execute_result"
    }
   ],
   "source": [
    "no_abstract = get_files_without_abstract(path2)\n",
    "print(no_abstract)\n",
    "\n",
    "no_abstract_urls = get_urls_from_ids(df_journal_human_evolution_open_access, no_abstract)\n",
    "no_abstract_urls"
   ]
  },
  {
   "cell_type": "markdown",
   "id": "08aa4ade-f323-4614-ab65-535d3e6f3d1b",
   "metadata": {},
   "source": [
    "## Applied Social Sciences"
   ]
  },
  {
   "cell_type": "markdown",
   "id": "dfd479fd-73c9-4ca6-ae2f-f9c9dd07ab28",
   "metadata": {},
   "source": [
    "### [Journal of Applied Social Science](https://journals.sagepub.com/home/jax)"
   ]
  },
  {
   "cell_type": "markdown",
   "id": "cdb6b35a-a8fc-4315-b640-d4b7856e6006",
   "metadata": {},
   "source": [
    "#### Create output subdirectory"
   ]
  },
  {
   "cell_type": "code",
   "execution_count": 49,
   "id": "26a3d115-b22e-4e14-8553-67ca8d073dfd",
   "metadata": {},
   "outputs": [
    {
     "name": "stdout",
     "output_type": "stream",
     "text": [
      "Directory already exists: cl_st2_ph4_eyamrog\\jasc\n"
     ]
    }
   ],
   "source": [
    "# 'Journal of Applied Social Science'\n",
    "id = 'jasc'\n",
    "path1 = os.path.join(output_directory, id)\n",
    "path2 = os.path.join(input_directory, id)\n",
    "create_directory(path1)"
   ]
  },
  {
   "cell_type": "markdown",
   "id": "cfa6d600-ed05-432d-921b-ae1839206143",
   "metadata": {},
   "source": [
    "#### Import the data into a DataFrame"
   ]
  },
  {
   "cell_type": "code",
   "execution_count": 50,
   "id": "36125d36-91ac-43f1-97c4-00285fb8634e",
   "metadata": {},
   "outputs": [],
   "source": [
    "df_journal_applied_social_science_open_access = pd.read_json(f\"{input_directory}/journal_applied_social_science_open_access.jsonl\", lines=True)"
   ]
  },
  {
   "cell_type": "code",
   "execution_count": 51,
   "id": "47c8cc6c-479e-49cb-a826-f2be51cae4e4",
   "metadata": {},
   "outputs": [],
   "source": [
    "df_journal_applied_social_science_open_access['Published'] = pd.to_datetime(df_journal_applied_social_science_open_access['Published'], unit='ms')"
   ]
  },
  {
   "cell_type": "markdown",
   "id": "f350fed2-d0b9-47b5-9a00-43dccd148f33",
   "metadata": {},
   "source": [
    "#### Identify documents without `Abstract`"
   ]
  },
  {
   "cell_type": "code",
   "execution_count": 52,
   "id": "e90303e5-2880-4dc4-8b7c-b5b22e48cf0a",
   "metadata": {},
   "outputs": [
    {
     "name": "stdout",
     "output_type": "stream",
     "text": [
      "[]\n"
     ]
    },
    {
     "data": {
      "text/plain": [
       "[]"
      ]
     },
     "execution_count": 52,
     "metadata": {},
     "output_type": "execute_result"
    }
   ],
   "source": [
    "no_abstract = get_files_without_abstract(path2)\n",
    "print(no_abstract)\n",
    "\n",
    "no_abstract_urls = get_urls_from_ids(df_journal_applied_social_science_open_access, no_abstract)\n",
    "no_abstract_urls"
   ]
  },
  {
   "cell_type": "markdown",
   "id": "18de5943-41e4-42f6-b412-5989543c79e1",
   "metadata": {},
   "source": [
    "### [Journal of Social Issues](https://spssi.onlinelibrary.wiley.com/journal/15404560)"
   ]
  },
  {
   "cell_type": "markdown",
   "id": "f9f22b0e-fe71-4df7-ab06-b27786aaaa08",
   "metadata": {},
   "source": [
    "#### Create output subdirectory"
   ]
  },
  {
   "cell_type": "code",
   "execution_count": 53,
   "id": "0a4bf949-c090-4124-adb4-319fe2a3f29a",
   "metadata": {},
   "outputs": [
    {
     "name": "stdout",
     "output_type": "stream",
     "text": [
      "Directory already exists: cl_st2_ph4_eyamrog\\jsoi\n"
     ]
    }
   ],
   "source": [
    "# 'Journal of Social Issues'\n",
    "id = 'jsoi'\n",
    "path1 = os.path.join(output_directory, id)\n",
    "path2 = os.path.join(input_directory, id)\n",
    "create_directory(path1)"
   ]
  },
  {
   "cell_type": "markdown",
   "id": "bbb75010-7601-4ad4-951a-c49822930a63",
   "metadata": {},
   "source": [
    "#### Import the data into a DataFrame"
   ]
  },
  {
   "cell_type": "code",
   "execution_count": 54,
   "id": "7e56be63-dcf8-4c64-8606-90b333d9a945",
   "metadata": {},
   "outputs": [],
   "source": [
    "df_journal_social_issues_open_access = pd.read_json(f\"{input_directory}/journal_social_issues_open_access.jsonl\", lines=True)"
   ]
  },
  {
   "cell_type": "code",
   "execution_count": 55,
   "id": "134393ea-72a1-4c03-aa7f-afce17ff7306",
   "metadata": {},
   "outputs": [],
   "source": [
    "df_journal_social_issues_open_access['Published'] = pd.to_datetime(df_journal_social_issues_open_access['Published'], unit='ms')"
   ]
  },
  {
   "cell_type": "markdown",
   "id": "706b0b7b-e321-463a-8721-45bdbab13783",
   "metadata": {},
   "source": [
    "#### Identify documents without `Abstract`"
   ]
  },
  {
   "cell_type": "code",
   "execution_count": 56,
   "id": "d2f15273-2955-4c90-b0c9-189ea6b46b4f",
   "metadata": {},
   "outputs": [
    {
     "name": "stdout",
     "output_type": "stream",
     "text": [
      "[]\n"
     ]
    },
    {
     "data": {
      "text/plain": [
       "[]"
      ]
     },
     "execution_count": 56,
     "metadata": {},
     "output_type": "execute_result"
    }
   ],
   "source": [
    "no_abstract = get_files_without_abstract(path2)\n",
    "print(no_abstract)\n",
    "\n",
    "no_abstract_urls = get_urls_from_ids(df_journal_social_issues_open_access, no_abstract)\n",
    "no_abstract_urls"
   ]
  },
  {
   "cell_type": "markdown",
   "id": "7c58a660-738e-4042-ae4b-3ca8efc965d1",
   "metadata": {},
   "source": [
    "### [Social Science & Medicine](https://www.sciencedirect.com/journal/social-science-and-medicine)"
   ]
  },
  {
   "cell_type": "markdown",
   "id": "65d7380c-e1cf-469d-bcd5-1e75f0a39cf2",
   "metadata": {},
   "source": [
    "#### Create output subdirectory"
   ]
  },
  {
   "cell_type": "code",
   "execution_count": 57,
   "id": "8d395fb1-7042-4a3a-ac74-18c9821bc5cf",
   "metadata": {},
   "outputs": [
    {
     "name": "stdout",
     "output_type": "stream",
     "text": [
      "Directory already exists: cl_st2_ph4_eyamrog\\socm\n"
     ]
    }
   ],
   "source": [
    "# 'Social Science & Medicine'\n",
    "id = 'socm'\n",
    "path1 = os.path.join(output_directory, id)\n",
    "path2 = os.path.join(input_directory, id)\n",
    "create_directory(path1)"
   ]
  },
  {
   "cell_type": "markdown",
   "id": "97348f8b-959f-4fe6-b6e0-33dc3959c742",
   "metadata": {},
   "source": [
    "#### Import the data into a DataFrame"
   ]
  },
  {
   "cell_type": "code",
   "execution_count": 58,
   "id": "e07c506d-f793-434d-bb0c-b1df690735cc",
   "metadata": {},
   "outputs": [],
   "source": [
    "df_social_science_medicine_open_access = pd.read_json(f\"{input_directory}/social_science_medicine_open_access.jsonl\", lines=True)"
   ]
  },
  {
   "cell_type": "code",
   "execution_count": 59,
   "id": "b58ee27d-ba9b-494a-bb19-eaa37bc59c39",
   "metadata": {},
   "outputs": [],
   "source": [
    "df_social_science_medicine_open_access['Published'] = pd.to_datetime(df_social_science_medicine_open_access['Published'], unit='ms')"
   ]
  },
  {
   "cell_type": "markdown",
   "id": "42edaefd-6b2a-4c3e-a721-433b5fa50f19",
   "metadata": {},
   "source": [
    "#### Identify documents without `Abstract`"
   ]
  },
  {
   "cell_type": "markdown",
   "id": "03158f93-bc37-4b03-97f5-fd223379241e",
   "metadata": {},
   "source": [
    "All of the documents are valid `Research Articles` without `Abstract`. **They should not be excluded**."
   ]
  },
  {
   "cell_type": "code",
   "execution_count": 60,
   "id": "aaab9765-a356-4c69-8988-fa549d3ad683",
   "metadata": {},
   "outputs": [
    {
     "name": "stdout",
     "output_type": "stream",
     "text": [
      "['socm000081', 'socm000118', 'socm000131', 'socm000181', 'socm000182', 'socm000203', 'socm000300', 'socm000380', 'socm000539']\n"
     ]
    },
    {
     "data": {
      "text/plain": [
       "['https://www.sciencedirect.com//science/article/pii/S0277953620304548',\n",
       " 'https://www.sciencedirect.com//science/article/pii/S0277953620307243',\n",
       " 'https://www.sciencedirect.com//science/article/pii/S0277953620306419',\n",
       " 'https://www.sciencedirect.com//science/article/pii/S0277953621000162',\n",
       " 'https://www.sciencedirect.com//science/article/pii/S027795362100023X',\n",
       " 'https://www.sciencedirect.com//science/article/pii/S0277953620308571',\n",
       " 'https://www.sciencedirect.com//science/article/pii/S0277953621004469',\n",
       " 'https://www.sciencedirect.com//science/article/pii/S0277953620307656',\n",
       " 'https://www.sciencedirect.com//science/article/pii/S0277953621008431']"
      ]
     },
     "execution_count": 60,
     "metadata": {},
     "output_type": "execute_result"
    }
   ],
   "source": [
    "no_abstract = get_files_without_abstract(path2)\n",
    "print(no_abstract)\n",
    "\n",
    "no_abstract_urls = get_urls_from_ids(df_social_science_medicine_open_access, no_abstract)\n",
    "no_abstract_urls"
   ]
  },
  {
   "cell_type": "markdown",
   "id": "caf609a4-e907-48b3-8539-54f317550347",
   "metadata": {},
   "source": [
    "#### Documents with incomplete scraping"
   ]
  },
  {
   "cell_type": "markdown",
   "id": "9a0a0c26-8595-4c16-9a40-d64b21a81f63",
   "metadata": {},
   "source": [
    "The following documents were incompletely scraped. Probably, the scraping programme was not designed to handle their HTML structure. They **should be excluded**."
   ]
  },
  {
   "cell_type": "code",
   "execution_count": 61,
   "id": "de8907cb-20b8-43ed-ad17-5eb45d5f1b4e",
   "metadata": {},
   "outputs": [
    {
     "data": {
      "text/plain": [
       "['https://www.sciencedirect.com//science/article/pii/S0277953622001460',\n",
       " 'https://www.sciencedirect.com//science/article/pii/S0277953621008212',\n",
       " 'https://www.sciencedirect.com//science/article/pii/S0277953622005329']"
      ]
     },
     "execution_count": 61,
     "metadata": {},
     "output_type": "execute_result"
    }
   ],
   "source": [
    "small_files = ['socm000528', 'socm000550', 'socm000657']\n",
    "\n",
    "small_files_urls = get_urls_from_ids(df_social_science_medicine_open_access, small_files)\n",
    "small_files_urls"
   ]
  },
  {
   "cell_type": "markdown",
   "id": "10419f0d-9db9-4bc2-9520-89192d9be03b",
   "metadata": {},
   "source": [
    "## Linguistics, literature and arts"
   ]
  },
  {
   "cell_type": "markdown",
   "id": "ff024cb5-3472-4a81-906e-d561e9cfdbcc",
   "metadata": {},
   "source": [
    "### [Applied Corpus Linguistics](https://www.sciencedirect.com/journal/applied-corpus-linguistics)"
   ]
  },
  {
   "cell_type": "markdown",
   "id": "f88c80cd-6876-4612-8fc3-ebb320f705c4",
   "metadata": {},
   "source": [
    "#### Create output subdirectory"
   ]
  },
  {
   "cell_type": "code",
   "execution_count": 62,
   "id": "c1da3a5b-a6c8-4201-b1e3-99e826db2099",
   "metadata": {},
   "outputs": [
    {
     "name": "stdout",
     "output_type": "stream",
     "text": [
      "Directory already exists: cl_st2_ph4_eyamrog\\apcl\n"
     ]
    }
   ],
   "source": [
    "# 'Applied Corpus Linguistics'\n",
    "id = 'apcl'\n",
    "path1 = os.path.join(output_directory, id)\n",
    "path2 = os.path.join(input_directory, id)\n",
    "create_directory(path1)"
   ]
  },
  {
   "cell_type": "markdown",
   "id": "a10ccdec-1da6-48ba-b246-b8ad6fa77c9d",
   "metadata": {},
   "source": [
    "#### Import the data into a DataFrame"
   ]
  },
  {
   "cell_type": "code",
   "execution_count": 63,
   "id": "775450ac-f2fa-4738-a513-e6be8f69f166",
   "metadata": {},
   "outputs": [],
   "source": [
    "df_applied_corpus_linguistics_open_access = pd.read_json(f\"{input_directory}/applied_corpus_linguistics_open_access.jsonl\", lines=True)"
   ]
  },
  {
   "cell_type": "code",
   "execution_count": 64,
   "id": "7a2961f6-aebb-4d43-9649-cf8c024daa91",
   "metadata": {},
   "outputs": [],
   "source": [
    "df_applied_corpus_linguistics_open_access['Published'] = pd.to_datetime(df_applied_corpus_linguistics_open_access['Published'], unit='ms')"
   ]
  },
  {
   "cell_type": "markdown",
   "id": "70e1809c-32cc-4637-9c94-7e5ffe52e985",
   "metadata": {},
   "source": [
    "#### Identify documents without `Abstract`"
   ]
  },
  {
   "cell_type": "code",
   "execution_count": 65,
   "id": "f936477b-c9eb-44ff-a7a0-1b901b07bb0c",
   "metadata": {},
   "outputs": [
    {
     "name": "stdout",
     "output_type": "stream",
     "text": [
      "[]\n"
     ]
    },
    {
     "data": {
      "text/plain": [
       "[]"
      ]
     },
     "execution_count": 65,
     "metadata": {},
     "output_type": "execute_result"
    }
   ],
   "source": [
    "no_abstract = get_files_without_abstract(path2)\n",
    "print(no_abstract)\n",
    "\n",
    "no_abstract_urls = get_urls_from_ids(df_applied_corpus_linguistics_open_access, no_abstract)\n",
    "no_abstract_urls"
   ]
  },
  {
   "cell_type": "markdown",
   "id": "d2d30cfb-e8e2-4a2e-aa15-7c9a532ca37c",
   "metadata": {},
   "source": [
    "### [Journal of English Linguistics](https://journals.sagepub.com/home/eng)"
   ]
  },
  {
   "cell_type": "markdown",
   "id": "794c5c3c-cdbe-4d56-b4ff-c9736ffd8394",
   "metadata": {},
   "source": [
    "#### Create output subdirectory"
   ]
  },
  {
   "cell_type": "code",
   "execution_count": 66,
   "id": "694430bf-f9b7-4816-aef2-95076f392183",
   "metadata": {},
   "outputs": [
    {
     "name": "stdout",
     "output_type": "stream",
     "text": [
      "Directory already exists: cl_st2_ph4_eyamrog\\jenl\n"
     ]
    }
   ],
   "source": [
    "# 'Journal of English Linguistics'\n",
    "id = 'jenl'\n",
    "path1 = os.path.join(output_directory, id)\n",
    "path2 = os.path.join(input_directory, id)\n",
    "create_directory(path1)"
   ]
  },
  {
   "cell_type": "markdown",
   "id": "29faebef-90a2-4ff1-a484-a722e1c90cb3",
   "metadata": {},
   "source": [
    "#### Import the data into a DataFrame"
   ]
  },
  {
   "cell_type": "code",
   "execution_count": 67,
   "id": "d4adc78a-4aca-4b63-842e-4427180fe8f3",
   "metadata": {},
   "outputs": [],
   "source": [
    "df_journal_english_linguistics_open_access = pd.read_json(f\"{input_directory}/journal_english_linguistics_open_access.jsonl\", lines=True)"
   ]
  },
  {
   "cell_type": "code",
   "execution_count": 68,
   "id": "476b4a62-f899-4811-85c3-6b9941a43a88",
   "metadata": {},
   "outputs": [],
   "source": [
    "df_journal_english_linguistics_open_access['Published'] = pd.to_datetime(df_journal_english_linguistics_open_access['Published'], unit='ms')"
   ]
  },
  {
   "cell_type": "markdown",
   "id": "bb268f5f-810b-472b-a3ef-66d6e12f8fb2",
   "metadata": {},
   "source": [
    "#### Identify documents without `Abstract`"
   ]
  },
  {
   "cell_type": "markdown",
   "id": "092407eb-b680-4b6f-ba46-323511847867",
   "metadata": {},
   "source": [
    "The documents are not `Research Articles` and **should be excluded**."
   ]
  },
  {
   "cell_type": "code",
   "execution_count": 69,
   "id": "1524cdc6-ead0-41f8-999a-aab85ecd5b08",
   "metadata": {},
   "outputs": [
    {
     "name": "stdout",
     "output_type": "stream",
     "text": [
      "['jenl000015', 'jenl000016']\n"
     ]
    },
    {
     "data": {
      "text/plain": [
       "['https://journals.sagepub.com/doi/abs/10.1177/00754242221126692',\n",
       " 'https://journals.sagepub.com/doi/abs/10.1177/00754242221126533']"
      ]
     },
     "execution_count": 69,
     "metadata": {},
     "output_type": "execute_result"
    }
   ],
   "source": [
    "no_abstract = get_files_without_abstract(path2)\n",
    "print(no_abstract)\n",
    "\n",
    "no_abstract_urls = get_urls_from_ids(df_journal_english_linguistics_open_access, no_abstract)\n",
    "no_abstract_urls"
   ]
  },
  {
   "cell_type": "code",
   "execution_count": null,
   "id": "ffa064e6-116d-4ccd-9346-6d5f2899c4eb",
   "metadata": {},
   "outputs": [],
   "source": []
  }
 ],
 "metadata": {
  "kernelspec": {
   "display_name": "Python 3 (ipykernel)",
   "language": "python",
   "name": "python3"
  },
  "language_info": {
   "codemirror_mode": {
    "name": "ipython",
    "version": 3
   },
   "file_extension": ".py",
   "mimetype": "text/x-python",
   "name": "python",
   "nbconvert_exporter": "python",
   "pygments_lexer": "ipython3",
   "version": "3.12.9"
  }
 },
 "nbformat": 4,
 "nbformat_minor": 5
}
