{
 "cells": [
  {
   "cell_type": "markdown",
   "id": "810d9f10-ec19-4b09-8f90-e983e460b319",
   "metadata": {},
   "source": [
    "<center>\n",
    "<img src=\"https://laelgelcpublic.s3.sa-east-1.amazonaws.com/lael_50_years_narrow_white.png.no_years.400px_96dpi.png\" width=\"300\" alt=\"LAEL 50 years logo\">\n",
    "<h3>APPLIED LINGUISTICS GRADUATE PROGRAMME (LAEL)</h3>\n",
    "</center>\n",
    "<hr>"
   ]
  },
  {
   "cell_type": "markdown",
   "id": "888c2c96-2fc3-4a1a-995b-c388036a2a15",
   "metadata": {},
   "source": [
    "# Corpus Linguistics - Study 2 - Phase 4 - eyamrog"
   ]
  },
  {
   "cell_type": "markdown",
   "id": "c2b2a221-54af-4c1c-a7fd-c80cda278dcc",
   "metadata": {},
   "source": [
    "The aim of this phase is to perform an initial compilation of the `QJPP` corpus."
   ]
  },
  {
   "cell_type": "markdown",
   "id": "a685d8b0-7715-45a6-9489-2d3db9b346c8",
   "metadata": {},
   "source": [
    "## Required Python packages"
   ]
  },
  {
   "cell_type": "markdown",
   "id": "b526a82b-22a6-4d28-afa2-eb6e7bcca4fb",
   "metadata": {},
   "source": [
    "- pandas"
   ]
  },
  {
   "cell_type": "markdown",
   "id": "aa922755-c4d6-4008-9aad-d35e33b18ed7",
   "metadata": {},
   "source": [
    "## Import the required libraries"
   ]
  },
  {
   "cell_type": "code",
   "execution_count": 1,
   "id": "182dbbab-65ee-4695-a418-3e9d9d8599e8",
   "metadata": {},
   "outputs": [],
   "source": [
    "import pandas as pd\n",
    "import os\n",
    "import sys\n",
    "import numpy as np\n",
    "import random"
   ]
  },
  {
   "cell_type": "markdown",
   "id": "ef3ad412-2346-43d3-8607-08705487f1b2",
   "metadata": {},
   "source": [
    "## Define input variables"
   ]
  },
  {
   "cell_type": "code",
   "execution_count": 2,
   "id": "a7657874-dc0a-4a7b-ae4b-bb3ca3fd7fa0",
   "metadata": {},
   "outputs": [],
   "source": [
    "input_directory = 'cl_st2_ph2_eyamrog'\n",
    "output_directory = 'cl_st2_ph4_eyamrog'"
   ]
  },
  {
   "cell_type": "markdown",
   "id": "d32b4a24-8a37-4302-9c3e-790aa6dee914",
   "metadata": {},
   "source": [
    "## Create output directory"
   ]
  },
  {
   "cell_type": "code",
   "execution_count": 3,
   "id": "5dce68e3-44e7-4a7e-bc25-73c21ca6fbcb",
   "metadata": {},
   "outputs": [
    {
     "name": "stdout",
     "output_type": "stream",
     "text": [
      "Output directory already exists.\n"
     ]
    }
   ],
   "source": [
    "# Check if the output directory already exists. If it does, do nothing. If it doesn't exist, create it.\n",
    "if os.path.exists(output_directory):\n",
    "    print('Output directory already exists.')\n",
    "else:\n",
    "    try:\n",
    "        os.makedirs(output_directory)\n",
    "        print('Output directory successfully created.')\n",
    "    except OSError as e:\n",
    "        print('Failed to create the directory:', e)\n",
    "        sys.exit(1)"
   ]
  },
  {
   "cell_type": "markdown",
   "id": "74e32a21-1ea8-4563-aa6f-ee00cceeb3f6",
   "metadata": {},
   "source": [
    "### Create output subdirectories"
   ]
  },
  {
   "cell_type": "code",
   "execution_count": 4,
   "id": "02ec67dc-d7bd-4dc3-85e3-611c633ef03b",
   "metadata": {},
   "outputs": [],
   "source": [
    "def create_directory(path):\n",
    "    \"\"\"Creates a subdirectory if it doesn't exist.\"\"\"\n",
    "    if not os.path.exists(path):\n",
    "        try:\n",
    "            os.makedirs(path)\n",
    "            print(f\"Successfully created the directory: {path}\")\n",
    "        except OSError as e:\n",
    "            print(f\"Failed to create the {path} directory: {e}\")\n",
    "            sys.exit(1)\n",
    "    else:\n",
    "        print(f\"Directory already exists: {path}\")"
   ]
  },
  {
   "cell_type": "markdown",
   "id": "313ad91c-26f2-414d-974f-0ad147e9b05d",
   "metadata": {},
   "source": [
    "## List documents without `Abstract`"
   ]
  },
  {
   "cell_type": "markdown",
   "id": "784fa1ff-4c73-4e14-bc35-4168ee46e671",
   "metadata": {},
   "source": [
    "Identify documents that may not be `Research Articles` by checking the absence of `Abstract` section."
   ]
  },
  {
   "cell_type": "code",
   "execution_count": 5,
   "id": "04283c06-cde3-4665-a7c3-3e4e4bb38a0c",
   "metadata": {},
   "outputs": [],
   "source": [
    "def get_files_without_abstract(directory):\n",
    "    no_abstract = []\n",
    "\n",
    "    for filename in os.listdir(directory):\n",
    "        if filename.endswith('.txt'):\n",
    "            file_path = os.path.join(directory, filename)\n",
    "\n",
    "            with open(file_path, 'r', encoding='utf-8') as f:\n",
    "                has_abstract = any(\n",
    "                    line.strip().startswith('Abstract:') or\n",
    "                    line.strip().startswith('Section: ABSTRACT')\n",
    "                    for line in f\n",
    "                )\n",
    "\n",
    "            if not has_abstract:\n",
    "                no_abstract.append(os.path.splitext(filename)[0]) # Remove '.txt'\n",
    "\n",
    "    return no_abstract"
   ]
  },
  {
   "cell_type": "code",
   "execution_count": 6,
   "id": "d14cd5c5-82b2-4cdc-a8b3-c5cba96dac90",
   "metadata": {},
   "outputs": [],
   "source": [
    "def get_urls_from_ids(df, id_list, id_column='ID', url_column='URL'):\n",
    "    \"\"\"\n",
    "    Given a DataFrame and a list of IDs, return a list of corresponding URLs.\n",
    "\n",
    "    Parameters:\n",
    "    - df: pandas DataFrame containing at least 'ID' and 'URL' columns\n",
    "    - id_list: list of ID values to match\n",
    "    - id_column: column name in df that contains IDs (default 'ID')\n",
    "    - url_column: column name in df that contains URLs (default 'URL')\n",
    "\n",
    "    Returns:\n",
    "    - List of URLs matching the given IDs\n",
    "    \"\"\"\n",
    "    filtered = df[df[id_column].isin(id_list)]\n",
    "    return filtered[url_column].tolist()"
   ]
  },
  {
   "cell_type": "markdown",
   "id": "bcaa9dba-54e5-4695-8977-2c7bab98f27d",
   "metadata": {},
   "source": [
    "## Sample articles"
   ]
  },
  {
   "cell_type": "code",
   "execution_count": 7,
   "id": "e17be9d4-3c9a-4e55-8630-4a6cb6e2b867",
   "metadata": {},
   "outputs": [],
   "source": [
    "def sample_articles(df, sampled_article_count, exclusion_article_list):\n",
    "    \"\"\"\n",
    "    Sample articles randomly.\n",
    "\n",
    "    Parameters:\n",
    "    - df: Full DataFrame\n",
    "    - sampled_article_count: Number of sampled articles\n",
    "    - exclusion_article_list: List of article IDs to be excluded\n",
    "\n",
    "    Returns:\n",
    "    - DataFrame with the sampled articles\n",
    "    \"\"\"\n",
    "    # Get the full article list\n",
    "    full_article_list = list(df['ID'].unique())\n",
    "\n",
    "    # Get the article list\n",
    "    article_list = [item for item in full_article_list if item not in exclusion_article_list]\n",
    "\n",
    "    # Ensure the 'ID' column has enough unique items\n",
    "    if len(article_list) >= sampled_article_count:\n",
    "        # Generate a random sample of 'ID's\n",
    "        random_id_list = random.sample(article_list, sampled_article_count)\n",
    "    else:\n",
    "        print(f\"Not enough unique 'ID' values to sample {sampled_article_count} items.\")\n",
    "\n",
    "    # Sample the articles\n",
    "    df_sampled = df[df['ID'].isin(random_id_list)]\n",
    "\n",
    "    return df_sampled"
   ]
  },
  {
   "cell_type": "markdown",
   "id": "ce914edb-8afd-4257-9819-0e2c2c9dbc83",
   "metadata": {},
   "source": [
    "## QJPP Design"
   ]
  },
  {
   "cell_type": "markdown",
   "id": "25c8ba7c-82cf-4c5c-9e6a-41cb053f652b",
   "metadata": {},
   "source": [
    "### Define `QJPP Text Count` proportional to `EL2AP Text Count`"
   ]
  },
  {
   "cell_type": "code",
   "execution_count": 8,
   "id": "c8cdf909-6bda-4057-a271-aee3d68483a2",
   "metadata": {},
   "outputs": [],
   "source": [
    "qjpp_dict = {\n",
    "    'Discipline': [\n",
    "        'Health Sciences',\n",
    "        'Biological Sciences',\n",
    "        'Human Sciences',\n",
    "        'Applied Social Sciences',\n",
    "        'Linguistic, literature and arts'\n",
    "    ],\n",
    "    'EL2AP Text Count': [\n",
    "        45, 46, 26, 21, 15\n",
    "    ]\n",
    "}"
   ]
  },
  {
   "cell_type": "code",
   "execution_count": 9,
   "id": "8404bb29-1c5e-49a4-8162-277cfb952622",
   "metadata": {},
   "outputs": [],
   "source": [
    "df_qjpp_design = pd.DataFrame(qjpp_dict)"
   ]
  },
  {
   "cell_type": "markdown",
   "id": "efa4e346-e434-413c-8a1c-723b97aa4ccc",
   "metadata": {},
   "source": [
    "For QJPP reference corpus, the discipline that was the lowest text count is `Linguistic, literature and arts` with 29 texts. The text count in other disciplines should follow the proportion of 29 QJPP texts per 15 EL2AP texts."
   ]
  },
  {
   "cell_type": "code",
   "execution_count": 10,
   "id": "6c2a14b5-718f-47eb-8e35-634e21bb8238",
   "metadata": {},
   "outputs": [],
   "source": [
    "proportion_factor = 29/15"
   ]
  },
  {
   "cell_type": "code",
   "execution_count": 11,
   "id": "e60281c0-8cab-4f58-b60a-074d14f3a26c",
   "metadata": {},
   "outputs": [],
   "source": [
    "df_qjpp_design['QJPP Text Count'] = np.ceil(\n",
    "    df_qjpp_design['EL2AP Text Count'] * proportion_factor\n",
    ").astype(int)"
   ]
  },
  {
   "cell_type": "code",
   "execution_count": 12,
   "id": "8b962779-35a6-435b-803e-68000b79a33b",
   "metadata": {},
   "outputs": [
    {
     "data": {
      "text/html": [
       "<div>\n",
       "<style scoped>\n",
       "    .dataframe tbody tr th:only-of-type {\n",
       "        vertical-align: middle;\n",
       "    }\n",
       "\n",
       "    .dataframe tbody tr th {\n",
       "        vertical-align: top;\n",
       "    }\n",
       "\n",
       "    .dataframe thead th {\n",
       "        text-align: right;\n",
       "    }\n",
       "</style>\n",
       "<table border=\"1\" class=\"dataframe\">\n",
       "  <thead>\n",
       "    <tr style=\"text-align: right;\">\n",
       "      <th></th>\n",
       "      <th>Discipline</th>\n",
       "      <th>EL2AP Text Count</th>\n",
       "      <th>QJPP Text Count</th>\n",
       "    </tr>\n",
       "  </thead>\n",
       "  <tbody>\n",
       "    <tr>\n",
       "      <th>0</th>\n",
       "      <td>Health Sciences</td>\n",
       "      <td>45</td>\n",
       "      <td>87</td>\n",
       "    </tr>\n",
       "    <tr>\n",
       "      <th>1</th>\n",
       "      <td>Biological Sciences</td>\n",
       "      <td>46</td>\n",
       "      <td>89</td>\n",
       "    </tr>\n",
       "    <tr>\n",
       "      <th>2</th>\n",
       "      <td>Human Sciences</td>\n",
       "      <td>26</td>\n",
       "      <td>51</td>\n",
       "    </tr>\n",
       "    <tr>\n",
       "      <th>3</th>\n",
       "      <td>Applied Social Sciences</td>\n",
       "      <td>21</td>\n",
       "      <td>41</td>\n",
       "    </tr>\n",
       "    <tr>\n",
       "      <th>4</th>\n",
       "      <td>Linguistic, literature and arts</td>\n",
       "      <td>15</td>\n",
       "      <td>29</td>\n",
       "    </tr>\n",
       "  </tbody>\n",
       "</table>\n",
       "</div>"
      ],
      "text/plain": [
       "                        Discipline  EL2AP Text Count  QJPP Text Count\n",
       "0                  Health Sciences                45               87\n",
       "1              Biological Sciences                46               89\n",
       "2                   Human Sciences                26               51\n",
       "3          Applied Social Sciences                21               41\n",
       "4  Linguistic, literature and arts                15               29"
      ]
     },
     "execution_count": 12,
     "metadata": {},
     "output_type": "execute_result"
    }
   ],
   "source": [
    "df_qjpp_design"
   ]
  },
  {
   "cell_type": "markdown",
   "id": "116d3439-80eb-43ac-bdf7-37b168894eeb",
   "metadata": {},
   "source": [
    "### Splitting the quantities among QJPP's journals"
   ]
  },
  {
   "cell_type": "markdown",
   "id": "440503c0-f917-434e-8793-d139a4bfbc2f",
   "metadata": {},
   "source": [
    "#### Map the journals"
   ]
  },
  {
   "cell_type": "code",
   "execution_count": 13,
   "id": "102e2245-ab35-4f6b-b1e6-7dbc24698dd6",
   "metadata": {},
   "outputs": [],
   "source": [
    "qjpp_journal_map = {\n",
    "    'Health Sciences': [\n",
    "        'Nature Medicine',\n",
    "        'Annual Review of Public Health',\n",
    "        'Lancet Public Health',\n",
    "        'New England Journal of Medicine'\n",
    "    ],\n",
    "    'Biological Sciences': [\n",
    "        'Cell',\n",
    "        'American Journal of Human Biology'\n",
    "    ],\n",
    "    'Human Sciences': [\n",
    "        'Annual Review of Anthropology',\n",
    "        'Journal of Human Evolution'\n",
    "    ],\n",
    "    'Applied Social Sciences': [\n",
    "        'Journal of Applied Social Science',\n",
    "        'Journal of Social Issues',\n",
    "        'Social Science & Medicine'\n",
    "    ],\n",
    "    'Linguistic, literature and arts': [\n",
    "        'Applied Corpus Linguistics',\n",
    "        'Journal of English Linguistics',\n",
    "        'Corpora'\n",
    "    ]\n",
    "}"
   ]
  },
  {
   "cell_type": "markdown",
   "id": "11484528-5cb7-4ec0-81ea-1a55de9e3756",
   "metadata": {},
   "source": [
    "#### Break down the counts"
   ]
  },
  {
   "cell_type": "code",
   "execution_count": 14,
   "id": "d219c7f8-0d0c-4008-bbc1-1143317dd155",
   "metadata": {},
   "outputs": [
    {
     "data": {
      "text/html": [
       "<div>\n",
       "<style scoped>\n",
       "    .dataframe tbody tr th:only-of-type {\n",
       "        vertical-align: middle;\n",
       "    }\n",
       "\n",
       "    .dataframe tbody tr th {\n",
       "        vertical-align: top;\n",
       "    }\n",
       "\n",
       "    .dataframe thead th {\n",
       "        text-align: right;\n",
       "    }\n",
       "</style>\n",
       "<table border=\"1\" class=\"dataframe\">\n",
       "  <thead>\n",
       "    <tr style=\"text-align: right;\">\n",
       "      <th></th>\n",
       "      <th>Discipline</th>\n",
       "      <th>Journal</th>\n",
       "      <th>QJPP Text Count</th>\n",
       "    </tr>\n",
       "  </thead>\n",
       "  <tbody>\n",
       "    <tr>\n",
       "      <th>0</th>\n",
       "      <td>Health Sciences</td>\n",
       "      <td>Nature Medicine</td>\n",
       "      <td>22</td>\n",
       "    </tr>\n",
       "    <tr>\n",
       "      <th>1</th>\n",
       "      <td>Health Sciences</td>\n",
       "      <td>Annual Review of Public Health</td>\n",
       "      <td>22</td>\n",
       "    </tr>\n",
       "    <tr>\n",
       "      <th>2</th>\n",
       "      <td>Health Sciences</td>\n",
       "      <td>Lancet Public Health</td>\n",
       "      <td>22</td>\n",
       "    </tr>\n",
       "    <tr>\n",
       "      <th>3</th>\n",
       "      <td>Health Sciences</td>\n",
       "      <td>New England Journal of Medicine</td>\n",
       "      <td>22</td>\n",
       "    </tr>\n",
       "    <tr>\n",
       "      <th>4</th>\n",
       "      <td>Biological Sciences</td>\n",
       "      <td>Cell</td>\n",
       "      <td>45</td>\n",
       "    </tr>\n",
       "    <tr>\n",
       "      <th>5</th>\n",
       "      <td>Biological Sciences</td>\n",
       "      <td>American Journal of Human Biology</td>\n",
       "      <td>45</td>\n",
       "    </tr>\n",
       "    <tr>\n",
       "      <th>6</th>\n",
       "      <td>Human Sciences</td>\n",
       "      <td>Annual Review of Anthropology</td>\n",
       "      <td>29</td>\n",
       "    </tr>\n",
       "    <tr>\n",
       "      <th>7</th>\n",
       "      <td>Human Sciences</td>\n",
       "      <td>Journal of Human Evolution</td>\n",
       "      <td>22</td>\n",
       "    </tr>\n",
       "    <tr>\n",
       "      <th>8</th>\n",
       "      <td>Applied Social Sciences</td>\n",
       "      <td>Journal of Applied Social Science</td>\n",
       "      <td>14</td>\n",
       "    </tr>\n",
       "    <tr>\n",
       "      <th>9</th>\n",
       "      <td>Applied Social Sciences</td>\n",
       "      <td>Journal of Social Issues</td>\n",
       "      <td>14</td>\n",
       "    </tr>\n",
       "    <tr>\n",
       "      <th>10</th>\n",
       "      <td>Applied Social Sciences</td>\n",
       "      <td>Social Science &amp; Medicine</td>\n",
       "      <td>14</td>\n",
       "    </tr>\n",
       "    <tr>\n",
       "      <th>11</th>\n",
       "      <td>Linguistic, literature and arts</td>\n",
       "      <td>Applied Corpus Linguistics</td>\n",
       "      <td>5</td>\n",
       "    </tr>\n",
       "    <tr>\n",
       "      <th>12</th>\n",
       "      <td>Linguistic, literature and arts</td>\n",
       "      <td>Journal of English Linguistics</td>\n",
       "      <td>15</td>\n",
       "    </tr>\n",
       "    <tr>\n",
       "      <th>13</th>\n",
       "      <td>Linguistic, literature and arts</td>\n",
       "      <td>Corpora</td>\n",
       "      <td>9</td>\n",
       "    </tr>\n",
       "    <tr>\n",
       "      <th>14</th>\n",
       "      <td></td>\n",
       "      <td>Total</td>\n",
       "      <td>300</td>\n",
       "    </tr>\n",
       "  </tbody>\n",
       "</table>\n",
       "</div>"
      ],
      "text/plain": [
       "                         Discipline                            Journal  \\\n",
       "0                   Health Sciences                    Nature Medicine   \n",
       "1                   Health Sciences     Annual Review of Public Health   \n",
       "2                   Health Sciences               Lancet Public Health   \n",
       "3                   Health Sciences    New England Journal of Medicine   \n",
       "4               Biological Sciences                               Cell   \n",
       "5               Biological Sciences  American Journal of Human Biology   \n",
       "6                    Human Sciences      Annual Review of Anthropology   \n",
       "7                    Human Sciences         Journal of Human Evolution   \n",
       "8           Applied Social Sciences  Journal of Applied Social Science   \n",
       "9           Applied Social Sciences           Journal of Social Issues   \n",
       "10          Applied Social Sciences          Social Science & Medicine   \n",
       "11  Linguistic, literature and arts         Applied Corpus Linguistics   \n",
       "12  Linguistic, literature and arts     Journal of English Linguistics   \n",
       "13  Linguistic, literature and arts                            Corpora   \n",
       "14                                                               Total   \n",
       "\n",
       "    QJPP Text Count  \n",
       "0                22  \n",
       "1                22  \n",
       "2                22  \n",
       "3                22  \n",
       "4                45  \n",
       "5                45  \n",
       "6                29  \n",
       "7                22  \n",
       "8                14  \n",
       "9                14  \n",
       "10               14  \n",
       "11                5  \n",
       "12               15  \n",
       "13                9  \n",
       "14              300  "
      ]
     },
     "execution_count": 14,
     "metadata": {},
     "output_type": "execute_result"
    }
   ],
   "source": [
    "# Create a list of rows for the new DataFrame\n",
    "rows = []\n",
    "\n",
    "for _, row in df_qjpp_design.iterrows():\n",
    "    discipline = row['Discipline']\n",
    "    total = row['QJPP Text Count']\n",
    "    journals = qjpp_journal_map[discipline]\n",
    "    share = total / len(journals)\n",
    "\n",
    "    for journal in journals:\n",
    "        rows.append({\n",
    "            'Discipline': discipline,\n",
    "            'Journal': journal,\n",
    "            'QJPP Text Count': share\n",
    "        })\n",
    "\n",
    "# New DataFrame\n",
    "df_qjpp_design_split = pd.DataFrame(rows)\n",
    "\n",
    "# Round up to the nearest integer\n",
    "df_qjpp_design_split['QJPP Text Count'] = np.ceil(df_qjpp_design_split['QJPP Text Count']).astype(int)\n",
    "\n",
    "# Manually adjust the values in the 'Human Sciences' discipline\n",
    "df_qjpp_design_split.loc[\n",
    "    df_qjpp_design_split['Journal'] == 'Annual Review of Anthropology',\n",
    "    'QJPP Text Count'\n",
    "] = 29\n",
    "\n",
    "df_qjpp_design_split.loc[\n",
    "    df_qjpp_design_split['Journal'] == 'Journal of Human Evolution',\n",
    "    'QJPP Text Count'\n",
    "] = 22\n",
    "\n",
    "# Manually adjust the values in the 'Linguistic, literature and arts' discipline\n",
    "df_qjpp_design_split.loc[\n",
    "    df_qjpp_design_split['Journal'] == 'Applied Corpus Linguistics',\n",
    "    'QJPP Text Count'\n",
    "] = 5\n",
    "\n",
    "df_qjpp_design_split.loc[\n",
    "    df_qjpp_design_split['Journal'] == 'Journal of English Linguistics',\n",
    "    'QJPP Text Count'\n",
    "] = 15\n",
    "\n",
    "df_qjpp_design_split.loc[\n",
    "    df_qjpp_design_split['Journal'] == 'Corpora',\n",
    "    'QJPP Text Count'\n",
    "] = 9\n",
    "\n",
    "# Include the total 'QJPP Text Count' row\n",
    "total_qjpp_text_count = df_qjpp_design_split['QJPP Text Count'].sum()\n",
    "\n",
    "total_row = ['', 'Total', total_qjpp_text_count]\n",
    "df_qjpp_design_split.loc[len(df_qjpp_design_split.index)] = total_row\n",
    "\n",
    "df_qjpp_design_split"
   ]
  },
  {
   "cell_type": "markdown",
   "id": "2060a7d8-0e30-40fb-a34b-7d5f2b906695",
   "metadata": {},
   "source": [
    "##### Create a LaTeX table"
   ]
  },
  {
   "cell_type": "code",
   "execution_count": 15,
   "id": "f85a42c6-ba30-46e0-a422-d190220fcc15",
   "metadata": {},
   "outputs": [],
   "source": [
    "title = 'QJPP Text Count'\n",
    "filename = 'df_qjpp_design_split_paragraph_count'\n",
    "caption = title\n",
    "label = f\"tab:{filename}\"\n",
    "tex_filename = f\"{filename}.tex\""
   ]
  },
  {
   "cell_type": "code",
   "execution_count": 16,
   "id": "1abd2286-7a63-4acb-a3aa-3374e0780d2b",
   "metadata": {},
   "outputs": [],
   "source": [
    "tex_table = df_qjpp_design_split.to_latex(index=False, longtable=True, decimal=',', caption=caption, label=label)"
   ]
  },
  {
   "cell_type": "code",
   "execution_count": 17,
   "id": "b8eeaaac-3626-442b-bf09-8f79147bba7d",
   "metadata": {},
   "outputs": [],
   "source": [
    "with open(f\"{output_directory}/{tex_filename}\", 'w', encoding='utf8', newline='\\n') as file:\n",
    "    file.write(tex_table)"
   ]
  },
  {
   "cell_type": "markdown",
   "id": "7bae7cc4-88c6-474d-bf2f-810ec7375c7a",
   "metadata": {},
   "source": [
    "## Health Sciences"
   ]
  },
  {
   "cell_type": "markdown",
   "id": "c18c6376-2357-4a21-b421-a159999c0ed5",
   "metadata": {},
   "source": [
    "### [Nature Medicine](https://www.nature.com/nm/)"
   ]
  },
  {
   "cell_type": "markdown",
   "id": "2f1cfa35-9e76-4a21-8815-f28fbee0dfb7",
   "metadata": {},
   "source": [
    "#### Create output subdirectory"
   ]
  },
  {
   "cell_type": "code",
   "execution_count": 18,
   "id": "a3d1275c-086c-4065-9978-68f6da4bba84",
   "metadata": {},
   "outputs": [],
   "source": [
    "# 'Nature Medicine'\n",
    "id = 'natm'\n",
    "#path1 = os.path.join(output_directory, id)\n",
    "path2 = os.path.join(input_directory, id)\n",
    "#create_directory(path1)"
   ]
  },
  {
   "cell_type": "markdown",
   "id": "546fd353-4b6a-4cbe-937a-69fdadaf30ca",
   "metadata": {},
   "source": [
    "#### Import the data into a DataFrame"
   ]
  },
  {
   "cell_type": "code",
   "execution_count": 19,
   "id": "414b65be-8370-4fe0-965f-bbe74abe50d3",
   "metadata": {},
   "outputs": [],
   "source": [
    "df_nature_medicine_open_access = pd.read_json(f\"{input_directory}/nature_medicine_open_access.jsonl\", lines=True)"
   ]
  },
  {
   "cell_type": "code",
   "execution_count": 20,
   "id": "c455386c-ff89-49c7-aadf-bba48f5f8121",
   "metadata": {},
   "outputs": [],
   "source": [
    "df_nature_medicine_open_access['Published'] = pd.to_datetime(df_nature_medicine_open_access['Published'], unit='ms')"
   ]
  },
  {
   "cell_type": "markdown",
   "id": "b3be1a9e-db18-41eb-b421-b62be30c45e4",
   "metadata": {},
   "source": [
    "##### Correct the data set's `Discipline` column and export to a file"
   ]
  },
  {
   "cell_type": "code",
   "execution_count": 21,
   "id": "2854fba2-2a2d-4760-b3c3-ac8295903c33",
   "metadata": {},
   "outputs": [],
   "source": [
    "df_nature_medicine_open_access['Discipline'] = 'Health Sciences'"
   ]
  },
  {
   "cell_type": "code",
   "execution_count": 22,
   "id": "637b80ec-d886-43ff-a70f-b48c96675820",
   "metadata": {},
   "outputs": [],
   "source": [
    "df_nature_medicine_open_access.to_json(f\"{output_directory}/nature_medicine_open_access.jsonl\", orient='records', lines=True)"
   ]
  },
  {
   "cell_type": "markdown",
   "id": "b778ac9c-760f-4942-b14e-e1adcf7626b3",
   "metadata": {},
   "source": [
    "#### Identify documents without `Abstract`"
   ]
  },
  {
   "cell_type": "markdown",
   "id": "f54fe1d7-e557-405d-a6ec-349e65a13d1e",
   "metadata": {},
   "source": [
    "The documents are actually `Research Articles` and **should not be excluded**."
   ]
  },
  {
   "cell_type": "code",
   "execution_count": 23,
   "id": "6a521337-6373-4aa2-8f0f-fb6b6f230f10",
   "metadata": {},
   "outputs": [
    {
     "name": "stdout",
     "output_type": "stream",
     "text": [
      "['natm000052', 'natm000063']\n"
     ]
    },
    {
     "data": {
      "text/plain": [
       "['https://www.nature.com/articles/s41591-022-01866-4',\n",
       " 'https://www.nature.com/articles/s41591-022-01837-9']"
      ]
     },
     "execution_count": 23,
     "metadata": {},
     "output_type": "execute_result"
    }
   ],
   "source": [
    "no_abstract = get_files_without_abstract(path2)\n",
    "print(no_abstract)\n",
    "\n",
    "no_abstract_urls = get_urls_from_ids(df_nature_medicine_open_access, no_abstract)\n",
    "no_abstract_urls"
   ]
  },
  {
   "cell_type": "markdown",
   "id": "6ec423a5-787e-4924-9790-c6d0ee8fe9cf",
   "metadata": {},
   "source": [
    "#### Sample articles"
   ]
  },
  {
   "cell_type": "code",
   "execution_count": 24,
   "id": "204dfae2-589f-4a1b-8b92-5095f87ff5f3",
   "metadata": {},
   "outputs": [],
   "source": [
    "df = df_nature_medicine_open_access\n",
    "sampled_article_count = 22\n",
    "exclusion_article_list = []"
   ]
  },
  {
   "cell_type": "code",
   "execution_count": 25,
   "id": "c323420f-923f-43a2-8c22-274302cca660",
   "metadata": {},
   "outputs": [],
   "source": [
    "df_nature_medicine_open_access_sampled = sample_articles(df, sampled_article_count, exclusion_article_list)"
   ]
  },
  {
   "cell_type": "code",
   "execution_count": 26,
   "id": "4174b480-7519-4036-b928-cc94792825cf",
   "metadata": {},
   "outputs": [
    {
     "data": {
      "text/plain": [
       "(22, 9)"
      ]
     },
     "execution_count": 26,
     "metadata": {},
     "output_type": "execute_result"
    }
   ],
   "source": [
    "df_nature_medicine_open_access_sampled.shape"
   ]
  },
  {
   "cell_type": "markdown",
   "id": "d8e7cd58-2f2b-4d00-812e-17907943a65a",
   "metadata": {},
   "source": [
    "### [Annual Review of Public Health](https://www.annualreviews.org/content/journals/publhealth)"
   ]
  },
  {
   "cell_type": "markdown",
   "id": "b4fc5039-bb6d-4316-87af-b2592b894f55",
   "metadata": {},
   "source": [
    "#### Create output subdirectory"
   ]
  },
  {
   "cell_type": "code",
   "execution_count": 27,
   "id": "f54b2768-6e7a-4b45-a958-6aeba669836f",
   "metadata": {},
   "outputs": [],
   "source": [
    "# 'Annual Review of Public Health'\n",
    "id = 'arph'\n",
    "#path1 = os.path.join(output_directory, id)\n",
    "path2 = os.path.join(input_directory, id)\n",
    "#create_directory(path1)"
   ]
  },
  {
   "cell_type": "markdown",
   "id": "d3ab4b87-ceb6-430f-ab20-6c360e7ab344",
   "metadata": {},
   "source": [
    "#### Import the data into a DataFrame"
   ]
  },
  {
   "cell_type": "code",
   "execution_count": 28,
   "id": "eaaf49fe-13bb-47c4-9f44-458bea3f8eb3",
   "metadata": {},
   "outputs": [],
   "source": [
    "df_ar_public_health = pd.read_json(f\"{input_directory}/ar_public_health.jsonl\", lines=True)"
   ]
  },
  {
   "cell_type": "code",
   "execution_count": 29,
   "id": "3c072f94-3cf8-4a13-9101-aa28863dd0f1",
   "metadata": {},
   "outputs": [],
   "source": [
    "df_ar_public_health['Published'] = pd.to_datetime(df_ar_public_health['Published'], unit='ms')"
   ]
  },
  {
   "cell_type": "markdown",
   "id": "b2881c23-98e6-4f38-b9d3-2355d9064a59",
   "metadata": {},
   "source": [
    "#### Identify documents without `Abstract`"
   ]
  },
  {
   "cell_type": "markdown",
   "id": "29a335df-104f-4644-994d-6c645082f8c0",
   "metadata": {},
   "source": [
    "The documents are `Introductions` and **should be excluded**."
   ]
  },
  {
   "cell_type": "code",
   "execution_count": 30,
   "id": "7f3eff26-56e8-4911-8842-f0624f70a827",
   "metadata": {},
   "outputs": [
    {
     "name": "stdout",
     "output_type": "stream",
     "text": [
      "['arph000029', 'arph000057']\n"
     ]
    },
    {
     "data": {
      "text/plain": [
       "['https://www.annualreviews.org/content/journals/10.1146/annurev-pu-42-012821-100001',\n",
       " 'https://www.annualreviews.org/content/journals/10.1146/annurev-pu-41-012720-100001']"
      ]
     },
     "execution_count": 30,
     "metadata": {},
     "output_type": "execute_result"
    }
   ],
   "source": [
    "no_abstract = get_files_without_abstract(path2)\n",
    "print(no_abstract)\n",
    "\n",
    "no_abstract_urls = get_urls_from_ids(df_ar_public_health, no_abstract)\n",
    "no_abstract_urls"
   ]
  },
  {
   "cell_type": "markdown",
   "id": "b767e76e-4124-4a22-a624-72eccb420916",
   "metadata": {},
   "source": [
    "#### Sample articles"
   ]
  },
  {
   "cell_type": "code",
   "execution_count": 31,
   "id": "6b8088c5-95ff-41fe-b20d-d602a24ecf14",
   "metadata": {},
   "outputs": [],
   "source": [
    "df = df_ar_public_health\n",
    "sampled_article_count = 22\n",
    "exclusion_article_list = no_abstract"
   ]
  },
  {
   "cell_type": "code",
   "execution_count": 32,
   "id": "382f9a65-1b5d-4c66-9d1f-2a2df095e90a",
   "metadata": {},
   "outputs": [],
   "source": [
    "df_ar_public_health_sampled = sample_articles(df, sampled_article_count, exclusion_article_list)"
   ]
  },
  {
   "cell_type": "code",
   "execution_count": 33,
   "id": "a7fe7744-5aaf-4d55-adca-795f640ad10d",
   "metadata": {},
   "outputs": [
    {
     "data": {
      "text/plain": [
       "(22, 9)"
      ]
     },
     "execution_count": 33,
     "metadata": {},
     "output_type": "execute_result"
    }
   ],
   "source": [
    "df_ar_public_health_sampled.shape"
   ]
  },
  {
   "cell_type": "markdown",
   "id": "26f5f473-3883-4b0e-914e-58419006c98f",
   "metadata": {},
   "source": [
    "### [Lancet Public Health](https://www.thelancet.com/journals/lanpub/home)"
   ]
  },
  {
   "cell_type": "markdown",
   "id": "34ab6f0f-e159-4db4-a8ae-ca8a741041c4",
   "metadata": {},
   "source": [
    "#### Create output subdirectory"
   ]
  },
  {
   "cell_type": "code",
   "execution_count": 34,
   "id": "dd3779ce-408d-4f0b-b191-85b2628727aa",
   "metadata": {},
   "outputs": [],
   "source": [
    "# 'Lancet Public Health'\n",
    "id = 'laph'\n",
    "#path1 = os.path.join(output_directory, id)\n",
    "path2 = os.path.join(input_directory, id)\n",
    "#create_directory(path1)"
   ]
  },
  {
   "cell_type": "markdown",
   "id": "2df40946-c5ca-416b-afe4-c9006e54295b",
   "metadata": {},
   "source": [
    "#### Import the data into a DataFrame"
   ]
  },
  {
   "cell_type": "code",
   "execution_count": 35,
   "id": "ce33fb27-f04b-4436-b98b-2455158768dc",
   "metadata": {},
   "outputs": [],
   "source": [
    "df_lancet_public_health_open_access = pd.read_json(f\"{input_directory}/lancet_public_health_open_access.jsonl\", lines=True)"
   ]
  },
  {
   "cell_type": "code",
   "execution_count": 36,
   "id": "939146c7-58a0-4797-b477-ac8daee1130d",
   "metadata": {},
   "outputs": [],
   "source": [
    "df_lancet_public_health_open_access['Published'] = pd.to_datetime(df_lancet_public_health_open_access['Published'], unit='ms')"
   ]
  },
  {
   "cell_type": "markdown",
   "id": "37241acd-00ff-4fc2-9b46-9298543b4d69",
   "metadata": {},
   "source": [
    "#### Identify documents without `Abstract`"
   ]
  },
  {
   "cell_type": "code",
   "execution_count": 37,
   "id": "32881df3-98e9-48f7-9a96-b776415b690f",
   "metadata": {},
   "outputs": [
    {
     "name": "stdout",
     "output_type": "stream",
     "text": [
      "[]\n"
     ]
    },
    {
     "data": {
      "text/plain": [
       "[]"
      ]
     },
     "execution_count": 37,
     "metadata": {},
     "output_type": "execute_result"
    }
   ],
   "source": [
    "no_abstract = get_files_without_abstract(path2)\n",
    "print(no_abstract)\n",
    "\n",
    "no_abstract_urls = get_urls_from_ids(df_lancet_public_health_open_access, no_abstract)\n",
    "no_abstract_urls"
   ]
  },
  {
   "cell_type": "markdown",
   "id": "8c73b242-82ac-4d28-a981-ba6e100a338e",
   "metadata": {},
   "source": [
    "#### Sample articles"
   ]
  },
  {
   "cell_type": "code",
   "execution_count": 38,
   "id": "56898fce-bb44-4171-8d86-fccaf9173b32",
   "metadata": {},
   "outputs": [],
   "source": [
    "df = df_lancet_public_health_open_access\n",
    "sampled_article_count = 22\n",
    "exclusion_article_list = []"
   ]
  },
  {
   "cell_type": "code",
   "execution_count": 39,
   "id": "60cc8bd7-8b71-40c5-9ac9-83e4d75896c1",
   "metadata": {},
   "outputs": [],
   "source": [
    "df_lancet_public_health_open_access_sampled = sample_articles(df, sampled_article_count, exclusion_article_list)"
   ]
  },
  {
   "cell_type": "code",
   "execution_count": 40,
   "id": "bad3d286-9c90-4fd4-aa84-7536f2ca232c",
   "metadata": {},
   "outputs": [
    {
     "data": {
      "text/plain": [
       "(22, 10)"
      ]
     },
     "execution_count": 40,
     "metadata": {},
     "output_type": "execute_result"
    }
   ],
   "source": [
    "df_lancet_public_health_open_access_sampled.shape"
   ]
  },
  {
   "cell_type": "markdown",
   "id": "f194ad6f-39a0-4d59-be27-eb2319a43367",
   "metadata": {},
   "source": [
    "### [New England Journal of Medicine](https://www.nejm.org/)"
   ]
  },
  {
   "cell_type": "markdown",
   "id": "53333b81-e126-48f3-ab64-50f726a4d36e",
   "metadata": {},
   "source": [
    "#### Create output subdirectory"
   ]
  },
  {
   "cell_type": "code",
   "execution_count": 41,
   "id": "5591cc98-dc8a-468f-bcc6-cdad8921d872",
   "metadata": {},
   "outputs": [],
   "source": [
    "# 'New England Journal of Medicine'\n",
    "id = 'nejm'\n",
    "#path1 = os.path.join(output_directory, id)\n",
    "path2 = os.path.join(input_directory, id)\n",
    "#create_directory(path1)"
   ]
  },
  {
   "cell_type": "markdown",
   "id": "a7de4569-b600-442d-b154-c9e01944fb98",
   "metadata": {},
   "source": [
    "#### Import the data into a DataFrame"
   ]
  },
  {
   "cell_type": "code",
   "execution_count": 42,
   "id": "0ee3cefb-8c5f-46b1-abce-dff7e0d78875",
   "metadata": {},
   "outputs": [],
   "source": [
    "df_new_england_journal_of_medicine_open_access = pd.read_json(f\"{input_directory}/new_england_journal_of_medicine_open_access.jsonl\", lines=True)"
   ]
  },
  {
   "cell_type": "code",
   "execution_count": 43,
   "id": "9a4d264d-ef90-4f01-b817-98a9b4650485",
   "metadata": {},
   "outputs": [],
   "source": [
    "df_new_england_journal_of_medicine_open_access['Published'] = pd.to_datetime(df_new_england_journal_of_medicine_open_access['Published'], unit='ms')"
   ]
  },
  {
   "cell_type": "markdown",
   "id": "650eeb35-6565-49a4-bebf-f17be0e8dbe4",
   "metadata": {},
   "source": [
    "#### Identify documents without `Abstract`"
   ]
  },
  {
   "cell_type": "markdown",
   "id": "5a19eb24-208a-4a9b-acf3-d98e43d938c7",
   "metadata": {},
   "source": [
    "These documents are non-standard `Research Articles`. **They should be excluded**."
   ]
  },
  {
   "cell_type": "code",
   "execution_count": 44,
   "id": "03d8a34d-418e-4de6-be66-1cdc09c5fe6d",
   "metadata": {},
   "outputs": [
    {
     "name": "stdout",
     "output_type": "stream",
     "text": [
      "['nejm000048', 'nejm000081', 'nejm000216', 'nejm000265', 'nejm000428', 'nejm000540', 'nejm000568', 'nejm000578', 'nejm000619', 'nejm000653', 'nejm000662']\n"
     ]
    },
    {
     "data": {
      "text/plain": [
       "['https://www.nejm.org/doi/full/10.1056/NEJMra1908412',\n",
       " 'https://www.nejm.org/doi/full/10.1056/NEJMra1901594',\n",
       " 'https://www.nejm.org/doi/full/10.1056/NEJMra2026131',\n",
       " 'https://www.nejm.org/doi/full/10.1056/NEJMra2035343',\n",
       " 'https://www.nejm.org/doi/full/10.1056/NEJMra2030281',\n",
       " 'https://www.nejm.org/doi/full/10.1056/NEJMra2200583',\n",
       " 'https://www.nejm.org/doi/full/10.1056/NEJMra2117706',\n",
       " 'https://www.nejm.org/doi/full/10.1056/NEJMra2106441',\n",
       " 'https://www.nejm.org/doi/full/10.1056/NEJMra2206573',\n",
       " 'https://www.nejm.org/doi/full/10.1056/NEJMra2208860',\n",
       " 'https://www.nejm.org/doi/full/10.1056/NEJMra2200092']"
      ]
     },
     "execution_count": 44,
     "metadata": {},
     "output_type": "execute_result"
    }
   ],
   "source": [
    "no_abstract = get_files_without_abstract(path2)\n",
    "print(no_abstract)\n",
    "\n",
    "no_abstract_urls = get_urls_from_ids(df_new_england_journal_of_medicine_open_access, no_abstract)\n",
    "no_abstract_urls"
   ]
  },
  {
   "cell_type": "markdown",
   "id": "6a3ced64-d960-4ec1-be44-91b17f07eff4",
   "metadata": {},
   "source": [
    "##### Empty files"
   ]
  },
  {
   "cell_type": "markdown",
   "id": "75997d9c-873c-41aa-95ad-ec97df66f650",
   "metadata": {},
   "source": [
    "Many documents are empty and the remaining ones are non-standard `Research Articles`. **They have been re-scraped and are adequate**."
   ]
  },
  {
   "cell_type": "markdown",
   "id": "ab84e6a4-91f9-4fc4-876d-8b879febd304",
   "metadata": {},
   "source": [
    "```\n",
    "# PowerShell command\n",
    "(Get-ChildItem -Path . -File -Recurse -Filter *.txt | Where-Object { $_.Length -eq 0 }).FullName\n",
    "```"
   ]
  },
  {
   "cell_type": "raw",
   "id": "45aa9877-5913-49c7-a621-f648b8f950c3",
   "metadata": {},
   "source": [
    "empty_files = [\n",
    "    'nejm000138',\n",
    "    'nejm000177',\n",
    "    'nejm000197',\n",
    "    'nejm000212',\n",
    "    'nejm000224',\n",
    "    'nejm000252',\n",
    "    'nejm000318',\n",
    "    'nejm000374',\n",
    "    'nejm000375',\n",
    "    'nejm000394',\n",
    "    'nejm000397',\n",
    "    'nejm000406',\n",
    "    'nejm000480',\n",
    "    'nejm000507',\n",
    "    'nejm000513',\n",
    "    'nejm000538',\n",
    "    'nejm000542',\n",
    "    'nejm000547',\n",
    "    'nejm000552',\n",
    "    'nejm000620',\n",
    "    'nejm000666'\n",
    "]"
   ]
  },
  {
   "cell_type": "markdown",
   "id": "70ffcfec-4aee-47fa-bca6-0edecb46782b",
   "metadata": {},
   "source": [
    "##### Documents without `Abstract` that are not empty"
   ]
  },
  {
   "cell_type": "markdown",
   "id": "e37d2659-1fac-450a-a11e-db2b5863767b",
   "metadata": {},
   "source": [
    "These documents are non-standard `Research Articles`. **They should be excluded**."
   ]
  },
  {
   "cell_type": "raw",
   "id": "934f102a-f882-452b-90a1-0a2b52dfd155",
   "metadata": {},
   "source": [
    "no_abstract_no_zeroed = [item for item in no_abstract if item not in empty_files]\n",
    "print(no_abstract_no_zeroed)\n",
    "\n",
    "no_abstract_no_zeroed_urls = get_urls_from_ids(df_new_england_journal_of_medicine_open_access, no_abstract_no_zeroed)\n",
    "no_abstract_no_zeroed_urls"
   ]
  },
  {
   "cell_type": "markdown",
   "id": "4592c13f-85e8-4abb-9e23-c0b1509b17fd",
   "metadata": {},
   "source": [
    "#### Sample articles"
   ]
  },
  {
   "cell_type": "code",
   "execution_count": 45,
   "id": "7c606a2a-9a91-48fc-9b81-3cf8553f55d2",
   "metadata": {},
   "outputs": [],
   "source": [
    "df = df_new_england_journal_of_medicine_open_access\n",
    "sampled_article_count = 22\n",
    "exclusion_article_list = no_abstract"
   ]
  },
  {
   "cell_type": "code",
   "execution_count": 46,
   "id": "35c4ddbb-9b93-4d32-814d-020e5b5b55d1",
   "metadata": {},
   "outputs": [],
   "source": [
    "df_new_england_journal_of_medicine_open_access_sampled = sample_articles(df, sampled_article_count, exclusion_article_list)"
   ]
  },
  {
   "cell_type": "code",
   "execution_count": 47,
   "id": "a3784042-f9d4-4ec8-ae7e-e8d2169930e6",
   "metadata": {},
   "outputs": [
    {
     "data": {
      "text/plain": [
       "(22, 12)"
      ]
     },
     "execution_count": 47,
     "metadata": {},
     "output_type": "execute_result"
    }
   ],
   "source": [
    "df_new_england_journal_of_medicine_open_access_sampled.shape"
   ]
  },
  {
   "cell_type": "markdown",
   "id": "28ae6b83-4479-4ca7-9411-ba35aac9ff98",
   "metadata": {},
   "source": [
    "## Biological Sciences"
   ]
  },
  {
   "cell_type": "markdown",
   "id": "22cbac84-dc51-49cf-852b-82bb2182c7b0",
   "metadata": {},
   "source": [
    "### [Cell](https://www.cell.com/cell/home)"
   ]
  },
  {
   "cell_type": "markdown",
   "id": "789d47dd-ee83-45be-885e-d11d11286aa2",
   "metadata": {},
   "source": [
    "#### Create output subdirectory"
   ]
  },
  {
   "cell_type": "code",
   "execution_count": 48,
   "id": "206c47cc-9b19-4cd6-9544-2b3c25230251",
   "metadata": {},
   "outputs": [],
   "source": [
    "# 'Cell'\n",
    "id = 'cell'\n",
    "#path1 = os.path.join(output_directory, id)\n",
    "path2 = os.path.join(input_directory, id)\n",
    "#create_directory(path1)"
   ]
  },
  {
   "cell_type": "markdown",
   "id": "5060d505-54cd-4d32-b01a-1efbff2defa6",
   "metadata": {},
   "source": [
    "#### Import the data into a DataFrame"
   ]
  },
  {
   "cell_type": "code",
   "execution_count": 49,
   "id": "42f79848-8e38-43c8-b9b5-13c778d6230f",
   "metadata": {},
   "outputs": [],
   "source": [
    "df_cell_open_access = pd.read_json(f\"{input_directory}/cell_open_access.jsonl\", lines=True)"
   ]
  },
  {
   "cell_type": "code",
   "execution_count": 50,
   "id": "3b909b3e-b42d-45cd-85cf-6db3ce9a43b8",
   "metadata": {},
   "outputs": [],
   "source": [
    "df_cell_open_access['Published'] = pd.to_datetime(df_cell_open_access['Published'], unit='ms')"
   ]
  },
  {
   "cell_type": "markdown",
   "id": "b8b8041d-1c0a-4492-9569-c6402d3c2823",
   "metadata": {},
   "source": [
    "#### Identify documents without `Abstract`"
   ]
  },
  {
   "cell_type": "code",
   "execution_count": 51,
   "id": "6c695bc5-5295-4df9-8fd4-95e23fb134ed",
   "metadata": {},
   "outputs": [
    {
     "name": "stdout",
     "output_type": "stream",
     "text": [
      "[]\n"
     ]
    },
    {
     "data": {
      "text/plain": [
       "[]"
      ]
     },
     "execution_count": 51,
     "metadata": {},
     "output_type": "execute_result"
    }
   ],
   "source": [
    "no_abstract = get_files_without_abstract(path2)\n",
    "print(no_abstract)\n",
    "\n",
    "no_abstract_urls = get_urls_from_ids(df_cell_open_access, no_abstract)\n",
    "no_abstract_urls"
   ]
  },
  {
   "cell_type": "markdown",
   "id": "e875ce97-e99d-4601-b6e7-c0411427065b",
   "metadata": {},
   "source": [
    "##### Retracted"
   ]
  },
  {
   "cell_type": "markdown",
   "id": "4186da5b-89a2-49db-a0b2-b91513d40781",
   "metadata": {},
   "source": [
    "This article has been retracted and **should be excluded**."
   ]
  },
  {
   "cell_type": "code",
   "execution_count": 52,
   "id": "640b98f5-1a10-485a-9c16-c28c428f4298",
   "metadata": {},
   "outputs": [],
   "source": [
    "retracted = ['cell000085']"
   ]
  },
  {
   "cell_type": "markdown",
   "id": "465bb570-432b-4100-94a6-946f1577951a",
   "metadata": {},
   "source": [
    "#### Sample articles"
   ]
  },
  {
   "cell_type": "code",
   "execution_count": 53,
   "id": "671b66ea-b63c-4510-8dcb-7a75631f020e",
   "metadata": {},
   "outputs": [],
   "source": [
    "df = df_cell_open_access\n",
    "sampled_article_count = 45\n",
    "exclusion_article_list = retracted"
   ]
  },
  {
   "cell_type": "code",
   "execution_count": 54,
   "id": "585e3f3e-c0cc-466b-8ce1-2593e6bc894e",
   "metadata": {},
   "outputs": [],
   "source": [
    "df_cell_open_access_sampled = sample_articles(df, sampled_article_count, exclusion_article_list)"
   ]
  },
  {
   "cell_type": "code",
   "execution_count": 55,
   "id": "8c46aa08-b249-4275-a72b-8ea32e849ee9",
   "metadata": {},
   "outputs": [
    {
     "data": {
      "text/plain": [
       "(45, 10)"
      ]
     },
     "execution_count": 55,
     "metadata": {},
     "output_type": "execute_result"
    }
   ],
   "source": [
    "df_cell_open_access_sampled.shape"
   ]
  },
  {
   "cell_type": "markdown",
   "id": "370b99dc-b1d0-41b4-b543-b4d0ed244b56",
   "metadata": {},
   "source": [
    "### [American Journal of Human Biology](https://onlinelibrary.wiley.com/journal/15206300?msockid=0525cb73d9a76a060b80df20d87e6b4b)"
   ]
  },
  {
   "cell_type": "markdown",
   "id": "6de4e155-1193-48d3-af9e-3963d57fd40d",
   "metadata": {},
   "source": [
    "#### Create output subdirectory"
   ]
  },
  {
   "cell_type": "code",
   "execution_count": 56,
   "id": "d264e64b-efd0-4c4c-b92c-0d70818a3da1",
   "metadata": {},
   "outputs": [],
   "source": [
    "# 'American Journal of Human Biology'\n",
    "id = 'ajhb'\n",
    "#path1 = os.path.join(output_directory, id)\n",
    "path2 = os.path.join(input_directory, id)\n",
    "#create_directory(path1)"
   ]
  },
  {
   "cell_type": "markdown",
   "id": "76d4a177-82d8-4d56-a7f5-5e3387ef9c01",
   "metadata": {},
   "source": [
    "#### Import the data into a DataFrame"
   ]
  },
  {
   "cell_type": "code",
   "execution_count": 57,
   "id": "1ba78c8e-6e20-4bf9-aba7-c228663f2abb",
   "metadata": {},
   "outputs": [],
   "source": [
    "df_american_journal_human_biology_open_access = pd.read_json(f\"{input_directory}/american_journal_human_biology_open_access.jsonl\", lines=True)"
   ]
  },
  {
   "cell_type": "code",
   "execution_count": 58,
   "id": "f7735dfe-bb52-4849-9395-318240553e01",
   "metadata": {},
   "outputs": [],
   "source": [
    "df_american_journal_human_biology_open_access['Published'] = pd.to_datetime(df_american_journal_human_biology_open_access['Published'], unit='ms')"
   ]
  },
  {
   "cell_type": "markdown",
   "id": "24e9c466-b497-434b-81c0-711e9ff31d40",
   "metadata": {},
   "source": [
    "#### Identify documents without `Abstract`"
   ]
  },
  {
   "cell_type": "markdown",
   "id": "1fce5991-4699-4541-b1b8-5e9afd79c3ed",
   "metadata": {},
   "source": [
    "The documents are not `Research Articles` and **should be excluded**."
   ]
  },
  {
   "cell_type": "code",
   "execution_count": 59,
   "id": "2945abf0-18a9-4eef-95e8-f34eb73ceed4",
   "metadata": {},
   "outputs": [
    {
     "name": "stdout",
     "output_type": "stream",
     "text": [
      "['ajhb000000', 'ajhb000004', 'ajhb000005', 'ajhb000006', 'ajhb000007', 'ajhb000010', 'ajhb000013', 'ajhb000014', 'ajhb000015', 'ajhb000017', 'ajhb000019', 'ajhb000020', 'ajhb000021', 'ajhb000033', 'ajhb000035', 'ajhb000042', 'ajhb000043']\n"
     ]
    },
    {
     "data": {
      "text/plain": [
       "['https://onlinelibrary.wiley.com/doi/10.1002/ajhb.23389',\n",
       " 'https://onlinelibrary.wiley.com/doi/10.1002/ajhb.23407',\n",
       " 'https://onlinelibrary.wiley.com/doi/10.1002/ajhb.23408',\n",
       " 'https://onlinelibrary.wiley.com/doi/10.1002/ajhb.23409',\n",
       " 'https://onlinelibrary.wiley.com/doi/10.1002/ajhb.23430',\n",
       " 'https://onlinelibrary.wiley.com/doi/10.1002/ajhb.23475',\n",
       " 'https://onlinelibrary.wiley.com/doi/10.1002/ajhb.23511',\n",
       " 'https://onlinelibrary.wiley.com/doi/10.1002/ajhb.23474',\n",
       " 'https://onlinelibrary.wiley.com/doi/10.1002/ajhb.23478',\n",
       " 'https://onlinelibrary.wiley.com/doi/10.1002/ajhb.23568',\n",
       " 'https://onlinelibrary.wiley.com/doi/10.1002/ajhb.23562',\n",
       " 'https://onlinelibrary.wiley.com/doi/10.1002/ajhb.23594',\n",
       " 'https://onlinelibrary.wiley.com/doi/10.1002/ajhb.23593',\n",
       " 'https://onlinelibrary.wiley.com/doi/10.1002/ajhb.23607',\n",
       " 'https://onlinelibrary.wiley.com/doi/10.1002/ajhb.23714',\n",
       " 'https://onlinelibrary.wiley.com/doi/10.1002/ajhb.23739',\n",
       " 'https://onlinelibrary.wiley.com/doi/10.1002/ajhb.23740']"
      ]
     },
     "execution_count": 59,
     "metadata": {},
     "output_type": "execute_result"
    }
   ],
   "source": [
    "no_abstract = get_files_without_abstract(path2)\n",
    "print(no_abstract)\n",
    "\n",
    "no_abstract_urls = get_urls_from_ids(df_american_journal_human_biology_open_access, no_abstract)\n",
    "no_abstract_urls"
   ]
  },
  {
   "cell_type": "markdown",
   "id": "146d0578-1734-4366-8f51-4c93fdf039b1",
   "metadata": {},
   "source": [
    "#### Sample articles"
   ]
  },
  {
   "cell_type": "code",
   "execution_count": 60,
   "id": "2d37f305-b31f-44ad-8a6b-07c9f8575d97",
   "metadata": {},
   "outputs": [],
   "source": [
    "df = df_american_journal_human_biology_open_access\n",
    "sampled_article_count = 45\n",
    "exclusion_article_list = no_abstract"
   ]
  },
  {
   "cell_type": "code",
   "execution_count": 61,
   "id": "a689192e-e17b-4f4a-94ad-cb2e3b7f72ec",
   "metadata": {},
   "outputs": [],
   "source": [
    "df_american_journal_human_biology_open_access_sampled = sample_articles(df, sampled_article_count, exclusion_article_list)"
   ]
  },
  {
   "cell_type": "code",
   "execution_count": 62,
   "id": "211748e3-a9d8-4ac3-9344-45bb1ea23e34",
   "metadata": {},
   "outputs": [
    {
     "data": {
      "text/plain": [
       "(45, 12)"
      ]
     },
     "execution_count": 62,
     "metadata": {},
     "output_type": "execute_result"
    }
   ],
   "source": [
    "df_american_journal_human_biology_open_access_sampled.shape"
   ]
  },
  {
   "cell_type": "markdown",
   "id": "03cc94d3-6310-4294-8ae4-83b0404f4187",
   "metadata": {},
   "source": [
    "## Human Sciences"
   ]
  },
  {
   "cell_type": "markdown",
   "id": "cf5d6440-84a0-4644-8a3a-af917dcb3e8a",
   "metadata": {},
   "source": [
    "### [Annual Review of Anthropology](https://www.annualreviews.org/content/journals/anthro)"
   ]
  },
  {
   "cell_type": "markdown",
   "id": "b64a35c9-9690-4d2d-b0a3-8eb1255444d1",
   "metadata": {},
   "source": [
    "#### Create output subdirectory"
   ]
  },
  {
   "cell_type": "code",
   "execution_count": 63,
   "id": "d59df1e4-aebe-466e-8630-693ce28e42e1",
   "metadata": {},
   "outputs": [],
   "source": [
    "# 'Annual Review of Anthropology'\n",
    "id = 'aran'\n",
    "#path1 = os.path.join(output_directory, id)\n",
    "path2 = os.path.join(input_directory, id)\n",
    "#create_directory(path1)"
   ]
  },
  {
   "cell_type": "markdown",
   "id": "39d204cc-d743-4d14-a04c-a3548aa87622",
   "metadata": {},
   "source": [
    "#### Import the data into a DataFrame"
   ]
  },
  {
   "cell_type": "code",
   "execution_count": 64,
   "id": "3ee6c2c9-3860-443c-934e-db2e5ed2491f",
   "metadata": {},
   "outputs": [],
   "source": [
    "df_ar_anthropology = pd.read_json(f\"{input_directory}/ar_anthropology.jsonl\", lines=True)"
   ]
  },
  {
   "cell_type": "code",
   "execution_count": 65,
   "id": "2185a6ec-fff0-4da4-bd77-75059ff47428",
   "metadata": {},
   "outputs": [],
   "source": [
    "df_ar_anthropology['Published'] = pd.to_datetime(df_ar_anthropology['Published'], unit='ms')"
   ]
  },
  {
   "cell_type": "markdown",
   "id": "acdc2b31-c614-4441-841d-16ec47974583",
   "metadata": {},
   "source": [
    "#### Identify documents without `Abstract`"
   ]
  },
  {
   "cell_type": "markdown",
   "id": "3cc99672-6a9c-4d05-963e-a12e547c9fa3",
   "metadata": {},
   "source": [
    "The documents are not `Research Articles` and **should be excluded**."
   ]
  },
  {
   "cell_type": "code",
   "execution_count": 66,
   "id": "770ca7c9-5828-473b-a921-ccdae50b103c",
   "metadata": {},
   "outputs": [
    {
     "name": "stdout",
     "output_type": "stream",
     "text": [
      "['aran000000', 'aran000031', 'aran000057']\n"
     ]
    },
    {
     "data": {
      "text/plain": [
       "['https://www.annualreviews.org/content/journals/10.1146/annurev-an-51-082222-100001',\n",
       " 'https://www.annualreviews.org/content/journals/10.1146/annurev-an-50-081621-100001',\n",
       " 'https://www.annualreviews.org/content/journals/10.1146/annurev-an-49-081420-100001']"
      ]
     },
     "execution_count": 66,
     "metadata": {},
     "output_type": "execute_result"
    }
   ],
   "source": [
    "no_abstract = get_files_without_abstract(path2)\n",
    "print(no_abstract)\n",
    "\n",
    "no_abstract_urls = get_urls_from_ids(df_ar_anthropology, no_abstract)\n",
    "no_abstract_urls"
   ]
  },
  {
   "cell_type": "markdown",
   "id": "e7a80499-fddb-44eb-9583-53a5262193c5",
   "metadata": {},
   "source": [
    "#### Sample articles"
   ]
  },
  {
   "cell_type": "code",
   "execution_count": 67,
   "id": "1bb5cae1-5bbf-4f86-bb68-186b15822ba1",
   "metadata": {},
   "outputs": [],
   "source": [
    "df = df_ar_anthropology\n",
    "sampled_article_count = 29\n",
    "exclusion_article_list = no_abstract"
   ]
  },
  {
   "cell_type": "code",
   "execution_count": 68,
   "id": "c2b549cf-7e29-423e-9ff0-e7ea1b9a68b4",
   "metadata": {},
   "outputs": [],
   "source": [
    "df_ar_anthropology_sampled = sample_articles(df, sampled_article_count, exclusion_article_list)"
   ]
  },
  {
   "cell_type": "code",
   "execution_count": 69,
   "id": "46c37a9c-741f-4384-870e-98066d82f724",
   "metadata": {},
   "outputs": [
    {
     "data": {
      "text/plain": [
       "(29, 9)"
      ]
     },
     "execution_count": 69,
     "metadata": {},
     "output_type": "execute_result"
    }
   ],
   "source": [
    "df_ar_anthropology_sampled.shape"
   ]
  },
  {
   "cell_type": "markdown",
   "id": "c370476d-ff6d-4792-8b59-44110bfd7036",
   "metadata": {},
   "source": [
    "### [Journal of Human Evolution](https://www.sciencedirect.com/journal/journal-of-human-evolution)"
   ]
  },
  {
   "cell_type": "markdown",
   "id": "1fd720e6-1c5e-41fb-9cfe-e444ce84b0d8",
   "metadata": {},
   "source": [
    "#### Create output subdirectory"
   ]
  },
  {
   "cell_type": "code",
   "execution_count": 70,
   "id": "5a269fb7-9abb-41bb-b6d1-244838ec3b34",
   "metadata": {},
   "outputs": [],
   "source": [
    "# 'Journal of Human Evolution'\n",
    "id = 'jhue'\n",
    "#path1 = os.path.join(output_directory, id)\n",
    "path2 = os.path.join(input_directory, id)\n",
    "#create_directory(path1)"
   ]
  },
  {
   "cell_type": "markdown",
   "id": "82aab5c9-e497-40f2-b207-4d788c4ce4a6",
   "metadata": {},
   "source": [
    "#### Import the data into a DataFrame"
   ]
  },
  {
   "cell_type": "code",
   "execution_count": 71,
   "id": "b308c701-f7c2-46d0-beb8-79d0fb8136fd",
   "metadata": {},
   "outputs": [],
   "source": [
    "df_journal_human_evolution_open_access = pd.read_json(f\"{input_directory}/journal_human_evolution_open_access.jsonl\", lines=True)"
   ]
  },
  {
   "cell_type": "code",
   "execution_count": 72,
   "id": "8db31cdb-d34a-4f95-bfda-b212bcd3137b",
   "metadata": {},
   "outputs": [],
   "source": [
    "df_journal_human_evolution_open_access['Published'] = pd.to_datetime(df_journal_human_evolution_open_access['Published'], unit='ms')"
   ]
  },
  {
   "cell_type": "markdown",
   "id": "3c70dd7b-c603-4546-9298-e8e80c838daf",
   "metadata": {},
   "source": [
    "#### Identify documents without `Abstract`"
   ]
  },
  {
   "cell_type": "code",
   "execution_count": 73,
   "id": "9a12b9b3-c250-430d-8055-f27671e49025",
   "metadata": {},
   "outputs": [
    {
     "name": "stdout",
     "output_type": "stream",
     "text": [
      "[]\n"
     ]
    },
    {
     "data": {
      "text/plain": [
       "[]"
      ]
     },
     "execution_count": 73,
     "metadata": {},
     "output_type": "execute_result"
    }
   ],
   "source": [
    "no_abstract = get_files_without_abstract(path2)\n",
    "print(no_abstract)\n",
    "\n",
    "no_abstract_urls = get_urls_from_ids(df_journal_human_evolution_open_access, no_abstract)\n",
    "no_abstract_urls"
   ]
  },
  {
   "cell_type": "markdown",
   "id": "e7891549-7771-4fb0-9f4d-f258506b4ac7",
   "metadata": {},
   "source": [
    "#### Sample articles"
   ]
  },
  {
   "cell_type": "code",
   "execution_count": 74,
   "id": "e21829ae-2516-486b-ac87-6bc3029aabfb",
   "metadata": {},
   "outputs": [],
   "source": [
    "df = df_journal_human_evolution_open_access\n",
    "sampled_article_count = 22\n",
    "exclusion_article_list = []"
   ]
  },
  {
   "cell_type": "code",
   "execution_count": 75,
   "id": "cb00a242-c7e9-4361-8a3e-7518c9fd576d",
   "metadata": {},
   "outputs": [],
   "source": [
    "df_journal_human_evolution_open_access_sampled = sample_articles(df, sampled_article_count, exclusion_article_list)"
   ]
  },
  {
   "cell_type": "code",
   "execution_count": 76,
   "id": "1ae2edf7-9f4b-45ce-98d1-d96ee712c915",
   "metadata": {},
   "outputs": [
    {
     "data": {
      "text/plain": [
       "(22, 13)"
      ]
     },
     "execution_count": 76,
     "metadata": {},
     "output_type": "execute_result"
    }
   ],
   "source": [
    "df_journal_human_evolution_open_access_sampled.shape"
   ]
  },
  {
   "cell_type": "markdown",
   "id": "08aa4ade-f323-4614-ab65-535d3e6f3d1b",
   "metadata": {},
   "source": [
    "## Applied Social Sciences"
   ]
  },
  {
   "cell_type": "markdown",
   "id": "dfd479fd-73c9-4ca6-ae2f-f9c9dd07ab28",
   "metadata": {},
   "source": [
    "### [Journal of Applied Social Science](https://journals.sagepub.com/home/jax)"
   ]
  },
  {
   "cell_type": "markdown",
   "id": "cdb6b35a-a8fc-4315-b640-d4b7856e6006",
   "metadata": {},
   "source": [
    "#### Create output subdirectory"
   ]
  },
  {
   "cell_type": "code",
   "execution_count": 77,
   "id": "26a3d115-b22e-4e14-8553-67ca8d073dfd",
   "metadata": {},
   "outputs": [],
   "source": [
    "# 'Journal of Applied Social Science'\n",
    "id = 'jasc'\n",
    "#path1 = os.path.join(output_directory, id)\n",
    "path2 = os.path.join(input_directory, id)\n",
    "#create_directory(path1)"
   ]
  },
  {
   "cell_type": "markdown",
   "id": "cfa6d600-ed05-432d-921b-ae1839206143",
   "metadata": {},
   "source": [
    "#### Import the data into a DataFrame"
   ]
  },
  {
   "cell_type": "code",
   "execution_count": 78,
   "id": "36125d36-91ac-43f1-97c4-00285fb8634e",
   "metadata": {},
   "outputs": [],
   "source": [
    "df_journal_applied_social_science_open_access = pd.read_json(f\"{input_directory}/journal_applied_social_science_open_access.jsonl\", lines=True)"
   ]
  },
  {
   "cell_type": "code",
   "execution_count": 79,
   "id": "47c8cc6c-479e-49cb-a826-f2be51cae4e4",
   "metadata": {},
   "outputs": [],
   "source": [
    "df_journal_applied_social_science_open_access['Published'] = pd.to_datetime(df_journal_applied_social_science_open_access['Published'], unit='ms')"
   ]
  },
  {
   "cell_type": "markdown",
   "id": "f350fed2-d0b9-47b5-9a00-43dccd148f33",
   "metadata": {},
   "source": [
    "#### Identify documents without `Abstract`"
   ]
  },
  {
   "cell_type": "code",
   "execution_count": 80,
   "id": "e90303e5-2880-4dc4-8b7c-b5b22e48cf0a",
   "metadata": {},
   "outputs": [
    {
     "name": "stdout",
     "output_type": "stream",
     "text": [
      "[]\n"
     ]
    },
    {
     "data": {
      "text/plain": [
       "[]"
      ]
     },
     "execution_count": 80,
     "metadata": {},
     "output_type": "execute_result"
    }
   ],
   "source": [
    "no_abstract = get_files_without_abstract(path2)\n",
    "print(no_abstract)\n",
    "\n",
    "no_abstract_urls = get_urls_from_ids(df_journal_applied_social_science_open_access, no_abstract)\n",
    "no_abstract_urls"
   ]
  },
  {
   "cell_type": "markdown",
   "id": "081447fe-0dde-4655-8a08-7c18dd871ea3",
   "metadata": {},
   "source": [
    "#### Sample articles"
   ]
  },
  {
   "cell_type": "code",
   "execution_count": 81,
   "id": "da0c0933-874c-4cfb-8a19-a4dfb1c515f1",
   "metadata": {},
   "outputs": [],
   "source": [
    "df = df_journal_applied_social_science_open_access\n",
    "sampled_article_count = 14\n",
    "exclusion_article_list = []"
   ]
  },
  {
   "cell_type": "code",
   "execution_count": 82,
   "id": "0d26407a-760c-47c3-8df8-5c24ecfe5a35",
   "metadata": {},
   "outputs": [],
   "source": [
    "df_journal_applied_social_science_open_access_sampled = sample_articles(df, sampled_article_count, exclusion_article_list)"
   ]
  },
  {
   "cell_type": "code",
   "execution_count": 83,
   "id": "0184388c-97aa-44d8-8aa5-4fbbfa328f8d",
   "metadata": {},
   "outputs": [
    {
     "data": {
      "text/plain": [
       "(14, 12)"
      ]
     },
     "execution_count": 83,
     "metadata": {},
     "output_type": "execute_result"
    }
   ],
   "source": [
    "df_journal_applied_social_science_open_access_sampled.shape"
   ]
  },
  {
   "cell_type": "markdown",
   "id": "18de5943-41e4-42f6-b412-5989543c79e1",
   "metadata": {},
   "source": [
    "### [Journal of Social Issues](https://spssi.onlinelibrary.wiley.com/journal/15404560)"
   ]
  },
  {
   "cell_type": "markdown",
   "id": "f9f22b0e-fe71-4df7-ab06-b27786aaaa08",
   "metadata": {},
   "source": [
    "#### Create output subdirectory"
   ]
  },
  {
   "cell_type": "code",
   "execution_count": 84,
   "id": "0a4bf949-c090-4124-adb4-319fe2a3f29a",
   "metadata": {},
   "outputs": [],
   "source": [
    "# 'Journal of Social Issues'\n",
    "id = 'jsoi'\n",
    "#path1 = os.path.join(output_directory, id)\n",
    "path2 = os.path.join(input_directory, id)\n",
    "#create_directory(path1)"
   ]
  },
  {
   "cell_type": "markdown",
   "id": "bbb75010-7601-4ad4-951a-c49822930a63",
   "metadata": {},
   "source": [
    "#### Import the data into a DataFrame"
   ]
  },
  {
   "cell_type": "code",
   "execution_count": 85,
   "id": "7e56be63-dcf8-4c64-8606-90b333d9a945",
   "metadata": {},
   "outputs": [],
   "source": [
    "df_journal_social_issues_open_access = pd.read_json(f\"{input_directory}/journal_social_issues_open_access.jsonl\", lines=True)"
   ]
  },
  {
   "cell_type": "code",
   "execution_count": 86,
   "id": "134393ea-72a1-4c03-aa7f-afce17ff7306",
   "metadata": {},
   "outputs": [],
   "source": [
    "df_journal_social_issues_open_access['Published'] = pd.to_datetime(df_journal_social_issues_open_access['Published'], unit='ms')"
   ]
  },
  {
   "cell_type": "markdown",
   "id": "706b0b7b-e321-463a-8721-45bdbab13783",
   "metadata": {},
   "source": [
    "#### Identify documents without `Abstract`"
   ]
  },
  {
   "cell_type": "code",
   "execution_count": 87,
   "id": "d2f15273-2955-4c90-b0c9-189ea6b46b4f",
   "metadata": {},
   "outputs": [
    {
     "name": "stdout",
     "output_type": "stream",
     "text": [
      "[]\n"
     ]
    },
    {
     "data": {
      "text/plain": [
       "[]"
      ]
     },
     "execution_count": 87,
     "metadata": {},
     "output_type": "execute_result"
    }
   ],
   "source": [
    "no_abstract = get_files_without_abstract(path2)\n",
    "print(no_abstract)\n",
    "\n",
    "no_abstract_urls = get_urls_from_ids(df_journal_social_issues_open_access, no_abstract)\n",
    "no_abstract_urls"
   ]
  },
  {
   "cell_type": "markdown",
   "id": "1bd0ef3f-9eba-4e0f-bdc6-8ff528de836e",
   "metadata": {},
   "source": [
    "#### Sample articles"
   ]
  },
  {
   "cell_type": "code",
   "execution_count": 88,
   "id": "f1f6e535-fae3-42aa-b2e6-9058d9c99d0e",
   "metadata": {},
   "outputs": [],
   "source": [
    "df = df_journal_social_issues_open_access\n",
    "sampled_article_count = 14\n",
    "exclusion_article_list = []"
   ]
  },
  {
   "cell_type": "code",
   "execution_count": 89,
   "id": "75e5faa3-27b5-468f-a554-97e949e83458",
   "metadata": {},
   "outputs": [],
   "source": [
    "df_journal_social_issues_open_access_sampled = sample_articles(df, sampled_article_count, exclusion_article_list)"
   ]
  },
  {
   "cell_type": "code",
   "execution_count": 90,
   "id": "b56739f3-688c-460b-b261-895f566220fc",
   "metadata": {},
   "outputs": [
    {
     "data": {
      "text/plain": [
       "(14, 12)"
      ]
     },
     "execution_count": 90,
     "metadata": {},
     "output_type": "execute_result"
    }
   ],
   "source": [
    "df_journal_social_issues_open_access_sampled.shape"
   ]
  },
  {
   "cell_type": "markdown",
   "id": "7c58a660-738e-4042-ae4b-3ca8efc965d1",
   "metadata": {},
   "source": [
    "### [Social Science & Medicine](https://www.sciencedirect.com/journal/social-science-and-medicine)"
   ]
  },
  {
   "cell_type": "markdown",
   "id": "65d7380c-e1cf-469d-bcd5-1e75f0a39cf2",
   "metadata": {},
   "source": [
    "#### Create output subdirectory"
   ]
  },
  {
   "cell_type": "code",
   "execution_count": 91,
   "id": "8d395fb1-7042-4a3a-ac74-18c9821bc5cf",
   "metadata": {},
   "outputs": [],
   "source": [
    "# 'Social Science & Medicine'\n",
    "id = 'socm'\n",
    "#path1 = os.path.join(output_directory, id)\n",
    "path2 = os.path.join(input_directory, id)\n",
    "#create_directory(path1)"
   ]
  },
  {
   "cell_type": "markdown",
   "id": "97348f8b-959f-4fe6-b6e0-33dc3959c742",
   "metadata": {},
   "source": [
    "#### Import the data into a DataFrame"
   ]
  },
  {
   "cell_type": "code",
   "execution_count": 92,
   "id": "e07c506d-f793-434d-bb0c-b1df690735cc",
   "metadata": {},
   "outputs": [],
   "source": [
    "df_social_science_medicine_open_access = pd.read_json(f\"{input_directory}/social_science_medicine_open_access.jsonl\", lines=True)"
   ]
  },
  {
   "cell_type": "code",
   "execution_count": 93,
   "id": "b58ee27d-ba9b-494a-bb19-eaa37bc59c39",
   "metadata": {},
   "outputs": [],
   "source": [
    "df_social_science_medicine_open_access['Published'] = pd.to_datetime(df_social_science_medicine_open_access['Published'], unit='ms')"
   ]
  },
  {
   "cell_type": "markdown",
   "id": "42edaefd-6b2a-4c3e-a721-433b5fa50f19",
   "metadata": {},
   "source": [
    "#### Identify documents without `Abstract`"
   ]
  },
  {
   "cell_type": "markdown",
   "id": "03158f93-bc37-4b03-97f5-fd223379241e",
   "metadata": {},
   "source": [
    "All of the documents are valid `Research Articles` without `Abstract`. **They should not be excluded**."
   ]
  },
  {
   "cell_type": "code",
   "execution_count": 94,
   "id": "aaab9765-a356-4c69-8988-fa549d3ad683",
   "metadata": {},
   "outputs": [
    {
     "name": "stdout",
     "output_type": "stream",
     "text": [
      "['socm000081', 'socm000118', 'socm000131', 'socm000181', 'socm000182', 'socm000203', 'socm000300', 'socm000380', 'socm000539']\n"
     ]
    },
    {
     "data": {
      "text/plain": [
       "['https://www.sciencedirect.com//science/article/pii/S0277953620304548',\n",
       " 'https://www.sciencedirect.com//science/article/pii/S0277953620307243',\n",
       " 'https://www.sciencedirect.com//science/article/pii/S0277953620306419',\n",
       " 'https://www.sciencedirect.com//science/article/pii/S0277953621000162',\n",
       " 'https://www.sciencedirect.com//science/article/pii/S027795362100023X',\n",
       " 'https://www.sciencedirect.com//science/article/pii/S0277953620308571',\n",
       " 'https://www.sciencedirect.com//science/article/pii/S0277953621004469',\n",
       " 'https://www.sciencedirect.com//science/article/pii/S0277953620307656',\n",
       " 'https://www.sciencedirect.com//science/article/pii/S0277953621008431']"
      ]
     },
     "execution_count": 94,
     "metadata": {},
     "output_type": "execute_result"
    }
   ],
   "source": [
    "no_abstract = get_files_without_abstract(path2)\n",
    "print(no_abstract)\n",
    "\n",
    "no_abstract_urls = get_urls_from_ids(df_social_science_medicine_open_access, no_abstract)\n",
    "no_abstract_urls"
   ]
  },
  {
   "cell_type": "markdown",
   "id": "caf609a4-e907-48b3-8539-54f317550347",
   "metadata": {},
   "source": [
    "#### Documents with incomplete scraping"
   ]
  },
  {
   "cell_type": "markdown",
   "id": "9a0a0c26-8595-4c16-9a40-d64b21a81f63",
   "metadata": {},
   "source": [
    "The following documents were incompletely scraped. Probably, the scraping programme was not designed to handle their HTML structure. They **should be excluded**."
   ]
  },
  {
   "cell_type": "code",
   "execution_count": 95,
   "id": "de8907cb-20b8-43ed-ad17-5eb45d5f1b4e",
   "metadata": {},
   "outputs": [
    {
     "data": {
      "text/plain": [
       "['https://www.sciencedirect.com//science/article/pii/S0277953622001460',\n",
       " 'https://www.sciencedirect.com//science/article/pii/S0277953621008212',\n",
       " 'https://www.sciencedirect.com//science/article/pii/S0277953622005329']"
      ]
     },
     "execution_count": 95,
     "metadata": {},
     "output_type": "execute_result"
    }
   ],
   "source": [
    "small_files = ['socm000528', 'socm000550', 'socm000657']\n",
    "\n",
    "small_files_urls = get_urls_from_ids(df_social_science_medicine_open_access, small_files)\n",
    "small_files_urls"
   ]
  },
  {
   "cell_type": "markdown",
   "id": "a0c307d4-e38a-43ed-848b-01054a3878ac",
   "metadata": {},
   "source": [
    "#### Sample articles"
   ]
  },
  {
   "cell_type": "code",
   "execution_count": 96,
   "id": "f44cd520-660a-4645-a9a5-1bd9841c60fe",
   "metadata": {},
   "outputs": [],
   "source": [
    "df = df_social_science_medicine_open_access\n",
    "sampled_article_count = 14\n",
    "exclusion_article_list = small_files"
   ]
  },
  {
   "cell_type": "code",
   "execution_count": 97,
   "id": "eb74d49e-ddc6-4cbe-9e93-b267d9b7b238",
   "metadata": {},
   "outputs": [],
   "source": [
    "df_social_science_medicine_open_access_sampled = sample_articles(df, sampled_article_count, exclusion_article_list)"
   ]
  },
  {
   "cell_type": "code",
   "execution_count": 98,
   "id": "c120bdda-2051-438e-94db-39aed80b022b",
   "metadata": {},
   "outputs": [
    {
     "data": {
      "text/plain": [
       "(14, 13)"
      ]
     },
     "execution_count": 98,
     "metadata": {},
     "output_type": "execute_result"
    }
   ],
   "source": [
    "df_social_science_medicine_open_access_sampled.shape"
   ]
  },
  {
   "cell_type": "markdown",
   "id": "10419f0d-9db9-4bc2-9520-89192d9be03b",
   "metadata": {},
   "source": [
    "## Linguistics, literature and arts"
   ]
  },
  {
   "cell_type": "markdown",
   "id": "ff024cb5-3472-4a81-906e-d561e9cfdbcc",
   "metadata": {},
   "source": [
    "### [Applied Corpus Linguistics](https://www.sciencedirect.com/journal/applied-corpus-linguistics)"
   ]
  },
  {
   "cell_type": "markdown",
   "id": "f88c80cd-6876-4612-8fc3-ebb320f705c4",
   "metadata": {},
   "source": [
    "#### Create output subdirectory"
   ]
  },
  {
   "cell_type": "code",
   "execution_count": 99,
   "id": "c1da3a5b-a6c8-4201-b1e3-99e826db2099",
   "metadata": {},
   "outputs": [],
   "source": [
    "# 'Applied Corpus Linguistics'\n",
    "id = 'apcl'\n",
    "#path1 = os.path.join(output_directory, id)\n",
    "path2 = os.path.join(input_directory, id)\n",
    "#create_directory(path1)"
   ]
  },
  {
   "cell_type": "markdown",
   "id": "a10ccdec-1da6-48ba-b246-b8ad6fa77c9d",
   "metadata": {},
   "source": [
    "#### Import the data into a DataFrame"
   ]
  },
  {
   "cell_type": "code",
   "execution_count": 100,
   "id": "775450ac-f2fa-4738-a513-e6be8f69f166",
   "metadata": {},
   "outputs": [],
   "source": [
    "df_applied_corpus_linguistics_open_access = pd.read_json(f\"{input_directory}/applied_corpus_linguistics_open_access.jsonl\", lines=True)"
   ]
  },
  {
   "cell_type": "code",
   "execution_count": 101,
   "id": "7a2961f6-aebb-4d43-9649-cf8c024daa91",
   "metadata": {},
   "outputs": [],
   "source": [
    "df_applied_corpus_linguistics_open_access['Published'] = pd.to_datetime(df_applied_corpus_linguistics_open_access['Published'], unit='ms')"
   ]
  },
  {
   "cell_type": "markdown",
   "id": "70e1809c-32cc-4637-9c94-7e5ffe52e985",
   "metadata": {},
   "source": [
    "#### Identify documents without `Abstract`"
   ]
  },
  {
   "cell_type": "code",
   "execution_count": 102,
   "id": "f936477b-c9eb-44ff-a7a0-1b901b07bb0c",
   "metadata": {},
   "outputs": [
    {
     "name": "stdout",
     "output_type": "stream",
     "text": [
      "[]\n"
     ]
    },
    {
     "data": {
      "text/plain": [
       "[]"
      ]
     },
     "execution_count": 102,
     "metadata": {},
     "output_type": "execute_result"
    }
   ],
   "source": [
    "no_abstract = get_files_without_abstract(path2)\n",
    "print(no_abstract)\n",
    "\n",
    "no_abstract_urls = get_urls_from_ids(df_applied_corpus_linguistics_open_access, no_abstract)\n",
    "no_abstract_urls"
   ]
  },
  {
   "cell_type": "markdown",
   "id": "2f306949-2b46-4424-a898-f83d1dda480b",
   "metadata": {},
   "source": [
    "#### Sample articles"
   ]
  },
  {
   "cell_type": "code",
   "execution_count": 103,
   "id": "86b9c85f-a15f-4606-aea4-f634156cf9e8",
   "metadata": {},
   "outputs": [],
   "source": [
    "df = df_applied_corpus_linguistics_open_access\n",
    "sampled_article_count = 5\n",
    "exclusion_article_list = []"
   ]
  },
  {
   "cell_type": "code",
   "execution_count": 104,
   "id": "3a5b092d-1da9-4769-aa3c-ca954006fc73",
   "metadata": {},
   "outputs": [],
   "source": [
    "df_applied_corpus_linguistics_open_access_sampled = sample_articles(df, sampled_article_count, exclusion_article_list)"
   ]
  },
  {
   "cell_type": "code",
   "execution_count": 105,
   "id": "2b261376-2660-4372-971b-c3ed820a3075",
   "metadata": {},
   "outputs": [
    {
     "data": {
      "text/plain": [
       "(5, 12)"
      ]
     },
     "execution_count": 105,
     "metadata": {},
     "output_type": "execute_result"
    }
   ],
   "source": [
    "df_applied_corpus_linguistics_open_access_sampled.shape"
   ]
  },
  {
   "cell_type": "markdown",
   "id": "d31ec0f6-6f5a-4502-a9c3-40daa440c6d1",
   "metadata": {},
   "source": [
    "#### Sample articles"
   ]
  },
  {
   "cell_type": "code",
   "execution_count": 106,
   "id": "7e3ff665-bb5f-4377-ba0b-9ee510d6b977",
   "metadata": {},
   "outputs": [],
   "source": [
    "df_applied_corpus_linguistics_open_access_sampled = df_applied_corpus_linguistics_open_access"
   ]
  },
  {
   "cell_type": "markdown",
   "id": "d2d30cfb-e8e2-4a2e-aa15-7c9a532ca37c",
   "metadata": {},
   "source": [
    "### [Journal of English Linguistics](https://journals.sagepub.com/home/eng)"
   ]
  },
  {
   "cell_type": "markdown",
   "id": "794c5c3c-cdbe-4d56-b4ff-c9736ffd8394",
   "metadata": {},
   "source": [
    "#### Create output subdirectory"
   ]
  },
  {
   "cell_type": "code",
   "execution_count": 107,
   "id": "694430bf-f9b7-4816-aef2-95076f392183",
   "metadata": {},
   "outputs": [],
   "source": [
    "# 'Journal of English Linguistics'\n",
    "id = 'jenl'\n",
    "#path1 = os.path.join(output_directory, id)\n",
    "path2 = os.path.join(input_directory, id)\n",
    "#create_directory(path1)"
   ]
  },
  {
   "cell_type": "markdown",
   "id": "29faebef-90a2-4ff1-a484-a722e1c90cb3",
   "metadata": {},
   "source": [
    "#### Import the data into a DataFrame"
   ]
  },
  {
   "cell_type": "code",
   "execution_count": 108,
   "id": "d4adc78a-4aca-4b63-842e-4427180fe8f3",
   "metadata": {},
   "outputs": [],
   "source": [
    "df_journal_english_linguistics_open_access = pd.read_json(f\"{input_directory}/journal_english_linguistics_open_access.jsonl\", lines=True)"
   ]
  },
  {
   "cell_type": "code",
   "execution_count": 109,
   "id": "476b4a62-f899-4811-85c3-6b9941a43a88",
   "metadata": {},
   "outputs": [],
   "source": [
    "df_journal_english_linguistics_open_access['Published'] = pd.to_datetime(df_journal_english_linguistics_open_access['Published'], unit='ms')"
   ]
  },
  {
   "cell_type": "markdown",
   "id": "bb268f5f-810b-472b-a3ef-66d6e12f8fb2",
   "metadata": {},
   "source": [
    "#### Identify documents without `Abstract`"
   ]
  },
  {
   "cell_type": "markdown",
   "id": "092407eb-b680-4b6f-ba46-323511847867",
   "metadata": {},
   "source": [
    "The documents are not `Research Articles` and **should be excluded**."
   ]
  },
  {
   "cell_type": "code",
   "execution_count": 110,
   "id": "1524cdc6-ead0-41f8-999a-aab85ecd5b08",
   "metadata": {},
   "outputs": [
    {
     "name": "stdout",
     "output_type": "stream",
     "text": [
      "['jenl000015', 'jenl000016']\n"
     ]
    },
    {
     "data": {
      "text/plain": [
       "['https://journals.sagepub.com/doi/abs/10.1177/00754242221126692',\n",
       " 'https://journals.sagepub.com/doi/abs/10.1177/00754242221126533']"
      ]
     },
     "execution_count": 110,
     "metadata": {},
     "output_type": "execute_result"
    }
   ],
   "source": [
    "no_abstract = get_files_without_abstract(path2)\n",
    "print(no_abstract)\n",
    "\n",
    "no_abstract_urls = get_urls_from_ids(df_journal_english_linguistics_open_access, no_abstract)\n",
    "no_abstract_urls"
   ]
  },
  {
   "cell_type": "markdown",
   "id": "897e0d38-460b-4161-aaef-6b9d164256a3",
   "metadata": {},
   "source": [
    "#### Sample articles"
   ]
  },
  {
   "cell_type": "code",
   "execution_count": 111,
   "id": "152cfe38-b9df-418a-a955-b38e9ec4f700",
   "metadata": {},
   "outputs": [],
   "source": [
    "df = df_journal_english_linguistics_open_access\n",
    "sampled_article_count = 15\n",
    "exclusion_article_list = no_abstract"
   ]
  },
  {
   "cell_type": "code",
   "execution_count": 112,
   "id": "ad436083-ba58-4ad3-9c45-a691196443e8",
   "metadata": {},
   "outputs": [],
   "source": [
    "df_journal_english_linguistics_open_access_sampled = sample_articles(df, sampled_article_count, exclusion_article_list)"
   ]
  },
  {
   "cell_type": "code",
   "execution_count": 113,
   "id": "3165ae86-ccb6-498e-bb15-de26c6eefba5",
   "metadata": {},
   "outputs": [
    {
     "data": {
      "text/plain": [
       "(15, 12)"
      ]
     },
     "execution_count": 113,
     "metadata": {},
     "output_type": "execute_result"
    }
   ],
   "source": [
    "df_journal_english_linguistics_open_access_sampled.shape"
   ]
  },
  {
   "cell_type": "markdown",
   "id": "1740a757-0ed0-43b2-9908-3fabffd40f28",
   "metadata": {},
   "source": [
    "### [Corpora](https://www.euppublishing.com/journal/cor)"
   ]
  },
  {
   "cell_type": "markdown",
   "id": "4cbdc945-be14-4e72-8c40-0ef55fe7f95d",
   "metadata": {},
   "source": [
    "#### Create output subdirectory"
   ]
  },
  {
   "cell_type": "code",
   "execution_count": 114,
   "id": "c62c9186-2e9b-483a-b4a4-fcc7d4bfa128",
   "metadata": {},
   "outputs": [],
   "source": [
    "# 'Corpora'\n",
    "id = 'corp'\n",
    "#path1 = os.path.join(output_directory, id)\n",
    "path2 = os.path.join(input_directory, id)\n",
    "#create_directory(path1)"
   ]
  },
  {
   "cell_type": "markdown",
   "id": "50ab4ab4-f813-4ed5-8d89-451e3c929ca2",
   "metadata": {},
   "source": [
    "#### Import the data into a DataFrame"
   ]
  },
  {
   "cell_type": "code",
   "execution_count": 115,
   "id": "bb7394c4-f5fe-46c9-9272-e3e02f326261",
   "metadata": {},
   "outputs": [],
   "source": [
    "df_corpora_open_access = pd.read_json(f\"{input_directory}/corpora_open_access.jsonl\", lines=True)"
   ]
  },
  {
   "cell_type": "code",
   "execution_count": 116,
   "id": "8b3a7fa1-5dbc-4b89-96f6-d18d4eaac533",
   "metadata": {},
   "outputs": [],
   "source": [
    "df_corpora_open_access['Published'] = pd.to_datetime(df_corpora_open_access['Published'], unit='ms')"
   ]
  },
  {
   "cell_type": "markdown",
   "id": "22c66f3c-54ad-48a6-8c32-28506a0696fd",
   "metadata": {},
   "source": [
    "#### Identify documents without `Abstract`"
   ]
  },
  {
   "cell_type": "code",
   "execution_count": 117,
   "id": "f74c4a9a-b3c3-4ea4-99be-ae6a9203464d",
   "metadata": {},
   "outputs": [
    {
     "name": "stdout",
     "output_type": "stream",
     "text": [
      "[]\n"
     ]
    },
    {
     "data": {
      "text/plain": [
       "[]"
      ]
     },
     "execution_count": 117,
     "metadata": {},
     "output_type": "execute_result"
    }
   ],
   "source": [
    "no_abstract = get_files_without_abstract(path2)\n",
    "print(no_abstract)\n",
    "\n",
    "no_abstract_urls = get_urls_from_ids(df_corpora_open_access, no_abstract)\n",
    "no_abstract_urls"
   ]
  },
  {
   "cell_type": "markdown",
   "id": "50853265-d905-4d73-ac9b-1e1ca6c5c71e",
   "metadata": {},
   "source": [
    "#### Sample articles"
   ]
  },
  {
   "cell_type": "code",
   "execution_count": 118,
   "id": "4dc02f3c-a9a3-44f4-8467-49e9bb418a49",
   "metadata": {},
   "outputs": [],
   "source": [
    "df = df_corpora_open_access\n",
    "sampled_article_count = 9\n",
    "exclusion_article_list = []"
   ]
  },
  {
   "cell_type": "code",
   "execution_count": 119,
   "id": "7b157bae-4ace-4ab1-828a-9e802436cef2",
   "metadata": {},
   "outputs": [],
   "source": [
    "df_corpora_open_access_sampled = sample_articles(df, sampled_article_count, exclusion_article_list)"
   ]
  },
  {
   "cell_type": "code",
   "execution_count": 120,
   "id": "46784d71-1f68-4586-b6de-db9745cb6e3e",
   "metadata": {},
   "outputs": [
    {
     "data": {
      "text/plain": [
       "(9, 12)"
      ]
     },
     "execution_count": 120,
     "metadata": {},
     "output_type": "execute_result"
    }
   ],
   "source": [
    "df_corpora_open_access_sampled.shape"
   ]
  },
  {
   "cell_type": "markdown",
   "id": "e3505c96-0d6c-45c9-8fa1-44ee5d3faff4",
   "metadata": {},
   "source": [
    "## Concatenate the DataFrames"
   ]
  },
  {
   "cell_type": "code",
   "execution_count": 121,
   "id": "1cd66874-c9a3-488c-ad5f-d77bcba1e739",
   "metadata": {},
   "outputs": [],
   "source": [
    "df_qjpp = pd.concat([\n",
    "    df_nature_medicine_open_access_sampled,\n",
    "    df_ar_public_health_sampled,\n",
    "    df_lancet_public_health_open_access_sampled,\n",
    "    df_new_england_journal_of_medicine_open_access_sampled,\n",
    "    df_cell_open_access_sampled,\n",
    "    df_american_journal_human_biology_open_access_sampled,\n",
    "    df_ar_anthropology_sampled,\n",
    "    df_journal_human_evolution_open_access_sampled,\n",
    "    df_journal_applied_social_science_open_access_sampled,\n",
    "    df_journal_social_issues_open_access_sampled,\n",
    "    df_social_science_medicine_open_access_sampled,\n",
    "    df_applied_corpus_linguistics_open_access_sampled,\n",
    "    df_journal_english_linguistics_open_access_sampled,\n",
    "    df_corpora_open_access_sampled\n",
    "], ignore_index=True)"
   ]
  },
  {
   "cell_type": "code",
   "execution_count": 122,
   "id": "71411bcc-1083-43d5-8cf1-5cfb2e635905",
   "metadata": {},
   "outputs": [
    {
     "data": {
      "text/html": [
       "<div>\n",
       "<style scoped>\n",
       "    .dataframe tbody tr th:only-of-type {\n",
       "        vertical-align: middle;\n",
       "    }\n",
       "\n",
       "    .dataframe tbody tr th {\n",
       "        vertical-align: top;\n",
       "    }\n",
       "\n",
       "    .dataframe thead th {\n",
       "        text-align: right;\n",
       "    }\n",
       "</style>\n",
       "<table border=\"1\" class=\"dataframe\">\n",
       "  <thead>\n",
       "    <tr style=\"text-align: right;\">\n",
       "      <th></th>\n",
       "      <th>Title</th>\n",
       "      <th>URL</th>\n",
       "      <th>Authors</th>\n",
       "      <th>Published</th>\n",
       "      <th>PDF URL</th>\n",
       "      <th>Open Access</th>\n",
       "      <th>Discipline</th>\n",
       "      <th>Journal</th>\n",
       "      <th>ID</th>\n",
       "      <th>Vol/Issue</th>\n",
       "      <th>DOI</th>\n",
       "      <th>Article Type</th>\n",
       "      <th>Open Access 1</th>\n",
       "    </tr>\n",
       "  </thead>\n",
       "  <tbody>\n",
       "    <tr>\n",
       "      <th>0</th>\n",
       "      <td>Retrospectively modeling the effects of increa...</td>\n",
       "      <td>https://www.nature.com/articles/s41591-022-020...</td>\n",
       "      <td>Sam Moore, Edward M. Hill, Matt J. Keeling</td>\n",
       "      <td>2022-10-27</td>\n",
       "      <td>https://www.nature.com/articles/s41591-022-020...</td>\n",
       "      <td>Open Access</td>\n",
       "      <td>Health Sciences</td>\n",
       "      <td>Nature Medicine</td>\n",
       "      <td>natm000005</td>\n",
       "      <td>NaN</td>\n",
       "      <td>NaN</td>\n",
       "      <td>NaN</td>\n",
       "      <td>NaN</td>\n",
       "    </tr>\n",
       "    <tr>\n",
       "      <th>1</th>\n",
       "      <td>Effects of elevated systolic blood pressure on...</td>\n",
       "      <td>https://www.nature.com/articles/s41591-022-019...</td>\n",
       "      <td>Christian Razo, Catherine A. Welgan, Gregory A...</td>\n",
       "      <td>2022-10-10</td>\n",
       "      <td>https://www.nature.com/articles/s41591-022-019...</td>\n",
       "      <td>Open Access</td>\n",
       "      <td>Health Sciences</td>\n",
       "      <td>Nature Medicine</td>\n",
       "      <td>natm000015</td>\n",
       "      <td>NaN</td>\n",
       "      <td>NaN</td>\n",
       "      <td>NaN</td>\n",
       "      <td>NaN</td>\n",
       "    </tr>\n",
       "    <tr>\n",
       "      <th>2</th>\n",
       "      <td>Association of step counts over time with the ...</td>\n",
       "      <td>https://www.nature.com/articles/s41591-022-020...</td>\n",
       "      <td>Hiral Master, Jeffrey Annis, Evan L. Brittain</td>\n",
       "      <td>2022-10-10</td>\n",
       "      <td>https://www.nature.com/articles/s41591-022-020...</td>\n",
       "      <td>Open Access</td>\n",
       "      <td>Health Sciences</td>\n",
       "      <td>Nature Medicine</td>\n",
       "      <td>natm000016</td>\n",
       "      <td>NaN</td>\n",
       "      <td>NaN</td>\n",
       "      <td>NaN</td>\n",
       "      <td>NaN</td>\n",
       "    </tr>\n",
       "    <tr>\n",
       "      <th>3</th>\n",
       "      <td>A real-world comparison of tisagenlecleucel an...</td>\n",
       "      <td>https://www.nature.com/articles/s41591-022-019...</td>\n",
       "      <td>Emmanuel Bachy, Steven Le Gouill, Franck Morsc...</td>\n",
       "      <td>2022-09-22</td>\n",
       "      <td>https://www.nature.com/articles/s41591-022-019...</td>\n",
       "      <td>Open Access</td>\n",
       "      <td>Health Sciences</td>\n",
       "      <td>Nature Medicine</td>\n",
       "      <td>natm000020</td>\n",
       "      <td>NaN</td>\n",
       "      <td>NaN</td>\n",
       "      <td>NaN</td>\n",
       "      <td>NaN</td>\n",
       "    </tr>\n",
       "    <tr>\n",
       "      <th>4</th>\n",
       "      <td>Pilot study of responsive nucleus accumbens de...</td>\n",
       "      <td>https://www.nature.com/articles/s41591-022-019...</td>\n",
       "      <td>Rajat S. Shivacharan, Camarin E. Rolle, Casey ...</td>\n",
       "      <td>2022-08-29</td>\n",
       "      <td>https://www.nature.com/articles/s41591-022-019...</td>\n",
       "      <td>Open Access</td>\n",
       "      <td>Health Sciences</td>\n",
       "      <td>Nature Medicine</td>\n",
       "      <td>natm000030</td>\n",
       "      <td>NaN</td>\n",
       "      <td>NaN</td>\n",
       "      <td>NaN</td>\n",
       "      <td>NaN</td>\n",
       "    </tr>\n",
       "    <tr>\n",
       "      <th>...</th>\n",
       "      <td>...</td>\n",
       "      <td>...</td>\n",
       "      <td>...</td>\n",
       "      <td>...</td>\n",
       "      <td>...</td>\n",
       "      <td>...</td>\n",
       "      <td>...</td>\n",
       "      <td>...</td>\n",
       "      <td>...</td>\n",
       "      <td>...</td>\n",
       "      <td>...</td>\n",
       "      <td>...</td>\n",
       "      <td>...</td>\n",
       "    </tr>\n",
       "    <tr>\n",
       "      <th>295</th>\n",
       "      <td>The ordering of relative clauses and determine...</td>\n",
       "      <td>https://www.euppublishing.com/doi/full/10.3366...</td>\n",
       "      <td>Jiajin Xu and Zhaoxia Liu</td>\n",
       "      <td>2022-09-27</td>\n",
       "      <td>https://www.euppublishing.com/doi/pdf/10.3366/...</td>\n",
       "      <td>Free access</td>\n",
       "      <td>Linguistic, literature and arts</td>\n",
       "      <td>Corpora</td>\n",
       "      <td>corp000004</td>\n",
       "      <td>Volume 17, Issue Supplement</td>\n",
       "      <td>https://doi.org/10.3366/cor.2022.0246</td>\n",
       "      <td>Research article</td>\n",
       "      <td>NaN</td>\n",
       "    </tr>\n",
       "    <tr>\n",
       "      <th>296</th>\n",
       "      <td>Exploring the use of make + noun collocations ...</td>\n",
       "      <td>https://www.euppublishing.com/doi/full/10.3366...</td>\n",
       "      <td>Ryo Sawaguchi and Atsushi Mizumoto</td>\n",
       "      <td>2022-09-27</td>\n",
       "      <td>https://www.euppublishing.com/doi/pdf/10.3366/...</td>\n",
       "      <td>Free access</td>\n",
       "      <td>Linguistic, literature and arts</td>\n",
       "      <td>Corpora</td>\n",
       "      <td>corp000005</td>\n",
       "      <td>Volume 17, Issue Supplement</td>\n",
       "      <td>https://doi.org/10.3366/cor.2022.0247</td>\n",
       "      <td>Research article</td>\n",
       "      <td>NaN</td>\n",
       "    </tr>\n",
       "    <tr>\n",
       "      <th>297</th>\n",
       "      <td>Learner corpus research in Hong Kong: past, pr...</td>\n",
       "      <td>https://www.euppublishing.com/doi/full/10.3366...</td>\n",
       "      <td>Kanglong Liu, Joyce Oiwun Cheung, and Nan Zhao</td>\n",
       "      <td>2022-09-27</td>\n",
       "      <td>https://www.euppublishing.com/doi/pdf/10.3366/...</td>\n",
       "      <td>Free access</td>\n",
       "      <td>Linguistic, literature and arts</td>\n",
       "      <td>Corpora</td>\n",
       "      <td>corp000006</td>\n",
       "      <td>Volume 17, Issue Supplement</td>\n",
       "      <td>https://doi.org/10.3366/cor.2022.0248</td>\n",
       "      <td>Research article</td>\n",
       "      <td>NaN</td>\n",
       "    </tr>\n",
       "    <tr>\n",
       "      <th>298</th>\n",
       "      <td>A corpus-based study of native speakers’ and T...</td>\n",
       "      <td>https://www.euppublishing.com/doi/full/10.3366...</td>\n",
       "      <td>Yi-Ching Lin and Siaw-Fong Chung</td>\n",
       "      <td>2022-09-27</td>\n",
       "      <td>https://www.euppublishing.com/doi/pdf/10.3366/...</td>\n",
       "      <td>Free access</td>\n",
       "      <td>Linguistic, literature and arts</td>\n",
       "      <td>Corpora</td>\n",
       "      <td>corp000007</td>\n",
       "      <td>Volume 17, Issue Supplement</td>\n",
       "      <td>https://doi.org/10.3366/cor.2022.0249</td>\n",
       "      <td>Research article</td>\n",
       "      <td>NaN</td>\n",
       "    </tr>\n",
       "    <tr>\n",
       "      <th>299</th>\n",
       "      <td>Learner corpus research in New Zealand</td>\n",
       "      <td>https://www.euppublishing.com/doi/full/10.3366...</td>\n",
       "      <td>Anna Siyanova-Chanturia, Jean Parkinson, and T...</td>\n",
       "      <td>2022-09-27</td>\n",
       "      <td>https://www.euppublishing.com/doi/pdf/10.3366/...</td>\n",
       "      <td>Free access</td>\n",
       "      <td>Linguistic, literature and arts</td>\n",
       "      <td>Corpora</td>\n",
       "      <td>corp000008</td>\n",
       "      <td>Volume 17, Issue Supplement</td>\n",
       "      <td>https://doi.org/10.3366/cor.2022.0250</td>\n",
       "      <td>Research article</td>\n",
       "      <td>NaN</td>\n",
       "    </tr>\n",
       "  </tbody>\n",
       "</table>\n",
       "<p>300 rows × 13 columns</p>\n",
       "</div>"
      ],
      "text/plain": [
       "                                                 Title  \\\n",
       "0    Retrospectively modeling the effects of increa...   \n",
       "1    Effects of elevated systolic blood pressure on...   \n",
       "2    Association of step counts over time with the ...   \n",
       "3    A real-world comparison of tisagenlecleucel an...   \n",
       "4    Pilot study of responsive nucleus accumbens de...   \n",
       "..                                                 ...   \n",
       "295  The ordering of relative clauses and determine...   \n",
       "296  Exploring the use of make + noun collocations ...   \n",
       "297  Learner corpus research in Hong Kong: past, pr...   \n",
       "298  A corpus-based study of native speakers’ and T...   \n",
       "299             Learner corpus research in New Zealand   \n",
       "\n",
       "                                                   URL  \\\n",
       "0    https://www.nature.com/articles/s41591-022-020...   \n",
       "1    https://www.nature.com/articles/s41591-022-019...   \n",
       "2    https://www.nature.com/articles/s41591-022-020...   \n",
       "3    https://www.nature.com/articles/s41591-022-019...   \n",
       "4    https://www.nature.com/articles/s41591-022-019...   \n",
       "..                                                 ...   \n",
       "295  https://www.euppublishing.com/doi/full/10.3366...   \n",
       "296  https://www.euppublishing.com/doi/full/10.3366...   \n",
       "297  https://www.euppublishing.com/doi/full/10.3366...   \n",
       "298  https://www.euppublishing.com/doi/full/10.3366...   \n",
       "299  https://www.euppublishing.com/doi/full/10.3366...   \n",
       "\n",
       "                                               Authors  Published  \\\n",
       "0           Sam Moore, Edward M. Hill, Matt J. Keeling 2022-10-27   \n",
       "1    Christian Razo, Catherine A. Welgan, Gregory A... 2022-10-10   \n",
       "2        Hiral Master, Jeffrey Annis, Evan L. Brittain 2022-10-10   \n",
       "3    Emmanuel Bachy, Steven Le Gouill, Franck Morsc... 2022-09-22   \n",
       "4    Rajat S. Shivacharan, Camarin E. Rolle, Casey ... 2022-08-29   \n",
       "..                                                 ...        ...   \n",
       "295                          Jiajin Xu and Zhaoxia Liu 2022-09-27   \n",
       "296                 Ryo Sawaguchi and Atsushi Mizumoto 2022-09-27   \n",
       "297     Kanglong Liu, Joyce Oiwun Cheung, and Nan Zhao 2022-09-27   \n",
       "298                   Yi-Ching Lin and Siaw-Fong Chung 2022-09-27   \n",
       "299  Anna Siyanova-Chanturia, Jean Parkinson, and T... 2022-09-27   \n",
       "\n",
       "                                               PDF URL  Open Access  \\\n",
       "0    https://www.nature.com/articles/s41591-022-020...  Open Access   \n",
       "1    https://www.nature.com/articles/s41591-022-019...  Open Access   \n",
       "2    https://www.nature.com/articles/s41591-022-020...  Open Access   \n",
       "3    https://www.nature.com/articles/s41591-022-019...  Open Access   \n",
       "4    https://www.nature.com/articles/s41591-022-019...  Open Access   \n",
       "..                                                 ...          ...   \n",
       "295  https://www.euppublishing.com/doi/pdf/10.3366/...  Free access   \n",
       "296  https://www.euppublishing.com/doi/pdf/10.3366/...  Free access   \n",
       "297  https://www.euppublishing.com/doi/pdf/10.3366/...  Free access   \n",
       "298  https://www.euppublishing.com/doi/pdf/10.3366/...  Free access   \n",
       "299  https://www.euppublishing.com/doi/pdf/10.3366/...  Free access   \n",
       "\n",
       "                          Discipline          Journal          ID  \\\n",
       "0                    Health Sciences  Nature Medicine  natm000005   \n",
       "1                    Health Sciences  Nature Medicine  natm000015   \n",
       "2                    Health Sciences  Nature Medicine  natm000016   \n",
       "3                    Health Sciences  Nature Medicine  natm000020   \n",
       "4                    Health Sciences  Nature Medicine  natm000030   \n",
       "..                               ...              ...         ...   \n",
       "295  Linguistic, literature and arts          Corpora  corp000004   \n",
       "296  Linguistic, literature and arts          Corpora  corp000005   \n",
       "297  Linguistic, literature and arts          Corpora  corp000006   \n",
       "298  Linguistic, literature and arts          Corpora  corp000007   \n",
       "299  Linguistic, literature and arts          Corpora  corp000008   \n",
       "\n",
       "                       Vol/Issue                                    DOI  \\\n",
       "0                            NaN                                    NaN   \n",
       "1                            NaN                                    NaN   \n",
       "2                            NaN                                    NaN   \n",
       "3                            NaN                                    NaN   \n",
       "4                            NaN                                    NaN   \n",
       "..                           ...                                    ...   \n",
       "295  Volume 17, Issue Supplement  https://doi.org/10.3366/cor.2022.0246   \n",
       "296  Volume 17, Issue Supplement  https://doi.org/10.3366/cor.2022.0247   \n",
       "297  Volume 17, Issue Supplement  https://doi.org/10.3366/cor.2022.0248   \n",
       "298  Volume 17, Issue Supplement  https://doi.org/10.3366/cor.2022.0249   \n",
       "299  Volume 17, Issue Supplement  https://doi.org/10.3366/cor.2022.0250   \n",
       "\n",
       "         Article Type Open Access 1  \n",
       "0                 NaN           NaN  \n",
       "1                 NaN           NaN  \n",
       "2                 NaN           NaN  \n",
       "3                 NaN           NaN  \n",
       "4                 NaN           NaN  \n",
       "..                ...           ...  \n",
       "295  Research article           NaN  \n",
       "296  Research article           NaN  \n",
       "297  Research article           NaN  \n",
       "298  Research article           NaN  \n",
       "299  Research article           NaN  \n",
       "\n",
       "[300 rows x 13 columns]"
      ]
     },
     "execution_count": 122,
     "metadata": {},
     "output_type": "execute_result"
    }
   ],
   "source": [
    "df_qjpp"
   ]
  },
  {
   "cell_type": "markdown",
   "id": "de6c920c-4975-432f-81b2-badec69584ff",
   "metadata": {},
   "source": [
    "### Export to a file"
   ]
  },
  {
   "cell_type": "code",
   "execution_count": 123,
   "id": "232578dd-6d06-401a-b85f-0bdfb7687628",
   "metadata": {},
   "outputs": [],
   "source": [
    "df_qjpp.to_json(f\"{output_directory}/df_qjpp.jsonl\", orient='records', lines=True)"
   ]
  },
  {
   "cell_type": "code",
   "execution_count": 124,
   "id": "ae2029a9-0188-4f6e-93c6-a01aa0881301",
   "metadata": {},
   "outputs": [],
   "source": [
    "df_qjpp.to_excel(f\"{output_directory}/df_qjpp.xlsx\", index=False)"
   ]
  },
  {
   "cell_type": "code",
   "execution_count": null,
   "id": "647736f5-c8f8-43f2-bc8d-e1414f6a755c",
   "metadata": {},
   "outputs": [],
   "source": []
  }
 ],
 "metadata": {
  "kernelspec": {
   "display_name": "Python 3 (ipykernel)",
   "language": "python",
   "name": "python3"
  },
  "language_info": {
   "codemirror_mode": {
    "name": "ipython",
    "version": 3
   },
   "file_extension": ".py",
   "mimetype": "text/x-python",
   "name": "python",
   "nbconvert_exporter": "python",
   "pygments_lexer": "ipython3",
   "version": "3.12.9"
  }
 },
 "nbformat": 4,
 "nbformat_minor": 5
}
