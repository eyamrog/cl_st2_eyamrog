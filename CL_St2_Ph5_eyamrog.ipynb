{
 "cells": [
  {
   "cell_type": "markdown",
   "id": "810d9f10-ec19-4b09-8f90-e983e460b319",
   "metadata": {},
   "source": [
    "<center>\n",
    "<img src=\"https://laelgelcpublic.s3.sa-east-1.amazonaws.com/lael_50_years_narrow_white.png.no_years.400px_96dpi.png\" width=\"300\" alt=\"LAEL 50 years logo\">\n",
    "<h3>APPLIED LINGUISTICS GRADUATE PROGRAMME (LAEL)</h3>\n",
    "</center>\n",
    "<hr>"
   ]
  },
  {
   "cell_type": "markdown",
   "id": "888c2c96-2fc3-4a1a-995b-c388036a2a15",
   "metadata": {},
   "source": [
    "# Corpus Linguistics - Study 2 - Phase 5 - eyamrog"
   ]
  },
  {
   "cell_type": "markdown",
   "id": "c2b2a221-54af-4c1c-a7fd-c80cda278dcc",
   "metadata": {},
   "source": [
    "The aim of this phase is to compilate the `QJPP` corpus (Human-Authored Reference Corpus)."
   ]
  },
  {
   "cell_type": "markdown",
   "id": "a685d8b0-7715-45a6-9489-2d3db9b346c8",
   "metadata": {},
   "source": [
    "## Required Python packages"
   ]
  },
  {
   "cell_type": "markdown",
   "id": "b526a82b-22a6-4d28-afa2-eb6e7bcca4fb",
   "metadata": {},
   "source": [
    "- pandas\n",
    "- nltk"
   ]
  },
  {
   "cell_type": "markdown",
   "id": "aa922755-c4d6-4008-9aad-d35e33b18ed7",
   "metadata": {},
   "source": [
    "## Import the required libraries"
   ]
  },
  {
   "cell_type": "code",
   "execution_count": 1,
   "id": "182dbbab-65ee-4695-a418-3e9d9d8599e8",
   "metadata": {},
   "outputs": [],
   "source": [
    "import pandas as pd\n",
    "import os\n",
    "import sys\n",
    "import nltk\n",
    "from nltk.tokenize import word_tokenize\n",
    "import matplotlib.pyplot as plt\n",
    "import random"
   ]
  },
  {
   "cell_type": "markdown",
   "id": "ef3ad412-2346-43d3-8607-08705487f1b2",
   "metadata": {},
   "source": [
    "## Define input variables"
   ]
  },
  {
   "cell_type": "code",
   "execution_count": 2,
   "id": "a7657874-dc0a-4a7b-ae4b-bb3ca3fd7fa0",
   "metadata": {},
   "outputs": [],
   "source": [
    "input_directory = 'cl_st2_ph4_eyamrog'\n",
    "output_directory = 'cl_st2_ph5_eyamrog'\n",
    "files_directory = 'cl_st2_ph2_eyamrog'"
   ]
  },
  {
   "cell_type": "markdown",
   "id": "d32b4a24-8a37-4302-9c3e-790aa6dee914",
   "metadata": {},
   "source": [
    "## Create output directory"
   ]
  },
  {
   "cell_type": "code",
   "execution_count": 3,
   "id": "5dce68e3-44e7-4a7e-bc25-73c21ca6fbcb",
   "metadata": {},
   "outputs": [
    {
     "name": "stdout",
     "output_type": "stream",
     "text": [
      "Output directory already exists.\n"
     ]
    }
   ],
   "source": [
    "# Check if the output directory already exists. If it does, do nothing. If it doesn't exist, create it.\n",
    "if os.path.exists(output_directory):\n",
    "    print('Output directory already exists.')\n",
    "else:\n",
    "    try:\n",
    "        os.makedirs(output_directory)\n",
    "        print('Output directory successfully created.')\n",
    "    except OSError as e:\n",
    "        print('Failed to create the directory:', e)\n",
    "        sys.exit(1)"
   ]
  },
  {
   "cell_type": "markdown",
   "id": "74e32a21-1ea8-4563-aa6f-ee00cceeb3f6",
   "metadata": {},
   "source": [
    "### Create output subdirectories"
   ]
  },
  {
   "cell_type": "code",
   "execution_count": 4,
   "id": "02ec67dc-d7bd-4dc3-85e3-611c633ef03b",
   "metadata": {},
   "outputs": [],
   "source": [
    "def create_directory(path):\n",
    "    \"\"\"Creates a subdirectory if it doesn't exist.\"\"\"\n",
    "    if not os.path.exists(path):\n",
    "        try:\n",
    "            os.makedirs(path)\n",
    "            print(f\"Successfully created the directory: {path}\")\n",
    "        except OSError as e:\n",
    "            print(f\"Failed to create the {path} directory: {e}\")\n",
    "            sys.exit(1)\n",
    "    else:\n",
    "        print(f\"Directory already exists: {path}\")"
   ]
  },
  {
   "cell_type": "markdown",
   "id": "4453fc7d-7f56-4fa4-91eb-b88c984c9e22",
   "metadata": {},
   "source": [
    "## Import the data into a DataFrame"
   ]
  },
  {
   "cell_type": "code",
   "execution_count": 5,
   "id": "c4dbbde8-9882-42c2-af84-1c606c64c81c",
   "metadata": {},
   "outputs": [],
   "source": [
    "df_qjpp = pd.read_json(f\"{input_directory}/df_qjpp.jsonl\", lines=True)"
   ]
  },
  {
   "cell_type": "code",
   "execution_count": 6,
   "id": "c6a9af8e-11a4-4e1e-b4d1-937c2ddb6f33",
   "metadata": {},
   "outputs": [],
   "source": [
    "df_qjpp['Published'] = pd.to_datetime(df_qjpp['Published'], unit='ms')"
   ]
  },
  {
   "cell_type": "markdown",
   "id": "65a1f4df-637d-42b5-80fa-626371520bc1",
   "metadata": {},
   "source": [
    "## Data Wrangling"
   ]
  },
  {
   "cell_type": "markdown",
   "id": "f565e2e3-7328-4a79-9c8b-c33bc59452bb",
   "metadata": {},
   "source": [
    "### Drop unused columns"
   ]
  },
  {
   "cell_type": "code",
   "execution_count": 7,
   "id": "bd01255b-038d-429e-b178-370f50a65fcd",
   "metadata": {},
   "outputs": [],
   "source": [
    "df_qjpp = df_qjpp.drop(columns=['Open Access', 'Open Access 1', 'Article Type'])"
   ]
  },
  {
   "cell_type": "markdown",
   "id": "111f6069-1828-4e6c-a99a-7dc6762b7092",
   "metadata": {},
   "source": [
    "### Reorder the columns"
   ]
  },
  {
   "cell_type": "code",
   "execution_count": 8,
   "id": "4040d91e-1975-4f7b-a727-2e123cf36471",
   "metadata": {},
   "outputs": [
    {
     "data": {
      "text/plain": [
       "['Title',\n",
       " 'URL',\n",
       " 'Authors',\n",
       " 'Published',\n",
       " 'PDF URL',\n",
       " 'Discipline',\n",
       " 'Journal',\n",
       " 'ID',\n",
       " 'Vol/Issue',\n",
       " 'DOI']"
      ]
     },
     "execution_count": 8,
     "metadata": {},
     "output_type": "execute_result"
    }
   ],
   "source": [
    "df_qjpp.columns.tolist()"
   ]
  },
  {
   "cell_type": "code",
   "execution_count": 9,
   "id": "1e1f4c75-97be-4c6b-a542-6d75247484fb",
   "metadata": {},
   "outputs": [],
   "source": [
    "reordered_columns = [\n",
    "    'Journal',\n",
    "    'Title',\n",
    "    'Authors',\n",
    "    'Published',\n",
    "    'Vol/Issue',\n",
    "    'URL',\n",
    "    'DOI',\n",
    "    'PDF URL',\n",
    "    'Discipline',\n",
    "    'ID'\n",
    "]"
   ]
  },
  {
   "cell_type": "code",
   "execution_count": 10,
   "id": "6b947d61-6dd3-449b-825f-58fc6a780993",
   "metadata": {},
   "outputs": [],
   "source": [
    "df_qjpp = df_qjpp[reordered_columns + [col for col in df_qjpp.columns if col not in reordered_columns]]"
   ]
  },
  {
   "cell_type": "markdown",
   "id": "629f7f36-1e34-439e-85a4-4006f5fcc74a",
   "metadata": {},
   "source": [
    "### Handling missing values"
   ]
  },
  {
   "cell_type": "code",
   "execution_count": 11,
   "id": "aef6aa63-9fcc-49b5-9243-6f07838efab3",
   "metadata": {},
   "outputs": [
    {
     "data": {
      "text/plain": [
       "Journal        0\n",
       "Title          0\n",
       "Authors        0\n",
       "Published      0\n",
       "Vol/Issue     22\n",
       "URL            0\n",
       "DOI           89\n",
       "PDF URL       51\n",
       "Discipline     0\n",
       "ID             0\n",
       "dtype: int64"
      ]
     },
     "execution_count": 11,
     "metadata": {},
     "output_type": "execute_result"
    }
   ],
   "source": [
    "df_qjpp.isna().sum()"
   ]
  },
  {
   "cell_type": "code",
   "execution_count": 12,
   "id": "bba16e4f-12e4-4a55-9133-0d1dad3b9345",
   "metadata": {},
   "outputs": [],
   "source": [
    "df_qjpp[['Vol/Issue', 'DOI', 'PDF URL']] = df_qjpp[['Vol/Issue', 'DOI', 'PDF URL']].fillna('Not defined')"
   ]
  },
  {
   "cell_type": "code",
   "execution_count": 13,
   "id": "0ae30272-4693-414e-88ca-86072519fb2d",
   "metadata": {},
   "outputs": [
    {
     "data": {
      "text/plain": [
       "0"
      ]
     },
     "execution_count": 13,
     "metadata": {},
     "output_type": "execute_result"
    }
   ],
   "source": [
    "df_qjpp.isna().sum().sum()"
   ]
  },
  {
   "cell_type": "markdown",
   "id": "949d7d95-d8c5-47ee-9e1b-1aada9b185fb",
   "metadata": {},
   "source": [
    "### Adding the `Text ID` column"
   ]
  },
  {
   "cell_type": "code",
   "execution_count": 14,
   "id": "f53d6362-25dc-414d-ba53-8cf1e6b94b7c",
   "metadata": {},
   "outputs": [],
   "source": [
    "prefix = 't'"
   ]
  },
  {
   "cell_type": "code",
   "execution_count": 15,
   "id": "c03be6d4-bc3a-414b-973a-5f096cd8f4bc",
   "metadata": {},
   "outputs": [],
   "source": [
    "df_qjpp['Text ID'] = prefix + df_qjpp.index.astype(str).str.zfill(6)"
   ]
  },
  {
   "cell_type": "markdown",
   "id": "451ce863-a480-4592-8435-751433638dd9",
   "metadata": {},
   "source": [
    "### Export into a file"
   ]
  },
  {
   "cell_type": "code",
   "execution_count": 16,
   "id": "b7d7f4d9-0c18-4b23-9977-901db5779a42",
   "metadata": {},
   "outputs": [],
   "source": [
    "df_qjpp.to_json(f\"{output_directory}/df_qjpp.jsonl\", orient='records', lines=True)"
   ]
  },
  {
   "cell_type": "code",
   "execution_count": 17,
   "id": "4539b304-5e17-4a22-862c-d801d87da95a",
   "metadata": {},
   "outputs": [],
   "source": [
    "df_qjpp.to_excel(f\"{output_directory}/df_qjpp.xlsx\", index=False)"
   ]
  },
  {
   "cell_type": "markdown",
   "id": "6af1ffe2-d4e4-405b-aa43-4ace1cdb4ce9",
   "metadata": {},
   "source": [
    "### Fetching the text files"
   ]
  },
  {
   "cell_type": "markdown",
   "id": "c7fcb16d-12f9-4469-a760-8d6b0f33db40",
   "metadata": {},
   "source": [
    "#### Import the data into a DataFrame"
   ]
  },
  {
   "cell_type": "code",
   "execution_count": 18,
   "id": "358ff39a-5342-47dc-9db6-1af606c51b69",
   "metadata": {},
   "outputs": [],
   "source": [
    "df_qjpp = pd.read_json(f\"{output_directory}/df_qjpp.jsonl\", lines=True)"
   ]
  },
  {
   "cell_type": "code",
   "execution_count": 19,
   "id": "3aecad46-fe9c-44fa-85b6-f38db044ce92",
   "metadata": {},
   "outputs": [],
   "source": [
    "df_qjpp['Published'] = pd.to_datetime(df_qjpp['Published'], unit='ms')"
   ]
  },
  {
   "cell_type": "markdown",
   "id": "c4456e3c-1f8b-4364-9cca-f609ec9da1d0",
   "metadata": {},
   "source": [
    "#### Fetching the files"
   ]
  },
  {
   "cell_type": "code",
   "execution_count": 20,
   "id": "9e11e519-759b-4cfe-b1dd-f2e3897838fc",
   "metadata": {},
   "outputs": [],
   "source": [
    "for _, row in df_qjpp.iterrows():\n",
    "    file_id = row['ID']\n",
    "    text_id = row['Text ID']\n",
    "    prefix = file_id[:4]\n",
    "\n",
    "    src_path = os.path.join(files_directory, prefix, f\"{file_id}.txt\")\n",
    "    dst_path = os.path.join(output_directory, f\"{text_id}.txt\")\n",
    "\n",
    "    try:\n",
    "        with open(src_path, 'r', encoding='utf-8') as infile:\n",
    "            content = infile.read()\n",
    "\n",
    "        os.makedirs(output_directory, exist_ok=True)\n",
    "\n",
    "        with open(dst_path, 'w', encoding='utf-8', newline='\\n') as outfile:\n",
    "            outfile.write(content)\n",
    "\n",
    "        #print(f\"Copied to: {dst_path}\")\n",
    "\n",
    "    except FileNotFoundError:\n",
    "        print(f\"Missing source file: {src_path}\")\n",
    "    except Exception as e:\n",
    "        print(f\"Error processing {file_id}: {e}\")"
   ]
  },
  {
   "cell_type": "markdown",
   "id": "19657d33-b508-488a-9612-6eb0cacae4e0",
   "metadata": {},
   "source": [
    "### Manual inspection and clean up"
   ]
  },
  {
   "cell_type": "code",
   "execution_count": null,
   "id": "80c82bd5-3287-4dec-8d00-37bf40f11ddf",
   "metadata": {},
   "outputs": [],
   "source": []
  }
 ],
 "metadata": {
  "kernelspec": {
   "display_name": "Python 3 (ipykernel)",
   "language": "python",
   "name": "python3"
  },
  "language_info": {
   "codemirror_mode": {
    "name": "ipython",
    "version": 3
   },
   "file_extension": ".py",
   "mimetype": "text/x-python",
   "name": "python",
   "nbconvert_exporter": "python",
   "pygments_lexer": "ipython3",
   "version": "3.12.9"
  }
 },
 "nbformat": 4,
 "nbformat_minor": 5
}
