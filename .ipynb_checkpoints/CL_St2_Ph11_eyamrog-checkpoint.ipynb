{
 "cells": [
  {
   "cell_type": "markdown",
   "id": "810d9f10-ec19-4b09-8f90-e983e460b319",
   "metadata": {
    "jp-MarkdownHeadingCollapsed": true
   },
   "source": [
    "<center>\n",
    "<img src=\"https://laelgelcpublic.s3.sa-east-1.amazonaws.com/lael_50_years_narrow_white.png.no_years.400px_96dpi.png\" width=\"300\" alt=\"LAEL 50 years logo\">\n",
    "<h3>APPLIED LINGUISTICS GRADUATE PROGRAMME (LAEL)</h3>\n",
    "</center>\n",
    "<hr>"
   ]
  },
  {
   "cell_type": "markdown",
   "id": "888c2c96-2fc3-4a1a-995b-c388036a2a15",
   "metadata": {},
   "source": [
    "# Corpus Linguistics - Study 2 - Phase 1_1 - eyamrog"
   ]
  },
  {
   "cell_type": "markdown",
   "id": "c2b2a221-54af-4c1c-a7fd-c80cda278dcc",
   "metadata": {},
   "source": [
    "The aim of this phase is to check."
   ]
  },
  {
   "cell_type": "markdown",
   "id": "a685d8b0-7715-45a6-9489-2d3db9b346c8",
   "metadata": {},
   "source": [
    "## Required Python packages"
   ]
  },
  {
   "cell_type": "markdown",
   "id": "b526a82b-22a6-4d28-afa2-eb6e7bcca4fb",
   "metadata": {},
   "source": [
    "- beautifulsoup4\n",
    "- lxml\n",
    "- pandas\n",
    "- requests\n",
    "- selenium\n",
    "- tqdm"
   ]
  },
  {
   "cell_type": "markdown",
   "id": "aa922755-c4d6-4008-9aad-d35e33b18ed7",
   "metadata": {},
   "source": [
    "## Importing the required libraries"
   ]
  },
  {
   "cell_type": "code",
   "execution_count": 1,
   "id": "182dbbab-65ee-4695-a418-3e9d9d8599e8",
   "metadata": {},
   "outputs": [],
   "source": [
    "import requests\n",
    "from bs4 import BeautifulSoup\n",
    "import re\n",
    "import pandas as pd\n",
    "import os\n",
    "import sys\n",
    "from tqdm import tqdm\n",
    "from selenium import webdriver\n",
    "from selenium.webdriver.edge.service import Service\n",
    "from selenium.webdriver.common.by import By\n",
    "from selenium.webdriver.support.ui import WebDriverWait\n",
    "from selenium.webdriver.support import expected_conditions as EC"
   ]
  },
  {
   "cell_type": "markdown",
   "id": "ef3ad412-2346-43d3-8607-08705487f1b2",
   "metadata": {},
   "source": [
    "## Defining input variables"
   ]
  },
  {
   "cell_type": "code",
   "execution_count": 2,
   "id": "a7657874-dc0a-4a7b-ae4b-bb3ca3fd7fa0",
   "metadata": {},
   "outputs": [],
   "source": [
    "input_directory = 'cl_st2_ph1_eyamrog'\n",
    "output_directory = 'cl_st2_ph11_eyamrog'"
   ]
  },
  {
   "cell_type": "markdown",
   "id": "d32b4a24-8a37-4302-9c3e-790aa6dee914",
   "metadata": {},
   "source": [
    "## Creating output directory"
   ]
  },
  {
   "cell_type": "code",
   "execution_count": 3,
   "id": "5dce68e3-44e7-4a7e-bc25-73c21ca6fbcb",
   "metadata": {},
   "outputs": [
    {
     "name": "stdout",
     "output_type": "stream",
     "text": [
      "Output directory successfully created.\n"
     ]
    }
   ],
   "source": [
    "# Check if the output directory already exists. If it does, do nothing. If it doesn't exist, create it.\n",
    "if os.path.exists(output_directory):\n",
    "    print('Output directory already exists.')\n",
    "else:\n",
    "    try:\n",
    "        os.makedirs(output_directory)\n",
    "        print('Output directory successfully created.')\n",
    "    except OSError as e:\n",
    "        print('Failed to create the directory:', e)\n",
    "        sys.exit(1)"
   ]
  },
  {
   "cell_type": "markdown",
   "id": "6b8c5274-7933-44ef-a148-d1aece85cf52",
   "metadata": {},
   "source": [
    "## Web Scraping [Annual Review of Plant Biology](https://www.annualreviews.org/content/journals/arplant)"
   ]
  },
  {
   "cell_type": "markdown",
   "id": "572549d6-3221-4fb7-916b-b3e78c2851f4",
   "metadata": {},
   "source": [
    "### Importing the data into a DataFrame"
   ]
  },
  {
   "cell_type": "code",
   "execution_count": 4,
   "id": "bb7c9f4b-6de3-48ae-a018-646361dbb8a2",
   "metadata": {},
   "outputs": [],
   "source": [
    "df_ar_plant_biology = pd.read_json(f\"{input_directory}/ar_plant_biology.jsonl\", lines=True)"
   ]
  },
  {
   "cell_type": "code",
   "execution_count": 5,
   "id": "9fe7040b-c321-48f8-b9c3-7cd5d0494f65",
   "metadata": {},
   "outputs": [
    {
     "data": {
      "text/plain": [
       "Index(['Title', 'URL', 'Authors', 'Vol/Year/Page Range', 'DOI',\n",
       "       'Area of Knowledge'],\n",
       "      dtype='object')"
      ]
     },
     "execution_count": 5,
     "metadata": {},
     "output_type": "execute_result"
    }
   ],
   "source": [
    "df_ar_plant_biology.columns"
   ]
  },
  {
   "cell_type": "code",
   "execution_count": 6,
   "id": "56691dbb-853d-4920-b6dd-52b154f60278",
   "metadata": {},
   "outputs": [
    {
     "data": {
      "text/plain": [
       "array(['Vol. 73 \\n(2022),pp.1–16', 'Vol. 73 \\n(2022),pp.17–42',\n",
       "       'Vol. 73 \\n(2022),pp.43–65', 'Vol. 73 \\n(2022),pp.67–92',\n",
       "       'Vol. 73 \\n(2022),pp.93–121', 'Vol. 73 \\n(2022),pp.123–148',\n",
       "       'Vol. 73 \\n(2022),pp.149–172', 'Vol. 73 \\n(2022),pp.173–200',\n",
       "       'Vol. 73 \\n(2022),pp.201–225', 'Vol. 73 \\n(2022),pp.227–254',\n",
       "       'Vol. 73 \\n(2022),pp.255–291', 'Vol. 73 \\n(2022),pp.293–321',\n",
       "       'Vol. 73 \\n(2022),pp.323–353', 'Vol. 73 \\n(2022),pp.355–378',\n",
       "       'Vol. 73 \\n(2022),pp.379–403', 'Vol. 73 \\n(2022),pp.405–432',\n",
       "       'Vol. 73 \\n(2022),pp.433–455', 'Vol. 73 \\n(2022),pp.457–474',\n",
       "       'Vol. 73 \\n(2022),pp.475–494', 'Vol. 73 \\n(2022),pp.495–521',\n",
       "       'Vol. 73 \\n(2022),pp.523–551', 'Vol. 73 \\n(2022),pp.553–584',\n",
       "       'Vol. 73 \\n(2022),pp.585–616', 'Vol. 73 \\n(2022),pp.617–648',\n",
       "       'Vol. 73 \\n(2022),pp.649–672', 'Vol. 73 \\n(2022),pp.673–702',\n",
       "       'Vol. 73 \\n(2022),pp.703–728', 'Vol. 72 \\n(2021),pp.1–16',\n",
       "       'Vol. 72 \\n(2021),pp.17–46', 'Vol. 72 \\n(2021),pp.47–76',\n",
       "       'Vol. 72 \\n(2021),pp.77–103', 'Vol. 72 \\n(2021),pp.105–131',\n",
       "       'Vol. 72 \\n(2021),pp.133–153', 'Vol. 72 \\n(2021),pp.155–184',\n",
       "       'Vol. 72 \\n(2021),pp.185–216', 'Vol. 72 \\n(2021),pp.217–244',\n",
       "       'Vol. 72 \\n(2021),pp.245–271', 'Vol. 72 \\n(2021),pp.273–296',\n",
       "       'Vol. 72 \\n(2021),pp.297–323', 'Vol. 72 \\n(2021),pp.325–356',\n",
       "       'Vol. 72 \\n(2021),pp.357–385', 'Vol. 72 \\n(2021),pp.387–410',\n",
       "       'Vol. 72 \\n(2021),pp.411–435', 'Vol. 72 \\n(2021),pp.437–462',\n",
       "       'Vol. 72 \\n(2021),pp.463–495', 'Vol. 72 \\n(2021),pp.497–524',\n",
       "       'Vol. 72 \\n(2021),pp.525–550', 'Vol. 72 \\n(2021),pp.551–580',\n",
       "       'Vol. 72 \\n(2021),pp.581–614', 'Vol. 72 \\n(2021),pp.615–639',\n",
       "       'Vol. 72 \\n(2021),pp.641–676', 'Vol. 72 \\n(2021),pp.677–702',\n",
       "       'Vol. 72 \\n(2021),pp.703–736', 'Vol. 72 \\n(2021),pp.737–760',\n",
       "       'Vol. 72 \\n(2021),pp.761–791', 'Vol. 72 \\n(2021),pp.793–822',\n",
       "       'Vol. 72 \\n(2021),pp.823–846', 'Vol. 72 \\n(2021),pp.847–866',\n",
       "       'Vol. 72 \\n(2021),pp.867–891', 'Vol. 71 \\n(2020),pp.1–38',\n",
       "       'Vol. 71 \\n(2020),pp.39–69', 'Vol. 71 \\n(2020),pp.71–102',\n",
       "       'Vol. 71 \\n(2020),pp.103–129', 'Vol. 71 \\n(2020),pp.131–156',\n",
       "       'Vol. 71 \\n(2020),pp.157–182', 'Vol. 71 \\n(2020),pp.183–215',\n",
       "       'Vol. 71 \\n(2020),pp.217–245', 'Vol. 71 \\n(2020),pp.247–272',\n",
       "       'Vol. 71 \\n(2020),pp.273–302', 'Vol. 71 \\n(2020),pp.303–326',\n",
       "       'Vol. 71 \\n(2020),pp.327–353', 'Vol. 71 \\n(2020),pp.355–378',\n",
       "       'Vol. 71 \\n(2020),pp.379–402', 'Vol. 71 \\n(2020),pp.403–433',\n",
       "       'Vol. 71 \\n(2020),pp.435–460', 'Vol. 71 \\n(2020),pp.461–485',\n",
       "       'Vol. 71 \\n(2020),pp.487–515', 'Vol. 71 \\n(2020),pp.517–546',\n",
       "       'Vol. 71 \\n(2020),pp.547–573', 'Vol. 71 \\n(2020),pp.575–603',\n",
       "       'Vol. 71 \\n(2020),pp.605–629', 'Vol. 71 \\n(2020),pp.631–658',\n",
       "       'Vol. 71 \\n(2020),pp.659–687', 'Vol. 71 \\n(2020),pp.689–712',\n",
       "       'Vol. 71 \\n(2020),pp.713–739', 'Vol. 71 \\n(2020),pp.741–765',\n",
       "       'Vol. 71 \\n(2020),pp.767–788', 'Vol. 71 \\n(2020),pp.789–816'],\n",
       "      dtype=object)"
      ]
     },
     "execution_count": 6,
     "metadata": {},
     "output_type": "execute_result"
    }
   ],
   "source": [
    "df_ar_plant_biology['Vol/Year/Page Range'].unique()"
   ]
  },
  {
   "cell_type": "markdown",
   "id": "6b7867ee-091b-4556-adab-1a28fa94edf8",
   "metadata": {},
   "source": [
    "### Extracting the `Posted` dates from the column `Vol/Year/Page Range`"
   ]
  },
  {
   "cell_type": "code",
   "execution_count": 7,
   "id": "20fb8cda-a59d-4110-94f8-69cc8db0943a",
   "metadata": {},
   "outputs": [],
   "source": [
    "# Extract year using RegEx\n",
    "df_ar_plant_biology['Posted'] = df_ar_plant_biology['Vol/Year/Page Range'].str.extract(r'^Vol. .+ \\n\\((\\d{4})\\).+')"
   ]
  },
  {
   "cell_type": "code",
   "execution_count": 8,
   "id": "f5d59024-5240-42a8-a3e2-5b741d78d505",
   "metadata": {},
   "outputs": [],
   "source": [
    "df_ar_plant_biology['Posted'] = pd.to_datetime(df_ar_plant_biology['Posted'])"
   ]
  },
  {
   "cell_type": "code",
   "execution_count": 9,
   "id": "d2414715-7e2d-42d5-b920-3ece81771bd3",
   "metadata": {},
   "outputs": [
    {
     "data": {
      "text/plain": [
       "Title                          object\n",
       "URL                            object\n",
       "Authors                        object\n",
       "Vol/Year/Page Range            object\n",
       "DOI                            object\n",
       "Area of Knowledge              object\n",
       "Posted                 datetime64[ns]\n",
       "dtype: object"
      ]
     },
     "execution_count": 9,
     "metadata": {},
     "output_type": "execute_result"
    }
   ],
   "source": [
    "df_ar_plant_biology.dtypes"
   ]
  },
  {
   "cell_type": "code",
   "execution_count": 10,
   "id": "c324b187-92fa-4101-bdd9-b99170fb75b5",
   "metadata": {},
   "outputs": [
    {
     "data": {
      "text/html": [
       "<div>\n",
       "<style scoped>\n",
       "    .dataframe tbody tr th:only-of-type {\n",
       "        vertical-align: middle;\n",
       "    }\n",
       "\n",
       "    .dataframe tbody tr th {\n",
       "        vertical-align: top;\n",
       "    }\n",
       "\n",
       "    .dataframe thead th {\n",
       "        text-align: right;\n",
       "    }\n",
       "</style>\n",
       "<table border=\"1\" class=\"dataframe\">\n",
       "  <thead>\n",
       "    <tr style=\"text-align: right;\">\n",
       "      <th></th>\n",
       "      <th>Title</th>\n",
       "      <th>URL</th>\n",
       "      <th>Authors</th>\n",
       "      <th>Vol/Year/Page Range</th>\n",
       "      <th>DOI</th>\n",
       "      <th>Area of Knowledge</th>\n",
       "      <th>Posted</th>\n",
       "    </tr>\n",
       "  </thead>\n",
       "  <tbody>\n",
       "    <tr>\n",
       "      <th>0</th>\n",
       "      <td>Adventures in Life and Science, from Light to ...</td>\n",
       "      <td>https://www.annualreviews.org/content/journals...</td>\n",
       "      <td>Elaine Tobin</td>\n",
       "      <td>Vol. 73 \\n(2022),pp.1–16</td>\n",
       "      <td>https://doi.org/10.1146/annurev-arplant-090921...</td>\n",
       "      <td>Agricultural Sciences</td>\n",
       "      <td>2022-01-01</td>\n",
       "    </tr>\n",
       "    <tr>\n",
       "      <th>1</th>\n",
       "      <td>Phosphorus Acquisition and Utilization in Plants</td>\n",
       "      <td>https://www.annualreviews.org/content/journals...</td>\n",
       "      <td>Hans Lambers</td>\n",
       "      <td>Vol. 73 \\n(2022),pp.17–42</td>\n",
       "      <td>https://doi.org/10.1146/annurev-arplant-102720...</td>\n",
       "      <td>Agricultural Sciences</td>\n",
       "      <td>2022-01-01</td>\n",
       "    </tr>\n",
       "    <tr>\n",
       "      <th>2</th>\n",
       "      <td>Meeting in the Middle: Lessons and Opportuniti...</td>\n",
       "      <td>https://www.annualreviews.org/content/journals...</td>\n",
       "      <td>Mae Antonette Mercado, , andAnthony J. Studer</td>\n",
       "      <td>Vol. 73 \\n(2022),pp.43–65</td>\n",
       "      <td>https://doi.org/10.1146/annurev-arplant-102720...</td>\n",
       "      <td>Agricultural Sciences</td>\n",
       "      <td>2022-01-01</td>\n",
       "    </tr>\n",
       "    <tr>\n",
       "      <th>3</th>\n",
       "      <td>Plant Proteome Dynamics</td>\n",
       "      <td>https://www.annualreviews.org/content/journals...</td>\n",
       "      <td>Julia Mergner, , andBernhard Kuster</td>\n",
       "      <td>Vol. 73 \\n(2022),pp.67–92</td>\n",
       "      <td>https://doi.org/10.1146/annurev-arplant-102620...</td>\n",
       "      <td>Agricultural Sciences</td>\n",
       "      <td>2022-01-01</td>\n",
       "    </tr>\n",
       "    <tr>\n",
       "      <th>4</th>\n",
       "      <td>Evolution and Functions of Plant U-Box Protein...</td>\n",
       "      <td>https://www.annualreviews.org/content/journals...</td>\n",
       "      <td>Jana Trenner, ,Jacqueline Monaghan, ,Bushra Sa...</td>\n",
       "      <td>Vol. 73 \\n(2022),pp.93–121</td>\n",
       "      <td>https://doi.org/10.1146/annurev-arplant-102720...</td>\n",
       "      <td>Agricultural Sciences</td>\n",
       "      <td>2022-01-01</td>\n",
       "    </tr>\n",
       "    <tr>\n",
       "      <th>...</th>\n",
       "      <td>...</td>\n",
       "      <td>...</td>\n",
       "      <td>...</td>\n",
       "      <td>...</td>\n",
       "      <td>...</td>\n",
       "      <td>...</td>\n",
       "      <td>...</td>\n",
       "    </tr>\n",
       "    <tr>\n",
       "      <th>83</th>\n",
       "      <td>Phenotyping: New Windows into the Plant for Br...</td>\n",
       "      <td>https://www.annualreviews.org/content/journals...</td>\n",
       "      <td>Michelle Watt, ,Fabio Fiorani, ,Björn Usadel, ...</td>\n",
       "      <td>Vol. 71 \\n(2020),pp.689–712</td>\n",
       "      <td>https://doi.org/10.1146/annurev-arplant-042916...</td>\n",
       "      <td>Agricultural Sciences</td>\n",
       "      <td>2020-01-01</td>\n",
       "    </tr>\n",
       "    <tr>\n",
       "      <th>84</th>\n",
       "      <td>The Genomics ofCannabisand Its Close Relatives</td>\n",
       "      <td>https://www.annualreviews.org/content/journals...</td>\n",
       "      <td>I. Kovalchuk, ,M. Pellino, ,P. Rigault, ,R. va...</td>\n",
       "      <td>Vol. 71 \\n(2020),pp.713–739</td>\n",
       "      <td>https://doi.org/10.1146/annurev-arplant-081519...</td>\n",
       "      <td>Agricultural Sciences</td>\n",
       "      <td>2020-01-01</td>\n",
       "    </tr>\n",
       "    <tr>\n",
       "      <th>85</th>\n",
       "      <td>Sequencing and Analyzing the Transcriptomes of...</td>\n",
       "      <td>https://www.annualreviews.org/content/journals...</td>\n",
       "      <td>Gane Ka-Shu Wong, ,Douglas E. Soltis, ,Jim Lee...</td>\n",
       "      <td>Vol. 71 \\n(2020),pp.741–765</td>\n",
       "      <td>https://doi.org/10.1146/annurev-arplant-042916...</td>\n",
       "      <td>Agricultural Sciences</td>\n",
       "      <td>2020-01-01</td>\n",
       "    </tr>\n",
       "    <tr>\n",
       "      <th>86</th>\n",
       "      <td>Engineering Synthetic Signaling in Plants</td>\n",
       "      <td>https://www.annualreviews.org/content/journals...</td>\n",
       "      <td>Alexander R. Leydon, ,Hardik P. Gala, ,Sarah G...</td>\n",
       "      <td>Vol. 71 \\n(2020),pp.767–788</td>\n",
       "      <td>https://doi.org/10.1146/annurev-arplant-081519...</td>\n",
       "      <td>Agricultural Sciences</td>\n",
       "      <td>2020-01-01</td>\n",
       "    </tr>\n",
       "    <tr>\n",
       "      <th>87</th>\n",
       "      <td>Novel Imaging Modalities Shedding Light on Pla...</td>\n",
       "      <td>https://www.annualreviews.org/content/journals...</td>\n",
       "      <td>Natalie M. Clark, ,Lisa Van den Broeck, ,Marjo...</td>\n",
       "      <td>Vol. 71 \\n(2020),pp.789–816</td>\n",
       "      <td>https://doi.org/10.1146/annurev-arplant-050718...</td>\n",
       "      <td>Agricultural Sciences</td>\n",
       "      <td>2020-01-01</td>\n",
       "    </tr>\n",
       "  </tbody>\n",
       "</table>\n",
       "<p>88 rows × 7 columns</p>\n",
       "</div>"
      ],
      "text/plain": [
       "                                                Title  \\\n",
       "0   Adventures in Life and Science, from Light to ...   \n",
       "1    Phosphorus Acquisition and Utilization in Plants   \n",
       "2   Meeting in the Middle: Lessons and Opportuniti...   \n",
       "3                             Plant Proteome Dynamics   \n",
       "4   Evolution and Functions of Plant U-Box Protein...   \n",
       "..                                                ...   \n",
       "83  Phenotyping: New Windows into the Plant for Br...   \n",
       "84     The Genomics ofCannabisand Its Close Relatives   \n",
       "85  Sequencing and Analyzing the Transcriptomes of...   \n",
       "86          Engineering Synthetic Signaling in Plants   \n",
       "87  Novel Imaging Modalities Shedding Light on Pla...   \n",
       "\n",
       "                                                  URL  \\\n",
       "0   https://www.annualreviews.org/content/journals...   \n",
       "1   https://www.annualreviews.org/content/journals...   \n",
       "2   https://www.annualreviews.org/content/journals...   \n",
       "3   https://www.annualreviews.org/content/journals...   \n",
       "4   https://www.annualreviews.org/content/journals...   \n",
       "..                                                ...   \n",
       "83  https://www.annualreviews.org/content/journals...   \n",
       "84  https://www.annualreviews.org/content/journals...   \n",
       "85  https://www.annualreviews.org/content/journals...   \n",
       "86  https://www.annualreviews.org/content/journals...   \n",
       "87  https://www.annualreviews.org/content/journals...   \n",
       "\n",
       "                                              Authors  \\\n",
       "0                                        Elaine Tobin   \n",
       "1                                        Hans Lambers   \n",
       "2       Mae Antonette Mercado, , andAnthony J. Studer   \n",
       "3                 Julia Mergner, , andBernhard Kuster   \n",
       "4   Jana Trenner, ,Jacqueline Monaghan, ,Bushra Sa...   \n",
       "..                                                ...   \n",
       "83  Michelle Watt, ,Fabio Fiorani, ,Björn Usadel, ...   \n",
       "84  I. Kovalchuk, ,M. Pellino, ,P. Rigault, ,R. va...   \n",
       "85  Gane Ka-Shu Wong, ,Douglas E. Soltis, ,Jim Lee...   \n",
       "86  Alexander R. Leydon, ,Hardik P. Gala, ,Sarah G...   \n",
       "87  Natalie M. Clark, ,Lisa Van den Broeck, ,Marjo...   \n",
       "\n",
       "            Vol/Year/Page Range  \\\n",
       "0      Vol. 73 \\n(2022),pp.1–16   \n",
       "1     Vol. 73 \\n(2022),pp.17–42   \n",
       "2     Vol. 73 \\n(2022),pp.43–65   \n",
       "3     Vol. 73 \\n(2022),pp.67–92   \n",
       "4    Vol. 73 \\n(2022),pp.93–121   \n",
       "..                          ...   \n",
       "83  Vol. 71 \\n(2020),pp.689–712   \n",
       "84  Vol. 71 \\n(2020),pp.713–739   \n",
       "85  Vol. 71 \\n(2020),pp.741–765   \n",
       "86  Vol. 71 \\n(2020),pp.767–788   \n",
       "87  Vol. 71 \\n(2020),pp.789–816   \n",
       "\n",
       "                                                  DOI      Area of Knowledge  \\\n",
       "0   https://doi.org/10.1146/annurev-arplant-090921...  Agricultural Sciences   \n",
       "1   https://doi.org/10.1146/annurev-arplant-102720...  Agricultural Sciences   \n",
       "2   https://doi.org/10.1146/annurev-arplant-102720...  Agricultural Sciences   \n",
       "3   https://doi.org/10.1146/annurev-arplant-102620...  Agricultural Sciences   \n",
       "4   https://doi.org/10.1146/annurev-arplant-102720...  Agricultural Sciences   \n",
       "..                                                ...                    ...   \n",
       "83  https://doi.org/10.1146/annurev-arplant-042916...  Agricultural Sciences   \n",
       "84  https://doi.org/10.1146/annurev-arplant-081519...  Agricultural Sciences   \n",
       "85  https://doi.org/10.1146/annurev-arplant-042916...  Agricultural Sciences   \n",
       "86  https://doi.org/10.1146/annurev-arplant-081519...  Agricultural Sciences   \n",
       "87  https://doi.org/10.1146/annurev-arplant-050718...  Agricultural Sciences   \n",
       "\n",
       "       Posted  \n",
       "0  2022-01-01  \n",
       "1  2022-01-01  \n",
       "2  2022-01-01  \n",
       "3  2022-01-01  \n",
       "4  2022-01-01  \n",
       "..        ...  \n",
       "83 2020-01-01  \n",
       "84 2020-01-01  \n",
       "85 2020-01-01  \n",
       "86 2020-01-01  \n",
       "87 2020-01-01  \n",
       "\n",
       "[88 rows x 7 columns]"
      ]
     },
     "execution_count": 10,
     "metadata": {},
     "output_type": "execute_result"
    }
   ],
   "source": [
    "df_ar_plant_biology"
   ]
  },
  {
   "cell_type": "markdown",
   "id": "3a95cebe-f937-4504-ba67-ab277899eedc",
   "metadata": {},
   "source": [
    "### Creating the column `Text ID`"
   ]
  },
  {
   "cell_type": "code",
   "execution_count": 11,
   "id": "01ea7c99-6083-4f86-a99f-cbafbd34b233",
   "metadata": {},
   "outputs": [],
   "source": [
    "df_ar_plant_biology['Text ID'] = 'ar_plant_biology' + df_ar_plant_biology.index.astype(str).str.zfill(6)"
   ]
  },
  {
   "cell_type": "markdown",
   "id": "d470693b-18f1-45f1-89fa-dc36f23b5f83",
   "metadata": {},
   "source": [
    "### Inspecting a few samples"
   ]
  },
  {
   "cell_type": "code",
   "execution_count": 18,
   "id": "a788abb6-2ada-4ba1-88b9-b758f89cec43",
   "metadata": {},
   "outputs": [],
   "source": [
    "url_sample = df_ar_plant_biology.at[87, 'URL']"
   ]
  },
  {
   "cell_type": "code",
   "execution_count": 19,
   "id": "022ac30f-ee8d-44e5-b7ee-ebc929208569",
   "metadata": {},
   "outputs": [
    {
     "data": {
      "text/plain": [
       "'https://www.annualreviews.org/content/journals/10.1146/annurev-arplant-050718-100038'"
      ]
     },
     "execution_count": 19,
     "metadata": {},
     "output_type": "execute_result"
    }
   ],
   "source": [
    "url_sample"
   ]
  },
  {
   "cell_type": "code",
   "execution_count": 13,
   "id": "1831d68c-851a-4da7-86d7-e7cb6605f7c0",
   "metadata": {},
   "outputs": [],
   "source": [
    "# Setting up the WebDriver (make sure you have downloaded the Microsoft Edge WebDriver executable)\n",
    "# https://developer.microsoft.com/en-us/microsoft-edge/tools/webdriver/\n",
    "service = Service(r'C:\\Users\\eyamr\\OneDrive\\Documentos\\0-Technology\\laelgelc\\edgedriver_win64\\msedgedriver.exe')\n",
    "driver = webdriver.Edge(service=service)\n",
    "\n",
    "# Navigating to target URL 1 and saving its web page\n",
    "driver.get(url_sample)\n",
    "wait = WebDriverWait(driver, 10)\n",
    "wait.until(EC.presence_of_element_located((By.ID, 'google_esf')))\n",
    "document_page_sample = driver.page_source\n",
    "\n",
    "with open(f'{output_directory}/ar_plant_biology_sample.html', 'w', encoding='utf8', newline='\\n') as file:\n",
    "    file.write(document_page_sample)\n",
    "\n",
    "# Closing the WebDriver\n",
    "driver.quit()"
   ]
  },
  {
   "cell_type": "markdown",
   "id": "e00ba1fa-10bb-46c8-8288-e3de983a6dee",
   "metadata": {},
   "source": [
    "### Scraping the paragraphs of the articles into TXT format"
   ]
  },
  {
   "cell_type": "code",
   "execution_count": 14,
   "id": "9bc8fef5-fffb-4a21-9562-2d7d7839bb21",
   "metadata": {},
   "outputs": [],
   "source": [
    "# Iterating over the rows of the column 'URL' to scrape paragraphs from each article\n",
    "for index, row in df_ar_plant_biology.iterrows():\n",
    "    url = row['URL']\n",
    "    text_id = row['Text ID']\n",
    "    \n",
    "    # Setting up the WebDriver\n",
    "    service = Service(r'C:\\Users\\eyamr\\OneDrive\\Documentos\\0-Technology\\laelgelc\\edgedriver_win64\\msedgedriver.exe')\n",
    "    driver = webdriver.Edge(service=service)\n",
    "    driver.get(url)\n",
    "    \n",
    "    # Wait for page to load\n",
    "    wait = WebDriverWait(driver, 10)\n",
    "    wait.until(EC.presence_of_element_located((By.ID, 'google_esf')))\n",
    "    \n",
    "    page = driver.page_source\n",
    "    soup = BeautifulSoup(page, 'lxml')\n",
    "    paragraphs = soup.find_all('p')\n",
    "    \n",
    "    # Extract text from paragraphs\n",
    "    article_content = '\\n'.join(p.get_text(strip=True) for p in paragraphs)\n",
    "    \n",
    "    # Saving each article's content to a text file\n",
    "    with open(f\"{output_directory}/{text_id}.txt\", 'w', encoding='utf-8') as file:\n",
    "        file.write(article_content)\n",
    "        \n",
    "    # Closing the WebDriver\n",
    "    driver.quit()"
   ]
  },
  {
   "cell_type": "markdown",
   "id": "a140e522-a944-4f8d-b60c-625de224a0b2",
   "metadata": {},
   "source": [
    "### Adding the column `Text` with the text extracted from each article"
   ]
  },
  {
   "cell_type": "code",
   "execution_count": 20,
   "id": "1aba86f9-2fd3-420a-b61c-2e14927aca93",
   "metadata": {},
   "outputs": [],
   "source": [
    "# Function to read the content of a TXT file\n",
    "def read_txt_file(file_path):\n",
    "    with open(file_path, 'r', encoding='utf-8') as file:\n",
    "        return file.read()\n",
    "\n",
    "# Iterating through each row in the DataFrame and add the text content\n",
    "texts = []\n",
    "for index, row in df_ar_plant_biology.iterrows():\n",
    "    text_id = row['Text ID']\n",
    "    txt_file_path = os.path.join(output_directory, f\"{text_id}.txt\")\n",
    "    if os.path.exists(txt_file_path):\n",
    "        text_content = read_txt_file(txt_file_path)\n",
    "    else:\n",
    "        text_content = None  # or you can set it to an empty string or any default value\n",
    "    texts.append(text_content)\n",
    "\n",
    "# Add the 'Text' column to the DataFrame\n",
    "df_ar_plant_biology['Text'] = texts"
   ]
  },
  {
   "cell_type": "code",
   "execution_count": 21,
   "id": "58dd5800-7afc-4b38-9f17-247b980e6734",
   "metadata": {},
   "outputs": [
    {
     "data": {
      "text/html": [
       "<div>\n",
       "<style scoped>\n",
       "    .dataframe tbody tr th:only-of-type {\n",
       "        vertical-align: middle;\n",
       "    }\n",
       "\n",
       "    .dataframe tbody tr th {\n",
       "        vertical-align: top;\n",
       "    }\n",
       "\n",
       "    .dataframe thead th {\n",
       "        text-align: right;\n",
       "    }\n",
       "</style>\n",
       "<table border=\"1\" class=\"dataframe\">\n",
       "  <thead>\n",
       "    <tr style=\"text-align: right;\">\n",
       "      <th></th>\n",
       "      <th>Title</th>\n",
       "      <th>URL</th>\n",
       "      <th>Authors</th>\n",
       "      <th>Vol/Year/Page Range</th>\n",
       "      <th>DOI</th>\n",
       "      <th>Area of Knowledge</th>\n",
       "      <th>Posted</th>\n",
       "      <th>Text ID</th>\n",
       "      <th>Text</th>\n",
       "    </tr>\n",
       "  </thead>\n",
       "  <tbody>\n",
       "    <tr>\n",
       "      <th>0</th>\n",
       "      <td>Adventures in Life and Science, from Light to ...</td>\n",
       "      <td>https://www.annualreviews.org/content/journals...</td>\n",
       "      <td>Elaine Tobin</td>\n",
       "      <td>Vol. 73 \\n(2022),pp.1–16</td>\n",
       "      <td>https://doi.org/10.1146/annurev-arplant-090921...</td>\n",
       "      <td>Agricultural Sciences</td>\n",
       "      <td>2022-01-01</td>\n",
       "      <td>ar_plant_biology000000</td>\n",
       "      <td>We usecookiesto track usage and preferences.I ...</td>\n",
       "    </tr>\n",
       "    <tr>\n",
       "      <th>1</th>\n",
       "      <td>Phosphorus Acquisition and Utilization in Plants</td>\n",
       "      <td>https://www.annualreviews.org/content/journals...</td>\n",
       "      <td>Hans Lambers</td>\n",
       "      <td>Vol. 73 \\n(2022),pp.17–42</td>\n",
       "      <td>https://doi.org/10.1146/annurev-arplant-102720...</td>\n",
       "      <td>Agricultural Sciences</td>\n",
       "      <td>2022-01-01</td>\n",
       "      <td>ar_plant_biology000001</td>\n",
       "      <td>We usecookiesto track usage and preferences.I ...</td>\n",
       "    </tr>\n",
       "    <tr>\n",
       "      <th>2</th>\n",
       "      <td>Meeting in the Middle: Lessons and Opportuniti...</td>\n",
       "      <td>https://www.annualreviews.org/content/journals...</td>\n",
       "      <td>Mae Antonette Mercado, , andAnthony J. Studer</td>\n",
       "      <td>Vol. 73 \\n(2022),pp.43–65</td>\n",
       "      <td>https://doi.org/10.1146/annurev-arplant-102720...</td>\n",
       "      <td>Agricultural Sciences</td>\n",
       "      <td>2022-01-01</td>\n",
       "      <td>ar_plant_biology000002</td>\n",
       "      <td>We usecookiesto track usage and preferences.I ...</td>\n",
       "    </tr>\n",
       "    <tr>\n",
       "      <th>3</th>\n",
       "      <td>Plant Proteome Dynamics</td>\n",
       "      <td>https://www.annualreviews.org/content/journals...</td>\n",
       "      <td>Julia Mergner, , andBernhard Kuster</td>\n",
       "      <td>Vol. 73 \\n(2022),pp.67–92</td>\n",
       "      <td>https://doi.org/10.1146/annurev-arplant-102620...</td>\n",
       "      <td>Agricultural Sciences</td>\n",
       "      <td>2022-01-01</td>\n",
       "      <td>ar_plant_biology000003</td>\n",
       "      <td>We usecookiesto track usage and preferences.I ...</td>\n",
       "    </tr>\n",
       "    <tr>\n",
       "      <th>4</th>\n",
       "      <td>Evolution and Functions of Plant U-Box Protein...</td>\n",
       "      <td>https://www.annualreviews.org/content/journals...</td>\n",
       "      <td>Jana Trenner, ,Jacqueline Monaghan, ,Bushra Sa...</td>\n",
       "      <td>Vol. 73 \\n(2022),pp.93–121</td>\n",
       "      <td>https://doi.org/10.1146/annurev-arplant-102720...</td>\n",
       "      <td>Agricultural Sciences</td>\n",
       "      <td>2022-01-01</td>\n",
       "      <td>ar_plant_biology000004</td>\n",
       "      <td>We usecookiesto track usage and preferences.I ...</td>\n",
       "    </tr>\n",
       "    <tr>\n",
       "      <th>...</th>\n",
       "      <td>...</td>\n",
       "      <td>...</td>\n",
       "      <td>...</td>\n",
       "      <td>...</td>\n",
       "      <td>...</td>\n",
       "      <td>...</td>\n",
       "      <td>...</td>\n",
       "      <td>...</td>\n",
       "      <td>...</td>\n",
       "    </tr>\n",
       "    <tr>\n",
       "      <th>83</th>\n",
       "      <td>Phenotyping: New Windows into the Plant for Br...</td>\n",
       "      <td>https://www.annualreviews.org/content/journals...</td>\n",
       "      <td>Michelle Watt, ,Fabio Fiorani, ,Björn Usadel, ...</td>\n",
       "      <td>Vol. 71 \\n(2020),pp.689–712</td>\n",
       "      <td>https://doi.org/10.1146/annurev-arplant-042916...</td>\n",
       "      <td>Agricultural Sciences</td>\n",
       "      <td>2020-01-01</td>\n",
       "      <td>ar_plant_biology000083</td>\n",
       "      <td>We usecookiesto track usage and preferences.I ...</td>\n",
       "    </tr>\n",
       "    <tr>\n",
       "      <th>84</th>\n",
       "      <td>The Genomics ofCannabisand Its Close Relatives</td>\n",
       "      <td>https://www.annualreviews.org/content/journals...</td>\n",
       "      <td>I. Kovalchuk, ,M. Pellino, ,P. Rigault, ,R. va...</td>\n",
       "      <td>Vol. 71 \\n(2020),pp.713–739</td>\n",
       "      <td>https://doi.org/10.1146/annurev-arplant-081519...</td>\n",
       "      <td>Agricultural Sciences</td>\n",
       "      <td>2020-01-01</td>\n",
       "      <td>ar_plant_biology000084</td>\n",
       "      <td>We usecookiesto track usage and preferences.I ...</td>\n",
       "    </tr>\n",
       "    <tr>\n",
       "      <th>85</th>\n",
       "      <td>Sequencing and Analyzing the Transcriptomes of...</td>\n",
       "      <td>https://www.annualreviews.org/content/journals...</td>\n",
       "      <td>Gane Ka-Shu Wong, ,Douglas E. Soltis, ,Jim Lee...</td>\n",
       "      <td>Vol. 71 \\n(2020),pp.741–765</td>\n",
       "      <td>https://doi.org/10.1146/annurev-arplant-042916...</td>\n",
       "      <td>Agricultural Sciences</td>\n",
       "      <td>2020-01-01</td>\n",
       "      <td>ar_plant_biology000085</td>\n",
       "      <td>We usecookiesto track usage and preferences.I ...</td>\n",
       "    </tr>\n",
       "    <tr>\n",
       "      <th>86</th>\n",
       "      <td>Engineering Synthetic Signaling in Plants</td>\n",
       "      <td>https://www.annualreviews.org/content/journals...</td>\n",
       "      <td>Alexander R. Leydon, ,Hardik P. Gala, ,Sarah G...</td>\n",
       "      <td>Vol. 71 \\n(2020),pp.767–788</td>\n",
       "      <td>https://doi.org/10.1146/annurev-arplant-081519...</td>\n",
       "      <td>Agricultural Sciences</td>\n",
       "      <td>2020-01-01</td>\n",
       "      <td>ar_plant_biology000086</td>\n",
       "      <td>We usecookiesto track usage and preferences.I ...</td>\n",
       "    </tr>\n",
       "    <tr>\n",
       "      <th>87</th>\n",
       "      <td>Novel Imaging Modalities Shedding Light on Pla...</td>\n",
       "      <td>https://www.annualreviews.org/content/journals...</td>\n",
       "      <td>Natalie M. Clark, ,Lisa Van den Broeck, ,Marjo...</td>\n",
       "      <td>Vol. 71 \\n(2020),pp.789–816</td>\n",
       "      <td>https://doi.org/10.1146/annurev-arplant-050718...</td>\n",
       "      <td>Agricultural Sciences</td>\n",
       "      <td>2020-01-01</td>\n",
       "      <td>ar_plant_biology000087</td>\n",
       "      <td>We usecookiesto track usage and preferences.I ...</td>\n",
       "    </tr>\n",
       "  </tbody>\n",
       "</table>\n",
       "<p>88 rows × 9 columns</p>\n",
       "</div>"
      ],
      "text/plain": [
       "                                                Title  \\\n",
       "0   Adventures in Life and Science, from Light to ...   \n",
       "1    Phosphorus Acquisition and Utilization in Plants   \n",
       "2   Meeting in the Middle: Lessons and Opportuniti...   \n",
       "3                             Plant Proteome Dynamics   \n",
       "4   Evolution and Functions of Plant U-Box Protein...   \n",
       "..                                                ...   \n",
       "83  Phenotyping: New Windows into the Plant for Br...   \n",
       "84     The Genomics ofCannabisand Its Close Relatives   \n",
       "85  Sequencing and Analyzing the Transcriptomes of...   \n",
       "86          Engineering Synthetic Signaling in Plants   \n",
       "87  Novel Imaging Modalities Shedding Light on Pla...   \n",
       "\n",
       "                                                  URL  \\\n",
       "0   https://www.annualreviews.org/content/journals...   \n",
       "1   https://www.annualreviews.org/content/journals...   \n",
       "2   https://www.annualreviews.org/content/journals...   \n",
       "3   https://www.annualreviews.org/content/journals...   \n",
       "4   https://www.annualreviews.org/content/journals...   \n",
       "..                                                ...   \n",
       "83  https://www.annualreviews.org/content/journals...   \n",
       "84  https://www.annualreviews.org/content/journals...   \n",
       "85  https://www.annualreviews.org/content/journals...   \n",
       "86  https://www.annualreviews.org/content/journals...   \n",
       "87  https://www.annualreviews.org/content/journals...   \n",
       "\n",
       "                                              Authors  \\\n",
       "0                                        Elaine Tobin   \n",
       "1                                        Hans Lambers   \n",
       "2       Mae Antonette Mercado, , andAnthony J. Studer   \n",
       "3                 Julia Mergner, , andBernhard Kuster   \n",
       "4   Jana Trenner, ,Jacqueline Monaghan, ,Bushra Sa...   \n",
       "..                                                ...   \n",
       "83  Michelle Watt, ,Fabio Fiorani, ,Björn Usadel, ...   \n",
       "84  I. Kovalchuk, ,M. Pellino, ,P. Rigault, ,R. va...   \n",
       "85  Gane Ka-Shu Wong, ,Douglas E. Soltis, ,Jim Lee...   \n",
       "86  Alexander R. Leydon, ,Hardik P. Gala, ,Sarah G...   \n",
       "87  Natalie M. Clark, ,Lisa Van den Broeck, ,Marjo...   \n",
       "\n",
       "            Vol/Year/Page Range  \\\n",
       "0      Vol. 73 \\n(2022),pp.1–16   \n",
       "1     Vol. 73 \\n(2022),pp.17–42   \n",
       "2     Vol. 73 \\n(2022),pp.43–65   \n",
       "3     Vol. 73 \\n(2022),pp.67–92   \n",
       "4    Vol. 73 \\n(2022),pp.93–121   \n",
       "..                          ...   \n",
       "83  Vol. 71 \\n(2020),pp.689–712   \n",
       "84  Vol. 71 \\n(2020),pp.713–739   \n",
       "85  Vol. 71 \\n(2020),pp.741–765   \n",
       "86  Vol. 71 \\n(2020),pp.767–788   \n",
       "87  Vol. 71 \\n(2020),pp.789–816   \n",
       "\n",
       "                                                  DOI      Area of Knowledge  \\\n",
       "0   https://doi.org/10.1146/annurev-arplant-090921...  Agricultural Sciences   \n",
       "1   https://doi.org/10.1146/annurev-arplant-102720...  Agricultural Sciences   \n",
       "2   https://doi.org/10.1146/annurev-arplant-102720...  Agricultural Sciences   \n",
       "3   https://doi.org/10.1146/annurev-arplant-102620...  Agricultural Sciences   \n",
       "4   https://doi.org/10.1146/annurev-arplant-102720...  Agricultural Sciences   \n",
       "..                                                ...                    ...   \n",
       "83  https://doi.org/10.1146/annurev-arplant-042916...  Agricultural Sciences   \n",
       "84  https://doi.org/10.1146/annurev-arplant-081519...  Agricultural Sciences   \n",
       "85  https://doi.org/10.1146/annurev-arplant-042916...  Agricultural Sciences   \n",
       "86  https://doi.org/10.1146/annurev-arplant-081519...  Agricultural Sciences   \n",
       "87  https://doi.org/10.1146/annurev-arplant-050718...  Agricultural Sciences   \n",
       "\n",
       "       Posted                 Text ID  \\\n",
       "0  2022-01-01  ar_plant_biology000000   \n",
       "1  2022-01-01  ar_plant_biology000001   \n",
       "2  2022-01-01  ar_plant_biology000002   \n",
       "3  2022-01-01  ar_plant_biology000003   \n",
       "4  2022-01-01  ar_plant_biology000004   \n",
       "..        ...                     ...   \n",
       "83 2020-01-01  ar_plant_biology000083   \n",
       "84 2020-01-01  ar_plant_biology000084   \n",
       "85 2020-01-01  ar_plant_biology000085   \n",
       "86 2020-01-01  ar_plant_biology000086   \n",
       "87 2020-01-01  ar_plant_biology000087   \n",
       "\n",
       "                                                 Text  \n",
       "0   We usecookiesto track usage and preferences.I ...  \n",
       "1   We usecookiesto track usage and preferences.I ...  \n",
       "2   We usecookiesto track usage and preferences.I ...  \n",
       "3   We usecookiesto track usage and preferences.I ...  \n",
       "4   We usecookiesto track usage and preferences.I ...  \n",
       "..                                                ...  \n",
       "83  We usecookiesto track usage and preferences.I ...  \n",
       "84  We usecookiesto track usage and preferences.I ...  \n",
       "85  We usecookiesto track usage and preferences.I ...  \n",
       "86  We usecookiesto track usage and preferences.I ...  \n",
       "87  We usecookiesto track usage and preferences.I ...  \n",
       "\n",
       "[88 rows x 9 columns]"
      ]
     },
     "execution_count": 21,
     "metadata": {},
     "output_type": "execute_result"
    }
   ],
   "source": [
    "df_ar_plant_biology"
   ]
  },
  {
   "cell_type": "markdown",
   "id": "7dd02d31-3a36-4220-b46e-479fa30aca9b",
   "metadata": {},
   "source": [
    "### Inspecting a few samples"
   ]
  },
  {
   "cell_type": "code",
   "execution_count": 22,
   "id": "d46241f5-906e-4c07-b2ff-1c087929d6df",
   "metadata": {},
   "outputs": [
    {
     "data": {
      "text/plain": [
       "\"We usecookiesto track usage and preferences.I Understand\\nThe acquisition of quantitative information on plant development across a range of temporal and spatial scales is essential to understand the mechanisms of plant growth. Recent years have shown the emergence of imaging methodologies that enable the capture and analysis of plant growth, from the dynamics of molecules within cells to the measurement of morphometricand physiological traits in field-grown plants. In some instances, these imaging methods can be parallelized across multiple samples to increase throughput. When high throughput is combined with high temporal and spatial resolution, the resulting image-derived data sets could be combined with molecular large-scale data sets to enable unprecedented systems-level computational modeling. Such image-driven functional genomics studies may be expected to appear at an accelerating rate in the near future given the early success of the foundational efforts reviewed here. We present new imaging modalities and review how they have enabled a better understanding of plant growth from the microscopic to the macroscopic scale.\\nArticle metrics loading...\\nafn1*These authors contributed equally to this article\\nThe acquisition of quantitative information on plant development across a range of temporal and spatial scales is essential to understand the mechanisms of plant growth. Recent years have shown the emergence of imaging methodologies that enable the capture and analysis of plant growth, from the dynamics of molecules within cells to the measurement of morphometricand physiological traits in field-grown plants. In some instances, these imaging methods can be parallelized across multiple samples to increase throughput. When high throughput is combined with high temporal and spatial resolution, the resulting image-derived data sets could be combined with molecular large-scale data sets to enable unprecedented systems-level computational modeling. Such image-driven functional genomics studies may be expected to appear at an accelerating rate in the near future given the early success of the foundational efforts reviewed here. We present new imaging modalities and review how they have enabled a better understanding of plant growth from the microscopic to the macroscopic scale.\\nMany important biological processes within an organism occur on different spatial and temporal scales. For example, cell division is triggered by specific gene and protein networks. As cells divide, they form larger tissues and organs that can be influenced by external factors, such as chemical and physical conditions or biological interactions. To better understand how these processes proceed over different spatial scales, researchers have developed imaging methods that range from microscopic intra- and intercellular interactions to mesoscopic tissue- and organ-level processes to the macroscopic scale, including whole organisms or even populations. Some of these imaging techniques can continuously sample at an appropriate rate and in response to variations in experimental conditions, which enables the quantification of the dynamics of developmental processes. For example, live imaging (imaging the activity as it is occurring) provides unprecedented levels of temporal detail that encompass the study of plant biology, including tissue patterning, cell division, cell specification, hormone distribution, and plant architecture. Methods like fluorescence correlation spectroscopy (FCS) (34),Förster resonance energy transfer coupled with fluorescence lifetime imaging (FRET-FLIM)(164), and super-resolution microscopy (137) have been developed to study molecular dynamics within a single cell, such as protein binding, as well as between different cells, such as protein movement (Figure 1). Moving to a larger scale, methods such asmagnetic resonance imaging (MRI), fluorescence molecular tomography (FMT), X-ray microcomputed tomography (μCT), positron emission tomography (PET), and ultrasound have been used to obtain images of whole organs and tissues, which have proven to be useful tools in medical imaging (Figure 1) (54,118,168). The combination of data from these imaging modalities draws an integrated picture of plant biology, from the single cell to the entire organism. On an even larger scale, new techniques have been developed, allowing for quantitative imaging of entire plant populations. These macroscale techniques are especially important for surveying crop quality and determining how environmental conditions impact yield (Figure 1).\\n\\nFigure 1Click to view\\n\\n\\nWhile most imaging techniques had their original applications in animal systems, many have been adapted to plants (132). Here, we describe recent imaging techniques that have been successfully used to analyze plant biology on increasing spatial scales, ranging from microscopic to mesoscopic and macroscopic (Figure 1). Starting at the molecular level, we detail how FRET-FLIM and scanning fluorescence correlation spectroscopy (FCS) methods have been used to quantify protein interactions and movement in vivo within different plant cell types. Next, at the mesoscopic scale, we present methods that either monitor cellular events in the context of whole growing organs with light sheet fluorescence microscopy (LSFM) or image tissues from multiple plants simultaneously under controlled environmental conditions using microfluidics devices. Finally, at the macroscopic scale, we present methods used to image entire plant organs or even different populations of plants grown together in a field. Techniques such as PET, X-ray μCT, and MRI imaging, co-opted from the medical imaging field, have been used to noninvasively study root systems growing in soil. Additionally, we detail how ultrasound, infrared imaging, andlight detection and ranging (LiDAR)have been coupled with technologies such as unmanned aerial vehicles to allow for high-throughput imaging of entire plant populations. Looking to the future, we believe that developing methodologies that combine multiscale imaging data will allow for a more accurate picture of how biological processes occur over space and time within and across organisms.\\nFluorescence microscopy is an essential tool in cell biology. The use of fluorescence imaging technologies has contributed tremendously to solving biological questions such as the visualization of tissue dynamics and morphogenesis, determination of subcellular localization, changes in protein turnover in time and space and under different stimuli, and formation and stoichiometry of protein complexes. In the last 25 years, the performance of fluorescence imaging has increased dramatically in the biological sciences, especially with the new generation of confocal microscopes equipped with higher-sensitivity detectors and genetic engineering advances in generating fluorophores with higher brightness, improved quantum yield and fluorescence lifetime, and increased sensitivity (10,52,53,141). With these tools, in vivo imaging can be implemented noninvasively and as a routine technology. A great example is the determination of subcellular protein localization within living cells and at high resolution in a living organism (62,85,86).\\nIn 1946, Theodor Förster introduced Förster resonance energy transfer (FRET) (46). FRET describes the phenomena in which, upon excitation, energy is transferred from a donor fluorophore to an acceptor fluorophore present within a range of 1–10 nm. FRET occurrence results in a decrease in the intensity of the donor's fluorescence and an increase in the acceptor's fluorescence intensity. FRET can also be measured by determining the lifetime of the donor fluorophore using fluorescence lifetime imaging microscopy (FLIM) (25). The fluorescence lifetime can be described as the average time that a molecule stays in an excited state prior to its return to the ground state. The fluorophore lifetime can be displayed as images, which include the spatial distribution of excited-state lifetimes (20). During measurements, FLIM images are taken and lifetime values can be extracted by analyzing a region of interest (ROI) drawn within a pseudocolor lifetime map. Interactions can then be detected by measuring changes in the lifetime between ROIs within the same cell, tissue, or organ. These continuous advances allow the detection of protein localization as well as its physical association with relevant partners with a high spatial and temporal resolution, with high specificity, and without perturbing cell state, making it possible to follow protein association at the subcellular resolution in living multicellular organisms.\\nIn plant tissues, FRET-FLIM has been widely used to validate, detect, and visualize protein interactions (Figure 2), especially with the increasing amount of protein interactions identified by yeast two-hybrid screens or mass spectrometry (MS)-based proteomics. Interactions of the MADS-box proteins were confirmed by FRET-FLIM in plant-derived protoplasts (72,73,153). The plasmodesmata-localized reticulon (RTNLB) family proteins are additional examples of proteins identified by coimmunoprecipitation MS (87). FRET-FLIM was also used to show homodimerization of the transcription factor family AUXIN RESPONSE FACTORs (ARFs), which have important roles in auxin response and plant growth and development (12), as well as heterodimerization with auxin/indole-3-acetic acid (AUX/IAA) proteins (e.g., ARF9 and IAA10) (122). In the case of receptor kinases, implementation of FRET-FLIM was insightful in showing that ARABIDOPSIS CRINKLY4 (ACR4) forms homomers and heteromers with CLAVATA 1 (CLV1) at the plasma membrane or in plasmodesmata in a concentration-dependent manner (145). FRET-FLIM analysis of the ligand-perceiving receptor for brassinosteroids, BRASSINOSTEROID INSENSITIVE 1 (BRI1) with its receptor SOMATIC EMBRYOGENESIS RECEPTOR-LIKE KINASE (SERK3), revealed interactions at the plasma membrane in the epidermis of livingArabidopsisroots (13). Intriguingly, despite colocalization on the plasma membrane, interactions were detected only in a limited domain of the plasma membrane, indicating that only a small fraction of the BRI1 and SERK3 proteins are in close proximity (13). In addition to resolving interactions with proteins involved in signaling processes within living tissues, FRET-FLIM was successfully used to detect transcription factor associations at cellular resolution in theArabidopsisroot meristem. Recent studies showed that the BIRD protein JACKDAW (C2H2-type transcription factor) forms a ternary complex with the mobile protein and cell fate regulator SHORTROOT (SHR) and its target SCARECROW (SCR) (92). Optimizing FRET-FLIM technology in livingArabidopsisroots showed that physical proximity between these proteins is cell-type dependent (92). These observations reflect the advantage of using this technology to detect differential protein associations within the same as well as between different subcellular compartments.\\n\\nFigure 2Click to view\\n\\n\\nAnother extension of FRET-FLIM techniques involvesscanning FCSmethodologies. Tagging a protein with a fluorescent molecule allows scanning FCS to detect and quantify the constant fluctuations in fluorescence and protein dynamics (38). Fluorescence fluctuations over time correlate with the movement or kinetics of the fluorescent molecule while the amplitude of the fluctuations correlates with the protein concentration (33,117,126). Scanning FCS has been developed to determine the oligomeric state of a protein complex, quantify protein interactions, and map protein movement between and within cells. Although scanning FCS has mainly been used in the animal kingdom to quantify, for example, protein aggregates, an emerging role for scanning FCS in the plant kingdom has become apparent in the last few years (107,126).\\nRather than operating independently, proteins interact with each other to form functional complexes in order to exert their molecular roles during plant development. As such, the stability, activity, and functionality of a protein can depend on its interaction partner. Analyzing the composition or oligomeric state of a protein complex as well as the dynamics of the formed complexes is thus important in the study of plant development and possible through the development of scanning FCS methodologies. To measure the oligomerization state of single proteins and heterologous protein complexes, one can use scanning FCS in combination withnumber and brightness (N&B)analysis (Figure 2) (32). For this, the protein of interest is tagged with a fluorescent molecule. By detecting fluorescence intensities over time with raster scan images, the average and variance of intensity can be measured and used to calculate the N&B, i.e., the intrinsic intensity of the fluorescent molecule (38). N&B allows for the detection of different oligomeric states of fluorescent-tagged proteins while taking into account immobile fluorescent-tagged proteins, autofluorescence, and bleaching in a living cell (23,32). If two proteins are tagged with different fluorophores [e.g., green fluorescent protein (GFP) and mCherry], N&B can quantify protein complex stoichiometry based on the coinciding appearance of two fluorophores in a process calledcross-correlation N&B (cross N&B)or cross-correlation FCS (Figure 2) (4,138). For cross N&B, the fluctuations of fluorescence are calculated from the intensity measured over time from two or more detection channels, depending on the number of different fluorophores (64).\\nIn the root stem cell niche ofArabidopsis thaliana, N&B analyses have been used to determine the oligomeric state of several key regulators in stem cell maintenance (21,22). First, by analyzing raster images of specific stem cells in the root stem cell niche, one can determine the cell specificity and distribution of protein complexes and their oligomeric state. As such, the authors (21,22) reported that the stoichiometry, as well as the abundance of the well-known SHR-SCR complex, varies between the quiescent center and the cortex endodermis initials, which contributed to the fundamental understanding of the functional role of this complex in stem cell maintenance. The SHR-SCR complex acts to spatially restrictSHRexpression to the endodermis, leading to cell-specific control of cell division (84,144). In another example, N&B was used in the root to show that ARF7 and ARF19 form higher-order protein assemblies (up to 10-mers) that limit auxin responsiveness (120). Thus, cross N&B provides a complementary approach toFRET-FLIM, and using both techniques together provides the most information about protein binding and protein–protein complex stoichiometries within a sample. Second, the dynamics of protein complex composition can be analyzed by imaging over multiple time points during plant development. Third, protein complex information can be built in computational models to more accurately fit them to experimental data and vice versa and can be used to validate model predictions.\\nComputational models also often integrate kinetic data, which are generally more difficult to experimentally determine, but the difficulty can be addressed withscanning FCS. By using the same raster scan for N&B analysis in a process calledraster image correlation spectroscopy (RICS), scanning FCS can also quantify protein movement (Figure 2) (31). The diffusion of a fluorescent protein can be calculated from these time series images by removing the fluctuations of fluorescence that result from the speed of the scan, an intrinsic setting of the confocal microscope (31). As such, the diffusion rate of SHR between the vasculature initials, stem cells that expressSHR, and the neighboring cortex endodermis initial and quiescent center cells was determined (22). As with N&B, RICS can also correlate two fluorophores in a process called cross-correlation RICS (cross RICS) to measure how the binding between two proteins affects their movement (35). Thus, RICS allows for the measurement of protein movement in different regions of a single cell or in different cell types of a multicellular organism.\\nOne of the drawbacks of RICS is that it cannot detect whether movement is restricted at barriers within cells, such as the nuclear envelope or organelles, or between cells, such as cell membranes and walls. To address this drawback, thepair correlation function (pCF)was developed to measure protein movement through a barrier (67). pCF uses a single line scanned across the potential diffusion barrier to calculate the probability of fluorescence fluctuations in the case of free movement and then correlates this probability with the measured fluorescence (33). When the pCF analysis shows no autocorrelation at the diffusion barrier, the protein cannot cross the barrier, while autocorrelation suggests that the protein can pass the barrier (Figure 2) (33). Therefore, pCF can reveal whether protein movement within or between cells is restricted in any manner. Specifically, pCF has been used to unravel the molecular mechanisms underlying stem cell maintenance in the root stem cell niche. The stem cell identity in the root stem cell niche is maintained through the controlled regulation of asymmetric cell divisions by the SHR-SCR complex, among others (144). With pCF analyses, the authors (22) were able to detect SHR movement from the vasculature initials to the cortex endodermis initials, where it forms a complex with SCR that in turn restricts the diffusion of SHR back to the vasculature. The molecular mechanisms regulating stem cell maintenance were even further unraveled with pCF, revealing that WUSCHELRELATED HOMEOBOX5 (WOX5), a central regulator in maintaining the dormant state of the quiescent center, can diffuse to the vasculature initials where it regulates downstream targets such as SHR (21).\\nLSFMis a recent powerful addition to the arsenal of modalities available to study development at the mesoscopic scale (148). LSFM uses two distinct optical axes. The first one illuminates a thin slice of the specimen with a sheet of laser light while keeping the rest of the sample in the dark. The second optical axis is orthogonal to the illumination axis and collects the light emitted by the fluorophores in the illuminated volume of the specimen. By moving the sample stepwise across the sheet and taking an image at each position, a stack of images encapsulating the whole volume of the specimen is collected (Figure 3) (71,167).\\n\\nFigure 3Click to view\\n\\n\\nThe LSFM design combines the speed and sensitivity of wide-field fluorescence microscopy with the optical sectioning ability of confocal microscopy, making LSFM particularly amenable to imaging of organs and organisms while minimizing photodamage. At any given time, only a small volume of the specimen is illuminated; therefore, during a three-dimensional (3D) scan, the total amount of laser light received by the whole specimen is minimal (one to two times the amount received by a single plane). In a confocal microscope, for each focal plane imaged, the whole specimen is illuminated, and the emitted light coming from regions above and below it is eliminated by the pinhole placed in front of the detector. Consequently, the total amount of light received by the sample during a 3D scan is proportional to the number of planes imaged. In addition, for laser scanning confocal microscopy, the pinhole imposes a point-by-point scanned detection. In LSFM, images are acquired by modern electron-multiplying charge-coupled device or scientific complementary metal-oxide-semiconductor cameras that have higher signal-to-noise ratios than the photomultipliers found in most laser scanning confocal microscopy. This combination of high sensitivity, speed of image acquisition, and parsimonious use of the energy illuminating the sample makes LSFM particularly suited for imaging biological processes over extended periods of time and/or at high frequency. Many variations of the basic LSFM design have been implemented over the years in lab-built and commercial solutions. LSFM designs differ in the type of illumination (single-photon versus two-photon, static versus scanned versus Bessel beams or lattices), the number of sheets and cameras used simultaneously, their positioning (horizontal versus vertical), and the use of adaptive optics. These variations provide specific advantages for each application and specimen but also illustrate that LSFM setups can appear too specialized: Changing magnification is not easily done, and usually only a single specimen can be imaged at a time (119,124). This limitation inspired the development of a multisample holder that allows simultaneous imaging of several specimens (28).\\nApplication of LSFM to plant biology has bloomed in the last seven years. Most LSFM designs (custom built and commercial) use one or two illumination sheets arranged horizontally with the plant positioned vertically in the imaging chamber (8). Imitation of close to natural conditions during imaging is achieved by the illumination of aerial tissue with a light-emitting diode system mimicking sunlight that can simulate the light patterns of long or short days. In addition, a perfusion system exchanges media in the chamber, ensuring a constant supply of nutrients as well as the removal of contaminants or generated toxic compounds (97). This permits imaging over the course of several days with no apparent damage (160,163). Mounting the plant on the LSFM device to ensure stability over time is specific for each application (8,111,160,162). To date, the majority of LSFM imaging in plants has been on theArabidopsisroots because of their ideal geometry and good optical properties. Yet, imaging of other organs (leaves, flowers, shoots meristems) and species, including crops (Medicago, rice, tomato), has been achieved (see112for a comprehensive review).\\nA strength of LSFM is its ability to bridge microscopic and mesoscopic scales. LSFM can image fast subcellular processes in the context of intact organs and over the course of several hours or days. LSFM was used inArabidopsisto relate cellular proliferation with the growth of the primary root (28,97,139). LSFM was used to quantify the abundance of the cytoskeletal END BINDING PROTEIN 1C (EB1c), an atypical and plant-specific microtubule plus-end-tracking protein in the growingArabidopsisroot (108). It revealed that EB1c, previously only studied in the context of dividing cells, resides in the nucleus between divisions, where its accumulation correlates with the nuclear surface as the cells differentiate. This use of LSFM illustrates how quantitative analysis can uncover new links between the cytoskeleton, nuclear size, and differentiation. LSFM was also used to reveal that the MITOGEN-ACTIVATED PROTEIN KINASE 6 (MPK6) associates with the phragmoplasts where it controls proper division of root cells (143). At subcellular levels, LSFM has been used to observe Ca2+dynamics where it characterized calcium oscillations associated with growth rate and auxin effects on growth (18). LSFM also enabled the imaging of cytosolic and nuclear Ca2+waves deep into a growing root, revealing the existence of a long-postulated process of Ca2+percolation across tissues (26).\\nLSFM is particularly well suited to investigate the development of plant organs over several days and elucidate, by bridging the cell to the organ scale, how plant organs are shaped. LSFM was used to imageArabidopsislateral root development, to uncover and quantify the ellipse-to-round shape transition of the lateral root primordium (93), and to precisely analyze the patterns of cell divisions (161). These studies uncovered that the typical dome shape aspect of the lateral root primordium and its internal organization in layers are the result of the accommodation of the overlying tissue to the primordium outgrowth and the geometric pattern of cell division, respectively. LSFM uncovered that the swelling of the lateral root founder cells deep in the primary root is an important signal perceived by the endodermis, which signals back to these cells and allows their further development (160). LSFM helped researchers to understand how the growth angle of a lateral root in regard to the gravity vector results from the asymmetric distribution of auxin yielding to the asymmetric expansion of epidermis cells and the bending of the young lateral root (131).\\nPlant growth and development, as well as physiology and metabolism, are sensitive to environmental stress conditions, which means that specimen handling and variable conditions during live imaging may affect the validity and reproducibility of obtained results. Therefore, technical innovations are needed to reduce sample handling while still allowing for chemical and biological treatments. A classic example is the Fåhraeus slide, with roots growing between a microscope slide and a cover glass that are separated by a spacer (9,41). The use of these slides revealed the effect of bacterial nodulation factors on root hair deformation during the onset of symbiosis between rhizobia and legumes (43,63).\\nOver the past decade, microdevices fabricated from the silicone-based organic polymer polydimethylsiloxane (PDMS) have become increasingly popular tools for the cultivation, perfusion, and imaging of plant cells or organs (Figure 4). Biologically inert and gas permeable, PDMS has been widely used in microfluidiclab-on-a-chip devicesthat are cast and fixed onto optical glass to create chambers that facilitate microscopic observation of live specimens (170). Due to their design flexibility, lab-on-a-chip-based microdevices have a wide range of applications for the study of plants with diverse morphologies and their development under different environmental conditions. The first plant microdevices were developed to cultivate primaryArabidopsisroots (17,58,100),CamelliaorToreniapollen tubes (68,134,173),Arabidopsisovules (115), or the filamentous protonemal tissue of the moss modelPhyscomitrella patens(6) under controlled conditions at the microscope for experiments lasting hours to days or weeks. Recently, this technology has been adapted for roots of larger plants, such asOryza sativaandPopulus tremuloides(57,70). As we will illustrate in the following paragraphs, several discoveries in plant physiology, developmental and cell biology that were recently made using microdevices demonstrate their potential for the unveiling of yet unknown molecular mechanisms in plants.\\n\\nFigure 4Click to view\\n\\n\\nA main advantage of microfluidic imaging platforms over other sample mounting and perfusion systems is the minimal sample handling. Pollen grains, plant protoplasts, blended moss tissue, and even ovules can be manually introduced as suspension directly into a dedicated germination chamber of the device or immobilized into casted traps (Figure 4) (115,133,135,140). Seedling roots grow into the device autonomously, which prevents mechanical damage (17,58). Another significant improvement is the increase in throughput that can be achieved through the parallelization of experiments within such miniaturized platforms. The RootChip was initially developed for the parallel imaging of 8 (58) and later 16 roots (77) at a time, which enabled fluorescent sensor-based measurements of small molecule dynamics in living tissue. The RootArray enabled the analysis of gene expression patterns in up to 64 roots ofArabidopsisin a single chamber (17). Upon changing growth conditions, such as a drop in pH from 5.7 to 4.6 or a deficiency in iron or sulfur, the authors observed dramatic but transient changes in gene expression. For example, the homeodomain transcription factor WOX5, typically expressed exclusively in the quiescent center, was transiently detectable within the root elongation zone (17). By leveraging and combining the technical advances made in microfluidic devices and LSFM, researchers developed a 3D-printed device, the Multi-sample Arabidopsis Growth and Imaging Chamber (MAGIC), that is able to image whole organs for a longer period of time (28). MAGIC has been custom-designed for a commercial, dual-sided illumination light sheet microscope and it allows researchers to grow and image fourArabidopsisroots simultaneously. Moreover, with the design of MAGIC, shoots grow outside of the agar, allowing gas exchange during the imaging process, which leads to successful imaging of cell division in the root meristem over a period of 48 hours (28). Thus, the expression of pCYCB1;1:GFP, a marker for cell division, was tracked for 24 hours under conditions of iron sufficiency, iron deficiency, heat stress, and combined iron deficiency and heat stress (14). Surprisingly, the change in the number and timing of cell divisions under the combined stress differed from the additive effect of the individual stresses, indicating that combinatorial stresses trigger unique stress responses (14).\\nTaking advantage of trapping up to 40Arabidopsisovules in a microcage array (115) and employing two-photon microscopy enabled the first live imaging of embryogenesis over three days from the first zygote division to a heart-shaped 64-cell embryo (55). Following cell fate specification, this study established a cell lineage tree and revealed cell damage-induced cell fate conversion. Upon laser-ablation of the apical cell of a proembryo within the microcage, the authors revealed a compensatory change in cell identity in a neighboring nonembryonic cell toward an embryonic fate as indicated by cell-type specific transcriptional reporters (55).\\nThe applications of microfluidic lab-on-a-chip devices for plant studies go beyond providing a platform for specimen mounting for microscopy; they include chemical, biotic, and mechanical stimulation as well as the probing of mechanical properties of cells and tissues (Figure 4). While a main motivation for the use of perfusion devices is to keep conditions constant, devices such as the RootChip contain micromechanical valves (158) and thereby enable pulsed treatments with a complete exchange of the chamber condition in less than 10 s (58,59). Several studies took advantage of such on-chip valve systems in combination with genetically encoded fluorescent biosensors to visualize molecular dynamics during membrane transport (58,88), to reveal stimulus-specific calcium signaling in response to biotic or abiotic stress elicitors (30,80), or to uncover the dynamic distribution of the phytohormones abscisic acid (77) and gibberellin (127) in growingArabidopsisroots. While most microscope setups only allow for horizontal specimen mounting, one study employed a vertically mounted RootChip to investigate the inhibitory effect of auxin on root cell elongation, while avoiding interference by gravitropic responses (44). The authors found that, upon auxin treatment, roots responded within 30 s by slowing down their growth, reaching a 70% slower growth rate after 10 min (44). By comparing the response of mutants lacking auxin signaling components such as the auxin efflux carrier AUX1 or the auxin coreceptors TIR1, AFB2, and AFB3, the authors were able to provide further strong evidence for the existence of an auxin signaling pathway that acts independently of transcriptional regulation (44).\\nIn comparison to larger perfusion systems, the small chamber volumes of microdevices allow for a reduced consumption of applied compounds and a more rapid and uniform treatment of the specimen. However, specialized channel architectures can also enable local or asymmetric stimulation of specific parts of tissues or single cells and thereby facilitate studies on mechanisms of stimulus perception, local and systemic adaptive responses, and chemotaxis. An early pioneering work offered the possibility to apply an auxin treatment perpendicular to the root axis, with the stimulation stream focused by multilaminar flow and thereby locally inducing outgrowth of root hairs (100). To investigate pollen tube chemotaxis toward female gametophytes, two studies examined the response to ovule-derived attractants by offering growing pollen tubes a choice to grow toward an empty chamber or one filled with ovules (68,173). Instead of perpendicular stimulation, asymmetric conditions can also be generated in parallel to the specimen's growth axis. A device for pollen tubes allowed researchers to subject a growing cell to asymmetric growth conditions, revealing that growth direction follows the optimal calcium concentration in the environment (135). Asymmetric conditions are also highly relevant for studies on root development, as environmental heterogeneity is a hallmark of soil. The dual-flow-RootChip device used a micropillar array to guideArabidopsisroot growth in the middle of the observation chamber and took advantage of two laminar streams of the medium separated by the root in the center (147). Experiments involving the asymmetric availability of inorganic phosphate on either side of the root (2.4 mM versus 0.01 mM) resulted in rapid, cell-autonomous stimulation of root hair growth on the inorganic-phosphate-rich side that preceded rather than followed transcriptional regulation (147). Together with the aforementioned transcription-independent response to auxin (44), these studies point to yet unknown, fast, nongenomic regulatory mechanisms of cellular growth. The unveiling of these mechanisms will greatly benefit from the ability to perform long-term live-cell imaging in microfluidic perfusion systems.\\nAnother major aim for root biology is to understand biotic interactions with other organisms in the rhizosphere.Lab-on-a-chip-based devices offer solutions to accomplish live imaging of the infection and colonization of roots by symbiotic or pathogenic microbiota (146). However, very few studies have so far explored the potential of plant–microbe or plant–herbivore interactions with lab-on-a-chip-based devices (3,98,114). The Tracking Root Interactions System enabled, for example, the study of the preferential association ofBacillus subtiliswith the elongation zones of roots of differentArabidopsisgenotypes in a double-chamber device housing two parallel roots that were separated by a perforated barrier, allowing for free movement of bacteria (98).\\nWhile chemical conditions and biotic interactions mainly influence root growth and development at the metabolic level, mechanical forces exerted by and on the root play a more direct role in root growth rate and direction and, as a consequence, root system architecture (37). To explore the intrinsic forces exerted by growing plant cells on their environment, several strategies have been developed in microdevices that take advantage of known physical properties of PDMS. Using the deformation of sidewalls in narrow growth channels as readout, researchers determined a dilating pressure ofCamelliapollen tubes of 0.15 mPa (134). Alternative approaches used to determine growth force in pollen tubes were the application of capacitive force sensors (16) or microcantilevers at the end of growth channels that became deflected by the tube growing against them (51). Furthermore, when growing pollen tubes against cantilevers, the authors observed frequent bursting of the pollen tubes when the cantilevers approached maximum deflection, which indicated that the reduced growth rate caused by the counterforce of the cantilever induced a cellular compensation mechanism that led to a weakening of the apical cell wall (51). A cantilever-based approach had also been applied to measure the growth force ofA. thaliana,Nicotiana benthamiana, andCapsella rubellaroots in a microdevice, which yielded species-specific values (65,113).\\nBeyond the intrinsic forces exerted by plant cells during growth, extrinsic forces play a significant role in modulating growth behavior. To understand how extrinsic mechanical forces are perceived by pollen tubes, investigators have developed microdevices such as TipChip that include obstacles and wavy channel architectures for pollen tubes (2,50). Using devices with specialized compression valves that crossed the observation channels and allowed for actuated mechanical stimulation of pollen tubes enabled the quantification of mechanical properties of tip-growing cells and the demonstration of the interplay between turgor pressure and cell wall stiffness during tip growth (69). In another study, pollen tubes and root hairs were forced to grow through gaps with a width of less than one-tenth of the cell's normal diameter (172), revealing a surprising capability of tip-growing cells to overcome such obstacles without stalling growth or bursting.\\nThough powerful, lab-on-a-chip-based devices do not reach the level of structural complexity attained by soil on roots. Synthetic, particle-rich substrates like transparent soil, consisting of irregularly shaped polymer particles with the same refractive index as water, have been shown to produce similar root system architectures as soil or sand (36). Since the material is virtually invisible, it represents a promising way for root phenotyping at microscopic detail, taking soil structure and other environmental cues into account (109). Great potential for new discoveries lies in the vast possibilities to create synthetic environments that combine multiple iterations of the above-mentioned features and thereby to model ecosystems and unveil trade-off and decision-making mechanisms during the growth of plant cells and the development of plant organs (142,146).\\nAccurate phenotyping of agronomic traits is critical for increased crop production and the development of new plant varieties. While the affordability and efficiency of genotyping are increasing, the cost and efficiency of phenotyping remain bottlenecks. Manual phenotyping at high spatial and temporal resolution is impractical and time-consuming (47), motivating the development of automated, imaging-based phenotyping approaches aimed at quantifying roots and shoots.\\nPhenotyping methods for root systems can be divided into two broad classes: noninvasive and destructive. While destructive methods are still the primary means for capturing images of field-grown root systems, noninvasive methods for plants grown in solid substrates have become increasingly available for greenhouse and growth-chamber-grown plants. The improved phenotyping capabilities afforded by noninvasive methods are necessary to accurately quantify dynamic root traits for crop improvement. There is no single ideal solution for macroscopic root imaging, and the choice of platform depends on the biological question, experimental parameters, and laboratory resource constraints. In addition, each imaging approach requires significant image postprocessing and analysis, with specific software being developed for many methods.\\n2D noninvasive root phenotyping methods include growth on agar plates (102) or in gellan gum (74), germination paper (rhizoslides) (89) or pouches (155), or nylon fabric in hydroponics (rhizoponics) (99). In these methods, roots are generally imaged with either a flatbed scanner or a digital camera. The major advantages of these approaches are that they provide root growth data at low cost, are accessible to most laboratories, and are relatively high throughput. Some (e.g., growth in gellan gum) can also be converted into 3D information (24,154). Using this approach, 89 quantitative trait loci for 25 2D and 3D root traits were identified in a rice recombinant inbred line population grown in gellan gum, which provide breeding targets for specific root architecture traits (154). A drawback of these methods is that the use of artificial media can impact the root architecture, and thus extrapolation to plants grown in soil is challenging. 2D methods that use soil or soil-like substrates include the clear pot method (125), which images roots that grow at the periphery of soil-filled containers; growth in rhizoboxes such as Glo-Roots (123), where plants expressing luciferase reporters are grown in soil between polycarbonate plastic plates and imaged in a luminescence imaging system; and transparent soil methods (36,94).\\nOne of the biggest challenges in root phenotyping is the nondestructive 3D imaging of soil-grown roots. Recent advances in tomographic methods make them a promising choice for nondestructive imaging in three dimensions. In tomographic imaging methods, an object-penetrating wave or beam creates 2D image cross sections that are stitched together to generate 3D images. MRI, X-ray μCT, and PET are three of the more common tomographic methods used for noninvasive 3D root phenotyping in soil (Figure 5b). The major advantage of these methods is their ability to view root system architecture or function nondestructively in native environments.\\n\\nFigure 5Click to view\\n\\n\\nMRI uses nuclear magnetic resonance to detect signals from atomic nuclei, usually1H (protons) in plants. Magnetic fields are used to manipulate the nuclear magnetic moment or rotational spin of protons. Ultimately this information is processed into 3D image data sets. MRI has been used to examine root–nematode interactions (66), storage roots (101), and cereal root development (159), but it can also be used to view the distribution of root water uptake (149) and mobility (130,136,171). MRI is sensitive to the soil substrate, and distinguishing nuclear magnetic resonance signals originating from the water in soil versus the water in roots can be difficult. These challenges can be overcome by adjusting the experimental and acquisition parameters on the MRI to increase root-to-soil contrast (129). Although MRI imaging time is long and thus not suitable for large populations, under the right experimental conditions the contrast between root and soil is sufficiently robust so that image processing is relatively straightforward (159).\\nIn recent years, X-ray μCT has moved to the forefront for noninvasive 3D imaging in soil. As X-rays pass through a sample, a portion of the X-rays are absorbed, and X-ray intensity decreases. This decrease in intensity is known as attenuation and is a function of the density of the sample (95). One major challenge in X-ray μCT is that the attenuation values of roots and soil overlap, which creates significant challenges for data analysis (156), and attenuation values may vary in different zones of the root. There is also a trade-off between sample size and image resolution, but recent improvements in X-ray μCT scanners and image processing algorithms have significantly improved the methodology (104). X-ray μCT has been used to examine the impact of soil and substrate density on root growth and architecture (15,128), root–root interactions (96), potato tuber growth (116), and root–fungal interaction (151). This technology also enhanced our understanding of lateral root development in soil. Using X-ray μCT, Orman-Ligeza et al. (110) found that maize and barley roots suppress lateral root formation when roots grow through air spaces in soil and are not in contact with water. This observation led to additional experiments that showed that transient abscisic acid application suppressed lateral root formation by altering lateral root prebranch sites near the root tip.\\nThere appear to be minimal deleterious effects of X-ray μCT at low total dosages (<30 Gy) on root growth in most plants or on microbial population biomass (11,45,175), but dosage effects on plant growth vary by plant species (reviewed in175). Another type of X-ray CT, synchrotron X-ray computed tomography, uses high-intensity X-rays from a synchrotron to noninvasively view roots. This method offers micrometer-level resolution and is useful for noninvasively viewing root cellular anatomy. Synchrotron X-ray computed tomography has been used to assess root hydraulics at the cellular level (27) and root hair–soil interactions (81).\\nUnlike MRI and X-ray μCT, PET is used not for observing root structures, but for investigating their function. PET quantifies the distribution of a positron-emitting radioisotope (such as11C or13N) in a plant over time with spatial resolution of approximately 1–5 mm. This allows observation of the kinetics of nutrient uptake, transport, and movement throughout the plant in three dimensions. Plant PET scanners (7,75,166) have been used to examine photoassimilate transport and allocation in sorghum (78) and the impact of root herbivory on auxin biosynthesis and flux in maize roots (121). By measuring the time of arrival of carbon-11-labeled IAA in two different regions of maize roots, auxin transport speed was shown to decrease in maize roots after Western corn rootworm attack (121). PET has also been used in conjunction with MRI or X-ray μCT for structure-function studies (49,75). While PET is a very good tool for addressing questions regarding root function, it is limited by high cost, low accessibility, and low throughput.\\nFor many researchers, nondestructive root imaging in the field is the ultimate goal, but methods for this have yet to be fully realized. Current methods include rhizotrons and minirhizotrons and ground-penetrating radar. Rhizotrons are similar to underground walk-in chambers with windows that look at the soil (103), while minirhizotrons are transparent tubes that can be inserted into the soil at various places and angles throughout a field. Rhizotrons and minirhizotrons allow successive measurements of the same roots over time and are well-suited to investigate questions about fine roots (19,39,76,165) and nodules. Minirhizotron imaging was used to identify the effects of high carbon dioxide concentration (CO2) and reduced precipitation on nodule distribution and number on field-grown soybean roots (56). This work demonstrated the complex, interactive effects of high CO2and reduced precipitation, which caused an increase in nodules per length of root and volume of soil. Surprisingly, given the increase in nodules, soybean leaves grown in high CO2and reduced precipitation did not have increased nitrogen on a leaf-mass basis. This may have been because the increased nodules were distributed on roots found in shallow, drier soil, which may have reduced the N2-fixing activity of each nodule (56). One drawback of rhizotrons and minirhizotrons is that they capture only a small portion of the root system and do not provide a 3D view. In contrast, ground-penetrating radar uses high-frequency radio waves to obtain images of belowground structures. Ground-penetrating radar is high cost and low resolution and has limited use in crop systems. To date, it has been used to image large tree roots (5,150), cassava tubers (29), winter wheat, and energy cane (91).\\nWhile many of the tomography approaches used for belowground imaging have also been used for aboveground imaging, the size of the instruments has limited these analyses to lab- or greenhouse-based experiments. In contrast to belowground imaging, the goal of nondestructive approaches in the field has proven more attainable for aboveground traits. Various field-based phenotyping platforms have partially automated the process of collecting field data, providing a means for rapid phenotyping to identify target plant traits (169). The challenge for aboveground field-based plant imaging has been the choice of imaging approach and the method of deploying that imaging platform in the field.\\nAs with root imaging, there is no single ideal solution for aboveground macroscopic imaging, and the approach depends on the biological question, experimental parameters, and laboratory resource constraints. The simplest approach to aboveground phenotyping is the acquisition of 2D images obtained from the visible light spectrum [red, green, blue (RGB) cameras] and near-infrared light spectrum (Figure 5) (40). These methods are reliable for detecting discoloration and thermal properties of individual plants (90) and can be used to extract measures of plant phenology and other morphological traits (60).\\nOther 2D imaging approaches take advantage of the spectral properties of plant tissues via imaging spectroscopy (e.g., multispectral andhyperspectral). Imaging spectroscopy combines digital imaging and spectroscopy to provide spatial maps of reflectance for a given wavelength of light, often visualized as a heatmap (Figure 5). Multispectral cameras acquire data from discrete and defined wide bandwidths (usually 5 to 12 bands), whereas hyperspectral cameras are capable of capturing thousands of narrow 5–20-nm spectral bands (1). Hyperspectral cameras provide higher resolution spectral data than multispectral cameras, but they are significantly more expensive, and much of the additional wavelength data has yet to be related to specific plant traits. In both systems, maintaining the appropriate calibration is critical for data quality and consistency of spectral measurements (90). Imaging spectroscopy has enabled the quantification of agronomically relevant plant traits (169). For example, the normalized difference vegetation index, which quantifies the amount of green vegetation (157), and photochemical reflectance index, which quantifies the photosynthetic efficiency of plants (48), were established to relate multispectral values to agronomic traits.\\nApproaches for the 3D reconstruction and quantification of aerial tissues include ranging sensors,time-of-flight (ToF) cameras, andstereography(Figure 5). These imaging approaches, often representing data in the form of point clouds, are gaining popularity for their ability to directly measure plant geometry via remote sensing. Ranging sensors typically emit either sound or light and measure the time for an accompanying detector to receive a reflection, which makes direct observations of plant geometry possible without physical contact. Two examples of ranging sensors include ultrasonic andLiDAR. Ultrasonic sensors are susceptible to diffusion even over short distances, so they are mainly used for overall plant height measurements (42), whereas LiDAR can resolve submillimeter geometries at high temporal resolution (152). Ranging approaches can generate dense 3D reconstructions of an entire field. However, the data sets are often sizable and require significant postprocessing, and moderately priced LiDAR devices can cost between $10,000 and $20,000. In contrast, ToF cameras use reflected light in a similar way as ranging sensors and cost significantly less but have much lower resolution. Light emitted for ToF sensing is typically in the infrared spectrum, which is directly affected by incident light, making these sensors noisy and unreliable, especially in areas with high levels of sunlight penetration. Despite the drawbacks, ToF has been shown to be a practical method for field-based data collection (83). Finally, stereo cameras, which are in the same price range as ToF cameras, bridge the gap between visual and 3D imaging. Stereo cameras are composed of two cameras separated by a known distance, which allows the triangulation of object distance based on the perceived image shift between the two cameras (82). Stereo cameras are useful because they are robust in well-lit areas and have significantly higher resolution when compared to ToF cameras; however, they suffer from image correspondence errors between the two cameras. Overall, ToF cameras have been shown to have favorable results over stereo vision despite their sensitivity to ambient light (79). ToF sensors are quite promising and in intensive development for increasing the throughput of data acquisition for plant breeding.\\nImaging sensors can be mounted on different data collection platforms depending on the plant trait and resolution required. Options for deploying imaging sensors to capture stalk and leaf phenotypes at high resolution include ground mobile robots (105,174) and existing field equipment. For example, imaging sensors have been mounted on irrigation systems to reduce cost and provide high-resolution overhead imaging (61). Unmanned aerial vehicles can also be outfitted with (generally small/lightweight) sensors as an alternative, low-cost method for imaging from overhead but are subject to flight restrictions and are power and payload constrained (176). Satellite imaging is another technique for measuring RGB and near-infrared light that is cost effective for imaging large areas, although the results have relatively low temporal and spatial resolution (106). The choice of data collection platform depends primarily on the target phenotype and resolution.\\nAdvances in macroscopic plant imaging techniques have been significant; however, major knowledge gaps have to be filled before we are able to bridge the gap between genotype and phenotype. Challenges in root phenotyping include nondestructively imaging root systems in the field. Challenges in shoot phenotyping include the advancement of dynamic deployment platforms. For both types of phenotyping, image analysis and trait data extraction (although not discussed here) remain bottlenecks. Ultimately, tying these traits back to plant function and crop improvement remains at the forefront of motivation for macroscopic plant imaging.\\nAbove we describe different imaging modalities used to collect both microscopic and macroscopic data on plant cells, tissues, organs, and populations. Images from a microscopic level can provide information about the mode of action of proteins, cell-to-cell communication, and dynamical cellular processes. Mesoscopic imaging informs us about the dynamics of cell behavior in tissues and organs in their environment. On a macroscopic level, images can yield morphometric phenotypic data, such as leaf size and root architecture, but also intrinsic plant traits such as chlorophyll content. The collection of images obtained across these different scales generates large data sets for which meta-analysis is the key next step. To enable meta-analysis, we need to further develop centralized databases to store imaging data and develop query tools to extract data from these images to optimally take advantage of available imaging resources. Future work should focus on employing computational methods such as machine learning, deep learning, and neural networks, which can extract and integrate large quantities of information from these collections of images. Additionally, other large-scale sources of data such as cell-type specific and/or organism-wide transcriptomics and proteomics should be integrated with these imaging data to allow scientists to connect morphological phenotypes with molecular phenotypes. As our biological models continue to grow and integrate processes from different temporal and spatial scales, the sustained development and refinement of these multiscale imaging methods are necessary.\\n\\n\\nThe authors are not aware of any affiliations, memberships, funding, or financial holdings that might be perceived as affecting the objectivity of this review.\\nI.B., N.M.C., L.V.d.B., and R.S. contributed to the writing of the section titled FRET-FLIM and Scanning FCS as Tools to Determine Protein Dynamics at Cellular Resolution, of which I.B. wrote the FRET-FLIM paragraphs and N.M.C., L.V.d.B., and R.S. wrote the scanning FCS paragraphs. A.M. contributed to the writing of the section titled Using Light Sheet Fluorescence Microscopy to Understand the Dynamics Underlying Plant Growth. M.G. and G.G. contributed to the writing of the section titled Microdevices for Imaging Growth and Organ Development. A.S., H.G.T., A.S.I.P., and E.E.S. contributed to the writing of the section titled Nondestructive Imaging Methods to Quantify Below- and Aboveground Macroscopic Plant Traits. All authors contributed to the writing of the introduction and conclusions and to the design of the figures.\\nWe apologize to all colleagues whose work could not be included in this review due to space limitations. We thank Lindsay Erndwein of Illustrations by LindZeaMays for illustrating the figures of this article. Research in the Sozzani lab was provided by the National Science Foundation (NSF) (CAREER MCB-1453130), NSF/Biotechnology and Biological Sciences Research Council (BBSRC) (NSF MCB 1517058), and the North Carolina Agricultural & Life Sciences Research Foundation in the College of Agriculture and Life Sciences at North Carolina State University (to R.S.). Research in the Maizel lab is supported by DFG FOR2581, the Land Baden-Württemberg, the Chica und Heinz Schaller Stiftung, the Cluster of Excellence CellNetworks, and the Boehringer Ingelheim Stiftung Plus3 program. E.E.S. is supported by grants from the Delaware Biosciences Center for Advanced Technology, the University of Delaware Research Foundation, and the Thomas Jefferson Fund. A.S. is supported by a University of Delaware Graduate Student Fellowship. Research in the A.S.I.P. lab is supported by grants from the Foundation for Food and Agriculture Research (FFAR), the NSF, Purdue University start-up funds, and USDA Hatch Funds (IND011293). G.G. is supported by research group funds from the Cluster of Excellence CellNetworks and a grant from the Deutsche Forschungsgemeinschaft (GR 4559/3-1). I.B. was supported by King Abdullah University of Science and Technology (KAUST).\\nMulti-sampleArabidopsisGrowth and Imaging Chamber (MAGIC) for the ZEISS light sheet Z.1 microscope:https://www.youtube.com/watch?v=spcUzefr35U; shows the preparation ofArabidopsissamples for long-term imaging in the MAGIC\\nThe Root Array:https://www.youtube.com/watch?v=Q9H3F94xHPg; describes a microfluidics device, developed by the Benfey Lab at Duke University, in which plants can be grown and their roots imaged by confocal microscopy over time and without manual intervention; this device, the Root Array, allows for high-throughput, high-resolution data acquisition, making it an important tool for analyzing dynamic gene expression in a living organ\\nPlant Image Analysis:https://quantitative-plant.org; maintained by Dr. Guillaume Lobet, provides an excellent resource for image analysis software\\nLiterature Cited\\nData & Media loading...\\nLiterature Cited\\n\\n\\n\""
      ]
     },
     "execution_count": 22,
     "metadata": {},
     "output_type": "execute_result"
    }
   ],
   "source": [
    "df_ar_plant_biology.at[87, 'Text']"
   ]
  },
  {
   "cell_type": "markdown",
   "id": "67d55358-33a0-4796-87c6-50ca4177fc6e",
   "metadata": {},
   "source": [
    "### Exporting to a file"
   ]
  },
  {
   "cell_type": "code",
   "execution_count": 23,
   "id": "25ecc560-1829-44f0-805e-2f57137fa6cd",
   "metadata": {},
   "outputs": [],
   "source": [
    "df_ar_plant_biology.to_json(f\"{output_directory}/ar_plant_biology.jsonl\", orient='records', lines=True)"
   ]
  },
  {
   "cell_type": "code",
   "execution_count": null,
   "id": "ec33427e-bb40-46cf-a1a4-8b2d101bddf7",
   "metadata": {},
   "outputs": [],
   "source": []
  }
 ],
 "metadata": {
  "kernelspec": {
   "display_name": "Python 3 (ipykernel)",
   "language": "python",
   "name": "python3"
  },
  "language_info": {
   "codemirror_mode": {
    "name": "ipython",
    "version": 3
   },
   "file_extension": ".py",
   "mimetype": "text/x-python",
   "name": "python",
   "nbconvert_exporter": "python",
   "pygments_lexer": "ipython3",
   "version": "3.12.3"
  }
 },
 "nbformat": 4,
 "nbformat_minor": 5
}
