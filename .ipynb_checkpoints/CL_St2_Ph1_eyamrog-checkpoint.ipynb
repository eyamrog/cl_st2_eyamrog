{
 "cells": [
  {
   "cell_type": "markdown",
   "id": "810d9f10-ec19-4b09-8f90-e983e460b319",
   "metadata": {},
   "source": [
    "<center>\n",
    "<img src=\"https://laelgelcpublic.s3.sa-east-1.amazonaws.com/lael_50_years_narrow_white.png.no_years.400px_96dpi.png\" width=\"300\" alt=\"LAEL 50 years logo\">\n",
    "<h3>APPLIED LINGUISTICS GRADUATE PROGRAMME (LAEL)</h3>\n",
    "</center>\n",
    "<hr>"
   ]
  },
  {
   "cell_type": "markdown",
   "id": "888c2c96-2fc3-4a1a-995b-c388036a2a15",
   "metadata": {},
   "source": [
    "# Corpus Linguistics - Study 2 - Phase 1 - eyamrog"
   ]
  },
  {
   "cell_type": "markdown",
   "id": "c2b2a221-54af-4c1c-a7fd-c80cda278dcc",
   "metadata": {},
   "source": [
    "The aim of this phase is to web scrape the archive of mainstream journals in the areas of knowledge targeted in this study."
   ]
  },
  {
   "cell_type": "markdown",
   "id": "a685d8b0-7715-45a6-9489-2d3db9b346c8",
   "metadata": {},
   "source": [
    "## Required Python packages"
   ]
  },
  {
   "cell_type": "markdown",
   "id": "b526a82b-22a6-4d28-afa2-eb6e7bcca4fb",
   "metadata": {},
   "source": [
    "- beautifulsoup4\n",
    "- lxml\n",
    "- pandas\n",
    "- requests\n",
    "- tqdm"
   ]
  },
  {
   "cell_type": "markdown",
   "id": "aa922755-c4d6-4008-9aad-d35e33b18ed7",
   "metadata": {},
   "source": [
    "## Importing the required libraries"
   ]
  },
  {
   "cell_type": "code",
   "execution_count": 1,
   "id": "182dbbab-65ee-4695-a418-3e9d9d8599e8",
   "metadata": {},
   "outputs": [],
   "source": [
    "import requests\n",
    "from bs4 import BeautifulSoup\n",
    "import re\n",
    "import pandas as pd\n",
    "import os\n",
    "import sys\n",
    "from tqdm import tqdm"
   ]
  },
  {
   "cell_type": "markdown",
   "id": "ef3ad412-2346-43d3-8607-08705487f1b2",
   "metadata": {},
   "source": [
    "## Defining input variables"
   ]
  },
  {
   "cell_type": "code",
   "execution_count": 2,
   "id": "a7657874-dc0a-4a7b-ae4b-bb3ca3fd7fa0",
   "metadata": {},
   "outputs": [],
   "source": [
    "input_directory = 'cl_st2_input_eyamrog'\n",
    "output_directory = 'cl_st2_ph1_eyamrog'"
   ]
  },
  {
   "cell_type": "markdown",
   "id": "d32b4a24-8a37-4302-9c3e-790aa6dee914",
   "metadata": {},
   "source": [
    "## Creating output directory"
   ]
  },
  {
   "cell_type": "code",
   "execution_count": 3,
   "id": "5dce68e3-44e7-4a7e-bc25-73c21ca6fbcb",
   "metadata": {},
   "outputs": [
    {
     "name": "stdout",
     "output_type": "stream",
     "text": [
      "Output directory already exists.\n"
     ]
    }
   ],
   "source": [
    "# Check if the output directory already exists. If it does, do nothing. If it doesn't exist, create it.\n",
    "if os.path.exists(output_directory):\n",
    "    print('Output directory already exists.')\n",
    "else:\n",
    "    try:\n",
    "        os.makedirs(output_directory)\n",
    "        print('Output directory successfully created.')\n",
    "    except OSError as e:\n",
    "        print('Failed to create the directory:', e)\n",
    "        sys.exit(1)"
   ]
  },
  {
   "cell_type": "markdown",
   "id": "6b8c5274-7933-44ef-a148-d1aece85cf52",
   "metadata": {},
   "source": [
    "## Inspecting the articles of the `chatgpt_erpp_pp` corpus per area of knowledge"
   ]
  },
  {
   "cell_type": "markdown",
   "id": "572549d6-3221-4fb7-916b-b3e78c2851f4",
   "metadata": {},
   "source": [
    "### Importing the data into a DataFrame"
   ]
  },
  {
   "cell_type": "code",
   "execution_count": 4,
   "id": "bb7c9f4b-6de3-48ae-a018-646361dbb8a2",
   "metadata": {},
   "outputs": [],
   "source": [
    "df_scielo_preprint_preChatGPT_en = pd.read_json(f'{input_directory}/scielo_chatgpt_erpp_pp.jsonl', lines=True)"
   ]
  },
  {
   "cell_type": "code",
   "execution_count": 5,
   "id": "52711d2e-da1e-4b6e-90e5-3c108a038e44",
   "metadata": {},
   "outputs": [
    {
     "data": {
      "text/plain": [
       "Title                    object\n",
       "URL                      object\n",
       "Authors                  object\n",
       "Published                object\n",
       "PDF Language             object\n",
       "PDF URL                  object\n",
       "Submitted                 int64\n",
       "Posted                    int64\n",
       "Text                     object\n",
       "Text ID                  object\n",
       "Area of Knowledge        object\n",
       "Text Paragraphs          object\n",
       "Text Paragraphs Count     int64\n",
       "Text ChatGPT             object\n",
       "dtype: object"
      ]
     },
     "execution_count": 5,
     "metadata": {},
     "output_type": "execute_result"
    }
   ],
   "source": [
    "df_scielo_preprint_preChatGPT_en.dtypes"
   ]
  },
  {
   "cell_type": "code",
   "execution_count": 6,
   "id": "f5d59024-5240-42a8-a3e2-5b741d78d505",
   "metadata": {},
   "outputs": [],
   "source": [
    "df_scielo_preprint_preChatGPT_en['Submitted'] = pd.to_datetime(df_scielo_preprint_preChatGPT_en['Submitted'], unit='ms')\n",
    "df_scielo_preprint_preChatGPT_en['Posted'] = pd.to_datetime(df_scielo_preprint_preChatGPT_en['Posted'], unit='ms')"
   ]
  },
  {
   "cell_type": "code",
   "execution_count": 7,
   "id": "c324b187-92fa-4101-bdd9-b99170fb75b5",
   "metadata": {},
   "outputs": [
    {
     "data": {
      "text/html": [
       "<div>\n",
       "<style scoped>\n",
       "    .dataframe tbody tr th:only-of-type {\n",
       "        vertical-align: middle;\n",
       "    }\n",
       "\n",
       "    .dataframe tbody tr th {\n",
       "        vertical-align: top;\n",
       "    }\n",
       "\n",
       "    .dataframe thead th {\n",
       "        text-align: right;\n",
       "    }\n",
       "</style>\n",
       "<table border=\"1\" class=\"dataframe\">\n",
       "  <thead>\n",
       "    <tr style=\"text-align: right;\">\n",
       "      <th></th>\n",
       "      <th>Title</th>\n",
       "      <th>URL</th>\n",
       "      <th>Authors</th>\n",
       "      <th>Published</th>\n",
       "      <th>PDF Language</th>\n",
       "      <th>PDF URL</th>\n",
       "      <th>Submitted</th>\n",
       "      <th>Posted</th>\n",
       "      <th>Text</th>\n",
       "      <th>Text ID</th>\n",
       "      <th>Area of Knowledge</th>\n",
       "      <th>Text Paragraphs</th>\n",
       "      <th>Text Paragraphs Count</th>\n",
       "      <th>Text ChatGPT</th>\n",
       "    </tr>\n",
       "  </thead>\n",
       "  <tbody>\n",
       "    <tr>\n",
       "      <th>0</th>\n",
       "      <td>(Fern flora of Viçosa, Minas Gerais State, Bra...</td>\n",
       "      <td>https://preprints.scielo.org/index.php/scielo/...</td>\n",
       "      <td>Nelson Túlio Lage Pena, Pedro Bond Schwartsburd</td>\n",
       "      <td>Submitted 11/22/2022 - Posted 11/23/2022</td>\n",
       "      <td>PDF</td>\n",
       "      <td>https://preprints.scielo.org/index.php/scielo/...</td>\n",
       "      <td>2022-11-22</td>\n",
       "      <td>2022-11-23</td>\n",
       "      <td>Publication status: Preprint has been publishe...</td>\n",
       "      <td>t000000</td>\n",
       "      <td>Biological Sciences</td>\n",
       "      <td>(Fern flora of Viçosa, Minas Gerais State, Bra...</td>\n",
       "      <td>29</td>\n",
       "      <td>In this research article focusing on the fern ...</td>\n",
       "    </tr>\n",
       "    <tr>\n",
       "      <th>1</th>\n",
       "      <td>Assembling the perfect bacterial genome using ...</td>\n",
       "      <td>https://preprints.scielo.org/index.php/scielo/...</td>\n",
       "      <td>Ryan R. Wick, Louise M. Judd, Kathryn E. Holt</td>\n",
       "      <td>Submitted 11/11/2022 - Posted 11/11/2022</td>\n",
       "      <td>PDF</td>\n",
       "      <td>https://preprints.scielo.org/index.php/scielo/...</td>\n",
       "      <td>2022-11-11</td>\n",
       "      <td>2022-11-11</td>\n",
       "      <td>Publication status: Preprint has been publishe...</td>\n",
       "      <td>t000001</td>\n",
       "      <td>Biological Sciences</td>\n",
       "      <td>A perfect bacterial genome assembly is one whe...</td>\n",
       "      <td>31</td>\n",
       "      <td>A flawless bacterial genome assembly is charac...</td>\n",
       "    </tr>\n",
       "    <tr>\n",
       "      <th>2</th>\n",
       "      <td>ON METHODOLOGY AND METHODS FOR ANALYSING CLASS...</td>\n",
       "      <td>https://preprints.scielo.org/index.php/scielo/...</td>\n",
       "      <td>Leonardo Goncalves Lago</td>\n",
       "      <td>Submitted 11/10/2022 - Posted 11/16/2022</td>\n",
       "      <td>PDF</td>\n",
       "      <td>https://preprints.scielo.org/index.php/scielo/...</td>\n",
       "      <td>2022-11-10</td>\n",
       "      <td>2022-11-16</td>\n",
       "      <td>Publication status: Preprint has been publishe...</td>\n",
       "      <td>t000002</td>\n",
       "      <td>Applied Social Sciences</td>\n",
       "      <td>This article presents a theoretical work whose...</td>\n",
       "      <td>65</td>\n",
       "      <td>This article presents a theoretical work with ...</td>\n",
       "    </tr>\n",
       "    <tr>\n",
       "      <th>3</th>\n",
       "      <td>MOBILIZING LINGUISTIC AND SEMIOTIC RESOURCES, ...</td>\n",
       "      <td>https://preprints.scielo.org/index.php/scielo/...</td>\n",
       "      <td>Estêvão Cabral, Marylin Martin-Jones</td>\n",
       "      <td>Submitted 11/07/2022 - Posted 11/07/2022</td>\n",
       "      <td>PDF</td>\n",
       "      <td>https://preprints.scielo.org/index.php/scielo/...</td>\n",
       "      <td>2022-11-07</td>\n",
       "      <td>2022-11-07</td>\n",
       "      <td>Publication status: Preprint has been submitte...</td>\n",
       "      <td>t000003</td>\n",
       "      <td>Linguistic, literature and arts</td>\n",
       "      <td>This paper is based on research of a socioling...</td>\n",
       "      <td>58</td>\n",
       "      <td>This paper presents a sociolinguistic and ethn...</td>\n",
       "    </tr>\n",
       "    <tr>\n",
       "      <th>4</th>\n",
       "      <td>PORTUGUESE AO PÉ DO BERIMBAU: ON CAPOEIRA AS A...</td>\n",
       "      <td>https://preprints.scielo.org/index.php/scielo/...</td>\n",
       "      <td>Mike Baynham, Jolana Hanusova</td>\n",
       "      <td>Submitted 11/04/2022 - Posted 11/04/2022</td>\n",
       "      <td>PDF</td>\n",
       "      <td>https://preprints.scielo.org/index.php/scielo/...</td>\n",
       "      <td>2022-11-04</td>\n",
       "      <td>2022-11-04</td>\n",
       "      <td>Publication status: Preprint has been submitte...</td>\n",
       "      <td>t000004</td>\n",
       "      <td>Linguistic, literature and arts</td>\n",
       "      <td>From its historical origins as a resistant and...</td>\n",
       "      <td>123</td>\n",
       "      <td>Originating as a defiant and violently suppres...</td>\n",
       "    </tr>\n",
       "    <tr>\n",
       "      <th>...</th>\n",
       "      <td>...</td>\n",
       "      <td>...</td>\n",
       "      <td>...</td>\n",
       "      <td>...</td>\n",
       "      <td>...</td>\n",
       "      <td>...</td>\n",
       "      <td>...</td>\n",
       "      <td>...</td>\n",
       "      <td>...</td>\n",
       "      <td>...</td>\n",
       "      <td>...</td>\n",
       "      <td>...</td>\n",
       "      <td>...</td>\n",
       "      <td>...</td>\n",
       "    </tr>\n",
       "    <tr>\n",
       "      <th>311</th>\n",
       "      <td>Challenges in the fight against the COVID-19 p...</td>\n",
       "      <td>https://preprints.scielo.org/index.php/scielo/...</td>\n",
       "      <td>Eduardo Alexandrino Servolo Medeiros</td>\n",
       "      <td>Submitted 04/15/2020 - Posted 04/15/2020</td>\n",
       "      <td>PDF</td>\n",
       "      <td>https://preprints.scielo.org/index.php/scielo/...</td>\n",
       "      <td>2020-04-15</td>\n",
       "      <td>2020-04-15</td>\n",
       "      <td>*Corresponding author. E-mail: edubalaccih@gma...</td>\n",
       "      <td>t000311</td>\n",
       "      <td>Health Sciences</td>\n",
       "      <td>We are living the most important pandemic in r...</td>\n",
       "      <td>9</td>\n",
       "      <td>The ongoing global pandemic, triggered by the ...</td>\n",
       "    </tr>\n",
       "    <tr>\n",
       "      <th>312</th>\n",
       "      <td>Information about the new coronavirus disease ...</td>\n",
       "      <td>https://preprints.scielo.org/index.php/scielo/...</td>\n",
       "      <td>Claudio Márcio Amaral de Oliveira  Lima</td>\n",
       "      <td>Submitted 04/13/2020 - Posted 04/13/2020</td>\n",
       "      <td>PDF</td>\n",
       "      <td>https://preprints.scielo.org/index.php/scielo/...</td>\n",
       "      <td>2020-04-13</td>\n",
       "      <td>2020-04-13</td>\n",
       "      <td>V\\nRadiol Bras. 2020 Mar/Abr;53(2):V–VI\\n0100-...</td>\n",
       "      <td>t000312</td>\n",
       "      <td>Health Sciences</td>\n",
       "      <td>Coronavirus is a zoonotic virus, an RNA virus ...</td>\n",
       "      <td>9</td>\n",
       "      <td>The coronavirus is a zoonotic RNA virus belong...</td>\n",
       "    </tr>\n",
       "    <tr>\n",
       "      <th>313</th>\n",
       "      <td>ACE2 diversity in placental mammals reveals th...</td>\n",
       "      <td>https://preprints.scielo.org/index.php/scielo/...</td>\n",
       "      <td>Bibiana Sampaio de Oliveira Fam, Pedro Vargas-...</td>\n",
       "      <td>Submitted 04/11/2020 - Posted 04/28/2020</td>\n",
       "      <td>PDF</td>\n",
       "      <td>https://preprints.scielo.org/index.php/scielo/...</td>\n",
       "      <td>2020-04-11</td>\n",
       "      <td>2020-04-28</td>\n",
       "      <td>Status: Preprint has been published in a journ...</td>\n",
       "      <td>t000313</td>\n",
       "      <td>Biological Sciences</td>\n",
       "      <td>The recent emergence of SARS-CoV-2 is responsi...</td>\n",
       "      <td>35</td>\n",
       "      <td>The recent emergence of SARS-CoV-2 has led to ...</td>\n",
       "    </tr>\n",
       "    <tr>\n",
       "      <th>314</th>\n",
       "      <td>Coronavirus 2: Analysis of Regularity of Compl...</td>\n",
       "      <td>https://preprints.scielo.org/index.php/scielo/...</td>\n",
       "      <td>Yuri Morales-López</td>\n",
       "      <td>Submitted 04/10/2020 - Posted 06/04/2020</td>\n",
       "      <td>PDF</td>\n",
       "      <td>https://preprints.scielo.org/index.php/scielo/...</td>\n",
       "      <td>2020-04-10</td>\n",
       "      <td>2020-06-04</td>\n",
       "      <td>Publication status: Preprint has been publishe...</td>\n",
       "      <td>t000314</td>\n",
       "      <td>Biological Sciences</td>\n",
       "      <td>This paper shows a technique for the detection...</td>\n",
       "      <td>15</td>\n",
       "      <td>This paper presents a technique for detecting ...</td>\n",
       "    </tr>\n",
       "    <tr>\n",
       "      <th>315</th>\n",
       "      <td>COVID-19 in Brazil: advantages of a socialized...</td>\n",
       "      <td>https://preprints.scielo.org/index.php/scielo/...</td>\n",
       "      <td>Julio Croda, Wanderson Kleber de  Oliveira, Ro...</td>\n",
       "      <td>Submitted 04/06/2020 - Posted 04/08/2020</td>\n",
       "      <td>PDF</td>\n",
       "      <td>https://preprints.scielo.org/index.php/scielo/...</td>\n",
       "      <td>2020-04-06</td>\n",
       "      <td>2020-04-08</td>\n",
       "      <td>1/6\\nRevista da Sociedade Brasileira de Medi...</td>\n",
       "      <td>t000315</td>\n",
       "      <td>Health Sciences</td>\n",
       "      <td>The outbreak of new coronavirus disease 2019 (...</td>\n",
       "      <td>21</td>\n",
       "      <td>The emergence of the novel coronavirus disease...</td>\n",
       "    </tr>\n",
       "  </tbody>\n",
       "</table>\n",
       "<p>316 rows × 14 columns</p>\n",
       "</div>"
      ],
      "text/plain": [
       "                                                 Title  \\\n",
       "0    (Fern flora of Viçosa, Minas Gerais State, Bra...   \n",
       "1    Assembling the perfect bacterial genome using ...   \n",
       "2    ON METHODOLOGY AND METHODS FOR ANALYSING CLASS...   \n",
       "3    MOBILIZING LINGUISTIC AND SEMIOTIC RESOURCES, ...   \n",
       "4    PORTUGUESE AO PÉ DO BERIMBAU: ON CAPOEIRA AS A...   \n",
       "..                                                 ...   \n",
       "311  Challenges in the fight against the COVID-19 p...   \n",
       "312  Information about the new coronavirus disease ...   \n",
       "313  ACE2 diversity in placental mammals reveals th...   \n",
       "314  Coronavirus 2: Analysis of Regularity of Compl...   \n",
       "315  COVID-19 in Brazil: advantages of a socialized...   \n",
       "\n",
       "                                                   URL  \\\n",
       "0    https://preprints.scielo.org/index.php/scielo/...   \n",
       "1    https://preprints.scielo.org/index.php/scielo/...   \n",
       "2    https://preprints.scielo.org/index.php/scielo/...   \n",
       "3    https://preprints.scielo.org/index.php/scielo/...   \n",
       "4    https://preprints.scielo.org/index.php/scielo/...   \n",
       "..                                                 ...   \n",
       "311  https://preprints.scielo.org/index.php/scielo/...   \n",
       "312  https://preprints.scielo.org/index.php/scielo/...   \n",
       "313  https://preprints.scielo.org/index.php/scielo/...   \n",
       "314  https://preprints.scielo.org/index.php/scielo/...   \n",
       "315  https://preprints.scielo.org/index.php/scielo/...   \n",
       "\n",
       "                                               Authors  \\\n",
       "0      Nelson Túlio Lage Pena, Pedro Bond Schwartsburd   \n",
       "1        Ryan R. Wick, Louise M. Judd, Kathryn E. Holt   \n",
       "2                              Leonardo Goncalves Lago   \n",
       "3                 Estêvão Cabral, Marylin Martin-Jones   \n",
       "4                        Mike Baynham, Jolana Hanusova   \n",
       "..                                                 ...   \n",
       "311               Eduardo Alexandrino Servolo Medeiros   \n",
       "312            Claudio Márcio Amaral de Oliveira  Lima   \n",
       "313  Bibiana Sampaio de Oliveira Fam, Pedro Vargas-...   \n",
       "314                                 Yuri Morales-López   \n",
       "315  Julio Croda, Wanderson Kleber de  Oliveira, Ro...   \n",
       "\n",
       "                                    Published PDF Language  \\\n",
       "0    Submitted 11/22/2022 - Posted 11/23/2022          PDF   \n",
       "1    Submitted 11/11/2022 - Posted 11/11/2022          PDF   \n",
       "2    Submitted 11/10/2022 - Posted 11/16/2022          PDF   \n",
       "3    Submitted 11/07/2022 - Posted 11/07/2022          PDF   \n",
       "4    Submitted 11/04/2022 - Posted 11/04/2022          PDF   \n",
       "..                                        ...          ...   \n",
       "311  Submitted 04/15/2020 - Posted 04/15/2020          PDF   \n",
       "312  Submitted 04/13/2020 - Posted 04/13/2020          PDF   \n",
       "313  Submitted 04/11/2020 - Posted 04/28/2020          PDF   \n",
       "314  Submitted 04/10/2020 - Posted 06/04/2020          PDF   \n",
       "315  Submitted 04/06/2020 - Posted 04/08/2020          PDF   \n",
       "\n",
       "                                               PDF URL  Submitted     Posted  \\\n",
       "0    https://preprints.scielo.org/index.php/scielo/... 2022-11-22 2022-11-23   \n",
       "1    https://preprints.scielo.org/index.php/scielo/... 2022-11-11 2022-11-11   \n",
       "2    https://preprints.scielo.org/index.php/scielo/... 2022-11-10 2022-11-16   \n",
       "3    https://preprints.scielo.org/index.php/scielo/... 2022-11-07 2022-11-07   \n",
       "4    https://preprints.scielo.org/index.php/scielo/... 2022-11-04 2022-11-04   \n",
       "..                                                 ...        ...        ...   \n",
       "311  https://preprints.scielo.org/index.php/scielo/... 2020-04-15 2020-04-15   \n",
       "312  https://preprints.scielo.org/index.php/scielo/... 2020-04-13 2020-04-13   \n",
       "313  https://preprints.scielo.org/index.php/scielo/... 2020-04-11 2020-04-28   \n",
       "314  https://preprints.scielo.org/index.php/scielo/... 2020-04-10 2020-06-04   \n",
       "315  https://preprints.scielo.org/index.php/scielo/... 2020-04-06 2020-04-08   \n",
       "\n",
       "                                                  Text  Text ID  \\\n",
       "0    Publication status: Preprint has been publishe...  t000000   \n",
       "1    Publication status: Preprint has been publishe...  t000001   \n",
       "2    Publication status: Preprint has been publishe...  t000002   \n",
       "3    Publication status: Preprint has been submitte...  t000003   \n",
       "4    Publication status: Preprint has been submitte...  t000004   \n",
       "..                                                 ...      ...   \n",
       "311  *Corresponding author. E-mail: edubalaccih@gma...  t000311   \n",
       "312  V\\nRadiol Bras. 2020 Mar/Abr;53(2):V–VI\\n0100-...  t000312   \n",
       "313  Status: Preprint has been published in a journ...  t000313   \n",
       "314  Publication status: Preprint has been publishe...  t000314   \n",
       "315    1/6\\nRevista da Sociedade Brasileira de Medi...  t000315   \n",
       "\n",
       "                   Area of Knowledge  \\\n",
       "0                Biological Sciences   \n",
       "1                Biological Sciences   \n",
       "2            Applied Social Sciences   \n",
       "3    Linguistic, literature and arts   \n",
       "4    Linguistic, literature and arts   \n",
       "..                               ...   \n",
       "311                  Health Sciences   \n",
       "312                  Health Sciences   \n",
       "313              Biological Sciences   \n",
       "314              Biological Sciences   \n",
       "315                  Health Sciences   \n",
       "\n",
       "                                       Text Paragraphs  Text Paragraphs Count  \\\n",
       "0    (Fern flora of Viçosa, Minas Gerais State, Bra...                     29   \n",
       "1    A perfect bacterial genome assembly is one whe...                     31   \n",
       "2    This article presents a theoretical work whose...                     65   \n",
       "3    This paper is based on research of a socioling...                     58   \n",
       "4    From its historical origins as a resistant and...                    123   \n",
       "..                                                 ...                    ...   \n",
       "311  We are living the most important pandemic in r...                      9   \n",
       "312  Coronavirus is a zoonotic virus, an RNA virus ...                      9   \n",
       "313  The recent emergence of SARS-CoV-2 is responsi...                     35   \n",
       "314  This paper shows a technique for the detection...                     15   \n",
       "315  The outbreak of new coronavirus disease 2019 (...                     21   \n",
       "\n",
       "                                          Text ChatGPT  \n",
       "0    In this research article focusing on the fern ...  \n",
       "1    A flawless bacterial genome assembly is charac...  \n",
       "2    This article presents a theoretical work with ...  \n",
       "3    This paper presents a sociolinguistic and ethn...  \n",
       "4    Originating as a defiant and violently suppres...  \n",
       "..                                                 ...  \n",
       "311  The ongoing global pandemic, triggered by the ...  \n",
       "312  The coronavirus is a zoonotic RNA virus belong...  \n",
       "313  The recent emergence of SARS-CoV-2 has led to ...  \n",
       "314  This paper presents a technique for detecting ...  \n",
       "315  The emergence of the novel coronavirus disease...  \n",
       "\n",
       "[316 rows x 14 columns]"
      ]
     },
     "execution_count": 7,
     "metadata": {},
     "output_type": "execute_result"
    }
   ],
   "source": [
    "df_scielo_preprint_preChatGPT_en"
   ]
  },
  {
   "cell_type": "markdown",
   "id": "9128cb78-703b-48af-ac2b-096482e0555d",
   "metadata": {},
   "source": [
    "### Agricultural Sciences"
   ]
  },
  {
   "cell_type": "code",
   "execution_count": 8,
   "id": "853b975b-feef-4d9a-9460-32be94befb17",
   "metadata": {},
   "outputs": [],
   "source": [
    "df_agricultural_sciences = df_scielo_preprint_preChatGPT_en[df_scielo_preprint_preChatGPT_en['Area of Knowledge'] == 'Agricultural Sciences']\n",
    "df_agricultural_sciences[['Text ID', 'Text Paragraphs Count', 'Title']].to_csv(f'{output_directory}/scielo_agricultural_sciences.tsv', sep='\\t', index=False, encoding='utf-8', lineterminator='\\n')"
   ]
  },
  {
   "cell_type": "markdown",
   "id": "02504bbb-1993-4fe1-9d81-65d546a38fba",
   "metadata": {},
   "source": [
    "### Applied Social Sciences"
   ]
  },
  {
   "cell_type": "code",
   "execution_count": 9,
   "id": "c29d87f7-064e-4ef8-94de-5c64c47cf6d5",
   "metadata": {},
   "outputs": [],
   "source": [
    "df_applied_social_sciences = df_scielo_preprint_preChatGPT_en[df_scielo_preprint_preChatGPT_en['Area of Knowledge'] == 'Applied Social Sciences']\n",
    "df_applied_social_sciences[['Text ID', 'Text Paragraphs Count', 'Title']].to_csv(f'{output_directory}/scielo_applied_social_sciences.tsv', sep='\\t', index=False, encoding='utf-8', lineterminator='\\n')"
   ]
  },
  {
   "cell_type": "markdown",
   "id": "1d5cba9d-b3f7-407a-85d7-f7e818dab16a",
   "metadata": {},
   "source": [
    "### Biological Sciences"
   ]
  },
  {
   "cell_type": "code",
   "execution_count": 10,
   "id": "e0af3cdd-fb3b-4d08-9454-1dc6e8b26d6b",
   "metadata": {},
   "outputs": [],
   "source": [
    "df_biological_sciences = df_scielo_preprint_preChatGPT_en[df_scielo_preprint_preChatGPT_en['Area of Knowledge'] == 'Biological Sciences']\n",
    "df_biological_sciences[['Text ID', 'Text Paragraphs Count', 'Title']].to_csv(f'{output_directory}/scielo_biological_sciences.tsv', sep='\\t', index=False, encoding='utf-8', lineterminator='\\n')"
   ]
  },
  {
   "cell_type": "markdown",
   "id": "4bd53145-05fd-4b68-a27e-215537b1a884",
   "metadata": {},
   "source": [
    "### Engineering"
   ]
  },
  {
   "cell_type": "code",
   "execution_count": 11,
   "id": "7ff96f50-d59b-45d6-8af4-c8917912d1d4",
   "metadata": {},
   "outputs": [],
   "source": [
    "df_engineering = df_scielo_preprint_preChatGPT_en[df_scielo_preprint_preChatGPT_en['Area of Knowledge'] == 'Engineering']\n",
    "df_engineering[['Text ID', 'Text Paragraphs Count', 'Title']].to_csv(f'{output_directory}/scielo_engineering.tsv', sep='\\t', index=False, encoding='utf-8', lineterminator='\\n')"
   ]
  },
  {
   "cell_type": "markdown",
   "id": "0547aa6d-592c-4d41-98fe-65dc3dfc894b",
   "metadata": {},
   "source": [
    "### Exact and Earth Sciences"
   ]
  },
  {
   "cell_type": "code",
   "execution_count": 12,
   "id": "c60ac5d6-3b73-41cf-8f0d-387deaf3fc66",
   "metadata": {},
   "outputs": [],
   "source": [
    "df_exact_earth_sciences = df_scielo_preprint_preChatGPT_en[df_scielo_preprint_preChatGPT_en['Area of Knowledge'] == 'Exact and Earth Sciences']\n",
    "df_exact_earth_sciences[['Text ID', 'Text Paragraphs Count', 'Title']].to_csv(f'{output_directory}/exact_earth_sciences.tsv', sep='\\t', index=False, encoding='utf-8', lineterminator='\\n')"
   ]
  },
  {
   "cell_type": "markdown",
   "id": "3490e22d-0879-4cf0-ac42-36236e60e38d",
   "metadata": {},
   "source": [
    "### Health Sciences"
   ]
  },
  {
   "cell_type": "code",
   "execution_count": 13,
   "id": "635f0984-f27a-4efe-9d5d-f66e093df30e",
   "metadata": {},
   "outputs": [],
   "source": [
    "df_health_sciences = df_scielo_preprint_preChatGPT_en[df_scielo_preprint_preChatGPT_en['Area of Knowledge'] == 'Health Sciences']\n",
    "df_health_sciences[['Text ID', 'Text Paragraphs Count', 'Title']].to_csv(f'{output_directory}/scielo_health_sciences.tsv', sep='\\t', index=False, encoding='utf-8', lineterminator='\\n')"
   ]
  },
  {
   "cell_type": "markdown",
   "id": "dbd0d440-673c-4013-b0a0-96af48bebcb3",
   "metadata": {},
   "source": [
    "### Human Sciences"
   ]
  },
  {
   "cell_type": "code",
   "execution_count": 14,
   "id": "6b96c3be-68e5-4ab0-96da-2f6c919cf8c5",
   "metadata": {},
   "outputs": [],
   "source": [
    "df_human_sciences = df_scielo_preprint_preChatGPT_en[df_scielo_preprint_preChatGPT_en['Area of Knowledge'] == 'Human Sciences']\n",
    "df_human_sciences[['Text ID', 'Text Paragraphs Count', 'Title']].to_csv(f'{output_directory}/scielo_human_sciences.tsv', sep='\\t', index=False, encoding='utf-8', lineterminator='\\n')"
   ]
  },
  {
   "cell_type": "markdown",
   "id": "3c877268-e3ab-47c2-aea4-94098f3e0bda",
   "metadata": {},
   "source": [
    "### Linguistics, literature and arts"
   ]
  },
  {
   "cell_type": "code",
   "execution_count": 15,
   "id": "4fdc95a9-0f92-4dcb-9d38-ebab57d180cb",
   "metadata": {},
   "outputs": [],
   "source": [
    "df_linguistics_literature_arts = df_scielo_preprint_preChatGPT_en[df_scielo_preprint_preChatGPT_en['Area of Knowledge'] == 'Linguistic, literature and arts']\n",
    "df_linguistics_literature_arts[['Text ID', 'Text Paragraphs Count', 'Title']].to_csv(f'{output_directory}/scielo_linguistics_literature_arts.tsv', sep='\\t', index=False, encoding='utf-8', lineterminator='\\n')"
   ]
  },
  {
   "cell_type": "markdown",
   "id": "1a213b03-32bb-43bf-9072-a6868ba74ad4",
   "metadata": {},
   "source": [
    "## Agricultural Sciences"
   ]
  },
  {
   "cell_type": "markdown",
   "id": "9e4bf6dd-3867-4536-968a-2d4b9c7d7971",
   "metadata": {},
   "source": [
    "### Scraping [Annual Review of Plant Biology](https://www.annualreviews.org/content/journals/arplant)"
   ]
  },
  {
   "cell_type": "markdown",
   "id": "040237f5-890e-4259-a1c8-bf1d0bc4e0bf",
   "metadata": {},
   "source": [
    "### Scraping [Nature Food](https://www.nature.com/natfood/)"
   ]
  },
  {
   "cell_type": "markdown",
   "id": "1360414b-2358-49f0-a718-3087f2685847",
   "metadata": {},
   "source": [
    "#### Capturing a few document pages for inspection"
   ]
  },
  {
   "cell_type": "code",
   "execution_count": 16,
   "id": "0b474319-2ef8-4e26-8293-fed3a37bae90",
   "metadata": {},
   "outputs": [],
   "source": [
    "url_sample_1 =  'https://www.nature.com/natfood/research-articles?searchType=journalSearch&sort=PubDate&type=article&page=1'\n",
    "url_sample_11 =  'https://www.nature.com/articles/s43016-024-01039-1'"
   ]
  },
  {
   "cell_type": "code",
   "execution_count": 17,
   "id": "3d35a5e7-42c6-4492-9c97-85d8c5eacf13",
   "metadata": {},
   "outputs": [],
   "source": [
    "document_page_sample_1 = requests.get(url_sample_1)\n",
    "document_page_sample_11 = requests.get(url_sample_11)"
   ]
  },
  {
   "cell_type": "code",
   "execution_count": 18,
   "id": "c3f42b8b-87ad-4d6b-b4f4-5ed44c9c4cb8",
   "metadata": {},
   "outputs": [],
   "source": [
    "with open(f'{output_directory}/natfood_sample1.html', 'wb') as file:\n",
    "    file.write(document_page_sample_1.content)\n",
    "\n",
    "with open(f'{output_directory}/natfood_sample11.html', 'wb') as file:\n",
    "    file.write(document_page_sample_11.content)"
   ]
  },
  {
   "cell_type": "markdown",
   "id": "35bae767-547c-4d15-b318-2482819b63cb",
   "metadata": {},
   "source": [
    "#### Scraping the articles"
   ]
  },
  {
   "cell_type": "code",
   "execution_count": 19,
   "id": "81865300-0f41-4a02-b3b0-4921170a5e9e",
   "metadata": {},
   "outputs": [],
   "source": [
    "root_url = 'https://www.nature.com'\n",
    "article_list_url = 'https://www.nature.com/natfood/research-articles?searchType=journalSearch&sort=PubDate&type=article&page='\n",
    "start_page = 1\n",
    "end_page = 15\n",
    "area_of_knowledge = 'Agricultural Sciences'"
   ]
  },
  {
   "cell_type": "code",
   "execution_count": 20,
   "id": "5e44ee87-582a-424b-ab3c-4c2142242d33",
   "metadata": {},
   "outputs": [
    {
     "name": "stderr",
     "output_type": "stream",
     "text": [
      "100%|██████████| 15/15 [00:18<00:00,  1.22s/it]\n"
     ]
    }
   ],
   "source": [
    "# Initialize an empty list to store the data\n",
    "data = []\n",
    "\n",
    "# Iterating through the URLs and using 'tqdm' for progress tracking in the range loop\n",
    "for i in tqdm(range(start_page, end_page + 1)):\n",
    "    url = f\"{article_list_url}{i}\"\n",
    "    response = requests.get(url)\n",
    "    soup = BeautifulSoup(response.content, 'lxml')\n",
    "\n",
    "    # Finding all <article> elements with the class 'u-full-height c-card c-card--flush'\n",
    "    articles = soup.find_all('article', class_='u-full-height c-card c-card--flush')\n",
    "\n",
    "    for article in articles:\n",
    "        # Extracting the title\n",
    "        title_tag = article.find('h3', class_='c-card__title').find('a')\n",
    "        title = title_tag.get_text(strip=True) if title_tag else ''\n",
    "        title_url = f\"{root_url}{title_tag.get('href')}\" if title_tag else ''\n",
    "\n",
    "        # Extracting the authors\n",
    "        author_tags = article.find_all('li', itemprop='creator')\n",
    "        authors = ', '.join(author.get_text(strip=True) for author in author_tags)\n",
    "\n",
    "        # Extracting the published date\n",
    "        date_tag = article.find('time')\n",
    "        date_published = date_tag['datetime'] if date_tag else ''\n",
    "\n",
    "        # Extracting the PDF URL\n",
    "        pdf_url = f\"{title_url}.pdf\" if title_url else ''\n",
    "\n",
    "        # Extracting the 'Open Access' label\n",
    "        open_access_tag = article.find('span', class_='u-color-open-access')\n",
    "        open_access = open_access_tag.get_text(strip=True) if open_access_tag else ''\n",
    "\n",
    "        # Appending the data to the list\n",
    "        data.append({\n",
    "            'Title': title,\n",
    "            'URL': title_url,\n",
    "            'Authors (compact list)': authors,\n",
    "            'Published': date_published,\n",
    "            'PDF URL': pdf_url,\n",
    "            'Open Access': open_access,\n",
    "            'Area of Knowledge': area_of_knowledge\n",
    "        })\n",
    "\n",
    "# Creating a DataFrame from the data\n",
    "df_nature_food = pd.DataFrame(data)"
   ]
  },
  {
   "cell_type": "code",
   "execution_count": 21,
   "id": "327a8c44-3caa-4107-8ac6-827355e7d6d2",
   "metadata": {},
   "outputs": [
    {
     "data": {
      "text/html": [
       "<div>\n",
       "<style scoped>\n",
       "    .dataframe tbody tr th:only-of-type {\n",
       "        vertical-align: middle;\n",
       "    }\n",
       "\n",
       "    .dataframe tbody tr th {\n",
       "        vertical-align: top;\n",
       "    }\n",
       "\n",
       "    .dataframe thead th {\n",
       "        text-align: right;\n",
       "    }\n",
       "</style>\n",
       "<table border=\"1\" class=\"dataframe\">\n",
       "  <thead>\n",
       "    <tr style=\"text-align: right;\">\n",
       "      <th></th>\n",
       "      <th>Title</th>\n",
       "      <th>URL</th>\n",
       "      <th>Authors (compact list)</th>\n",
       "      <th>Published</th>\n",
       "      <th>PDF URL</th>\n",
       "      <th>Open Access</th>\n",
       "      <th>Area of Knowledge</th>\n",
       "    </tr>\n",
       "  </thead>\n",
       "  <tbody>\n",
       "    <tr>\n",
       "      <th>0</th>\n",
       "      <td>Potassium limits productivity in intensive cer...</td>\n",
       "      <td>https://www.nature.com/articles/s43016-024-010...</td>\n",
       "      <td>Gonzalo Rizzo, Fahmuddin Agus, Patricio Grassini</td>\n",
       "      <td>2024-10-22</td>\n",
       "      <td>https://www.nature.com/articles/s43016-024-010...</td>\n",
       "      <td></td>\n",
       "      <td>Agricultural Sciences</td>\n",
       "    </tr>\n",
       "    <tr>\n",
       "      <th>1</th>\n",
       "      <td>Proteomic signatures of healthy dietary patter...</td>\n",
       "      <td>https://www.nature.com/articles/s43016-024-010...</td>\n",
       "      <td>Kai Zhu, Rui Li, Gang Liu</td>\n",
       "      <td>2024-09-27</td>\n",
       "      <td>https://www.nature.com/articles/s43016-024-010...</td>\n",
       "      <td></td>\n",
       "      <td>Agricultural Sciences</td>\n",
       "    </tr>\n",
       "    <tr>\n",
       "      <th>2</th>\n",
       "      <td>Localized nitrogen management strategies can h...</td>\n",
       "      <td>https://www.nature.com/articles/s43016-024-010...</td>\n",
       "      <td>Yize Liu, Minghao Zhuang, Yan Hao</td>\n",
       "      <td>2024-09-27</td>\n",
       "      <td>https://www.nature.com/articles/s43016-024-010...</td>\n",
       "      <td></td>\n",
       "      <td>Agricultural Sciences</td>\n",
       "    </tr>\n",
       "    <tr>\n",
       "      <th>3</th>\n",
       "      <td>Human activities shape important geographic di...</td>\n",
       "      <td>https://www.nature.com/articles/s43016-024-010...</td>\n",
       "      <td>Yuping Xiang, Guangliang Liu, Guibin Jiang</td>\n",
       "      <td>2024-09-26</td>\n",
       "      <td>https://www.nature.com/articles/s43016-024-010...</td>\n",
       "      <td></td>\n",
       "      <td>Agricultural Sciences</td>\n",
       "    </tr>\n",
       "    <tr>\n",
       "      <th>4</th>\n",
       "      <td>Enhanced agricultural carbon sinks provide ben...</td>\n",
       "      <td>https://www.nature.com/articles/s43016-024-010...</td>\n",
       "      <td>Stefan Frank, Andrey Lessa Derci Augustynczik,...</td>\n",
       "      <td>2024-09-23</td>\n",
       "      <td>https://www.nature.com/articles/s43016-024-010...</td>\n",
       "      <td>Open Access</td>\n",
       "      <td>Agricultural Sciences</td>\n",
       "    </tr>\n",
       "    <tr>\n",
       "      <th>...</th>\n",
       "      <td>...</td>\n",
       "      <td>...</td>\n",
       "      <td>...</td>\n",
       "      <td>...</td>\n",
       "      <td>...</td>\n",
       "      <td>...</td>\n",
       "      <td>...</td>\n",
       "    </tr>\n",
       "    <tr>\n",
       "      <th>277</th>\n",
       "      <td>Improved performance ofEimeria-infected chicke...</td>\n",
       "      <td>https://www.nature.com/articles/s43016-020-0029-6</td>\n",
       "      <td>Philip A. Lessard, Matthew Parker, R. Michael ...</td>\n",
       "      <td>2020-02-10</td>\n",
       "      <td>https://www.nature.com/articles/s43016-020-002...</td>\n",
       "      <td></td>\n",
       "      <td>Agricultural Sciences</td>\n",
       "    </tr>\n",
       "    <tr>\n",
       "      <th>278</th>\n",
       "      <td>Multidimensional characterization of global fo...</td>\n",
       "      <td>https://www.nature.com/articles/s43016-019-0012-2</td>\n",
       "      <td>James Bentham, Gitanjali M Singh, Majid Ezzati</td>\n",
       "      <td>2020-01-13</td>\n",
       "      <td>https://www.nature.com/articles/s43016-019-001...</td>\n",
       "      <td></td>\n",
       "      <td>Agricultural Sciences</td>\n",
       "    </tr>\n",
       "    <tr>\n",
       "      <th>279</th>\n",
       "      <td>Identification and stacking of crucial traits ...</td>\n",
       "      <td>https://www.nature.com/articles/s43016-019-0007-z</td>\n",
       "      <td>Ratan Chopra, Evan B. Johnson, M. David Marks</td>\n",
       "      <td>2020-01-13</td>\n",
       "      <td>https://www.nature.com/articles/s43016-019-000...</td>\n",
       "      <td></td>\n",
       "      <td>Agricultural Sciences</td>\n",
       "    </tr>\n",
       "    <tr>\n",
       "      <th>280</th>\n",
       "      <td>Shifts in national land use and food productio...</td>\n",
       "      <td>https://www.nature.com/articles/s43016-019-0011-3</td>\n",
       "      <td>Paul D. L. Ritchie, Greg S. Smith, Ian J. Bateman</td>\n",
       "      <td>2020-01-13</td>\n",
       "      <td>https://www.nature.com/articles/s43016-019-001...</td>\n",
       "      <td></td>\n",
       "      <td>Agricultural Sciences</td>\n",
       "    </tr>\n",
       "    <tr>\n",
       "      <th>281</th>\n",
       "      <td>Different uncertainty distribution between hig...</td>\n",
       "      <td>https://www.nature.com/articles/s43016-019-0004-2</td>\n",
       "      <td>Wei Xiong, Senthold Asseng, Bruno Gerard</td>\n",
       "      <td>2019-12-02</td>\n",
       "      <td>https://www.nature.com/articles/s43016-019-000...</td>\n",
       "      <td></td>\n",
       "      <td>Agricultural Sciences</td>\n",
       "    </tr>\n",
       "  </tbody>\n",
       "</table>\n",
       "<p>282 rows × 7 columns</p>\n",
       "</div>"
      ],
      "text/plain": [
       "                                                 Title  \\\n",
       "0    Potassium limits productivity in intensive cer...   \n",
       "1    Proteomic signatures of healthy dietary patter...   \n",
       "2    Localized nitrogen management strategies can h...   \n",
       "3    Human activities shape important geographic di...   \n",
       "4    Enhanced agricultural carbon sinks provide ben...   \n",
       "..                                                 ...   \n",
       "277  Improved performance ofEimeria-infected chicke...   \n",
       "278  Multidimensional characterization of global fo...   \n",
       "279  Identification and stacking of crucial traits ...   \n",
       "280  Shifts in national land use and food productio...   \n",
       "281  Different uncertainty distribution between hig...   \n",
       "\n",
       "                                                   URL  \\\n",
       "0    https://www.nature.com/articles/s43016-024-010...   \n",
       "1    https://www.nature.com/articles/s43016-024-010...   \n",
       "2    https://www.nature.com/articles/s43016-024-010...   \n",
       "3    https://www.nature.com/articles/s43016-024-010...   \n",
       "4    https://www.nature.com/articles/s43016-024-010...   \n",
       "..                                                 ...   \n",
       "277  https://www.nature.com/articles/s43016-020-0029-6   \n",
       "278  https://www.nature.com/articles/s43016-019-0012-2   \n",
       "279  https://www.nature.com/articles/s43016-019-0007-z   \n",
       "280  https://www.nature.com/articles/s43016-019-0011-3   \n",
       "281  https://www.nature.com/articles/s43016-019-0004-2   \n",
       "\n",
       "                                Authors (compact list)  Published  \\\n",
       "0     Gonzalo Rizzo, Fahmuddin Agus, Patricio Grassini 2024-10-22   \n",
       "1                            Kai Zhu, Rui Li, Gang Liu 2024-09-27   \n",
       "2                    Yize Liu, Minghao Zhuang, Yan Hao 2024-09-27   \n",
       "3           Yuping Xiang, Guangliang Liu, Guibin Jiang 2024-09-26   \n",
       "4    Stefan Frank, Andrey Lessa Derci Augustynczik,... 2024-09-23   \n",
       "..                                                 ...        ...   \n",
       "277  Philip A. Lessard, Matthew Parker, R. Michael ... 2020-02-10   \n",
       "278     James Bentham, Gitanjali M Singh, Majid Ezzati 2020-01-13   \n",
       "279      Ratan Chopra, Evan B. Johnson, M. David Marks 2020-01-13   \n",
       "280  Paul D. L. Ritchie, Greg S. Smith, Ian J. Bateman 2020-01-13   \n",
       "281           Wei Xiong, Senthold Asseng, Bruno Gerard 2019-12-02   \n",
       "\n",
       "                                               PDF URL  Open Access  \\\n",
       "0    https://www.nature.com/articles/s43016-024-010...                \n",
       "1    https://www.nature.com/articles/s43016-024-010...                \n",
       "2    https://www.nature.com/articles/s43016-024-010...                \n",
       "3    https://www.nature.com/articles/s43016-024-010...                \n",
       "4    https://www.nature.com/articles/s43016-024-010...  Open Access   \n",
       "..                                                 ...          ...   \n",
       "277  https://www.nature.com/articles/s43016-020-002...                \n",
       "278  https://www.nature.com/articles/s43016-019-001...                \n",
       "279  https://www.nature.com/articles/s43016-019-000...                \n",
       "280  https://www.nature.com/articles/s43016-019-001...                \n",
       "281  https://www.nature.com/articles/s43016-019-000...                \n",
       "\n",
       "         Area of Knowledge  \n",
       "0    Agricultural Sciences  \n",
       "1    Agricultural Sciences  \n",
       "2    Agricultural Sciences  \n",
       "3    Agricultural Sciences  \n",
       "4    Agricultural Sciences  \n",
       "..                     ...  \n",
       "277  Agricultural Sciences  \n",
       "278  Agricultural Sciences  \n",
       "279  Agricultural Sciences  \n",
       "280  Agricultural Sciences  \n",
       "281  Agricultural Sciences  \n",
       "\n",
       "[282 rows x 7 columns]"
      ]
     },
     "execution_count": 21,
     "metadata": {},
     "output_type": "execute_result"
    }
   ],
   "source": [
    "df_nature_food['Published'] = pd.to_datetime(df_nature_food['Published'])\n",
    "df_nature_food"
   ]
  },
  {
   "cell_type": "markdown",
   "id": "2de405b7-fd01-4fc8-a140-1bd6620c3f27",
   "metadata": {},
   "source": [
    "#### Selecting the 'Open Access' articles published before the advent of ChatGPT"
   ]
  },
  {
   "cell_type": "markdown",
   "id": "c80bf61d-f4ce-4216-8d4c-c1848823d7a1",
   "metadata": {},
   "source": [
    "ChatGPT was released by OpenAI on November 30, 2022."
   ]
  },
  {
   "cell_type": "code",
   "execution_count": 22,
   "id": "45a98b00-1775-4976-bdc7-ef95f7cd00d6",
   "metadata": {},
   "outputs": [
    {
     "data": {
      "text/html": [
       "<div>\n",
       "<style scoped>\n",
       "    .dataframe tbody tr th:only-of-type {\n",
       "        vertical-align: middle;\n",
       "    }\n",
       "\n",
       "    .dataframe tbody tr th {\n",
       "        vertical-align: top;\n",
       "    }\n",
       "\n",
       "    .dataframe thead th {\n",
       "        text-align: right;\n",
       "    }\n",
       "</style>\n",
       "<table border=\"1\" class=\"dataframe\">\n",
       "  <thead>\n",
       "    <tr style=\"text-align: right;\">\n",
       "      <th></th>\n",
       "      <th>Title</th>\n",
       "      <th>URL</th>\n",
       "      <th>Authors (compact list)</th>\n",
       "      <th>Published</th>\n",
       "      <th>PDF URL</th>\n",
       "      <th>Open Access</th>\n",
       "      <th>Area of Knowledge</th>\n",
       "    </tr>\n",
       "  </thead>\n",
       "  <tbody>\n",
       "    <tr>\n",
       "      <th>0</th>\n",
       "      <td>Transfer of cannabinoids into the milk of dair...</td>\n",
       "      <td>https://www.nature.com/articles/s43016-022-006...</td>\n",
       "      <td>Bettina Wagner, Pietro Gerletti, Robert Pieper</td>\n",
       "      <td>2022-11-14</td>\n",
       "      <td>https://www.nature.com/articles/s43016-022-006...</td>\n",
       "      <td>Open Access</td>\n",
       "      <td>Agricultural Sciences</td>\n",
       "    </tr>\n",
       "    <tr>\n",
       "      <th>1</th>\n",
       "      <td>A systematic scoping review of the sustainabil...</td>\n",
       "      <td>https://www.nature.com/articles/s43016-022-006...</td>\n",
       "      <td>A. Charlotte Bunge, Amanda Wood, Line J. Gordon</td>\n",
       "      <td>2022-11-03</td>\n",
       "      <td>https://www.nature.com/articles/s43016-022-006...</td>\n",
       "      <td>Open Access</td>\n",
       "      <td>Agricultural Sciences</td>\n",
       "    </tr>\n",
       "    <tr>\n",
       "      <th>2</th>\n",
       "      <td>Rights and representation support justice acro...</td>\n",
       "      <td>https://www.nature.com/articles/s43016-022-006...</td>\n",
       "      <td>Christina C. Hicks, Jessica A. Gephart, Rosamo...</td>\n",
       "      <td>2022-10-18</td>\n",
       "      <td>https://www.nature.com/articles/s43016-022-006...</td>\n",
       "      <td>Open Access</td>\n",
       "      <td>Agricultural Sciences</td>\n",
       "    </tr>\n",
       "    <tr>\n",
       "      <th>3</th>\n",
       "      <td>Global dietary quality in 185 countries from 1...</td>\n",
       "      <td>https://www.nature.com/articles/s43016-022-005...</td>\n",
       "      <td>Victoria Miller, Patrick Webb, Rubina Hakeem</td>\n",
       "      <td>2022-09-19</td>\n",
       "      <td>https://www.nature.com/articles/s43016-022-005...</td>\n",
       "      <td>Open Access</td>\n",
       "      <td>Agricultural Sciences</td>\n",
       "    </tr>\n",
       "    <tr>\n",
       "      <th>4</th>\n",
       "      <td>Food system by-products upcycled in livestock ...</td>\n",
       "      <td>https://www.nature.com/articles/s43016-022-005...</td>\n",
       "      <td>Vilma Sandström, Anna Chrysafi, Matti Kummu</td>\n",
       "      <td>2022-09-19</td>\n",
       "      <td>https://www.nature.com/articles/s43016-022-005...</td>\n",
       "      <td>Open Access</td>\n",
       "      <td>Agricultural Sciences</td>\n",
       "    </tr>\n",
       "    <tr>\n",
       "      <th>5</th>\n",
       "      <td>Global food insecurity and famine from reduced...</td>\n",
       "      <td>https://www.nature.com/articles/s43016-022-005...</td>\n",
       "      <td>Lili Xia, Alan Robock, Ryan Heneghan</td>\n",
       "      <td>2022-08-15</td>\n",
       "      <td>https://www.nature.com/articles/s43016-022-005...</td>\n",
       "      <td>Open Access</td>\n",
       "      <td>Agricultural Sciences</td>\n",
       "    </tr>\n",
       "    <tr>\n",
       "      <th>6</th>\n",
       "      <td>A shift from cattle to camel and goat farming ...</td>\n",
       "      <td>https://www.nature.com/articles/s43016-022-005...</td>\n",
       "      <td>Jaber Rahimi, Erwann Fillol, Klaus Butterbach-...</td>\n",
       "      <td>2022-07-21</td>\n",
       "      <td>https://www.nature.com/articles/s43016-022-005...</td>\n",
       "      <td>Open Access</td>\n",
       "      <td>Agricultural Sciences</td>\n",
       "    </tr>\n",
       "    <tr>\n",
       "      <th>7</th>\n",
       "      <td>Time management governs climate resilience and...</td>\n",
       "      <td>https://www.nature.com/articles/s43016-022-005...</td>\n",
       "      <td>Andrew J. McDonald, Balwinder-Singh, R. K. Malik</td>\n",
       "      <td>2022-07-21</td>\n",
       "      <td>https://www.nature.com/articles/s43016-022-005...</td>\n",
       "      <td>Open Access</td>\n",
       "      <td>Agricultural Sciences</td>\n",
       "    </tr>\n",
       "    <tr>\n",
       "      <th>8</th>\n",
       "      <td>A hybrid inorganic–biological artificial photo...</td>\n",
       "      <td>https://www.nature.com/articles/s43016-022-005...</td>\n",
       "      <td>Elizabeth C. Hann, Sean Overa, Robert E. Jinke...</td>\n",
       "      <td>2022-06-23</td>\n",
       "      <td>https://www.nature.com/articles/s43016-022-005...</td>\n",
       "      <td>Open Access</td>\n",
       "      <td>Agricultural Sciences</td>\n",
       "    </tr>\n",
       "    <tr>\n",
       "      <th>9</th>\n",
       "      <td>A systematic review of the definitions and int...</td>\n",
       "      <td>https://www.nature.com/articles/s43016-022-005...</td>\n",
       "      <td>Kajsa Resare Sahlin, Joanna Trewern</td>\n",
       "      <td>2022-06-23</td>\n",
       "      <td>https://www.nature.com/articles/s43016-022-005...</td>\n",
       "      <td>Open Access</td>\n",
       "      <td>Agricultural Sciences</td>\n",
       "    </tr>\n",
       "    <tr>\n",
       "      <th>10</th>\n",
       "      <td>Crop harvests for direct food use insufficient...</td>\n",
       "      <td>https://www.nature.com/articles/s43016-022-005...</td>\n",
       "      <td>Deepak K. Ray, Lindsey L. Sloat, Wei Xie</td>\n",
       "      <td>2022-05-12</td>\n",
       "      <td>https://www.nature.com/articles/s43016-022-005...</td>\n",
       "      <td>Open Access</td>\n",
       "      <td>Agricultural Sciences</td>\n",
       "    </tr>\n",
       "    <tr>\n",
       "      <th>11</th>\n",
       "      <td>Southeast Asia must narrow down the yield gap ...</td>\n",
       "      <td>https://www.nature.com/articles/s43016-022-004...</td>\n",
       "      <td>Shen Yuan, Alexander M. Stuart, Patricio Grassini</td>\n",
       "      <td>2022-03-24</td>\n",
       "      <td>https://www.nature.com/articles/s43016-022-004...</td>\n",
       "      <td>Open Access</td>\n",
       "      <td>Agricultural Sciences</td>\n",
       "    </tr>\n",
       "    <tr>\n",
       "      <th>12</th>\n",
       "      <td>Establishing long-term nitrogen response of gl...</td>\n",
       "      <td>https://www.nature.com/articles/s43016-021-004...</td>\n",
       "      <td>Hans J. M. van Grinsven, Peter Ebanyat, Hein F...</td>\n",
       "      <td>2022-01-31</td>\n",
       "      <td>https://www.nature.com/articles/s43016-021-004...</td>\n",
       "      <td>Open Access</td>\n",
       "      <td>Agricultural Sciences</td>\n",
       "    </tr>\n",
       "    <tr>\n",
       "      <th>13</th>\n",
       "      <td>Circularity in animal production requires a ch...</td>\n",
       "      <td>https://www.nature.com/articles/s43016-021-004...</td>\n",
       "      <td>Benjamin van Selm, Anita Frehner, Hannah H. E....</td>\n",
       "      <td>2022-01-06</td>\n",
       "      <td>https://www.nature.com/articles/s43016-021-004...</td>\n",
       "      <td>Open Access</td>\n",
       "      <td>Agricultural Sciences</td>\n",
       "    </tr>\n",
       "    <tr>\n",
       "      <th>14</th>\n",
       "      <td>Global maps of cropland extent and change show...</td>\n",
       "      <td>https://www.nature.com/articles/s43016-021-004...</td>\n",
       "      <td>Peter Potapov, Svetlana Turubanova, Jocelyn Co...</td>\n",
       "      <td>2021-12-23</td>\n",
       "      <td>https://www.nature.com/articles/s43016-021-004...</td>\n",
       "      <td>Open Access</td>\n",
       "      <td>Agricultural Sciences</td>\n",
       "    </tr>\n",
       "    <tr>\n",
       "      <th>15</th>\n",
       "      <td>Diet and lifestyle behaviour disruption relate...</td>\n",
       "      <td>https://www.nature.com/articles/s43016-021-003...</td>\n",
       "      <td>Mohsen Mazidi, Emily R. Leeming, Sarah E. Berry</td>\n",
       "      <td>2021-12-16</td>\n",
       "      <td>https://www.nature.com/articles/s43016-021-003...</td>\n",
       "      <td>Open Access</td>\n",
       "      <td>Agricultural Sciences</td>\n",
       "    </tr>\n",
       "    <tr>\n",
       "      <th>16</th>\n",
       "      <td>Short- and long-term warming effects of methan...</td>\n",
       "      <td>https://www.nature.com/articles/s43016-021-003...</td>\n",
       "      <td>Ignacio Pérez-Domínguez, Agustin del Prado, Ma...</td>\n",
       "      <td>2021-12-13</td>\n",
       "      <td>https://www.nature.com/articles/s43016-021-003...</td>\n",
       "      <td>Open Access</td>\n",
       "      <td>Agricultural Sciences</td>\n",
       "    </tr>\n",
       "    <tr>\n",
       "      <th>17</th>\n",
       "      <td>Spatial frameworks for robust estimation of yi...</td>\n",
       "      <td>https://www.nature.com/articles/s43016-021-003...</td>\n",
       "      <td>Juan I. Rattalino Edreira, José F. Andrade, Pa...</td>\n",
       "      <td>2021-09-30</td>\n",
       "      <td>https://www.nature.com/articles/s43016-021-003...</td>\n",
       "      <td>Open Access</td>\n",
       "      <td>Agricultural Sciences</td>\n",
       "    </tr>\n",
       "    <tr>\n",
       "      <th>18</th>\n",
       "      <td>A scoping review of the contributions of farme...</td>\n",
       "      <td>https://www.nature.com/articles/s43016-020-001...</td>\n",
       "      <td>Livia Bizikova, Ephraim Nkonya, Beth Timmers</td>\n",
       "      <td>2020-10-12</td>\n",
       "      <td>https://www.nature.com/articles/s43016-020-001...</td>\n",
       "      <td>Open Access</td>\n",
       "      <td>Agricultural Sciences</td>\n",
       "    </tr>\n",
       "    <tr>\n",
       "      <th>19</th>\n",
       "      <td>A systematic review of employment outcomes fro...</td>\n",
       "      <td>https://www.nature.com/articles/s43016-020-001...</td>\n",
       "      <td>W. H. Eugenie Maïga, Mohamed Porgo, Gracian Ch...</td>\n",
       "      <td>2020-10-12</td>\n",
       "      <td>https://www.nature.com/articles/s43016-020-001...</td>\n",
       "      <td>Open Access</td>\n",
       "      <td>Agricultural Sciences</td>\n",
       "    </tr>\n",
       "  </tbody>\n",
       "</table>\n",
       "</div>"
      ],
      "text/plain": [
       "                                                Title  \\\n",
       "0   Transfer of cannabinoids into the milk of dair...   \n",
       "1   A systematic scoping review of the sustainabil...   \n",
       "2   Rights and representation support justice acro...   \n",
       "3   Global dietary quality in 185 countries from 1...   \n",
       "4   Food system by-products upcycled in livestock ...   \n",
       "5   Global food insecurity and famine from reduced...   \n",
       "6   A shift from cattle to camel and goat farming ...   \n",
       "7   Time management governs climate resilience and...   \n",
       "8   A hybrid inorganic–biological artificial photo...   \n",
       "9   A systematic review of the definitions and int...   \n",
       "10  Crop harvests for direct food use insufficient...   \n",
       "11  Southeast Asia must narrow down the yield gap ...   \n",
       "12  Establishing long-term nitrogen response of gl...   \n",
       "13  Circularity in animal production requires a ch...   \n",
       "14  Global maps of cropland extent and change show...   \n",
       "15  Diet and lifestyle behaviour disruption relate...   \n",
       "16  Short- and long-term warming effects of methan...   \n",
       "17  Spatial frameworks for robust estimation of yi...   \n",
       "18  A scoping review of the contributions of farme...   \n",
       "19  A systematic review of employment outcomes fro...   \n",
       "\n",
       "                                                  URL  \\\n",
       "0   https://www.nature.com/articles/s43016-022-006...   \n",
       "1   https://www.nature.com/articles/s43016-022-006...   \n",
       "2   https://www.nature.com/articles/s43016-022-006...   \n",
       "3   https://www.nature.com/articles/s43016-022-005...   \n",
       "4   https://www.nature.com/articles/s43016-022-005...   \n",
       "5   https://www.nature.com/articles/s43016-022-005...   \n",
       "6   https://www.nature.com/articles/s43016-022-005...   \n",
       "7   https://www.nature.com/articles/s43016-022-005...   \n",
       "8   https://www.nature.com/articles/s43016-022-005...   \n",
       "9   https://www.nature.com/articles/s43016-022-005...   \n",
       "10  https://www.nature.com/articles/s43016-022-005...   \n",
       "11  https://www.nature.com/articles/s43016-022-004...   \n",
       "12  https://www.nature.com/articles/s43016-021-004...   \n",
       "13  https://www.nature.com/articles/s43016-021-004...   \n",
       "14  https://www.nature.com/articles/s43016-021-004...   \n",
       "15  https://www.nature.com/articles/s43016-021-003...   \n",
       "16  https://www.nature.com/articles/s43016-021-003...   \n",
       "17  https://www.nature.com/articles/s43016-021-003...   \n",
       "18  https://www.nature.com/articles/s43016-020-001...   \n",
       "19  https://www.nature.com/articles/s43016-020-001...   \n",
       "\n",
       "                               Authors (compact list)  Published  \\\n",
       "0      Bettina Wagner, Pietro Gerletti, Robert Pieper 2022-11-14   \n",
       "1     A. Charlotte Bunge, Amanda Wood, Line J. Gordon 2022-11-03   \n",
       "2   Christina C. Hicks, Jessica A. Gephart, Rosamo... 2022-10-18   \n",
       "3        Victoria Miller, Patrick Webb, Rubina Hakeem 2022-09-19   \n",
       "4         Vilma Sandström, Anna Chrysafi, Matti Kummu 2022-09-19   \n",
       "5                Lili Xia, Alan Robock, Ryan Heneghan 2022-08-15   \n",
       "6   Jaber Rahimi, Erwann Fillol, Klaus Butterbach-... 2022-07-21   \n",
       "7    Andrew J. McDonald, Balwinder-Singh, R. K. Malik 2022-07-21   \n",
       "8   Elizabeth C. Hann, Sean Overa, Robert E. Jinke... 2022-06-23   \n",
       "9                 Kajsa Resare Sahlin, Joanna Trewern 2022-06-23   \n",
       "10           Deepak K. Ray, Lindsey L. Sloat, Wei Xie 2022-05-12   \n",
       "11  Shen Yuan, Alexander M. Stuart, Patricio Grassini 2022-03-24   \n",
       "12  Hans J. M. van Grinsven, Peter Ebanyat, Hein F... 2022-01-31   \n",
       "13  Benjamin van Selm, Anita Frehner, Hannah H. E.... 2022-01-06   \n",
       "14  Peter Potapov, Svetlana Turubanova, Jocelyn Co... 2021-12-23   \n",
       "15    Mohsen Mazidi, Emily R. Leeming, Sarah E. Berry 2021-12-16   \n",
       "16  Ignacio Pérez-Domínguez, Agustin del Prado, Ma... 2021-12-13   \n",
       "17  Juan I. Rattalino Edreira, José F. Andrade, Pa... 2021-09-30   \n",
       "18       Livia Bizikova, Ephraim Nkonya, Beth Timmers 2020-10-12   \n",
       "19  W. H. Eugenie Maïga, Mohamed Porgo, Gracian Ch... 2020-10-12   \n",
       "\n",
       "                                              PDF URL  Open Access  \\\n",
       "0   https://www.nature.com/articles/s43016-022-006...  Open Access   \n",
       "1   https://www.nature.com/articles/s43016-022-006...  Open Access   \n",
       "2   https://www.nature.com/articles/s43016-022-006...  Open Access   \n",
       "3   https://www.nature.com/articles/s43016-022-005...  Open Access   \n",
       "4   https://www.nature.com/articles/s43016-022-005...  Open Access   \n",
       "5   https://www.nature.com/articles/s43016-022-005...  Open Access   \n",
       "6   https://www.nature.com/articles/s43016-022-005...  Open Access   \n",
       "7   https://www.nature.com/articles/s43016-022-005...  Open Access   \n",
       "8   https://www.nature.com/articles/s43016-022-005...  Open Access   \n",
       "9   https://www.nature.com/articles/s43016-022-005...  Open Access   \n",
       "10  https://www.nature.com/articles/s43016-022-005...  Open Access   \n",
       "11  https://www.nature.com/articles/s43016-022-004...  Open Access   \n",
       "12  https://www.nature.com/articles/s43016-021-004...  Open Access   \n",
       "13  https://www.nature.com/articles/s43016-021-004...  Open Access   \n",
       "14  https://www.nature.com/articles/s43016-021-004...  Open Access   \n",
       "15  https://www.nature.com/articles/s43016-021-003...  Open Access   \n",
       "16  https://www.nature.com/articles/s43016-021-003...  Open Access   \n",
       "17  https://www.nature.com/articles/s43016-021-003...  Open Access   \n",
       "18  https://www.nature.com/articles/s43016-020-001...  Open Access   \n",
       "19  https://www.nature.com/articles/s43016-020-001...  Open Access   \n",
       "\n",
       "        Area of Knowledge  \n",
       "0   Agricultural Sciences  \n",
       "1   Agricultural Sciences  \n",
       "2   Agricultural Sciences  \n",
       "3   Agricultural Sciences  \n",
       "4   Agricultural Sciences  \n",
       "5   Agricultural Sciences  \n",
       "6   Agricultural Sciences  \n",
       "7   Agricultural Sciences  \n",
       "8   Agricultural Sciences  \n",
       "9   Agricultural Sciences  \n",
       "10  Agricultural Sciences  \n",
       "11  Agricultural Sciences  \n",
       "12  Agricultural Sciences  \n",
       "13  Agricultural Sciences  \n",
       "14  Agricultural Sciences  \n",
       "15  Agricultural Sciences  \n",
       "16  Agricultural Sciences  \n",
       "17  Agricultural Sciences  \n",
       "18  Agricultural Sciences  \n",
       "19  Agricultural Sciences  "
      ]
     },
     "execution_count": 22,
     "metadata": {},
     "output_type": "execute_result"
    }
   ],
   "source": [
    "df_nature_food_open_access = df_nature_food[df_nature_food['Open Access'] == 'Open Access']\n",
    "df_nature_food_open_access = df_nature_food_open_access[df_nature_food_open_access['Published'] <= '2022-11-30']\n",
    "df_nature_food_open_access = df_nature_food_open_access.reset_index(drop=True)\n",
    "df_nature_food_open_access"
   ]
  },
  {
   "cell_type": "markdown",
   "id": "1c520157-f0ed-4066-ae91-8b557fe4f22e",
   "metadata": {},
   "source": [
    "#### Inspecting a few articles"
   ]
  },
  {
   "cell_type": "code",
   "execution_count": 23,
   "id": "327e6912-7273-49ca-b27c-df2d4de5a0cd",
   "metadata": {},
   "outputs": [
    {
     "data": {
      "text/plain": [
       "'https://www.nature.com/articles/s43016-022-00623-7.pdf'"
      ]
     },
     "execution_count": 23,
     "metadata": {},
     "output_type": "execute_result"
    }
   ],
   "source": [
    "df_nature_food_open_access.at[0, 'PDF URL']"
   ]
  },
  {
   "cell_type": "markdown",
   "id": "c633fcd5-b991-492b-abf2-11a5352349c0",
   "metadata": {},
   "source": [
    "#### Exporting to a file"
   ]
  },
  {
   "cell_type": "code",
   "execution_count": 24,
   "id": "88a8cfd3-8910-4af9-a8c3-97e18552edc7",
   "metadata": {},
   "outputs": [],
   "source": [
    "df_nature_food_open_access.to_json(f\"{output_directory}/nature_food_open_access.jsonl\", orient='records', lines=True)"
   ]
  },
  {
   "cell_type": "markdown",
   "id": "985bb967-5600-4b00-9434-f73d67067030",
   "metadata": {},
   "source": [
    "### Scraping [Nature Sustainability](https://www.nature.com/natsustain/)"
   ]
  },
  {
   "cell_type": "markdown",
   "id": "3b3fdec0-841c-43ab-a818-82fb13001b25",
   "metadata": {},
   "source": [
    "### Scraping [Plant Biotechnology Journal](https://onlinelibrary.wiley.com/journal/14677652?msockid=0525cb73d9a76a060b80df20d87e6b4b)"
   ]
  },
  {
   "cell_type": "markdown",
   "id": "08aa4ade-f323-4614-ab65-535d3e6f3d1b",
   "metadata": {},
   "source": [
    "## Applied Social Sciences"
   ]
  },
  {
   "cell_type": "markdown",
   "id": "dfd479fd-73c9-4ca6-ae2f-f9c9dd07ab28",
   "metadata": {},
   "source": [
    "### Scraping [Journal of Applied Social Science](https://journals.sagepub.com/home/jax)"
   ]
  },
  {
   "cell_type": "markdown",
   "id": "18de5943-41e4-42f6-b412-5989543c79e1",
   "metadata": {},
   "source": [
    "### Scraping [Journal of Social Issues](https://spssi.onlinelibrary.wiley.com/journal/15404560)"
   ]
  },
  {
   "cell_type": "markdown",
   "id": "7c58a660-738e-4042-ae4b-3ca8efc965d1",
   "metadata": {},
   "source": [
    "### Scraping [Social Science & Medicine](https://www.sciencedirect.com/journal/social-science-and-medicine)"
   ]
  },
  {
   "cell_type": "markdown",
   "id": "b2e95c03-f16d-4847-b80b-aaef8f4001d0",
   "metadata": {},
   "source": [
    "### Scraping [Sociological Practice Association](https://digitalcommons.wayne.edu/socprac/)"
   ]
  },
  {
   "cell_type": "markdown",
   "id": "56ad1a87-273f-4ebd-83b0-cd40c98f2f68",
   "metadata": {},
   "source": [
    "## Biological Sciences"
   ]
  },
  {
   "cell_type": "markdown",
   "id": "047230e5-8d93-42b1-8fc6-a560d931a960",
   "metadata": {},
   "source": [
    "### Scraping [Cell](https://www.cell.com/cell/home)"
   ]
  },
  {
   "cell_type": "markdown",
   "id": "b49e8636-03dd-467a-beb0-097da958fd4d",
   "metadata": {},
   "source": [
    "### Scraping [Nature Medicine](https://www.nature.com/nm/)"
   ]
  },
  {
   "cell_type": "markdown",
   "id": "b5d54919-de3b-4cde-bdbe-d54cdc92052a",
   "metadata": {},
   "source": [
    "### Scraping [Nature Reviews Molecular Cell Biology](https://www.nature.com/nrm/)"
   ]
  },
  {
   "cell_type": "markdown",
   "id": "2a0ab665-4d38-422d-ac26-0d4686121f3b",
   "metadata": {},
   "source": [
    "## Engineering"
   ]
  },
  {
   "cell_type": "markdown",
   "id": "e6534181-024d-4916-9552-cbd2d3e65708",
   "metadata": {},
   "source": [
    "### Scraping [Advanced Materials](https://onlinelibrary.wiley.com/journal/15214095?msockid=0525cb73d9a76a060b80df20d87e6b4b)"
   ]
  },
  {
   "cell_type": "markdown",
   "id": "57f988fa-5401-4c05-b60f-ff69482fae4e",
   "metadata": {},
   "source": [
    "### Scraping [IEEE Communications Surveys and Tutorials](https://ieeexplore.ieee.org/document/9621329)"
   ]
  },
  {
   "cell_type": "markdown",
   "id": "f1060e0d-ff39-4d2f-9ab3-cf480396fc5d",
   "metadata": {},
   "source": [
    "### Scraping [IEEE Transactions on Robotics](https://ieeexplore.ieee.org/xpl/RecentIssue.jsp?punumber=8860)"
   ]
  },
  {
   "cell_type": "markdown",
   "id": "679f615c-1a71-44fe-bfd0-baa7b02f0ca8",
   "metadata": {},
   "source": [
    "### Scraping [Nature Materials](https://www.nature.com/nmat/)"
   ]
  },
  {
   "cell_type": "markdown",
   "id": "473a7fad-a064-43bb-8394-83a036db9126",
   "metadata": {},
   "source": [
    "### Scraping [Nature Nanotechnology](https://www.nature.com/nnano/)"
   ]
  },
  {
   "cell_type": "markdown",
   "id": "b4b5740c-2ddd-4d54-9451-21420fc90120",
   "metadata": {},
   "source": [
    "## Exact and Earth Sciences"
   ]
  },
  {
   "cell_type": "markdown",
   "id": "fa382f92-5f89-4681-9471-8f3e277b1a19",
   "metadata": {},
   "source": [
    "### Scraping [Annual Review of Earth and Planetary Sciences](https://www.annualreviews.org/content/journals/earth)"
   ]
  },
  {
   "cell_type": "markdown",
   "id": "a222f744-4281-43a6-b6d2-69bf453aed62",
   "metadata": {},
   "source": [
    "### Scraping [Journal of Geophysical Research: Solid Earth](https://agupubs.onlinelibrary.wiley.com/journal/21699356)"
   ]
  },
  {
   "cell_type": "markdown",
   "id": "51a11036-d187-40b6-879d-dfe4c43099d1",
   "metadata": {},
   "source": [
    "### Scraping [Nature Geoscience](https://www.nature.com/ngeo/)"
   ]
  },
  {
   "cell_type": "markdown",
   "id": "608c6492-4cdc-42c0-ad93-d342d33027a5",
   "metadata": {},
   "source": [
    "### Scraping [Reviews of Geophysics](https://agupubs.onlinelibrary.wiley.com/journal/19449208)"
   ]
  },
  {
   "cell_type": "markdown",
   "id": "357d8f1b-67e2-4f6e-9ea2-6ac90268b563",
   "metadata": {},
   "source": [
    "## Health Sciences"
   ]
  },
  {
   "cell_type": "markdown",
   "id": "25d5c9f0-b4de-4de3-af9b-cf37bafb9ebb",
   "metadata": {},
   "source": [
    "### Scraping [Annual Review of Public Health](https://www.annualreviews.org/content/journals/publhealth)"
   ]
  },
  {
   "cell_type": "markdown",
   "id": "66b5de4e-62e7-430b-ad93-a233054aa701",
   "metadata": {},
   "source": [
    "### Scraping [Lancet Public Health](https://www.thelancet.com/journals/lanpub/home)"
   ]
  },
  {
   "cell_type": "markdown",
   "id": "23bcf804-eaec-46a3-a67f-9b9028025757",
   "metadata": {},
   "source": [
    "### Scraping [Nature Reviews Cancer](https://www.nature.com/nrc/)"
   ]
  },
  {
   "cell_type": "markdown",
   "id": "0515e75d-ebd0-416e-8aab-30435d5713e6",
   "metadata": {},
   "source": [
    "### Scraping [New England Journal of Medicine](https://www.nejm.org/)"
   ]
  },
  {
   "cell_type": "markdown",
   "id": "70d2b272-340d-4138-88e3-2c14cac21ffb",
   "metadata": {},
   "source": [
    "### Scraping [The Lancet](https://www.thelancet.com/journals/lancet/home)"
   ]
  },
  {
   "cell_type": "markdown",
   "id": "46234a25-f80c-4c82-87d3-ad6ded69478c",
   "metadata": {},
   "source": [
    "## Human Sciences"
   ]
  },
  {
   "cell_type": "markdown",
   "id": "dba07cea-5aea-4239-a1de-1c5f8390aecc",
   "metadata": {},
   "source": [
    "### Scraping [American Journal of Human Biology](https://onlinelibrary.wiley.com/journal/15206300?msockid=0525cb73d9a76a060b80df20d87e6b4b)"
   ]
  },
  {
   "cell_type": "markdown",
   "id": "a619f0f8-bd60-44e2-8347-b280e9ffbca6",
   "metadata": {},
   "source": [
    "### Scraping [Annual Review of Anthropology](https://www.annualreviews.org/content/journals/anthro)"
   ]
  },
  {
   "cell_type": "markdown",
   "id": "7fc8f8cf-3af0-463e-99b3-c6a15fa0a713",
   "metadata": {},
   "source": [
    "### Scraping [Journal of Human Evolution](https://www.sciencedirect.com/journal/journal-of-human-evolution)"
   ]
  },
  {
   "cell_type": "markdown",
   "id": "10419f0d-9db9-4bc2-9520-89192d9be03b",
   "metadata": {},
   "source": [
    "## Linguistics, literature and arts"
   ]
  },
  {
   "cell_type": "markdown",
   "id": "ff024cb5-3472-4a81-906e-d561e9cfdbcc",
   "metadata": {},
   "source": [
    "### Scraping [Applied Corpus Linguistics](https://www.sciencedirect.com/journal/applied-corpus-linguistics)"
   ]
  },
  {
   "cell_type": "markdown",
   "id": "762d3cd3-e0e2-4702-b207-7dafe3185f08",
   "metadata": {},
   "source": [
    "### Scraping [Journal of Aesthetic Education](https://press-jae.scholasticahq.com/)"
   ]
  },
  {
   "cell_type": "markdown",
   "id": "d2d30cfb-e8e2-4a2e-aa15-7c9a532ca37c",
   "metadata": {},
   "source": [
    "### Scraping [Journal of English Linguistics](https://journals.sagepub.com/home/eng)"
   ]
  },
  {
   "cell_type": "markdown",
   "id": "fd58fd0c-d67d-4f96-86c6-c3adf57038ec",
   "metadata": {},
   "source": [
    "### Scraping [Modern Language Review](https://www.mhra.org.uk/journals/MLR)"
   ]
  },
  {
   "cell_type": "markdown",
   "id": "a211e5be-fac7-494e-9d93-5da0556a27a7",
   "metadata": {},
   "source": [
    "### Scraping [PMLA: Publications of the Modern Language Association](https://www.mla.org/Publications/Journals/PMLA)"
   ]
  },
  {
   "cell_type": "code",
   "execution_count": null,
   "id": "5962add8-2db7-4c55-992f-d3ffacd363f2",
   "metadata": {},
   "outputs": [],
   "source": []
  }
 ],
 "metadata": {
  "kernelspec": {
   "display_name": "Python 3 (ipykernel)",
   "language": "python",
   "name": "python3"
  },
  "language_info": {
   "codemirror_mode": {
    "name": "ipython",
    "version": 3
   },
   "file_extension": ".py",
   "mimetype": "text/x-python",
   "name": "python",
   "nbconvert_exporter": "python",
   "pygments_lexer": "ipython3",
   "version": "3.10.12"
  }
 },
 "nbformat": 4,
 "nbformat_minor": 5
}
